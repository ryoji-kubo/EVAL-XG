{
 "cells": [
  {
   "cell_type": "code",
   "execution_count": 1,
   "id": "b77d090d",
   "metadata": {},
   "outputs": [],
   "source": [
    "%matplotlib inline\n",
    "import matplotlib.pyplot as plt\n",
    "from torch_geometric.utils import *\n",
    "from torch_geometric.data import Data\n",
    "import torch\n",
    "import random\n",
    "import numpy as np\n",
    "random.seed()\n",
    "import torch.nn as nn\n",
    "import torch.nn.functional as F\n",
    "from torch_geometric.nn import GCNConv\n",
    "from torch_geometric.nn import GNNExplainer\n",
    "import networkx as nx\n",
    "import pandas as pd"
   ]
  },
  {
   "cell_type": "code",
   "execution_count": 2,
   "id": "062194cf",
   "metadata": {},
   "outputs": [
    {
     "name": "stdout",
     "output_type": "stream",
     "text": [
      "Using cuda device\n"
     ]
    }
   ],
   "source": [
    "device = \"cuda\" if torch.cuda.is_available() else \"cpu\"\n",
    "print(f\"Using {device} device\")"
   ]
  },
  {
   "cell_type": "markdown",
   "id": "567d3508",
   "metadata": {},
   "source": [
    "Make Synthetic Dataset 1 Cycle"
   ]
  },
  {
   "cell_type": "code",
   "execution_count": 3,
   "id": "d3197b9b",
   "metadata": {},
   "outputs": [],
   "source": [
    "def get_label(X, E, k_1, k_2):\n",
    "    '''\n",
    "    X: Node Feature Set\n",
    "    E: Edge Index\n",
    "    k_1: Const. for s(x)\n",
    "    k_2: Const. for n(x)\n",
    "    '''\n",
    "    Ft_Sum = torch.sum(X,dim=1,keepdim=True)\n",
    "    S = torch.exp(Ft_Sum - k_1)\n",
    "    N = torch.exp(Ft_Sum - k_2)\n",
    "    A = to_dense_adj(E)\n",
    "    A = A.squeeze()\n",
    "    N = torch.matmul(A, N)\n",
    "    F = S + N\n",
    "    P = 1/(1+F)\n",
    "    Y = torch.bernoulli(P)\n",
    "    # Y = Y.long()\n",
    "    return Y, P"
   ]
  },
  {
   "cell_type": "code",
   "execution_count": 4,
   "id": "6d7e0ddd",
   "metadata": {},
   "outputs": [],
   "source": [
    "# of Nodes\n",
    "V = 2000\n",
    "train_index = int(V*0.7)\n",
    "val_index = int(V*0.7)+int(V*0.15)"
   ]
  },
  {
   "cell_type": "code",
   "execution_count": 5,
   "id": "77835665",
   "metadata": {},
   "outputs": [],
   "source": [
    "N1 = torch.normal(mean=2, std=1.0,size = (V,3))\n",
    "N2 = torch.normal(mean=-2, std=1.0,size = (V,3))\n",
    "Prob = torch.rand(V,3)\n",
    "X = torch.where(Prob>0.5, N1, N2)"
   ]
  },
  {
   "cell_type": "code",
   "execution_count": 6,
   "id": "8636aee0",
   "metadata": {},
   "outputs": [],
   "source": [
    "## Generate Synthetic Dataset\n",
    "#edge list\n",
    "G = nx.generators.classic.cycle_graph(V)\n",
    "data = from_networkx(G)\n",
    "\n",
    "#transform features into an exponent of them\n",
    "Exp_X = torch.exp(X)\n",
    "#unimportant features\n",
    "Extension = torch.exp(torch.normal(mean=0.0, std=1.0,size=(V,2)))\n",
    "data.x = torch.cat((Exp_X, Extension), 1)\n",
    "#label\n",
    "Y,P = get_label(X, data.edge_index, 3, 3)\n",
    "data.y = Y\n",
    "# train val test mask\n",
    "train = torch.zeros(V, dtype=torch.bool)\n",
    "val = torch.zeros(V, dtype=torch.bool)\n",
    "test = torch.zeros(V, dtype=torch.bool)\n",
    "train[:train_index] = True\n",
    "val[train_index:val_index] = True\n",
    "test[val_index:] = True\n",
    "data.train_mask = train\n",
    "data.val_mask = val\n",
    "data.test_mask = test"
   ]
  },
  {
   "cell_type": "code",
   "execution_count": 12,
   "id": "7f0d9d25",
   "metadata": {},
   "outputs": [],
   "source": [
    "data_x = pd.DataFrame(data.x)\n",
    "data_x.to_csv('./Synthetic_Data/Data1/data_x')\n",
    "data_edge_index = pd.DataFrame(data.edge_index)\n",
    "data_edge_index.to_csv('./Synthetic_Data/Data1/data_edge_index')\n",
    "data_y = pd.DataFrame(data.y)\n",
    "data_y.to_csv('./Synthetic_Data/Data1/data_y')\n",
    "data_P = pd.DataFrame(P)\n",
    "data_P.to_csv('./Synthetic_Data/Data1/bernoulli_prob')\n",
    "data_train_mask = pd.DataFrame(data.train_mask)\n",
    "data_train_mask.to_csv('./Synthetic_Data/Data1/data_train_mask')\n",
    "data_val_mask = pd.DataFrame(data.val_mask)\n",
    "data_val_mask.to_csv('./Synthetic_Data/Data1/data_val_mask')\n",
    "data_test_mask = pd.DataFrame(data.test_mask)\n",
    "data_test_mask.to_csv('./Synthetic_Data/Data1/data_test_mask')"
   ]
  },
  {
   "cell_type": "code",
   "execution_count": 13,
   "id": "af89abf2",
   "metadata": {},
   "outputs": [
    {
     "name": "stdout",
     "output_type": "stream",
     "text": [
      "tensor(837.)\n",
      "tensor(1163.)\n"
     ]
    },
    {
     "data": {
      "text/plain": [
       "<BarContainer object of 2 artists>"
      ]
     },
     "execution_count": 13,
     "metadata": {},
     "output_type": "execute_result"
    },
    {
     "data": {
      "image/png": "[encoded data removed]",
      "text/plain": [
       "<Figure size 432x288 with 1 Axes>"
      ]
     },
     "metadata": {
      "needs_background": "light"
     },
     "output_type": "display_data"
    }
   ],
   "source": [
    "#label distribution\n",
    "ones = Y.sum()\n",
    "print(ones)\n",
    "zeros = V - ones\n",
    "print(zeros)\n",
    "plt.bar([0,1],[zeros,ones])"
   ]
  },
  {
   "cell_type": "code",
   "execution_count": 14,
   "id": "714a6068",
   "metadata": {},
   "outputs": [
    {
     "name": "stdout",
     "output_type": "stream",
     "text": [
      "0.84\n"
     ]
    }
   ],
   "source": [
    "## Optimal Prediction\n",
    "pred = torch.round(P)  # Use the class with highest probability.\n",
    "correct = pred == data.y  # Check against ground-truth labels.\n",
    "# print(correct.sum())\n",
    "val_acc = int(correct.sum())/V  # Derive ratio of correct predictions.\n",
    "print(val_acc)"
   ]
  },
  {
   "cell_type": "code",
   "execution_count": 15,
   "id": "e45cb074",
   "metadata": {},
   "outputs": [
    {
     "data": {
      "text/plain": [
       "Data(edge_index=[2, 4000], num_nodes=2000, x=[2000, 5], y=[2000, 1], train_mask=[2000], val_mask=[2000], test_mask=[2000])"
      ]
     },
     "execution_count": 15,
     "metadata": {},
     "output_type": "execute_result"
    }
   ],
   "source": [
    "data.to(device)"
   ]
  },
  {
   "cell_type": "code",
   "execution_count": 16,
   "id": "f37d52bb",
   "metadata": {},
   "outputs": [
    {
     "data": {
      "text/plain": [
       "Data(edge_index=[2, 4000], num_nodes=2000, x=[2000, 5], y=[2000, 1], test_mask=[2000])"
      ]
     },
     "execution_count": 16,
     "metadata": {},
     "output_type": "execute_result"
    }
   ],
   "source": [
    "#Testing True Data Distribution with Dataset that has unimportant features masked with 0\n",
    "test_eval_x = torch.cat((Exp_X, torch.zeros(V,2)),1)\n",
    "test_eval_data = from_networkx(G)\n",
    "test_eval_data.x = test_eval_x\n",
    "test_eval_data.y = Y\n",
    "test_eval_data.test_mask = test\n",
    "test_eval_data.to(device)"
   ]
  },
  {
   "cell_type": "markdown",
   "id": "b3526430",
   "metadata": {},
   "source": [
    "Models"
   ]
  },
  {
   "cell_type": "code",
   "execution_count": 17,
   "id": "439a25eb",
   "metadata": {},
   "outputs": [],
   "source": [
    "@torch.no_grad()\n",
    "def Create_Samples(X, E, mask, p_1=0.5, p_2=0.5):\n",
    "    '''\n",
    "    Create a dataset for samples\n",
    "    X: Node Features\n",
    "    E: Edge Index\n",
    "    mask: the mask token to be used\n",
    "    p_1: the bernoulli prob. of masking for adjacency matrix\n",
    "    p_2: the bernoulli prob. of masking for features\n",
    "    '''\n",
    "    # Number of Nodes\n",
    "    V = X.size()[0] \n",
    "    # Number of Features\n",
    "    F = X.size()[1]\n",
    "\n",
    "    ## sampling random adjacency matrix\n",
    "    #Original Adj Matrix\n",
    "    A = to_dense_adj(E)\n",
    "    #Prob of Keeping Adj Matrix\n",
    "    P_adj = torch.rand(1,V,V).to(device)\n",
    "    C = torch.mul(A,P_adj)\n",
    "    #n stacks of Sample Adj Matrix\n",
    "    Sample_Adj = C > p_1\n",
    "    Sample_Adj,_ = dense_to_sparse(Sample_Adj)\n",
    "    \n",
    "    ## sampling random features\n",
    "    P_feature = torch.rand(1,F).to(device)\n",
    "    # Mask_feature = mask*torch.ones(1,F,dtype=torch.double).to(device)\n",
    "    mask = torch.as_tensor(mask, dtype=torch.float).to(device)\n",
    "    # mask = mask.double()\n",
    "    # print(mask)\n",
    "    # prob = torch.as_tensor(1-p_2, dtype=torch.double).to(device)\n",
    "    # prob = (1-p_2)*torch.ones(1,F,dtype=torch.double).to(device)\n",
    "    SF = torch.where(P_feature>(1-p_2),mask,X.float())\n",
    "    Sample_Ft = SF\n",
    "    \n",
    "    return Sample_Ft, Sample_Adj"
   ]
  },
  {
   "cell_type": "code",
   "execution_count": 18,
   "id": "6b5a8aac",
   "metadata": {},
   "outputs": [
    {
     "name": "stdout",
     "output_type": "stream",
     "text": [
      "Model(\n",
      "  (fc1): Linear(in_features=5, out_features=16, bias=True)\n",
      "  (bn1): BatchNorm1d(16, eps=1e-05, momentum=0.1, affine=True, track_running_stats=True)\n",
      "  (conv1): GCNConv(16, 16)\n",
      "  (fc2): Linear(in_features=16, out_features=16, bias=True)\n",
      "  (bn2): BatchNorm1d(16, eps=1e-05, momentum=0.1, affine=True, track_running_stats=True)\n",
      "  (fc3): Linear(in_features=16, out_features=1, bias=True)\n",
      "  (relu): ReLU()\n",
      "  (sigmoid): Sigmoid()\n",
      ")\n"
     ]
    }
   ],
   "source": [
    "class Model(torch.nn.Module):\n",
    "    def __init__(self, num_features, mask=-0.1, p_1=0, p_2=0):\n",
    "        super(Model, self).__init__()\n",
    "        self.fc1 = nn.Linear(num_features, 16)\n",
    "        self.bn1 = nn.BatchNorm1d(16)\n",
    "        self.conv1 = GCNConv(16, 16)\n",
    "        self.fc2 = nn.Linear(16, 16)\n",
    "        self.bn2 = nn.BatchNorm1d(16)\n",
    "        self.fc3 = nn.Linear(16,1)\n",
    "        self.relu = nn.ReLU()\n",
    "        self.sigmoid = nn.Sigmoid()\n",
    "        self.mask = False\n",
    "        self.mask_param = [mask, p_1, p_2]\n",
    "\n",
    "    def forward(self, x, edge_index):\n",
    "        if self.mask == False:\n",
    "            E = edge_index\n",
    "            X = x\n",
    "            self.mask = True\n",
    "        else:\n",
    "            X, E = Create_Samples(x, edge_index, self.mask_param[0], self.mask_param[1], self.mask_param[2])\n",
    "        x = self.fc1(X)\n",
    "        x = self.relu(x)\n",
    "        x = self.bn1(x)\n",
    "        x = F.dropout(x, p=0.5, training=self.training)\n",
    "        x = self.conv1(x, E)\n",
    "        x = self.relu(x)\n",
    "        x = F.dropout(x, p=0.5, training=self.training)\n",
    "        x = self.fc2(x)\n",
    "        x = self.relu(x)\n",
    "        x = self.bn2(x)\n",
    "        x = F.dropout(x, p=0.5, training=self.training)\n",
    "        x = self.fc3(x)\n",
    "        x = self.sigmoid(x)\n",
    "        return x\n",
    "    \n",
    "    def change_param(self, mask, p_1, p_2):\n",
    "        self.mask_param = [mask,p_1,p_2]\n",
    "\n",
    "    def mask_off(self):\n",
    "        self.mask = False\n",
    "        \n",
    "model = Model(num_features=5, mask=0, p_1 = 0, p_2=0)\n",
    "print(model)"
   ]
  },
  {
   "cell_type": "code",
   "execution_count": 19,
   "id": "cceda150",
   "metadata": {},
   "outputs": [],
   "source": [
    "@torch.no_grad()\n",
    "def validate(model):\n",
    "    model.eval()\n",
    "    model.mask_off()\n",
    "    out = model(data.x, data.edge_index)\n",
    "    val_loss = criterion(out[data.val_mask], data.y[data.val_mask])\n",
    "    pred = torch.round(out)  # Use the class with highest probability.\n",
    "    val_correct = pred[data.val_mask] == data.y[data.val_mask]  # Check against ground-truth labels.\n",
    "    val_acc = int(val_correct.sum()) / int(data.val_mask.sum())  # Derive ratio of correct predictions.\n",
    "    return val_loss, val_acc\n",
    "\n",
    "@torch.no_grad()\n",
    "def test(model):\n",
    "    model.eval()\n",
    "    model.mask_off()\n",
    "    out = model(data.x, data.edge_index)\n",
    "    pred = torch.round(out) # Use the class with highest probability.\n",
    "    test_correct = pred[data.test_mask] == data.y[data.test_mask]  # Check against ground-truth labels.\n",
    "    test_acc = int(test_correct.sum()) / int(data.test_mask.sum())  # Derive ratio of correct predictions.\n",
    "    return test_acc\n",
    "\n",
    "@torch.no_grad()\n",
    "def test_eval(model):\n",
    "    model.eval()\n",
    "    model.mask_off()\n",
    "    out = model(test_eval_data.x, test_eval_data.edge_index)\n",
    "    pred = torch.round(out) # Use the class with highest probability.\n",
    "    test_correct = pred[data.test_mask] == data.y[data.test_mask]  # Check against ground-truth labels.\n",
    "    test_acc = int(test_correct.sum()) / int(data.test_mask.sum())  # Derive ratio of correct predictions.\n",
    "    return test_acc"
   ]
  },
  {
   "cell_type": "code",
   "execution_count": 20,
   "id": "afecf059",
   "metadata": {},
   "outputs": [],
   "source": [
    "from IPython.display import clear_output\n",
    "@torch.no_grad()\n",
    "def live_plot(data_dict, figsize=(7,5), title=''):\n",
    "    clear_output(wait=True)\n",
    "    for label,data in data_dict.items():\n",
    "        plt.plot(data, label=label)\n",
    "    plt.title(title)\n",
    "    plt.grid(True)\n",
    "    plt.xlabel('epoch')\n",
    "    plt.legend(loc='upper right') # the plot evolves to the right\n",
    "    plt.show()"
   ]
  },
  {
   "cell_type": "code",
   "execution_count": 21,
   "id": "876497cd",
   "metadata": {},
   "outputs": [],
   "source": [
    "@torch.no_grad()\n",
    "def save_plot(data_dict, figsize=(7,5), title=''):\n",
    "    for label,data in data_dict.items():\n",
    "        plt.plot(data, label=label)\n",
    "    plt.title(title)\n",
    "    plt.grid(True)\n",
    "    plt.xlabel('epoch')\n",
    "    plt.legend(loc='upper right') # the plot evolves to the right\n",
    "    plt.savefig(f'{title}.png')"
   ]
  },
  {
   "cell_type": "markdown",
   "id": "4ef3d4c2",
   "metadata": {},
   "source": [
    "Model Trained on the Full Feature Set"
   ]
  },
  {
   "cell_type": "code",
   "execution_count": 65,
   "id": "34e82aec",
   "metadata": {},
   "outputs": [
    {
     "data": {
      "image/png": "[encoded data removed]",
      "text/plain": [
       "<Figure size 432x288 with 1 Axes>"
      ]
     },
     "metadata": {
      "needs_background": "light"
     },
     "output_type": "display_data"
    },
    {
     "name": "stdout",
     "output_type": "stream",
     "text": [
      "Val Accuracy: 0.7667\n",
      "best model taken from epoch: 391\n"
     ]
    }
   ],
   "source": [
    "model = Model(num_features=5, mask=0, p_1 = 0, p_2=0)\n",
    "model.to(device)\n",
    "optimizer = torch.optim.Adam(model.parameters(), lr=0.01, weight_decay=5e-4)\n",
    "criterion = torch.nn.BCELoss()\n",
    "\n",
    "def train(epoch):\n",
    "    model.train()\n",
    "    optimizer.zero_grad()  # Clear gradients.\n",
    "    out = model(data.x, data.edge_index)  # Perform a single forward pass.\n",
    "    loss = criterion(out[data.train_mask], data.y[data.train_mask])  # Compute the loss solely based on the training nodes.\n",
    "    loss.backward()  # Derive gradients.\n",
    "    optimizer.step()  # Update parameters based on gradients.\n",
    "    return loss\n",
    "\n",
    "losses = {'train':[], 'val': []}\n",
    "\n",
    "best_loss = 100\n",
    "final_epoch = 0\n",
    "for epoch in range(1, 500):\n",
    "    loss = train(epoch)\n",
    "    print(f'Epoch: {epoch:03d}, Loss: {loss:.4f}')\n",
    "    train_batch_losses = []\n",
    "    train_batch_losses.append(loss.cpu())\n",
    "    val_batch_losses = []\n",
    "    val_loss, val_acc = validate(model)\n",
    "    val_batch_losses.append(val_loss.cpu())\n",
    "    \n",
    "    if val_loss < best_loss:\n",
    "        torch.save(model.state_dict(), './Models/Full_Feature_5.pt')\n",
    "        best_loss = val_loss\n",
    "        final_epoch = epoch\n",
    "    \n",
    "    losses['train'].append(train_batch_losses)\n",
    "    losses['val'].append(val_batch_losses)\n",
    "    live_plot(losses)\n",
    "    print(f'Val Accuracy: {val_acc:.4f}')\n",
    "    print('best model taken from epoch:', final_epoch)"
   ]
  },
  {
   "cell_type": "code",
   "execution_count": 66,
   "id": "60629e3e",
   "metadata": {},
   "outputs": [
    {
     "name": "stdout",
     "output_type": "stream",
     "text": [
      "Validation: 0.7833333333333333\n",
      "Test: 0.79\n",
      "Test on Masked Unimp: 0.7866666666666666\n"
     ]
    }
   ],
   "source": [
    "model = Model(num_features=5, mask=0, p_1 = 0, p_2=0)\n",
    "model.load_state_dict(torch.load('./Models/Full_Feature_5.pt'))\n",
    "model.to(device)\n",
    "model.change_param(0,0,0)\n",
    "_, val_acc = validate(model)\n",
    "print('Validation:',val_acc)\n",
    "test_acc = test(model)\n",
    "print('Test:',test_acc)\n",
    "test_masked_acc = test_eval(model)\n",
    "print('Test on Masked Unimp:',test_masked_acc)"
   ]
  },
  {
   "cell_type": "code",
   "execution_count": 67,
   "id": "024e24e8",
   "metadata": {},
   "outputs": [
    {
     "data": {
      "image/png": "[encoded data removed]",
      "text/plain": [
       "<Figure size 432x288 with 1 Axes>"
      ]
     },
     "metadata": {
      "needs_background": "light"
     },
     "output_type": "display_data"
    }
   ],
   "source": [
    "save_plot(losses, title='Full_Feature_5')"
   ]
  },
  {
   "cell_type": "markdown",
   "id": "e8091d66",
   "metadata": {},
   "source": [
    "EVAL-XG"
   ]
  },
  {
   "cell_type": "code",
   "execution_count": 68,
   "id": "1ae77657",
   "metadata": {},
   "outputs": [
    {
     "data": {
      "image/png": "[encoded data removed]",
      "text/plain": [
       "<Figure size 432x288 with 1 Axes>"
      ]
     },
     "metadata": {
      "needs_background": "light"
     },
     "output_type": "display_data"
    },
    {
     "name": "stdout",
     "output_type": "stream",
     "text": [
      "Val Accuracy: 0.6200\n",
      "best model taken from epoch: 423\n"
     ]
    }
   ],
   "source": [
    "eval_xg = Model(num_features=5, mask=0, p_1 = 0.5, p_2=0.2)\n",
    "eval_xg.to(device)\n",
    "optimizer = torch.optim.Adam(eval_xg.parameters(), lr=0.01, weight_decay=5e-4)\n",
    "criterion = torch.nn.BCELoss()\n",
    "\n",
    "def train(epoch):\n",
    "    eval_xg.train()\n",
    "    optimizer.zero_grad()  # Clear gradients.\n",
    "    out = eval_xg(data.x, data.edge_index)  # Perform a single forward pass.\n",
    "    loss = criterion(out[data.train_mask], data.y[data.train_mask])  # Compute the loss solely based on the training nodes.\n",
    "    loss.backward()  # Derive gradients.\n",
    "    optimizer.step()  # Update parameters based on gradients.\n",
    "    return loss\n",
    "\n",
    "losses = {'train':[], 'val': []}\n",
    "\n",
    "max_epoch = 500\n",
    "\n",
    "best_loss = 100\n",
    "final_epoch = 0\n",
    "\n",
    "for epoch in range(1, max_epoch):\n",
    "    loss = train(epoch)\n",
    "    print(f'Epoch: {epoch:03d}, Loss: {loss:.4f}')\n",
    "    train_batch_losses = []\n",
    "    train_batch_losses.append(loss.cpu())\n",
    "    val_batch_losses = []\n",
    "    val_loss, val_acc = validate(eval_xg)\n",
    "    val_batch_losses.append(val_loss.cpu())\n",
    "    \n",
    "    if epoch>(max_epoch-100) and val_loss < best_loss:\n",
    "        torch.save(eval_xg.state_dict(), './Models/eval_xg_5.pt')\n",
    "        best_loss = val_loss\n",
    "        final_epoch = epoch\n",
    "    \n",
    "    losses['train'].append(train_batch_losses)\n",
    "    losses['val'].append(val_batch_losses)\n",
    "    live_plot(losses)\n",
    "    print(f'Val Accuracy: {val_acc:.4f}')\n",
    "    print('best model taken from epoch:', final_epoch)"
   ]
  },
  {
   "cell_type": "code",
   "execution_count": 69,
   "id": "0f5d49e1",
   "metadata": {},
   "outputs": [
    {
     "name": "stdout",
     "output_type": "stream",
     "text": [
      "Validation: 0.7466666666666667\n",
      "Test: 0.7466666666666667\n",
      "Test on Masked Unimp: 0.75\n"
     ]
    }
   ],
   "source": [
    "eval_xg = Model(num_features=5, mask=0, p_1 = 0, p_2=0)\n",
    "eval_xg.load_state_dict(torch.load('./Models/eval_xg_5.pt'))\n",
    "eval_xg.to(device)\n",
    "eval_xg.change_param(0,0,0)\n",
    "_, val_acc = validate(eval_xg)\n",
    "print('Validation:',val_acc)\n",
    "test_acc = test(eval_xg)\n",
    "print('Test:',test_acc)\n",
    "test_masked_acc = test_eval(eval_xg)\n",
    "print('Test on Masked Unimp:',test_masked_acc)"
   ]
  },
  {
   "cell_type": "code",
   "execution_count": 70,
   "id": "42319650",
   "metadata": {},
   "outputs": [
    {
     "data": {
      "image/png": "[encoded data removed]",
      "text/plain": [
       "<Figure size 432x288 with 1 Axes>"
      ]
     },
     "metadata": {
      "needs_background": "light"
     },
     "output_type": "display_data"
    }
   ],
   "source": [
    "save_plot(losses, title='Eval_XG_5')"
   ]
  },
  {
   "cell_type": "markdown",
   "id": "bc45e415",
   "metadata": {},
   "source": [
    "EVALUATING EXPLANATIONS"
   ]
  },
  {
   "cell_type": "code",
   "execution_count": 28,
   "id": "983da775",
   "metadata": {},
   "outputs": [],
   "source": [
    "@torch.no_grad()\n",
    "def Explain_Samples(X,E,mask,node_feat_mask,edge_mask,num_feat,num_edge):\n",
    "    '''\n",
    "    Create a data samples given the explanation\n",
    "    This function will only retain features and edges indicated as important from the dataset\n",
    "    X: Node Features\n",
    "    E: Edge Index\n",
    "    mask: Mask Token to mask features\n",
    "    node_feat_mask: Node Feature Mask returned by GNNExplainer\n",
    "    edge_mask: Edge Mask returned by GNNExplainer\n",
    "    num_feat: Number of Top Features to include in Data\n",
    "    num_edge: Number of Top Edges to include in Data\n",
    "    '''\n",
    "    ## Get the top num_edge important edges\n",
    "    n = edge_mask.size()[0]\n",
    "    imp_e_indexes = torch.zeros(num_edge,)\n",
    "    for i in range(num_edge):\n",
    "        e_index = torch.argmax(edge_mask)\n",
    "        edge_mask[e_index] = -1\n",
    "        imp_e_indexes[i,] = e_index\n",
    "    imp_e_indexes = imp_e_indexes.type(torch.LongTensor)\n",
    "    Sample_Adj = E[:, imp_e_indexes]\n",
    "    \n",
    "    f = X.size()[1]\n",
    "    imp_f_indexes = torch.zeros(num_feat,)\n",
    "    for i in range(num_feat):\n",
    "        f_index = torch.argmax(node_feat_mask)\n",
    "        node_feat_mask[f_index] = -1\n",
    "        imp_f_indexes[i,] = f_index\n",
    "    imp_f_indexes = imp_f_indexes.type(torch.LongTensor)\n",
    "    imp_f = torch.zeros(f,)\n",
    "    imp_f[imp_f_indexes] = 1\n",
    "    imp_f = imp_f.type(torch.LongTensor).to(device)\n",
    "    mask = torch.as_tensor(mask, dtype=torch.float).to(device)\n",
    "    Sample_Ft = torch.where(imp_f == 1, data.x.float(), mask)\n",
    "  \n",
    "    return Sample_Ft, Sample_Adj"
   ]
  },
  {
   "cell_type": "code",
   "execution_count": 29,
   "id": "4d72c5d7",
   "metadata": {},
   "outputs": [
    {
     "name": "stderr",
     "output_type": "stream",
     "text": [
      "Explain node 0: 100%|██████████| 200/200 [00:00<00:00, 206.72it/s]\n"
     ]
    },
    {
     "data": {
      "image/png": "[encoded data removed]",
      "text/plain": [
       "<Figure size 432x288 with 1 Axes>"
      ]
     },
     "metadata": {},
     "output_type": "display_data"
    },
    {
     "name": "stdout",
     "output_type": "stream",
     "text": [
      "======NODE FEATURES=======\n",
      "The important indexes:\n",
      " tensor([[0],\n",
      "        [1],\n",
      "        [2],\n",
      "        [3],\n",
      "        [4]], device='cuda:0')\n",
      "The number of important features:\n",
      " tensor(5, device='cuda:0')\n",
      "The Nonzero Values in node feat mask:\n",
      " tensor([[0.1472],\n",
      "        [0.1470],\n",
      "        [0.1510],\n",
      "        [0.1375],\n",
      "        [0.1450]], device='cuda:0')\n",
      "\n",
      "\n",
      "\n",
      "======EDGES========\n",
      "The important indexes:\n",
      " tensor([[   0],\n",
      "        [   2],\n",
      "        [3998]], device='cuda:0')\n",
      "Corresponding actual edges:\n",
      " tensor([[[   0],\n",
      "         [   1],\n",
      "         [1999]],\n",
      "\n",
      "        [[   1],\n",
      "         [   0],\n",
      "         [   0]]], device='cuda:0')\n",
      "The number of important edges:\n",
      " tensor(3, device='cuda:0')\n",
      "The Nonzero Values in edge mask:\n",
      " tensor([[0.9596],\n",
      "        [0.0757],\n",
      "        [0.9472]], device='cuda:0')\n",
      "tensor([[   0,    0,    1,  ..., 1998, 1999, 1999],\n",
      "        [   1, 1999,    0,  ..., 1999,    0, 1998]], device='cuda:0')\n"
     ]
    }
   ],
   "source": [
    "### TO CHECK WHETHER OUR FUNCTION Explain_Samples is working\n",
    "explainer = GNNExplainer(model, epochs=200, return_type='log_prob')\n",
    "explainer.to(device)\n",
    "node_idx = 0\n",
    "node_feat_mask, edge_mask = explainer.explain_node(node_idx, data.x, data.edge_index)\n",
    "ax, G = explainer.visualize_subgraph(node_idx, data.edge_index, edge_mask, y=data.y)\n",
    "plt.show()\n",
    "\n",
    "## FOR NODE FEATURES\n",
    "f = node_feat_mask>0.1\n",
    "print(\"======NODE FEATURES=======\")\n",
    "print('The important indexes:\\n',(f == 1).nonzero())\n",
    "print('The number of important features:\\n',f.sum())\n",
    "f2 = torch.mul(node_feat_mask,f)\n",
    "f2 = f2[f2.nonzero()]\n",
    "print('The Nonzero Values in node feat mask:\\n',f2)\n",
    "\n",
    "print('\\n\\n')\n",
    "\n",
    "## FOR EDGES\n",
    "print(\"======EDGES========\")\n",
    "e = edge_mask > 0.05\n",
    "print('The important indexes:\\n',(e == 1).nonzero())\n",
    "print('Corresponding actual edges:\\n', data.edge_index[:,(e == 1).nonzero()])\n",
    "print('The number of important edges:\\n',e.sum())\n",
    "e2 = torch.mul(edge_mask,e)\n",
    "e2 = e2[e2.nonzero()]\n",
    "print('The Nonzero Values in edge mask:\\n',e2)\n",
    "print(data.edge_index)\n"
   ]
  },
  {
   "cell_type": "code",
   "execution_count": 30,
   "id": "6d12c366",
   "metadata": {},
   "outputs": [
    {
     "name": "stdout",
     "output_type": "stream",
     "text": [
      "tensor([[ 2.0409, 26.1592,  6.1592,  0.0000,  0.0000],\n",
      "        [10.7611,  0.2708,  0.1058,  0.0000,  0.0000],\n",
      "        [ 3.2084,  0.6710,  3.2888,  0.0000,  0.0000],\n",
      "        ...,\n",
      "        [21.4348,  0.2777,  4.1395,  0.0000,  0.0000],\n",
      "        [ 0.3854,  4.6018, 10.4987,  0.0000,  0.0000],\n",
      "        [ 3.1831,  0.0618, 11.8545,  0.0000,  0.0000]], device='cuda:0')\n",
      "tensor([[   0, 1999],\n",
      "        [   1,    0]], device='cuda:0')\n"
     ]
    }
   ],
   "source": [
    "SF,SA = Explain_Samples(data.x,data.edge_index,0,node_feat_mask,edge_mask,3,2)\n",
    "print(SF)\n",
    "print(SA)"
   ]
  },
  {
   "cell_type": "code",
   "execution_count": 31,
   "id": "464cc62c",
   "metadata": {},
   "outputs": [],
   "source": [
    "@torch.no_grad()\n",
    "def forward_explain(model,Sample_Ft,Sample_Adj,node_idx):\n",
    "    model.eval()\n",
    "    model.mask_off()\n",
    "    out = model(Sample_Ft,Sample_Adj)\n",
    "    pred = torch.round(out) # Use the class with highest probability.\n",
    "    correct = 0\n",
    "    if pred[node_idx,:] == data.y[node_idx,:]:\n",
    "        correct = 1\n",
    "    return correct"
   ]
  },
  {
   "cell_type": "markdown",
   "id": "f6d3f24e",
   "metadata": {},
   "source": [
    "Experiment 1: Run GNNExplainer on model (full feature), test its performance on model and Eval-XG"
   ]
  },
  {
   "cell_type": "code",
   "execution_count": 71,
   "id": "02cd4525",
   "metadata": {},
   "outputs": [
    {
     "name": "stderr",
     "output_type": "stream",
     "text": [
      "\n",
      "  0%|          | 0/200 [00:00<?, ?it/s]\u001b[A\n",
      "Explain node 1700:   0%|          | 0/200 [00:00<?, ?it/s]\u001b[A\n",
      "Explain node 1700:  12%|█▏        | 23/200 [00:00<00:00, 222.38it/s]\u001b[A\n",
      "Explain node 1700:  23%|██▎       | 46/200 [00:00<00:00, 222.94it/s]\u001b[A\n",
      "Explain node 1700:  34%|███▍      | 69/200 [00:00<00:00, 222.92it/s]\u001b[A\n",
      "Explain node 1700:  46%|████▌     | 92/200 [00:00<00:00, 222.98it/s]\u001b[A\n",
      "Explain node 1700:  57%|█████▊    | 115/200 [00:00<00:00, 218.29it/s]\u001b[A\n",
      "Explain node 1700:  68%|██████▊   | 137/200 [00:00<00:00, 208.30it/s]\u001b[A\n",
      "Explain node 1700:  80%|████████  | 160/200 [00:00<00:00, 212.52it/s]\u001b[A\n",
      "Explain node 1700: 100%|██████████| 200/200 [00:00<00:00, 214.87it/s]\u001b[A\n"
     ]
    },
    {
     "name": "stdout",
     "output_type": "stream",
     "text": [
      "Accuracy on Model:  0.0\n",
      "Accuracy on EVAL-XG:  0.0\n"
     ]
    },
    {
     "name": "stderr",
     "output_type": "stream",
     "text": [
      "\n",
      "  0%|          | 0/200 [00:00<?, ?it/s]\u001b[A\n",
      "Explain node 1701:   0%|          | 0/200 [00:00<?, ?it/s]\u001b[A\n",
      "Explain node 1701:  12%|█▏        | 23/200 [00:00<00:00, 222.03it/s]\u001b[A\n",
      "Explain node 1701:  23%|██▎       | 46/200 [00:00<00:00, 221.71it/s]\u001b[A\n",
      "Explain node 1701:  34%|███▍      | 69/200 [00:00<00:00, 221.53it/s]\u001b[A\n",
      "Explain node 1701:  46%|████▌     | 92/200 [00:00<00:00, 219.29it/s]\u001b[A\n",
      "Explain node 1701:  57%|█████▋    | 114/200 [00:00<00:00, 219.13it/s]\u001b[A\n",
      "Explain node 1701:  68%|██████▊   | 137/200 [00:00<00:00, 221.17it/s]\u001b[A\n",
      "Explain node 1701:  80%|████████  | 160/200 [00:00<00:00, 220.16it/s]\u001b[A\n",
      "Explain node 1701: 100%|██████████| 200/200 [00:00<00:00, 217.78it/s]\u001b[A\n"
     ]
    },
    {
     "name": "stdout",
     "output_type": "stream",
     "text": [
      "Accuracy on Model:  50.0\n",
      "Accuracy on EVAL-XG:  50.0\n"
     ]
    },
    {
     "name": "stderr",
     "output_type": "stream",
     "text": [
      "\n",
      "  0%|          | 0/200 [00:00<?, ?it/s]\u001b[A\n",
      "Explain node 1702:   0%|          | 0/200 [00:00<?, ?it/s]\u001b[A\n",
      "Explain node 1702:  12%|█▏        | 23/200 [00:00<00:00, 220.64it/s]\u001b[A\n",
      "Explain node 1702:  23%|██▎       | 46/200 [00:00<00:00, 210.65it/s]\u001b[A\n",
      "Explain node 1702:  34%|███▍      | 68/200 [00:00<00:00, 213.73it/s]\u001b[A\n",
      "Explain node 1702:  45%|████▌     | 90/200 [00:00<00:00, 204.47it/s]\u001b[A\n",
      "Explain node 1702:  56%|█████▌    | 112/200 [00:00<00:00, 209.63it/s]\u001b[A\n",
      "Explain node 1702:  67%|██████▋   | 134/200 [00:00<00:00, 210.94it/s]\u001b[A\n",
      "Explain node 1702:  78%|███████▊  | 156/200 [00:00<00:00, 210.85it/s]\u001b[A\n",
      "Explain node 1702:  89%|████████▉ | 178/200 [00:00<00:00, 206.27it/s]\u001b[A\n",
      "Explain node 1702: 100%|██████████| 200/200 [00:00<00:00, 207.27it/s]\u001b[A\n"
     ]
    },
    {
     "name": "stdout",
     "output_type": "stream",
     "text": [
      "Accuracy on Model:  33.33333333333333\n",
      "Accuracy on EVAL-XG:  33.33333333333333\n"
     ]
    },
    {
     "name": "stderr",
     "output_type": "stream",
     "text": [
      "\n",
      "  0%|          | 0/200 [00:00<?, ?it/s]\u001b[A\n",
      "Explain node 1703:   0%|          | 0/200 [00:00<?, ?it/s]\u001b[A\n",
      "Explain node 1703:  11%|█         | 22/200 [00:00<00:00, 215.01it/s]\u001b[A\n",
      "Explain node 1703:  22%|██▎       | 45/200 [00:00<00:00, 218.20it/s]\u001b[A\n",
      "Explain node 1703:  34%|███▍      | 68/200 [00:00<00:00, 219.01it/s]\u001b[A\n",
      "Explain node 1703:  45%|████▌     | 90/200 [00:00<00:00, 217.02it/s]\u001b[A\n",
      "Explain node 1703:  56%|█████▌    | 112/200 [00:00<00:00, 214.04it/s]\u001b[A\n",
      "Explain node 1703:  67%|██████▋   | 134/200 [00:00<00:00, 214.99it/s]\u001b[A\n",
      "Explain node 1703:  78%|███████▊  | 156/200 [00:00<00:00, 215.88it/s]\u001b[A\n",
      "Explain node 1703:  89%|████████▉ | 178/200 [00:00<00:00, 213.99it/s]\u001b[A\n",
      "Explain node 1703: 100%|██████████| 200/200 [00:00<00:00, 211.45it/s]\u001b[A\n"
     ]
    },
    {
     "name": "stdout",
     "output_type": "stream",
     "text": [
      "Accuracy on Model:  25.0\n",
      "Accuracy on EVAL-XG:  25.0\n"
     ]
    },
    {
     "name": "stderr",
     "output_type": "stream",
     "text": [
      "\n",
      "  0%|          | 0/200 [00:00<?, ?it/s]\u001b[A\n",
      "Explain node 1704:   0%|          | 0/200 [00:00<?, ?it/s]\u001b[A\n",
      "Explain node 1704:  10%|█         | 21/200 [00:00<00:00, 205.22it/s]\u001b[A\n",
      "Explain node 1704:  22%|██▏       | 43/200 [00:00<00:00, 210.17it/s]\u001b[A\n",
      "Explain node 1704:  32%|███▎      | 65/200 [00:00<00:00, 212.63it/s]\u001b[A\n",
      "Explain node 1704:  44%|████▎     | 87/200 [00:00<00:00, 211.58it/s]\u001b[A\n",
      "Explain node 1704:  55%|█████▍    | 109/200 [00:00<00:00, 209.29it/s]\u001b[A\n",
      "Explain node 1704:  65%|██████▌   | 130/200 [00:00<00:00, 203.10it/s]\u001b[A\n",
      "Explain node 1704:  76%|███████▌  | 151/200 [00:00<00:00, 199.34it/s]\u001b[A\n",
      "Explain node 1704:  86%|████████▌ | 171/200 [00:00<00:00, 199.06it/s]\u001b[A\n",
      "Explain node 1704: 100%|██████████| 200/200 [00:00<00:00, 205.52it/s]\u001b[A\n"
     ]
    },
    {
     "name": "stdout",
     "output_type": "stream",
     "text": [
      "Accuracy on Model:  20.0\n",
      "Accuracy on EVAL-XG:  20.0\n"
     ]
    },
    {
     "name": "stderr",
     "output_type": "stream",
     "text": [
      "\n",
      "  0%|          | 0/200 [00:00<?, ?it/s]\u001b[A\n",
      "Explain node 1705:   0%|          | 0/200 [00:00<?, ?it/s]\u001b[A\n",
      "Explain node 1705:  11%|█         | 22/200 [00:00<00:00, 216.33it/s]\u001b[A\n",
      "Explain node 1705:  22%|██▏       | 44/200 [00:00<00:00, 215.19it/s]\u001b[A\n",
      "Explain node 1705:  33%|███▎      | 66/200 [00:00<00:00, 215.78it/s]\u001b[A\n",
      "Explain node 1705:  44%|████▍     | 88/200 [00:00<00:00, 216.08it/s]\u001b[A\n",
      "Explain node 1705:  56%|█████▌    | 111/200 [00:00<00:00, 217.64it/s]\u001b[A\n",
      "Explain node 1705:  67%|██████▋   | 134/200 [00:00<00:00, 219.74it/s]\u001b[A\n",
      "Explain node 1705:  78%|███████▊  | 157/200 [00:00<00:00, 221.98it/s]\u001b[A\n",
      "Explain node 1705: 100%|██████████| 200/200 [00:00<00:00, 219.29it/s]\u001b[A\n"
     ]
    },
    {
     "name": "stdout",
     "output_type": "stream",
     "text": [
      "Accuracy on Model:  16.666666666666664\n",
      "Accuracy on EVAL-XG:  33.33333333333333\n"
     ]
    },
    {
     "name": "stderr",
     "output_type": "stream",
     "text": [
      "\n",
      "  0%|          | 0/200 [00:00<?, ?it/s]\u001b[A\n",
      "Explain node 1706:   0%|          | 0/200 [00:00<?, ?it/s]\u001b[A\n",
      "Explain node 1706:  11%|█         | 22/200 [00:00<00:00, 219.14it/s]\u001b[A\n",
      "Explain node 1706:  22%|██▎       | 45/200 [00:00<00:00, 219.99it/s]\u001b[A\n",
      "Explain node 1706:  34%|███▍      | 68/200 [00:00<00:00, 220.55it/s]\u001b[A\n",
      "Explain node 1706:  46%|████▌     | 91/200 [00:00<00:00, 219.17it/s]\u001b[A\n",
      "Explain node 1706:  56%|█████▋    | 113/200 [00:00<00:00, 217.29it/s]\u001b[A\n",
      "Explain node 1706:  68%|██████▊   | 135/200 [00:00<00:00, 215.67it/s]\u001b[A\n",
      "Explain node 1706:  78%|███████▊  | 157/200 [00:00<00:00, 216.23it/s]\u001b[A\n",
      "Explain node 1706: 100%|██████████| 200/200 [00:00<00:00, 217.62it/s]\u001b[A\n"
     ]
    },
    {
     "name": "stdout",
     "output_type": "stream",
     "text": [
      "Accuracy on Model:  28.57142857142857\n",
      "Accuracy on EVAL-XG:  42.857142857142854\n"
     ]
    },
    {
     "name": "stderr",
     "output_type": "stream",
     "text": [
      "\n",
      "  0%|          | 0/200 [00:00<?, ?it/s]\u001b[A\n",
      "Explain node 1707:   0%|          | 0/200 [00:00<?, ?it/s]\u001b[A\n",
      "Explain node 1707:  11%|█         | 22/200 [00:00<00:00, 215.18it/s]\u001b[A\n",
      "Explain node 1707:  22%|██▏       | 44/200 [00:00<00:00, 204.46it/s]\u001b[A\n",
      "Explain node 1707:  34%|███▎      | 67/200 [00:00<00:00, 211.67it/s]\u001b[A\n",
      "Explain node 1707:  44%|████▍     | 89/200 [00:00<00:00, 210.91it/s]\u001b[A\n",
      "Explain node 1707:  56%|█████▌    | 111/200 [00:00<00:00, 210.24it/s]\u001b[A\n",
      "Explain node 1707:  66%|██████▋   | 133/200 [00:00<00:00, 210.59it/s]\u001b[A\n",
      "Explain node 1707:  78%|███████▊  | 155/200 [00:00<00:00, 207.87it/s]\u001b[A\n",
      "Explain node 1707:  88%|████████▊ | 177/200 [00:00<00:00, 210.38it/s]\u001b[A\n",
      "Explain node 1707: 100%|██████████| 200/200 [00:00<00:00, 210.52it/s]\u001b[A\n"
     ]
    },
    {
     "name": "stdout",
     "output_type": "stream",
     "text": [
      "Accuracy on Model:  25.0\n",
      "Accuracy on EVAL-XG:  37.5\n"
     ]
    },
    {
     "name": "stderr",
     "output_type": "stream",
     "text": [
      "\n",
      "  0%|          | 0/200 [00:00<?, ?it/s]\u001b[A\n",
      "Explain node 1708:   0%|          | 0/200 [00:00<?, ?it/s]\u001b[A\n",
      "Explain node 1708:  11%|█         | 22/200 [00:00<00:00, 210.85it/s]\u001b[A\n",
      "Explain node 1708:  22%|██▎       | 45/200 [00:00<00:00, 216.61it/s]\u001b[A\n",
      "Explain node 1708:  34%|███▎      | 67/200 [00:00<00:00, 217.83it/s]\u001b[A\n",
      "Explain node 1708:  44%|████▍     | 89/200 [00:00<00:00, 216.56it/s]\u001b[A\n",
      "Explain node 1708:  56%|█████▌    | 111/200 [00:00<00:00, 215.27it/s]\u001b[A\n",
      "Explain node 1708:  66%|██████▋   | 133/200 [00:00<00:00, 214.78it/s]\u001b[A\n",
      "Explain node 1708:  78%|███████▊  | 155/200 [00:00<00:00, 215.57it/s]\u001b[A\n",
      "Explain node 1708:  88%|████████▊ | 177/200 [00:00<00:00, 215.89it/s]\u001b[A\n",
      "Explain node 1708: 100%|██████████| 200/200 [00:00<00:00, 214.44it/s]\u001b[A\n"
     ]
    },
    {
     "name": "stdout",
     "output_type": "stream",
     "text": [
      "Accuracy on Model:  33.33333333333333\n",
      "Accuracy on EVAL-XG:  44.44444444444444\n"
     ]
    },
    {
     "name": "stderr",
     "output_type": "stream",
     "text": [
      "\n",
      "  0%|          | 0/200 [00:00<?, ?it/s]\u001b[A\n",
      "Explain node 1709:   0%|          | 0/200 [00:00<?, ?it/s]\u001b[A\n",
      "Explain node 1709:  10%|█         | 21/200 [00:00<00:00, 203.02it/s]\u001b[A\n",
      "Explain node 1709:  21%|██        | 42/200 [00:00<00:00, 201.67it/s]\u001b[A\n",
      "Explain node 1709:  32%|███▏      | 63/200 [00:00<00:00, 198.84it/s]\u001b[A\n",
      "Explain node 1709:  42%|████▎     | 85/200 [00:00<00:00, 205.94it/s]\u001b[A\n",
      "Explain node 1709:  54%|█████▎    | 107/200 [00:00<00:00, 210.10it/s]\u001b[A\n",
      "Explain node 1709:  64%|██████▍   | 129/200 [00:00<00:00, 211.16it/s]\u001b[A\n",
      "Explain node 1709:  76%|███████▌  | 151/200 [00:00<00:00, 213.59it/s]\u001b[A\n",
      "Explain node 1709:  86%|████████▋ | 173/200 [00:00<00:00, 213.98it/s]\u001b[A\n",
      "Explain node 1709: 100%|██████████| 200/200 [00:00<00:00, 210.93it/s]\u001b[A\n"
     ]
    },
    {
     "name": "stdout",
     "output_type": "stream",
     "text": [
      "Accuracy on Model:  40.0\n",
      "Accuracy on EVAL-XG:  50.0\n"
     ]
    },
    {
     "name": "stderr",
     "output_type": "stream",
     "text": [
      "\n",
      "  0%|          | 0/200 [00:00<?, ?it/s]\u001b[A\n",
      "Explain node 1710:   0%|          | 0/200 [00:00<?, ?it/s]\u001b[A\n",
      "Explain node 1710:  11%|█         | 22/200 [00:00<00:00, 215.83it/s]\u001b[A\n",
      "Explain node 1710:  22%|██▏       | 44/200 [00:00<00:00, 215.91it/s]\u001b[A\n",
      "Explain node 1710:  33%|███▎      | 66/200 [00:00<00:00, 217.67it/s]\u001b[A\n",
      "Explain node 1710:  44%|████▍     | 88/200 [00:00<00:00, 217.08it/s]\u001b[A\n",
      "Explain node 1710:  55%|█████▌    | 110/200 [00:00<00:00, 213.42it/s]\u001b[A\n",
      "Explain node 1710:  66%|██████▋   | 133/200 [00:00<00:00, 217.47it/s]\u001b[A\n",
      "Explain node 1710:  78%|███████▊  | 155/200 [00:00<00:00, 217.15it/s]\u001b[A\n",
      "Explain node 1710:  88%|████████▊ | 177/200 [00:00<00:00, 216.96it/s]\u001b[A\n",
      "Explain node 1710: 100%|██████████| 200/200 [00:00<00:00, 216.48it/s]\u001b[A\n"
     ]
    },
    {
     "name": "stdout",
     "output_type": "stream",
     "text": [
      "Accuracy on Model:  36.36363636363637\n",
      "Accuracy on EVAL-XG:  54.54545454545454\n"
     ]
    },
    {
     "name": "stderr",
     "output_type": "stream",
     "text": [
      "\n",
      "  0%|          | 0/200 [00:00<?, ?it/s]\u001b[A\n",
      "Explain node 1711:   0%|          | 0/200 [00:00<?, ?it/s]\u001b[A\n",
      "Explain node 1711:  12%|█▏        | 23/200 [00:00<00:00, 221.96it/s]\u001b[A\n",
      "Explain node 1711:  23%|██▎       | 46/200 [00:00<00:00, 220.13it/s]\u001b[A\n",
      "Explain node 1711:  34%|███▍      | 69/200 [00:00<00:00, 221.64it/s]\u001b[A\n",
      "Explain node 1711:  46%|████▌     | 92/200 [00:00<00:00, 221.86it/s]\u001b[A\n",
      "Explain node 1711:  57%|█████▊    | 115/200 [00:00<00:00, 220.36it/s]\u001b[A\n",
      "Explain node 1711:  69%|██████▉   | 138/200 [00:00<00:00, 216.18it/s]\u001b[A\n",
      "Explain node 1711:  80%|████████  | 160/200 [00:00<00:00, 217.06it/s]\u001b[A\n",
      "Explain node 1711: 100%|██████████| 200/200 [00:00<00:00, 216.89it/s]\u001b[A\n"
     ]
    },
    {
     "name": "stdout",
     "output_type": "stream",
     "text": [
      "Accuracy on Model:  33.33333333333333\n",
      "Accuracy on EVAL-XG:  50.0\n"
     ]
    },
    {
     "name": "stderr",
     "output_type": "stream",
     "text": [
      "\n",
      "  0%|          | 0/200 [00:00<?, ?it/s]\u001b[A\n",
      "Explain node 1712:   0%|          | 0/200 [00:00<?, ?it/s]\u001b[A\n",
      "Explain node 1712:  10%|█         | 20/200 [00:00<00:00, 199.02it/s]\u001b[A\n",
      "Explain node 1712:  22%|██▏       | 43/200 [00:00<00:00, 211.75it/s]\u001b[A\n",
      "Explain node 1712:  32%|███▎      | 65/200 [00:00<00:00, 208.63it/s]\u001b[A\n",
      "Explain node 1712:  44%|████▎     | 87/200 [00:00<00:00, 210.17it/s]\u001b[A\n",
      "Explain node 1712:  55%|█████▍    | 109/200 [00:00<00:00, 212.76it/s]\u001b[A\n",
      "Explain node 1712:  66%|██████▌   | 132/200 [00:00<00:00, 215.81it/s]\u001b[A\n",
      "Explain node 1712:  77%|███████▋  | 154/200 [00:00<00:00, 216.02it/s]\u001b[A\n",
      "Explain node 1712:  88%|████████▊ | 176/200 [00:00<00:00, 214.95it/s]\u001b[A\n",
      "Explain node 1712: 100%|██████████| 200/200 [00:00<00:00, 211.53it/s]\u001b[A\n"
     ]
    },
    {
     "name": "stdout",
     "output_type": "stream",
     "text": [
      "Accuracy on Model:  30.76923076923077\n",
      "Accuracy on EVAL-XG:  53.84615384615385\n"
     ]
    },
    {
     "name": "stderr",
     "output_type": "stream",
     "text": [
      "\n",
      "  0%|          | 0/200 [00:00<?, ?it/s]\u001b[A\n",
      "Explain node 1713:   0%|          | 0/200 [00:00<?, ?it/s]\u001b[A\n",
      "Explain node 1713:  10%|█         | 20/200 [00:00<00:00, 189.67it/s]\u001b[A\n",
      "Explain node 1713:  20%|██        | 40/200 [00:00<00:00, 194.42it/s]\u001b[A\n",
      "Explain node 1713:  30%|███       | 60/200 [00:00<00:00, 187.88it/s]\u001b[A\n",
      "Explain node 1713:  40%|████      | 80/200 [00:00<00:00, 191.36it/s]\u001b[A\n",
      "Explain node 1713:  51%|█████     | 102/200 [00:00<00:00, 198.94it/s]\u001b[A\n",
      "Explain node 1713:  62%|██████▏   | 124/200 [00:00<00:00, 203.84it/s]\u001b[A\n",
      "Explain node 1713:  72%|███████▎  | 145/200 [00:00<00:00, 204.23it/s]\u001b[A\n",
      "Explain node 1713:  84%|████████▎ | 167/200 [00:00<00:00, 206.72it/s]\u001b[A\n",
      "Explain node 1713: 100%|██████████| 200/200 [00:00<00:00, 203.43it/s]\u001b[A\n"
     ]
    },
    {
     "name": "stdout",
     "output_type": "stream",
     "text": [
      "Accuracy on Model:  35.714285714285715\n",
      "Accuracy on EVAL-XG:  57.14285714285714\n"
     ]
    },
    {
     "name": "stderr",
     "output_type": "stream",
     "text": [
      "\n",
      "  0%|          | 0/200 [00:00<?, ?it/s]\u001b[A\n",
      "Explain node 1714:   0%|          | 0/200 [00:00<?, ?it/s]\u001b[A\n",
      "Explain node 1714:  11%|█         | 22/200 [00:00<00:00, 210.69it/s]\u001b[A\n",
      "Explain node 1714:  22%|██▏       | 44/200 [00:00<00:00, 210.21it/s]\u001b[A\n",
      "Explain node 1714:  33%|███▎      | 66/200 [00:00<00:00, 212.26it/s]\u001b[A\n",
      "Explain node 1714:  44%|████▍     | 88/200 [00:00<00:00, 206.77it/s]\u001b[A\n",
      "Explain node 1714:  55%|█████▍    | 109/200 [00:00<00:00, 203.90it/s]\u001b[A\n",
      "Explain node 1714:  65%|██████▌   | 130/200 [00:00<00:00, 196.19it/s]\u001b[A\n",
      "Explain node 1714:  75%|███████▌  | 150/200 [00:00<00:00, 196.64it/s]\u001b[A\n",
      "Explain node 1714:  86%|████████▌ | 171/200 [00:00<00:00, 200.45it/s]\u001b[A\n",
      "Explain node 1714: 100%|██████████| 200/200 [00:00<00:00, 203.36it/s]\u001b[A\n"
     ]
    },
    {
     "name": "stdout",
     "output_type": "stream",
     "text": [
      "Accuracy on Model:  33.33333333333333\n",
      "Accuracy on EVAL-XG:  53.333333333333336\n"
     ]
    },
    {
     "name": "stderr",
     "output_type": "stream",
     "text": [
      "\n",
      "  0%|          | 0/200 [00:00<?, ?it/s]\u001b[A\n",
      "Explain node 1715:   0%|          | 0/200 [00:00<?, ?it/s]\u001b[A\n",
      "Explain node 1715:  10%|█         | 21/200 [00:00<00:00, 202.02it/s]\u001b[A\n",
      "Explain node 1715:  22%|██▏       | 43/200 [00:00<00:00, 212.27it/s]\u001b[A\n",
      "Explain node 1715:  32%|███▎      | 65/200 [00:00<00:00, 213.62it/s]\u001b[A\n",
      "Explain node 1715:  44%|████▎     | 87/200 [00:00<00:00, 214.91it/s]\u001b[A\n",
      "Explain node 1715:  55%|█████▍    | 109/200 [00:00<00:00, 212.49it/s]\u001b[A\n",
      "Explain node 1715:  66%|██████▌   | 131/200 [00:00<00:00, 210.61it/s]\u001b[A\n",
      "Explain node 1715:  76%|███████▋  | 153/200 [00:00<00:00, 208.76it/s]\u001b[A\n",
      "Explain node 1715:  87%|████████▋ | 174/200 [00:00<00:00, 208.03it/s]\u001b[A\n",
      "Explain node 1715: 100%|██████████| 200/200 [00:00<00:00, 210.82it/s]\u001b[A\n"
     ]
    },
    {
     "name": "stdout",
     "output_type": "stream",
     "text": [
      "Accuracy on Model:  37.5\n",
      "Accuracy on EVAL-XG:  56.25\n"
     ]
    },
    {
     "name": "stderr",
     "output_type": "stream",
     "text": [
      "\n",
      "  0%|          | 0/200 [00:00<?, ?it/s]\u001b[A\n",
      "Explain node 1716:   0%|          | 0/200 [00:00<?, ?it/s]\u001b[A\n",
      "Explain node 1716:  12%|█▏        | 23/200 [00:00<00:00, 225.97it/s]\u001b[A\n",
      "Explain node 1716:  23%|██▎       | 46/200 [00:00<00:00, 224.47it/s]\u001b[A\n",
      "Explain node 1716:  34%|███▍      | 69/200 [00:00<00:00, 226.10it/s]\u001b[A\n",
      "Explain node 1716:  46%|████▌     | 92/200 [00:00<00:00, 222.66it/s]\u001b[A\n",
      "Explain node 1716:  57%|█████▊    | 115/200 [00:00<00:00, 219.35it/s]\u001b[A\n",
      "Explain node 1716:  68%|██████▊   | 137/200 [00:00<00:00, 218.47it/s]\u001b[A\n",
      "Explain node 1716:  80%|████████  | 160/200 [00:00<00:00, 221.21it/s]\u001b[A\n",
      "Explain node 1716: 100%|██████████| 200/200 [00:00<00:00, 220.95it/s]\u001b[A\n"
     ]
    },
    {
     "name": "stdout",
     "output_type": "stream",
     "text": [
      "Accuracy on Model:  35.294117647058826\n",
      "Accuracy on EVAL-XG:  52.94117647058824\n"
     ]
    },
    {
     "name": "stderr",
     "output_type": "stream",
     "text": [
      "\n",
      "  0%|          | 0/200 [00:00<?, ?it/s]\u001b[A\n",
      "Explain node 1717:   0%|          | 0/200 [00:00<?, ?it/s]\u001b[A\n",
      "Explain node 1717:  11%|█         | 22/200 [00:00<00:00, 219.56it/s]\u001b[A\n",
      "Explain node 1717:  22%|██▎       | 45/200 [00:00<00:00, 221.63it/s]\u001b[A\n",
      "Explain node 1717:  34%|███▍      | 68/200 [00:00<00:00, 224.98it/s]\u001b[A\n",
      "Explain node 1717:  46%|████▌     | 91/200 [00:00<00:00, 224.80it/s]\u001b[A\n",
      "Explain node 1717:  57%|█████▋    | 114/200 [00:00<00:00, 223.93it/s]\u001b[A\n",
      "Explain node 1717:  68%|██████▊   | 137/200 [00:00<00:00, 223.98it/s]\u001b[A\n",
      "Explain node 1717:  80%|████████  | 160/200 [00:00<00:00, 222.40it/s]\u001b[A\n",
      "Explain node 1717: 100%|██████████| 200/200 [00:00<00:00, 220.93it/s]\u001b[A\n"
     ]
    },
    {
     "name": "stdout",
     "output_type": "stream",
     "text": [
      "Accuracy on Model:  38.88888888888889\n",
      "Accuracy on EVAL-XG:  55.55555555555556\n"
     ]
    },
    {
     "name": "stderr",
     "output_type": "stream",
     "text": [
      "\n",
      "  0%|          | 0/200 [00:00<?, ?it/s]\u001b[A\n",
      "Explain node 1718:   0%|          | 0/200 [00:00<?, ?it/s]\u001b[A\n",
      "Explain node 1718:  11%|█         | 22/200 [00:00<00:00, 209.77it/s]\u001b[A\n",
      "Explain node 1718:  22%|██▏       | 43/200 [00:00<00:00, 206.26it/s]\u001b[A\n",
      "Explain node 1718:  32%|███▎      | 65/200 [00:00<00:00, 212.09it/s]\u001b[A\n",
      "Explain node 1718:  44%|████▎     | 87/200 [00:00<00:00, 212.92it/s]\u001b[A\n",
      "Explain node 1718:  55%|█████▌    | 110/200 [00:00<00:00, 217.81it/s]\u001b[A\n",
      "Explain node 1718:  66%|██████▋   | 133/200 [00:00<00:00, 219.51it/s]\u001b[A\n",
      "Explain node 1718:  78%|███████▊  | 156/200 [00:00<00:00, 219.75it/s]\u001b[A\n",
      "Explain node 1718: 100%|██████████| 200/200 [00:00<00:00, 218.43it/s]\u001b[A\n"
     ]
    },
    {
     "name": "stdout",
     "output_type": "stream",
     "text": [
      "Accuracy on Model:  42.10526315789473\n",
      "Accuracy on EVAL-XG:  57.89473684210527\n"
     ]
    },
    {
     "name": "stderr",
     "output_type": "stream",
     "text": [
      "\n",
      "  0%|          | 0/200 [00:00<?, ?it/s]\u001b[A\n",
      "Explain node 1719:   0%|          | 0/200 [00:00<?, ?it/s]\u001b[A\n",
      "Explain node 1719:  12%|█▏        | 23/200 [00:00<00:00, 224.92it/s]\u001b[A\n",
      "Explain node 1719:  23%|██▎       | 46/200 [00:00<00:00, 212.04it/s]\u001b[A\n",
      "Explain node 1719:  34%|███▍      | 68/200 [00:00<00:00, 202.18it/s]\u001b[A\n",
      "Explain node 1719:  44%|████▍     | 89/200 [00:00<00:00, 199.52it/s]\u001b[A\n",
      "Explain node 1719:  55%|█████▍    | 109/200 [00:00<00:00, 198.26it/s]\u001b[A\n",
      "Explain node 1719:  64%|██████▍   | 129/200 [00:00<00:00, 193.60it/s]\u001b[A\n",
      "Explain node 1719:  75%|███████▌  | 150/200 [00:00<00:00, 196.43it/s]\u001b[A\n",
      "Explain node 1719:  85%|████████▌ | 170/200 [00:00<00:00, 196.24it/s]\u001b[A\n",
      "Explain node 1719: 100%|██████████| 200/200 [00:01<00:00, 199.34it/s]\u001b[A\n"
     ]
    },
    {
     "name": "stdout",
     "output_type": "stream",
     "text": [
      "Accuracy on Model:  40.0\n",
      "Accuracy on EVAL-XG:  60.0\n"
     ]
    },
    {
     "name": "stderr",
     "output_type": "stream",
     "text": [
      "\n",
      "  0%|          | 0/200 [00:00<?, ?it/s]\u001b[A\n",
      "Explain node 1720:   0%|          | 0/200 [00:00<?, ?it/s]\u001b[A\n",
      "Explain node 1720:  10%|█         | 20/200 [00:00<00:00, 197.12it/s]\u001b[A\n",
      "Explain node 1720:  20%|██        | 40/200 [00:00<00:00, 198.04it/s]\u001b[A\n",
      "Explain node 1720:  30%|███       | 61/200 [00:00<00:00, 201.98it/s]\u001b[A\n",
      "Explain node 1720:  41%|████      | 82/200 [00:00<00:00, 196.68it/s]\u001b[A\n",
      "Explain node 1720:  52%|█████▏    | 104/200 [00:00<00:00, 202.34it/s]\u001b[A\n",
      "Explain node 1720:  62%|██████▎   | 125/200 [00:00<00:00, 200.77it/s]\u001b[A\n",
      "Explain node 1720:  73%|███████▎  | 146/200 [00:00<00:00, 197.93it/s]\u001b[A\n",
      "Explain node 1720:  83%|████████▎ | 166/200 [00:00<00:00, 195.86it/s]\u001b[A\n",
      "Explain node 1720: 100%|██████████| 200/200 [00:01<00:00, 199.76it/s]\u001b[A\n"
     ]
    },
    {
     "name": "stdout",
     "output_type": "stream",
     "text": [
      "Accuracy on Model:  42.857142857142854\n",
      "Accuracy on EVAL-XG:  61.904761904761905\n"
     ]
    },
    {
     "name": "stderr",
     "output_type": "stream",
     "text": [
      "\n",
      "  0%|          | 0/200 [00:00<?, ?it/s]\u001b[A\n",
      "Explain node 1721:   0%|          | 0/200 [00:00<?, ?it/s]\u001b[A\n",
      "Explain node 1721:  11%|█         | 22/200 [00:00<00:00, 210.46it/s]\u001b[A\n",
      "Explain node 1721:  22%|██▏       | 44/200 [00:00<00:00, 211.51it/s]\u001b[A\n",
      "Explain node 1721:  33%|███▎      | 66/200 [00:00<00:00, 210.57it/s]\u001b[A\n",
      "Explain node 1721:  44%|████▍     | 88/200 [00:00<00:00, 211.76it/s]\u001b[A\n",
      "Explain node 1721:  55%|█████▌    | 110/200 [00:00<00:00, 211.54it/s]\u001b[A\n",
      "Explain node 1721:  66%|██████▌   | 132/200 [00:00<00:00, 208.69it/s]\u001b[A\n",
      "Explain node 1721:  77%|███████▋  | 154/200 [00:00<00:00, 209.81it/s]\u001b[A\n",
      "Explain node 1721:  88%|████████▊ | 175/200 [00:00<00:00, 203.24it/s]\u001b[A\n",
      "Explain node 1721: 100%|██████████| 200/200 [00:00<00:00, 207.53it/s]\u001b[A\n"
     ]
    },
    {
     "name": "stdout",
     "output_type": "stream",
     "text": [
      "Accuracy on Model:  45.45454545454545\n",
      "Accuracy on EVAL-XG:  63.63636363636363\n"
     ]
    },
    {
     "name": "stderr",
     "output_type": "stream",
     "text": [
      "\n",
      "  0%|          | 0/200 [00:00<?, ?it/s]\u001b[A\n",
      "Explain node 1722:   0%|          | 0/200 [00:00<?, ?it/s]\u001b[A\n",
      "Explain node 1722:  10%|█         | 20/200 [00:00<00:00, 199.83it/s]\u001b[A\n",
      "Explain node 1722:  20%|██        | 40/200 [00:00<00:00, 198.95it/s]\u001b[A\n",
      "Explain node 1722:  30%|███       | 61/200 [00:00<00:00, 202.31it/s]\u001b[A\n",
      "Explain node 1722:  41%|████      | 82/200 [00:00<00:00, 202.02it/s]\u001b[A\n",
      "Explain node 1722:  52%|█████▏    | 103/200 [00:00<00:00, 198.80it/s]\u001b[A\n",
      "Explain node 1722:  62%|██████▎   | 125/200 [00:00<00:00, 202.99it/s]\u001b[A\n",
      "Explain node 1722:  73%|███████▎  | 146/200 [00:00<00:00, 204.01it/s]\u001b[A\n",
      "Explain node 1722:  84%|████████▎ | 167/200 [00:00<00:00, 201.39it/s]\u001b[A\n",
      "Explain node 1722: 100%|██████████| 200/200 [00:00<00:00, 202.07it/s]\u001b[A\n"
     ]
    },
    {
     "name": "stdout",
     "output_type": "stream",
     "text": [
      "Accuracy on Model:  43.47826086956522\n",
      "Accuracy on EVAL-XG:  65.21739130434783\n"
     ]
    },
    {
     "name": "stderr",
     "output_type": "stream",
     "text": [
      "\n",
      "  0%|          | 0/200 [00:00<?, ?it/s]\u001b[A\n",
      "Explain node 1723:   0%|          | 0/200 [00:00<?, ?it/s]\u001b[A\n",
      "Explain node 1723:  10%|█         | 21/200 [00:00<00:00, 208.75it/s]\u001b[A\n",
      "Explain node 1723:  22%|██▏       | 43/200 [00:00<00:00, 210.08it/s]\u001b[A\n",
      "Explain node 1723:  32%|███▎      | 65/200 [00:00<00:00, 211.30it/s]\u001b[A\n",
      "Explain node 1723:  44%|████▍     | 88/200 [00:00<00:00, 215.61it/s]\u001b[A\n",
      "Explain node 1723:  55%|█████▌    | 110/200 [00:00<00:00, 216.94it/s]\u001b[A\n",
      "Explain node 1723:  66%|██████▌   | 132/200 [00:00<00:00, 217.36it/s]\u001b[A\n",
      "Explain node 1723:  78%|███████▊  | 155/200 [00:00<00:00, 218.72it/s]\u001b[A\n",
      "Explain node 1723:  88%|████████▊ | 177/200 [00:00<00:00, 218.26it/s]\u001b[A\n",
      "Explain node 1723: 100%|██████████| 200/200 [00:00<00:00, 214.74it/s]\u001b[A\n"
     ]
    },
    {
     "name": "stdout",
     "output_type": "stream",
     "text": [
      "Accuracy on Model:  41.66666666666667\n",
      "Accuracy on EVAL-XG:  62.5\n"
     ]
    },
    {
     "name": "stderr",
     "output_type": "stream",
     "text": [
      "\n",
      "  0%|          | 0/200 [00:00<?, ?it/s]\u001b[A\n",
      "Explain node 1724:   0%|          | 0/200 [00:00<?, ?it/s]\u001b[A\n",
      "Explain node 1724:  10%|█         | 20/200 [00:00<00:00, 195.82it/s]\u001b[A\n",
      "Explain node 1724:  20%|██        | 41/200 [00:00<00:00, 199.76it/s]\u001b[A\n",
      "Explain node 1724:  32%|███▏      | 63/200 [00:00<00:00, 206.21it/s]\u001b[A\n",
      "Explain node 1724:  42%|████▎     | 85/200 [00:00<00:00, 210.69it/s]\u001b[A\n",
      "Explain node 1724:  54%|█████▎    | 107/200 [00:00<00:00, 213.20it/s]\u001b[A\n",
      "Explain node 1724:  64%|██████▍   | 129/200 [00:00<00:00, 215.36it/s]\u001b[A\n",
      "Explain node 1724:  76%|███████▌  | 151/200 [00:00<00:00, 215.91it/s]\u001b[A\n",
      "Explain node 1724:  87%|████████▋ | 174/200 [00:00<00:00, 217.90it/s]\u001b[A\n",
      "Explain node 1724: 100%|██████████| 200/200 [00:00<00:00, 213.31it/s]\u001b[A\n"
     ]
    },
    {
     "name": "stdout",
     "output_type": "stream",
     "text": [
      "Accuracy on Model:  44.0\n",
      "Accuracy on EVAL-XG:  64.0\n"
     ]
    },
    {
     "name": "stderr",
     "output_type": "stream",
     "text": [
      "\n",
      "  0%|          | 0/200 [00:00<?, ?it/s]\u001b[A\n",
      "Explain node 1725:   0%|          | 0/200 [00:00<?, ?it/s]\u001b[A\n",
      "Explain node 1725:  11%|█         | 22/200 [00:00<00:00, 219.12it/s]\u001b[A\n",
      "Explain node 1725:  22%|██▎       | 45/200 [00:00<00:00, 222.95it/s]\u001b[A\n",
      "Explain node 1725:  34%|███▍      | 68/200 [00:00<00:00, 222.56it/s]\u001b[A\n",
      "Explain node 1725:  46%|████▌     | 91/200 [00:00<00:00, 221.29it/s]\u001b[A\n",
      "Explain node 1725:  57%|█████▋    | 114/200 [00:00<00:00, 221.71it/s]\u001b[A\n",
      "Explain node 1725:  68%|██████▊   | 137/200 [00:00<00:00, 223.00it/s]\u001b[A\n",
      "Explain node 1725:  80%|████████  | 160/200 [00:00<00:00, 223.74it/s]\u001b[A\n",
      "Explain node 1725: 100%|██████████| 200/200 [00:00<00:00, 222.90it/s]\u001b[A\n"
     ]
    },
    {
     "name": "stdout",
     "output_type": "stream",
     "text": [
      "Accuracy on Model:  46.15384615384615\n",
      "Accuracy on EVAL-XG:  65.38461538461539\n"
     ]
    },
    {
     "name": "stderr",
     "output_type": "stream",
     "text": [
      "\n",
      "  0%|          | 0/200 [00:00<?, ?it/s]\u001b[A\n",
      "Explain node 1726:   0%|          | 0/200 [00:00<?, ?it/s]\u001b[A\n",
      "Explain node 1726:  10%|█         | 21/200 [00:00<00:00, 207.76it/s]\u001b[A\n",
      "Explain node 1726:  22%|██▏       | 44/200 [00:00<00:00, 217.15it/s]\u001b[A\n",
      "Explain node 1726:  33%|███▎      | 66/200 [00:00<00:00, 215.33it/s]\u001b[A\n",
      "Explain node 1726:  44%|████▍     | 88/200 [00:00<00:00, 216.92it/s]\u001b[A\n",
      "Explain node 1726:  56%|█████▌    | 111/200 [00:00<00:00, 218.14it/s]\u001b[A\n",
      "Explain node 1726:  66%|██████▋   | 133/200 [00:00<00:00, 214.99it/s]\u001b[A\n",
      "Explain node 1726:  78%|███████▊  | 156/200 [00:00<00:00, 219.05it/s]\u001b[A\n",
      "Explain node 1726:  89%|████████▉ | 178/200 [00:00<00:00, 209.62it/s]\u001b[A\n",
      "Explain node 1726: 100%|██████████| 200/200 [00:00<00:00, 211.98it/s]\u001b[A\n"
     ]
    },
    {
     "name": "stdout",
     "output_type": "stream",
     "text": [
      "Accuracy on Model:  44.44444444444444\n",
      "Accuracy on EVAL-XG:  62.96296296296296\n"
     ]
    },
    {
     "name": "stderr",
     "output_type": "stream",
     "text": [
      "\n",
      "  0%|          | 0/200 [00:00<?, ?it/s]\u001b[A\n",
      "Explain node 1727:   0%|          | 0/200 [00:00<?, ?it/s]\u001b[A\n",
      "Explain node 1727:  11%|█         | 22/200 [00:00<00:00, 219.57it/s]\u001b[A\n",
      "Explain node 1727:  22%|██▏       | 44/200 [00:00<00:00, 219.05it/s]\u001b[A\n",
      "Explain node 1727:  34%|███▎      | 67/200 [00:00<00:00, 220.95it/s]\u001b[A\n",
      "Explain node 1727:  45%|████▌     | 90/200 [00:00<00:00, 222.54it/s]\u001b[A\n",
      "Explain node 1727:  56%|█████▋    | 113/200 [00:00<00:00, 223.21it/s]\u001b[A\n",
      "Explain node 1727:  68%|██████▊   | 136/200 [00:00<00:00, 222.73it/s]\u001b[A\n",
      "Explain node 1727:  80%|███████▉  | 159/200 [00:00<00:00, 222.89it/s]\u001b[A\n",
      "Explain node 1727: 100%|██████████| 200/200 [00:00<00:00, 223.15it/s]\u001b[A\n"
     ]
    },
    {
     "name": "stdout",
     "output_type": "stream",
     "text": [
      "Accuracy on Model:  42.857142857142854\n",
      "Accuracy on EVAL-XG:  60.71428571428571\n"
     ]
    },
    {
     "name": "stderr",
     "output_type": "stream",
     "text": [
      "\n",
      "  0%|          | 0/200 [00:00<?, ?it/s]\u001b[A\n",
      "Explain node 1728:   0%|          | 0/200 [00:00<?, ?it/s]\u001b[A\n",
      "Explain node 1728:  12%|█▏        | 23/200 [00:00<00:00, 224.18it/s]\u001b[A\n",
      "Explain node 1728:  23%|██▎       | 46/200 [00:00<00:00, 215.03it/s]\u001b[A\n",
      "Explain node 1728:  34%|███▍      | 68/200 [00:00<00:00, 216.61it/s]\u001b[A\n",
      "Explain node 1728:  45%|████▌     | 90/200 [00:00<00:00, 216.76it/s]\u001b[A\n",
      "Explain node 1728:  56%|█████▋    | 113/200 [00:00<00:00, 217.94it/s]\u001b[A\n",
      "Explain node 1728:  68%|██████▊   | 135/200 [00:00<00:00, 217.83it/s]\u001b[A\n",
      "Explain node 1728:  78%|███████▊  | 157/200 [00:00<00:00, 217.35it/s]\u001b[A\n",
      "Explain node 1728: 100%|██████████| 200/200 [00:00<00:00, 217.38it/s]\u001b[A\n"
     ]
    },
    {
     "name": "stdout",
     "output_type": "stream",
     "text": [
      "Accuracy on Model:  41.37931034482759\n",
      "Accuracy on EVAL-XG:  58.620689655172406\n"
     ]
    },
    {
     "name": "stderr",
     "output_type": "stream",
     "text": [
      "\n",
      "  0%|          | 0/200 [00:00<?, ?it/s]\u001b[A\n",
      "Explain node 1729:   0%|          | 0/200 [00:00<?, ?it/s]\u001b[A\n",
      "Explain node 1729:  11%|█         | 22/200 [00:00<00:00, 216.82it/s]\u001b[A\n",
      "Explain node 1729:  22%|██▎       | 45/200 [00:00<00:00, 219.75it/s]\u001b[A\n",
      "Explain node 1729:  34%|███▎      | 67/200 [00:00<00:00, 219.12it/s]\u001b[A\n",
      "Explain node 1729:  44%|████▍     | 89/200 [00:00<00:00, 213.41it/s]\u001b[A\n",
      "Explain node 1729:  56%|█████▌    | 111/200 [00:00<00:00, 214.99it/s]\u001b[A\n",
      "Explain node 1729:  66%|██████▋   | 133/200 [00:00<00:00, 215.99it/s]\u001b[A\n",
      "Explain node 1729:  78%|███████▊  | 155/200 [00:00<00:00, 215.55it/s]\u001b[A\n",
      "Explain node 1729:  88%|████████▊ | 177/200 [00:00<00:00, 215.89it/s]\u001b[A\n",
      "Explain node 1729: 100%|██████████| 200/200 [00:00<00:00, 215.64it/s]\u001b[A\n"
     ]
    },
    {
     "name": "stdout",
     "output_type": "stream",
     "text": [
      "Accuracy on Model:  43.333333333333336\n",
      "Accuracy on EVAL-XG:  60.0\n"
     ]
    },
    {
     "name": "stderr",
     "output_type": "stream",
     "text": [
      "\n",
      "  0%|          | 0/200 [00:00<?, ?it/s]\u001b[A\n",
      "Explain node 1730:   0%|          | 0/200 [00:00<?, ?it/s]\u001b[A\n",
      "Explain node 1730:  11%|█         | 22/200 [00:00<00:00, 218.30it/s]\u001b[A\n",
      "Explain node 1730:  22%|██▏       | 44/200 [00:00<00:00, 214.76it/s]\u001b[A\n",
      "Explain node 1730:  33%|███▎      | 66/200 [00:00<00:00, 216.90it/s]\u001b[A\n",
      "Explain node 1730:  44%|████▍     | 89/200 [00:00<00:00, 218.58it/s]\u001b[A\n",
      "Explain node 1730:  56%|█████▌    | 111/200 [00:00<00:00, 217.88it/s]\u001b[A\n",
      "Explain node 1730:  66%|██████▋   | 133/200 [00:00<00:00, 217.40it/s]\u001b[A\n",
      "Explain node 1730:  78%|███████▊  | 155/200 [00:00<00:00, 218.02it/s]\u001b[A\n",
      "Explain node 1730:  88%|████████▊ | 177/200 [00:00<00:00, 217.71it/s]\u001b[A\n",
      "Explain node 1730: 100%|██████████| 200/200 [00:00<00:00, 216.86it/s]\u001b[A\n"
     ]
    },
    {
     "name": "stdout",
     "output_type": "stream",
     "text": [
      "Accuracy on Model:  41.935483870967744\n",
      "Accuracy on EVAL-XG:  58.06451612903226\n"
     ]
    },
    {
     "name": "stderr",
     "output_type": "stream",
     "text": [
      "\n",
      "  0%|          | 0/200 [00:00<?, ?it/s]\u001b[A\n",
      "Explain node 1731:   0%|          | 0/200 [00:00<?, ?it/s]\u001b[A\n",
      "Explain node 1731:  11%|█         | 22/200 [00:00<00:00, 212.10it/s]\u001b[A\n",
      "Explain node 1731:  22%|██▎       | 45/200 [00:00<00:00, 218.22it/s]\u001b[A\n",
      "Explain node 1731:  34%|███▍      | 68/200 [00:00<00:00, 220.08it/s]\u001b[A\n",
      "Explain node 1731:  46%|████▌     | 91/200 [00:00<00:00, 219.10it/s]\u001b[A\n",
      "Explain node 1731:  56%|█████▋    | 113/200 [00:00<00:00, 218.76it/s]\u001b[A\n",
      "Explain node 1731:  68%|██████▊   | 136/200 [00:00<00:00, 219.72it/s]\u001b[A\n",
      "Explain node 1731:  79%|███████▉  | 158/200 [00:00<00:00, 219.22it/s]\u001b[A\n",
      "Explain node 1731: 100%|██████████| 200/200 [00:00<00:00, 217.91it/s]\u001b[A\n"
     ]
    },
    {
     "name": "stdout",
     "output_type": "stream",
     "text": [
      "Accuracy on Model:  43.75\n",
      "Accuracy on EVAL-XG:  59.375\n"
     ]
    },
    {
     "name": "stderr",
     "output_type": "stream",
     "text": [
      "\n",
      "  0%|          | 0/200 [00:00<?, ?it/s]\u001b[A\n",
      "Explain node 1732:   0%|          | 0/200 [00:00<?, ?it/s]\u001b[A\n",
      "Explain node 1732:  11%|█         | 22/200 [00:00<00:00, 216.07it/s]\u001b[A\n",
      "Explain node 1732:  22%|██▎       | 45/200 [00:00<00:00, 218.67it/s]\u001b[A\n",
      "Explain node 1732:  34%|███▍      | 68/200 [00:00<00:00, 220.09it/s]\u001b[A\n",
      "Explain node 1732:  46%|████▌     | 91/200 [00:00<00:00, 217.68it/s]\u001b[A\n",
      "Explain node 1732:  57%|█████▋    | 114/200 [00:00<00:00, 218.88it/s]\u001b[A\n",
      "Explain node 1732:  68%|██████▊   | 136/200 [00:00<00:00, 218.07it/s]\u001b[A\n",
      "Explain node 1732:  79%|███████▉  | 158/200 [00:00<00:00, 213.41it/s]\u001b[A\n",
      "Explain node 1732: 100%|██████████| 200/200 [00:00<00:00, 211.74it/s]\u001b[A\n"
     ]
    },
    {
     "name": "stdout",
     "output_type": "stream",
     "text": [
      "Accuracy on Model:  42.42424242424242\n",
      "Accuracy on EVAL-XG:  57.57575757575758\n"
     ]
    },
    {
     "name": "stderr",
     "output_type": "stream",
     "text": [
      "\n",
      "  0%|          | 0/200 [00:00<?, ?it/s]\u001b[A\n",
      "Explain node 1733:   0%|          | 0/200 [00:00<?, ?it/s]\u001b[A\n",
      "Explain node 1733:  11%|█         | 22/200 [00:00<00:00, 214.50it/s]\u001b[A\n",
      "Explain node 1733:  22%|██▏       | 44/200 [00:00<00:00, 214.72it/s]\u001b[A\n",
      "Explain node 1733:  33%|███▎      | 66/200 [00:00<00:00, 207.60it/s]\u001b[A\n",
      "Explain node 1733:  44%|████▎     | 87/200 [00:00<00:00, 207.58it/s]\u001b[A\n",
      "Explain node 1733:  54%|█████▍    | 108/200 [00:00<00:00, 206.76it/s]\u001b[A\n",
      "Explain node 1733:  65%|██████▌   | 130/200 [00:00<00:00, 210.56it/s]\u001b[A\n",
      "Explain node 1733:  76%|███████▌  | 152/200 [00:00<00:00, 211.33it/s]\u001b[A\n",
      "Explain node 1733:  87%|████████▋ | 174/200 [00:00<00:00, 212.73it/s]\u001b[A\n",
      "Explain node 1733: 100%|██████████| 200/200 [00:00<00:00, 210.97it/s]\u001b[A\n"
     ]
    },
    {
     "name": "stdout",
     "output_type": "stream",
     "text": [
      "Accuracy on Model:  41.17647058823529\n",
      "Accuracy on EVAL-XG:  55.88235294117647\n"
     ]
    },
    {
     "name": "stderr",
     "output_type": "stream",
     "text": [
      "\n",
      "  0%|          | 0/200 [00:00<?, ?it/s]\u001b[A\n",
      "Explain node 1734:   0%|          | 0/200 [00:00<?, ?it/s]\u001b[A\n",
      "Explain node 1734:  11%|█         | 22/200 [00:00<00:00, 212.64it/s]\u001b[A\n",
      "Explain node 1734:  22%|██▏       | 44/200 [00:00<00:00, 214.56it/s]\u001b[A\n",
      "Explain node 1734:  33%|███▎      | 66/200 [00:00<00:00, 215.03it/s]\u001b[A\n",
      "Explain node 1734:  44%|████▍     | 88/200 [00:00<00:00, 215.63it/s]\u001b[A\n",
      "Explain node 1734:  56%|█████▌    | 111/200 [00:00<00:00, 217.42it/s]\u001b[A\n",
      "Explain node 1734:  66%|██████▋   | 133/200 [00:00<00:00, 211.68it/s]\u001b[A\n",
      "Explain node 1734:  78%|███████▊  | 155/200 [00:00<00:00, 212.24it/s]\u001b[A\n",
      "Explain node 1734:  88%|████████▊ | 177/200 [00:00<00:00, 214.33it/s]\u001b[A\n",
      "Explain node 1734: 100%|██████████| 200/200 [00:00<00:00, 213.99it/s]\u001b[A\n"
     ]
    },
    {
     "name": "stdout",
     "output_type": "stream",
     "text": [
      "Accuracy on Model:  40.0\n",
      "Accuracy on EVAL-XG:  54.285714285714285\n"
     ]
    },
    {
     "name": "stderr",
     "output_type": "stream",
     "text": [
      "\n",
      "  0%|          | 0/200 [00:00<?, ?it/s]\u001b[A\n",
      "Explain node 1735:   0%|          | 0/200 [00:00<?, ?it/s]\u001b[A\n",
      "Explain node 1735:  11%|█         | 22/200 [00:00<00:00, 214.89it/s]\u001b[A\n",
      "Explain node 1735:  22%|██▏       | 44/200 [00:00<00:00, 214.85it/s]\u001b[A\n",
      "Explain node 1735:  33%|███▎      | 66/200 [00:00<00:00, 216.24it/s]\u001b[A\n",
      "Explain node 1735:  44%|████▍     | 89/200 [00:00<00:00, 218.09it/s]\u001b[A\n",
      "Explain node 1735:  56%|█████▌    | 112/200 [00:00<00:00, 219.24it/s]\u001b[A\n",
      "Explain node 1735:  67%|██████▋   | 134/200 [00:00<00:00, 218.18it/s]\u001b[A\n",
      "Explain node 1735:  78%|███████▊  | 156/200 [00:00<00:00, 214.73it/s]\u001b[A\n",
      "Explain node 1735:  89%|████████▉ | 178/200 [00:00<00:00, 216.20it/s]\u001b[A\n",
      "Explain node 1735: 100%|██████████| 200/200 [00:00<00:00, 215.96it/s]\u001b[A\n"
     ]
    },
    {
     "name": "stdout",
     "output_type": "stream",
     "text": [
      "Accuracy on Model:  41.66666666666667\n",
      "Accuracy on EVAL-XG:  55.55555555555556\n"
     ]
    },
    {
     "name": "stderr",
     "output_type": "stream",
     "text": [
      "\n",
      "  0%|          | 0/200 [00:00<?, ?it/s]\u001b[A\n",
      "Explain node 1736:   0%|          | 0/200 [00:00<?, ?it/s]\u001b[A\n",
      "Explain node 1736:  11%|█         | 22/200 [00:00<00:00, 215.11it/s]\u001b[A\n",
      "Explain node 1736:  22%|██▏       | 44/200 [00:00<00:00, 215.84it/s]\u001b[A\n",
      "Explain node 1736:  33%|███▎      | 66/200 [00:00<00:00, 217.65it/s]\u001b[A\n",
      "Explain node 1736:  44%|████▍     | 89/200 [00:00<00:00, 218.76it/s]\u001b[A\n",
      "Explain node 1736:  56%|█████▌    | 112/200 [00:00<00:00, 221.46it/s]\u001b[A\n",
      "Explain node 1736:  68%|██████▊   | 135/200 [00:00<00:00, 223.13it/s]\u001b[A\n",
      "Explain node 1736:  79%|███████▉  | 158/200 [00:00<00:00, 218.95it/s]\u001b[A\n",
      "Explain node 1736: 100%|██████████| 200/200 [00:00<00:00, 219.88it/s]\u001b[A\n"
     ]
    },
    {
     "name": "stdout",
     "output_type": "stream",
     "text": [
      "Accuracy on Model:  40.54054054054054\n",
      "Accuracy on EVAL-XG:  54.054054054054056\n"
     ]
    },
    {
     "name": "stderr",
     "output_type": "stream",
     "text": [
      "\n",
      "  0%|          | 0/200 [00:00<?, ?it/s]\u001b[A\n",
      "Explain node 1737:   0%|          | 0/200 [00:00<?, ?it/s]\u001b[A\n",
      "Explain node 1737:  12%|█▏        | 23/200 [00:00<00:00, 220.15it/s]\u001b[A\n",
      "Explain node 1737:  23%|██▎       | 46/200 [00:00<00:00, 218.62it/s]\u001b[A\n",
      "Explain node 1737:  34%|███▍      | 68/200 [00:00<00:00, 211.18it/s]\u001b[A\n",
      "Explain node 1737:  45%|████▌     | 90/200 [00:00<00:00, 210.82it/s]\u001b[A\n",
      "Explain node 1737:  56%|█████▌    | 112/200 [00:00<00:00, 207.54it/s]\u001b[A\n",
      "Explain node 1737:  66%|██████▋   | 133/200 [00:00<00:00, 203.48it/s]\u001b[A\n",
      "Explain node 1737:  77%|███████▋  | 154/200 [00:00<00:00, 204.62it/s]\u001b[A\n",
      "Explain node 1737:  88%|████████▊ | 175/200 [00:00<00:00, 205.96it/s]\u001b[A\n",
      "Explain node 1737: 100%|██████████| 200/200 [00:00<00:00, 207.87it/s]\u001b[A\n"
     ]
    },
    {
     "name": "stdout",
     "output_type": "stream",
     "text": [
      "Accuracy on Model:  42.10526315789473\n",
      "Accuracy on EVAL-XG:  55.26315789473685\n"
     ]
    },
    {
     "name": "stderr",
     "output_type": "stream",
     "text": [
      "\n",
      "  0%|          | 0/200 [00:00<?, ?it/s]\u001b[A\n",
      "Explain node 1738:   0%|          | 0/200 [00:00<?, ?it/s]\u001b[A\n",
      "Explain node 1738:  10%|█         | 21/200 [00:00<00:00, 206.85it/s]\u001b[A\n",
      "Explain node 1738:  21%|██        | 42/200 [00:00<00:00, 202.27it/s]\u001b[A\n",
      "Explain node 1738:  32%|███▏      | 64/200 [00:00<00:00, 209.31it/s]\u001b[A\n",
      "Explain node 1738:  42%|████▎     | 85/200 [00:00<00:00, 208.50it/s]\u001b[A\n",
      "Explain node 1738:  53%|█████▎    | 106/200 [00:00<00:00, 207.10it/s]\u001b[A\n",
      "Explain node 1738:  64%|██████▎   | 127/200 [00:00<00:00, 207.85it/s]\u001b[A\n",
      "Explain node 1738:  74%|███████▍  | 148/200 [00:00<00:00, 207.48it/s]\u001b[A\n",
      "Explain node 1738:  85%|████████▌ | 170/200 [00:00<00:00, 209.61it/s]\u001b[A\n",
      "Explain node 1738: 100%|██████████| 200/200 [00:00<00:00, 209.18it/s]\u001b[A\n"
     ]
    },
    {
     "name": "stdout",
     "output_type": "stream",
     "text": [
      "Accuracy on Model:  43.58974358974359\n",
      "Accuracy on EVAL-XG:  56.41025641025641\n"
     ]
    },
    {
     "name": "stderr",
     "output_type": "stream",
     "text": [
      "\n",
      "  0%|          | 0/200 [00:00<?, ?it/s]\u001b[A\n",
      "Explain node 1739:   0%|          | 0/200 [00:00<?, ?it/s]\u001b[A\n",
      "Explain node 1739:  10%|█         | 21/200 [00:00<00:00, 207.75it/s]\u001b[A\n",
      "Explain node 1739:  21%|██        | 42/200 [00:00<00:00, 205.39it/s]\u001b[A\n",
      "Explain node 1739:  32%|███▏      | 63/200 [00:00<00:00, 204.84it/s]\u001b[A\n",
      "Explain node 1739:  42%|████▎     | 85/200 [00:00<00:00, 207.92it/s]\u001b[A\n",
      "Explain node 1739:  54%|█████▎    | 107/200 [00:00<00:00, 209.52it/s]\u001b[A\n",
      "Explain node 1739:  64%|██████▍   | 129/200 [00:00<00:00, 211.82it/s]\u001b[A\n",
      "Explain node 1739:  76%|███████▌  | 151/200 [00:00<00:00, 213.27it/s]\u001b[A\n",
      "Explain node 1739:  87%|████████▋ | 174/200 [00:00<00:00, 216.95it/s]\u001b[A\n",
      "Explain node 1739: 100%|██████████| 200/200 [00:00<00:00, 212.03it/s]\u001b[A\n"
     ]
    },
    {
     "name": "stdout",
     "output_type": "stream",
     "text": [
      "Accuracy on Model:  42.5\n",
      "Accuracy on EVAL-XG:  55.00000000000001\n"
     ]
    },
    {
     "name": "stderr",
     "output_type": "stream",
     "text": [
      "\n",
      "  0%|          | 0/200 [00:00<?, ?it/s]\u001b[A\n",
      "Explain node 1740:   0%|          | 0/200 [00:00<?, ?it/s]\u001b[A\n",
      "Explain node 1740:  11%|█         | 22/200 [00:00<00:00, 215.58it/s]\u001b[A\n",
      "Explain node 1740:  22%|██▏       | 44/200 [00:00<00:00, 215.07it/s]\u001b[A\n",
      "Explain node 1740:  33%|███▎      | 66/200 [00:00<00:00, 216.24it/s]\u001b[A\n",
      "Explain node 1740:  44%|████▍     | 89/200 [00:00<00:00, 217.88it/s]\u001b[A\n",
      "Explain node 1740:  56%|█████▌    | 111/200 [00:00<00:00, 214.43it/s]\u001b[A\n",
      "Explain node 1740:  66%|██████▋   | 133/200 [00:00<00:00, 212.65it/s]\u001b[A\n",
      "Explain node 1740:  78%|███████▊  | 155/200 [00:00<00:00, 213.20it/s]\u001b[A\n",
      "Explain node 1740:  88%|████████▊ | 177/200 [00:00<00:00, 214.24it/s]\u001b[A\n",
      "Explain node 1740: 100%|██████████| 200/200 [00:00<00:00, 214.59it/s]\u001b[A\n"
     ]
    },
    {
     "name": "stdout",
     "output_type": "stream",
     "text": [
      "Accuracy on Model:  41.46341463414634\n",
      "Accuracy on EVAL-XG:  53.65853658536586\n"
     ]
    },
    {
     "name": "stderr",
     "output_type": "stream",
     "text": [
      "\n",
      "  0%|          | 0/200 [00:00<?, ?it/s]\u001b[A\n",
      "Explain node 1741:   0%|          | 0/200 [00:00<?, ?it/s]\u001b[A\n",
      "Explain node 1741:  12%|█▏        | 23/200 [00:00<00:00, 221.96it/s]\u001b[A\n",
      "Explain node 1741:  23%|██▎       | 46/200 [00:00<00:00, 219.73it/s]\u001b[A\n",
      "Explain node 1741:  34%|███▍      | 68/200 [00:00<00:00, 218.81it/s]\u001b[A\n",
      "Explain node 1741:  45%|████▌     | 90/200 [00:00<00:00, 217.74it/s]\u001b[A\n",
      "Explain node 1741:  56%|█████▌    | 112/200 [00:00<00:00, 216.72it/s]\u001b[A\n",
      "Explain node 1741:  67%|██████▋   | 134/200 [00:00<00:00, 211.93it/s]\u001b[A\n",
      "Explain node 1741:  78%|███████▊  | 156/200 [00:00<00:00, 213.28it/s]\u001b[A\n",
      "Explain node 1741:  89%|████████▉ | 178/200 [00:00<00:00, 214.46it/s]\u001b[A\n",
      "Explain node 1741: 100%|██████████| 200/200 [00:00<00:00, 215.52it/s]\u001b[A\n"
     ]
    },
    {
     "name": "stdout",
     "output_type": "stream",
     "text": [
      "Accuracy on Model:  40.476190476190474\n",
      "Accuracy on EVAL-XG:  52.38095238095239\n"
     ]
    },
    {
     "name": "stderr",
     "output_type": "stream",
     "text": [
      "\n",
      "  0%|          | 0/200 [00:00<?, ?it/s]\u001b[A\n",
      "Explain node 1742:   0%|          | 0/200 [00:00<?, ?it/s]\u001b[A\n",
      "Explain node 1742:  10%|█         | 21/200 [00:00<00:00, 205.98it/s]\u001b[A\n",
      "Explain node 1742:  22%|██▏       | 43/200 [00:00<00:00, 210.64it/s]\u001b[A\n",
      "Explain node 1742:  32%|███▎      | 65/200 [00:00<00:00, 213.53it/s]\u001b[A\n",
      "Explain node 1742:  44%|████▎     | 87/200 [00:00<00:00, 212.73it/s]\u001b[A\n",
      "Explain node 1742:  55%|█████▍    | 109/200 [00:00<00:00, 213.13it/s]\u001b[A\n",
      "Explain node 1742:  66%|██████▌   | 131/200 [00:00<00:00, 209.40it/s]\u001b[A\n",
      "Explain node 1742:  76%|███████▋  | 153/200 [00:00<00:00, 211.30it/s]\u001b[A\n",
      "Explain node 1742:  88%|████████▊ | 175/200 [00:00<00:00, 213.69it/s]\u001b[A\n",
      "Explain node 1742: 100%|██████████| 200/200 [00:00<00:00, 212.17it/s]\u001b[A\n"
     ]
    },
    {
     "name": "stdout",
     "output_type": "stream",
     "text": [
      "Accuracy on Model:  41.86046511627907\n",
      "Accuracy on EVAL-XG:  53.48837209302325\n"
     ]
    },
    {
     "name": "stderr",
     "output_type": "stream",
     "text": [
      "\n",
      "  0%|          | 0/200 [00:00<?, ?it/s]\u001b[A\n",
      "Explain node 1743:   0%|          | 0/200 [00:00<?, ?it/s]\u001b[A\n",
      "Explain node 1743:  11%|█         | 22/200 [00:00<00:00, 213.90it/s]\u001b[A\n",
      "Explain node 1743:  22%|██▏       | 44/200 [00:00<00:00, 207.84it/s]\u001b[A\n",
      "Explain node 1743:  33%|███▎      | 66/200 [00:00<00:00, 212.12it/s]\u001b[A\n",
      "Explain node 1743:  44%|████▍     | 88/200 [00:00<00:00, 210.91it/s]\u001b[A\n",
      "Explain node 1743:  55%|█████▌    | 110/200 [00:00<00:00, 209.50it/s]\u001b[A\n",
      "Explain node 1743:  66%|██████▌   | 132/200 [00:00<00:00, 211.85it/s]\u001b[A\n",
      "Explain node 1743:  77%|███████▋  | 154/200 [00:00<00:00, 212.32it/s]\u001b[A\n",
      "Explain node 1743:  88%|████████▊ | 176/200 [00:00<00:00, 214.65it/s]\u001b[A\n",
      "Explain node 1743: 100%|██████████| 200/200 [00:00<00:00, 210.07it/s]\u001b[A\n"
     ]
    },
    {
     "name": "stdout",
     "output_type": "stream",
     "text": [
      "Accuracy on Model:  40.909090909090914\n",
      "Accuracy on EVAL-XG:  52.27272727272727\n"
     ]
    },
    {
     "name": "stderr",
     "output_type": "stream",
     "text": [
      "\n",
      "  0%|          | 0/200 [00:00<?, ?it/s]\u001b[A\n",
      "Explain node 1744:   0%|          | 0/200 [00:00<?, ?it/s]\u001b[A\n",
      "Explain node 1744:  12%|█▏        | 23/200 [00:00<00:00, 225.23it/s]\u001b[A\n",
      "Explain node 1744:  23%|██▎       | 46/200 [00:00<00:00, 221.92it/s]\u001b[A\n",
      "Explain node 1744:  34%|███▍      | 69/200 [00:00<00:00, 219.30it/s]\u001b[A\n",
      "Explain node 1744:  46%|████▌     | 91/200 [00:00<00:00, 218.89it/s]\u001b[A\n",
      "Explain node 1744:  56%|█████▋    | 113/200 [00:00<00:00, 217.26it/s]\u001b[A\n",
      "Explain node 1744:  68%|██████▊   | 135/200 [00:00<00:00, 215.68it/s]\u001b[A\n",
      "Explain node 1744:  78%|███████▊  | 157/200 [00:00<00:00, 215.20it/s]\u001b[A\n",
      "Explain node 1744: 100%|██████████| 200/200 [00:00<00:00, 217.50it/s]\u001b[A\n"
     ]
    },
    {
     "name": "stdout",
     "output_type": "stream",
     "text": [
      "Accuracy on Model:  42.22222222222222\n",
      "Accuracy on EVAL-XG:  53.333333333333336\n"
     ]
    },
    {
     "name": "stderr",
     "output_type": "stream",
     "text": [
      "\n",
      "  0%|          | 0/200 [00:00<?, ?it/s]\u001b[A\n",
      "Explain node 1745:   0%|          | 0/200 [00:00<?, ?it/s]\u001b[A\n",
      "Explain node 1745:  10%|▉         | 19/200 [00:00<00:00, 187.80it/s]\u001b[A\n",
      "Explain node 1745:  20%|██        | 41/200 [00:00<00:00, 204.44it/s]\u001b[A\n",
      "Explain node 1745:  31%|███       | 62/200 [00:00<00:00, 204.83it/s]\u001b[A\n",
      "Explain node 1745:  42%|████▏     | 83/200 [00:00<00:00, 202.60it/s]\u001b[A\n",
      "Explain node 1745:  52%|█████▎    | 105/200 [00:00<00:00, 206.10it/s]\u001b[A\n",
      "Explain node 1745:  64%|██████▎   | 127/200 [00:00<00:00, 209.85it/s]\u001b[A\n",
      "Explain node 1745:  75%|███████▌  | 150/200 [00:00<00:00, 213.26it/s]\u001b[A\n",
      "Explain node 1745:  86%|████████▌ | 172/200 [00:00<00:00, 210.80it/s]\u001b[A\n",
      "Explain node 1745: 100%|██████████| 200/200 [00:00<00:00, 208.66it/s]\u001b[A\n"
     ]
    },
    {
     "name": "stdout",
     "output_type": "stream",
     "text": [
      "Accuracy on Model:  41.30434782608695\n",
      "Accuracy on EVAL-XG:  52.17391304347826\n"
     ]
    },
    {
     "name": "stderr",
     "output_type": "stream",
     "text": [
      "\n",
      "  0%|          | 0/200 [00:00<?, ?it/s]\u001b[A\n",
      "Explain node 1746:   0%|          | 0/200 [00:00<?, ?it/s]\u001b[A\n",
      "Explain node 1746:  11%|█         | 22/200 [00:00<00:00, 216.05it/s]\u001b[A\n",
      "Explain node 1746:  22%|██▎       | 45/200 [00:00<00:00, 219.50it/s]\u001b[A\n",
      "Explain node 1746:  34%|███▎      | 67/200 [00:00<00:00, 218.32it/s]\u001b[A\n",
      "Explain node 1746:  44%|████▍     | 89/200 [00:00<00:00, 217.16it/s]\u001b[A\n",
      "Explain node 1746:  56%|█████▌    | 111/200 [00:00<00:00, 215.33it/s]\u001b[A\n",
      "Explain node 1746:  66%|██████▋   | 133/200 [00:00<00:00, 215.24it/s]\u001b[A\n",
      "Explain node 1746:  78%|███████▊  | 155/200 [00:00<00:00, 216.24it/s]\u001b[A\n",
      "Explain node 1746: 100%|██████████| 200/200 [00:00<00:00, 217.96it/s]\u001b[A\n"
     ]
    },
    {
     "name": "stdout",
     "output_type": "stream",
     "text": [
      "Accuracy on Model:  40.42553191489361\n",
      "Accuracy on EVAL-XG:  51.06382978723404\n"
     ]
    },
    {
     "name": "stderr",
     "output_type": "stream",
     "text": [
      "\n",
      "  0%|          | 0/200 [00:00<?, ?it/s]\u001b[A\n",
      "Explain node 1747:   0%|          | 0/200 [00:00<?, ?it/s]\u001b[A\n",
      "Explain node 1747:  11%|█         | 22/200 [00:00<00:00, 214.16it/s]\u001b[A\n",
      "Explain node 1747:  22%|██▏       | 44/200 [00:00<00:00, 212.57it/s]\u001b[A\n",
      "Explain node 1747:  33%|███▎      | 66/200 [00:00<00:00, 215.80it/s]\u001b[A\n",
      "Explain node 1747:  44%|████▍     | 89/200 [00:00<00:00, 217.64it/s]\u001b[A\n",
      "Explain node 1747:  56%|█████▌    | 112/200 [00:00<00:00, 218.91it/s]\u001b[A\n",
      "Explain node 1747:  68%|██████▊   | 135/200 [00:00<00:00, 221.01it/s]\u001b[A\n",
      "Explain node 1747:  79%|███████▉  | 158/200 [00:00<00:00, 223.02it/s]\u001b[A\n",
      "Explain node 1747: 100%|██████████| 200/200 [00:00<00:00, 221.10it/s]\u001b[A\n"
     ]
    },
    {
     "name": "stdout",
     "output_type": "stream",
     "text": [
      "Accuracy on Model:  41.66666666666667\n",
      "Accuracy on EVAL-XG:  52.083333333333336\n"
     ]
    },
    {
     "name": "stderr",
     "output_type": "stream",
     "text": [
      "\n",
      "  0%|          | 0/200 [00:00<?, ?it/s]\u001b[A\n",
      "Explain node 1748:   0%|          | 0/200 [00:00<?, ?it/s]\u001b[A\n",
      "Explain node 1748:  11%|█         | 22/200 [00:00<00:00, 213.72it/s]\u001b[A\n",
      "Explain node 1748:  22%|██▏       | 44/200 [00:00<00:00, 215.31it/s]\u001b[A\n",
      "Explain node 1748:  34%|███▎      | 67/200 [00:00<00:00, 217.72it/s]\u001b[A\n",
      "Explain node 1748:  44%|████▍     | 89/200 [00:00<00:00, 214.80it/s]\u001b[A\n",
      "Explain node 1748:  56%|█████▌    | 112/200 [00:00<00:00, 218.41it/s]\u001b[A\n",
      "Explain node 1748:  68%|██████▊   | 135/200 [00:00<00:00, 220.79it/s]\u001b[A\n",
      "Explain node 1748:  79%|███████▉  | 158/200 [00:00<00:00, 222.86it/s]\u001b[A\n",
      "Explain node 1748: 100%|██████████| 200/200 [00:00<00:00, 221.51it/s]\u001b[A\n"
     ]
    },
    {
     "name": "stdout",
     "output_type": "stream",
     "text": [
      "Accuracy on Model:  42.857142857142854\n",
      "Accuracy on EVAL-XG:  53.06122448979592\n"
     ]
    },
    {
     "name": "stderr",
     "output_type": "stream",
     "text": [
      "\n",
      "  0%|          | 0/200 [00:00<?, ?it/s]\u001b[A\n",
      "Explain node 1749:   0%|          | 0/200 [00:00<?, ?it/s]\u001b[A\n",
      "Explain node 1749:  12%|█▏        | 23/200 [00:00<00:00, 225.90it/s]\u001b[A\n",
      "Explain node 1749:  23%|██▎       | 46/200 [00:00<00:00, 225.41it/s]\u001b[A\n",
      "Explain node 1749:  34%|███▍      | 69/200 [00:00<00:00, 218.11it/s]\u001b[A\n",
      "Explain node 1749:  46%|████▌     | 91/200 [00:00<00:00, 196.68it/s]\u001b[A\n",
      "Explain node 1749:  56%|█████▌    | 112/200 [00:00<00:00, 200.62it/s]\u001b[A\n",
      "Explain node 1749:  68%|██████▊   | 135/200 [00:00<00:00, 206.92it/s]\u001b[A\n",
      "Explain node 1749:  79%|███████▉  | 158/200 [00:00<00:00, 212.24it/s]\u001b[A\n",
      "Explain node 1749: 100%|██████████| 200/200 [00:00<00:00, 212.59it/s]\u001b[A\n"
     ]
    },
    {
     "name": "stdout",
     "output_type": "stream",
     "text": [
      "Accuracy on Model:  44.0\n",
      "Accuracy on EVAL-XG:  54.0\n"
     ]
    },
    {
     "name": "stderr",
     "output_type": "stream",
     "text": [
      "\n",
      "  0%|          | 0/200 [00:00<?, ?it/s]\u001b[A\n",
      "Explain node 1750:   0%|          | 0/200 [00:00<?, ?it/s]\u001b[A\n",
      "Explain node 1750:  11%|█         | 22/200 [00:00<00:00, 219.48it/s]\u001b[A\n",
      "Explain node 1750:  22%|██▏       | 44/200 [00:00<00:00, 219.77it/s]\u001b[A\n",
      "Explain node 1750:  34%|███▎      | 67/200 [00:00<00:00, 220.27it/s]\u001b[A\n",
      "Explain node 1750:  45%|████▌     | 90/200 [00:00<00:00, 219.85it/s]\u001b[A\n",
      "Explain node 1750:  56%|█████▌    | 112/200 [00:00<00:00, 205.73it/s]\u001b[A\n",
      "Explain node 1750:  66%|██████▋   | 133/200 [00:00<00:00, 194.19it/s]\u001b[A\n",
      "Explain node 1750:  76%|███████▋  | 153/200 [00:00<00:00, 185.18it/s]\u001b[A\n",
      "Explain node 1750:  86%|████████▌ | 172/200 [00:00<00:00, 180.13it/s]\u001b[A\n",
      "Explain node 1750: 100%|██████████| 200/200 [00:01<00:00, 191.63it/s]\u001b[A\n"
     ]
    },
    {
     "name": "stdout",
     "output_type": "stream",
     "text": [
      "Accuracy on Model:  45.09803921568628\n",
      "Accuracy on EVAL-XG:  54.90196078431373\n"
     ]
    },
    {
     "name": "stderr",
     "output_type": "stream",
     "text": [
      "\n",
      "  0%|          | 0/200 [00:00<?, ?it/s]\u001b[A\n",
      "Explain node 1751:   0%|          | 0/200 [00:00<?, ?it/s]\u001b[A\n",
      "Explain node 1751:  10%|▉         | 19/200 [00:00<00:00, 182.52it/s]\u001b[A\n",
      "Explain node 1751:  19%|█▉        | 38/200 [00:00<00:00, 182.49it/s]\u001b[A\n",
      "Explain node 1751:  30%|███       | 61/200 [00:00<00:00, 202.53it/s]\u001b[A\n",
      "Explain node 1751:  42%|████▏     | 84/200 [00:00<00:00, 210.23it/s]\u001b[A\n",
      "Explain node 1751:  54%|█████▎    | 107/200 [00:00<00:00, 215.03it/s]\u001b[A\n",
      "Explain node 1751:  65%|██████▌   | 130/200 [00:00<00:00, 217.71it/s]\u001b[A\n",
      "Explain node 1751:  76%|███████▋  | 153/200 [00:00<00:00, 218.50it/s]\u001b[A\n",
      "Explain node 1751:  88%|████████▊ | 176/200 [00:00<00:00, 219.92it/s]\u001b[A\n",
      "Explain node 1751: 100%|██████████| 200/200 [00:00<00:00, 213.39it/s]\u001b[A\n"
     ]
    },
    {
     "name": "stdout",
     "output_type": "stream",
     "text": [
      "Accuracy on Model:  46.15384615384615\n",
      "Accuracy on EVAL-XG:  55.769230769230774\n"
     ]
    },
    {
     "name": "stderr",
     "output_type": "stream",
     "text": [
      "\n",
      "  0%|          | 0/200 [00:00<?, ?it/s]\u001b[A\n",
      "Explain node 1752:   0%|          | 0/200 [00:00<?, ?it/s]\u001b[A\n",
      "Explain node 1752:  12%|█▏        | 23/200 [00:00<00:00, 223.65it/s]\u001b[A\n",
      "Explain node 1752:  23%|██▎       | 46/200 [00:00<00:00, 221.18it/s]\u001b[A\n",
      "Explain node 1752:  34%|███▍      | 69/200 [00:00<00:00, 222.51it/s]\u001b[A\n",
      "Explain node 1752:  46%|████▌     | 92/200 [00:00<00:00, 224.28it/s]\u001b[A\n",
      "Explain node 1752:  57%|█████▊    | 115/200 [00:00<00:00, 224.12it/s]\u001b[A\n",
      "Explain node 1752:  69%|██████▉   | 138/200 [00:00<00:00, 223.84it/s]\u001b[A\n",
      "Explain node 1752:  80%|████████  | 161/200 [00:00<00:00, 223.50it/s]\u001b[A\n",
      "Explain node 1752: 100%|██████████| 200/200 [00:00<00:00, 222.18it/s]\u001b[A\n"
     ]
    },
    {
     "name": "stdout",
     "output_type": "stream",
     "text": [
      "Accuracy on Model:  47.16981132075472\n",
      "Accuracy on EVAL-XG:  56.60377358490566\n"
     ]
    },
    {
     "name": "stderr",
     "output_type": "stream",
     "text": [
      "\n",
      "  0%|          | 0/200 [00:00<?, ?it/s]\u001b[A\n",
      "Explain node 1753:   0%|          | 0/200 [00:00<?, ?it/s]\u001b[A\n",
      "Explain node 1753:  11%|█         | 22/200 [00:00<00:00, 211.56it/s]\u001b[A\n",
      "Explain node 1753:  22%|██▏       | 44/200 [00:00<00:00, 212.68it/s]\u001b[A\n",
      "Explain node 1753:  33%|███▎      | 66/200 [00:00<00:00, 213.88it/s]\u001b[A\n",
      "Explain node 1753:  44%|████▍     | 88/200 [00:00<00:00, 214.14it/s]\u001b[A\n",
      "Explain node 1753:  55%|█████▌    | 110/200 [00:00<00:00, 213.55it/s]\u001b[A\n",
      "Explain node 1753:  66%|██████▌   | 132/200 [00:00<00:00, 213.41it/s]\u001b[A\n",
      "Explain node 1753:  77%|███████▋  | 154/200 [00:00<00:00, 213.78it/s]\u001b[A\n",
      "Explain node 1753:  88%|████████▊ | 176/200 [00:00<00:00, 213.70it/s]\u001b[A\n",
      "Explain node 1753: 100%|██████████| 200/200 [00:00<00:00, 213.13it/s]\u001b[A\n"
     ]
    },
    {
     "name": "stdout",
     "output_type": "stream",
     "text": [
      "Accuracy on Model:  48.148148148148145\n",
      "Accuracy on EVAL-XG:  57.407407407407405\n"
     ]
    },
    {
     "name": "stderr",
     "output_type": "stream",
     "text": [
      "\n",
      "  0%|          | 0/200 [00:00<?, ?it/s]\u001b[A\n",
      "Explain node 1754:   0%|          | 0/200 [00:00<?, ?it/s]\u001b[A\n",
      "Explain node 1754:  11%|█         | 22/200 [00:00<00:00, 211.08it/s]\u001b[A\n",
      "Explain node 1754:  22%|██▏       | 44/200 [00:00<00:00, 213.09it/s]\u001b[A\n",
      "Explain node 1754:  33%|███▎      | 66/200 [00:00<00:00, 213.73it/s]\u001b[A\n",
      "Explain node 1754:  44%|████▍     | 88/200 [00:00<00:00, 213.18it/s]\u001b[A\n",
      "Explain node 1754:  55%|█████▌    | 110/200 [00:00<00:00, 212.53it/s]\u001b[A\n",
      "Explain node 1754:  66%|██████▌   | 132/200 [00:00<00:00, 213.70it/s]\u001b[A\n",
      "Explain node 1754:  77%|███████▋  | 154/200 [00:00<00:00, 209.81it/s]\u001b[A\n",
      "Explain node 1754:  88%|████████▊ | 176/200 [00:00<00:00, 210.99it/s]\u001b[A\n",
      "Explain node 1754: 100%|██████████| 200/200 [00:00<00:00, 211.39it/s]\u001b[A\n"
     ]
    },
    {
     "name": "stdout",
     "output_type": "stream",
     "text": [
      "Accuracy on Model:  47.27272727272727\n",
      "Accuracy on EVAL-XG:  56.36363636363636\n"
     ]
    },
    {
     "name": "stderr",
     "output_type": "stream",
     "text": [
      "\n",
      "  0%|          | 0/200 [00:00<?, ?it/s]\u001b[A\n",
      "Explain node 1755:   0%|          | 0/200 [00:00<?, ?it/s]\u001b[A\n",
      "Explain node 1755:  11%|█         | 22/200 [00:00<00:00, 214.38it/s]\u001b[A\n",
      "Explain node 1755:  22%|██▏       | 44/200 [00:00<00:00, 215.04it/s]\u001b[A\n",
      "Explain node 1755:  33%|███▎      | 66/200 [00:00<00:00, 207.88it/s]\u001b[A\n",
      "Explain node 1755:  44%|████▎     | 87/200 [00:00<00:00, 198.12it/s]\u001b[A\n",
      "Explain node 1755:  54%|█████▎    | 107/200 [00:00<00:00, 193.22it/s]\u001b[A\n",
      "Explain node 1755:  64%|██████▍   | 128/200 [00:00<00:00, 196.88it/s]\u001b[A\n",
      "Explain node 1755:  74%|███████▍  | 149/200 [00:00<00:00, 200.87it/s]\u001b[A\n",
      "Explain node 1755:  86%|████████▌ | 171/200 [00:00<00:00, 204.35it/s]\u001b[A\n",
      "Explain node 1755: 100%|██████████| 200/200 [00:00<00:00, 203.80it/s]\u001b[A\n"
     ]
    },
    {
     "name": "stdout",
     "output_type": "stream",
     "text": [
      "Accuracy on Model:  48.214285714285715\n",
      "Accuracy on EVAL-XG:  57.14285714285714\n"
     ]
    },
    {
     "name": "stderr",
     "output_type": "stream",
     "text": [
      "\n",
      "  0%|          | 0/200 [00:00<?, ?it/s]\u001b[A\n",
      "Explain node 1756:   0%|          | 0/200 [00:00<?, ?it/s]\u001b[A\n",
      "Explain node 1756:  11%|█         | 22/200 [00:00<00:00, 215.65it/s]\u001b[A\n",
      "Explain node 1756:  22%|██▏       | 44/200 [00:00<00:00, 214.75it/s]\u001b[A\n",
      "Explain node 1756:  33%|███▎      | 66/200 [00:00<00:00, 214.86it/s]\u001b[A\n",
      "Explain node 1756:  44%|████▍     | 88/200 [00:00<00:00, 214.28it/s]\u001b[A\n",
      "Explain node 1756:  55%|█████▌    | 110/200 [00:00<00:00, 214.90it/s]\u001b[A\n",
      "Explain node 1756:  66%|██████▋   | 133/200 [00:00<00:00, 217.20it/s]\u001b[A\n",
      "Explain node 1756:  78%|███████▊  | 155/200 [00:00<00:00, 216.94it/s]\u001b[A\n",
      "Explain node 1756:  88%|████████▊ | 177/200 [00:00<00:00, 216.09it/s]\u001b[A\n",
      "Explain node 1756: 100%|██████████| 200/200 [00:00<00:00, 215.04it/s]\u001b[A\n"
     ]
    },
    {
     "name": "stdout",
     "output_type": "stream",
     "text": [
      "Accuracy on Model:  47.368421052631575\n",
      "Accuracy on EVAL-XG:  57.89473684210527\n"
     ]
    },
    {
     "name": "stderr",
     "output_type": "stream",
     "text": [
      "\n",
      "  0%|          | 0/200 [00:00<?, ?it/s]\u001b[A\n",
      "Explain node 1757:   0%|          | 0/200 [00:00<?, ?it/s]\u001b[A\n",
      "Explain node 1757:  11%|█         | 22/200 [00:00<00:00, 212.67it/s]\u001b[A\n",
      "Explain node 1757:  22%|██▏       | 44/200 [00:00<00:00, 212.40it/s]\u001b[A\n",
      "Explain node 1757:  33%|███▎      | 66/200 [00:00<00:00, 215.60it/s]\u001b[A\n",
      "Explain node 1757:  44%|████▍     | 88/200 [00:00<00:00, 215.98it/s]\u001b[A\n",
      "Explain node 1757:  55%|█████▌    | 110/200 [00:00<00:00, 215.36it/s]\u001b[A\n",
      "Explain node 1757:  66%|██████▋   | 133/200 [00:00<00:00, 217.01it/s]\u001b[A\n",
      "Explain node 1757:  78%|███████▊  | 155/200 [00:00<00:00, 212.00it/s]\u001b[A\n",
      "Explain node 1757:  88%|████████▊ | 177/200 [00:00<00:00, 213.01it/s]\u001b[A\n",
      "Explain node 1757: 100%|██████████| 200/200 [00:00<00:00, 213.62it/s]\u001b[A\n"
     ]
    },
    {
     "name": "stdout",
     "output_type": "stream",
     "text": [
      "Accuracy on Model:  48.275862068965516\n",
      "Accuracy on EVAL-XG:  58.620689655172406\n"
     ]
    },
    {
     "name": "stderr",
     "output_type": "stream",
     "text": [
      "\n",
      "  0%|          | 0/200 [00:00<?, ?it/s]\u001b[A\n",
      "Explain node 1758:   0%|          | 0/200 [00:00<?, ?it/s]\u001b[A\n",
      "Explain node 1758:  11%|█         | 22/200 [00:00<00:00, 216.08it/s]\u001b[A\n",
      "Explain node 1758:  22%|██▏       | 44/200 [00:00<00:00, 216.30it/s]\u001b[A\n",
      "Explain node 1758:  33%|███▎      | 66/200 [00:00<00:00, 216.56it/s]\u001b[A\n",
      "Explain node 1758:  44%|████▍     | 89/200 [00:00<00:00, 218.15it/s]\u001b[A\n",
      "Explain node 1758:  56%|█████▌    | 112/200 [00:00<00:00, 219.46it/s]\u001b[A\n",
      "Explain node 1758:  68%|██████▊   | 135/200 [00:00<00:00, 220.84it/s]\u001b[A\n",
      "Explain node 1758:  79%|███████▉  | 158/200 [00:00<00:00, 221.32it/s]\u001b[A\n",
      "Explain node 1758: 100%|██████████| 200/200 [00:00<00:00, 217.04it/s]\u001b[A\n"
     ]
    },
    {
     "name": "stdout",
     "output_type": "stream",
     "text": [
      "Accuracy on Model:  47.45762711864407\n",
      "Accuracy on EVAL-XG:  59.32203389830508\n"
     ]
    },
    {
     "name": "stderr",
     "output_type": "stream",
     "text": [
      "\n",
      "  0%|          | 0/200 [00:00<?, ?it/s]\u001b[A\n",
      "Explain node 1759:   0%|          | 0/200 [00:00<?, ?it/s]\u001b[A\n",
      "Explain node 1759:  11%|█         | 22/200 [00:00<00:00, 217.32it/s]\u001b[A\n",
      "Explain node 1759:  22%|██▎       | 45/200 [00:00<00:00, 219.68it/s]\u001b[A\n",
      "Explain node 1759:  34%|███▍      | 68/200 [00:00<00:00, 221.15it/s]\u001b[A\n",
      "Explain node 1759:  46%|████▌     | 91/200 [00:00<00:00, 221.63it/s]\u001b[A\n",
      "Explain node 1759:  57%|█████▋    | 114/200 [00:00<00:00, 221.10it/s]\u001b[A\n",
      "Explain node 1759:  68%|██████▊   | 137/200 [00:00<00:00, 218.45it/s]\u001b[A\n",
      "Explain node 1759:  80%|████████  | 160/200 [00:00<00:00, 219.73it/s]\u001b[A\n",
      "Explain node 1759: 100%|██████████| 200/200 [00:00<00:00, 219.89it/s]\u001b[A\n"
     ]
    },
    {
     "name": "stdout",
     "output_type": "stream",
     "text": [
      "Accuracy on Model:  46.666666666666664\n",
      "Accuracy on EVAL-XG:  58.333333333333336\n"
     ]
    },
    {
     "name": "stderr",
     "output_type": "stream",
     "text": [
      "\n",
      "  0%|          | 0/200 [00:00<?, ?it/s]\u001b[A\n",
      "Explain node 1760:   0%|          | 0/200 [00:00<?, ?it/s]\u001b[A\n",
      "Explain node 1760:  10%|█         | 21/200 [00:00<00:00, 206.39it/s]\u001b[A\n",
      "Explain node 1760:  21%|██        | 42/200 [00:00<00:00, 206.76it/s]\u001b[A\n",
      "Explain node 1760:  32%|███▏      | 64/200 [00:00<00:00, 209.26it/s]\u001b[A\n",
      "Explain node 1760:  43%|████▎     | 86/200 [00:00<00:00, 211.01it/s]\u001b[A\n",
      "Explain node 1760:  54%|█████▍    | 108/200 [00:00<00:00, 211.87it/s]\u001b[A\n",
      "Explain node 1760:  65%|██████▌   | 130/200 [00:00<00:00, 212.52it/s]\u001b[A\n",
      "Explain node 1760:  76%|███████▌  | 152/200 [00:00<00:00, 209.59it/s]\u001b[A\n",
      "Explain node 1760:  86%|████████▋ | 173/200 [00:00<00:00, 202.49it/s]\u001b[A\n",
      "Explain node 1760: 100%|██████████| 200/200 [00:00<00:00, 207.59it/s]\u001b[A\n"
     ]
    },
    {
     "name": "stdout",
     "output_type": "stream",
     "text": [
      "Accuracy on Model:  45.90163934426229\n",
      "Accuracy on EVAL-XG:  57.377049180327866\n"
     ]
    },
    {
     "name": "stderr",
     "output_type": "stream",
     "text": [
      "\n",
      "  0%|          | 0/200 [00:00<?, ?it/s]\u001b[A\n",
      "Explain node 1761:   0%|          | 0/200 [00:00<?, ?it/s]\u001b[A\n",
      "Explain node 1761:  12%|█▏        | 23/200 [00:00<00:00, 221.22it/s]\u001b[A\n",
      "Explain node 1761:  23%|██▎       | 46/200 [00:00<00:00, 218.29it/s]\u001b[A\n",
      "Explain node 1761:  34%|███▍      | 68/200 [00:00<00:00, 218.11it/s]\u001b[A\n",
      "Explain node 1761:  45%|████▌     | 90/200 [00:00<00:00, 217.76it/s]\u001b[A\n",
      "Explain node 1761:  56%|█████▌    | 112/200 [00:00<00:00, 217.86it/s]\u001b[A\n",
      "Explain node 1761:  67%|██████▋   | 134/200 [00:00<00:00, 218.22it/s]\u001b[A\n",
      "Explain node 1761:  78%|███████▊  | 156/200 [00:00<00:00, 217.75it/s]\u001b[A\n",
      "Explain node 1761: 100%|██████████| 200/200 [00:00<00:00, 217.99it/s]\u001b[A\n"
     ]
    },
    {
     "name": "stdout",
     "output_type": "stream",
     "text": [
      "Accuracy on Model:  46.774193548387096\n",
      "Accuracy on EVAL-XG:  58.06451612903226\n"
     ]
    },
    {
     "name": "stderr",
     "output_type": "stream",
     "text": [
      "\n",
      "  0%|          | 0/200 [00:00<?, ?it/s]\u001b[A\n",
      "Explain node 1762:   0%|          | 0/200 [00:00<?, ?it/s]\u001b[A\n",
      "Explain node 1762:  11%|█         | 22/200 [00:00<00:00, 215.68it/s]\u001b[A\n",
      "Explain node 1762:  22%|██▏       | 44/200 [00:00<00:00, 215.04it/s]\u001b[A\n",
      "Explain node 1762:  33%|███▎      | 66/200 [00:00<00:00, 214.62it/s]\u001b[A\n",
      "Explain node 1762:  44%|████▍     | 88/200 [00:00<00:00, 214.80it/s]\u001b[A\n",
      "Explain node 1762:  55%|█████▌    | 110/200 [00:00<00:00, 215.45it/s]\u001b[A\n",
      "Explain node 1762:  66%|██████▋   | 133/200 [00:00<00:00, 217.03it/s]\u001b[A\n",
      "Explain node 1762:  78%|███████▊  | 156/200 [00:00<00:00, 218.43it/s]\u001b[A\n",
      "Explain node 1762: 100%|██████████| 200/200 [00:00<00:00, 217.60it/s]\u001b[A\n"
     ]
    },
    {
     "name": "stdout",
     "output_type": "stream",
     "text": [
      "Accuracy on Model:  47.61904761904761\n",
      "Accuracy on EVAL-XG:  58.730158730158735\n"
     ]
    },
    {
     "name": "stderr",
     "output_type": "stream",
     "text": [
      "\n",
      "  0%|          | 0/200 [00:00<?, ?it/s]\u001b[A\n",
      "Explain node 1763:   0%|          | 0/200 [00:00<?, ?it/s]\u001b[A\n",
      "Explain node 1763:  11%|█         | 22/200 [00:00<00:00, 216.04it/s]\u001b[A\n",
      "Explain node 1763:  22%|██▏       | 44/200 [00:00<00:00, 215.47it/s]\u001b[A\n",
      "Explain node 1763:  33%|███▎      | 66/200 [00:00<00:00, 215.95it/s]\u001b[A\n",
      "Explain node 1763:  44%|████▍     | 88/200 [00:00<00:00, 216.90it/s]\u001b[A\n",
      "Explain node 1763:  56%|█████▌    | 111/200 [00:00<00:00, 218.23it/s]\u001b[A\n",
      "Explain node 1763:  66%|██████▋   | 133/200 [00:00<00:00, 218.18it/s]\u001b[A\n",
      "Explain node 1763:  78%|███████▊  | 155/200 [00:00<00:00, 217.71it/s]\u001b[A\n",
      "Explain node 1763:  89%|████████▉ | 178/200 [00:00<00:00, 218.70it/s]\u001b[A\n",
      "Explain node 1763: 100%|██████████| 200/200 [00:00<00:00, 217.29it/s]\u001b[A\n"
     ]
    },
    {
     "name": "stdout",
     "output_type": "stream",
     "text": [
      "Accuracy on Model:  46.875\n",
      "Accuracy on EVAL-XG:  57.8125\n"
     ]
    },
    {
     "name": "stderr",
     "output_type": "stream",
     "text": [
      "\n",
      "  0%|          | 0/200 [00:00<?, ?it/s]\u001b[A\n",
      "Explain node 1764:   0%|          | 0/200 [00:00<?, ?it/s]\u001b[A\n",
      "Explain node 1764:  11%|█         | 22/200 [00:00<00:00, 212.77it/s]\u001b[A\n",
      "Explain node 1764:  22%|██▏       | 44/200 [00:00<00:00, 214.05it/s]\u001b[A\n",
      "Explain node 1764:  33%|███▎      | 66/200 [00:00<00:00, 216.60it/s]\u001b[A\n",
      "Explain node 1764:  44%|████▍     | 88/200 [00:00<00:00, 213.14it/s]\u001b[A\n",
      "Explain node 1764:  55%|█████▌    | 110/200 [00:00<00:00, 212.74it/s]\u001b[A\n",
      "Explain node 1764:  66%|██████▌   | 132/200 [00:00<00:00, 204.17it/s]\u001b[A\n",
      "Explain node 1764:  76%|███████▋  | 153/200 [00:00<00:00, 202.00it/s]\u001b[A\n",
      "Explain node 1764:  87%|████████▋ | 174/200 [00:00<00:00, 199.53it/s]\u001b[A\n",
      "Explain node 1764: 100%|██████████| 200/200 [00:00<00:00, 204.97it/s]\u001b[A\n"
     ]
    },
    {
     "name": "stdout",
     "output_type": "stream",
     "text": [
      "Accuracy on Model:  47.69230769230769\n",
      "Accuracy on EVAL-XG:  58.46153846153847\n"
     ]
    },
    {
     "name": "stderr",
     "output_type": "stream",
     "text": [
      "\n",
      "  0%|          | 0/200 [00:00<?, ?it/s]\u001b[A\n",
      "Explain node 1765:   0%|          | 0/200 [00:00<?, ?it/s]\u001b[A\n",
      "Explain node 1765:  11%|█         | 22/200 [00:00<00:00, 214.89it/s]\u001b[A\n",
      "Explain node 1765:  22%|██▏       | 44/200 [00:00<00:00, 216.02it/s]\u001b[A\n",
      "Explain node 1765:  33%|███▎      | 66/200 [00:00<00:00, 217.65it/s]\u001b[A\n",
      "Explain node 1765:  44%|████▍     | 88/200 [00:00<00:00, 217.69it/s]\u001b[A\n",
      "Explain node 1765:  55%|█████▌    | 110/200 [00:00<00:00, 216.59it/s]\u001b[A\n",
      "Explain node 1765:  66%|██████▌   | 132/200 [00:00<00:00, 216.57it/s]\u001b[A\n",
      "Explain node 1765:  78%|███████▊  | 155/200 [00:00<00:00, 218.19it/s]\u001b[A\n",
      "Explain node 1765:  88%|████████▊ | 177/200 [00:00<00:00, 217.81it/s]\u001b[A\n",
      "Explain node 1765: 100%|██████████| 200/200 [00:00<00:00, 217.15it/s]\u001b[A\n"
     ]
    },
    {
     "name": "stdout",
     "output_type": "stream",
     "text": [
      "Accuracy on Model:  46.96969696969697\n",
      "Accuracy on EVAL-XG:  57.57575757575758\n"
     ]
    },
    {
     "name": "stderr",
     "output_type": "stream",
     "text": [
      "\n",
      "  0%|          | 0/200 [00:00<?, ?it/s]\u001b[A\n",
      "Explain node 1766:   0%|          | 0/200 [00:00<?, ?it/s]\u001b[A\n",
      "Explain node 1766:  11%|█         | 22/200 [00:00<00:00, 219.58it/s]\u001b[A\n",
      "Explain node 1766:  22%|██▏       | 44/200 [00:00<00:00, 217.72it/s]\u001b[A\n",
      "Explain node 1766:  34%|███▎      | 67/200 [00:00<00:00, 219.90it/s]\u001b[A\n",
      "Explain node 1766:  44%|████▍     | 89/200 [00:00<00:00, 209.39it/s]\u001b[A\n",
      "Explain node 1766:  56%|█████▌    | 111/200 [00:00<00:00, 211.63it/s]\u001b[A\n",
      "Explain node 1766:  66%|██████▋   | 133/200 [00:00<00:00, 208.46it/s]\u001b[A\n",
      "Explain node 1766:  77%|███████▋  | 154/200 [00:00<00:00, 206.32it/s]\u001b[A\n",
      "Explain node 1766:  88%|████████▊ | 176/200 [00:00<00:00, 208.66it/s]\u001b[A\n",
      "Explain node 1766: 100%|██████████| 200/200 [00:00<00:00, 208.15it/s]\u001b[A\n"
     ]
    },
    {
     "name": "stdout",
     "output_type": "stream",
     "text": [
      "Accuracy on Model:  46.26865671641791\n",
      "Accuracy on EVAL-XG:  56.71641791044776\n"
     ]
    },
    {
     "name": "stderr",
     "output_type": "stream",
     "text": [
      "\n",
      "  0%|          | 0/200 [00:00<?, ?it/s]\u001b[A\n",
      "Explain node 1767:   0%|          | 0/200 [00:00<?, ?it/s]\u001b[A\n",
      "Explain node 1767:  10%|█         | 21/200 [00:00<00:00, 207.04it/s]\u001b[A\n",
      "Explain node 1767:  22%|██▏       | 43/200 [00:00<00:00, 210.92it/s]\u001b[A\n",
      "Explain node 1767:  32%|███▎      | 65/200 [00:00<00:00, 214.17it/s]\u001b[A\n",
      "Explain node 1767:  44%|████▎     | 87/200 [00:00<00:00, 212.62it/s]\u001b[A\n",
      "Explain node 1767:  55%|█████▍    | 109/200 [00:00<00:00, 211.55it/s]\u001b[A\n",
      "Explain node 1767:  66%|██████▌   | 131/200 [00:00<00:00, 211.12it/s]\u001b[A\n",
      "Explain node 1767:  76%|███████▋  | 153/200 [00:00<00:00, 212.64it/s]\u001b[A\n",
      "Explain node 1767:  88%|████████▊ | 175/200 [00:00<00:00, 213.45it/s]\u001b[A\n",
      "Explain node 1767: 100%|██████████| 200/200 [00:00<00:00, 213.09it/s]\u001b[A\n"
     ]
    },
    {
     "name": "stdout",
     "output_type": "stream",
     "text": [
      "Accuracy on Model:  45.588235294117645\n",
      "Accuracy on EVAL-XG:  55.88235294117647\n"
     ]
    },
    {
     "name": "stderr",
     "output_type": "stream",
     "text": [
      "\n",
      "  0%|          | 0/200 [00:00<?, ?it/s]\u001b[A\n",
      "Explain node 1768:   0%|          | 0/200 [00:00<?, ?it/s]\u001b[A\n",
      "Explain node 1768:  11%|█         | 22/200 [00:00<00:00, 215.45it/s]\u001b[A\n",
      "Explain node 1768:  22%|██▏       | 44/200 [00:00<00:00, 214.06it/s]\u001b[A\n",
      "Explain node 1768:  33%|███▎      | 66/200 [00:00<00:00, 215.83it/s]\u001b[A\n",
      "Explain node 1768:  44%|████▍     | 88/200 [00:00<00:00, 213.19it/s]\u001b[A\n",
      "Explain node 1768:  55%|█████▌    | 110/200 [00:00<00:00, 212.36it/s]\u001b[A\n",
      "Explain node 1768:  66%|██████▌   | 132/200 [00:00<00:00, 212.06it/s]\u001b[A\n",
      "Explain node 1768:  77%|███████▋  | 154/200 [00:00<00:00, 208.14it/s]\u001b[A\n",
      "Explain node 1768:  88%|████████▊ | 175/200 [00:00<00:00, 207.93it/s]\u001b[A\n",
      "Explain node 1768: 100%|██████████| 200/200 [00:00<00:00, 210.44it/s]\u001b[A\n"
     ]
    },
    {
     "name": "stdout",
     "output_type": "stream",
     "text": [
      "Accuracy on Model:  44.927536231884055\n",
      "Accuracy on EVAL-XG:  55.072463768115945\n"
     ]
    },
    {
     "name": "stderr",
     "output_type": "stream",
     "text": [
      "\n",
      "  0%|          | 0/200 [00:00<?, ?it/s]\u001b[A\n",
      "Explain node 1769:   0%|          | 0/200 [00:00<?, ?it/s]\u001b[A\n",
      "Explain node 1769:  11%|█         | 22/200 [00:00<00:00, 214.83it/s]\u001b[A\n",
      "Explain node 1769:  22%|██▏       | 44/200 [00:00<00:00, 208.46it/s]\u001b[A\n",
      "Explain node 1769:  32%|███▎      | 65/200 [00:00<00:00, 205.11it/s]\u001b[A\n",
      "Explain node 1769:  43%|████▎     | 86/200 [00:00<00:00, 200.78it/s]\u001b[A\n",
      "Explain node 1769:  54%|█████▎    | 107/200 [00:00<00:00, 203.88it/s]\u001b[A\n",
      "Explain node 1769:  64%|██████▍   | 129/200 [00:00<00:00, 208.38it/s]\u001b[A\n",
      "Explain node 1769:  76%|███████▌  | 151/200 [00:00<00:00, 211.98it/s]\u001b[A\n",
      "Explain node 1769:  87%|████████▋ | 174/200 [00:00<00:00, 214.90it/s]\u001b[A\n",
      "Explain node 1769: 100%|██████████| 200/200 [00:00<00:00, 208.87it/s]\u001b[A\n"
     ]
    },
    {
     "name": "stdout",
     "output_type": "stream",
     "text": [
      "Accuracy on Model:  44.285714285714285\n",
      "Accuracy on EVAL-XG:  54.285714285714285\n"
     ]
    },
    {
     "name": "stderr",
     "output_type": "stream",
     "text": [
      "\n",
      "  0%|          | 0/200 [00:00<?, ?it/s]\u001b[A\n",
      "Explain node 1770:   0%|          | 0/200 [00:00<?, ?it/s]\u001b[A\n",
      "Explain node 1770:  11%|█         | 22/200 [00:00<00:00, 217.12it/s]\u001b[A\n",
      "Explain node 1770:  22%|██▏       | 44/200 [00:00<00:00, 218.23it/s]\u001b[A\n",
      "Explain node 1770:  33%|███▎      | 66/200 [00:00<00:00, 218.62it/s]\u001b[A\n",
      "Explain node 1770:  44%|████▍     | 88/200 [00:00<00:00, 213.85it/s]\u001b[A\n",
      "Explain node 1770:  55%|█████▌    | 110/200 [00:00<00:00, 215.61it/s]\u001b[A\n",
      "Explain node 1770:  66%|██████▌   | 132/200 [00:00<00:00, 214.55it/s]\u001b[A\n",
      "Explain node 1770:  77%|███████▋  | 154/200 [00:00<00:00, 213.01it/s]\u001b[A\n",
      "Explain node 1770:  88%|████████▊ | 176/200 [00:00<00:00, 209.99it/s]\u001b[A\n",
      "Explain node 1770: 100%|██████████| 200/200 [00:00<00:00, 212.67it/s]\u001b[A\n"
     ]
    },
    {
     "name": "stdout",
     "output_type": "stream",
     "text": [
      "Accuracy on Model:  43.66197183098591\n",
      "Accuracy on EVAL-XG:  54.929577464788736\n"
     ]
    },
    {
     "name": "stderr",
     "output_type": "stream",
     "text": [
      "\n",
      "  0%|          | 0/200 [00:00<?, ?it/s]\u001b[A\n",
      "Explain node 1771:   0%|          | 0/200 [00:00<?, ?it/s]\u001b[A\n",
      "Explain node 1771:  11%|█         | 22/200 [00:00<00:00, 213.08it/s]\u001b[A\n",
      "Explain node 1771:  22%|██▏       | 44/200 [00:00<00:00, 211.43it/s]\u001b[A\n",
      "Explain node 1771:  33%|███▎      | 66/200 [00:00<00:00, 211.49it/s]\u001b[A\n",
      "Explain node 1771:  44%|████▍     | 88/200 [00:00<00:00, 212.25it/s]\u001b[A\n",
      "Explain node 1771:  55%|█████▌    | 110/200 [00:00<00:00, 212.54it/s]\u001b[A\n",
      "Explain node 1771:  66%|██████▌   | 132/200 [00:00<00:00, 210.52it/s]\u001b[A\n",
      "Explain node 1771:  77%|███████▋  | 154/200 [00:00<00:00, 211.56it/s]\u001b[A\n",
      "Explain node 1771:  88%|████████▊ | 176/200 [00:00<00:00, 207.36it/s]\u001b[A\n",
      "Explain node 1771: 100%|██████████| 200/200 [00:00<00:00, 209.35it/s]\u001b[A\n"
     ]
    },
    {
     "name": "stdout",
     "output_type": "stream",
     "text": [
      "Accuracy on Model:  44.44444444444444\n",
      "Accuracy on EVAL-XG:  55.55555555555556\n"
     ]
    },
    {
     "name": "stderr",
     "output_type": "stream",
     "text": [
      "\n",
      "  0%|          | 0/200 [00:00<?, ?it/s]\u001b[A\n",
      "Explain node 1772:   0%|          | 0/200 [00:00<?, ?it/s]\u001b[A\n",
      "Explain node 1772:  10%|█         | 21/200 [00:00<00:00, 205.42it/s]\u001b[A\n",
      "Explain node 1772:  21%|██        | 42/200 [00:00<00:00, 207.37it/s]\u001b[A\n",
      "Explain node 1772:  32%|███▏      | 64/200 [00:00<00:00, 210.54it/s]\u001b[A\n",
      "Explain node 1772:  43%|████▎     | 86/200 [00:00<00:00, 212.41it/s]\u001b[A\n",
      "Explain node 1772:  54%|█████▍    | 108/200 [00:00<00:00, 211.18it/s]\u001b[A\n",
      "Explain node 1772:  65%|██████▌   | 130/200 [00:00<00:00, 211.58it/s]\u001b[A\n",
      "Explain node 1772:  76%|███████▌  | 152/200 [00:00<00:00, 208.52it/s]\u001b[A\n",
      "Explain node 1772:  86%|████████▋ | 173/200 [00:00<00:00, 208.38it/s]\u001b[A\n",
      "Explain node 1772: 100%|██████████| 200/200 [00:00<00:00, 204.34it/s]\u001b[A\n"
     ]
    },
    {
     "name": "stdout",
     "output_type": "stream",
     "text": [
      "Accuracy on Model:  45.20547945205479\n",
      "Accuracy on EVAL-XG:  56.16438356164384\n"
     ]
    },
    {
     "name": "stderr",
     "output_type": "stream",
     "text": [
      "\n",
      "  0%|          | 0/200 [00:00<?, ?it/s]\u001b[A\n",
      "Explain node 1773:   0%|          | 0/200 [00:00<?, ?it/s]\u001b[A\n",
      "Explain node 1773:  10%|█         | 21/200 [00:00<00:00, 209.92it/s]\u001b[A\n",
      "Explain node 1773:  22%|██▏       | 43/200 [00:00<00:00, 210.50it/s]\u001b[A\n",
      "Explain node 1773:  32%|███▎      | 65/200 [00:00<00:00, 206.99it/s]\u001b[A\n",
      "Explain node 1773:  44%|████▎     | 87/200 [00:00<00:00, 209.24it/s]\u001b[A\n",
      "Explain node 1773:  55%|█████▍    | 109/200 [00:00<00:00, 212.12it/s]\u001b[A\n",
      "Explain node 1773:  66%|██████▌   | 131/200 [00:00<00:00, 212.75it/s]\u001b[A\n",
      "Explain node 1773:  76%|███████▋  | 153/200 [00:00<00:00, 213.21it/s]\u001b[A\n",
      "Explain node 1773:  88%|████████▊ | 175/200 [00:00<00:00, 213.90it/s]\u001b[A\n",
      "Explain node 1773: 100%|██████████| 200/200 [00:00<00:00, 212.04it/s]\u001b[A\n"
     ]
    },
    {
     "name": "stdout",
     "output_type": "stream",
     "text": [
      "Accuracy on Model:  44.5945945945946\n",
      "Accuracy on EVAL-XG:  55.4054054054054\n"
     ]
    },
    {
     "name": "stderr",
     "output_type": "stream",
     "text": [
      "\n",
      "  0%|          | 0/200 [00:00<?, ?it/s]\u001b[A\n",
      "Explain node 1774:   0%|          | 0/200 [00:00<?, ?it/s]\u001b[A\n",
      "Explain node 1774:  11%|█         | 22/200 [00:00<00:00, 215.72it/s]\u001b[A\n",
      "Explain node 1774:  22%|██▎       | 45/200 [00:00<00:00, 218.55it/s]\u001b[A\n",
      "Explain node 1774:  34%|███▎      | 67/200 [00:00<00:00, 218.47it/s]\u001b[A\n",
      "Explain node 1774:  44%|████▍     | 89/200 [00:00<00:00, 216.86it/s]\u001b[A\n",
      "Explain node 1774:  56%|█████▌    | 111/200 [00:00<00:00, 216.95it/s]\u001b[A\n",
      "Explain node 1774:  66%|██████▋   | 133/200 [00:00<00:00, 216.02it/s]\u001b[A\n",
      "Explain node 1774:  78%|███████▊  | 155/200 [00:00<00:00, 214.86it/s]\u001b[A\n",
      "Explain node 1774:  88%|████████▊ | 177/200 [00:00<00:00, 213.78it/s]\u001b[A\n",
      "Explain node 1774: 100%|██████████| 200/200 [00:00<00:00, 214.04it/s]\u001b[A\n"
     ]
    },
    {
     "name": "stdout",
     "output_type": "stream",
     "text": [
      "Accuracy on Model:  44.0\n",
      "Accuracy on EVAL-XG:  54.666666666666664\n"
     ]
    },
    {
     "name": "stderr",
     "output_type": "stream",
     "text": [
      "\n",
      "  0%|          | 0/200 [00:00<?, ?it/s]\u001b[A\n",
      "Explain node 1775:   0%|          | 0/200 [00:00<?, ?it/s]\u001b[A\n",
      "Explain node 1775:  11%|█         | 22/200 [00:00<00:00, 211.23it/s]\u001b[A\n",
      "Explain node 1775:  22%|██▏       | 44/200 [00:00<00:00, 213.50it/s]\u001b[A\n",
      "Explain node 1775:  33%|███▎      | 66/200 [00:00<00:00, 214.77it/s]\u001b[A\n",
      "Explain node 1775:  44%|████▍     | 89/200 [00:00<00:00, 217.18it/s]\u001b[A\n",
      "Explain node 1775:  56%|█████▌    | 111/200 [00:00<00:00, 215.97it/s]\u001b[A\n",
      "Explain node 1775:  66%|██████▋   | 133/200 [00:00<00:00, 214.20it/s]\u001b[A\n",
      "Explain node 1775:  78%|███████▊  | 155/200 [00:00<00:00, 212.14it/s]\u001b[A\n",
      "Explain node 1775:  88%|████████▊ | 177/200 [00:00<00:00, 210.72it/s]\u001b[A\n",
      "Explain node 1775: 100%|██████████| 200/200 [00:00<00:00, 212.43it/s]\u001b[A\n"
     ]
    },
    {
     "name": "stdout",
     "output_type": "stream",
     "text": [
      "Accuracy on Model:  43.42105263157895\n",
      "Accuracy on EVAL-XG:  53.94736842105263\n"
     ]
    },
    {
     "name": "stderr",
     "output_type": "stream",
     "text": [
      "\n",
      "  0%|          | 0/200 [00:00<?, ?it/s]\u001b[A\n",
      "Explain node 1776:   0%|          | 0/200 [00:00<?, ?it/s]\u001b[A\n",
      "Explain node 1776:   8%|▊         | 17/200 [00:00<00:01, 166.74it/s]\u001b[A\n",
      "Explain node 1776:  17%|█▋        | 34/200 [00:00<00:01, 158.59it/s]\u001b[A\n",
      "Explain node 1776:  25%|██▌       | 50/200 [00:00<00:00, 153.96it/s]\u001b[A\n",
      "Explain node 1776:  35%|███▌      | 70/200 [00:00<00:00, 168.60it/s]\u001b[A\n",
      "Explain node 1776:  46%|████▌     | 91/200 [00:00<00:00, 182.94it/s]\u001b[A\n",
      "Explain node 1776:  56%|█████▌    | 111/200 [00:00<00:00, 187.26it/s]\u001b[A\n",
      "Explain node 1776:  65%|██████▌   | 130/200 [00:00<00:00, 185.01it/s]\u001b[A\n",
      "Explain node 1776:  74%|███████▍  | 149/200 [00:00<00:00, 186.44it/s]\u001b[A\n",
      "Explain node 1776:  84%|████████▍ | 168/200 [00:00<00:00, 186.77it/s]\u001b[A\n",
      "Explain node 1776: 100%|██████████| 200/200 [00:01<00:00, 180.31it/s]\u001b[A\n"
     ]
    },
    {
     "name": "stdout",
     "output_type": "stream",
     "text": [
      "Accuracy on Model:  44.15584415584416\n",
      "Accuracy on EVAL-XG:  54.54545454545454\n"
     ]
    },
    {
     "name": "stderr",
     "output_type": "stream",
     "text": [
      "\n",
      "  0%|          | 0/200 [00:00<?, ?it/s]\u001b[A\n",
      "Explain node 1777:   0%|          | 0/200 [00:00<?, ?it/s]\u001b[A\n",
      "Explain node 1777:  10%|█         | 20/200 [00:00<00:00, 192.19it/s]\u001b[A\n",
      "Explain node 1777:  20%|██        | 40/200 [00:00<00:00, 193.92it/s]\u001b[A\n",
      "Explain node 1777:  30%|███       | 60/200 [00:00<00:00, 195.64it/s]\u001b[A\n",
      "Explain node 1777:  40%|████      | 80/200 [00:00<00:00, 195.43it/s]\u001b[A\n",
      "Explain node 1777:  50%|█████     | 100/200 [00:00<00:00, 196.25it/s]\u001b[A\n",
      "Explain node 1777:  60%|██████    | 120/200 [00:00<00:00, 194.87it/s]\u001b[A\n",
      "Explain node 1777:  70%|███████   | 140/200 [00:00<00:00, 193.84it/s]\u001b[A\n",
      "Explain node 1777:  80%|████████  | 160/200 [00:00<00:00, 195.54it/s]\u001b[A\n",
      "Explain node 1777: 100%|██████████| 200/200 [00:01<00:00, 198.56it/s]\u001b[A\n"
     ]
    },
    {
     "name": "stdout",
     "output_type": "stream",
     "text": [
      "Accuracy on Model:  44.871794871794876\n",
      "Accuracy on EVAL-XG:  55.12820512820513\n"
     ]
    },
    {
     "name": "stderr",
     "output_type": "stream",
     "text": [
      "\n",
      "  0%|          | 0/200 [00:00<?, ?it/s]\u001b[A\n",
      "Explain node 1778:   0%|          | 0/200 [00:00<?, ?it/s]\u001b[A\n",
      "Explain node 1778:  12%|█▏        | 23/200 [00:00<00:00, 228.80it/s]\u001b[A\n",
      "Explain node 1778:  23%|██▎       | 46/200 [00:00<00:00, 226.28it/s]\u001b[A\n",
      "Explain node 1778:  34%|███▍      | 69/200 [00:00<00:00, 221.90it/s]\u001b[A\n",
      "Explain node 1778:  46%|████▌     | 92/200 [00:00<00:00, 214.90it/s]\u001b[A\n",
      "Explain node 1778:  57%|█████▋    | 114/200 [00:00<00:00, 213.13it/s]\u001b[A\n",
      "Explain node 1778:  68%|██████▊   | 137/200 [00:00<00:00, 215.47it/s]\u001b[A\n",
      "Explain node 1778:  80%|███████▉  | 159/200 [00:00<00:00, 214.87it/s]\u001b[A\n",
      "Explain node 1778: 100%|██████████| 200/200 [00:00<00:00, 216.46it/s]\u001b[A\n"
     ]
    },
    {
     "name": "stdout",
     "output_type": "stream",
     "text": [
      "Accuracy on Model:  45.56962025316456\n",
      "Accuracy on EVAL-XG:  55.69620253164557\n"
     ]
    },
    {
     "name": "stderr",
     "output_type": "stream",
     "text": [
      "\n",
      "  0%|          | 0/200 [00:00<?, ?it/s]\u001b[A\n",
      "Explain node 1779:   0%|          | 0/200 [00:00<?, ?it/s]\u001b[A\n",
      "Explain node 1779:  12%|█▏        | 23/200 [00:00<00:00, 223.29it/s]\u001b[A\n",
      "Explain node 1779:  23%|██▎       | 46/200 [00:00<00:00, 222.16it/s]\u001b[A\n",
      "Explain node 1779:  34%|███▍      | 69/200 [00:00<00:00, 223.08it/s]\u001b[A\n",
      "Explain node 1779:  46%|████▌     | 92/200 [00:00<00:00, 222.15it/s]\u001b[A\n",
      "Explain node 1779:  57%|█████▊    | 115/200 [00:00<00:00, 216.71it/s]\u001b[A\n",
      "Explain node 1779:  68%|██████▊   | 137/200 [00:00<00:00, 215.82it/s]\u001b[A\n",
      "Explain node 1779:  80%|███████▉  | 159/200 [00:00<00:00, 216.32it/s]\u001b[A\n",
      "Explain node 1779: 100%|██████████| 200/200 [00:00<00:00, 217.54it/s]\u001b[A\n"
     ]
    },
    {
     "name": "stdout",
     "output_type": "stream",
     "text": [
      "Accuracy on Model:  46.25\n",
      "Accuracy on EVAL-XG:  56.25\n"
     ]
    },
    {
     "name": "stderr",
     "output_type": "stream",
     "text": [
      "\n",
      "  0%|          | 0/200 [00:00<?, ?it/s]\u001b[A\n",
      "Explain node 1780:   0%|          | 0/200 [00:00<?, ?it/s]\u001b[A\n",
      "Explain node 1780:  11%|█         | 22/200 [00:00<00:00, 216.13it/s]\u001b[A\n",
      "Explain node 1780:  22%|██▎       | 45/200 [00:00<00:00, 218.55it/s]\u001b[A\n",
      "Explain node 1780:  34%|███▍      | 68/200 [00:00<00:00, 220.34it/s]\u001b[A\n",
      "Explain node 1780:  46%|████▌     | 91/200 [00:00<00:00, 219.43it/s]\u001b[A\n",
      "Explain node 1780:  56%|█████▋    | 113/200 [00:00<00:00, 212.12it/s]\u001b[A\n",
      "Explain node 1780:  68%|██████▊   | 135/200 [00:00<00:00, 210.52it/s]\u001b[A\n",
      "Explain node 1780:  78%|███████▊  | 157/200 [00:00<00:00, 211.21it/s]\u001b[A\n",
      "Explain node 1780: 100%|██████████| 200/200 [00:00<00:00, 213.52it/s]\u001b[A\n"
     ]
    },
    {
     "name": "stdout",
     "output_type": "stream",
     "text": [
      "Accuracy on Model:  46.913580246913575\n",
      "Accuracy on EVAL-XG:  56.79012345679012\n"
     ]
    },
    {
     "name": "stderr",
     "output_type": "stream",
     "text": [
      "\n",
      "  0%|          | 0/200 [00:00<?, ?it/s]\u001b[A\n",
      "Explain node 1781:   0%|          | 0/200 [00:00<?, ?it/s]\u001b[A\n",
      "Explain node 1781:  10%|█         | 21/200 [00:00<00:00, 206.76it/s]\u001b[A\n",
      "Explain node 1781:  22%|██▏       | 43/200 [00:00<00:00, 210.47it/s]\u001b[A\n",
      "Explain node 1781:  32%|███▎      | 65/200 [00:00<00:00, 212.37it/s]\u001b[A\n",
      "Explain node 1781:  44%|████▎     | 87/200 [00:00<00:00, 211.76it/s]\u001b[A\n",
      "Explain node 1781:  55%|█████▍    | 109/200 [00:00<00:00, 211.97it/s]\u001b[A\n",
      "Explain node 1781:  66%|██████▌   | 131/200 [00:00<00:00, 212.15it/s]\u001b[A\n",
      "Explain node 1781:  76%|███████▋  | 153/200 [00:00<00:00, 212.10it/s]\u001b[A\n",
      "Explain node 1781:  88%|████████▊ | 175/200 [00:00<00:00, 211.83it/s]\u001b[A\n",
      "Explain node 1781: 100%|██████████| 200/200 [00:00<00:00, 211.94it/s]\u001b[A\n"
     ]
    },
    {
     "name": "stdout",
     "output_type": "stream",
     "text": [
      "Accuracy on Model:  47.5609756097561\n",
      "Accuracy on EVAL-XG:  57.3170731707317\n"
     ]
    },
    {
     "name": "stderr",
     "output_type": "stream",
     "text": [
      "\n",
      "  0%|          | 0/200 [00:00<?, ?it/s]\u001b[A\n",
      "Explain node 1782:   0%|          | 0/200 [00:00<?, ?it/s]\u001b[A\n",
      "Explain node 1782:  11%|█         | 22/200 [00:00<00:00, 211.01it/s]\u001b[A\n",
      "Explain node 1782:  22%|██▏       | 44/200 [00:00<00:00, 215.69it/s]\u001b[A\n",
      "Explain node 1782:  34%|███▎      | 67/200 [00:00<00:00, 219.82it/s]\u001b[A\n",
      "Explain node 1782:  44%|████▍     | 89/200 [00:00<00:00, 218.64it/s]\u001b[A\n",
      "Explain node 1782:  56%|█████▌    | 111/200 [00:00<00:00, 215.13it/s]\u001b[A\n",
      "Explain node 1782:  66%|██████▋   | 133/200 [00:00<00:00, 211.92it/s]\u001b[A\n",
      "Explain node 1782:  78%|███████▊  | 155/200 [00:00<00:00, 212.65it/s]\u001b[A\n",
      "Explain node 1782:  88%|████████▊ | 177/200 [00:00<00:00, 211.72it/s]\u001b[A\n",
      "Explain node 1782: 100%|██████████| 200/200 [00:00<00:00, 212.19it/s]\u001b[A\n"
     ]
    },
    {
     "name": "stdout",
     "output_type": "stream",
     "text": [
      "Accuracy on Model:  48.19277108433735\n",
      "Accuracy on EVAL-XG:  57.831325301204814\n"
     ]
    },
    {
     "name": "stderr",
     "output_type": "stream",
     "text": [
      "\n",
      "  0%|          | 0/200 [00:00<?, ?it/s]\u001b[A\n",
      "Explain node 1783:   0%|          | 0/200 [00:00<?, ?it/s]\u001b[A\n",
      "Explain node 1783:  10%|█         | 20/200 [00:00<00:00, 196.18it/s]\u001b[A\n",
      "Explain node 1783:  20%|██        | 40/200 [00:00<00:00, 197.26it/s]\u001b[A\n",
      "Explain node 1783:  31%|███       | 62/200 [00:00<00:00, 203.90it/s]\u001b[A\n",
      "Explain node 1783:  42%|████▏     | 83/200 [00:00<00:00, 204.00it/s]\u001b[A\n",
      "Explain node 1783:  52%|█████▏    | 104/200 [00:00<00:00, 205.93it/s]\u001b[A\n",
      "Explain node 1783:  62%|██████▎   | 125/200 [00:00<00:00, 199.09it/s]\u001b[A\n",
      "Explain node 1783:  72%|███████▎  | 145/200 [00:00<00:00, 197.99it/s]\u001b[A\n",
      "Explain node 1783:  82%|████████▎ | 165/200 [00:00<00:00, 195.19it/s]\u001b[A\n",
      "Explain node 1783: 100%|██████████| 200/200 [00:01<00:00, 198.82it/s]\u001b[A\n"
     ]
    },
    {
     "name": "stdout",
     "output_type": "stream",
     "text": [
      "Accuracy on Model:  48.80952380952381\n",
      "Accuracy on EVAL-XG:  58.333333333333336\n"
     ]
    },
    {
     "name": "stderr",
     "output_type": "stream",
     "text": [
      "\n",
      "  0%|          | 0/200 [00:00<?, ?it/s]\u001b[A\n",
      "Explain node 1784:   0%|          | 0/200 [00:00<?, ?it/s]\u001b[A\n",
      "Explain node 1784:  10%|█         | 21/200 [00:00<00:00, 207.57it/s]\u001b[A\n",
      "Explain node 1784:  21%|██        | 42/200 [00:00<00:00, 205.17it/s]\u001b[A\n",
      "Explain node 1784:  32%|███▏      | 63/200 [00:00<00:00, 205.52it/s]\u001b[A\n",
      "Explain node 1784:  42%|████▏     | 84/200 [00:00<00:00, 206.30it/s]\u001b[A\n",
      "Explain node 1784:  52%|█████▎    | 105/200 [00:00<00:00, 205.12it/s]\u001b[A\n",
      "Explain node 1784:  63%|██████▎   | 126/200 [00:00<00:00, 202.96it/s]\u001b[A\n",
      "Explain node 1784:  74%|███████▎  | 147/200 [00:00<00:00, 203.40it/s]\u001b[A\n",
      "Explain node 1784:  84%|████████▍ | 168/200 [00:00<00:00, 203.40it/s]\u001b[A\n",
      "Explain node 1784: 100%|██████████| 200/200 [00:00<00:00, 203.75it/s]\u001b[A\n"
     ]
    },
    {
     "name": "stdout",
     "output_type": "stream",
     "text": [
      "Accuracy on Model:  49.411764705882355\n",
      "Accuracy on EVAL-XG:  58.82352941176471\n"
     ]
    },
    {
     "name": "stderr",
     "output_type": "stream",
     "text": [
      "\n",
      "  0%|          | 0/200 [00:00<?, ?it/s]\u001b[A\n",
      "Explain node 1785:   0%|          | 0/200 [00:00<?, ?it/s]\u001b[A\n",
      "Explain node 1785:  10%|█         | 21/200 [00:00<00:00, 207.22it/s]\u001b[A\n",
      "Explain node 1785:  21%|██        | 42/200 [00:00<00:00, 202.35it/s]\u001b[A\n",
      "Explain node 1785:  32%|███▏      | 63/200 [00:00<00:00, 199.29it/s]\u001b[A\n",
      "Explain node 1785:  42%|████▎     | 85/200 [00:00<00:00, 204.84it/s]\u001b[A\n",
      "Explain node 1785:  54%|█████▎    | 107/200 [00:00<00:00, 209.08it/s]\u001b[A\n",
      "Explain node 1785:  64%|██████▍   | 129/200 [00:00<00:00, 211.42it/s]\u001b[A\n",
      "Explain node 1785:  76%|███████▌  | 151/200 [00:00<00:00, 210.35it/s]\u001b[A\n",
      "Explain node 1785:  86%|████████▋ | 173/200 [00:00<00:00, 210.88it/s]\u001b[A\n",
      "Explain node 1785: 100%|██████████| 200/200 [00:00<00:00, 208.30it/s]\u001b[A\n"
     ]
    },
    {
     "name": "stdout",
     "output_type": "stream",
     "text": [
      "Accuracy on Model:  48.837209302325576\n",
      "Accuracy on EVAL-XG:  58.139534883720934\n"
     ]
    },
    {
     "name": "stderr",
     "output_type": "stream",
     "text": [
      "\n",
      "  0%|          | 0/200 [00:00<?, ?it/s]\u001b[A\n",
      "Explain node 1786:   0%|          | 0/200 [00:00<?, ?it/s]\u001b[A\n",
      "Explain node 1786:  10%|█         | 21/200 [00:00<00:00, 205.29it/s]\u001b[A\n",
      "Explain node 1786:  22%|██▏       | 43/200 [00:00<00:00, 211.71it/s]\u001b[A\n",
      "Explain node 1786:  32%|███▎      | 65/200 [00:00<00:00, 214.94it/s]\u001b[A\n",
      "Explain node 1786:  44%|████▎     | 87/200 [00:00<00:00, 216.76it/s]\u001b[A\n",
      "Explain node 1786:  55%|█████▍    | 109/200 [00:00<00:00, 216.55it/s]\u001b[A\n",
      "Explain node 1786:  66%|██████▌   | 131/200 [00:00<00:00, 217.67it/s]\u001b[A\n",
      "Explain node 1786:  77%|███████▋  | 154/200 [00:00<00:00, 219.48it/s]\u001b[A\n",
      "Explain node 1786:  88%|████████▊ | 176/200 [00:00<00:00, 212.40it/s]\u001b[A\n",
      "Explain node 1786: 100%|██████████| 200/200 [00:00<00:00, 214.46it/s]\u001b[A\n"
     ]
    },
    {
     "name": "stdout",
     "output_type": "stream",
     "text": [
      "Accuracy on Model:  48.275862068965516\n",
      "Accuracy on EVAL-XG:  58.620689655172406\n"
     ]
    },
    {
     "name": "stderr",
     "output_type": "stream",
     "text": [
      "\n",
      "  0%|          | 0/200 [00:00<?, ?it/s]\u001b[A\n",
      "Explain node 1787:   0%|          | 0/200 [00:00<?, ?it/s]\u001b[A\n",
      "Explain node 1787:  11%|█         | 22/200 [00:00<00:00, 219.67it/s]\u001b[A\n",
      "Explain node 1787:  22%|██▏       | 44/200 [00:00<00:00, 217.26it/s]\u001b[A\n",
      "Explain node 1787:  34%|███▎      | 67/200 [00:00<00:00, 220.03it/s]\u001b[A\n",
      "Explain node 1787:  45%|████▌     | 90/200 [00:00<00:00, 220.18it/s]\u001b[A\n",
      "Explain node 1787:  56%|█████▋    | 113/200 [00:00<00:00, 219.96it/s]\u001b[A\n",
      "Explain node 1787:  68%|██████▊   | 136/200 [00:00<00:00, 219.96it/s]\u001b[A\n",
      "Explain node 1787:  79%|███████▉  | 158/200 [00:00<00:00, 216.09it/s]\u001b[A\n",
      "Explain node 1787: 100%|██████████| 200/200 [00:00<00:00, 218.38it/s]\u001b[A\n"
     ]
    },
    {
     "name": "stdout",
     "output_type": "stream",
     "text": [
      "Accuracy on Model:  47.72727272727273\n",
      "Accuracy on EVAL-XG:  57.95454545454546\n"
     ]
    },
    {
     "name": "stderr",
     "output_type": "stream",
     "text": [
      "\n",
      "  0%|          | 0/200 [00:00<?, ?it/s]\u001b[A\n",
      "Explain node 1788:   0%|          | 0/200 [00:00<?, ?it/s]\u001b[A\n",
      "Explain node 1788:  12%|█▏        | 23/200 [00:00<00:00, 223.49it/s]\u001b[A\n",
      "Explain node 1788:  23%|██▎       | 46/200 [00:00<00:00, 221.43it/s]\u001b[A\n",
      "Explain node 1788:  34%|███▍      | 69/200 [00:00<00:00, 218.61it/s]\u001b[A\n",
      "Explain node 1788:  46%|████▌     | 91/200 [00:00<00:00, 218.54it/s]\u001b[A\n",
      "Explain node 1788:  57%|█████▋    | 114/200 [00:00<00:00, 219.48it/s]\u001b[A\n",
      "Explain node 1788:  68%|██████▊   | 136/200 [00:00<00:00, 219.32it/s]\u001b[A\n",
      "Explain node 1788:  79%|███████▉  | 158/200 [00:00<00:00, 219.05it/s]\u001b[A\n",
      "Explain node 1788: 100%|██████████| 200/200 [00:00<00:00, 218.24it/s]\u001b[A\n"
     ]
    },
    {
     "name": "stdout",
     "output_type": "stream",
     "text": [
      "Accuracy on Model:  47.19101123595505\n",
      "Accuracy on EVAL-XG:  57.30337078651685\n"
     ]
    },
    {
     "name": "stderr",
     "output_type": "stream",
     "text": [
      "\n",
      "  0%|          | 0/200 [00:00<?, ?it/s]\u001b[A\n",
      "Explain node 1789:   0%|          | 0/200 [00:00<?, ?it/s]\u001b[A\n",
      "Explain node 1789:  11%|█         | 22/200 [00:00<00:00, 211.41it/s]\u001b[A\n",
      "Explain node 1789:  22%|██▏       | 44/200 [00:00<00:00, 213.94it/s]\u001b[A\n",
      "Explain node 1789:  34%|███▎      | 67/200 [00:00<00:00, 217.11it/s]\u001b[A\n",
      "Explain node 1789:  44%|████▍     | 89/200 [00:00<00:00, 216.73it/s]\u001b[A\n",
      "Explain node 1789:  56%|█████▌    | 111/200 [00:00<00:00, 213.38it/s]\u001b[A\n",
      "Explain node 1789:  66%|██████▋   | 133/200 [00:00<00:00, 215.25it/s]\u001b[A\n",
      "Explain node 1789:  78%|███████▊  | 155/200 [00:00<00:00, 215.98it/s]\u001b[A\n",
      "Explain node 1789:  88%|████████▊ | 177/200 [00:00<00:00, 216.09it/s]\u001b[A\n",
      "Explain node 1789: 100%|██████████| 200/200 [00:00<00:00, 215.48it/s]\u001b[A\n"
     ]
    },
    {
     "name": "stdout",
     "output_type": "stream",
     "text": [
      "Accuracy on Model:  46.666666666666664\n",
      "Accuracy on EVAL-XG:  56.666666666666664\n"
     ]
    },
    {
     "name": "stderr",
     "output_type": "stream",
     "text": [
      "\n",
      "  0%|          | 0/200 [00:00<?, ?it/s]\u001b[A\n",
      "Explain node 1790:   0%|          | 0/200 [00:00<?, ?it/s]\u001b[A\n",
      "Explain node 1790:  11%|█         | 22/200 [00:00<00:00, 211.00it/s]\u001b[A\n",
      "Explain node 1790:  22%|██▏       | 44/200 [00:00<00:00, 212.94it/s]\u001b[A\n",
      "Explain node 1790:  33%|███▎      | 66/200 [00:00<00:00, 214.76it/s]\u001b[A\n",
      "Explain node 1790:  44%|████▍     | 88/200 [00:00<00:00, 215.67it/s]\u001b[A\n",
      "Explain node 1790:  55%|█████▌    | 110/200 [00:00<00:00, 216.05it/s]\u001b[A\n",
      "Explain node 1790:  66%|██████▌   | 132/200 [00:00<00:00, 215.70it/s]\u001b[A\n",
      "Explain node 1790:  77%|███████▋  | 154/200 [00:00<00:00, 215.10it/s]\u001b[A\n",
      "Explain node 1790:  88%|████████▊ | 176/200 [00:00<00:00, 213.72it/s]\u001b[A\n",
      "Explain node 1790: 100%|██████████| 200/200 [00:00<00:00, 213.99it/s]\u001b[A\n"
     ]
    },
    {
     "name": "stdout",
     "output_type": "stream",
     "text": [
      "Accuracy on Model:  46.15384615384615\n",
      "Accuracy on EVAL-XG:  56.043956043956044\n"
     ]
    },
    {
     "name": "stderr",
     "output_type": "stream",
     "text": [
      "\n",
      "  0%|          | 0/200 [00:00<?, ?it/s]\u001b[A\n",
      "Explain node 1791:   0%|          | 0/200 [00:00<?, ?it/s]\u001b[A\n",
      "Explain node 1791:  11%|█         | 22/200 [00:00<00:00, 218.22it/s]\u001b[A\n",
      "Explain node 1791:  22%|██▏       | 44/200 [00:00<00:00, 215.11it/s]\u001b[A\n",
      "Explain node 1791:  33%|███▎      | 66/200 [00:00<00:00, 206.20it/s]\u001b[A\n",
      "Explain node 1791:  44%|████▍     | 88/200 [00:00<00:00, 211.33it/s]\u001b[A\n",
      "Explain node 1791:  55%|█████▌    | 110/200 [00:00<00:00, 206.89it/s]\u001b[A\n",
      "Explain node 1791:  66%|██████▌   | 131/200 [00:00<00:00, 207.72it/s]\u001b[A\n",
      "Explain node 1791:  76%|███████▌  | 152/200 [00:00<00:00, 205.15it/s]\u001b[A\n",
      "Explain node 1791:  86%|████████▋ | 173/200 [00:00<00:00, 203.05it/s]\u001b[A\n",
      "Explain node 1791: 100%|██████████| 200/200 [00:00<00:00, 204.59it/s]\u001b[A\n"
     ]
    },
    {
     "name": "stdout",
     "output_type": "stream",
     "text": [
      "Accuracy on Model:  45.65217391304348\n",
      "Accuracy on EVAL-XG:  56.52173913043478\n"
     ]
    },
    {
     "name": "stderr",
     "output_type": "stream",
     "text": [
      "\n",
      "  0%|          | 0/200 [00:00<?, ?it/s]\u001b[A\n",
      "Explain node 1792:   0%|          | 0/200 [00:00<?, ?it/s]\u001b[A\n",
      "Explain node 1792:  11%|█         | 22/200 [00:00<00:00, 215.43it/s]\u001b[A\n",
      "Explain node 1792:  22%|██▏       | 44/200 [00:00<00:00, 208.39it/s]\u001b[A\n",
      "Explain node 1792:  32%|███▎      | 65/200 [00:00<00:00, 203.85it/s]\u001b[A\n",
      "Explain node 1792:  44%|████▎     | 87/200 [00:00<00:00, 208.42it/s]\u001b[A\n",
      "Explain node 1792:  54%|█████▍    | 108/200 [00:00<00:00, 206.61it/s]\u001b[A\n",
      "Explain node 1792:  64%|██████▍   | 129/200 [00:00<00:00, 206.64it/s]\u001b[A\n",
      "Explain node 1792:  75%|███████▌  | 150/200 [00:00<00:00, 199.88it/s]\u001b[A\n",
      "Explain node 1792:  86%|████████▌ | 171/200 [00:00<00:00, 201.58it/s]\u001b[A\n",
      "Explain node 1792: 100%|██████████| 200/200 [00:00<00:00, 204.06it/s]\u001b[A\n"
     ]
    },
    {
     "name": "stdout",
     "output_type": "stream",
     "text": [
      "Accuracy on Model:  46.236559139784944\n",
      "Accuracy on EVAL-XG:  56.98924731182796\n"
     ]
    },
    {
     "name": "stderr",
     "output_type": "stream",
     "text": [
      "\n",
      "  0%|          | 0/200 [00:00<?, ?it/s]\u001b[A\n",
      "Explain node 1793:   0%|          | 0/200 [00:00<?, ?it/s]\u001b[A\n",
      "Explain node 1793:  11%|█         | 22/200 [00:00<00:00, 212.43it/s]\u001b[A\n",
      "Explain node 1793:  22%|██▏       | 44/200 [00:00<00:00, 209.38it/s]\u001b[A\n",
      "Explain node 1793:  32%|███▎      | 65/200 [00:00<00:00, 202.71it/s]\u001b[A\n",
      "Explain node 1793:  43%|████▎     | 86/200 [00:00<00:00, 203.05it/s]\u001b[A\n",
      "Explain node 1793:  54%|█████▎    | 107/200 [00:00<00:00, 201.31it/s]\u001b[A\n",
      "Explain node 1793:  64%|██████▍   | 128/200 [00:00<00:00, 202.83it/s]\u001b[A\n",
      "Explain node 1793:  75%|███████▌  | 150/200 [00:00<00:00, 207.33it/s]\u001b[A\n",
      "Explain node 1793:  86%|████████▌ | 172/200 [00:00<00:00, 208.17it/s]\u001b[A\n",
      "Explain node 1793: 100%|██████████| 200/200 [00:00<00:00, 207.65it/s]\u001b[A\n"
     ]
    },
    {
     "name": "stdout",
     "output_type": "stream",
     "text": [
      "Accuracy on Model:  45.744680851063826\n",
      "Accuracy on EVAL-XG:  56.38297872340425\n"
     ]
    },
    {
     "name": "stderr",
     "output_type": "stream",
     "text": [
      "\n",
      "  0%|          | 0/200 [00:00<?, ?it/s]\u001b[A\n",
      "Explain node 1794:   0%|          | 0/200 [00:00<?, ?it/s]\u001b[A\n",
      "Explain node 1794:  11%|█         | 22/200 [00:00<00:00, 215.92it/s]\u001b[A\n",
      "Explain node 1794:  22%|██▏       | 44/200 [00:00<00:00, 213.86it/s]\u001b[A\n",
      "Explain node 1794:  33%|███▎      | 66/200 [00:00<00:00, 215.04it/s]\u001b[A\n",
      "Explain node 1794:  44%|████▍     | 88/200 [00:00<00:00, 209.40it/s]\u001b[A\n",
      "Explain node 1794:  56%|█████▌    | 111/200 [00:00<00:00, 213.63it/s]\u001b[A\n",
      "Explain node 1794:  67%|██████▋   | 134/200 [00:00<00:00, 217.07it/s]\u001b[A\n",
      "Explain node 1794:  78%|███████▊  | 156/200 [00:00<00:00, 214.41it/s]\u001b[A\n",
      "Explain node 1794: 100%|██████████| 200/200 [00:00<00:00, 216.26it/s]\u001b[A\n"
     ]
    },
    {
     "name": "stdout",
     "output_type": "stream",
     "text": [
      "Accuracy on Model:  45.26315789473684\n",
      "Accuracy on EVAL-XG:  55.78947368421052\n"
     ]
    },
    {
     "name": "stderr",
     "output_type": "stream",
     "text": [
      "\n",
      "  0%|          | 0/200 [00:00<?, ?it/s]\u001b[A\n",
      "Explain node 1795:   0%|          | 0/200 [00:00<?, ?it/s]\u001b[A\n",
      "Explain node 1795:  11%|█         | 22/200 [00:00<00:00, 215.92it/s]\u001b[A\n",
      "Explain node 1795:  22%|██▏       | 44/200 [00:00<00:00, 214.66it/s]\u001b[A\n",
      "Explain node 1795:  33%|███▎      | 66/200 [00:00<00:00, 214.49it/s]\u001b[A\n",
      "Explain node 1795:  44%|████▍     | 88/200 [00:00<00:00, 216.46it/s]\u001b[A\n",
      "Explain node 1795:  55%|█████▌    | 110/200 [00:00<00:00, 216.50it/s]\u001b[A\n",
      "Explain node 1795:  66%|██████▌   | 132/200 [00:00<00:00, 216.96it/s]\u001b[A\n",
      "Explain node 1795:  77%|███████▋  | 154/200 [00:00<00:00, 216.75it/s]\u001b[A\n",
      "Explain node 1795:  88%|████████▊ | 176/200 [00:00<00:00, 217.11it/s]\u001b[A\n",
      "Explain node 1795: 100%|██████████| 200/200 [00:00<00:00, 216.94it/s]\u001b[A\n"
     ]
    },
    {
     "name": "stdout",
     "output_type": "stream",
     "text": [
      "Accuracy on Model:  44.79166666666667\n",
      "Accuracy on EVAL-XG:  55.208333333333336\n"
     ]
    },
    {
     "name": "stderr",
     "output_type": "stream",
     "text": [
      "\n",
      "  0%|          | 0/200 [00:00<?, ?it/s]\u001b[A\n",
      "Explain node 1796:   0%|          | 0/200 [00:00<?, ?it/s]\u001b[A\n",
      "Explain node 1796:  11%|█         | 22/200 [00:00<00:00, 215.93it/s]\u001b[A\n",
      "Explain node 1796:  22%|██▏       | 44/200 [00:00<00:00, 200.09it/s]\u001b[A\n",
      "Explain node 1796:  33%|███▎      | 66/200 [00:00<00:00, 208.56it/s]\u001b[A\n",
      "Explain node 1796:  44%|████▍     | 88/200 [00:00<00:00, 211.42it/s]\u001b[A\n",
      "Explain node 1796:  55%|█████▌    | 110/200 [00:00<00:00, 213.05it/s]\u001b[A\n",
      "Explain node 1796:  66%|██████▌   | 132/200 [00:00<00:00, 214.94it/s]\u001b[A\n",
      "Explain node 1796:  77%|███████▋  | 154/200 [00:00<00:00, 214.83it/s]\u001b[A\n",
      "Explain node 1796:  88%|████████▊ | 176/200 [00:00<00:00, 215.39it/s]\u001b[A\n",
      "Explain node 1796: 100%|██████████| 200/200 [00:00<00:00, 213.40it/s]\u001b[A\n"
     ]
    },
    {
     "name": "stdout",
     "output_type": "stream",
     "text": [
      "Accuracy on Model:  44.329896907216494\n",
      "Accuracy on EVAL-XG:  54.63917525773196\n"
     ]
    },
    {
     "name": "stderr",
     "output_type": "stream",
     "text": [
      "\n",
      "  0%|          | 0/200 [00:00<?, ?it/s]\u001b[A\n",
      "Explain node 1797:   0%|          | 0/200 [00:00<?, ?it/s]\u001b[A\n",
      "Explain node 1797:  11%|█         | 22/200 [00:00<00:00, 213.82it/s]\u001b[A\n",
      "Explain node 1797:  22%|██▏       | 44/200 [00:00<00:00, 216.53it/s]\u001b[A\n",
      "Explain node 1797:  33%|███▎      | 66/200 [00:00<00:00, 217.70it/s]\u001b[A\n",
      "Explain node 1797:  44%|████▍     | 88/200 [00:00<00:00, 210.76it/s]\u001b[A\n",
      "Explain node 1797:  55%|█████▌    | 110/200 [00:00<00:00, 211.40it/s]\u001b[A\n",
      "Explain node 1797:  66%|██████▌   | 132/200 [00:00<00:00, 213.13it/s]\u001b[A\n",
      "Explain node 1797:  77%|███████▋  | 154/200 [00:00<00:00, 213.95it/s]\u001b[A\n",
      "Explain node 1797:  88%|████████▊ | 176/200 [00:00<00:00, 213.95it/s]\u001b[A\n",
      "Explain node 1797: 100%|██████████| 200/200 [00:00<00:00, 211.61it/s]\u001b[A\n"
     ]
    },
    {
     "name": "stdout",
     "output_type": "stream",
     "text": [
      "Accuracy on Model:  43.87755102040816\n",
      "Accuracy on EVAL-XG:  54.08163265306123\n"
     ]
    },
    {
     "name": "stderr",
     "output_type": "stream",
     "text": [
      "\n",
      "  0%|          | 0/200 [00:00<?, ?it/s]\u001b[A\n",
      "Explain node 1798:   0%|          | 0/200 [00:00<?, ?it/s]\u001b[A\n",
      "Explain node 1798:  10%|█         | 21/200 [00:00<00:00, 209.95it/s]\u001b[A\n",
      "Explain node 1798:  21%|██        | 42/200 [00:00<00:00, 199.28it/s]\u001b[A\n",
      "Explain node 1798:  32%|███▏      | 64/200 [00:00<00:00, 207.87it/s]\u001b[A\n",
      "Explain node 1798:  44%|████▎     | 87/200 [00:00<00:00, 213.36it/s]\u001b[A\n",
      "Explain node 1798:  55%|█████▍    | 109/200 [00:00<00:00, 208.34it/s]\u001b[A\n",
      "Explain node 1798:  65%|██████▌   | 130/200 [00:00<00:00, 201.03it/s]\u001b[A\n",
      "Explain node 1798:  76%|███████▌  | 151/200 [00:00<00:00, 197.47it/s]\u001b[A\n",
      "Explain node 1798:  86%|████████▌ | 172/200 [00:00<00:00, 200.02it/s]\u001b[A\n",
      "Explain node 1798: 100%|██████████| 200/200 [00:00<00:00, 203.71it/s]\u001b[A\n"
     ]
    },
    {
     "name": "stdout",
     "output_type": "stream",
     "text": [
      "Accuracy on Model:  43.43434343434344\n",
      "Accuracy on EVAL-XG:  53.535353535353536\n"
     ]
    },
    {
     "name": "stderr",
     "output_type": "stream",
     "text": [
      "\n",
      "  0%|          | 0/200 [00:00<?, ?it/s]\u001b[A\n",
      "Explain node 1799:   0%|          | 0/200 [00:00<?, ?it/s]\u001b[A\n",
      "Explain node 1799:  11%|█         | 22/200 [00:00<00:00, 218.16it/s]\u001b[A\n",
      "Explain node 1799:  22%|██▎       | 45/200 [00:00<00:00, 219.82it/s]\u001b[A\n",
      "Explain node 1799:  34%|███▍      | 68/200 [00:00<00:00, 220.82it/s]\u001b[A\n",
      "Explain node 1799:  46%|████▌     | 91/200 [00:00<00:00, 221.98it/s]\u001b[A\n",
      "Explain node 1799:  57%|█████▋    | 114/200 [00:00<00:00, 222.06it/s]\u001b[A\n",
      "Explain node 1799:  68%|██████▊   | 137/200 [00:00<00:00, 221.29it/s]\u001b[A\n",
      "Explain node 1799:  80%|████████  | 160/200 [00:00<00:00, 216.20it/s]\u001b[A\n",
      "Explain node 1799: 100%|██████████| 200/200 [00:00<00:00, 219.75it/s]\u001b[A\n"
     ]
    },
    {
     "name": "stdout",
     "output_type": "stream",
     "text": [
      "Accuracy on Model:  44.0\n",
      "Accuracy on EVAL-XG:  54.0\n"
     ]
    },
    {
     "name": "stderr",
     "output_type": "stream",
     "text": [
      "\n",
      "  0%|          | 0/200 [00:00<?, ?it/s]\u001b[A\n",
      "Explain node 1800:   0%|          | 0/200 [00:00<?, ?it/s]\u001b[A\n",
      "Explain node 1800:  12%|█▏        | 23/200 [00:00<00:00, 220.69it/s]\u001b[A\n",
      "Explain node 1800:  23%|██▎       | 46/200 [00:00<00:00, 221.72it/s]\u001b[A\n",
      "Explain node 1800:  34%|███▍      | 69/200 [00:00<00:00, 222.31it/s]\u001b[A\n",
      "Explain node 1800:  46%|████▌     | 92/200 [00:00<00:00, 222.28it/s]\u001b[A\n",
      "Explain node 1800:  57%|█████▊    | 115/200 [00:00<00:00, 220.50it/s]\u001b[A\n",
      "Explain node 1800:  69%|██████▉   | 138/200 [00:00<00:00, 218.93it/s]\u001b[A\n",
      "Explain node 1800:  80%|████████  | 160/200 [00:00<00:00, 217.14it/s]\u001b[A\n",
      "Explain node 1800: 100%|██████████| 200/200 [00:00<00:00, 218.34it/s]\u001b[A\n"
     ]
    },
    {
     "name": "stdout",
     "output_type": "stream",
     "text": [
      "Accuracy on Model:  43.56435643564357\n",
      "Accuracy on EVAL-XG:  53.46534653465347\n"
     ]
    },
    {
     "name": "stderr",
     "output_type": "stream",
     "text": [
      "\n",
      "  0%|          | 0/200 [00:00<?, ?it/s]\u001b[A\n",
      "Explain node 1801:   0%|          | 0/200 [00:00<?, ?it/s]\u001b[A\n",
      "Explain node 1801:  10%|█         | 21/200 [00:00<00:00, 205.45it/s]\u001b[A\n",
      "Explain node 1801:  21%|██        | 42/200 [00:00<00:00, 204.24it/s]\u001b[A\n",
      "Explain node 1801:  32%|███▏      | 64/200 [00:00<00:00, 207.41it/s]\u001b[A\n",
      "Explain node 1801:  43%|████▎     | 86/200 [00:00<00:00, 210.49it/s]\u001b[A\n",
      "Explain node 1801:  54%|█████▍    | 108/200 [00:00<00:00, 206.69it/s]\u001b[A\n",
      "Explain node 1801:  64%|██████▍   | 129/200 [00:00<00:00, 204.83it/s]\u001b[A\n",
      "Explain node 1801:  76%|███████▌  | 151/200 [00:00<00:00, 207.98it/s]\u001b[A\n",
      "Explain node 1801:  86%|████████▋ | 173/200 [00:00<00:00, 209.93it/s]\u001b[A\n",
      "Explain node 1801: 100%|██████████| 200/200 [00:00<00:00, 205.91it/s]\u001b[A\n"
     ]
    },
    {
     "name": "stdout",
     "output_type": "stream",
     "text": [
      "Accuracy on Model:  43.13725490196079\n",
      "Accuracy on EVAL-XG:  53.92156862745098\n"
     ]
    },
    {
     "name": "stderr",
     "output_type": "stream",
     "text": [
      "\n",
      "  0%|          | 0/200 [00:00<?, ?it/s]\u001b[A\n",
      "Explain node 1802:   0%|          | 0/200 [00:00<?, ?it/s]\u001b[A\n",
      "Explain node 1802:  11%|█         | 22/200 [00:00<00:00, 215.77it/s]\u001b[A\n",
      "Explain node 1802:  22%|██▏       | 44/200 [00:00<00:00, 217.05it/s]\u001b[A\n",
      "Explain node 1802:  33%|███▎      | 66/200 [00:00<00:00, 218.08it/s]\u001b[A\n",
      "Explain node 1802:  44%|████▍     | 88/200 [00:00<00:00, 210.78it/s]\u001b[A\n",
      "Explain node 1802:  55%|█████▌    | 110/200 [00:00<00:00, 212.61it/s]\u001b[A\n",
      "Explain node 1802:  66%|██████▌   | 132/200 [00:00<00:00, 213.69it/s]\u001b[A\n",
      "Explain node 1802:  77%|███████▋  | 154/200 [00:00<00:00, 213.53it/s]\u001b[A\n",
      "Explain node 1802:  88%|████████▊ | 176/200 [00:00<00:00, 214.14it/s]\u001b[A\n",
      "Explain node 1802: 100%|██████████| 200/200 [00:00<00:00, 214.35it/s]\u001b[A\n"
     ]
    },
    {
     "name": "stdout",
     "output_type": "stream",
     "text": [
      "Accuracy on Model:  43.689320388349515\n",
      "Accuracy on EVAL-XG:  54.36893203883495\n"
     ]
    },
    {
     "name": "stderr",
     "output_type": "stream",
     "text": [
      "\n",
      "  0%|          | 0/200 [00:00<?, ?it/s]\u001b[A\n",
      "Explain node 1803:   0%|          | 0/200 [00:00<?, ?it/s]\u001b[A\n",
      "Explain node 1803:  10%|█         | 21/200 [00:00<00:00, 208.64it/s]\u001b[A\n",
      "Explain node 1803:  22%|██▏       | 43/200 [00:00<00:00, 211.95it/s]\u001b[A\n",
      "Explain node 1803:  32%|███▎      | 65/200 [00:00<00:00, 207.99it/s]\u001b[A\n",
      "Explain node 1803:  43%|████▎     | 86/200 [00:00<00:00, 207.64it/s]\u001b[A\n",
      "Explain node 1803:  54%|█████▎    | 107/200 [00:00<00:00, 207.45it/s]\u001b[A\n",
      "Explain node 1803:  64%|██████▍   | 128/200 [00:00<00:00, 207.03it/s]\u001b[A\n",
      "Explain node 1803:  75%|███████▌  | 150/200 [00:00<00:00, 210.53it/s]\u001b[A\n",
      "Explain node 1803:  86%|████████▋ | 173/200 [00:00<00:00, 214.16it/s]\u001b[A\n",
      "Explain node 1803: 100%|██████████| 200/200 [00:00<00:00, 211.51it/s]\u001b[A\n"
     ]
    },
    {
     "name": "stdout",
     "output_type": "stream",
     "text": [
      "Accuracy on Model:  44.230769230769226\n",
      "Accuracy on EVAL-XG:  54.807692307692314\n"
     ]
    },
    {
     "name": "stderr",
     "output_type": "stream",
     "text": [
      "\n",
      "  0%|          | 0/200 [00:00<?, ?it/s]\u001b[A\n",
      "Explain node 1804:   0%|          | 0/200 [00:00<?, ?it/s]\u001b[A\n",
      "Explain node 1804:  11%|█         | 22/200 [00:00<00:00, 218.35it/s]\u001b[A\n",
      "Explain node 1804:  22%|██▏       | 44/200 [00:00<00:00, 217.34it/s]\u001b[A\n",
      "Explain node 1804:  33%|███▎      | 66/200 [00:00<00:00, 217.25it/s]\u001b[A\n",
      "Explain node 1804:  44%|████▍     | 88/200 [00:00<00:00, 217.27it/s]\u001b[A\n",
      "Explain node 1804:  55%|█████▌    | 110/200 [00:00<00:00, 217.12it/s]\u001b[A\n",
      "Explain node 1804:  66%|██████▌   | 132/200 [00:00<00:00, 217.32it/s]\u001b[A\n",
      "Explain node 1804:  77%|███████▋  | 154/200 [00:00<00:00, 217.03it/s]\u001b[A\n",
      "Explain node 1804:  88%|████████▊ | 176/200 [00:00<00:00, 217.26it/s]\u001b[A\n",
      "Explain node 1804: 100%|██████████| 200/200 [00:00<00:00, 216.29it/s]\u001b[A\n"
     ]
    },
    {
     "name": "stdout",
     "output_type": "stream",
     "text": [
      "Accuracy on Model:  43.80952380952381\n",
      "Accuracy on EVAL-XG:  55.23809523809524\n"
     ]
    },
    {
     "name": "stderr",
     "output_type": "stream",
     "text": [
      "\n",
      "  0%|          | 0/200 [00:00<?, ?it/s]\u001b[A\n",
      "Explain node 1805:   0%|          | 0/200 [00:00<?, ?it/s]\u001b[A\n",
      "Explain node 1805:  11%|█         | 22/200 [00:00<00:00, 216.09it/s]\u001b[A\n",
      "Explain node 1805:  22%|██▏       | 44/200 [00:00<00:00, 217.07it/s]\u001b[A\n",
      "Explain node 1805:  33%|███▎      | 66/200 [00:00<00:00, 216.52it/s]\u001b[A\n",
      "Explain node 1805:  44%|████▍     | 88/200 [00:00<00:00, 215.84it/s]\u001b[A\n",
      "Explain node 1805:  55%|█████▌    | 110/200 [00:00<00:00, 215.10it/s]\u001b[A\n",
      "Explain node 1805:  66%|██████▌   | 132/200 [00:00<00:00, 215.95it/s]\u001b[A\n",
      "Explain node 1805:  77%|███████▋  | 154/200 [00:00<00:00, 214.58it/s]\u001b[A\n",
      "Explain node 1805:  88%|████████▊ | 176/200 [00:00<00:00, 213.96it/s]\u001b[A\n",
      "Explain node 1805: 100%|██████████| 200/200 [00:00<00:00, 213.33it/s]\u001b[A\n"
     ]
    },
    {
     "name": "stdout",
     "output_type": "stream",
     "text": [
      "Accuracy on Model:  43.39622641509434\n",
      "Accuracy on EVAL-XG:  54.71698113207547\n"
     ]
    },
    {
     "name": "stderr",
     "output_type": "stream",
     "text": [
      "\n",
      "  0%|          | 0/200 [00:00<?, ?it/s]\u001b[A\n",
      "Explain node 1806:   0%|          | 0/200 [00:00<?, ?it/s]\u001b[A\n",
      "Explain node 1806:  10%|█         | 21/200 [00:00<00:00, 209.92it/s]\u001b[A\n",
      "Explain node 1806:  22%|██▏       | 43/200 [00:00<00:00, 210.95it/s]\u001b[A\n",
      "Explain node 1806:  32%|███▎      | 65/200 [00:00<00:00, 201.27it/s]\u001b[A\n",
      "Explain node 1806:  43%|████▎     | 86/200 [00:00<00:00, 200.75it/s]\u001b[A\n",
      "Explain node 1806:  54%|█████▍    | 108/200 [00:00<00:00, 205.94it/s]\u001b[A\n",
      "Explain node 1806:  64%|██████▍   | 129/200 [00:00<00:00, 204.65it/s]\u001b[A\n",
      "Explain node 1806:  75%|███████▌  | 150/200 [00:00<00:00, 199.54it/s]\u001b[A\n",
      "Explain node 1806:  86%|████████▌ | 171/200 [00:00<00:00, 201.32it/s]\u001b[A\n",
      "Explain node 1806: 100%|██████████| 200/200 [00:00<00:00, 202.59it/s]\u001b[A\n"
     ]
    },
    {
     "name": "stdout",
     "output_type": "stream",
     "text": [
      "Accuracy on Model:  43.925233644859816\n",
      "Accuracy on EVAL-XG:  55.140186915887845\n"
     ]
    },
    {
     "name": "stderr",
     "output_type": "stream",
     "text": [
      "\n",
      "  0%|          | 0/200 [00:00<?, ?it/s]\u001b[A\n",
      "Explain node 1807:   0%|          | 0/200 [00:00<?, ?it/s]\u001b[A\n",
      "Explain node 1807:  10%|█         | 21/200 [00:00<00:00, 201.18it/s]\u001b[A\n",
      "Explain node 1807:  21%|██        | 42/200 [00:00<00:00, 205.41it/s]\u001b[A\n",
      "Explain node 1807:  32%|███▏      | 63/200 [00:00<00:00, 202.17it/s]\u001b[A\n",
      "Explain node 1807:  42%|████▏     | 84/200 [00:00<00:00, 195.35it/s]\u001b[A\n",
      "Explain node 1807:  52%|█████▏    | 104/200 [00:00<00:00, 195.77it/s]\u001b[A\n",
      "Explain node 1807:  62%|██████▏   | 124/200 [00:00<00:00, 195.56it/s]\u001b[A\n",
      "Explain node 1807:  72%|███████▏  | 144/200 [00:00<00:00, 191.08it/s]\u001b[A\n",
      "Explain node 1807:  83%|████████▎ | 166/200 [00:00<00:00, 198.96it/s]\u001b[A\n",
      "Explain node 1807: 100%|██████████| 200/200 [00:01<00:00, 199.99it/s]\u001b[A\n"
     ]
    },
    {
     "name": "stdout",
     "output_type": "stream",
     "text": [
      "Accuracy on Model:  44.44444444444444\n",
      "Accuracy on EVAL-XG:  55.55555555555556\n"
     ]
    },
    {
     "name": "stderr",
     "output_type": "stream",
     "text": [
      "\n",
      "  0%|          | 0/200 [00:00<?, ?it/s]\u001b[A\n",
      "Explain node 1808:   0%|          | 0/200 [00:00<?, ?it/s]\u001b[A\n",
      "Explain node 1808:  11%|█         | 22/200 [00:00<00:00, 218.67it/s]\u001b[A\n",
      "Explain node 1808:  22%|██▎       | 45/200 [00:00<00:00, 219.77it/s]\u001b[A\n",
      "Explain node 1808:  34%|███▎      | 67/200 [00:00<00:00, 217.40it/s]\u001b[A\n",
      "Explain node 1808:  44%|████▍     | 89/200 [00:00<00:00, 216.14it/s]\u001b[A\n",
      "Explain node 1808:  56%|█████▌    | 111/200 [00:00<00:00, 216.13it/s]\u001b[A\n",
      "Explain node 1808:  66%|██████▋   | 133/200 [00:00<00:00, 217.21it/s]\u001b[A\n",
      "Explain node 1808:  78%|███████▊  | 156/200 [00:00<00:00, 218.17it/s]\u001b[A\n",
      "Explain node 1808: 100%|██████████| 200/200 [00:00<00:00, 217.74it/s]\u001b[A\n"
     ]
    },
    {
     "name": "stdout",
     "output_type": "stream",
     "text": [
      "Accuracy on Model:  44.95412844036697\n",
      "Accuracy on EVAL-XG:  55.96330275229357\n"
     ]
    },
    {
     "name": "stderr",
     "output_type": "stream",
     "text": [
      "\n",
      "  0%|          | 0/200 [00:00<?, ?it/s]\u001b[A\n",
      "Explain node 1809:   0%|          | 0/200 [00:00<?, ?it/s]\u001b[A\n",
      "Explain node 1809:  11%|█         | 22/200 [00:00<00:00, 219.97it/s]\u001b[A\n",
      "Explain node 1809:  22%|██▏       | 44/200 [00:00<00:00, 218.10it/s]\u001b[A\n",
      "Explain node 1809:  33%|███▎      | 66/200 [00:00<00:00, 216.98it/s]\u001b[A\n",
      "Explain node 1809:  44%|████▍     | 89/200 [00:00<00:00, 218.59it/s]\u001b[A\n",
      "Explain node 1809:  56%|█████▌    | 112/200 [00:00<00:00, 221.54it/s]\u001b[A\n",
      "Explain node 1809:  68%|██████▊   | 135/200 [00:00<00:00, 221.06it/s]\u001b[A\n",
      "Explain node 1809:  79%|███████▉  | 158/200 [00:00<00:00, 217.11it/s]\u001b[A\n",
      "Explain node 1809: 100%|██████████| 200/200 [00:00<00:00, 216.14it/s]\u001b[A\n"
     ]
    },
    {
     "name": "stdout",
     "output_type": "stream",
     "text": [
      "Accuracy on Model:  45.45454545454545\n",
      "Accuracy on EVAL-XG:  56.36363636363636\n"
     ]
    },
    {
     "name": "stderr",
     "output_type": "stream",
     "text": [
      "\n",
      "  0%|          | 0/200 [00:00<?, ?it/s]\u001b[A\n",
      "Explain node 1810:   0%|          | 0/200 [00:00<?, ?it/s]\u001b[A\n",
      "Explain node 1810:  11%|█         | 22/200 [00:00<00:00, 214.55it/s]\u001b[A\n",
      "Explain node 1810:  22%|██▏       | 44/200 [00:00<00:00, 217.09it/s]\u001b[A\n",
      "Explain node 1810:  33%|███▎      | 66/200 [00:00<00:00, 216.41it/s]\u001b[A\n",
      "Explain node 1810:  44%|████▍     | 89/200 [00:00<00:00, 219.00it/s]\u001b[A\n",
      "Explain node 1810:  56%|█████▌    | 112/200 [00:00<00:00, 221.19it/s]\u001b[A\n",
      "Explain node 1810:  68%|██████▊   | 135/200 [00:00<00:00, 223.95it/s]\u001b[A\n",
      "Explain node 1810:  79%|███████▉  | 158/200 [00:00<00:00, 222.77it/s]\u001b[A\n",
      "Explain node 1810: 100%|██████████| 200/200 [00:00<00:00, 221.86it/s]\u001b[A\n"
     ]
    },
    {
     "name": "stdout",
     "output_type": "stream",
     "text": [
      "Accuracy on Model:  45.04504504504504\n",
      "Accuracy on EVAL-XG:  55.85585585585585\n"
     ]
    },
    {
     "name": "stderr",
     "output_type": "stream",
     "text": [
      "\n",
      "  0%|          | 0/200 [00:00<?, ?it/s]\u001b[A\n",
      "Explain node 1811:   0%|          | 0/200 [00:00<?, ?it/s]\u001b[A\n",
      "Explain node 1811:  11%|█         | 22/200 [00:00<00:00, 217.13it/s]\u001b[A\n",
      "Explain node 1811:  22%|██▏       | 44/200 [00:00<00:00, 215.06it/s]\u001b[A\n",
      "Explain node 1811:  33%|███▎      | 66/200 [00:00<00:00, 216.71it/s]\u001b[A\n",
      "Explain node 1811:  44%|████▍     | 88/200 [00:00<00:00, 215.98it/s]\u001b[A\n",
      "Explain node 1811:  55%|█████▌    | 110/200 [00:00<00:00, 215.95it/s]\u001b[A\n",
      "Explain node 1811:  66%|██████▌   | 132/200 [00:00<00:00, 216.32it/s]\u001b[A\n",
      "Explain node 1811:  78%|███████▊  | 155/200 [00:00<00:00, 217.77it/s]\u001b[A\n",
      "Explain node 1811:  88%|████████▊ | 177/200 [00:00<00:00, 217.05it/s]\u001b[A\n",
      "Explain node 1811: 100%|██████████| 200/200 [00:00<00:00, 216.04it/s]\u001b[A\n"
     ]
    },
    {
     "name": "stdout",
     "output_type": "stream",
     "text": [
      "Accuracy on Model:  44.642857142857146\n",
      "Accuracy on EVAL-XG:  55.35714285714286\n"
     ]
    },
    {
     "name": "stderr",
     "output_type": "stream",
     "text": [
      "\n",
      "  0%|          | 0/200 [00:00<?, ?it/s]\u001b[A\n",
      "Explain node 1812:   0%|          | 0/200 [00:00<?, ?it/s]\u001b[A\n",
      "Explain node 1812:  11%|█         | 22/200 [00:00<00:00, 214.68it/s]\u001b[A\n",
      "Explain node 1812:  22%|██▏       | 44/200 [00:00<00:00, 213.63it/s]\u001b[A\n",
      "Explain node 1812:  33%|███▎      | 66/200 [00:00<00:00, 214.50it/s]\u001b[A\n",
      "Explain node 1812:  44%|████▍     | 89/200 [00:00<00:00, 217.00it/s]\u001b[A\n",
      "Explain node 1812:  56%|█████▌    | 111/200 [00:00<00:00, 215.55it/s]\u001b[A\n",
      "Explain node 1812:  66%|██████▋   | 133/200 [00:00<00:00, 209.38it/s]\u001b[A\n",
      "Explain node 1812:  77%|███████▋  | 154/200 [00:00<00:00, 203.94it/s]\u001b[A\n",
      "Explain node 1812:  88%|████████▊ | 175/200 [00:00<00:00, 204.68it/s]\u001b[A\n",
      "Explain node 1812: 100%|██████████| 200/200 [00:00<00:00, 208.95it/s]\u001b[A\n"
     ]
    },
    {
     "name": "stdout",
     "output_type": "stream",
     "text": [
      "Accuracy on Model:  45.13274336283185\n",
      "Accuracy on EVAL-XG:  55.75221238938053\n"
     ]
    },
    {
     "name": "stderr",
     "output_type": "stream",
     "text": [
      "\n",
      "  0%|          | 0/200 [00:00<?, ?it/s]\u001b[A\n",
      "Explain node 1813:   0%|          | 0/200 [00:00<?, ?it/s]\u001b[A\n",
      "Explain node 1813:  11%|█         | 22/200 [00:00<00:00, 216.38it/s]\u001b[A\n",
      "Explain node 1813:  22%|██▏       | 44/200 [00:00<00:00, 213.20it/s]\u001b[A\n",
      "Explain node 1813:  33%|███▎      | 66/200 [00:00<00:00, 201.50it/s]\u001b[A\n",
      "Explain node 1813:  44%|████▎     | 87/200 [00:00<00:00, 204.04it/s]\u001b[A\n",
      "Explain node 1813:  54%|█████▍    | 108/200 [00:00<00:00, 205.53it/s]\u001b[A\n",
      "Explain node 1813:  65%|██████▌   | 130/200 [00:00<00:00, 209.38it/s]\u001b[A\n",
      "Explain node 1813:  76%|███████▋  | 153/200 [00:00<00:00, 214.80it/s]\u001b[A\n",
      "Explain node 1813:  88%|████████▊ | 175/200 [00:00<00:00, 215.38it/s]\u001b[A\n",
      "Explain node 1813: 100%|██████████| 200/200 [00:00<00:00, 211.60it/s]\u001b[A\n"
     ]
    },
    {
     "name": "stdout",
     "output_type": "stream",
     "text": [
      "Accuracy on Model:  44.73684210526316\n",
      "Accuracy on EVAL-XG:  55.26315789473685\n"
     ]
    },
    {
     "name": "stderr",
     "output_type": "stream",
     "text": [
      "\n",
      "  0%|          | 0/200 [00:00<?, ?it/s]\u001b[A\n",
      "Explain node 1814:   0%|          | 0/200 [00:00<?, ?it/s]\u001b[A\n",
      "Explain node 1814:  11%|█         | 22/200 [00:00<00:00, 219.25it/s]\u001b[A\n",
      "Explain node 1814:  22%|██▏       | 44/200 [00:00<00:00, 215.47it/s]\u001b[A\n",
      "Explain node 1814:  33%|███▎      | 66/200 [00:00<00:00, 212.68it/s]\u001b[A\n",
      "Explain node 1814:  44%|████▍     | 88/200 [00:00<00:00, 209.41it/s]\u001b[A\n",
      "Explain node 1814:  55%|█████▌    | 110/200 [00:00<00:00, 211.93it/s]\u001b[A\n",
      "Explain node 1814:  66%|██████▌   | 132/200 [00:00<00:00, 213.83it/s]\u001b[A\n",
      "Explain node 1814:  78%|███████▊  | 155/200 [00:00<00:00, 217.54it/s]\u001b[A\n",
      "Explain node 1814:  89%|████████▉ | 178/200 [00:00<00:00, 219.70it/s]\u001b[A\n",
      "Explain node 1814: 100%|██████████| 200/200 [00:00<00:00, 215.98it/s]\u001b[A\n"
     ]
    },
    {
     "name": "stdout",
     "output_type": "stream",
     "text": [
      "Accuracy on Model:  45.21739130434783\n",
      "Accuracy on EVAL-XG:  55.65217391304348\n"
     ]
    },
    {
     "name": "stderr",
     "output_type": "stream",
     "text": [
      "\n",
      "  0%|          | 0/200 [00:00<?, ?it/s]\u001b[A\n",
      "Explain node 1815:   0%|          | 0/200 [00:00<?, ?it/s]\u001b[A\n",
      "Explain node 1815:  10%|█         | 21/200 [00:00<00:00, 204.30it/s]\u001b[A\n",
      "Explain node 1815:  22%|██▏       | 44/200 [00:00<00:00, 213.99it/s]\u001b[A\n",
      "Explain node 1815:  34%|███▎      | 67/200 [00:00<00:00, 218.69it/s]\u001b[A\n",
      "Explain node 1815:  45%|████▌     | 90/200 [00:00<00:00, 220.63it/s]\u001b[A\n",
      "Explain node 1815:  56%|█████▋    | 113/200 [00:00<00:00, 220.96it/s]\u001b[A\n",
      "Explain node 1815:  68%|██████▊   | 136/200 [00:00<00:00, 219.69it/s]\u001b[A\n",
      "Explain node 1815:  79%|███████▉  | 158/200 [00:00<00:00, 219.08it/s]\u001b[A\n",
      "Explain node 1815: 100%|██████████| 200/200 [00:00<00:00, 217.82it/s]\u001b[A\n"
     ]
    },
    {
     "name": "stdout",
     "output_type": "stream",
     "text": [
      "Accuracy on Model:  45.689655172413794\n",
      "Accuracy on EVAL-XG:  56.03448275862068\n"
     ]
    },
    {
     "name": "stderr",
     "output_type": "stream",
     "text": [
      "\n",
      "  0%|          | 0/200 [00:00<?, ?it/s]\u001b[A\n",
      "Explain node 1816:   0%|          | 0/200 [00:00<?, ?it/s]\u001b[A\n",
      "Explain node 1816:  11%|█         | 22/200 [00:00<00:00, 216.40it/s]\u001b[A\n",
      "Explain node 1816:  22%|██▎       | 45/200 [00:00<00:00, 221.33it/s]\u001b[A\n",
      "Explain node 1816:  34%|███▍      | 68/200 [00:00<00:00, 219.10it/s]\u001b[A\n",
      "Explain node 1816:  45%|████▌     | 90/200 [00:00<00:00, 219.04it/s]\u001b[A\n",
      "Explain node 1816:  56%|█████▌    | 112/200 [00:00<00:00, 218.43it/s]\u001b[A\n",
      "Explain node 1816:  67%|██████▋   | 134/200 [00:00<00:00, 218.64it/s]\u001b[A\n",
      "Explain node 1816:  78%|███████▊  | 156/200 [00:00<00:00, 213.29it/s]\u001b[A\n",
      "Explain node 1816: 100%|██████████| 200/200 [00:00<00:00, 215.85it/s]\u001b[A\n"
     ]
    },
    {
     "name": "stdout",
     "output_type": "stream",
     "text": [
      "Accuracy on Model:  45.2991452991453\n",
      "Accuracy on EVAL-XG:  56.41025641025641\n"
     ]
    },
    {
     "name": "stderr",
     "output_type": "stream",
     "text": [
      "\n",
      "  0%|          | 0/200 [00:00<?, ?it/s]\u001b[A\n",
      "Explain node 1817:   0%|          | 0/200 [00:00<?, ?it/s]\u001b[A\n",
      "Explain node 1817:  11%|█         | 22/200 [00:00<00:00, 214.40it/s]\u001b[A\n",
      "Explain node 1817:  22%|██▏       | 44/200 [00:00<00:00, 211.43it/s]\u001b[A\n",
      "Explain node 1817:  33%|███▎      | 66/200 [00:00<00:00, 212.78it/s]\u001b[A\n",
      "Explain node 1817:  44%|████▍     | 89/200 [00:00<00:00, 216.31it/s]\u001b[A\n",
      "Explain node 1817:  56%|█████▌    | 112/200 [00:00<00:00, 218.05it/s]\u001b[A\n",
      "Explain node 1817:  67%|██████▋   | 134/200 [00:00<00:00, 215.26it/s]\u001b[A\n",
      "Explain node 1817:  78%|███████▊  | 156/200 [00:00<00:00, 213.88it/s]\u001b[A\n",
      "Explain node 1817:  89%|████████▉ | 178/200 [00:00<00:00, 214.63it/s]\u001b[A\n",
      "Explain node 1817: 100%|██████████| 200/200 [00:00<00:00, 213.05it/s]\u001b[A\n"
     ]
    },
    {
     "name": "stdout",
     "output_type": "stream",
     "text": [
      "Accuracy on Model:  44.91525423728814\n",
      "Accuracy on EVAL-XG:  55.932203389830505\n"
     ]
    },
    {
     "name": "stderr",
     "output_type": "stream",
     "text": [
      "\n",
      "  0%|          | 0/200 [00:00<?, ?it/s]\u001b[A\n",
      "Explain node 1818:   0%|          | 0/200 [00:00<?, ?it/s]\u001b[A\n",
      "Explain node 1818:  10%|█         | 20/200 [00:00<00:00, 192.78it/s]\u001b[A\n",
      "Explain node 1818:  20%|██        | 40/200 [00:00<00:00, 194.53it/s]\u001b[A\n",
      "Explain node 1818:  30%|███       | 60/200 [00:00<00:00, 191.48it/s]\u001b[A\n",
      "Explain node 1818:  40%|████      | 80/200 [00:00<00:00, 192.48it/s]\u001b[A\n",
      "Explain node 1818:  50%|█████     | 101/200 [00:00<00:00, 195.93it/s]\u001b[A\n",
      "Explain node 1818:  61%|██████    | 122/200 [00:00<00:00, 197.73it/s]\u001b[A\n",
      "Explain node 1818:  71%|███████   | 142/200 [00:00<00:00, 196.92it/s]\u001b[A\n",
      "Explain node 1818:  82%|████████▏ | 163/200 [00:00<00:00, 200.24it/s]\u001b[A\n",
      "Explain node 1818: 100%|██████████| 200/200 [00:01<00:00, 198.76it/s]\u001b[A\n"
     ]
    },
    {
     "name": "stdout",
     "output_type": "stream",
     "text": [
      "Accuracy on Model:  44.537815126050425\n",
      "Accuracy on EVAL-XG:  55.46218487394958\n"
     ]
    },
    {
     "name": "stderr",
     "output_type": "stream",
     "text": [
      "\n",
      "  0%|          | 0/200 [00:00<?, ?it/s]\u001b[A\n",
      "Explain node 1819:   0%|          | 0/200 [00:00<?, ?it/s]\u001b[A\n",
      "Explain node 1819:  10%|█         | 21/200 [00:00<00:00, 207.61it/s]\u001b[A\n",
      "Explain node 1819:  21%|██        | 42/200 [00:00<00:00, 203.62it/s]\u001b[A\n",
      "Explain node 1819:  32%|███▏      | 63/200 [00:00<00:00, 202.12it/s]\u001b[A\n",
      "Explain node 1819:  42%|████▏     | 84/200 [00:00<00:00, 201.11it/s]\u001b[A\n",
      "Explain node 1819:  52%|█████▎    | 105/200 [00:00<00:00, 203.29it/s]\u001b[A\n",
      "Explain node 1819:  63%|██████▎   | 126/200 [00:00<00:00, 201.54it/s]\u001b[A\n",
      "Explain node 1819:  74%|███████▍  | 148/200 [00:00<00:00, 205.44it/s]\u001b[A\n",
      "Explain node 1819:  84%|████████▍ | 169/200 [00:00<00:00, 205.30it/s]\u001b[A\n",
      "Explain node 1819: 100%|██████████| 200/200 [00:00<00:00, 203.48it/s]\u001b[A\n"
     ]
    },
    {
     "name": "stdout",
     "output_type": "stream",
     "text": [
      "Accuracy on Model:  44.166666666666664\n",
      "Accuracy on EVAL-XG:  55.833333333333336\n"
     ]
    },
    {
     "name": "stderr",
     "output_type": "stream",
     "text": [
      "\n",
      "  0%|          | 0/200 [00:00<?, ?it/s]\u001b[A\n",
      "Explain node 1820:   0%|          | 0/200 [00:00<?, ?it/s]\u001b[A\n",
      "Explain node 1820:  12%|█▏        | 23/200 [00:00<00:00, 221.07it/s]\u001b[A\n",
      "Explain node 1820:  23%|██▎       | 46/200 [00:00<00:00, 218.94it/s]\u001b[A\n",
      "Explain node 1820:  34%|███▍      | 69/200 [00:00<00:00, 221.09it/s]\u001b[A\n",
      "Explain node 1820:  46%|████▌     | 92/200 [00:00<00:00, 220.62it/s]\u001b[A\n",
      "Explain node 1820:  57%|█████▊    | 115/200 [00:00<00:00, 217.59it/s]\u001b[A\n",
      "Explain node 1820:  68%|██████▊   | 137/200 [00:00<00:00, 212.92it/s]\u001b[A\n",
      "Explain node 1820:  80%|███████▉  | 159/200 [00:00<00:00, 213.54it/s]\u001b[A\n",
      "Explain node 1820: 100%|██████████| 200/200 [00:00<00:00, 216.47it/s]\u001b[A\n"
     ]
    },
    {
     "name": "stdout",
     "output_type": "stream",
     "text": [
      "Accuracy on Model:  44.62809917355372\n",
      "Accuracy on EVAL-XG:  56.19834710743802\n"
     ]
    },
    {
     "name": "stderr",
     "output_type": "stream",
     "text": [
      "\n",
      "  0%|          | 0/200 [00:00<?, ?it/s]\u001b[A\n",
      "Explain node 1821:   0%|          | 0/200 [00:00<?, ?it/s]\u001b[A\n",
      "Explain node 1821:  11%|█         | 22/200 [00:00<00:00, 217.05it/s]\u001b[A\n",
      "Explain node 1821:  22%|██▏       | 44/200 [00:00<00:00, 216.53it/s]\u001b[A\n",
      "Explain node 1821:  33%|███▎      | 66/200 [00:00<00:00, 213.46it/s]\u001b[A\n",
      "Explain node 1821:  44%|████▍     | 88/200 [00:00<00:00, 210.29it/s]\u001b[A\n",
      "Explain node 1821:  56%|█████▌    | 111/200 [00:00<00:00, 214.40it/s]\u001b[A\n",
      "Explain node 1821:  66%|██████▋   | 133/200 [00:00<00:00, 213.76it/s]\u001b[A\n",
      "Explain node 1821:  78%|███████▊  | 155/200 [00:00<00:00, 210.05it/s]\u001b[A\n",
      "Explain node 1821:  88%|████████▊ | 177/200 [00:00<00:00, 208.22it/s]\u001b[A\n",
      "Explain node 1821: 100%|██████████| 200/200 [00:00<00:00, 209.91it/s]\u001b[A\n"
     ]
    },
    {
     "name": "stdout",
     "output_type": "stream",
     "text": [
      "Accuracy on Model:  44.26229508196721\n",
      "Accuracy on EVAL-XG:  55.73770491803278\n"
     ]
    },
    {
     "name": "stderr",
     "output_type": "stream",
     "text": [
      "\n",
      "  0%|          | 0/200 [00:00<?, ?it/s]\u001b[A\n",
      "Explain node 1822:   0%|          | 0/200 [00:00<?, ?it/s]\u001b[A\n",
      "Explain node 1822:  12%|█▏        | 23/200 [00:00<00:00, 222.53it/s]\u001b[A\n",
      "Explain node 1822:  23%|██▎       | 46/200 [00:00<00:00, 220.17it/s]\u001b[A\n",
      "Explain node 1822:  34%|███▍      | 69/200 [00:00<00:00, 219.53it/s]\u001b[A\n",
      "Explain node 1822:  46%|████▌     | 92/200 [00:00<00:00, 220.59it/s]\u001b[A\n",
      "Explain node 1822:  57%|█████▊    | 115/200 [00:00<00:00, 220.19it/s]\u001b[A\n",
      "Explain node 1822:  69%|██████▉   | 138/200 [00:00<00:00, 219.44it/s]\u001b[A\n",
      "Explain node 1822:  80%|████████  | 160/200 [00:00<00:00, 218.07it/s]\u001b[A\n",
      "Explain node 1822: 100%|██████████| 200/200 [00:00<00:00, 218.76it/s]\u001b[A\n"
     ]
    },
    {
     "name": "stdout",
     "output_type": "stream",
     "text": [
      "Accuracy on Model:  44.71544715447154\n",
      "Accuracy on EVAL-XG:  56.09756097560976\n"
     ]
    },
    {
     "name": "stderr",
     "output_type": "stream",
     "text": [
      "\n",
      "  0%|          | 0/200 [00:00<?, ?it/s]\u001b[A\n",
      "Explain node 1823:   0%|          | 0/200 [00:00<?, ?it/s]\u001b[A\n",
      "Explain node 1823:  11%|█         | 22/200 [00:00<00:00, 214.89it/s]\u001b[A\n",
      "Explain node 1823:  22%|██▏       | 44/200 [00:00<00:00, 211.27it/s]\u001b[A\n",
      "Explain node 1823:  33%|███▎      | 66/200 [00:00<00:00, 212.91it/s]\u001b[A\n",
      "Explain node 1823:  44%|████▍     | 88/200 [00:00<00:00, 214.63it/s]\u001b[A\n",
      "Explain node 1823:  55%|█████▌    | 110/200 [00:00<00:00, 215.81it/s]\u001b[A\n",
      "Explain node 1823:  66%|██████▌   | 132/200 [00:00<00:00, 216.51it/s]\u001b[A\n",
      "Explain node 1823:  77%|███████▋  | 154/200 [00:00<00:00, 217.40it/s]\u001b[A\n",
      "Explain node 1823:  88%|████████▊ | 176/200 [00:00<00:00, 217.70it/s]\u001b[A\n",
      "Explain node 1823: 100%|██████████| 200/200 [00:00<00:00, 215.50it/s]\u001b[A\n"
     ]
    },
    {
     "name": "stdout",
     "output_type": "stream",
     "text": [
      "Accuracy on Model:  45.16129032258064\n",
      "Accuracy on EVAL-XG:  56.451612903225815\n"
     ]
    },
    {
     "name": "stderr",
     "output_type": "stream",
     "text": [
      "\n",
      "  0%|          | 0/200 [00:00<?, ?it/s]\u001b[A\n",
      "Explain node 1824:   0%|          | 0/200 [00:00<?, ?it/s]\u001b[A\n",
      "Explain node 1824:  11%|█         | 22/200 [00:00<00:00, 216.19it/s]\u001b[A\n",
      "Explain node 1824:  22%|██▏       | 44/200 [00:00<00:00, 216.09it/s]\u001b[A\n",
      "Explain node 1824:  33%|███▎      | 66/200 [00:00<00:00, 217.72it/s]\u001b[A\n",
      "Explain node 1824:  44%|████▍     | 88/200 [00:00<00:00, 216.41it/s]\u001b[A\n",
      "Explain node 1824:  55%|█████▌    | 110/200 [00:00<00:00, 217.41it/s]\u001b[A\n",
      "Explain node 1824:  66%|██████▌   | 132/200 [00:00<00:00, 214.38it/s]\u001b[A\n",
      "Explain node 1824:  77%|███████▋  | 154/200 [00:00<00:00, 204.91it/s]\u001b[A\n",
      "Explain node 1824:  88%|████████▊ | 176/200 [00:00<00:00, 207.06it/s]\u001b[A\n",
      "Explain node 1824: 100%|██████████| 200/200 [00:00<00:00, 211.11it/s]\u001b[A\n"
     ]
    },
    {
     "name": "stdout",
     "output_type": "stream",
     "text": [
      "Accuracy on Model:  44.800000000000004\n",
      "Accuracy on EVAL-XG:  56.00000000000001\n"
     ]
    },
    {
     "name": "stderr",
     "output_type": "stream",
     "text": [
      "\n",
      "  0%|          | 0/200 [00:00<?, ?it/s]\u001b[A\n",
      "Explain node 1825:   0%|          | 0/200 [00:00<?, ?it/s]\u001b[A\n",
      "Explain node 1825:  10%|█         | 21/200 [00:00<00:00, 204.30it/s]\u001b[A\n",
      "Explain node 1825:  21%|██        | 42/200 [00:00<00:00, 192.69it/s]\u001b[A\n",
      "Explain node 1825:  32%|███▏      | 63/200 [00:00<00:00, 197.43it/s]\u001b[A\n",
      "Explain node 1825:  42%|████▎     | 85/200 [00:00<00:00, 205.37it/s]\u001b[A\n",
      "Explain node 1825:  53%|█████▎    | 106/200 [00:00<00:00, 202.01it/s]\u001b[A\n",
      "Explain node 1825:  64%|██████▎   | 127/200 [00:00<00:00, 200.17it/s]\u001b[A\n",
      "Explain node 1825:  74%|███████▍  | 148/200 [00:00<00:00, 201.37it/s]\u001b[A\n",
      "Explain node 1825:  85%|████████▌ | 170/200 [00:00<00:00, 205.69it/s]\u001b[A\n",
      "Explain node 1825: 100%|██████████| 200/200 [00:00<00:00, 204.15it/s]\u001b[A\n"
     ]
    },
    {
     "name": "stdout",
     "output_type": "stream",
     "text": [
      "Accuracy on Model:  45.23809523809524\n",
      "Accuracy on EVAL-XG:  56.34920634920635\n"
     ]
    },
    {
     "name": "stderr",
     "output_type": "stream",
     "text": [
      "\n",
      "  0%|          | 0/200 [00:00<?, ?it/s]\u001b[A\n",
      "Explain node 1826:   0%|          | 0/200 [00:00<?, ?it/s]\u001b[A\n",
      "Explain node 1826:  10%|█         | 21/200 [00:00<00:00, 201.81it/s]\u001b[A\n",
      "Explain node 1826:  21%|██        | 42/200 [00:00<00:00, 202.60it/s]\u001b[A\n",
      "Explain node 1826:  32%|███▏      | 63/200 [00:00<00:00, 202.10it/s]\u001b[A\n",
      "Explain node 1826:  42%|████▏     | 84/200 [00:00<00:00, 200.69it/s]\u001b[A\n",
      "Explain node 1826:  52%|█████▎    | 105/200 [00:00<00:00, 196.82it/s]\u001b[A\n",
      "Explain node 1826:  64%|██████▍   | 128/200 [00:00<00:00, 204.66it/s]\u001b[A\n",
      "Explain node 1826:  75%|███████▌  | 150/200 [00:00<00:00, 207.70it/s]\u001b[A\n",
      "Explain node 1826:  86%|████████▌ | 172/200 [00:00<00:00, 208.70it/s]\u001b[A\n",
      "Explain node 1826: 100%|██████████| 200/200 [00:00<00:00, 206.63it/s]\u001b[A\n"
     ]
    },
    {
     "name": "stdout",
     "output_type": "stream",
     "text": [
      "Accuracy on Model:  45.66929133858268\n",
      "Accuracy on EVAL-XG:  56.69291338582677\n"
     ]
    },
    {
     "name": "stderr",
     "output_type": "stream",
     "text": [
      "\n",
      "  0%|          | 0/200 [00:00<?, ?it/s]\u001b[A\n",
      "Explain node 1827:   0%|          | 0/200 [00:00<?, ?it/s]\u001b[A\n",
      "Explain node 1827:  11%|█         | 22/200 [00:00<00:00, 214.58it/s]\u001b[A\n",
      "Explain node 1827:  22%|██▏       | 44/200 [00:00<00:00, 214.46it/s]\u001b[A\n",
      "Explain node 1827:  33%|███▎      | 66/200 [00:00<00:00, 214.00it/s]\u001b[A\n",
      "Explain node 1827:  44%|████▍     | 88/200 [00:00<00:00, 214.81it/s]\u001b[A\n",
      "Explain node 1827:  55%|█████▌    | 110/200 [00:00<00:00, 209.84it/s]\u001b[A\n",
      "Explain node 1827:  66%|██████▌   | 132/200 [00:00<00:00, 206.97it/s]\u001b[A\n",
      "Explain node 1827:  78%|███████▊  | 155/200 [00:00<00:00, 212.18it/s]\u001b[A\n",
      "Explain node 1827:  88%|████████▊ | 177/200 [00:00<00:00, 214.21it/s]\u001b[A\n",
      "Explain node 1827: 100%|██████████| 200/200 [00:00<00:00, 212.09it/s]\u001b[A\n"
     ]
    },
    {
     "name": "stdout",
     "output_type": "stream",
     "text": [
      "Accuracy on Model:  45.3125\n",
      "Accuracy on EVAL-XG:  56.25\n"
     ]
    },
    {
     "name": "stderr",
     "output_type": "stream",
     "text": [
      "\n",
      "  0%|          | 0/200 [00:00<?, ?it/s]\u001b[A\n",
      "Explain node 1828:   0%|          | 0/200 [00:00<?, ?it/s]\u001b[A\n",
      "Explain node 1828:  11%|█         | 22/200 [00:00<00:00, 217.48it/s]\u001b[A\n",
      "Explain node 1828:  22%|██▏       | 44/200 [00:00<00:00, 216.78it/s]\u001b[A\n",
      "Explain node 1828:  34%|███▎      | 67/200 [00:00<00:00, 218.79it/s]\u001b[A\n",
      "Explain node 1828:  44%|████▍     | 89/200 [00:00<00:00, 219.26it/s]\u001b[A\n",
      "Explain node 1828:  56%|█████▌    | 111/200 [00:00<00:00, 218.50it/s]\u001b[A\n",
      "Explain node 1828:  66%|██████▋   | 133/200 [00:00<00:00, 218.45it/s]\u001b[A\n",
      "Explain node 1828:  78%|███████▊  | 155/200 [00:00<00:00, 218.06it/s]\u001b[A\n",
      "Explain node 1828:  88%|████████▊ | 177/200 [00:00<00:00, 213.30it/s]\u001b[A\n",
      "Explain node 1828: 100%|██████████| 200/200 [00:00<00:00, 214.87it/s]\u001b[A\n"
     ]
    },
    {
     "name": "stdout",
     "output_type": "stream",
     "text": [
      "Accuracy on Model:  45.73643410852713\n",
      "Accuracy on EVAL-XG:  56.58914728682171\n"
     ]
    },
    {
     "name": "stderr",
     "output_type": "stream",
     "text": [
      "\n",
      "  0%|          | 0/200 [00:00<?, ?it/s]\u001b[A\n",
      "Explain node 1829:   0%|          | 0/200 [00:00<?, ?it/s]\u001b[A\n",
      "Explain node 1829:  10%|█         | 21/200 [00:00<00:00, 209.11it/s]\u001b[A\n",
      "Explain node 1829:  22%|██▏       | 43/200 [00:00<00:00, 211.86it/s]\u001b[A\n",
      "Explain node 1829:  32%|███▎      | 65/200 [00:00<00:00, 204.32it/s]\u001b[A\n",
      "Explain node 1829:  43%|████▎     | 86/200 [00:00<00:00, 206.29it/s]\u001b[A\n",
      "Explain node 1829:  54%|█████▎    | 107/200 [00:00<00:00, 199.00it/s]\u001b[A\n",
      "Explain node 1829:  64%|██████▍   | 128/200 [00:00<00:00, 201.24it/s]\u001b[A\n",
      "Explain node 1829:  76%|███████▌  | 151/200 [00:00<00:00, 206.97it/s]\u001b[A\n",
      "Explain node 1829:  86%|████████▌ | 172/200 [00:00<00:00, 203.89it/s]\u001b[A\n",
      "Explain node 1829: 100%|██████████| 200/200 [00:00<00:00, 204.49it/s]\u001b[A\n"
     ]
    },
    {
     "name": "stdout",
     "output_type": "stream",
     "text": [
      "Accuracy on Model:  45.38461538461539\n",
      "Accuracy on EVAL-XG:  56.15384615384615\n"
     ]
    },
    {
     "name": "stderr",
     "output_type": "stream",
     "text": [
      "\n",
      "  0%|          | 0/200 [00:00<?, ?it/s]\u001b[A\n",
      "Explain node 1830:   0%|          | 0/200 [00:00<?, ?it/s]\u001b[A\n",
      "Explain node 1830:  10%|█         | 21/200 [00:00<00:00, 207.84it/s]\u001b[A\n",
      "Explain node 1830:  21%|██        | 42/200 [00:00<00:00, 208.85it/s]\u001b[A\n",
      "Explain node 1830:  32%|███▏      | 63/200 [00:00<00:00, 204.19it/s]\u001b[A\n",
      "Explain node 1830:  42%|████▎     | 85/200 [00:00<00:00, 207.41it/s]\u001b[A\n",
      "Explain node 1830:  53%|█████▎    | 106/200 [00:00<00:00, 203.29it/s]\u001b[A\n",
      "Explain node 1830:  64%|██████▎   | 127/200 [00:00<00:00, 202.49it/s]\u001b[A\n",
      "Explain node 1830:  74%|███████▍  | 148/200 [00:00<00:00, 204.71it/s]\u001b[A\n",
      "Explain node 1830:  84%|████████▍ | 169/200 [00:00<00:00, 205.04it/s]\u001b[A\n",
      "Explain node 1830: 100%|██████████| 200/200 [00:00<00:00, 206.91it/s]\u001b[A\n"
     ]
    },
    {
     "name": "stdout",
     "output_type": "stream",
     "text": [
      "Accuracy on Model:  45.80152671755725\n",
      "Accuracy on EVAL-XG:  56.48854961832062\n"
     ]
    },
    {
     "name": "stderr",
     "output_type": "stream",
     "text": [
      "\n",
      "  0%|          | 0/200 [00:00<?, ?it/s]\u001b[A\n",
      "Explain node 1831:   0%|          | 0/200 [00:00<?, ?it/s]\u001b[A\n",
      "Explain node 1831:  12%|█▏        | 23/200 [00:00<00:00, 222.45it/s]\u001b[A\n",
      "Explain node 1831:  23%|██▎       | 46/200 [00:00<00:00, 220.43it/s]\u001b[A\n",
      "Explain node 1831:  34%|███▍      | 69/200 [00:00<00:00, 221.06it/s]\u001b[A\n",
      "Explain node 1831:  46%|████▌     | 92/200 [00:00<00:00, 223.23it/s]\u001b[A\n",
      "Explain node 1831:  57%|█████▊    | 115/200 [00:00<00:00, 217.30it/s]\u001b[A\n",
      "Explain node 1831:  68%|██████▊   | 137/200 [00:00<00:00, 205.74it/s]\u001b[A\n",
      "Explain node 1831:  80%|███████▉  | 159/200 [00:00<00:00, 208.23it/s]\u001b[A\n",
      "Explain node 1831: 100%|██████████| 200/200 [00:00<00:00, 214.51it/s]\u001b[A\n"
     ]
    },
    {
     "name": "stdout",
     "output_type": "stream",
     "text": [
      "Accuracy on Model:  46.21212121212121\n",
      "Accuracy on EVAL-XG:  56.81818181818182\n"
     ]
    },
    {
     "name": "stderr",
     "output_type": "stream",
     "text": [
      "\n",
      "  0%|          | 0/200 [00:00<?, ?it/s]\u001b[A\n",
      "Explain node 1832:   0%|          | 0/200 [00:00<?, ?it/s]\u001b[A\n",
      "Explain node 1832:  12%|█▏        | 23/200 [00:00<00:00, 223.29it/s]\u001b[A\n",
      "Explain node 1832:  23%|██▎       | 46/200 [00:00<00:00, 218.35it/s]\u001b[A\n",
      "Explain node 1832:  34%|███▍      | 69/200 [00:00<00:00, 219.53it/s]\u001b[A\n",
      "Explain node 1832:  46%|████▌     | 92/200 [00:00<00:00, 221.60it/s]\u001b[A\n",
      "Explain node 1832:  57%|█████▊    | 115/200 [00:00<00:00, 215.64it/s]\u001b[A\n",
      "Explain node 1832:  68%|██████▊   | 137/200 [00:00<00:00, 214.29it/s]\u001b[A\n",
      "Explain node 1832:  80%|███████▉  | 159/200 [00:00<00:00, 214.55it/s]\u001b[A\n",
      "Explain node 1832: 100%|██████████| 200/200 [00:00<00:00, 217.64it/s]\u001b[A\n"
     ]
    },
    {
     "name": "stdout",
     "output_type": "stream",
     "text": [
      "Accuracy on Model:  46.616541353383454\n",
      "Accuracy on EVAL-XG:  57.14285714285714\n"
     ]
    },
    {
     "name": "stderr",
     "output_type": "stream",
     "text": [
      "\n",
      "  0%|          | 0/200 [00:00<?, ?it/s]\u001b[A\n",
      "Explain node 1833:   0%|          | 0/200 [00:00<?, ?it/s]\u001b[A\n",
      "Explain node 1833:  11%|█         | 22/200 [00:00<00:00, 218.27it/s]\u001b[A\n",
      "Explain node 1833:  22%|██▏       | 44/200 [00:00<00:00, 213.43it/s]\u001b[A\n",
      "Explain node 1833:  34%|███▎      | 67/200 [00:00<00:00, 216.83it/s]\u001b[A\n",
      "Explain node 1833:  44%|████▍     | 89/200 [00:00<00:00, 213.21it/s]\u001b[A\n",
      "Explain node 1833:  56%|█████▌    | 111/200 [00:00<00:00, 211.46it/s]\u001b[A\n",
      "Explain node 1833:  66%|██████▋   | 133/200 [00:00<00:00, 212.16it/s]\u001b[A\n",
      "Explain node 1833:  78%|███████▊  | 156/200 [00:00<00:00, 215.97it/s]\u001b[A\n",
      "Explain node 1833: 100%|██████████| 200/200 [00:00<00:00, 214.76it/s]\u001b[A\n"
     ]
    },
    {
     "name": "stdout",
     "output_type": "stream",
     "text": [
      "Accuracy on Model:  47.01492537313433\n",
      "Accuracy on EVAL-XG:  57.46268656716418\n"
     ]
    },
    {
     "name": "stderr",
     "output_type": "stream",
     "text": [
      "\n",
      "  0%|          | 0/200 [00:00<?, ?it/s]\u001b[A\n",
      "Explain node 1834:   0%|          | 0/200 [00:00<?, ?it/s]\u001b[A\n",
      "Explain node 1834:  12%|█▏        | 23/200 [00:00<00:00, 225.06it/s]\u001b[A\n",
      "Explain node 1834:  23%|██▎       | 46/200 [00:00<00:00, 221.41it/s]\u001b[A\n",
      "Explain node 1834:  34%|███▍      | 69/200 [00:00<00:00, 219.49it/s]\u001b[A\n",
      "Explain node 1834:  46%|████▌     | 91/200 [00:00<00:00, 218.15it/s]\u001b[A\n",
      "Explain node 1834:  56%|█████▋    | 113/200 [00:00<00:00, 217.86it/s]\u001b[A\n",
      "Explain node 1834:  68%|██████▊   | 135/200 [00:00<00:00, 218.27it/s]\u001b[A\n",
      "Explain node 1834:  78%|███████▊  | 157/200 [00:00<00:00, 216.40it/s]\u001b[A\n",
      "Explain node 1834: 100%|██████████| 200/200 [00:00<00:00, 218.09it/s]\u001b[A\n"
     ]
    },
    {
     "name": "stdout",
     "output_type": "stream",
     "text": [
      "Accuracy on Model:  46.666666666666664\n",
      "Accuracy on EVAL-XG:  57.03703703703704\n"
     ]
    },
    {
     "name": "stderr",
     "output_type": "stream",
     "text": [
      "\n",
      "  0%|          | 0/200 [00:00<?, ?it/s]\u001b[A\n",
      "Explain node 1835:   0%|          | 0/200 [00:00<?, ?it/s]\u001b[A\n",
      "Explain node 1835:  12%|█▏        | 23/200 [00:00<00:00, 221.79it/s]\u001b[A\n",
      "Explain node 1835:  23%|██▎       | 46/200 [00:00<00:00, 216.03it/s]\u001b[A\n",
      "Explain node 1835:  34%|███▍      | 69/200 [00:00<00:00, 219.01it/s]\u001b[A\n",
      "Explain node 1835:  46%|████▌     | 91/200 [00:00<00:00, 218.32it/s]\u001b[A\n",
      "Explain node 1835:  56%|█████▋    | 113/200 [00:00<00:00, 218.63it/s]\u001b[A\n",
      "Explain node 1835:  68%|██████▊   | 135/200 [00:00<00:00, 217.20it/s]\u001b[A\n",
      "Explain node 1835:  78%|███████▊  | 157/200 [00:00<00:00, 216.54it/s]\u001b[A\n",
      "Explain node 1835: 100%|██████████| 200/200 [00:00<00:00, 218.03it/s]\u001b[A\n"
     ]
    },
    {
     "name": "stdout",
     "output_type": "stream",
     "text": [
      "Accuracy on Model:  47.05882352941176\n",
      "Accuracy on EVAL-XG:  57.35294117647059\n"
     ]
    },
    {
     "name": "stderr",
     "output_type": "stream",
     "text": [
      "\n",
      "  0%|          | 0/200 [00:00<?, ?it/s]\u001b[A\n",
      "Explain node 1836:   0%|          | 0/200 [00:00<?, ?it/s]\u001b[A\n",
      "Explain node 1836:  12%|█▏        | 23/200 [00:00<00:00, 227.58it/s]\u001b[A\n",
      "Explain node 1836:  23%|██▎       | 46/200 [00:00<00:00, 225.27it/s]\u001b[A\n",
      "Explain node 1836:  34%|███▍      | 69/200 [00:00<00:00, 227.18it/s]\u001b[A\n",
      "Explain node 1836:  46%|████▌     | 92/200 [00:00<00:00, 227.27it/s]\u001b[A\n",
      "Explain node 1836:  57%|█████▊    | 115/200 [00:00<00:00, 227.14it/s]\u001b[A\n",
      "Explain node 1836:  69%|██████▉   | 138/200 [00:00<00:00, 225.84it/s]\u001b[A\n",
      "Explain node 1836:  80%|████████  | 161/200 [00:00<00:00, 224.69it/s]\u001b[A\n",
      "Explain node 1836: 100%|██████████| 200/200 [00:00<00:00, 224.86it/s]\u001b[A\n"
     ]
    },
    {
     "name": "stdout",
     "output_type": "stream",
     "text": [
      "Accuracy on Model:  46.715328467153284\n",
      "Accuracy on EVAL-XG:  56.934306569343065\n"
     ]
    },
    {
     "name": "stderr",
     "output_type": "stream",
     "text": [
      "\n",
      "  0%|          | 0/200 [00:00<?, ?it/s]\u001b[A\n",
      "Explain node 1837:   0%|          | 0/200 [00:00<?, ?it/s]\u001b[A\n",
      "Explain node 1837:  12%|█▏        | 23/200 [00:00<00:00, 220.62it/s]\u001b[A\n",
      "Explain node 1837:  23%|██▎       | 46/200 [00:00<00:00, 220.58it/s]\u001b[A\n",
      "Explain node 1837:  34%|███▍      | 69/200 [00:00<00:00, 220.64it/s]\u001b[A\n",
      "Explain node 1837:  46%|████▌     | 92/200 [00:00<00:00, 220.90it/s]\u001b[A\n",
      "Explain node 1837:  57%|█████▊    | 115/200 [00:00<00:00, 220.51it/s]\u001b[A\n",
      "Explain node 1837:  69%|██████▉   | 138/200 [00:00<00:00, 220.54it/s]\u001b[A\n",
      "Explain node 1837:  80%|████████  | 161/200 [00:00<00:00, 220.46it/s]\u001b[A\n",
      "Explain node 1837: 100%|██████████| 200/200 [00:00<00:00, 220.07it/s]\u001b[A\n"
     ]
    },
    {
     "name": "stdout",
     "output_type": "stream",
     "text": [
      "Accuracy on Model:  46.3768115942029\n",
      "Accuracy on EVAL-XG:  56.52173913043478\n"
     ]
    },
    {
     "name": "stderr",
     "output_type": "stream",
     "text": [
      "\n",
      "  0%|          | 0/200 [00:00<?, ?it/s]\u001b[A\n",
      "Explain node 1838:   0%|          | 0/200 [00:00<?, ?it/s]\u001b[A\n",
      "Explain node 1838:  12%|█▏        | 23/200 [00:00<00:00, 221.05it/s]\u001b[A\n",
      "Explain node 1838:  23%|██▎       | 46/200 [00:00<00:00, 222.02it/s]\u001b[A\n",
      "Explain node 1838:  34%|███▍      | 69/200 [00:00<00:00, 221.77it/s]\u001b[A\n",
      "Explain node 1838:  46%|████▌     | 92/200 [00:00<00:00, 221.09it/s]\u001b[A\n",
      "Explain node 1838:  57%|█████▊    | 115/200 [00:00<00:00, 221.35it/s]\u001b[A\n",
      "Explain node 1838:  69%|██████▉   | 138/200 [00:00<00:00, 220.82it/s]\u001b[A\n",
      "Explain node 1838:  80%|████████  | 161/200 [00:00<00:00, 220.02it/s]\u001b[A\n",
      "Explain node 1838: 100%|██████████| 200/200 [00:00<00:00, 218.72it/s]\u001b[A\n"
     ]
    },
    {
     "name": "stdout",
     "output_type": "stream",
     "text": [
      "Accuracy on Model:  46.043165467625904\n",
      "Accuracy on EVAL-XG:  56.11510791366906\n"
     ]
    },
    {
     "name": "stderr",
     "output_type": "stream",
     "text": [
      "\n",
      "  0%|          | 0/200 [00:00<?, ?it/s]\u001b[A\n",
      "Explain node 1839:   0%|          | 0/200 [00:00<?, ?it/s]\u001b[A\n",
      "Explain node 1839:  10%|█         | 21/200 [00:00<00:00, 203.74it/s]\u001b[A\n",
      "Explain node 1839:  21%|██        | 42/200 [00:00<00:00, 206.90it/s]\u001b[A\n",
      "Explain node 1839:  32%|███▏      | 64/200 [00:00<00:00, 212.76it/s]\u001b[A\n",
      "Explain node 1839:  43%|████▎     | 86/200 [00:00<00:00, 215.10it/s]\u001b[A\n",
      "Explain node 1839:  55%|█████▍    | 109/200 [00:00<00:00, 216.74it/s]\u001b[A\n",
      "Explain node 1839:  66%|██████▌   | 131/200 [00:00<00:00, 208.71it/s]\u001b[A\n",
      "Explain node 1839:  76%|███████▋  | 153/200 [00:00<00:00, 211.73it/s]\u001b[A\n",
      "Explain node 1839:  88%|████████▊ | 175/200 [00:00<00:00, 212.92it/s]\u001b[A\n",
      "Explain node 1839: 100%|██████████| 200/200 [00:00<00:00, 210.90it/s]\u001b[A\n"
     ]
    },
    {
     "name": "stdout",
     "output_type": "stream",
     "text": [
      "Accuracy on Model:  46.42857142857143\n",
      "Accuracy on EVAL-XG:  56.42857142857143\n"
     ]
    },
    {
     "name": "stderr",
     "output_type": "stream",
     "text": [
      "\n",
      "  0%|          | 0/200 [00:00<?, ?it/s]\u001b[A\n",
      "Explain node 1840:   0%|          | 0/200 [00:00<?, ?it/s]\u001b[A\n",
      "Explain node 1840:  11%|█         | 22/200 [00:00<00:00, 217.05it/s]\u001b[A\n",
      "Explain node 1840:  22%|██▏       | 44/200 [00:00<00:00, 211.79it/s]\u001b[A\n",
      "Explain node 1840:  33%|███▎      | 66/200 [00:00<00:00, 213.33it/s]\u001b[A\n",
      "Explain node 1840:  44%|████▍     | 89/200 [00:00<00:00, 217.43it/s]\u001b[A\n",
      "Explain node 1840:  56%|█████▌    | 111/200 [00:00<00:00, 215.20it/s]\u001b[A\n",
      "Explain node 1840:  66%|██████▋   | 133/200 [00:00<00:00, 214.50it/s]\u001b[A\n",
      "Explain node 1840:  78%|███████▊  | 155/200 [00:00<00:00, 216.15it/s]\u001b[A\n",
      "Explain node 1840:  88%|████████▊ | 177/200 [00:00<00:00, 214.02it/s]\u001b[A\n",
      "Explain node 1840: 100%|██████████| 200/200 [00:00<00:00, 213.58it/s]\u001b[A\n"
     ]
    },
    {
     "name": "stdout",
     "output_type": "stream",
     "text": [
      "Accuracy on Model:  46.808510638297875\n",
      "Accuracy on EVAL-XG:  56.73758865248227\n"
     ]
    },
    {
     "name": "stderr",
     "output_type": "stream",
     "text": [
      "\n",
      "  0%|          | 0/200 [00:00<?, ?it/s]\u001b[A\n",
      "Explain node 1841:   0%|          | 0/200 [00:00<?, ?it/s]\u001b[A\n",
      "Explain node 1841:  10%|█         | 20/200 [00:00<00:00, 195.42it/s]\u001b[A\n",
      "Explain node 1841:  20%|██        | 41/200 [00:00<00:00, 201.57it/s]\u001b[A\n",
      "Explain node 1841:  32%|███▏      | 63/200 [00:00<00:00, 208.59it/s]\u001b[A\n",
      "Explain node 1841:  42%|████▏     | 84/200 [00:00<00:00, 205.22it/s]\u001b[A\n",
      "Explain node 1841:  53%|█████▎    | 106/200 [00:00<00:00, 209.12it/s]\u001b[A\n",
      "Explain node 1841:  64%|██████▍   | 129/200 [00:00<00:00, 212.96it/s]\u001b[A\n",
      "Explain node 1841:  76%|███████▌  | 152/200 [00:00<00:00, 216.42it/s]\u001b[A\n",
      "Explain node 1841:  88%|████████▊ | 175/200 [00:00<00:00, 219.10it/s]\u001b[A\n",
      "Explain node 1841: 100%|██████████| 200/200 [00:00<00:00, 213.78it/s]\u001b[A\n"
     ]
    },
    {
     "name": "stdout",
     "output_type": "stream",
     "text": [
      "Accuracy on Model:  46.478873239436616\n",
      "Accuracy on EVAL-XG:  56.33802816901409\n"
     ]
    },
    {
     "name": "stderr",
     "output_type": "stream",
     "text": [
      "\n",
      "  0%|          | 0/200 [00:00<?, ?it/s]\u001b[A\n",
      "Explain node 1842:   0%|          | 0/200 [00:00<?, ?it/s]\u001b[A\n",
      "Explain node 1842:  11%|█         | 22/200 [00:00<00:00, 218.69it/s]\u001b[A\n",
      "Explain node 1842:  22%|██▏       | 44/200 [00:00<00:00, 218.05it/s]\u001b[A\n",
      "Explain node 1842:  34%|███▎      | 67/200 [00:00<00:00, 220.99it/s]\u001b[A\n",
      "Explain node 1842:  45%|████▌     | 90/200 [00:00<00:00, 221.08it/s]\u001b[A\n",
      "Explain node 1842:  56%|█████▋    | 113/200 [00:00<00:00, 221.91it/s]\u001b[A\n",
      "Explain node 1842:  68%|██████▊   | 136/200 [00:00<00:00, 218.56it/s]\u001b[A\n",
      "Explain node 1842:  80%|███████▉  | 159/200 [00:00<00:00, 220.51it/s]\u001b[A\n",
      "Explain node 1842: 100%|██████████| 200/200 [00:00<00:00, 220.90it/s]\u001b[A\n"
     ]
    },
    {
     "name": "stdout",
     "output_type": "stream",
     "text": [
      "Accuracy on Model:  46.85314685314685\n",
      "Accuracy on EVAL-XG:  56.64335664335665\n"
     ]
    },
    {
     "name": "stderr",
     "output_type": "stream",
     "text": [
      "\n",
      "  0%|          | 0/200 [00:00<?, ?it/s]\u001b[A\n",
      "Explain node 1843:   0%|          | 0/200 [00:00<?, ?it/s]\u001b[A\n",
      "Explain node 1843:  11%|█         | 22/200 [00:00<00:00, 219.40it/s]\u001b[A\n",
      "Explain node 1843:  22%|██▏       | 44/200 [00:00<00:00, 218.69it/s]\u001b[A\n",
      "Explain node 1843:  33%|███▎      | 66/200 [00:00<00:00, 218.65it/s]\u001b[A\n",
      "Explain node 1843:  44%|████▍     | 88/200 [00:00<00:00, 216.43it/s]\u001b[A\n",
      "Explain node 1843:  56%|█████▌    | 111/200 [00:00<00:00, 218.19it/s]\u001b[A\n",
      "Explain node 1843:  66%|██████▋   | 133/200 [00:00<00:00, 213.96it/s]\u001b[A\n",
      "Explain node 1843:  78%|███████▊  | 155/200 [00:00<00:00, 215.29it/s]\u001b[A\n",
      "Explain node 1843: 100%|██████████| 200/200 [00:00<00:00, 218.45it/s]\u001b[A\n"
     ]
    },
    {
     "name": "stdout",
     "output_type": "stream",
     "text": [
      "Accuracy on Model:  47.22222222222222\n",
      "Accuracy on EVAL-XG:  56.94444444444444\n"
     ]
    },
    {
     "name": "stderr",
     "output_type": "stream",
     "text": [
      "\n",
      "  0%|          | 0/200 [00:00<?, ?it/s]\u001b[A\n",
      "Explain node 1844:   0%|          | 0/200 [00:00<?, ?it/s]\u001b[A\n",
      "Explain node 1844:  12%|█▏        | 23/200 [00:00<00:00, 220.80it/s]\u001b[A\n",
      "Explain node 1844:  23%|██▎       | 46/200 [00:00<00:00, 221.54it/s]\u001b[A\n",
      "Explain node 1844:  34%|███▍      | 69/200 [00:00<00:00, 223.17it/s]\u001b[A\n",
      "Explain node 1844:  46%|████▌     | 92/200 [00:00<00:00, 223.80it/s]\u001b[A\n",
      "Explain node 1844:  57%|█████▊    | 115/200 [00:00<00:00, 220.41it/s]\u001b[A\n",
      "Explain node 1844:  69%|██████▉   | 138/200 [00:00<00:00, 217.75it/s]\u001b[A\n",
      "Explain node 1844:  80%|████████  | 161/200 [00:00<00:00, 219.61it/s]\u001b[A\n",
      "Explain node 1844: 100%|██████████| 200/200 [00:00<00:00, 218.74it/s]\u001b[A\n"
     ]
    },
    {
     "name": "stdout",
     "output_type": "stream",
     "text": [
      "Accuracy on Model:  47.58620689655172\n",
      "Accuracy on EVAL-XG:  57.24137931034483\n"
     ]
    },
    {
     "name": "stderr",
     "output_type": "stream",
     "text": [
      "\n",
      "  0%|          | 0/200 [00:00<?, ?it/s]\u001b[A\n",
      "Explain node 1845:   0%|          | 0/200 [00:00<?, ?it/s]\u001b[A\n",
      "Explain node 1845:  12%|█▏        | 23/200 [00:00<00:00, 226.08it/s]\u001b[A\n",
      "Explain node 1845:  23%|██▎       | 46/200 [00:00<00:00, 215.63it/s]\u001b[A\n",
      "Explain node 1845:  34%|███▍      | 68/200 [00:00<00:00, 215.81it/s]\u001b[A\n",
      "Explain node 1845:  45%|████▌     | 90/200 [00:00<00:00, 215.45it/s]\u001b[A\n",
      "Explain node 1845:  56%|█████▌    | 112/200 [00:00<00:00, 212.37it/s]\u001b[A\n",
      "Explain node 1845:  67%|██████▋   | 134/200 [00:00<00:00, 207.20it/s]\u001b[A\n",
      "Explain node 1845:  78%|███████▊  | 156/200 [00:00<00:00, 209.09it/s]\u001b[A\n",
      "Explain node 1845:  88%|████████▊ | 177/200 [00:00<00:00, 208.84it/s]\u001b[A\n",
      "Explain node 1845: 100%|██████████| 200/200 [00:00<00:00, 209.70it/s]\u001b[A\n"
     ]
    },
    {
     "name": "stdout",
     "output_type": "stream",
     "text": [
      "Accuracy on Model:  47.94520547945205\n",
      "Accuracy on EVAL-XG:  57.534246575342465\n"
     ]
    },
    {
     "name": "stderr",
     "output_type": "stream",
     "text": [
      "\n",
      "  0%|          | 0/200 [00:00<?, ?it/s]\u001b[A\n",
      "Explain node 1846:   0%|          | 0/200 [00:00<?, ?it/s]\u001b[A\n",
      "Explain node 1846:  10%|█         | 21/200 [00:00<00:00, 203.97it/s]\u001b[A\n",
      "Explain node 1846:  22%|██▏       | 43/200 [00:00<00:00, 208.82it/s]\u001b[A\n",
      "Explain node 1846:  32%|███▏      | 64/200 [00:00<00:00, 208.67it/s]\u001b[A\n",
      "Explain node 1846:  43%|████▎     | 86/200 [00:00<00:00, 209.42it/s]\u001b[A\n",
      "Explain node 1846:  54%|█████▍    | 108/200 [00:00<00:00, 211.19it/s]\u001b[A\n",
      "Explain node 1846:  65%|██████▌   | 130/200 [00:00<00:00, 210.26it/s]\u001b[A\n",
      "Explain node 1846:  76%|███████▌  | 152/200 [00:00<00:00, 209.06it/s]\u001b[A\n",
      "Explain node 1846:  87%|████████▋ | 174/200 [00:00<00:00, 209.70it/s]\u001b[A\n",
      "Explain node 1846: 100%|██████████| 200/200 [00:00<00:00, 209.15it/s]\u001b[A\n"
     ]
    },
    {
     "name": "stdout",
     "output_type": "stream",
     "text": [
      "Accuracy on Model:  47.61904761904761\n",
      "Accuracy on EVAL-XG:  57.14285714285714\n"
     ]
    },
    {
     "name": "stderr",
     "output_type": "stream",
     "text": [
      "\n",
      "  0%|          | 0/200 [00:00<?, ?it/s]\u001b[A\n",
      "Explain node 1847:   0%|          | 0/200 [00:00<?, ?it/s]\u001b[A\n",
      "Explain node 1847:  10%|█         | 21/200 [00:00<00:00, 207.10it/s]\u001b[A\n",
      "Explain node 1847:  21%|██        | 42/200 [00:00<00:00, 201.20it/s]\u001b[A\n",
      "Explain node 1847:  32%|███▏      | 63/200 [00:00<00:00, 200.74it/s]\u001b[A\n",
      "Explain node 1847:  42%|████▏     | 84/200 [00:00<00:00, 199.73it/s]\u001b[A\n",
      "Explain node 1847:  52%|█████▎    | 105/200 [00:00<00:00, 203.06it/s]\u001b[A\n",
      "Explain node 1847:  64%|██████▎   | 127/200 [00:00<00:00, 205.65it/s]\u001b[A\n",
      "Explain node 1847:  74%|███████▍  | 148/200 [00:00<00:00, 206.16it/s]\u001b[A\n",
      "Explain node 1847:  84%|████████▍ | 169/200 [00:00<00:00, 200.95it/s]\u001b[A\n",
      "Explain node 1847: 100%|██████████| 200/200 [00:00<00:00, 202.80it/s]\u001b[A\n"
     ]
    },
    {
     "name": "stdout",
     "output_type": "stream",
     "text": [
      "Accuracy on Model:  47.2972972972973\n",
      "Accuracy on EVAL-XG:  57.432432432432435\n"
     ]
    },
    {
     "name": "stderr",
     "output_type": "stream",
     "text": [
      "\n",
      "  0%|          | 0/200 [00:00<?, ?it/s]\u001b[A\n",
      "Explain node 1848:   0%|          | 0/200 [00:00<?, ?it/s]\u001b[A\n",
      "Explain node 1848:  11%|█         | 22/200 [00:00<00:00, 213.73it/s]\u001b[A\n",
      "Explain node 1848:  22%|██▏       | 44/200 [00:00<00:00, 204.22it/s]\u001b[A\n",
      "Explain node 1848:  32%|███▎      | 65/200 [00:00<00:00, 205.37it/s]\u001b[A\n",
      "Explain node 1848:  44%|████▎     | 87/200 [00:00<00:00, 208.10it/s]\u001b[A\n",
      "Explain node 1848:  54%|█████▍    | 108/200 [00:00<00:00, 208.71it/s]\u001b[A\n",
      "Explain node 1848:  65%|██████▌   | 130/200 [00:00<00:00, 210.00it/s]\u001b[A\n",
      "Explain node 1848:  76%|███████▌  | 152/200 [00:00<00:00, 209.41it/s]\u001b[A\n",
      "Explain node 1848:  87%|████████▋ | 174/200 [00:00<00:00, 210.04it/s]\u001b[A\n",
      "Explain node 1848: 100%|██████████| 200/200 [00:00<00:00, 208.17it/s]\u001b[A\n"
     ]
    },
    {
     "name": "stdout",
     "output_type": "stream",
     "text": [
      "Accuracy on Model:  47.651006711409394\n",
      "Accuracy on EVAL-XG:  57.04697986577181\n"
     ]
    },
    {
     "name": "stderr",
     "output_type": "stream",
     "text": [
      "\n",
      "  0%|          | 0/200 [00:00<?, ?it/s]\u001b[A\n",
      "Explain node 1849:   0%|          | 0/200 [00:00<?, ?it/s]\u001b[A\n",
      "Explain node 1849:  11%|█         | 22/200 [00:00<00:00, 212.31it/s]\u001b[A\n",
      "Explain node 1849:  22%|██▏       | 44/200 [00:00<00:00, 211.81it/s]\u001b[A\n",
      "Explain node 1849:  33%|███▎      | 66/200 [00:00<00:00, 210.80it/s]\u001b[A\n",
      "Explain node 1849:  44%|████▍     | 88/200 [00:00<00:00, 209.96it/s]\u001b[A\n",
      "Explain node 1849:  55%|█████▌    | 110/200 [00:00<00:00, 212.46it/s]\u001b[A\n",
      "Explain node 1849:  66%|██████▋   | 133/200 [00:00<00:00, 215.22it/s]\u001b[A\n",
      "Explain node 1849:  78%|███████▊  | 155/200 [00:00<00:00, 214.76it/s]\u001b[A\n",
      "Explain node 1849:  88%|████████▊ | 177/200 [00:00<00:00, 213.48it/s]\u001b[A\n",
      "Explain node 1849: 100%|██████████| 200/200 [00:00<00:00, 213.34it/s]\u001b[A\n"
     ]
    },
    {
     "name": "stdout",
     "output_type": "stream",
     "text": [
      "Accuracy on Model:  48.0\n",
      "Accuracy on EVAL-XG:  57.333333333333336\n"
     ]
    },
    {
     "name": "stderr",
     "output_type": "stream",
     "text": [
      "\n",
      "  0%|          | 0/200 [00:00<?, ?it/s]\u001b[A\n",
      "Explain node 1850:   0%|          | 0/200 [00:00<?, ?it/s]\u001b[A\n",
      "Explain node 1850:  11%|█         | 22/200 [00:00<00:00, 218.14it/s]\u001b[A\n",
      "Explain node 1850:  22%|██▏       | 44/200 [00:00<00:00, 219.06it/s]\u001b[A\n",
      "Explain node 1850:  34%|███▎      | 67/200 [00:00<00:00, 222.20it/s]\u001b[A\n",
      "Explain node 1850:  45%|████▌     | 90/200 [00:00<00:00, 213.82it/s]\u001b[A\n",
      "Explain node 1850:  56%|█████▋    | 113/200 [00:00<00:00, 216.68it/s]\u001b[A\n",
      "Explain node 1850:  68%|██████▊   | 135/200 [00:00<00:00, 217.64it/s]\u001b[A\n",
      "Explain node 1850:  79%|███████▉  | 158/200 [00:00<00:00, 219.13it/s]\u001b[A\n",
      "Explain node 1850: 100%|██████████| 200/200 [00:00<00:00, 218.46it/s]\u001b[A\n"
     ]
    },
    {
     "name": "stdout",
     "output_type": "stream",
     "text": [
      "Accuracy on Model:  47.682119205298015\n",
      "Accuracy on EVAL-XG:  56.95364238410596\n"
     ]
    },
    {
     "name": "stderr",
     "output_type": "stream",
     "text": [
      "\n",
      "  0%|          | 0/200 [00:00<?, ?it/s]\u001b[A\n",
      "Explain node 1851:   0%|          | 0/200 [00:00<?, ?it/s]\u001b[A\n",
      "Explain node 1851:  10%|█         | 21/200 [00:00<00:00, 208.49it/s]\u001b[A\n",
      "Explain node 1851:  22%|██▏       | 44/200 [00:00<00:00, 220.18it/s]\u001b[A\n",
      "Explain node 1851:  34%|███▎      | 67/200 [00:00<00:00, 223.17it/s]\u001b[A\n",
      "Explain node 1851:  45%|████▌     | 90/200 [00:00<00:00, 223.78it/s]\u001b[A\n",
      "Explain node 1851:  56%|█████▋    | 113/200 [00:00<00:00, 224.71it/s]\u001b[A\n",
      "Explain node 1851:  68%|██████▊   | 136/200 [00:00<00:00, 224.60it/s]\u001b[A\n",
      "Explain node 1851:  80%|███████▉  | 159/200 [00:00<00:00, 223.28it/s]\u001b[A\n",
      "Explain node 1851: 100%|██████████| 200/200 [00:00<00:00, 222.27it/s]\u001b[A\n"
     ]
    },
    {
     "name": "stdout",
     "output_type": "stream",
     "text": [
      "Accuracy on Model:  47.368421052631575\n",
      "Accuracy on EVAL-XG:  57.23684210526315\n"
     ]
    },
    {
     "name": "stderr",
     "output_type": "stream",
     "text": [
      "\n",
      "  0%|          | 0/200 [00:00<?, ?it/s]\u001b[A\n",
      "Explain node 1852:   0%|          | 0/200 [00:00<?, ?it/s]\u001b[A\n",
      "Explain node 1852:  12%|█▏        | 23/200 [00:00<00:00, 224.72it/s]\u001b[A\n",
      "Explain node 1852:  23%|██▎       | 46/200 [00:00<00:00, 222.29it/s]\u001b[A\n",
      "Explain node 1852:  34%|███▍      | 69/200 [00:00<00:00, 218.60it/s]\u001b[A\n",
      "Explain node 1852:  46%|████▌     | 91/200 [00:00<00:00, 215.90it/s]\u001b[A\n",
      "Explain node 1852:  57%|█████▋    | 114/200 [00:00<00:00, 217.91it/s]\u001b[A\n",
      "Explain node 1852:  68%|██████▊   | 137/200 [00:00<00:00, 219.13it/s]\u001b[A\n",
      "Explain node 1852:  80%|███████▉  | 159/200 [00:00<00:00, 218.89it/s]\u001b[A\n",
      "Explain node 1852: 100%|██████████| 200/200 [00:00<00:00, 219.42it/s]\u001b[A\n"
     ]
    },
    {
     "name": "stdout",
     "output_type": "stream",
     "text": [
      "Accuracy on Model:  47.05882352941176\n",
      "Accuracy on EVAL-XG:  56.86274509803921\n"
     ]
    },
    {
     "name": "stderr",
     "output_type": "stream",
     "text": [
      "\n",
      "  0%|          | 0/200 [00:00<?, ?it/s]\u001b[A\n",
      "Explain node 1853:   0%|          | 0/200 [00:00<?, ?it/s]\u001b[A\n",
      "Explain node 1853:  12%|█▏        | 23/200 [00:00<00:00, 223.66it/s]\u001b[A\n",
      "Explain node 1853:  23%|██▎       | 46/200 [00:00<00:00, 201.98it/s]\u001b[A\n",
      "Explain node 1853:  34%|███▎      | 67/200 [00:00<00:00, 202.81it/s]\u001b[A\n",
      "Explain node 1853:  44%|████▍     | 88/200 [00:00<00:00, 204.66it/s]\u001b[A\n",
      "Explain node 1853:  55%|█████▍    | 109/200 [00:00<00:00, 204.26it/s]\u001b[A\n",
      "Explain node 1853:  65%|██████▌   | 130/200 [00:00<00:00, 204.69it/s]\u001b[A\n",
      "Explain node 1853:  76%|███████▌  | 152/200 [00:00<00:00, 207.66it/s]\u001b[A\n",
      "Explain node 1853:  87%|████████▋ | 174/200 [00:00<00:00, 210.39it/s]\u001b[A\n",
      "Explain node 1853: 100%|██████████| 200/200 [00:00<00:00, 207.98it/s]\u001b[A\n"
     ]
    },
    {
     "name": "stdout",
     "output_type": "stream",
     "text": [
      "Accuracy on Model:  47.4025974025974\n",
      "Accuracy on EVAL-XG:  57.14285714285714\n"
     ]
    },
    {
     "name": "stderr",
     "output_type": "stream",
     "text": [
      "\n",
      "  0%|          | 0/200 [00:00<?, ?it/s]\u001b[A\n",
      "Explain node 1854:   0%|          | 0/200 [00:00<?, ?it/s]\u001b[A\n",
      "Explain node 1854:  11%|█         | 22/200 [00:00<00:00, 217.82it/s]\u001b[A\n",
      "Explain node 1854:  22%|██▎       | 45/200 [00:00<00:00, 220.53it/s]\u001b[A\n",
      "Explain node 1854:  34%|███▍      | 68/200 [00:00<00:00, 209.28it/s]\u001b[A\n",
      "Explain node 1854:  45%|████▌     | 90/200 [00:00<00:00, 209.90it/s]\u001b[A\n",
      "Explain node 1854:  56%|█████▌    | 112/200 [00:00<00:00, 204.27it/s]\u001b[A\n",
      "Explain node 1854:  67%|██████▋   | 134/200 [00:00<00:00, 206.71it/s]\u001b[A\n",
      "Explain node 1854:  78%|███████▊  | 155/200 [00:00<00:00, 207.46it/s]\u001b[A\n",
      "Explain node 1854:  88%|████████▊ | 177/200 [00:00<00:00, 209.64it/s]\u001b[A\n",
      "Explain node 1854: 100%|██████████| 200/200 [00:00<00:00, 210.49it/s]\u001b[A\n"
     ]
    },
    {
     "name": "stdout",
     "output_type": "stream",
     "text": [
      "Accuracy on Model:  47.74193548387097\n",
      "Accuracy on EVAL-XG:  57.41935483870968\n"
     ]
    },
    {
     "name": "stderr",
     "output_type": "stream",
     "text": [
      "\n",
      "  0%|          | 0/200 [00:00<?, ?it/s]\u001b[A\n",
      "Explain node 1855:   0%|          | 0/200 [00:00<?, ?it/s]\u001b[A\n",
      "Explain node 1855:  12%|█▏        | 23/200 [00:00<00:00, 224.09it/s]\u001b[A\n",
      "Explain node 1855:  23%|██▎       | 46/200 [00:00<00:00, 223.27it/s]\u001b[A\n",
      "Explain node 1855:  34%|███▍      | 69/200 [00:00<00:00, 224.89it/s]\u001b[A\n",
      "Explain node 1855:  46%|████▌     | 92/200 [00:00<00:00, 224.01it/s]\u001b[A\n",
      "Explain node 1855:  57%|█████▊    | 115/200 [00:00<00:00, 223.26it/s]\u001b[A\n",
      "Explain node 1855:  69%|██████▉   | 138/200 [00:00<00:00, 221.11it/s]\u001b[A\n",
      "Explain node 1855:  80%|████████  | 161/200 [00:00<00:00, 220.50it/s]\u001b[A\n",
      "Explain node 1855: 100%|██████████| 200/200 [00:00<00:00, 222.41it/s]\u001b[A\n"
     ]
    },
    {
     "name": "stdout",
     "output_type": "stream",
     "text": [
      "Accuracy on Model:  48.07692307692308\n",
      "Accuracy on EVAL-XG:  57.692307692307686\n"
     ]
    },
    {
     "name": "stderr",
     "output_type": "stream",
     "text": [
      "\n",
      "  0%|          | 0/200 [00:00<?, ?it/s]\u001b[A\n",
      "Explain node 1856:   0%|          | 0/200 [00:00<?, ?it/s]\u001b[A\n",
      "Explain node 1856:  12%|█▏        | 23/200 [00:00<00:00, 228.57it/s]\u001b[A\n",
      "Explain node 1856:  23%|██▎       | 46/200 [00:00<00:00, 225.06it/s]\u001b[A\n",
      "Explain node 1856:  34%|███▍      | 69/200 [00:00<00:00, 224.57it/s]\u001b[A\n",
      "Explain node 1856:  46%|████▌     | 92/200 [00:00<00:00, 220.58it/s]\u001b[A\n",
      "Explain node 1856:  57%|█████▊    | 115/200 [00:00<00:00, 216.99it/s]\u001b[A\n",
      "Explain node 1856:  68%|██████▊   | 137/200 [00:00<00:00, 216.60it/s]\u001b[A\n",
      "Explain node 1856:  80%|███████▉  | 159/200 [00:00<00:00, 212.39it/s]\u001b[A\n",
      "Explain node 1856: 100%|██████████| 200/200 [00:00<00:00, 214.78it/s]\u001b[A\n"
     ]
    },
    {
     "name": "stdout",
     "output_type": "stream",
     "text": [
      "Accuracy on Model:  48.40764331210191\n",
      "Accuracy on EVAL-XG:  57.961783439490446\n"
     ]
    },
    {
     "name": "stderr",
     "output_type": "stream",
     "text": [
      "\n",
      "  0%|          | 0/200 [00:00<?, ?it/s]\u001b[A\n",
      "Explain node 1857:   0%|          | 0/200 [00:00<?, ?it/s]\u001b[A\n",
      "Explain node 1857:  11%|█         | 22/200 [00:00<00:00, 213.10it/s]\u001b[A\n",
      "Explain node 1857:  22%|██▏       | 44/200 [00:00<00:00, 216.99it/s]\u001b[A\n",
      "Explain node 1857:  34%|███▎      | 67/200 [00:00<00:00, 221.13it/s]\u001b[A\n",
      "Explain node 1857:  45%|████▌     | 90/200 [00:00<00:00, 221.08it/s]\u001b[A\n",
      "Explain node 1857:  56%|█████▋    | 113/200 [00:00<00:00, 218.76it/s]\u001b[A\n",
      "Explain node 1857:  68%|██████▊   | 135/200 [00:00<00:00, 217.77it/s]\u001b[A\n",
      "Explain node 1857:  78%|███████▊  | 157/200 [00:00<00:00, 215.54it/s]\u001b[A\n",
      "Explain node 1857: 100%|██████████| 200/200 [00:00<00:00, 216.02it/s]\u001b[A\n"
     ]
    },
    {
     "name": "stdout",
     "output_type": "stream",
     "text": [
      "Accuracy on Model:  48.734177215189874\n",
      "Accuracy on EVAL-XG:  58.22784810126582\n"
     ]
    },
    {
     "name": "stderr",
     "output_type": "stream",
     "text": [
      "\n",
      "  0%|          | 0/200 [00:00<?, ?it/s]\u001b[A\n",
      "Explain node 1858:   0%|          | 0/200 [00:00<?, ?it/s]\u001b[A\n",
      "Explain node 1858:  11%|█         | 22/200 [00:00<00:00, 217.86it/s]\u001b[A\n",
      "Explain node 1858:  22%|██▏       | 44/200 [00:00<00:00, 215.20it/s]\u001b[A\n",
      "Explain node 1858:  33%|███▎      | 66/200 [00:00<00:00, 212.73it/s]\u001b[A\n",
      "Explain node 1858:  44%|████▍     | 88/200 [00:00<00:00, 215.23it/s]\u001b[A\n",
      "Explain node 1858:  55%|█████▌    | 110/200 [00:00<00:00, 211.71it/s]\u001b[A\n",
      "Explain node 1858:  66%|██████▌   | 132/200 [00:00<00:00, 211.71it/s]\u001b[A\n",
      "Explain node 1858:  77%|███████▋  | 154/200 [00:00<00:00, 212.15it/s]\u001b[A\n",
      "Explain node 1858:  88%|████████▊ | 176/200 [00:00<00:00, 212.97it/s]\u001b[A\n",
      "Explain node 1858: 100%|██████████| 200/200 [00:00<00:00, 212.14it/s]\u001b[A\n"
     ]
    },
    {
     "name": "stdout",
     "output_type": "stream",
     "text": [
      "Accuracy on Model:  49.056603773584904\n",
      "Accuracy on EVAL-XG:  58.490566037735846\n"
     ]
    },
    {
     "name": "stderr",
     "output_type": "stream",
     "text": [
      "\n",
      "  0%|          | 0/200 [00:00<?, ?it/s]\u001b[A\n",
      "Explain node 1859:   0%|          | 0/200 [00:00<?, ?it/s]\u001b[A\n",
      "Explain node 1859:  11%|█         | 22/200 [00:00<00:00, 219.80it/s]\u001b[A\n",
      "Explain node 1859:  22%|██▏       | 44/200 [00:00<00:00, 219.82it/s]\u001b[A\n",
      "Explain node 1859:  33%|███▎      | 66/200 [00:00<00:00, 219.66it/s]\u001b[A\n",
      "Explain node 1859:  44%|████▍     | 88/200 [00:00<00:00, 218.95it/s]\u001b[A\n",
      "Explain node 1859:  55%|█████▌    | 110/200 [00:00<00:00, 218.35it/s]\u001b[A\n",
      "Explain node 1859:  66%|██████▌   | 132/200 [00:00<00:00, 218.05it/s]\u001b[A\n",
      "Explain node 1859:  77%|███████▋  | 154/200 [00:00<00:00, 215.19it/s]\u001b[A\n",
      "Explain node 1859:  88%|████████▊ | 176/200 [00:00<00:00, 214.57it/s]\u001b[A\n",
      "Explain node 1859: 100%|██████████| 200/200 [00:00<00:00, 216.71it/s]\u001b[A\n"
     ]
    },
    {
     "name": "stdout",
     "output_type": "stream",
     "text": [
      "Accuracy on Model:  49.375\n",
      "Accuracy on EVAL-XG:  58.75\n"
     ]
    },
    {
     "name": "stderr",
     "output_type": "stream",
     "text": [
      "\n",
      "  0%|          | 0/200 [00:00<?, ?it/s]\u001b[A\n",
      "Explain node 1860:   0%|          | 0/200 [00:00<?, ?it/s]\u001b[A\n",
      "Explain node 1860:  11%|█         | 22/200 [00:00<00:00, 218.68it/s]\u001b[A\n",
      "Explain node 1860:  22%|██▎       | 45/200 [00:00<00:00, 221.15it/s]\u001b[A\n",
      "Explain node 1860:  34%|███▍      | 68/200 [00:00<00:00, 220.75it/s]\u001b[A\n",
      "Explain node 1860:  46%|████▌     | 91/200 [00:00<00:00, 220.94it/s]\u001b[A\n",
      "Explain node 1860:  57%|█████▋    | 114/200 [00:00<00:00, 218.76it/s]\u001b[A\n",
      "Explain node 1860:  68%|██████▊   | 137/200 [00:00<00:00, 219.85it/s]\u001b[A\n",
      "Explain node 1860:  80%|████████  | 160/200 [00:00<00:00, 220.14it/s]\u001b[A\n",
      "Explain node 1860: 100%|██████████| 200/200 [00:00<00:00, 217.09it/s]\u001b[A\n"
     ]
    },
    {
     "name": "stdout",
     "output_type": "stream",
     "text": [
      "Accuracy on Model:  49.68944099378882\n",
      "Accuracy on EVAL-XG:  59.006211180124225\n"
     ]
    },
    {
     "name": "stderr",
     "output_type": "stream",
     "text": [
      "\n",
      "  0%|          | 0/200 [00:00<?, ?it/s]\u001b[A\n",
      "Explain node 1861:   0%|          | 0/200 [00:00<?, ?it/s]\u001b[A\n",
      "Explain node 1861:  10%|█         | 20/200 [00:00<00:00, 197.86it/s]\u001b[A\n",
      "Explain node 1861:  20%|██        | 41/200 [00:00<00:00, 200.06it/s]\u001b[A\n",
      "Explain node 1861:  31%|███       | 62/200 [00:00<00:00, 202.54it/s]\u001b[A\n",
      "Explain node 1861:  42%|████▏     | 84/200 [00:00<00:00, 207.65it/s]\u001b[A\n",
      "Explain node 1861:  53%|█████▎    | 106/200 [00:00<00:00, 211.06it/s]\u001b[A\n",
      "Explain node 1861:  64%|██████▍   | 128/200 [00:00<00:00, 212.93it/s]\u001b[A\n",
      "Explain node 1861:  75%|███████▌  | 150/200 [00:00<00:00, 213.87it/s]\u001b[A\n",
      "Explain node 1861:  86%|████████▌ | 172/200 [00:00<00:00, 214.43it/s]\u001b[A\n",
      "Explain node 1861: 100%|██████████| 200/200 [00:00<00:00, 209.43it/s]\u001b[A\n"
     ]
    },
    {
     "name": "stdout",
     "output_type": "stream",
     "text": [
      "Accuracy on Model:  50.0\n",
      "Accuracy on EVAL-XG:  59.25925925925925\n"
     ]
    },
    {
     "name": "stderr",
     "output_type": "stream",
     "text": [
      "\n",
      "  0%|          | 0/200 [00:00<?, ?it/s]\u001b[A\n",
      "Explain node 1862:   0%|          | 0/200 [00:00<?, ?it/s]\u001b[A\n",
      "Explain node 1862:  10%|█         | 20/200 [00:00<00:00, 197.75it/s]\u001b[A\n",
      "Explain node 1862:  21%|██        | 42/200 [00:00<00:00, 207.44it/s]\u001b[A\n",
      "Explain node 1862:  32%|███▏      | 64/200 [00:00<00:00, 210.82it/s]\u001b[A\n",
      "Explain node 1862:  43%|████▎     | 86/200 [00:00<00:00, 214.04it/s]\u001b[A\n",
      "Explain node 1862:  54%|█████▍    | 108/200 [00:00<00:00, 214.40it/s]\u001b[A\n",
      "Explain node 1862:  65%|██████▌   | 130/200 [00:00<00:00, 215.32it/s]\u001b[A\n",
      "Explain node 1862:  76%|███████▌  | 152/200 [00:00<00:00, 214.58it/s]\u001b[A\n",
      "Explain node 1862:  87%|████████▋ | 174/200 [00:00<00:00, 215.19it/s]\u001b[A\n",
      "Explain node 1862: 100%|██████████| 200/200 [00:00<00:00, 211.95it/s]\u001b[A\n"
     ]
    },
    {
     "name": "stdout",
     "output_type": "stream",
     "text": [
      "Accuracy on Model:  50.306748466257666\n",
      "Accuracy on EVAL-XG:  59.50920245398773\n"
     ]
    },
    {
     "name": "stderr",
     "output_type": "stream",
     "text": [
      "\n",
      "  0%|          | 0/200 [00:00<?, ?it/s]\u001b[A\n",
      "Explain node 1863:   0%|          | 0/200 [00:00<?, ?it/s]\u001b[A\n",
      "Explain node 1863:  11%|█         | 22/200 [00:00<00:00, 215.07it/s]\u001b[A\n",
      "Explain node 1863:  22%|██▏       | 44/200 [00:00<00:00, 209.74it/s]\u001b[A\n",
      "Explain node 1863:  33%|███▎      | 66/200 [00:00<00:00, 214.21it/s]\u001b[A\n",
      "Explain node 1863:  44%|████▍     | 88/200 [00:00<00:00, 212.28it/s]\u001b[A\n",
      "Explain node 1863:  55%|█████▌    | 110/200 [00:00<00:00, 208.20it/s]\u001b[A\n",
      "Explain node 1863:  66%|██████▌   | 131/200 [00:00<00:00, 207.57it/s]\u001b[A\n",
      "Explain node 1863:  77%|███████▋  | 154/200 [00:00<00:00, 212.30it/s]\u001b[A\n",
      "Explain node 1863:  88%|████████▊ | 176/200 [00:00<00:00, 214.55it/s]\u001b[A\n",
      "Explain node 1863: 100%|██████████| 200/200 [00:00<00:00, 213.33it/s]\u001b[A\n"
     ]
    },
    {
     "name": "stdout",
     "output_type": "stream",
     "text": [
      "Accuracy on Model:  50.609756097560975\n",
      "Accuracy on EVAL-XG:  59.756097560975604\n"
     ]
    },
    {
     "name": "stderr",
     "output_type": "stream",
     "text": [
      "\n",
      "  0%|          | 0/200 [00:00<?, ?it/s]\u001b[A\n",
      "Explain node 1864:   0%|          | 0/200 [00:00<?, ?it/s]\u001b[A\n",
      "Explain node 1864:  12%|█▏        | 23/200 [00:00<00:00, 225.52it/s]\u001b[A\n",
      "Explain node 1864:  23%|██▎       | 46/200 [00:00<00:00, 223.55it/s]\u001b[A\n",
      "Explain node 1864:  34%|███▍      | 69/200 [00:00<00:00, 220.91it/s]\u001b[A\n",
      "Explain node 1864:  46%|████▌     | 92/200 [00:00<00:00, 221.19it/s]\u001b[A\n",
      "Explain node 1864:  57%|█████▊    | 115/200 [00:00<00:00, 219.67it/s]\u001b[A\n",
      "Explain node 1864:  69%|██████▉   | 138/200 [00:00<00:00, 220.04it/s]\u001b[A\n",
      "Explain node 1864:  80%|████████  | 161/200 [00:00<00:00, 220.71it/s]\u001b[A\n",
      "Explain node 1864: 100%|██████████| 200/200 [00:00<00:00, 220.20it/s]\u001b[A\n"
     ]
    },
    {
     "name": "stdout",
     "output_type": "stream",
     "text": [
      "Accuracy on Model:  50.90909090909091\n",
      "Accuracy on EVAL-XG:  60.0\n"
     ]
    },
    {
     "name": "stderr",
     "output_type": "stream",
     "text": [
      "\n",
      "  0%|          | 0/200 [00:00<?, ?it/s]\u001b[A\n",
      "Explain node 1865:   0%|          | 0/200 [00:00<?, ?it/s]\u001b[A\n",
      "Explain node 1865:  11%|█         | 22/200 [00:00<00:00, 216.27it/s]\u001b[A\n",
      "Explain node 1865:  22%|██▏       | 44/200 [00:00<00:00, 216.33it/s]\u001b[A\n",
      "Explain node 1865:  33%|███▎      | 66/200 [00:00<00:00, 214.52it/s]\u001b[A\n",
      "Explain node 1865:  44%|████▍     | 88/200 [00:00<00:00, 208.94it/s]\u001b[A\n",
      "Explain node 1865:  55%|█████▍    | 109/200 [00:00<00:00, 208.35it/s]\u001b[A\n",
      "Explain node 1865:  66%|██████▌   | 131/200 [00:00<00:00, 210.35it/s]\u001b[A\n",
      "Explain node 1865:  76%|███████▋  | 153/200 [00:00<00:00, 207.34it/s]\u001b[A\n",
      "Explain node 1865:  88%|████████▊ | 176/200 [00:00<00:00, 212.20it/s]\u001b[A\n",
      "Explain node 1865: 100%|██████████| 200/200 [00:00<00:00, 211.73it/s]\u001b[A\n"
     ]
    },
    {
     "name": "stdout",
     "output_type": "stream",
     "text": [
      "Accuracy on Model:  50.602409638554214\n",
      "Accuracy on EVAL-XG:  60.24096385542169\n"
     ]
    },
    {
     "name": "stderr",
     "output_type": "stream",
     "text": [
      "\n",
      "  0%|          | 0/200 [00:00<?, ?it/s]\u001b[A\n",
      "Explain node 1866:   0%|          | 0/200 [00:00<?, ?it/s]\u001b[A\n",
      "Explain node 1866:  12%|█▏        | 23/200 [00:00<00:00, 220.38it/s]\u001b[A\n",
      "Explain node 1866:  23%|██▎       | 46/200 [00:00<00:00, 221.78it/s]\u001b[A\n",
      "Explain node 1866:  34%|███▍      | 69/200 [00:00<00:00, 219.45it/s]\u001b[A\n",
      "Explain node 1866:  46%|████▌     | 91/200 [00:00<00:00, 214.68it/s]\u001b[A\n",
      "Explain node 1866:  56%|█████▋    | 113/200 [00:00<00:00, 213.66it/s]\u001b[A\n",
      "Explain node 1866:  68%|██████▊   | 135/200 [00:00<00:00, 210.75it/s]\u001b[A\n",
      "Explain node 1866:  78%|███████▊  | 157/200 [00:00<00:00, 204.33it/s]\u001b[A\n",
      "Explain node 1866: 100%|██████████| 200/200 [00:00<00:00, 212.28it/s]\u001b[A\n"
     ]
    },
    {
     "name": "stdout",
     "output_type": "stream",
     "text": [
      "Accuracy on Model:  50.29940119760479\n",
      "Accuracy on EVAL-XG:  59.88023952095808\n"
     ]
    },
    {
     "name": "stderr",
     "output_type": "stream",
     "text": [
      "\n",
      "  0%|          | 0/200 [00:00<?, ?it/s]\u001b[A\n",
      "Explain node 1867:   0%|          | 0/200 [00:00<?, ?it/s]\u001b[A\n",
      "Explain node 1867:  11%|█         | 22/200 [00:00<00:00, 217.22it/s]\u001b[A\n",
      "Explain node 1867:  22%|██▏       | 44/200 [00:00<00:00, 215.63it/s]\u001b[A\n",
      "Explain node 1867:  33%|███▎      | 66/200 [00:00<00:00, 216.33it/s]\u001b[A\n",
      "Explain node 1867:  44%|████▍     | 89/200 [00:00<00:00, 218.54it/s]\u001b[A\n",
      "Explain node 1867:  56%|█████▌    | 112/200 [00:00<00:00, 219.22it/s]\u001b[A\n",
      "Explain node 1867:  67%|██████▋   | 134/200 [00:00<00:00, 219.46it/s]\u001b[A\n",
      "Explain node 1867:  78%|███████▊  | 156/200 [00:00<00:00, 212.99it/s]\u001b[A\n",
      "Explain node 1867:  89%|████████▉ | 178/200 [00:00<00:00, 209.27it/s]\u001b[A\n",
      "Explain node 1867: 100%|██████████| 200/200 [00:00<00:00, 212.31it/s]\u001b[A\n"
     ]
    },
    {
     "name": "stdout",
     "output_type": "stream",
     "text": [
      "Accuracy on Model:  50.595238095238095\n",
      "Accuracy on EVAL-XG:  60.11904761904761\n"
     ]
    },
    {
     "name": "stderr",
     "output_type": "stream",
     "text": [
      "\n",
      "  0%|          | 0/200 [00:00<?, ?it/s]\u001b[A\n",
      "Explain node 1868:   0%|          | 0/200 [00:00<?, ?it/s]\u001b[A\n",
      "Explain node 1868:  11%|█         | 22/200 [00:00<00:00, 216.68it/s]\u001b[A\n",
      "Explain node 1868:  22%|██▏       | 44/200 [00:00<00:00, 215.29it/s]\u001b[A\n",
      "Explain node 1868:  33%|███▎      | 66/200 [00:00<00:00, 209.58it/s]\u001b[A\n",
      "Explain node 1868:  44%|████▍     | 88/200 [00:00<00:00, 210.27it/s]\u001b[A\n",
      "Explain node 1868:  56%|█████▌    | 111/200 [00:00<00:00, 214.10it/s]\u001b[A\n",
      "Explain node 1868:  67%|██████▋   | 134/200 [00:00<00:00, 217.03it/s]\u001b[A\n",
      "Explain node 1868:  78%|███████▊  | 156/200 [00:00<00:00, 216.65it/s]\u001b[A\n",
      "Explain node 1868:  89%|████████▉ | 178/200 [00:00<00:00, 217.08it/s]\u001b[A\n",
      "Explain node 1868: 100%|██████████| 200/200 [00:00<00:00, 214.34it/s]\u001b[A\n"
     ]
    },
    {
     "name": "stdout",
     "output_type": "stream",
     "text": [
      "Accuracy on Model:  50.887573964497044\n",
      "Accuracy on EVAL-XG:  59.76331360946746\n"
     ]
    },
    {
     "name": "stderr",
     "output_type": "stream",
     "text": [
      "\n",
      "  0%|          | 0/200 [00:00<?, ?it/s]\u001b[A\n",
      "Explain node 1869:   0%|          | 0/200 [00:00<?, ?it/s]\u001b[A\n",
      "Explain node 1869:  10%|█         | 21/200 [00:00<00:00, 209.65it/s]\u001b[A\n",
      "Explain node 1869:  21%|██        | 42/200 [00:00<00:00, 205.34it/s]\u001b[A\n",
      "Explain node 1869:  32%|███▏      | 64/200 [00:00<00:00, 210.78it/s]\u001b[A\n",
      "Explain node 1869:  44%|████▎     | 87/200 [00:00<00:00, 214.25it/s]\u001b[A\n",
      "Explain node 1869:  55%|█████▍    | 109/200 [00:00<00:00, 205.43it/s]\u001b[A\n",
      "Explain node 1869:  65%|██████▌   | 130/200 [00:00<00:00, 197.67it/s]\u001b[A\n",
      "Explain node 1869:  75%|███████▌  | 150/200 [00:00<00:00, 197.66it/s]\u001b[A\n",
      "Explain node 1869:  85%|████████▌ | 170/200 [00:00<00:00, 197.48it/s]\u001b[A\n",
      "Explain node 1869: 100%|██████████| 200/200 [00:00<00:00, 202.26it/s]\u001b[A\n"
     ]
    },
    {
     "name": "stdout",
     "output_type": "stream",
     "text": [
      "Accuracy on Model:  51.17647058823529\n",
      "Accuracy on EVAL-XG:  60.0\n"
     ]
    },
    {
     "name": "stderr",
     "output_type": "stream",
     "text": [
      "\n",
      "  0%|          | 0/200 [00:00<?, ?it/s]\u001b[A\n",
      "Explain node 1870:   0%|          | 0/200 [00:00<?, ?it/s]\u001b[A\n",
      "Explain node 1870:  11%|█         | 22/200 [00:00<00:00, 213.18it/s]\u001b[A\n",
      "Explain node 1870:  22%|██▏       | 44/200 [00:00<00:00, 215.18it/s]\u001b[A\n",
      "Explain node 1870:  33%|███▎      | 66/200 [00:00<00:00, 216.72it/s]\u001b[A\n",
      "Explain node 1870:  44%|████▍     | 89/200 [00:00<00:00, 218.92it/s]\u001b[A\n",
      "Explain node 1870:  56%|█████▌    | 111/200 [00:00<00:00, 218.74it/s]\u001b[A\n",
      "Explain node 1870:  66%|██████▋   | 133/200 [00:00<00:00, 217.01it/s]\u001b[A\n",
      "Explain node 1870:  78%|███████▊  | 156/200 [00:00<00:00, 218.67it/s]\u001b[A\n",
      "Explain node 1870:  89%|████████▉ | 178/200 [00:00<00:00, 218.95it/s]\u001b[A\n",
      "Explain node 1870: 100%|██████████| 200/200 [00:00<00:00, 217.60it/s]\u001b[A\n"
     ]
    },
    {
     "name": "stdout",
     "output_type": "stream",
     "text": [
      "Accuracy on Model:  50.877192982456144\n",
      "Accuracy on EVAL-XG:  59.64912280701754\n"
     ]
    },
    {
     "name": "stderr",
     "output_type": "stream",
     "text": [
      "\n",
      "  0%|          | 0/200 [00:00<?, ?it/s]\u001b[A\n",
      "Explain node 1871:   0%|          | 0/200 [00:00<?, ?it/s]\u001b[A\n",
      "Explain node 1871:  10%|█         | 20/200 [00:00<00:00, 194.98it/s]\u001b[A\n",
      "Explain node 1871:  20%|██        | 40/200 [00:00<00:00, 195.05it/s]\u001b[A\n",
      "Explain node 1871:  32%|███▏      | 63/200 [00:00<00:00, 207.03it/s]\u001b[A\n",
      "Explain node 1871:  43%|████▎     | 86/200 [00:00<00:00, 213.78it/s]\u001b[A\n",
      "Explain node 1871:  55%|█████▍    | 109/200 [00:00<00:00, 217.99it/s]\u001b[A\n",
      "Explain node 1871:  66%|██████▌   | 132/200 [00:00<00:00, 219.47it/s]\u001b[A\n",
      "Explain node 1871:  78%|███████▊  | 155/200 [00:00<00:00, 220.45it/s]\u001b[A\n",
      "Explain node 1871: 100%|██████████| 200/200 [00:00<00:00, 216.85it/s]\u001b[A\n"
     ]
    },
    {
     "name": "stdout",
     "output_type": "stream",
     "text": [
      "Accuracy on Model:  51.162790697674424\n",
      "Accuracy on EVAL-XG:  59.883720930232556\n"
     ]
    },
    {
     "name": "stderr",
     "output_type": "stream",
     "text": [
      "\n",
      "  0%|          | 0/200 [00:00<?, ?it/s]\u001b[A\n",
      "Explain node 1872:   0%|          | 0/200 [00:00<?, ?it/s]\u001b[A\n",
      "Explain node 1872:  11%|█         | 22/200 [00:00<00:00, 211.09it/s]\u001b[A\n",
      "Explain node 1872:  22%|██▎       | 45/200 [00:00<00:00, 217.26it/s]\u001b[A\n",
      "Explain node 1872:  34%|███▎      | 67/200 [00:00<00:00, 216.79it/s]\u001b[A\n",
      "Explain node 1872:  44%|████▍     | 89/200 [00:00<00:00, 216.43it/s]\u001b[A\n",
      "Explain node 1872:  56%|█████▌    | 111/200 [00:00<00:00, 214.93it/s]\u001b[A\n",
      "Explain node 1872:  66%|██████▋   | 133/200 [00:00<00:00, 214.53it/s]\u001b[A\n",
      "Explain node 1872:  78%|███████▊  | 155/200 [00:00<00:00, 213.53it/s]\u001b[A\n",
      "Explain node 1872:  88%|████████▊ | 177/200 [00:00<00:00, 215.51it/s]\u001b[A\n",
      "Explain node 1872: 100%|██████████| 200/200 [00:00<00:00, 215.08it/s]\u001b[A\n"
     ]
    },
    {
     "name": "stdout",
     "output_type": "stream",
     "text": [
      "Accuracy on Model:  51.445086705202314\n",
      "Accuracy on EVAL-XG:  60.115606936416185\n"
     ]
    },
    {
     "name": "stderr",
     "output_type": "stream",
     "text": [
      "\n",
      "  0%|          | 0/200 [00:00<?, ?it/s]\u001b[A\n",
      "Explain node 1873:   0%|          | 0/200 [00:00<?, ?it/s]\u001b[A\n",
      "Explain node 1873:  11%|█         | 22/200 [00:00<00:00, 214.12it/s]\u001b[A\n",
      "Explain node 1873:  22%|██▏       | 44/200 [00:00<00:00, 210.10it/s]\u001b[A\n",
      "Explain node 1873:  34%|███▎      | 67/200 [00:00<00:00, 214.68it/s]\u001b[A\n",
      "Explain node 1873:  45%|████▌     | 90/200 [00:00<00:00, 217.47it/s]\u001b[A\n",
      "Explain node 1873:  56%|█████▋    | 113/200 [00:00<00:00, 217.76it/s]\u001b[A\n",
      "Explain node 1873:  68%|██████▊   | 135/200 [00:00<00:00, 215.16it/s]\u001b[A\n",
      "Explain node 1873:  78%|███████▊  | 157/200 [00:00<00:00, 209.59it/s]\u001b[A\n",
      "Explain node 1873: 100%|██████████| 200/200 [00:00<00:00, 214.46it/s]\u001b[A\n"
     ]
    },
    {
     "name": "stdout",
     "output_type": "stream",
     "text": [
      "Accuracy on Model:  51.14942528735632\n",
      "Accuracy on EVAL-XG:  59.77011494252874\n"
     ]
    },
    {
     "name": "stderr",
     "output_type": "stream",
     "text": [
      "\n",
      "  0%|          | 0/200 [00:00<?, ?it/s]\u001b[A\n",
      "Explain node 1874:   0%|          | 0/200 [00:00<?, ?it/s]\u001b[A\n",
      "Explain node 1874:  10%|█         | 20/200 [00:00<00:00, 196.55it/s]\u001b[A\n",
      "Explain node 1874:  20%|██        | 41/200 [00:00<00:00, 199.66it/s]\u001b[A\n",
      "Explain node 1874:  32%|███▏      | 63/200 [00:00<00:00, 205.38it/s]\u001b[A\n",
      "Explain node 1874:  42%|████▎     | 85/200 [00:00<00:00, 209.80it/s]\u001b[A\n",
      "Explain node 1874:  54%|█████▎    | 107/200 [00:00<00:00, 212.53it/s]\u001b[A\n",
      "Explain node 1874:  64%|██████▍   | 129/200 [00:00<00:00, 214.02it/s]\u001b[A\n",
      "Explain node 1874:  76%|███████▌  | 151/200 [00:00<00:00, 215.53it/s]\u001b[A\n",
      "Explain node 1874:  86%|████████▋ | 173/200 [00:00<00:00, 215.81it/s]\u001b[A\n",
      "Explain node 1874: 100%|██████████| 200/200 [00:00<00:00, 213.10it/s]\u001b[A\n"
     ]
    },
    {
     "name": "stdout",
     "output_type": "stream",
     "text": [
      "Accuracy on Model:  50.857142857142854\n",
      "Accuracy on EVAL-XG:  59.42857142857143\n"
     ]
    },
    {
     "name": "stderr",
     "output_type": "stream",
     "text": [
      "\n",
      "  0%|          | 0/200 [00:00<?, ?it/s]\u001b[A\n",
      "Explain node 1875:   0%|          | 0/200 [00:00<?, ?it/s]\u001b[A\n",
      "Explain node 1875:  12%|█▏        | 23/200 [00:00<00:00, 221.74it/s]\u001b[A\n",
      "Explain node 1875:  23%|██▎       | 46/200 [00:00<00:00, 220.59it/s]\u001b[A\n",
      "Explain node 1875:  34%|███▍      | 69/200 [00:00<00:00, 220.39it/s]\u001b[A\n",
      "Explain node 1875:  46%|████▌     | 92/200 [00:00<00:00, 214.05it/s]\u001b[A\n",
      "Explain node 1875:  57%|█████▋    | 114/200 [00:00<00:00, 214.37it/s]\u001b[A\n",
      "Explain node 1875:  68%|██████▊   | 136/200 [00:00<00:00, 213.85it/s]\u001b[A\n",
      "Explain node 1875:  79%|███████▉  | 158/200 [00:00<00:00, 215.22it/s]\u001b[A\n",
      "Explain node 1875: 100%|██████████| 200/200 [00:00<00:00, 213.54it/s]\u001b[A\n"
     ]
    },
    {
     "name": "stdout",
     "output_type": "stream",
     "text": [
      "Accuracy on Model:  50.56818181818182\n",
      "Accuracy on EVAL-XG:  59.09090909090909\n"
     ]
    },
    {
     "name": "stderr",
     "output_type": "stream",
     "text": [
      "\n",
      "  0%|          | 0/200 [00:00<?, ?it/s]\u001b[A\n",
      "Explain node 1876:   0%|          | 0/200 [00:00<?, ?it/s]\u001b[A\n",
      "Explain node 1876:  11%|█         | 22/200 [00:00<00:00, 214.72it/s]\u001b[A\n",
      "Explain node 1876:  22%|██▏       | 44/200 [00:00<00:00, 217.19it/s]\u001b[A\n",
      "Explain node 1876:  33%|███▎      | 66/200 [00:00<00:00, 214.90it/s]\u001b[A\n",
      "Explain node 1876:  44%|████▍     | 88/200 [00:00<00:00, 215.34it/s]\u001b[A\n",
      "Explain node 1876:  55%|█████▌    | 110/200 [00:00<00:00, 213.03it/s]\u001b[A\n",
      "Explain node 1876:  66%|██████▋   | 133/200 [00:00<00:00, 216.06it/s]\u001b[A\n",
      "Explain node 1876:  78%|███████▊  | 155/200 [00:00<00:00, 216.80it/s]\u001b[A\n",
      "Explain node 1876:  88%|████████▊ | 177/200 [00:00<00:00, 212.40it/s]\u001b[A\n",
      "Explain node 1876: 100%|██████████| 200/200 [00:00<00:00, 212.71it/s]\u001b[A\n"
     ]
    },
    {
     "name": "stdout",
     "output_type": "stream",
     "text": [
      "Accuracy on Model:  50.847457627118644\n",
      "Accuracy on EVAL-XG:  59.32203389830508\n"
     ]
    },
    {
     "name": "stderr",
     "output_type": "stream",
     "text": [
      "\n",
      "  0%|          | 0/200 [00:00<?, ?it/s]\u001b[A\n",
      "Explain node 1877:   0%|          | 0/200 [00:00<?, ?it/s]\u001b[A\n",
      "Explain node 1877:  11%|█         | 22/200 [00:00<00:00, 217.97it/s]\u001b[A\n",
      "Explain node 1877:  22%|██▎       | 45/200 [00:00<00:00, 220.32it/s]\u001b[A\n",
      "Explain node 1877:  34%|███▍      | 68/200 [00:00<00:00, 219.90it/s]\u001b[A\n",
      "Explain node 1877:  45%|████▌     | 90/200 [00:00<00:00, 219.44it/s]\u001b[A\n",
      "Explain node 1877:  56%|█████▋    | 113/200 [00:00<00:00, 219.50it/s]\u001b[A\n",
      "Explain node 1877:  68%|██████▊   | 135/200 [00:00<00:00, 219.28it/s]\u001b[A\n",
      "Explain node 1877:  78%|███████▊  | 157/200 [00:00<00:00, 219.34it/s]\u001b[A\n",
      "Explain node 1877: 100%|██████████| 200/200 [00:00<00:00, 214.93it/s]\u001b[A\n"
     ]
    },
    {
     "name": "stdout",
     "output_type": "stream",
     "text": [
      "Accuracy on Model:  51.12359550561798\n",
      "Accuracy on EVAL-XG:  59.55056179775281\n"
     ]
    },
    {
     "name": "stderr",
     "output_type": "stream",
     "text": [
      "\n",
      "  0%|          | 0/200 [00:00<?, ?it/s]\u001b[A\n",
      "Explain node 1878:   0%|          | 0/200 [00:00<?, ?it/s]\u001b[A\n",
      "Explain node 1878:  11%|█         | 22/200 [00:00<00:00, 217.15it/s]\u001b[A\n",
      "Explain node 1878:  22%|██▎       | 45/200 [00:00<00:00, 219.84it/s]\u001b[A\n",
      "Explain node 1878:  34%|███▎      | 67/200 [00:00<00:00, 211.44it/s]\u001b[A\n",
      "Explain node 1878:  44%|████▍     | 89/200 [00:00<00:00, 213.55it/s]\u001b[A\n",
      "Explain node 1878:  56%|█████▌    | 111/200 [00:00<00:00, 215.48it/s]\u001b[A\n",
      "Explain node 1878:  67%|██████▋   | 134/200 [00:00<00:00, 217.48it/s]\u001b[A\n",
      "Explain node 1878:  78%|███████▊  | 157/200 [00:00<00:00, 219.43it/s]\u001b[A\n",
      "Explain node 1878: 100%|██████████| 200/200 [00:00<00:00, 213.69it/s]\u001b[A\n"
     ]
    },
    {
     "name": "stdout",
     "output_type": "stream",
     "text": [
      "Accuracy on Model:  51.39664804469274\n",
      "Accuracy on EVAL-XG:  59.77653631284916\n"
     ]
    },
    {
     "name": "stderr",
     "output_type": "stream",
     "text": [
      "\n",
      "  0%|          | 0/200 [00:00<?, ?it/s]\u001b[A\n",
      "Explain node 1879:   0%|          | 0/200 [00:00<?, ?it/s]\u001b[A\n",
      "Explain node 1879:  10%|█         | 20/200 [00:00<00:00, 191.89it/s]\u001b[A\n",
      "Explain node 1879:  21%|██        | 42/200 [00:00<00:00, 204.00it/s]\u001b[A\n",
      "Explain node 1879:  32%|███▏      | 63/200 [00:00<00:00, 203.73it/s]\u001b[A\n",
      "Explain node 1879:  42%|████▎     | 85/200 [00:00<00:00, 206.86it/s]\u001b[A\n",
      "Explain node 1879:  54%|█████▎    | 107/200 [00:00<00:00, 211.45it/s]\u001b[A\n",
      "Explain node 1879:  64%|██████▍   | 129/200 [00:00<00:00, 212.37it/s]\u001b[A\n",
      "Explain node 1879:  76%|███████▌  | 151/200 [00:00<00:00, 211.69it/s]\u001b[A\n",
      "Explain node 1879:  86%|████████▋ | 173/200 [00:00<00:00, 212.99it/s]\u001b[A\n",
      "Explain node 1879: 100%|██████████| 200/200 [00:00<00:00, 209.22it/s]\u001b[A\n"
     ]
    },
    {
     "name": "stdout",
     "output_type": "stream",
     "text": [
      "Accuracy on Model:  51.66666666666667\n",
      "Accuracy on EVAL-XG:  60.0\n"
     ]
    },
    {
     "name": "stderr",
     "output_type": "stream",
     "text": [
      "\n",
      "  0%|          | 0/200 [00:00<?, ?it/s]\u001b[A\n",
      "Explain node 1880:   0%|          | 0/200 [00:00<?, ?it/s]\u001b[A\n",
      "Explain node 1880:  10%|█         | 21/200 [00:00<00:00, 206.12it/s]\u001b[A\n",
      "Explain node 1880:  22%|██▏       | 43/200 [00:00<00:00, 211.92it/s]\u001b[A\n",
      "Explain node 1880:  33%|███▎      | 66/200 [00:00<00:00, 215.82it/s]\u001b[A\n",
      "Explain node 1880:  44%|████▍     | 89/200 [00:00<00:00, 217.85it/s]\u001b[A\n",
      "Explain node 1880:  56%|█████▌    | 112/200 [00:00<00:00, 218.77it/s]\u001b[A\n",
      "Explain node 1880:  67%|██████▋   | 134/200 [00:00<00:00, 214.77it/s]\u001b[A\n",
      "Explain node 1880:  78%|███████▊  | 156/200 [00:00<00:00, 208.10it/s]\u001b[A\n",
      "Explain node 1880:  89%|████████▉ | 178/200 [00:00<00:00, 208.52it/s]\u001b[A\n",
      "Explain node 1880: 100%|██████████| 200/200 [00:00<00:00, 209.36it/s]\u001b[A\n"
     ]
    },
    {
     "name": "stdout",
     "output_type": "stream",
     "text": [
      "Accuracy on Model:  51.93370165745856\n",
      "Accuracy on EVAL-XG:  60.22099447513812\n"
     ]
    },
    {
     "name": "stderr",
     "output_type": "stream",
     "text": [
      "\n",
      "  0%|          | 0/200 [00:00<?, ?it/s]\u001b[A\n",
      "Explain node 1881:   0%|          | 0/200 [00:00<?, ?it/s]\u001b[A\n",
      "Explain node 1881:  11%|█         | 22/200 [00:00<00:00, 216.25it/s]\u001b[A\n",
      "Explain node 1881:  22%|██▏       | 44/200 [00:00<00:00, 216.38it/s]\u001b[A\n",
      "Explain node 1881:  33%|███▎      | 66/200 [00:00<00:00, 205.93it/s]\u001b[A\n",
      "Explain node 1881:  44%|████▎     | 87/200 [00:00<00:00, 197.52it/s]\u001b[A\n",
      "Explain node 1881:  54%|█████▎    | 107/200 [00:00<00:00, 196.53it/s]\u001b[A\n",
      "Explain node 1881:  64%|██████▎   | 127/200 [00:00<00:00, 195.11it/s]\u001b[A\n",
      "Explain node 1881:  74%|███████▎  | 147/200 [00:00<00:00, 195.52it/s]\u001b[A\n",
      "Explain node 1881:  84%|████████▎ | 167/200 [00:00<00:00, 193.16it/s]\u001b[A\n",
      "Explain node 1881: 100%|██████████| 200/200 [00:01<00:00, 198.16it/s]\u001b[A\n"
     ]
    },
    {
     "name": "stdout",
     "output_type": "stream",
     "text": [
      "Accuracy on Model:  52.197802197802204\n",
      "Accuracy on EVAL-XG:  60.43956043956044\n"
     ]
    },
    {
     "name": "stderr",
     "output_type": "stream",
     "text": [
      "\n",
      "  0%|          | 0/200 [00:00<?, ?it/s]\u001b[A\n",
      "Explain node 1882:   0%|          | 0/200 [00:00<?, ?it/s]\u001b[A\n",
      "Explain node 1882:  11%|█         | 22/200 [00:00<00:00, 210.27it/s]\u001b[A\n",
      "Explain node 1882:  22%|██▎       | 45/200 [00:00<00:00, 216.78it/s]\u001b[A\n",
      "Explain node 1882:  34%|███▎      | 67/200 [00:00<00:00, 214.96it/s]\u001b[A\n",
      "Explain node 1882:  44%|████▍     | 89/200 [00:00<00:00, 216.18it/s]\u001b[A\n",
      "Explain node 1882:  56%|█████▌    | 111/200 [00:00<00:00, 217.43it/s]\u001b[A\n",
      "Explain node 1882:  66%|██████▋   | 133/200 [00:00<00:00, 218.19it/s]\u001b[A\n",
      "Explain node 1882:  78%|███████▊  | 155/200 [00:00<00:00, 213.51it/s]\u001b[A\n",
      "Explain node 1882:  88%|████████▊ | 177/200 [00:00<00:00, 214.93it/s]\u001b[A\n",
      "Explain node 1882: 100%|██████████| 200/200 [00:00<00:00, 216.09it/s]\u001b[A\n"
     ]
    },
    {
     "name": "stdout",
     "output_type": "stream",
     "text": [
      "Accuracy on Model:  52.459016393442624\n",
      "Accuracy on EVAL-XG:  60.65573770491803\n"
     ]
    },
    {
     "name": "stderr",
     "output_type": "stream",
     "text": [
      "\n",
      "  0%|          | 0/200 [00:00<?, ?it/s]\u001b[A\n",
      "Explain node 1883:   0%|          | 0/200 [00:00<?, ?it/s]\u001b[A\n",
      "Explain node 1883:  11%|█         | 22/200 [00:00<00:00, 217.63it/s]\u001b[A\n",
      "Explain node 1883:  22%|██▎       | 45/200 [00:00<00:00, 220.89it/s]\u001b[A\n",
      "Explain node 1883:  34%|███▍      | 68/200 [00:00<00:00, 221.76it/s]\u001b[A\n",
      "Explain node 1883:  46%|████▌     | 91/200 [00:00<00:00, 222.41it/s]\u001b[A\n",
      "Explain node 1883:  57%|█████▋    | 114/200 [00:00<00:00, 222.82it/s]\u001b[A\n",
      "Explain node 1883:  68%|██████▊   | 137/200 [00:00<00:00, 221.91it/s]\u001b[A\n",
      "Explain node 1883:  80%|████████  | 160/200 [00:00<00:00, 221.79it/s]\u001b[A\n",
      "Explain node 1883: 100%|██████████| 200/200 [00:00<00:00, 222.45it/s]\u001b[A\n"
     ]
    },
    {
     "name": "stdout",
     "output_type": "stream",
     "text": [
      "Accuracy on Model:  52.17391304347826\n",
      "Accuracy on EVAL-XG:  60.32608695652174\n"
     ]
    },
    {
     "name": "stderr",
     "output_type": "stream",
     "text": [
      "\n",
      "  0%|          | 0/200 [00:00<?, ?it/s]\u001b[A\n",
      "Explain node 1884:   0%|          | 0/200 [00:00<?, ?it/s]\u001b[A\n",
      "Explain node 1884:  10%|█         | 21/200 [00:00<00:00, 200.59it/s]\u001b[A\n",
      "Explain node 1884:  21%|██        | 42/200 [00:00<00:00, 205.63it/s]\u001b[A\n",
      "Explain node 1884:  32%|███▎      | 65/200 [00:00<00:00, 213.43it/s]\u001b[A\n",
      "Explain node 1884:  44%|████▎     | 87/200 [00:00<00:00, 213.61it/s]\u001b[A\n",
      "Explain node 1884:  55%|█████▍    | 109/200 [00:00<00:00, 214.37it/s]\u001b[A\n",
      "Explain node 1884:  66%|██████▌   | 132/200 [00:00<00:00, 217.07it/s]\u001b[A\n",
      "Explain node 1884:  77%|███████▋  | 154/200 [00:00<00:00, 214.55it/s]\u001b[A\n",
      "Explain node 1884:  88%|████████▊ | 177/200 [00:00<00:00, 217.34it/s]\u001b[A\n",
      "Explain node 1884: 100%|██████████| 200/200 [00:00<00:00, 215.32it/s]\u001b[A\n"
     ]
    },
    {
     "name": "stdout",
     "output_type": "stream",
     "text": [
      "Accuracy on Model:  51.891891891891895\n",
      "Accuracy on EVAL-XG:  60.0\n"
     ]
    },
    {
     "name": "stderr",
     "output_type": "stream",
     "text": [
      "\n",
      "  0%|          | 0/200 [00:00<?, ?it/s]\u001b[A\n",
      "Explain node 1885:   0%|          | 0/200 [00:00<?, ?it/s]\u001b[A\n",
      "Explain node 1885:  11%|█         | 22/200 [00:00<00:00, 213.92it/s]\u001b[A\n",
      "Explain node 1885:  22%|██▏       | 44/200 [00:00<00:00, 213.94it/s]\u001b[A\n",
      "Explain node 1885:  33%|███▎      | 66/200 [00:00<00:00, 215.97it/s]\u001b[A\n",
      "Explain node 1885:  44%|████▍     | 88/200 [00:00<00:00, 209.30it/s]\u001b[A\n",
      "Explain node 1885:  55%|█████▍    | 109/200 [00:00<00:00, 207.14it/s]\u001b[A\n",
      "Explain node 1885:  66%|██████▌   | 131/200 [00:00<00:00, 211.29it/s]\u001b[A\n",
      "Explain node 1885:  76%|███████▋  | 153/200 [00:00<00:00, 213.73it/s]\u001b[A\n",
      "Explain node 1885:  88%|████████▊ | 175/200 [00:00<00:00, 211.22it/s]\u001b[A\n",
      "Explain node 1885: 100%|██████████| 200/200 [00:00<00:00, 211.94it/s]\u001b[A\n"
     ]
    },
    {
     "name": "stdout",
     "output_type": "stream",
     "text": [
      "Accuracy on Model:  52.1505376344086\n",
      "Accuracy on EVAL-XG:  60.215053763440864\n"
     ]
    },
    {
     "name": "stderr",
     "output_type": "stream",
     "text": [
      "\n",
      "  0%|          | 0/200 [00:00<?, ?it/s]\u001b[A\n",
      "Explain node 1886:   0%|          | 0/200 [00:00<?, ?it/s]\u001b[A\n",
      "Explain node 1886:  10%|█         | 21/200 [00:00<00:00, 206.65it/s]\u001b[A\n",
      "Explain node 1886:  21%|██        | 42/200 [00:00<00:00, 201.00it/s]\u001b[A\n",
      "Explain node 1886:  32%|███▏      | 63/200 [00:00<00:00, 200.48it/s]\u001b[A\n",
      "Explain node 1886:  43%|████▎     | 86/200 [00:00<00:00, 209.53it/s]\u001b[A\n",
      "Explain node 1886:  54%|█████▎    | 107/200 [00:00<00:00, 201.64it/s]\u001b[A\n",
      "Explain node 1886:  65%|██████▌   | 130/200 [00:00<00:00, 207.87it/s]\u001b[A\n",
      "Explain node 1886:  76%|███████▋  | 153/200 [00:00<00:00, 213.40it/s]\u001b[A\n",
      "Explain node 1886:  88%|████████▊ | 175/200 [00:00<00:00, 212.70it/s]\u001b[A\n",
      "Explain node 1886: 100%|██████████| 200/200 [00:00<00:00, 209.98it/s]\u001b[A\n"
     ]
    },
    {
     "name": "stdout",
     "output_type": "stream",
     "text": [
      "Accuracy on Model:  52.406417112299465\n",
      "Accuracy on EVAL-XG:  60.42780748663101\n"
     ]
    },
    {
     "name": "stderr",
     "output_type": "stream",
     "text": [
      "\n",
      "  0%|          | 0/200 [00:00<?, ?it/s]\u001b[A\n",
      "Explain node 1887:   0%|          | 0/200 [00:00<?, ?it/s]\u001b[A\n",
      "Explain node 1887:  10%|█         | 21/200 [00:00<00:00, 207.60it/s]\u001b[A\n",
      "Explain node 1887:  22%|██▏       | 44/200 [00:00<00:00, 218.61it/s]\u001b[A\n",
      "Explain node 1887:  34%|███▎      | 67/200 [00:00<00:00, 219.61it/s]\u001b[A\n",
      "Explain node 1887:  44%|████▍     | 89/200 [00:00<00:00, 216.52it/s]\u001b[A\n",
      "Explain node 1887:  56%|█████▌    | 111/200 [00:00<00:00, 208.57it/s]\u001b[A\n",
      "Explain node 1887:  66%|██████▌   | 132/200 [00:00<00:00, 208.62it/s]\u001b[A\n",
      "Explain node 1887:  78%|███████▊  | 155/200 [00:00<00:00, 213.81it/s]\u001b[A\n",
      "Explain node 1887:  89%|████████▉ | 178/200 [00:00<00:00, 215.96it/s]\u001b[A\n",
      "Explain node 1887: 100%|██████████| 200/200 [00:00<00:00, 213.11it/s]\u001b[A\n"
     ]
    },
    {
     "name": "stdout",
     "output_type": "stream",
     "text": [
      "Accuracy on Model:  52.659574468085104\n",
      "Accuracy on EVAL-XG:  60.63829787234043\n"
     ]
    },
    {
     "name": "stderr",
     "output_type": "stream",
     "text": [
      "\n",
      "  0%|          | 0/200 [00:00<?, ?it/s]\u001b[A\n",
      "Explain node 1888:   0%|          | 0/200 [00:00<?, ?it/s]\u001b[A\n",
      "Explain node 1888:  10%|█         | 20/200 [00:00<00:00, 196.63it/s]\u001b[A\n",
      "Explain node 1888:  20%|██        | 40/200 [00:00<00:00, 198.54it/s]\u001b[A\n",
      "Explain node 1888:  30%|███       | 61/200 [00:00<00:00, 200.42it/s]\u001b[A\n",
      "Explain node 1888:  41%|████      | 82/200 [00:00<00:00, 203.90it/s]\u001b[A\n",
      "Explain node 1888:  52%|█████▏    | 104/200 [00:00<00:00, 206.98it/s]\u001b[A\n",
      "Explain node 1888:  63%|██████▎   | 126/200 [00:00<00:00, 211.02it/s]\u001b[A\n",
      "Explain node 1888:  74%|███████▍  | 148/200 [00:00<00:00, 211.60it/s]\u001b[A\n",
      "Explain node 1888:  85%|████████▌ | 170/200 [00:00<00:00, 213.03it/s]\u001b[A\n",
      "Explain node 1888: 100%|██████████| 200/200 [00:00<00:00, 209.14it/s]\u001b[A\n"
     ]
    },
    {
     "name": "stdout",
     "output_type": "stream",
     "text": [
      "Accuracy on Model:  52.38095238095239\n",
      "Accuracy on EVAL-XG:  60.317460317460316\n"
     ]
    },
    {
     "name": "stderr",
     "output_type": "stream",
     "text": [
      "\n",
      "  0%|          | 0/200 [00:00<?, ?it/s]\u001b[A\n",
      "Explain node 1889:   0%|          | 0/200 [00:00<?, ?it/s]\u001b[A\n",
      "Explain node 1889:  11%|█         | 22/200 [00:00<00:00, 217.34it/s]\u001b[A\n",
      "Explain node 1889:  22%|██▏       | 44/200 [00:00<00:00, 216.76it/s]\u001b[A\n",
      "Explain node 1889:  34%|███▎      | 67/200 [00:00<00:00, 221.39it/s]\u001b[A\n",
      "Explain node 1889:  45%|████▌     | 90/200 [00:00<00:00, 221.77it/s]\u001b[A\n",
      "Explain node 1889:  56%|█████▋    | 113/200 [00:00<00:00, 219.32it/s]\u001b[A\n",
      "Explain node 1889:  68%|██████▊   | 135/200 [00:00<00:00, 218.97it/s]\u001b[A\n",
      "Explain node 1889:  79%|███████▉  | 158/200 [00:00<00:00, 220.16it/s]\u001b[A\n",
      "Explain node 1889: 100%|██████████| 200/200 [00:00<00:00, 219.53it/s]\u001b[A\n"
     ]
    },
    {
     "name": "stdout",
     "output_type": "stream",
     "text": [
      "Accuracy on Model:  52.10526315789473\n",
      "Accuracy on EVAL-XG:  60.0\n"
     ]
    },
    {
     "name": "stderr",
     "output_type": "stream",
     "text": [
      "\n",
      "  0%|          | 0/200 [00:00<?, ?it/s]\u001b[A\n",
      "Explain node 1890:   0%|          | 0/200 [00:00<?, ?it/s]\u001b[A\n",
      "Explain node 1890:  11%|█         | 22/200 [00:00<00:00, 218.92it/s]\u001b[A\n",
      "Explain node 1890:  22%|██▏       | 44/200 [00:00<00:00, 215.20it/s]\u001b[A\n",
      "Explain node 1890:  33%|███▎      | 66/200 [00:00<00:00, 216.86it/s]\u001b[A\n",
      "Explain node 1890:  44%|████▍     | 88/200 [00:00<00:00, 217.61it/s]\u001b[A\n",
      "Explain node 1890:  55%|█████▌    | 110/200 [00:00<00:00, 215.32it/s]\u001b[A\n",
      "Explain node 1890:  66%|██████▌   | 132/200 [00:00<00:00, 216.04it/s]\u001b[A\n",
      "Explain node 1890:  77%|███████▋  | 154/200 [00:00<00:00, 213.95it/s]\u001b[A\n",
      "Explain node 1890:  88%|████████▊ | 176/200 [00:00<00:00, 215.47it/s]\u001b[A\n",
      "Explain node 1890: 100%|██████████| 200/200 [00:00<00:00, 215.21it/s]\u001b[A\n"
     ]
    },
    {
     "name": "stdout",
     "output_type": "stream",
     "text": [
      "Accuracy on Model:  52.35602094240838\n",
      "Accuracy on EVAL-XG:  60.20942408376963\n"
     ]
    },
    {
     "name": "stderr",
     "output_type": "stream",
     "text": [
      "\n",
      "  0%|          | 0/200 [00:00<?, ?it/s]\u001b[A\n",
      "Explain node 1891:   0%|          | 0/200 [00:00<?, ?it/s]\u001b[A\n",
      "Explain node 1891:  10%|█         | 21/200 [00:00<00:00, 208.25it/s]\u001b[A\n",
      "Explain node 1891:  22%|██▏       | 43/200 [00:00<00:00, 212.35it/s]\u001b[A\n",
      "Explain node 1891:  33%|███▎      | 66/200 [00:00<00:00, 215.96it/s]\u001b[A\n",
      "Explain node 1891:  44%|████▍     | 88/200 [00:00<00:00, 217.52it/s]\u001b[A\n",
      "Explain node 1891:  55%|█████▌    | 110/200 [00:00<00:00, 218.12it/s]\u001b[A\n",
      "Explain node 1891:  66%|██████▌   | 132/200 [00:00<00:00, 218.53it/s]\u001b[A\n",
      "Explain node 1891:  77%|███████▋  | 154/200 [00:00<00:00, 217.78it/s]\u001b[A\n",
      "Explain node 1891:  88%|████████▊ | 176/200 [00:00<00:00, 218.40it/s]\u001b[A\n",
      "Explain node 1891: 100%|██████████| 200/200 [00:00<00:00, 215.96it/s]\u001b[A\n"
     ]
    },
    {
     "name": "stdout",
     "output_type": "stream",
     "text": [
      "Accuracy on Model:  52.083333333333336\n",
      "Accuracy on EVAL-XG:  59.895833333333336\n"
     ]
    },
    {
     "name": "stderr",
     "output_type": "stream",
     "text": [
      "\n",
      "  0%|          | 0/200 [00:00<?, ?it/s]\u001b[A\n",
      "Explain node 1892:   0%|          | 0/200 [00:00<?, ?it/s]\u001b[A\n",
      "Explain node 1892:  11%|█         | 22/200 [00:00<00:00, 218.78it/s]\u001b[A\n",
      "Explain node 1892:  22%|██▎       | 45/200 [00:00<00:00, 220.64it/s]\u001b[A\n",
      "Explain node 1892:  34%|███▍      | 68/200 [00:00<00:00, 223.55it/s]\u001b[A\n",
      "Explain node 1892:  46%|████▌     | 91/200 [00:00<00:00, 225.17it/s]\u001b[A\n",
      "Explain node 1892:  57%|█████▋    | 114/200 [00:00<00:00, 220.07it/s]\u001b[A\n",
      "Explain node 1892:  68%|██████▊   | 137/200 [00:00<00:00, 214.98it/s]\u001b[A\n",
      "Explain node 1892:  80%|███████▉  | 159/200 [00:00<00:00, 213.51it/s]\u001b[A\n",
      "Explain node 1892: 100%|██████████| 200/200 [00:00<00:00, 214.22it/s]\u001b[A\n"
     ]
    },
    {
     "name": "stdout",
     "output_type": "stream",
     "text": [
      "Accuracy on Model:  51.813471502590666\n",
      "Accuracy on EVAL-XG:  59.58549222797927\n"
     ]
    },
    {
     "name": "stderr",
     "output_type": "stream",
     "text": [
      "\n",
      "  0%|          | 0/200 [00:00<?, ?it/s]\u001b[A\n",
      "Explain node 1893:   0%|          | 0/200 [00:00<?, ?it/s]\u001b[A\n",
      "Explain node 1893:  11%|█         | 22/200 [00:00<00:00, 209.83it/s]\u001b[A\n",
      "Explain node 1893:  22%|██▎       | 45/200 [00:00<00:00, 217.35it/s]\u001b[A\n",
      "Explain node 1893:  34%|███▍      | 68/200 [00:00<00:00, 219.42it/s]\u001b[A\n",
      "Explain node 1893:  46%|████▌     | 91/200 [00:00<00:00, 221.68it/s]\u001b[A\n",
      "Explain node 1893:  57%|█████▋    | 114/200 [00:00<00:00, 221.63it/s]\u001b[A\n",
      "Explain node 1893:  68%|██████▊   | 137/200 [00:00<00:00, 220.98it/s]\u001b[A\n",
      "Explain node 1893:  80%|████████  | 160/200 [00:00<00:00, 219.46it/s]\u001b[A\n",
      "Explain node 1893: 100%|██████████| 200/200 [00:00<00:00, 219.93it/s]\u001b[A\n"
     ]
    },
    {
     "name": "stdout",
     "output_type": "stream",
     "text": [
      "Accuracy on Model:  51.546391752577314\n",
      "Accuracy on EVAL-XG:  59.27835051546392\n"
     ]
    },
    {
     "name": "stderr",
     "output_type": "stream",
     "text": [
      "\n",
      "  0%|          | 0/200 [00:00<?, ?it/s]\u001b[A\n",
      "Explain node 1894:   0%|          | 0/200 [00:00<?, ?it/s]\u001b[A\n",
      "Explain node 1894:  12%|█▏        | 23/200 [00:00<00:00, 222.89it/s]\u001b[A\n",
      "Explain node 1894:  23%|██▎       | 46/200 [00:00<00:00, 223.17it/s]\u001b[A\n",
      "Explain node 1894:  34%|███▍      | 69/200 [00:00<00:00, 224.17it/s]\u001b[A\n",
      "Explain node 1894:  46%|████▌     | 92/200 [00:00<00:00, 223.15it/s]\u001b[A\n",
      "Explain node 1894:  57%|█████▊    | 115/200 [00:00<00:00, 221.22it/s]\u001b[A\n",
      "Explain node 1894:  69%|██████▉   | 138/200 [00:00<00:00, 212.05it/s]\u001b[A\n",
      "Explain node 1894:  80%|████████  | 160/200 [00:00<00:00, 212.22it/s]\u001b[A\n",
      "Explain node 1894: 100%|██████████| 200/200 [00:00<00:00, 214.30it/s]\u001b[A\n"
     ]
    },
    {
     "name": "stdout",
     "output_type": "stream",
     "text": [
      "Accuracy on Model:  51.7948717948718\n",
      "Accuracy on EVAL-XG:  59.48717948717949\n"
     ]
    },
    {
     "name": "stderr",
     "output_type": "stream",
     "text": [
      "\n",
      "  0%|          | 0/200 [00:00<?, ?it/s]\u001b[A\n",
      "Explain node 1895:   0%|          | 0/200 [00:00<?, ?it/s]\u001b[A\n",
      "Explain node 1895:  12%|█▏        | 23/200 [00:00<00:00, 221.18it/s]\u001b[A\n",
      "Explain node 1895:  23%|██▎       | 46/200 [00:00<00:00, 220.48it/s]\u001b[A\n",
      "Explain node 1895:  34%|███▍      | 69/200 [00:00<00:00, 219.69it/s]\u001b[A\n",
      "Explain node 1895:  46%|████▌     | 92/200 [00:00<00:00, 220.91it/s]\u001b[A\n",
      "Explain node 1895:  57%|█████▊    | 115/200 [00:00<00:00, 223.48it/s]\u001b[A\n",
      "Explain node 1895:  69%|██████▉   | 138/200 [00:00<00:00, 225.30it/s]\u001b[A\n",
      "Explain node 1895:  80%|████████  | 161/200 [00:00<00:00, 224.08it/s]\u001b[A\n",
      "Explain node 1895: 100%|██████████| 200/200 [00:00<00:00, 222.42it/s]\u001b[A\n"
     ]
    },
    {
     "name": "stdout",
     "output_type": "stream",
     "text": [
      "Accuracy on Model:  51.53061224489795\n",
      "Accuracy on EVAL-XG:  59.183673469387756\n"
     ]
    },
    {
     "name": "stderr",
     "output_type": "stream",
     "text": [
      "\n",
      "  0%|          | 0/200 [00:00<?, ?it/s]\u001b[A\n",
      "Explain node 1896:   0%|          | 0/200 [00:00<?, ?it/s]\u001b[A\n",
      "Explain node 1896:  12%|█▏        | 23/200 [00:00<00:00, 221.41it/s]\u001b[A\n",
      "Explain node 1896:  23%|██▎       | 46/200 [00:00<00:00, 223.29it/s]\u001b[A\n",
      "Explain node 1896:  34%|███▍      | 69/200 [00:00<00:00, 224.32it/s]\u001b[A\n",
      "Explain node 1896:  46%|████▌     | 92/200 [00:00<00:00, 226.18it/s]\u001b[A\n",
      "Explain node 1896:  57%|█████▊    | 115/200 [00:00<00:00, 225.61it/s]\u001b[A\n",
      "Explain node 1896:  69%|██████▉   | 138/200 [00:00<00:00, 226.59it/s]\u001b[A\n",
      "Explain node 1896:  80%|████████  | 161/200 [00:00<00:00, 222.99it/s]\u001b[A\n",
      "Explain node 1896: 100%|██████████| 200/200 [00:00<00:00, 223.59it/s]\u001b[A\n"
     ]
    },
    {
     "name": "stdout",
     "output_type": "stream",
     "text": [
      "Accuracy on Model:  51.776649746192895\n",
      "Accuracy on EVAL-XG:  59.390862944162436\n"
     ]
    },
    {
     "name": "stderr",
     "output_type": "stream",
     "text": [
      "\n",
      "  0%|          | 0/200 [00:00<?, ?it/s]\u001b[A\n",
      "Explain node 1897:   0%|          | 0/200 [00:00<?, ?it/s]\u001b[A\n",
      "Explain node 1897:  11%|█         | 22/200 [00:00<00:00, 219.03it/s]\u001b[A\n",
      "Explain node 1897:  22%|██▎       | 45/200 [00:00<00:00, 220.67it/s]\u001b[A\n",
      "Explain node 1897:  34%|███▍      | 68/200 [00:00<00:00, 220.51it/s]\u001b[A\n",
      "Explain node 1897:  46%|████▌     | 91/200 [00:00<00:00, 220.51it/s]\u001b[A\n",
      "Explain node 1897:  57%|█████▋    | 114/200 [00:00<00:00, 221.39it/s]\u001b[A\n",
      "Explain node 1897:  68%|██████▊   | 137/200 [00:00<00:00, 222.11it/s]\u001b[A\n",
      "Explain node 1897:  80%|████████  | 160/200 [00:00<00:00, 223.07it/s]\u001b[A\n",
      "Explain node 1897: 100%|██████████| 200/200 [00:00<00:00, 221.68it/s]\u001b[A\n"
     ]
    },
    {
     "name": "stdout",
     "output_type": "stream",
     "text": [
      "Accuracy on Model:  51.515151515151516\n",
      "Accuracy on EVAL-XG:  59.09090909090909\n"
     ]
    },
    {
     "name": "stderr",
     "output_type": "stream",
     "text": [
      "\n",
      "  0%|          | 0/200 [00:00<?, ?it/s]\u001b[A\n",
      "Explain node 1898:   0%|          | 0/200 [00:00<?, ?it/s]\u001b[A\n",
      "Explain node 1898:  12%|█▏        | 23/200 [00:00<00:00, 220.76it/s]\u001b[A\n",
      "Explain node 1898:  23%|██▎       | 46/200 [00:00<00:00, 220.53it/s]\u001b[A\n",
      "Explain node 1898:  34%|███▍      | 69/200 [00:00<00:00, 222.70it/s]\u001b[A\n",
      "Explain node 1898:  46%|████▌     | 92/200 [00:00<00:00, 220.26it/s]\u001b[A\n",
      "Explain node 1898:  57%|█████▊    | 115/200 [00:00<00:00, 222.23it/s]\u001b[A\n",
      "Explain node 1898:  69%|██████▉   | 138/200 [00:00<00:00, 222.69it/s]\u001b[A\n",
      "Explain node 1898:  80%|████████  | 161/200 [00:00<00:00, 222.30it/s]\u001b[A\n",
      "Explain node 1898: 100%|██████████| 200/200 [00:00<00:00, 221.05it/s]\u001b[A\n"
     ]
    },
    {
     "name": "stdout",
     "output_type": "stream",
     "text": [
      "Accuracy on Model:  51.75879396984925\n",
      "Accuracy on EVAL-XG:  59.2964824120603\n"
     ]
    },
    {
     "name": "stderr",
     "output_type": "stream",
     "text": [
      "\n",
      "  0%|          | 0/200 [00:00<?, ?it/s]\u001b[A\n",
      "Explain node 1899:   0%|          | 0/200 [00:00<?, ?it/s]\u001b[A\n",
      "Explain node 1899:  11%|█         | 22/200 [00:00<00:00, 217.53it/s]\u001b[A\n",
      "Explain node 1899:  22%|██▏       | 44/200 [00:00<00:00, 208.43it/s]\u001b[A\n",
      "Explain node 1899:  33%|███▎      | 66/200 [00:00<00:00, 209.94it/s]\u001b[A\n",
      "Explain node 1899:  44%|████▍     | 88/200 [00:00<00:00, 211.80it/s]\u001b[A\n",
      "Explain node 1899:  55%|█████▌    | 110/200 [00:00<00:00, 212.86it/s]\u001b[A\n",
      "Explain node 1899:  66%|██████▋   | 133/200 [00:00<00:00, 215.87it/s]\u001b[A\n",
      "Explain node 1899:  78%|███████▊  | 155/200 [00:00<00:00, 216.28it/s]\u001b[A\n",
      "Explain node 1899:  88%|████████▊ | 177/200 [00:00<00:00, 216.59it/s]\u001b[A\n",
      "Explain node 1899: 100%|██████████| 200/200 [00:00<00:00, 214.92it/s]\u001b[A\n"
     ]
    },
    {
     "name": "stdout",
     "output_type": "stream",
     "text": [
      "Accuracy on Model:  52.0\n",
      "Accuracy on EVAL-XG:  59.5\n"
     ]
    },
    {
     "name": "stderr",
     "output_type": "stream",
     "text": [
      "\n",
      "  0%|          | 0/200 [00:00<?, ?it/s]\u001b[A\n",
      "Explain node 1900:   0%|          | 0/200 [00:00<?, ?it/s]\u001b[A\n",
      "Explain node 1900:  10%|█         | 20/200 [00:00<00:00, 196.02it/s]\u001b[A\n",
      "Explain node 1900:  20%|██        | 40/200 [00:00<00:00, 197.89it/s]\u001b[A\n",
      "Explain node 1900:  30%|███       | 60/200 [00:00<00:00, 198.80it/s]\u001b[A\n",
      "Explain node 1900:  41%|████      | 82/200 [00:00<00:00, 205.16it/s]\u001b[A\n",
      "Explain node 1900:  52%|█████▎    | 105/200 [00:00<00:00, 212.18it/s]\u001b[A\n",
      "Explain node 1900:  64%|██████▎   | 127/200 [00:00<00:00, 210.19it/s]\u001b[A\n",
      "Explain node 1900:  74%|███████▍  | 149/200 [00:00<00:00, 209.85it/s]\u001b[A\n",
      "Explain node 1900:  86%|████████▌ | 171/200 [00:00<00:00, 211.31it/s]\u001b[A\n",
      "Explain node 1900: 100%|██████████| 200/200 [00:00<00:00, 209.80it/s]\u001b[A\n"
     ]
    },
    {
     "name": "stdout",
     "output_type": "stream",
     "text": [
      "Accuracy on Model:  52.23880597014925\n",
      "Accuracy on EVAL-XG:  59.70149253731343\n"
     ]
    },
    {
     "name": "stderr",
     "output_type": "stream",
     "text": [
      "\n",
      "  0%|          | 0/200 [00:00<?, ?it/s]\u001b[A\n",
      "Explain node 1901:   0%|          | 0/200 [00:00<?, ?it/s]\u001b[A\n",
      "Explain node 1901:  12%|█▏        | 23/200 [00:00<00:00, 225.68it/s]\u001b[A\n",
      "Explain node 1901:  23%|██▎       | 46/200 [00:00<00:00, 226.37it/s]\u001b[A\n",
      "Explain node 1901:  34%|███▍      | 69/200 [00:00<00:00, 225.59it/s]\u001b[A\n",
      "Explain node 1901:  46%|████▌     | 92/200 [00:00<00:00, 224.36it/s]\u001b[A\n",
      "Explain node 1901:  57%|█████▊    | 115/200 [00:00<00:00, 224.48it/s]\u001b[A\n",
      "Explain node 1901:  69%|██████▉   | 138/200 [00:00<00:00, 225.08it/s]\u001b[A\n",
      "Explain node 1901:  80%|████████  | 161/200 [00:00<00:00, 224.02it/s]\u001b[A\n",
      "Explain node 1901: 100%|██████████| 200/200 [00:00<00:00, 223.27it/s]\u001b[A\n"
     ]
    },
    {
     "name": "stdout",
     "output_type": "stream",
     "text": [
      "Accuracy on Model:  52.475247524752476\n",
      "Accuracy on EVAL-XG:  59.4059405940594\n"
     ]
    },
    {
     "name": "stderr",
     "output_type": "stream",
     "text": [
      "\n",
      "  0%|          | 0/200 [00:00<?, ?it/s]\u001b[A\n",
      "Explain node 1902:   0%|          | 0/200 [00:00<?, ?it/s]\u001b[A\n",
      "Explain node 1902:  11%|█         | 22/200 [00:00<00:00, 210.26it/s]\u001b[A\n",
      "Explain node 1902:  22%|██▏       | 44/200 [00:00<00:00, 208.44it/s]\u001b[A\n",
      "Explain node 1902:  34%|███▎      | 67/200 [00:00<00:00, 214.30it/s]\u001b[A\n",
      "Explain node 1902:  44%|████▍     | 89/200 [00:00<00:00, 216.32it/s]\u001b[A\n",
      "Explain node 1902:  56%|█████▌    | 111/200 [00:00<00:00, 210.74it/s]\u001b[A\n",
      "Explain node 1902:  66%|██████▋   | 133/200 [00:00<00:00, 204.39it/s]\u001b[A\n",
      "Explain node 1902:  77%|███████▋  | 154/200 [00:00<00:00, 205.75it/s]\u001b[A\n",
      "Explain node 1902:  88%|████████▊ | 175/200 [00:00<00:00, 197.43it/s]\u001b[A\n",
      "Explain node 1902: 100%|██████████| 200/200 [00:00<00:00, 204.85it/s]\u001b[A\n"
     ]
    },
    {
     "name": "stdout",
     "output_type": "stream",
     "text": [
      "Accuracy on Model:  52.70935960591133\n",
      "Accuracy on EVAL-XG:  59.60591133004927\n"
     ]
    },
    {
     "name": "stderr",
     "output_type": "stream",
     "text": [
      "\n",
      "  0%|          | 0/200 [00:00<?, ?it/s]\u001b[A\n",
      "Explain node 1903:   0%|          | 0/200 [00:00<?, ?it/s]\u001b[A\n",
      "Explain node 1903:  11%|█         | 22/200 [00:00<00:00, 215.58it/s]\u001b[A\n",
      "Explain node 1903:  22%|██▎       | 45/200 [00:00<00:00, 218.76it/s]\u001b[A\n",
      "Explain node 1903:  34%|███▎      | 67/200 [00:00<00:00, 216.56it/s]\u001b[A\n",
      "Explain node 1903:  44%|████▍     | 89/200 [00:00<00:00, 215.50it/s]\u001b[A\n",
      "Explain node 1903:  56%|█████▌    | 111/200 [00:00<00:00, 212.95it/s]\u001b[A\n",
      "Explain node 1903:  67%|██████▋   | 134/200 [00:00<00:00, 216.06it/s]\u001b[A\n",
      "Explain node 1903:  78%|███████▊  | 156/200 [00:00<00:00, 210.30it/s]\u001b[A\n",
      "Explain node 1903:  89%|████████▉ | 178/200 [00:00<00:00, 212.82it/s]\u001b[A\n",
      "Explain node 1903: 100%|██████████| 200/200 [00:00<00:00, 212.90it/s]\u001b[A\n"
     ]
    },
    {
     "name": "stdout",
     "output_type": "stream",
     "text": [
      "Accuracy on Model:  52.450980392156865\n",
      "Accuracy on EVAL-XG:  59.31372549019608\n"
     ]
    },
    {
     "name": "stderr",
     "output_type": "stream",
     "text": [
      "\n",
      "  0%|          | 0/200 [00:00<?, ?it/s]\u001b[A\n",
      "Explain node 1904:   0%|          | 0/200 [00:00<?, ?it/s]\u001b[A\n",
      "Explain node 1904:  11%|█         | 22/200 [00:00<00:00, 216.77it/s]\u001b[A\n",
      "Explain node 1904:  22%|██▏       | 44/200 [00:00<00:00, 208.15it/s]\u001b[A\n",
      "Explain node 1904:  34%|███▎      | 67/200 [00:00<00:00, 213.82it/s]\u001b[A\n",
      "Explain node 1904:  44%|████▍     | 89/200 [00:00<00:00, 212.30it/s]\u001b[A\n",
      "Explain node 1904:  56%|█████▌    | 111/200 [00:00<00:00, 213.33it/s]\u001b[A\n",
      "Explain node 1904:  67%|██████▋   | 134/200 [00:00<00:00, 217.48it/s]\u001b[A\n",
      "Explain node 1904:  78%|███████▊  | 157/200 [00:00<00:00, 220.73it/s]\u001b[A\n",
      "Explain node 1904: 100%|██████████| 200/200 [00:00<00:00, 217.09it/s]\u001b[A\n"
     ]
    },
    {
     "name": "stdout",
     "output_type": "stream",
     "text": [
      "Accuracy on Model:  52.19512195121951\n",
      "Accuracy on EVAL-XG:  59.02439024390244\n"
     ]
    },
    {
     "name": "stderr",
     "output_type": "stream",
     "text": [
      "\n",
      "  0%|          | 0/200 [00:00<?, ?it/s]\u001b[A\n",
      "Explain node 1905:   0%|          | 0/200 [00:00<?, ?it/s]\u001b[A\n",
      "Explain node 1905:  12%|█▏        | 23/200 [00:00<00:00, 222.97it/s]\u001b[A\n",
      "Explain node 1905:  23%|██▎       | 46/200 [00:00<00:00, 223.08it/s]\u001b[A\n",
      "Explain node 1905:  34%|███▍      | 69/200 [00:00<00:00, 218.81it/s]\u001b[A\n",
      "Explain node 1905:  46%|████▌     | 92/200 [00:00<00:00, 222.43it/s]\u001b[A\n",
      "Explain node 1905:  57%|█████▊    | 115/200 [00:00<00:00, 224.73it/s]\u001b[A\n",
      "Explain node 1905:  69%|██████▉   | 138/200 [00:00<00:00, 225.78it/s]\u001b[A\n",
      "Explain node 1905:  80%|████████  | 161/200 [00:00<00:00, 225.39it/s]\u001b[A\n",
      "Explain node 1905: 100%|██████████| 200/200 [00:00<00:00, 225.25it/s]\u001b[A\n"
     ]
    },
    {
     "name": "stdout",
     "output_type": "stream",
     "text": [
      "Accuracy on Model:  52.42718446601942\n",
      "Accuracy on EVAL-XG:  59.22330097087378\n"
     ]
    },
    {
     "name": "stderr",
     "output_type": "stream",
     "text": [
      "\n",
      "  0%|          | 0/200 [00:00<?, ?it/s]\u001b[A\n",
      "Explain node 1906:   0%|          | 0/200 [00:00<?, ?it/s]\u001b[A\n",
      "Explain node 1906:  11%|█         | 22/200 [00:00<00:00, 219.33it/s]\u001b[A\n",
      "Explain node 1906:  23%|██▎       | 46/200 [00:00<00:00, 225.88it/s]\u001b[A\n",
      "Explain node 1906:  34%|███▍      | 69/200 [00:00<00:00, 225.57it/s]\u001b[A\n",
      "Explain node 1906:  46%|████▌     | 92/200 [00:00<00:00, 226.69it/s]\u001b[A\n",
      "Explain node 1906:  57%|█████▊    | 115/200 [00:00<00:00, 226.85it/s]\u001b[A\n",
      "Explain node 1906:  69%|██████▉   | 138/200 [00:00<00:00, 227.07it/s]\u001b[A\n",
      "Explain node 1906:  80%|████████  | 161/200 [00:00<00:00, 226.61it/s]\u001b[A\n",
      "Explain node 1906: 100%|██████████| 200/200 [00:00<00:00, 225.15it/s]\u001b[A\n"
     ]
    },
    {
     "name": "stdout",
     "output_type": "stream",
     "text": [
      "Accuracy on Model:  52.65700483091788\n",
      "Accuracy on EVAL-XG:  59.42028985507246\n"
     ]
    },
    {
     "name": "stderr",
     "output_type": "stream",
     "text": [
      "\n",
      "  0%|          | 0/200 [00:00<?, ?it/s]\u001b[A\n",
      "Explain node 1907:   0%|          | 0/200 [00:00<?, ?it/s]\u001b[A\n",
      "Explain node 1907:  11%|█         | 22/200 [00:00<00:00, 212.22it/s]\u001b[A\n",
      "Explain node 1907:  22%|██▏       | 44/200 [00:00<00:00, 206.94it/s]\u001b[A\n",
      "Explain node 1907:  33%|███▎      | 66/200 [00:00<00:00, 210.26it/s]\u001b[A\n",
      "Explain node 1907:  44%|████▍     | 88/200 [00:00<00:00, 196.35it/s]\u001b[A\n",
      "Explain node 1907:  56%|█████▌    | 111/200 [00:00<00:00, 206.75it/s]\u001b[A\n",
      "Explain node 1907:  66%|██████▌   | 132/200 [00:00<00:00, 198.19it/s]\u001b[A\n",
      "Explain node 1907:  76%|███████▌  | 152/200 [00:00<00:00, 192.70it/s]\u001b[A\n",
      "Explain node 1907:  86%|████████▌ | 172/200 [00:00<00:00, 193.74it/s]\u001b[A\n",
      "Explain node 1907: 100%|██████████| 200/200 [00:01<00:00, 199.24it/s]\u001b[A\n"
     ]
    },
    {
     "name": "stdout",
     "output_type": "stream",
     "text": [
      "Accuracy on Model:  52.88461538461539\n",
      "Accuracy on EVAL-XG:  59.61538461538461\n"
     ]
    },
    {
     "name": "stderr",
     "output_type": "stream",
     "text": [
      "\n",
      "  0%|          | 0/200 [00:00<?, ?it/s]\u001b[A\n",
      "Explain node 1908:   0%|          | 0/200 [00:00<?, ?it/s]\u001b[A\n",
      "Explain node 1908:  12%|█▏        | 23/200 [00:00<00:00, 224.74it/s]\u001b[A\n",
      "Explain node 1908:  23%|██▎       | 46/200 [00:00<00:00, 219.14it/s]\u001b[A\n",
      "Explain node 1908:  34%|███▍      | 69/200 [00:00<00:00, 221.20it/s]\u001b[A\n",
      "Explain node 1908:  46%|████▌     | 92/200 [00:00<00:00, 221.48it/s]\u001b[A\n",
      "Explain node 1908:  57%|█████▊    | 115/200 [00:00<00:00, 222.04it/s]\u001b[A\n",
      "Explain node 1908:  69%|██████▉   | 138/200 [00:00<00:00, 218.56it/s]\u001b[A\n",
      "Explain node 1908:  80%|████████  | 160/200 [00:00<00:00, 213.73it/s]\u001b[A\n",
      "Explain node 1908: 100%|██████████| 200/200 [00:00<00:00, 215.38it/s]\u001b[A\n"
     ]
    },
    {
     "name": "stdout",
     "output_type": "stream",
     "text": [
      "Accuracy on Model:  53.110047846889955\n",
      "Accuracy on EVAL-XG:  59.80861244019139\n"
     ]
    },
    {
     "name": "stderr",
     "output_type": "stream",
     "text": [
      "\n",
      "  0%|          | 0/200 [00:00<?, ?it/s]\u001b[A\n",
      "Explain node 1909:   0%|          | 0/200 [00:00<?, ?it/s]\u001b[A\n",
      "Explain node 1909:  10%|█         | 21/200 [00:00<00:00, 208.01it/s]\u001b[A\n",
      "Explain node 1909:  21%|██        | 42/200 [00:00<00:00, 207.18it/s]\u001b[A\n",
      "Explain node 1909:  32%|███▏      | 63/200 [00:00<00:00, 207.47it/s]\u001b[A\n",
      "Explain node 1909:  42%|████▏     | 84/200 [00:00<00:00, 208.08it/s]\u001b[A\n",
      "Explain node 1909:  52%|█████▎    | 105/200 [00:00<00:00, 206.31it/s]\u001b[A\n",
      "Explain node 1909:  63%|██████▎   | 126/200 [00:00<00:00, 205.97it/s]\u001b[A\n",
      "Explain node 1909:  74%|███████▎  | 147/200 [00:00<00:00, 202.52it/s]\u001b[A\n",
      "Explain node 1909:  84%|████████▍ | 168/200 [00:00<00:00, 204.28it/s]\u001b[A\n",
      "Explain node 1909: 100%|██████████| 200/200 [00:00<00:00, 204.22it/s]\u001b[A\n"
     ]
    },
    {
     "name": "stdout",
     "output_type": "stream",
     "text": [
      "Accuracy on Model:  52.85714285714286\n",
      "Accuracy on EVAL-XG:  59.523809523809526\n"
     ]
    },
    {
     "name": "stderr",
     "output_type": "stream",
     "text": [
      "\n",
      "  0%|          | 0/200 [00:00<?, ?it/s]\u001b[A\n",
      "Explain node 1910:   0%|          | 0/200 [00:00<?, ?it/s]\u001b[A\n",
      "Explain node 1910:  10%|█         | 21/200 [00:00<00:00, 201.25it/s]\u001b[A\n",
      "Explain node 1910:  21%|██        | 42/200 [00:00<00:00, 203.98it/s]\u001b[A\n",
      "Explain node 1910:  32%|███▏      | 63/200 [00:00<00:00, 203.36it/s]\u001b[A\n",
      "Explain node 1910:  42%|████▏     | 84/200 [00:00<00:00, 202.74it/s]\u001b[A\n",
      "Explain node 1910:  53%|█████▎    | 106/200 [00:00<00:00, 205.98it/s]\u001b[A\n",
      "Explain node 1910:  64%|██████▍   | 128/200 [00:00<00:00, 208.62it/s]\u001b[A\n",
      "Explain node 1910:  75%|███████▌  | 150/200 [00:00<00:00, 210.16it/s]\u001b[A\n",
      "Explain node 1910:  86%|████████▌ | 172/200 [00:00<00:00, 211.59it/s]\u001b[A\n",
      "Explain node 1910: 100%|██████████| 200/200 [00:00<00:00, 206.75it/s]\u001b[A\n"
     ]
    },
    {
     "name": "stdout",
     "output_type": "stream",
     "text": [
      "Accuracy on Model:  52.60663507109005\n",
      "Accuracy on EVAL-XG:  59.241706161137444\n"
     ]
    },
    {
     "name": "stderr",
     "output_type": "stream",
     "text": [
      "\n",
      "  0%|          | 0/200 [00:00<?, ?it/s]\u001b[A\n",
      "Explain node 1911:   0%|          | 0/200 [00:00<?, ?it/s]\u001b[A\n",
      "Explain node 1911:  11%|█         | 22/200 [00:00<00:00, 214.74it/s]\u001b[A\n",
      "Explain node 1911:  22%|██▏       | 44/200 [00:00<00:00, 213.47it/s]\u001b[A\n",
      "Explain node 1911:  33%|███▎      | 66/200 [00:00<00:00, 213.38it/s]\u001b[A\n",
      "Explain node 1911:  44%|████▍     | 88/200 [00:00<00:00, 209.08it/s]\u001b[A\n",
      "Explain node 1911:  55%|█████▍    | 109/200 [00:00<00:00, 207.56it/s]\u001b[A\n",
      "Explain node 1911:  66%|██████▌   | 131/200 [00:00<00:00, 209.89it/s]\u001b[A\n",
      "Explain node 1911:  76%|███████▋  | 153/200 [00:00<00:00, 211.24it/s]\u001b[A\n",
      "Explain node 1911:  88%|████████▊ | 175/200 [00:00<00:00, 211.45it/s]\u001b[A\n",
      "Explain node 1911: 100%|██████████| 200/200 [00:00<00:00, 210.51it/s]\u001b[A\n"
     ]
    },
    {
     "name": "stdout",
     "output_type": "stream",
     "text": [
      "Accuracy on Model:  52.358490566037744\n",
      "Accuracy on EVAL-XG:  58.9622641509434\n"
     ]
    },
    {
     "name": "stderr",
     "output_type": "stream",
     "text": [
      "\n",
      "  0%|          | 0/200 [00:00<?, ?it/s]\u001b[A\n",
      "Explain node 1912:   0%|          | 0/200 [00:00<?, ?it/s]\u001b[A\n",
      "Explain node 1912:  11%|█         | 22/200 [00:00<00:00, 209.94it/s]\u001b[A\n",
      "Explain node 1912:  22%|██▏       | 44/200 [00:00<00:00, 210.93it/s]\u001b[A\n",
      "Explain node 1912:  33%|███▎      | 66/200 [00:00<00:00, 213.06it/s]\u001b[A\n",
      "Explain node 1912:  44%|████▍     | 89/200 [00:00<00:00, 216.48it/s]\u001b[A\n",
      "Explain node 1912:  56%|█████▌    | 111/200 [00:00<00:00, 217.14it/s]\u001b[A\n",
      "Explain node 1912:  66%|██████▋   | 133/200 [00:00<00:00, 215.74it/s]\u001b[A\n",
      "Explain node 1912:  78%|███████▊  | 155/200 [00:00<00:00, 205.52it/s]\u001b[A\n",
      "Explain node 1912:  88%|████████▊ | 176/200 [00:00<00:00, 206.45it/s]\u001b[A\n",
      "Explain node 1912: 100%|██████████| 200/200 [00:00<00:00, 208.19it/s]\u001b[A\n"
     ]
    },
    {
     "name": "stdout",
     "output_type": "stream",
     "text": [
      "Accuracy on Model:  52.58215962441315\n",
      "Accuracy on EVAL-XG:  59.154929577464785\n"
     ]
    },
    {
     "name": "stderr",
     "output_type": "stream",
     "text": [
      "\n",
      "  0%|          | 0/200 [00:00<?, ?it/s]\u001b[A\n",
      "Explain node 1913:   0%|          | 0/200 [00:00<?, ?it/s]\u001b[A\n",
      "Explain node 1913:  12%|█▏        | 23/200 [00:00<00:00, 223.05it/s]\u001b[A\n",
      "Explain node 1913:  23%|██▎       | 46/200 [00:00<00:00, 222.90it/s]\u001b[A\n",
      "Explain node 1913:  34%|███▍      | 69/200 [00:00<00:00, 222.49it/s]\u001b[A\n",
      "Explain node 1913:  46%|████▌     | 92/200 [00:00<00:00, 218.97it/s]\u001b[A\n",
      "Explain node 1913:  57%|█████▋    | 114/200 [00:00<00:00, 218.00it/s]\u001b[A\n",
      "Explain node 1913:  68%|██████▊   | 137/200 [00:00<00:00, 220.17it/s]\u001b[A\n",
      "Explain node 1913:  80%|████████  | 160/200 [00:00<00:00, 221.66it/s]\u001b[A\n",
      "Explain node 1913: 100%|██████████| 200/200 [00:00<00:00, 220.60it/s]\u001b[A\n"
     ]
    },
    {
     "name": "stdout",
     "output_type": "stream",
     "text": [
      "Accuracy on Model:  52.336448598130836\n",
      "Accuracy on EVAL-XG:  58.87850467289719\n"
     ]
    },
    {
     "name": "stderr",
     "output_type": "stream",
     "text": [
      "\n",
      "  0%|          | 0/200 [00:00<?, ?it/s]\u001b[A\n",
      "Explain node 1914:   0%|          | 0/200 [00:00<?, ?it/s]\u001b[A\n",
      "Explain node 1914:  11%|█         | 22/200 [00:00<00:00, 216.14it/s]\u001b[A\n",
      "Explain node 1914:  22%|██▏       | 44/200 [00:00<00:00, 215.94it/s]\u001b[A\n",
      "Explain node 1914:  33%|███▎      | 66/200 [00:00<00:00, 217.27it/s]\u001b[A\n",
      "Explain node 1914:  44%|████▍     | 88/200 [00:00<00:00, 214.77it/s]\u001b[A\n",
      "Explain node 1914:  55%|█████▌    | 110/200 [00:00<00:00, 214.05it/s]\u001b[A\n",
      "Explain node 1914:  66%|██████▋   | 133/200 [00:00<00:00, 216.89it/s]\u001b[A\n",
      "Explain node 1914:  78%|███████▊  | 155/200 [00:00<00:00, 215.19it/s]\u001b[A\n",
      "Explain node 1914:  88%|████████▊ | 177/200 [00:00<00:00, 213.77it/s]\u001b[A\n",
      "Explain node 1914: 100%|██████████| 200/200 [00:00<00:00, 214.40it/s]\u001b[A\n"
     ]
    },
    {
     "name": "stdout",
     "output_type": "stream",
     "text": [
      "Accuracy on Model:  52.093023255813954\n",
      "Accuracy on EVAL-XG:  58.6046511627907\n"
     ]
    },
    {
     "name": "stderr",
     "output_type": "stream",
     "text": [
      "\n",
      "  0%|          | 0/200 [00:00<?, ?it/s]\u001b[A\n",
      "Explain node 1915:   0%|          | 0/200 [00:00<?, ?it/s]\u001b[A\n",
      "Explain node 1915:  10%|█         | 21/200 [00:00<00:00, 204.40it/s]\u001b[A\n",
      "Explain node 1915:  21%|██        | 42/200 [00:00<00:00, 197.36it/s]\u001b[A\n",
      "Explain node 1915:  31%|███       | 62/200 [00:00<00:00, 196.21it/s]\u001b[A\n",
      "Explain node 1915:  42%|████▏     | 83/200 [00:00<00:00, 200.21it/s]\u001b[A\n",
      "Explain node 1915:  52%|█████▏    | 104/200 [00:00<00:00, 196.74it/s]\u001b[A\n",
      "Explain node 1915:  62%|██████▏   | 124/200 [00:00<00:00, 196.48it/s]\u001b[A\n",
      "Explain node 1915:  72%|███████▎  | 145/200 [00:00<00:00, 198.02it/s]\u001b[A\n",
      "Explain node 1915:  84%|████████▎ | 167/200 [00:00<00:00, 204.74it/s]\u001b[A\n",
      "Explain node 1915: 100%|██████████| 200/200 [00:00<00:00, 203.43it/s]\u001b[A\n"
     ]
    },
    {
     "name": "stdout",
     "output_type": "stream",
     "text": [
      "Accuracy on Model:  52.31481481481482\n",
      "Accuracy on EVAL-XG:  58.79629629629629\n"
     ]
    },
    {
     "name": "stderr",
     "output_type": "stream",
     "text": [
      "\n",
      "  0%|          | 0/200 [00:00<?, ?it/s]\u001b[A\n",
      "Explain node 1916:   0%|          | 0/200 [00:00<?, ?it/s]\u001b[A\n",
      "Explain node 1916:  10%|█         | 21/200 [00:00<00:00, 203.12it/s]\u001b[A\n",
      "Explain node 1916:  22%|██▏       | 43/200 [00:00<00:00, 209.62it/s]\u001b[A\n",
      "Explain node 1916:  32%|███▏      | 64/200 [00:00<00:00, 201.77it/s]\u001b[A\n",
      "Explain node 1916:  44%|████▎     | 87/200 [00:00<00:00, 209.77it/s]\u001b[A\n",
      "Explain node 1916:  55%|█████▌    | 110/200 [00:00<00:00, 214.04it/s]\u001b[A\n",
      "Explain node 1916:  66%|██████▋   | 133/200 [00:00<00:00, 216.91it/s]\u001b[A\n",
      "Explain node 1916:  78%|███████▊  | 155/200 [00:00<00:00, 212.86it/s]\u001b[A\n",
      "Explain node 1916:  88%|████████▊ | 177/200 [00:00<00:00, 213.66it/s]\u001b[A\n",
      "Explain node 1916: 100%|██████████| 200/200 [00:00<00:00, 211.66it/s]\u001b[A\n"
     ]
    },
    {
     "name": "stdout",
     "output_type": "stream",
     "text": [
      "Accuracy on Model:  52.53456221198156\n",
      "Accuracy on EVAL-XG:  58.525345622119815\n"
     ]
    },
    {
     "name": "stderr",
     "output_type": "stream",
     "text": [
      "\n",
      "  0%|          | 0/200 [00:00<?, ?it/s]\u001b[A\n",
      "Explain node 1917:   0%|          | 0/200 [00:00<?, ?it/s]\u001b[A\n",
      "Explain node 1917:  11%|█         | 22/200 [00:00<00:00, 218.54it/s]\u001b[A\n",
      "Explain node 1917:  22%|██▏       | 44/200 [00:00<00:00, 218.00it/s]\u001b[A\n",
      "Explain node 1917:  34%|███▎      | 67/200 [00:00<00:00, 219.49it/s]\u001b[A\n",
      "Explain node 1917:  44%|████▍     | 89/200 [00:00<00:00, 219.05it/s]\u001b[A\n",
      "Explain node 1917:  56%|█████▌    | 112/200 [00:00<00:00, 221.35it/s]\u001b[A\n",
      "Explain node 1917:  68%|██████▊   | 135/200 [00:00<00:00, 221.04it/s]\u001b[A\n",
      "Explain node 1917:  79%|███████▉  | 158/200 [00:00<00:00, 221.66it/s]\u001b[A\n",
      "Explain node 1917: 100%|██████████| 200/200 [00:00<00:00, 220.88it/s]\u001b[A\n"
     ]
    },
    {
     "name": "stdout",
     "output_type": "stream",
     "text": [
      "Accuracy on Model:  52.752293577981646\n",
      "Accuracy on EVAL-XG:  58.71559633027523\n"
     ]
    },
    {
     "name": "stderr",
     "output_type": "stream",
     "text": [
      "\n",
      "  0%|          | 0/200 [00:00<?, ?it/s]\u001b[A\n",
      "Explain node 1918:   0%|          | 0/200 [00:00<?, ?it/s]\u001b[A\n",
      "Explain node 1918:  11%|█         | 22/200 [00:00<00:00, 212.06it/s]\u001b[A\n",
      "Explain node 1918:  22%|██▏       | 44/200 [00:00<00:00, 211.29it/s]\u001b[A\n",
      "Explain node 1918:  33%|███▎      | 66/200 [00:00<00:00, 212.61it/s]\u001b[A\n",
      "Explain node 1918:  44%|████▍     | 89/200 [00:00<00:00, 216.95it/s]\u001b[A\n",
      "Explain node 1918:  56%|█████▌    | 112/200 [00:00<00:00, 220.00it/s]\u001b[A\n",
      "Explain node 1918:  68%|██████▊   | 135/200 [00:00<00:00, 217.65it/s]\u001b[A\n",
      "Explain node 1918:  79%|███████▉  | 158/200 [00:00<00:00, 219.04it/s]\u001b[A\n",
      "Explain node 1918: 100%|██████████| 200/200 [00:00<00:00, 216.17it/s]\u001b[A\n"
     ]
    },
    {
     "name": "stdout",
     "output_type": "stream",
     "text": [
      "Accuracy on Model:  52.96803652968036\n",
      "Accuracy on EVAL-XG:  58.44748858447488\n"
     ]
    },
    {
     "name": "stderr",
     "output_type": "stream",
     "text": [
      "\n",
      "  0%|          | 0/200 [00:00<?, ?it/s]\u001b[A\n",
      "Explain node 1919:   0%|          | 0/200 [00:00<?, ?it/s]\u001b[A\n",
      "Explain node 1919:  10%|█         | 21/200 [00:00<00:00, 208.08it/s]\u001b[A\n",
      "Explain node 1919:  22%|██▏       | 43/200 [00:00<00:00, 210.20it/s]\u001b[A\n",
      "Explain node 1919:  32%|███▎      | 65/200 [00:00<00:00, 208.97it/s]\u001b[A\n",
      "Explain node 1919:  43%|████▎     | 86/200 [00:00<00:00, 208.33it/s]\u001b[A\n",
      "Explain node 1919:  54%|█████▎    | 107/200 [00:00<00:00, 208.67it/s]\u001b[A\n",
      "Explain node 1919:  64%|██████▍   | 128/200 [00:00<00:00, 209.02it/s]\u001b[A\n",
      "Explain node 1919:  74%|███████▍  | 149/200 [00:00<00:00, 208.45it/s]\u001b[A\n",
      "Explain node 1919:  86%|████████▌ | 171/200 [00:00<00:00, 212.04it/s]\u001b[A\n",
      "Explain node 1919: 100%|██████████| 200/200 [00:00<00:00, 209.27it/s]\u001b[A\n"
     ]
    },
    {
     "name": "stdout",
     "output_type": "stream",
     "text": [
      "Accuracy on Model:  52.72727272727272\n",
      "Accuracy on EVAL-XG:  58.18181818181818\n"
     ]
    },
    {
     "name": "stderr",
     "output_type": "stream",
     "text": [
      "\n",
      "  0%|          | 0/200 [00:00<?, ?it/s]\u001b[A\n",
      "Explain node 1920:   0%|          | 0/200 [00:00<?, ?it/s]\u001b[A\n",
      "Explain node 1920:  11%|█         | 22/200 [00:00<00:00, 212.52it/s]\u001b[A\n",
      "Explain node 1920:  22%|██▏       | 44/200 [00:00<00:00, 216.44it/s]\u001b[A\n",
      "Explain node 1920:  33%|███▎      | 66/200 [00:00<00:00, 214.68it/s]\u001b[A\n",
      "Explain node 1920:  44%|████▍     | 89/200 [00:00<00:00, 217.03it/s]\u001b[A\n",
      "Explain node 1920:  56%|█████▌    | 112/200 [00:00<00:00, 218.30it/s]\u001b[A\n",
      "Explain node 1920:  67%|██████▋   | 134/200 [00:00<00:00, 215.03it/s]\u001b[A\n",
      "Explain node 1920:  78%|███████▊  | 157/200 [00:00<00:00, 217.63it/s]\u001b[A\n",
      "Explain node 1920: 100%|██████████| 200/200 [00:00<00:00, 217.36it/s]\u001b[A\n"
     ]
    },
    {
     "name": "stdout",
     "output_type": "stream",
     "text": [
      "Accuracy on Model:  52.94117647058824\n",
      "Accuracy on EVAL-XG:  58.371040723981906\n"
     ]
    },
    {
     "name": "stderr",
     "output_type": "stream",
     "text": [
      "\n",
      "  0%|          | 0/200 [00:00<?, ?it/s]\u001b[A\n",
      "Explain node 1921:   0%|          | 0/200 [00:00<?, ?it/s]\u001b[A\n",
      "Explain node 1921:  12%|█▏        | 23/200 [00:00<00:00, 226.25it/s]\u001b[A\n",
      "Explain node 1921:  23%|██▎       | 46/200 [00:00<00:00, 227.16it/s]\u001b[A\n",
      "Explain node 1921:  34%|███▍      | 69/200 [00:00<00:00, 227.54it/s]\u001b[A\n",
      "Explain node 1921:  46%|████▌     | 92/200 [00:00<00:00, 226.40it/s]\u001b[A\n",
      "Explain node 1921:  57%|█████▊    | 115/200 [00:00<00:00, 223.31it/s]\u001b[A\n",
      "Explain node 1921:  69%|██████▉   | 138/200 [00:00<00:00, 203.76it/s]\u001b[A\n",
      "Explain node 1921:  80%|███████▉  | 159/200 [00:00<00:00, 193.68it/s]\u001b[A\n",
      "Explain node 1921: 100%|██████████| 200/200 [00:00<00:00, 204.16it/s]\u001b[A\n"
     ]
    },
    {
     "name": "stdout",
     "output_type": "stream",
     "text": [
      "Accuracy on Model:  53.153153153153156\n",
      "Accuracy on EVAL-XG:  58.55855855855856\n"
     ]
    },
    {
     "name": "stderr",
     "output_type": "stream",
     "text": [
      "\n",
      "  0%|          | 0/200 [00:00<?, ?it/s]\u001b[A\n",
      "Explain node 1922:   0%|          | 0/200 [00:00<?, ?it/s]\u001b[A\n",
      "Explain node 1922:  12%|█▏        | 23/200 [00:00<00:00, 224.35it/s]\u001b[A\n",
      "Explain node 1922:  23%|██▎       | 46/200 [00:00<00:00, 225.32it/s]\u001b[A\n",
      "Explain node 1922:  34%|███▍      | 69/200 [00:00<00:00, 226.22it/s]\u001b[A\n",
      "Explain node 1922:  46%|████▌     | 92/200 [00:00<00:00, 227.59it/s]\u001b[A\n",
      "Explain node 1922:  57%|█████▊    | 115/200 [00:00<00:00, 224.47it/s]\u001b[A\n",
      "Explain node 1922:  69%|██████▉   | 138/200 [00:00<00:00, 223.17it/s]\u001b[A\n",
      "Explain node 1922:  80%|████████  | 161/200 [00:00<00:00, 223.97it/s]\u001b[A\n",
      "Explain node 1922: 100%|██████████| 200/200 [00:00<00:00, 225.14it/s]\u001b[A\n"
     ]
    },
    {
     "name": "stdout",
     "output_type": "stream",
     "text": [
      "Accuracy on Model:  53.36322869955157\n",
      "Accuracy on EVAL-XG:  58.744394618834086\n"
     ]
    },
    {
     "name": "stderr",
     "output_type": "stream",
     "text": [
      "\n",
      "  0%|          | 0/200 [00:00<?, ?it/s]\u001b[A\n",
      "Explain node 1923:   0%|          | 0/200 [00:00<?, ?it/s]\u001b[A\n",
      "Explain node 1923:  10%|█         | 21/200 [00:00<00:00, 204.62it/s]\u001b[A\n",
      "Explain node 1923:  21%|██        | 42/200 [00:00<00:00, 204.88it/s]\u001b[A\n",
      "Explain node 1923:  32%|███▏      | 63/200 [00:00<00:00, 206.16it/s]\u001b[A\n",
      "Explain node 1923:  42%|████▏     | 84/200 [00:00<00:00, 206.38it/s]\u001b[A\n",
      "Explain node 1923:  52%|█████▎    | 105/200 [00:00<00:00, 207.00it/s]\u001b[A\n",
      "Explain node 1923:  64%|██████▎   | 127/200 [00:00<00:00, 209.69it/s]\u001b[A\n",
      "Explain node 1923:  74%|███████▍  | 149/200 [00:00<00:00, 210.81it/s]\u001b[A\n",
      "Explain node 1923:  86%|████████▌ | 171/200 [00:00<00:00, 211.85it/s]\u001b[A\n",
      "Explain node 1923: 100%|██████████| 200/200 [00:00<00:00, 209.40it/s]\u001b[A\n"
     ]
    },
    {
     "name": "stdout",
     "output_type": "stream",
     "text": [
      "Accuracy on Model:  53.125\n",
      "Accuracy on EVAL-XG:  58.48214285714286\n"
     ]
    },
    {
     "name": "stderr",
     "output_type": "stream",
     "text": [
      "\n",
      "  0%|          | 0/200 [00:00<?, ?it/s]\u001b[A\n",
      "Explain node 1924:   0%|          | 0/200 [00:00<?, ?it/s]\u001b[A\n",
      "Explain node 1924:  11%|█         | 22/200 [00:00<00:00, 217.27it/s]\u001b[A\n",
      "Explain node 1924:  22%|██▏       | 44/200 [00:00<00:00, 208.64it/s]\u001b[A\n",
      "Explain node 1924:  32%|███▎      | 65/200 [00:00<00:00, 204.77it/s]\u001b[A\n",
      "Explain node 1924:  43%|████▎     | 86/200 [00:00<00:00, 205.95it/s]\u001b[A\n",
      "Explain node 1924:  54%|█████▎    | 107/200 [00:00<00:00, 203.74it/s]\u001b[A\n",
      "Explain node 1924:  64%|██████▍   | 128/200 [00:00<00:00, 203.57it/s]\u001b[A\n",
      "Explain node 1924:  74%|███████▍  | 149/200 [00:00<00:00, 204.95it/s]\u001b[A\n",
      "Explain node 1924:  85%|████████▌ | 170/200 [00:00<00:00, 203.00it/s]\u001b[A\n",
      "Explain node 1924: 100%|██████████| 200/200 [00:00<00:00, 205.72it/s]\u001b[A\n"
     ]
    },
    {
     "name": "stdout",
     "output_type": "stream",
     "text": [
      "Accuracy on Model:  53.333333333333336\n",
      "Accuracy on EVAL-XG:  58.666666666666664\n"
     ]
    },
    {
     "name": "stderr",
     "output_type": "stream",
     "text": [
      "\n",
      "  0%|          | 0/200 [00:00<?, ?it/s]\u001b[A\n",
      "Explain node 1925:   0%|          | 0/200 [00:00<?, ?it/s]\u001b[A\n",
      "Explain node 1925:  11%|█         | 22/200 [00:00<00:00, 217.32it/s]\u001b[A\n",
      "Explain node 1925:  22%|██▏       | 44/200 [00:00<00:00, 216.79it/s]\u001b[A\n",
      "Explain node 1925:  33%|███▎      | 66/200 [00:00<00:00, 215.03it/s]\u001b[A\n",
      "Explain node 1925:  44%|████▍     | 88/200 [00:00<00:00, 214.77it/s]\u001b[A\n",
      "Explain node 1925:  55%|█████▌    | 110/200 [00:00<00:00, 215.20it/s]\u001b[A\n",
      "Explain node 1925:  66%|██████▌   | 132/200 [00:00<00:00, 214.50it/s]\u001b[A\n",
      "Explain node 1925:  78%|███████▊  | 155/200 [00:00<00:00, 216.26it/s]\u001b[A\n",
      "Explain node 1925:  88%|████████▊ | 177/200 [00:00<00:00, 215.95it/s]\u001b[A\n",
      "Explain node 1925: 100%|██████████| 200/200 [00:00<00:00, 214.95it/s]\u001b[A\n"
     ]
    },
    {
     "name": "stdout",
     "output_type": "stream",
     "text": [
      "Accuracy on Model:  53.09734513274337\n",
      "Accuracy on EVAL-XG:  58.4070796460177\n"
     ]
    },
    {
     "name": "stderr",
     "output_type": "stream",
     "text": [
      "\n",
      "  0%|          | 0/200 [00:00<?, ?it/s]\u001b[A\n",
      "Explain node 1926:   0%|          | 0/200 [00:00<?, ?it/s]\u001b[A\n",
      "Explain node 1926:  10%|█         | 20/200 [00:00<00:00, 199.66it/s]\u001b[A\n",
      "Explain node 1926:  21%|██        | 42/200 [00:00<00:00, 207.55it/s]\u001b[A\n",
      "Explain node 1926:  32%|███▏      | 64/200 [00:00<00:00, 212.25it/s]\u001b[A\n",
      "Explain node 1926:  43%|████▎     | 86/200 [00:00<00:00, 208.74it/s]\u001b[A\n",
      "Explain node 1926:  54%|█████▍    | 108/200 [00:00<00:00, 208.71it/s]\u001b[A\n",
      "Explain node 1926:  64%|██████▍   | 129/200 [00:00<00:00, 207.05it/s]\u001b[A\n",
      "Explain node 1926:  75%|███████▌  | 150/200 [00:00<00:00, 206.14it/s]\u001b[A\n",
      "Explain node 1926:  86%|████████▌ | 172/200 [00:00<00:00, 209.78it/s]\u001b[A\n",
      "Explain node 1926: 100%|██████████| 200/200 [00:00<00:00, 209.80it/s]\u001b[A\n"
     ]
    },
    {
     "name": "stdout",
     "output_type": "stream",
     "text": [
      "Accuracy on Model:  53.30396475770925\n",
      "Accuracy on EVAL-XG:  58.590308370044056\n"
     ]
    },
    {
     "name": "stderr",
     "output_type": "stream",
     "text": [
      "\n",
      "  0%|          | 0/200 [00:00<?, ?it/s]\u001b[A\n",
      "Explain node 1927:   0%|          | 0/200 [00:00<?, ?it/s]\u001b[A\n",
      "Explain node 1927:  10%|█         | 21/200 [00:00<00:00, 208.04it/s]\u001b[A\n",
      "Explain node 1927:  22%|██▏       | 43/200 [00:00<00:00, 212.21it/s]\u001b[A\n",
      "Explain node 1927:  32%|███▎      | 65/200 [00:00<00:00, 213.26it/s]\u001b[A\n",
      "Explain node 1927:  44%|████▎     | 87/200 [00:00<00:00, 210.43it/s]\u001b[A\n",
      "Explain node 1927:  55%|█████▌    | 110/200 [00:00<00:00, 214.72it/s]\u001b[A\n",
      "Explain node 1927:  66%|██████▌   | 132/200 [00:00<00:00, 210.43it/s]\u001b[A\n",
      "Explain node 1927:  77%|███████▋  | 154/200 [00:00<00:00, 200.99it/s]\u001b[A\n",
      "Explain node 1927:  88%|████████▊ | 175/200 [00:00<00:00, 196.61it/s]\u001b[A\n",
      "Explain node 1927: 100%|██████████| 200/200 [00:00<00:00, 205.58it/s]\u001b[A\n"
     ]
    },
    {
     "name": "stdout",
     "output_type": "stream",
     "text": [
      "Accuracy on Model:  53.50877192982456\n",
      "Accuracy on EVAL-XG:  58.77192982456141\n"
     ]
    },
    {
     "name": "stderr",
     "output_type": "stream",
     "text": [
      "\n",
      "  0%|          | 0/200 [00:00<?, ?it/s]\u001b[A\n",
      "Explain node 1928:   0%|          | 0/200 [00:00<?, ?it/s]\u001b[A\n",
      "Explain node 1928:  11%|█         | 22/200 [00:00<00:00, 218.16it/s]\u001b[A\n",
      "Explain node 1928:  22%|██▏       | 44/200 [00:00<00:00, 217.59it/s]\u001b[A\n",
      "Explain node 1928:  34%|███▎      | 67/200 [00:00<00:00, 219.76it/s]\u001b[A\n",
      "Explain node 1928:  44%|████▍     | 89/200 [00:00<00:00, 219.48it/s]\u001b[A\n",
      "Explain node 1928:  56%|█████▌    | 111/200 [00:00<00:00, 212.99it/s]\u001b[A\n",
      "Explain node 1928:  66%|██████▋   | 133/200 [00:00<00:00, 213.11it/s]\u001b[A\n",
      "Explain node 1928:  78%|███████▊  | 155/200 [00:00<00:00, 211.47it/s]\u001b[A\n",
      "Explain node 1928:  88%|████████▊ | 177/200 [00:00<00:00, 210.01it/s]\u001b[A\n",
      "Explain node 1928: 100%|██████████| 200/200 [00:00<00:00, 212.82it/s]\u001b[A\n"
     ]
    },
    {
     "name": "stdout",
     "output_type": "stream",
     "text": [
      "Accuracy on Model:  53.275109170305676\n",
      "Accuracy on EVAL-XG:  58.951965065502186\n"
     ]
    },
    {
     "name": "stderr",
     "output_type": "stream",
     "text": [
      "\n",
      "  0%|          | 0/200 [00:00<?, ?it/s]\u001b[A\n",
      "Explain node 1929:   0%|          | 0/200 [00:00<?, ?it/s]\u001b[A\n",
      "Explain node 1929:  11%|█         | 22/200 [00:00<00:00, 219.04it/s]\u001b[A\n",
      "Explain node 1929:  22%|██▏       | 44/200 [00:00<00:00, 219.16it/s]\u001b[A\n",
      "Explain node 1929:  33%|███▎      | 66/200 [00:00<00:00, 205.87it/s]\u001b[A\n",
      "Explain node 1929:  44%|████▍     | 88/200 [00:00<00:00, 208.75it/s]\u001b[A\n",
      "Explain node 1929:  55%|█████▌    | 110/200 [00:00<00:00, 212.04it/s]\u001b[A\n",
      "Explain node 1929:  66%|██████▌   | 132/200 [00:00<00:00, 214.22it/s]\u001b[A\n",
      "Explain node 1929:  77%|███████▋  | 154/200 [00:00<00:00, 214.13it/s]\u001b[A\n",
      "Explain node 1929:  88%|████████▊ | 176/200 [00:00<00:00, 215.24it/s]\u001b[A\n",
      "Explain node 1929: 100%|██████████| 200/200 [00:00<00:00, 213.22it/s]\u001b[A\n"
     ]
    },
    {
     "name": "stdout",
     "output_type": "stream",
     "text": [
      "Accuracy on Model:  53.47826086956522\n",
      "Accuracy on EVAL-XG:  59.130434782608695\n"
     ]
    },
    {
     "name": "stderr",
     "output_type": "stream",
     "text": [
      "\n",
      "  0%|          | 0/200 [00:00<?, ?it/s]\u001b[A\n",
      "Explain node 1930:   0%|          | 0/200 [00:00<?, ?it/s]\u001b[A\n",
      "Explain node 1930:  11%|█         | 22/200 [00:00<00:00, 216.10it/s]\u001b[A\n",
      "Explain node 1930:  22%|██▏       | 44/200 [00:00<00:00, 215.95it/s]\u001b[A\n",
      "Explain node 1930:  34%|███▎      | 67/200 [00:00<00:00, 218.68it/s]\u001b[A\n",
      "Explain node 1930:  44%|████▍     | 89/200 [00:00<00:00, 215.64it/s]\u001b[A\n",
      "Explain node 1930:  56%|█████▌    | 111/200 [00:00<00:00, 213.83it/s]\u001b[A\n",
      "Explain node 1930:  67%|██████▋   | 134/200 [00:00<00:00, 216.40it/s]\u001b[A\n",
      "Explain node 1930:  78%|███████▊  | 156/200 [00:00<00:00, 213.99it/s]\u001b[A\n",
      "Explain node 1930:  89%|████████▉ | 178/200 [00:00<00:00, 214.11it/s]\u001b[A\n",
      "Explain node 1930: 100%|██████████| 200/200 [00:00<00:00, 214.59it/s]\u001b[A\n"
     ]
    },
    {
     "name": "stdout",
     "output_type": "stream",
     "text": [
      "Accuracy on Model:  53.246753246753244\n",
      "Accuracy on EVAL-XG:  58.87445887445888\n"
     ]
    },
    {
     "name": "stderr",
     "output_type": "stream",
     "text": [
      "\n",
      "  0%|          | 0/200 [00:00<?, ?it/s]\u001b[A\n",
      "Explain node 1931:   0%|          | 0/200 [00:00<?, ?it/s]\u001b[A\n",
      "Explain node 1931:  11%|█         | 22/200 [00:00<00:00, 210.47it/s]\u001b[A\n",
      "Explain node 1931:  22%|██▏       | 44/200 [00:00<00:00, 211.09it/s]\u001b[A\n",
      "Explain node 1931:  33%|███▎      | 66/200 [00:00<00:00, 210.79it/s]\u001b[A\n",
      "Explain node 1931:  44%|████▍     | 88/200 [00:00<00:00, 214.19it/s]\u001b[A\n",
      "Explain node 1931:  55%|█████▌    | 110/200 [00:00<00:00, 214.40it/s]\u001b[A\n",
      "Explain node 1931:  66%|██████▌   | 132/200 [00:00<00:00, 215.74it/s]\u001b[A\n",
      "Explain node 1931:  77%|███████▋  | 154/200 [00:00<00:00, 214.16it/s]\u001b[A\n",
      "Explain node 1931:  88%|████████▊ | 176/200 [00:00<00:00, 214.97it/s]\u001b[A\n",
      "Explain node 1931: 100%|██████████| 200/200 [00:00<00:00, 214.08it/s]\u001b[A\n"
     ]
    },
    {
     "name": "stdout",
     "output_type": "stream",
     "text": [
      "Accuracy on Model:  53.44827586206896\n",
      "Accuracy on EVAL-XG:  59.05172413793104\n"
     ]
    },
    {
     "name": "stderr",
     "output_type": "stream",
     "text": [
      "\n",
      "  0%|          | 0/200 [00:00<?, ?it/s]\u001b[A\n",
      "Explain node 1932:   0%|          | 0/200 [00:00<?, ?it/s]\u001b[A\n",
      "Explain node 1932:  11%|█         | 22/200 [00:00<00:00, 218.85it/s]\u001b[A\n",
      "Explain node 1932:  22%|██▏       | 44/200 [00:00<00:00, 214.16it/s]\u001b[A\n",
      "Explain node 1932:  33%|███▎      | 66/200 [00:00<00:00, 206.16it/s]\u001b[A\n",
      "Explain node 1932:  44%|████▍     | 88/200 [00:00<00:00, 209.89it/s]\u001b[A\n",
      "Explain node 1932:  55%|█████▌    | 110/200 [00:00<00:00, 210.99it/s]\u001b[A\n",
      "Explain node 1932:  66%|██████▋   | 133/200 [00:00<00:00, 215.25it/s]\u001b[A\n",
      "Explain node 1932:  78%|███████▊  | 155/200 [00:00<00:00, 216.56it/s]\u001b[A\n",
      "Explain node 1932:  88%|████████▊ | 177/200 [00:00<00:00, 216.44it/s]\u001b[A\n",
      "Explain node 1932: 100%|██████████| 200/200 [00:00<00:00, 213.71it/s]\u001b[A\n"
     ]
    },
    {
     "name": "stdout",
     "output_type": "stream",
     "text": [
      "Accuracy on Model:  53.648068669527895\n",
      "Accuracy on EVAL-XG:  59.227467811158796\n"
     ]
    },
    {
     "name": "stderr",
     "output_type": "stream",
     "text": [
      "\n",
      "  0%|          | 0/200 [00:00<?, ?it/s]\u001b[A\n",
      "Explain node 1933:   0%|          | 0/200 [00:00<?, ?it/s]\u001b[A\n",
      "Explain node 1933:  12%|█▏        | 23/200 [00:00<00:00, 222.83it/s]\u001b[A\n",
      "Explain node 1933:  23%|██▎       | 46/200 [00:00<00:00, 218.01it/s]\u001b[A\n",
      "Explain node 1933:  34%|███▍      | 68/200 [00:00<00:00, 216.29it/s]\u001b[A\n",
      "Explain node 1933:  45%|████▌     | 90/200 [00:00<00:00, 217.53it/s]\u001b[A\n",
      "Explain node 1933:  56%|█████▋    | 113/200 [00:00<00:00, 218.65it/s]\u001b[A\n",
      "Explain node 1933:  68%|██████▊   | 135/200 [00:00<00:00, 216.37it/s]\u001b[A\n",
      "Explain node 1933:  78%|███████▊  | 157/200 [00:00<00:00, 215.59it/s]\u001b[A\n",
      "Explain node 1933: 100%|██████████| 200/200 [00:00<00:00, 215.35it/s]\u001b[A\n"
     ]
    },
    {
     "name": "stdout",
     "output_type": "stream",
     "text": [
      "Accuracy on Model:  53.84615384615385\n",
      "Accuracy on EVAL-XG:  59.401709401709404\n"
     ]
    },
    {
     "name": "stderr",
     "output_type": "stream",
     "text": [
      "\n",
      "  0%|          | 0/200 [00:00<?, ?it/s]\u001b[A\n",
      "Explain node 1934:   0%|          | 0/200 [00:00<?, ?it/s]\u001b[A\n",
      "Explain node 1934:  10%|█         | 20/200 [00:00<00:00, 195.74it/s]\u001b[A\n",
      "Explain node 1934:  21%|██        | 42/200 [00:00<00:00, 209.11it/s]\u001b[A\n",
      "Explain node 1934:  32%|███▏      | 64/200 [00:00<00:00, 212.87it/s]\u001b[A\n",
      "Explain node 1934:  43%|████▎     | 86/200 [00:00<00:00, 214.90it/s]\u001b[A\n",
      "Explain node 1934:  54%|█████▍    | 108/200 [00:00<00:00, 204.64it/s]\u001b[A\n",
      "Explain node 1934:  66%|██████▌   | 131/200 [00:00<00:00, 209.93it/s]\u001b[A\n",
      "Explain node 1934:  77%|███████▋  | 154/200 [00:00<00:00, 213.54it/s]\u001b[A\n",
      "Explain node 1934:  88%|████████▊ | 176/200 [00:00<00:00, 213.68it/s]\u001b[A\n",
      "Explain node 1934: 100%|██████████| 200/200 [00:00<00:00, 211.38it/s]\u001b[A\n"
     ]
    },
    {
     "name": "stdout",
     "output_type": "stream",
     "text": [
      "Accuracy on Model:  54.04255319148936\n",
      "Accuracy on EVAL-XG:  59.57446808510638\n"
     ]
    },
    {
     "name": "stderr",
     "output_type": "stream",
     "text": [
      "\n",
      "  0%|          | 0/200 [00:00<?, ?it/s]\u001b[A\n",
      "Explain node 1935:   0%|          | 0/200 [00:00<?, ?it/s]\u001b[A\n",
      "Explain node 1935:  11%|█         | 22/200 [00:00<00:00, 217.50it/s]\u001b[A\n",
      "Explain node 1935:  22%|██▏       | 44/200 [00:00<00:00, 218.36it/s]\u001b[A\n",
      "Explain node 1935:  33%|███▎      | 66/200 [00:00<00:00, 218.43it/s]\u001b[A\n",
      "Explain node 1935:  44%|████▍     | 88/200 [00:00<00:00, 218.17it/s]\u001b[A\n",
      "Explain node 1935:  55%|█████▌    | 110/200 [00:00<00:00, 218.07it/s]\u001b[A\n",
      "Explain node 1935:  66%|██████▌   | 132/200 [00:00<00:00, 217.58it/s]\u001b[A\n",
      "Explain node 1935:  77%|███████▋  | 154/200 [00:00<00:00, 215.70it/s]\u001b[A\n",
      "Explain node 1935:  88%|████████▊ | 176/200 [00:00<00:00, 214.11it/s]\u001b[A\n",
      "Explain node 1935: 100%|██████████| 200/200 [00:00<00:00, 214.28it/s]\u001b[A\n"
     ]
    },
    {
     "name": "stdout",
     "output_type": "stream",
     "text": [
      "Accuracy on Model:  54.23728813559322\n",
      "Accuracy on EVAL-XG:  59.7457627118644\n"
     ]
    },
    {
     "name": "stderr",
     "output_type": "stream",
     "text": [
      "\n",
      "  0%|          | 0/200 [00:00<?, ?it/s]\u001b[A\n",
      "Explain node 1936:   0%|          | 0/200 [00:00<?, ?it/s]\u001b[A\n",
      "Explain node 1936:  11%|█         | 22/200 [00:00<00:00, 216.95it/s]\u001b[A\n",
      "Explain node 1936:  22%|██▏       | 44/200 [00:00<00:00, 216.80it/s]\u001b[A\n",
      "Explain node 1936:  33%|███▎      | 66/200 [00:00<00:00, 217.69it/s]\u001b[A\n",
      "Explain node 1936:  44%|████▍     | 88/200 [00:00<00:00, 215.05it/s]\u001b[A\n",
      "Explain node 1936:  55%|█████▌    | 110/200 [00:00<00:00, 212.33it/s]\u001b[A\n",
      "Explain node 1936:  66%|██████▌   | 132/200 [00:00<00:00, 212.13it/s]\u001b[A\n",
      "Explain node 1936:  77%|███████▋  | 154/200 [00:00<00:00, 212.52it/s]\u001b[A\n",
      "Explain node 1936:  88%|████████▊ | 177/200 [00:00<00:00, 215.77it/s]\u001b[A\n",
      "Explain node 1936: 100%|██████████| 200/200 [00:00<00:00, 214.62it/s]\u001b[A\n"
     ]
    },
    {
     "name": "stdout",
     "output_type": "stream",
     "text": [
      "Accuracy on Model:  54.008438818565395\n",
      "Accuracy on EVAL-XG:  59.49367088607595\n"
     ]
    },
    {
     "name": "stderr",
     "output_type": "stream",
     "text": [
      "\n",
      "  0%|          | 0/200 [00:00<?, ?it/s]\u001b[A\n",
      "Explain node 1937:   0%|          | 0/200 [00:00<?, ?it/s]\u001b[A\n",
      "Explain node 1937:  11%|█         | 22/200 [00:00<00:00, 215.77it/s]\u001b[A\n",
      "Explain node 1937:  22%|██▏       | 44/200 [00:00<00:00, 217.91it/s]\u001b[A\n",
      "Explain node 1937:  33%|███▎      | 66/200 [00:00<00:00, 218.78it/s]\u001b[A\n",
      "Explain node 1937:  44%|████▍     | 88/200 [00:00<00:00, 217.95it/s]\u001b[A\n",
      "Explain node 1937:  55%|█████▌    | 110/200 [00:00<00:00, 217.40it/s]\u001b[A\n",
      "Explain node 1937:  66%|██████▌   | 132/200 [00:00<00:00, 217.65it/s]\u001b[A\n",
      "Explain node 1937:  78%|███████▊  | 155/200 [00:00<00:00, 218.74it/s]\u001b[A\n",
      "Explain node 1937:  88%|████████▊ | 177/200 [00:00<00:00, 218.86it/s]\u001b[A\n",
      "Explain node 1937: 100%|██████████| 200/200 [00:00<00:00, 218.84it/s]\u001b[A\n"
     ]
    },
    {
     "name": "stdout",
     "output_type": "stream",
     "text": [
      "Accuracy on Model:  53.78151260504202\n",
      "Accuracy on EVAL-XG:  59.2436974789916\n"
     ]
    },
    {
     "name": "stderr",
     "output_type": "stream",
     "text": [
      "\n",
      "  0%|          | 0/200 [00:00<?, ?it/s]\u001b[A\n",
      "Explain node 1938:   0%|          | 0/200 [00:00<?, ?it/s]\u001b[A\n",
      "Explain node 1938:  11%|█         | 22/200 [00:00<00:00, 219.76it/s]\u001b[A\n",
      "Explain node 1938:  22%|██▎       | 45/200 [00:00<00:00, 220.14it/s]\u001b[A\n",
      "Explain node 1938:  34%|███▍      | 68/200 [00:00<00:00, 219.78it/s]\u001b[A\n",
      "Explain node 1938:  46%|████▌     | 91/200 [00:00<00:00, 221.66it/s]\u001b[A\n",
      "Explain node 1938:  57%|█████▋    | 114/200 [00:00<00:00, 222.00it/s]\u001b[A\n",
      "Explain node 1938:  68%|██████▊   | 137/200 [00:00<00:00, 221.44it/s]\u001b[A\n",
      "Explain node 1938:  80%|████████  | 160/200 [00:00<00:00, 221.59it/s]\u001b[A\n",
      "Explain node 1938: 100%|██████████| 200/200 [00:00<00:00, 220.61it/s]\u001b[A\n"
     ]
    },
    {
     "name": "stdout",
     "output_type": "stream",
     "text": [
      "Accuracy on Model:  53.97489539748954\n",
      "Accuracy on EVAL-XG:  59.41422594142259\n"
     ]
    },
    {
     "name": "stderr",
     "output_type": "stream",
     "text": [
      "\n",
      "  0%|          | 0/200 [00:00<?, ?it/s]\u001b[A\n",
      "Explain node 1939:   0%|          | 0/200 [00:00<?, ?it/s]\u001b[A\n",
      "Explain node 1939:  12%|█▏        | 23/200 [00:00<00:00, 220.11it/s]\u001b[A\n",
      "Explain node 1939:  23%|██▎       | 46/200 [00:00<00:00, 221.85it/s]\u001b[A\n",
      "Explain node 1939:  34%|███▍      | 69/200 [00:00<00:00, 221.84it/s]\u001b[A\n",
      "Explain node 1939:  46%|████▌     | 92/200 [00:00<00:00, 220.98it/s]\u001b[A\n",
      "Explain node 1939:  57%|█████▊    | 115/200 [00:00<00:00, 221.01it/s]\u001b[A\n",
      "Explain node 1939:  69%|██████▉   | 138/200 [00:00<00:00, 221.22it/s]\u001b[A\n",
      "Explain node 1939:  80%|████████  | 161/200 [00:00<00:00, 220.19it/s]\u001b[A\n",
      "Explain node 1939: 100%|██████████| 200/200 [00:00<00:00, 220.49it/s]\u001b[A\n"
     ]
    },
    {
     "name": "stdout",
     "output_type": "stream",
     "text": [
      "Accuracy on Model:  54.166666666666664\n",
      "Accuracy on EVAL-XG:  59.583333333333336\n"
     ]
    },
    {
     "name": "stderr",
     "output_type": "stream",
     "text": [
      "\n",
      "  0%|          | 0/200 [00:00<?, ?it/s]\u001b[A\n",
      "Explain node 1940:   0%|          | 0/200 [00:00<?, ?it/s]\u001b[A\n",
      "Explain node 1940:  11%|█         | 22/200 [00:00<00:00, 214.90it/s]\u001b[A\n",
      "Explain node 1940:  22%|██▎       | 45/200 [00:00<00:00, 218.65it/s]\u001b[A\n",
      "Explain node 1940:  34%|███▎      | 67/200 [00:00<00:00, 211.28it/s]\u001b[A\n",
      "Explain node 1940:  45%|████▌     | 90/200 [00:00<00:00, 214.85it/s]\u001b[A\n",
      "Explain node 1940:  56%|█████▋    | 113/200 [00:00<00:00, 217.00it/s]\u001b[A\n",
      "Explain node 1940:  68%|██████▊   | 136/200 [00:00<00:00, 219.14it/s]\u001b[A\n",
      "Explain node 1940:  80%|███████▉  | 159/200 [00:00<00:00, 220.30it/s]\u001b[A\n",
      "Explain node 1940: 100%|██████████| 200/200 [00:00<00:00, 218.95it/s]\u001b[A\n"
     ]
    },
    {
     "name": "stdout",
     "output_type": "stream",
     "text": [
      "Accuracy on Model:  53.941908713692946\n",
      "Accuracy on EVAL-XG:  59.33609958506224\n"
     ]
    },
    {
     "name": "stderr",
     "output_type": "stream",
     "text": [
      "\n",
      "  0%|          | 0/200 [00:00<?, ?it/s]\u001b[A\n",
      "Explain node 1941:   0%|          | 0/200 [00:00<?, ?it/s]\u001b[A\n",
      "Explain node 1941:  11%|█         | 22/200 [00:00<00:00, 219.91it/s]\u001b[A\n",
      "Explain node 1941:  22%|██▏       | 44/200 [00:00<00:00, 216.56it/s]\u001b[A\n",
      "Explain node 1941:  33%|███▎      | 66/200 [00:00<00:00, 211.70it/s]\u001b[A\n",
      "Explain node 1941:  44%|████▍     | 88/200 [00:00<00:00, 207.87it/s]\u001b[A\n",
      "Explain node 1941:  55%|█████▍    | 109/200 [00:00<00:00, 204.70it/s]\u001b[A\n",
      "Explain node 1941:  65%|██████▌   | 130/200 [00:00<00:00, 204.19it/s]\u001b[A\n",
      "Explain node 1941:  76%|███████▌  | 151/200 [00:00<00:00, 202.50it/s]\u001b[A\n",
      "Explain node 1941:  87%|████████▋ | 174/200 [00:00<00:00, 208.97it/s]\u001b[A\n",
      "Explain node 1941: 100%|██████████| 200/200 [00:00<00:00, 206.71it/s]\u001b[A\n"
     ]
    },
    {
     "name": "stdout",
     "output_type": "stream",
     "text": [
      "Accuracy on Model:  54.132231404958674\n",
      "Accuracy on EVAL-XG:  59.50413223140496\n"
     ]
    },
    {
     "name": "stderr",
     "output_type": "stream",
     "text": [
      "\n",
      "  0%|          | 0/200 [00:00<?, ?it/s]\u001b[A\n",
      "Explain node 1942:   0%|          | 0/200 [00:00<?, ?it/s]\u001b[A\n",
      "Explain node 1942:  10%|█         | 21/200 [00:00<00:00, 202.29it/s]\u001b[A\n",
      "Explain node 1942:  22%|██▏       | 43/200 [00:00<00:00, 211.39it/s]\u001b[A\n",
      "Explain node 1942:  33%|███▎      | 66/200 [00:00<00:00, 217.44it/s]\u001b[A\n",
      "Explain node 1942:  44%|████▍     | 89/200 [00:00<00:00, 219.70it/s]\u001b[A\n",
      "Explain node 1942:  56%|█████▌    | 112/200 [00:00<00:00, 220.92it/s]\u001b[A\n",
      "Explain node 1942:  68%|██████▊   | 135/200 [00:00<00:00, 218.23it/s]\u001b[A\n",
      "Explain node 1942:  78%|███████▊  | 157/200 [00:00<00:00, 216.53it/s]\u001b[A\n",
      "Explain node 1942:  90%|████████▉ | 179/200 [00:00<00:00, 207.62it/s]\u001b[A\n",
      "Explain node 1942: 100%|██████████| 200/200 [00:00<00:00, 211.16it/s]\u001b[A\n"
     ]
    },
    {
     "name": "stdout",
     "output_type": "stream",
     "text": [
      "Accuracy on Model:  54.32098765432099\n",
      "Accuracy on EVAL-XG:  59.67078189300411\n"
     ]
    },
    {
     "name": "stderr",
     "output_type": "stream",
     "text": [
      "\n",
      "  0%|          | 0/200 [00:00<?, ?it/s]\u001b[A\n",
      "Explain node 1943:   0%|          | 0/200 [00:00<?, ?it/s]\u001b[A\n",
      "Explain node 1943:  12%|█▏        | 23/200 [00:00<00:00, 219.79it/s]\u001b[A\n",
      "Explain node 1943:  22%|██▎       | 45/200 [00:00<00:00, 217.60it/s]\u001b[A\n",
      "Explain node 1943:  34%|███▎      | 67/200 [00:00<00:00, 215.57it/s]\u001b[A\n",
      "Explain node 1943:  45%|████▌     | 90/200 [00:00<00:00, 219.24it/s]\u001b[A\n",
      "Explain node 1943:  56%|█████▌    | 112/200 [00:00<00:00, 217.56it/s]\u001b[A\n",
      "Explain node 1943:  67%|██████▋   | 134/200 [00:00<00:00, 216.13it/s]\u001b[A\n",
      "Explain node 1943:  78%|███████▊  | 157/200 [00:00<00:00, 219.30it/s]\u001b[A\n",
      "Explain node 1943: 100%|██████████| 200/200 [00:00<00:00, 219.18it/s]\u001b[A\n"
     ]
    },
    {
     "name": "stdout",
     "output_type": "stream",
     "text": [
      "Accuracy on Model:  54.09836065573771\n",
      "Accuracy on EVAL-XG:  59.83606557377049\n"
     ]
    },
    {
     "name": "stderr",
     "output_type": "stream",
     "text": [
      "\n",
      "  0%|          | 0/200 [00:00<?, ?it/s]\u001b[A\n",
      "Explain node 1944:   0%|          | 0/200 [00:00<?, ?it/s]\u001b[A\n",
      "Explain node 1944:  12%|█▏        | 23/200 [00:00<00:00, 224.41it/s]\u001b[A\n",
      "Explain node 1944:  23%|██▎       | 46/200 [00:00<00:00, 225.01it/s]\u001b[A\n",
      "Explain node 1944:  34%|███▍      | 69/200 [00:00<00:00, 224.73it/s]\u001b[A\n",
      "Explain node 1944:  46%|████▌     | 92/200 [00:00<00:00, 224.63it/s]\u001b[A\n",
      "Explain node 1944:  57%|█████▊    | 115/200 [00:00<00:00, 224.29it/s]\u001b[A\n",
      "Explain node 1944:  69%|██████▉   | 138/200 [00:00<00:00, 223.27it/s]\u001b[A\n",
      "Explain node 1944:  80%|████████  | 161/200 [00:00<00:00, 223.53it/s]\u001b[A\n",
      "Explain node 1944: 100%|██████████| 200/200 [00:00<00:00, 219.40it/s]\u001b[A\n"
     ]
    },
    {
     "name": "stdout",
     "output_type": "stream",
     "text": [
      "Accuracy on Model:  54.285714285714285\n",
      "Accuracy on EVAL-XG:  60.0\n"
     ]
    },
    {
     "name": "stderr",
     "output_type": "stream",
     "text": [
      "\n",
      "  0%|          | 0/200 [00:00<?, ?it/s]\u001b[A\n",
      "Explain node 1945:   0%|          | 0/200 [00:00<?, ?it/s]\u001b[A\n",
      "Explain node 1945:  10%|█         | 20/200 [00:00<00:00, 198.91it/s]\u001b[A\n",
      "Explain node 1945:  20%|██        | 41/200 [00:00<00:00, 203.01it/s]\u001b[A\n",
      "Explain node 1945:  32%|███▏      | 63/200 [00:00<00:00, 207.10it/s]\u001b[A\n",
      "Explain node 1945:  42%|████▎     | 85/200 [00:00<00:00, 209.85it/s]\u001b[A\n",
      "Explain node 1945:  54%|█████▍    | 108/200 [00:00<00:00, 213.75it/s]\u001b[A\n",
      "Explain node 1945:  65%|██████▌   | 130/200 [00:00<00:00, 210.67it/s]\u001b[A\n",
      "Explain node 1945:  76%|███████▌  | 152/200 [00:00<00:00, 209.68it/s]\u001b[A\n",
      "Explain node 1945:  88%|████████▊ | 175/200 [00:00<00:00, 215.68it/s]\u001b[A\n",
      "Explain node 1945: 100%|██████████| 200/200 [00:00<00:00, 212.41it/s]\u001b[A\n"
     ]
    },
    {
     "name": "stdout",
     "output_type": "stream",
     "text": [
      "Accuracy on Model:  54.0650406504065\n",
      "Accuracy on EVAL-XG:  59.756097560975604\n"
     ]
    },
    {
     "name": "stderr",
     "output_type": "stream",
     "text": [
      "\n",
      "  0%|          | 0/200 [00:00<?, ?it/s]\u001b[A\n",
      "Explain node 1946:   0%|          | 0/200 [00:00<?, ?it/s]\u001b[A\n",
      "Explain node 1946:  12%|█▏        | 23/200 [00:00<00:00, 224.44it/s]\u001b[A\n",
      "Explain node 1946:  23%|██▎       | 46/200 [00:00<00:00, 220.93it/s]\u001b[A\n",
      "Explain node 1946:  34%|███▍      | 69/200 [00:00<00:00, 221.88it/s]\u001b[A\n",
      "Explain node 1946:  46%|████▌     | 92/200 [00:00<00:00, 219.43it/s]\u001b[A\n",
      "Explain node 1946:  57%|█████▋    | 114/200 [00:00<00:00, 218.18it/s]\u001b[A\n",
      "Explain node 1946:  68%|██████▊   | 137/200 [00:00<00:00, 219.49it/s]\u001b[A\n",
      "Explain node 1946:  80%|███████▉  | 159/200 [00:00<00:00, 219.44it/s]\u001b[A\n",
      "Explain node 1946: 100%|██████████| 200/200 [00:00<00:00, 220.34it/s]\u001b[A\n"
     ]
    },
    {
     "name": "stdout",
     "output_type": "stream",
     "text": [
      "Accuracy on Model:  54.25101214574899\n",
      "Accuracy on EVAL-XG:  59.91902834008097\n"
     ]
    },
    {
     "name": "stderr",
     "output_type": "stream",
     "text": [
      "\n",
      "  0%|          | 0/200 [00:00<?, ?it/s]\u001b[A\n",
      "Explain node 1947:   0%|          | 0/200 [00:00<?, ?it/s]\u001b[A\n",
      "Explain node 1947:  12%|█▏        | 23/200 [00:00<00:00, 224.89it/s]\u001b[A\n",
      "Explain node 1947:  23%|██▎       | 46/200 [00:00<00:00, 221.82it/s]\u001b[A\n",
      "Explain node 1947:  34%|███▍      | 69/200 [00:00<00:00, 221.38it/s]\u001b[A\n",
      "Explain node 1947:  46%|████▌     | 92/200 [00:00<00:00, 221.18it/s]\u001b[A\n",
      "Explain node 1947:  57%|█████▊    | 115/200 [00:00<00:00, 223.39it/s]\u001b[A\n",
      "Explain node 1947:  69%|██████▉   | 138/200 [00:00<00:00, 218.64it/s]\u001b[A\n",
      "Explain node 1947:  80%|████████  | 160/200 [00:00<00:00, 210.96it/s]\u001b[A\n",
      "Explain node 1947: 100%|██████████| 200/200 [00:00<00:00, 217.03it/s]\u001b[A\n"
     ]
    },
    {
     "name": "stdout",
     "output_type": "stream",
     "text": [
      "Accuracy on Model:  54.03225806451613\n",
      "Accuracy on EVAL-XG:  59.67741935483871\n"
     ]
    },
    {
     "name": "stderr",
     "output_type": "stream",
     "text": [
      "\n",
      "  0%|          | 0/200 [00:00<?, ?it/s]\u001b[A\n",
      "Explain node 1948:   0%|          | 0/200 [00:00<?, ?it/s]\u001b[A\n",
      "Explain node 1948:  11%|█         | 22/200 [00:00<00:00, 218.83it/s]\u001b[A\n",
      "Explain node 1948:  22%|██▏       | 44/200 [00:00<00:00, 218.91it/s]\u001b[A\n",
      "Explain node 1948:  33%|███▎      | 66/200 [00:00<00:00, 215.67it/s]\u001b[A\n",
      "Explain node 1948:  44%|████▍     | 88/200 [00:00<00:00, 210.31it/s]\u001b[A\n",
      "Explain node 1948:  56%|█████▌    | 111/200 [00:00<00:00, 216.67it/s]\u001b[A\n",
      "Explain node 1948:  66%|██████▋   | 133/200 [00:00<00:00, 216.73it/s]\u001b[A\n",
      "Explain node 1948:  78%|███████▊  | 155/200 [00:00<00:00, 217.22it/s]\u001b[A\n",
      "Explain node 1948:  89%|████████▉ | 178/200 [00:00<00:00, 218.50it/s]\u001b[A\n",
      "Explain node 1948: 100%|██████████| 200/200 [00:00<00:00, 216.90it/s]\u001b[A\n"
     ]
    },
    {
     "name": "stdout",
     "output_type": "stream",
     "text": [
      "Accuracy on Model:  53.81526104417671\n",
      "Accuracy on EVAL-XG:  59.43775100401606\n"
     ]
    },
    {
     "name": "stderr",
     "output_type": "stream",
     "text": [
      "\n",
      "  0%|          | 0/200 [00:00<?, ?it/s]\u001b[A\n",
      "Explain node 1949:   0%|          | 0/200 [00:00<?, ?it/s]\u001b[A\n",
      "Explain node 1949:  10%|█         | 21/200 [00:00<00:00, 204.04it/s]\u001b[A\n",
      "Explain node 1949:  21%|██        | 42/200 [00:00<00:00, 201.82it/s]\u001b[A\n",
      "Explain node 1949:  32%|███▏      | 64/200 [00:00<00:00, 206.54it/s]\u001b[A\n",
      "Explain node 1949:  44%|████▎     | 87/200 [00:00<00:00, 212.14it/s]\u001b[A\n",
      "Explain node 1949:  55%|█████▌    | 110/200 [00:00<00:00, 216.41it/s]\u001b[A\n",
      "Explain node 1949:  66%|██████▋   | 133/200 [00:00<00:00, 218.04it/s]\u001b[A\n",
      "Explain node 1949:  78%|███████▊  | 155/200 [00:00<00:00, 218.19it/s]\u001b[A\n",
      "Explain node 1949:  89%|████████▉ | 178/200 [00:00<00:00, 219.44it/s]\u001b[A\n",
      "Explain node 1949: 100%|██████████| 200/200 [00:00<00:00, 215.17it/s]\u001b[A\n"
     ]
    },
    {
     "name": "stdout",
     "output_type": "stream",
     "text": [
      "Accuracy on Model:  53.6\n",
      "Accuracy on EVAL-XG:  59.199999999999996\n"
     ]
    },
    {
     "name": "stderr",
     "output_type": "stream",
     "text": [
      "\n",
      "  0%|          | 0/200 [00:00<?, ?it/s]\u001b[A\n",
      "Explain node 1950:   0%|          | 0/200 [00:00<?, ?it/s]\u001b[A\n",
      "Explain node 1950:  11%|█         | 22/200 [00:00<00:00, 219.49it/s]\u001b[A\n",
      "Explain node 1950:  22%|██▎       | 45/200 [00:00<00:00, 224.55it/s]\u001b[A\n",
      "Explain node 1950:  34%|███▍      | 68/200 [00:00<00:00, 223.56it/s]\u001b[A\n",
      "Explain node 1950:  46%|████▌     | 91/200 [00:00<00:00, 223.01it/s]\u001b[A\n",
      "Explain node 1950:  57%|█████▋    | 114/200 [00:00<00:00, 216.30it/s]\u001b[A\n",
      "Explain node 1950:  68%|██████▊   | 136/200 [00:00<00:00, 213.68it/s]\u001b[A\n",
      "Explain node 1950:  79%|███████▉  | 158/200 [00:00<00:00, 210.18it/s]\u001b[A\n",
      "Explain node 1950: 100%|██████████| 200/200 [00:00<00:00, 214.42it/s]\u001b[A\n"
     ]
    },
    {
     "name": "stdout",
     "output_type": "stream",
     "text": [
      "Accuracy on Model:  53.38645418326693\n",
      "Accuracy on EVAL-XG:  58.964143426294825\n"
     ]
    },
    {
     "name": "stderr",
     "output_type": "stream",
     "text": [
      "\n",
      "  0%|          | 0/200 [00:00<?, ?it/s]\u001b[A\n",
      "Explain node 1951:   0%|          | 0/200 [00:00<?, ?it/s]\u001b[A\n",
      "Explain node 1951:  10%|█         | 21/200 [00:00<00:00, 207.32it/s]\u001b[A\n",
      "Explain node 1951:  21%|██        | 42/200 [00:00<00:00, 202.38it/s]\u001b[A\n",
      "Explain node 1951:  32%|███▏      | 63/200 [00:00<00:00, 203.70it/s]\u001b[A\n",
      "Explain node 1951:  42%|████▎     | 85/200 [00:00<00:00, 209.98it/s]\u001b[A\n",
      "Explain node 1951:  54%|█████▎    | 107/200 [00:00<00:00, 212.55it/s]\u001b[A\n",
      "Explain node 1951:  65%|██████▌   | 130/200 [00:00<00:00, 215.90it/s]\u001b[A\n",
      "Explain node 1951:  76%|███████▌  | 152/200 [00:00<00:00, 216.06it/s]\u001b[A\n",
      "Explain node 1951:  87%|████████▋ | 174/200 [00:00<00:00, 216.71it/s]\u001b[A\n",
      "Explain node 1951: 100%|██████████| 200/200 [00:00<00:00, 213.48it/s]\u001b[A\n"
     ]
    },
    {
     "name": "stdout",
     "output_type": "stream",
     "text": [
      "Accuracy on Model:  53.17460317460318\n",
      "Accuracy on EVAL-XG:  58.730158730158735\n"
     ]
    },
    {
     "name": "stderr",
     "output_type": "stream",
     "text": [
      "\n",
      "  0%|          | 0/200 [00:00<?, ?it/s]\u001b[A\n",
      "Explain node 1952:   0%|          | 0/200 [00:00<?, ?it/s]\u001b[A\n",
      "Explain node 1952:  11%|█         | 22/200 [00:00<00:00, 215.86it/s]\u001b[A\n",
      "Explain node 1952:  22%|██▏       | 44/200 [00:00<00:00, 212.40it/s]\u001b[A\n",
      "Explain node 1952:  34%|███▎      | 67/200 [00:00<00:00, 216.18it/s]\u001b[A\n",
      "Explain node 1952:  44%|████▍     | 89/200 [00:00<00:00, 216.17it/s]\u001b[A\n",
      "Explain node 1952:  56%|█████▌    | 111/200 [00:00<00:00, 216.66it/s]\u001b[A\n",
      "Explain node 1952:  66%|██████▋   | 133/200 [00:00<00:00, 215.41it/s]\u001b[A\n",
      "Explain node 1952:  78%|███████▊  | 155/200 [00:00<00:00, 216.65it/s]\u001b[A\n",
      "Explain node 1952:  88%|████████▊ | 177/200 [00:00<00:00, 211.97it/s]\u001b[A\n",
      "Explain node 1952: 100%|██████████| 200/200 [00:00<00:00, 214.40it/s]\u001b[A\n"
     ]
    },
    {
     "name": "stdout",
     "output_type": "stream",
     "text": [
      "Accuracy on Model:  52.96442687747036\n",
      "Accuracy on EVAL-XG:  58.498023715415016\n"
     ]
    },
    {
     "name": "stderr",
     "output_type": "stream",
     "text": [
      "\n",
      "  0%|          | 0/200 [00:00<?, ?it/s]\u001b[A\n",
      "Explain node 1953:   0%|          | 0/200 [00:00<?, ?it/s]\u001b[A\n",
      "Explain node 1953:  11%|█         | 22/200 [00:00<00:00, 219.37it/s]\u001b[A\n",
      "Explain node 1953:  22%|██▏       | 44/200 [00:00<00:00, 209.53it/s]\u001b[A\n",
      "Explain node 1953:  32%|███▎      | 65/200 [00:00<00:00, 209.29it/s]\u001b[A\n",
      "Explain node 1953:  44%|████▎     | 87/200 [00:00<00:00, 211.86it/s]\u001b[A\n",
      "Explain node 1953:  55%|█████▍    | 109/200 [00:00<00:00, 213.20it/s]\u001b[A\n",
      "Explain node 1953:  66%|██████▌   | 131/200 [00:00<00:00, 213.47it/s]\u001b[A\n",
      "Explain node 1953:  76%|███████▋  | 153/200 [00:00<00:00, 214.91it/s]\u001b[A\n",
      "Explain node 1953:  88%|████████▊ | 175/200 [00:00<00:00, 212.23it/s]\u001b[A\n",
      "Explain node 1953: 100%|██████████| 200/200 [00:00<00:00, 211.77it/s]\u001b[A\n"
     ]
    },
    {
     "name": "stdout",
     "output_type": "stream",
     "text": [
      "Accuracy on Model:  53.14960629921261\n",
      "Accuracy on EVAL-XG:  58.661417322834644\n"
     ]
    },
    {
     "name": "stderr",
     "output_type": "stream",
     "text": [
      "\n",
      "  0%|          | 0/200 [00:00<?, ?it/s]\u001b[A\n",
      "Explain node 1954:   0%|          | 0/200 [00:00<?, ?it/s]\u001b[A\n",
      "Explain node 1954:  10%|█         | 21/200 [00:00<00:00, 204.62it/s]\u001b[A\n",
      "Explain node 1954:  22%|██▏       | 43/200 [00:00<00:00, 210.45it/s]\u001b[A\n",
      "Explain node 1954:  32%|███▎      | 65/200 [00:00<00:00, 210.42it/s]\u001b[A\n",
      "Explain node 1954:  44%|████▎     | 87/200 [00:00<00:00, 209.38it/s]\u001b[A\n",
      "Explain node 1954:  54%|█████▍    | 108/200 [00:00<00:00, 208.53it/s]\u001b[A\n",
      "Explain node 1954:  65%|██████▌   | 130/200 [00:00<00:00, 211.90it/s]\u001b[A\n",
      "Explain node 1954:  76%|███████▌  | 152/200 [00:00<00:00, 212.55it/s]\u001b[A\n",
      "Explain node 1954:  87%|████████▋ | 174/200 [00:00<00:00, 212.63it/s]\u001b[A\n",
      "Explain node 1954: 100%|██████████| 200/200 [00:00<00:00, 212.46it/s]\u001b[A\n"
     ]
    },
    {
     "name": "stdout",
     "output_type": "stream",
     "text": [
      "Accuracy on Model:  52.94117647058824\n",
      "Accuracy on EVAL-XG:  58.43137254901961\n"
     ]
    },
    {
     "name": "stderr",
     "output_type": "stream",
     "text": [
      "\n",
      "  0%|          | 0/200 [00:00<?, ?it/s]\u001b[A\n",
      "Explain node 1955:   0%|          | 0/200 [00:00<?, ?it/s]\u001b[A\n",
      "Explain node 1955:  11%|█         | 22/200 [00:00<00:00, 218.21it/s]\u001b[A\n",
      "Explain node 1955:  22%|██▏       | 44/200 [00:00<00:00, 217.27it/s]\u001b[A\n",
      "Explain node 1955:  33%|███▎      | 66/200 [00:00<00:00, 212.79it/s]\u001b[A\n",
      "Explain node 1955:  44%|████▍     | 88/200 [00:00<00:00, 211.54it/s]\u001b[A\n",
      "Explain node 1955:  55%|█████▌    | 110/200 [00:00<00:00, 208.45it/s]\u001b[A\n",
      "Explain node 1955:  66%|██████▌   | 131/200 [00:00<00:00, 207.49it/s]\u001b[A\n",
      "Explain node 1955:  76%|███████▋  | 153/200 [00:00<00:00, 211.03it/s]\u001b[A\n",
      "Explain node 1955:  88%|████████▊ | 175/200 [00:00<00:00, 211.17it/s]\u001b[A\n",
      "Explain node 1955: 100%|██████████| 200/200 [00:00<00:00, 211.49it/s]\u001b[A\n"
     ]
    },
    {
     "name": "stdout",
     "output_type": "stream",
     "text": [
      "Accuracy on Model:  53.125\n",
      "Accuracy on EVAL-XG:  58.59375\n"
     ]
    },
    {
     "name": "stderr",
     "output_type": "stream",
     "text": [
      "\n",
      "  0%|          | 0/200 [00:00<?, ?it/s]\u001b[A\n",
      "Explain node 1956:   0%|          | 0/200 [00:00<?, ?it/s]\u001b[A\n",
      "Explain node 1956:  10%|█         | 21/200 [00:00<00:00, 201.13it/s]\u001b[A\n",
      "Explain node 1956:  21%|██        | 42/200 [00:00<00:00, 205.28it/s]\u001b[A\n",
      "Explain node 1956:  32%|███▏      | 64/200 [00:00<00:00, 209.67it/s]\u001b[A\n",
      "Explain node 1956:  43%|████▎     | 86/200 [00:00<00:00, 210.05it/s]\u001b[A\n",
      "Explain node 1956:  54%|█████▍    | 108/200 [00:00<00:00, 210.81it/s]\u001b[A\n",
      "Explain node 1956:  65%|██████▌   | 130/200 [00:00<00:00, 209.85it/s]\u001b[A\n",
      "Explain node 1956:  76%|███████▌  | 152/200 [00:00<00:00, 212.60it/s]\u001b[A\n",
      "Explain node 1956:  87%|████████▋ | 174/200 [00:00<00:00, 211.73it/s]\u001b[A\n",
      "Explain node 1956: 100%|██████████| 200/200 [00:00<00:00, 211.57it/s]\u001b[A\n"
     ]
    },
    {
     "name": "stdout",
     "output_type": "stream",
     "text": [
      "Accuracy on Model:  52.918287937743195\n",
      "Accuracy on EVAL-XG:  58.36575875486382\n"
     ]
    },
    {
     "name": "stderr",
     "output_type": "stream",
     "text": [
      "\n",
      "  0%|          | 0/200 [00:00<?, ?it/s]\u001b[A\n",
      "Explain node 1957:   0%|          | 0/200 [00:00<?, ?it/s]\u001b[A\n",
      "Explain node 1957:  12%|█▏        | 23/200 [00:00<00:00, 222.96it/s]\u001b[A\n",
      "Explain node 1957:  23%|██▎       | 46/200 [00:00<00:00, 222.13it/s]\u001b[A\n",
      "Explain node 1957:  34%|███▍      | 69/200 [00:00<00:00, 221.69it/s]\u001b[A\n",
      "Explain node 1957:  46%|████▌     | 92/200 [00:00<00:00, 213.97it/s]\u001b[A\n",
      "Explain node 1957:  57%|█████▋    | 114/200 [00:00<00:00, 215.58it/s]\u001b[A\n",
      "Explain node 1957:  68%|██████▊   | 137/200 [00:00<00:00, 219.47it/s]\u001b[A\n",
      "Explain node 1957:  80%|████████  | 160/200 [00:00<00:00, 220.53it/s]\u001b[A\n",
      "Explain node 1957: 100%|██████████| 200/200 [00:00<00:00, 219.36it/s]\u001b[A\n"
     ]
    },
    {
     "name": "stdout",
     "output_type": "stream",
     "text": [
      "Accuracy on Model:  53.100775193798455\n",
      "Accuracy on EVAL-XG:  58.52713178294574\n"
     ]
    },
    {
     "name": "stderr",
     "output_type": "stream",
     "text": [
      "\n",
      "  0%|          | 0/200 [00:00<?, ?it/s]\u001b[A\n",
      "Explain node 1958:   0%|          | 0/200 [00:00<?, ?it/s]\u001b[A\n",
      "Explain node 1958:  10%|█         | 20/200 [00:00<00:00, 198.54it/s]\u001b[A\n",
      "Explain node 1958:  20%|██        | 41/200 [00:00<00:00, 201.00it/s]\u001b[A\n",
      "Explain node 1958:  31%|███       | 62/200 [00:00<00:00, 204.85it/s]\u001b[A\n",
      "Explain node 1958:  42%|████▏     | 84/200 [00:00<00:00, 208.36it/s]\u001b[A\n",
      "Explain node 1958:  53%|█████▎    | 106/200 [00:00<00:00, 210.63it/s]\u001b[A\n",
      "Explain node 1958:  64%|██████▍   | 129/200 [00:00<00:00, 214.68it/s]\u001b[A\n",
      "Explain node 1958:  76%|███████▌  | 152/200 [00:00<00:00, 218.45it/s]\u001b[A\n",
      "Explain node 1958:  87%|████████▋ | 174/200 [00:00<00:00, 218.79it/s]\u001b[A\n",
      "Explain node 1958: 100%|██████████| 200/200 [00:00<00:00, 213.43it/s]\u001b[A\n"
     ]
    },
    {
     "name": "stdout",
     "output_type": "stream",
     "text": [
      "Accuracy on Model:  52.8957528957529\n",
      "Accuracy on EVAL-XG:  58.301158301158296\n"
     ]
    },
    {
     "name": "stderr",
     "output_type": "stream",
     "text": [
      "\n",
      "  0%|          | 0/200 [00:00<?, ?it/s]\u001b[A\n",
      "Explain node 1959:   0%|          | 0/200 [00:00<?, ?it/s]\u001b[A\n",
      "Explain node 1959:  12%|█▏        | 23/200 [00:00<00:00, 222.88it/s]\u001b[A\n",
      "Explain node 1959:  23%|██▎       | 46/200 [00:00<00:00, 214.07it/s]\u001b[A\n",
      "Explain node 1959:  34%|███▍      | 68/200 [00:00<00:00, 210.09it/s]\u001b[A\n",
      "Explain node 1959:  45%|████▌     | 90/200 [00:00<00:00, 213.05it/s]\u001b[A\n",
      "Explain node 1959:  56%|█████▌    | 112/200 [00:00<00:00, 215.25it/s]\u001b[A\n",
      "Explain node 1959:  68%|██████▊   | 135/200 [00:00<00:00, 218.84it/s]\u001b[A\n",
      "Explain node 1959:  79%|███████▉  | 158/200 [00:00<00:00, 220.22it/s]\u001b[A\n",
      "Explain node 1959: 100%|██████████| 200/200 [00:00<00:00, 217.79it/s]\u001b[A\n"
     ]
    },
    {
     "name": "stdout",
     "output_type": "stream",
     "text": [
      "Accuracy on Model:  52.69230769230769\n",
      "Accuracy on EVAL-XG:  58.46153846153847\n"
     ]
    },
    {
     "name": "stderr",
     "output_type": "stream",
     "text": [
      "\n",
      "  0%|          | 0/200 [00:00<?, ?it/s]\u001b[A\n",
      "Explain node 1960:   0%|          | 0/200 [00:00<?, ?it/s]\u001b[A\n",
      "Explain node 1960:  12%|█▏        | 23/200 [00:00<00:00, 220.96it/s]\u001b[A\n",
      "Explain node 1960:  23%|██▎       | 46/200 [00:00<00:00, 221.86it/s]\u001b[A\n",
      "Explain node 1960:  34%|███▍      | 69/200 [00:00<00:00, 220.78it/s]\u001b[A\n",
      "Explain node 1960:  46%|████▌     | 92/200 [00:00<00:00, 218.96it/s]\u001b[A\n",
      "Explain node 1960:  57%|█████▊    | 115/200 [00:00<00:00, 219.42it/s]\u001b[A\n",
      "Explain node 1960:  68%|██████▊   | 137/200 [00:00<00:00, 218.57it/s]\u001b[A\n",
      "Explain node 1960:  80%|███████▉  | 159/200 [00:00<00:00, 217.84it/s]\u001b[A\n",
      "Explain node 1960: 100%|██████████| 200/200 [00:00<00:00, 218.93it/s]\u001b[A\n"
     ]
    },
    {
     "name": "stdout",
     "output_type": "stream",
     "text": [
      "Accuracy on Model:  52.87356321839081\n",
      "Accuracy on EVAL-XG:  58.620689655172406\n"
     ]
    },
    {
     "name": "stderr",
     "output_type": "stream",
     "text": [
      "\n",
      "  0%|          | 0/200 [00:00<?, ?it/s]\u001b[A\n",
      "Explain node 1961:   0%|          | 0/200 [00:00<?, ?it/s]\u001b[A\n",
      "Explain node 1961:  12%|█▏        | 23/200 [00:00<00:00, 223.46it/s]\u001b[A\n",
      "Explain node 1961:  23%|██▎       | 46/200 [00:00<00:00, 221.77it/s]\u001b[A\n",
      "Explain node 1961:  34%|███▍      | 69/200 [00:00<00:00, 222.22it/s]\u001b[A\n",
      "Explain node 1961:  46%|████▌     | 92/200 [00:00<00:00, 221.81it/s]\u001b[A\n",
      "Explain node 1961:  58%|█████▊    | 116/200 [00:00<00:00, 224.85it/s]\u001b[A\n",
      "Explain node 1961:  70%|██████▉   | 139/200 [00:00<00:00, 222.37it/s]\u001b[A\n",
      "Explain node 1961:  81%|████████  | 162/200 [00:00<00:00, 220.31it/s]\u001b[A\n",
      "Explain node 1961: 100%|██████████| 200/200 [00:00<00:00, 220.95it/s]\u001b[A\n"
     ]
    },
    {
     "name": "stdout",
     "output_type": "stream",
     "text": [
      "Accuracy on Model:  52.67175572519084\n",
      "Accuracy on EVAL-XG:  58.396946564885496\n"
     ]
    },
    {
     "name": "stderr",
     "output_type": "stream",
     "text": [
      "\n",
      "  0%|          | 0/200 [00:00<?, ?it/s]\u001b[A\n",
      "Explain node 1962:   0%|          | 0/200 [00:00<?, ?it/s]\u001b[A\n",
      "Explain node 1962:  12%|█▏        | 23/200 [00:00<00:00, 223.47it/s]\u001b[A\n",
      "Explain node 1962:  23%|██▎       | 46/200 [00:00<00:00, 220.33it/s]\u001b[A\n",
      "Explain node 1962:  34%|███▍      | 69/200 [00:00<00:00, 215.32it/s]\u001b[A\n",
      "Explain node 1962:  46%|████▌     | 91/200 [00:00<00:00, 210.03it/s]\u001b[A\n",
      "Explain node 1962:  56%|█████▋    | 113/200 [00:00<00:00, 209.95it/s]\u001b[A\n",
      "Explain node 1962:  68%|██████▊   | 135/200 [00:00<00:00, 211.67it/s]\u001b[A\n",
      "Explain node 1962:  78%|███████▊  | 157/200 [00:00<00:00, 213.63it/s]\u001b[A\n",
      "Explain node 1962: 100%|██████████| 200/200 [00:00<00:00, 212.97it/s]\u001b[A\n"
     ]
    },
    {
     "name": "stdout",
     "output_type": "stream",
     "text": [
      "Accuracy on Model:  52.851711026615966\n",
      "Accuracy on EVAL-XG:  58.55513307984791\n"
     ]
    },
    {
     "name": "stderr",
     "output_type": "stream",
     "text": [
      "\n",
      "  0%|          | 0/200 [00:00<?, ?it/s]\u001b[A\n",
      "Explain node 1963:   0%|          | 0/200 [00:00<?, ?it/s]\u001b[A\n",
      "Explain node 1963:  12%|█▏        | 23/200 [00:00<00:00, 220.04it/s]\u001b[A\n",
      "Explain node 1963:  23%|██▎       | 46/200 [00:00<00:00, 219.98it/s]\u001b[A\n",
      "Explain node 1963:  34%|███▍      | 68/200 [00:00<00:00, 212.62it/s]\u001b[A\n",
      "Explain node 1963:  46%|████▌     | 91/200 [00:00<00:00, 216.48it/s]\u001b[A\n",
      "Explain node 1963:  57%|█████▋    | 114/200 [00:00<00:00, 218.83it/s]\u001b[A\n",
      "Explain node 1963:  68%|██████▊   | 137/200 [00:00<00:00, 221.11it/s]\u001b[A\n",
      "Explain node 1963:  80%|████████  | 160/200 [00:00<00:00, 221.18it/s]\u001b[A\n",
      "Explain node 1963: 100%|██████████| 200/200 [00:00<00:00, 218.97it/s]\u001b[A\n"
     ]
    },
    {
     "name": "stdout",
     "output_type": "stream",
     "text": [
      "Accuracy on Model:  53.03030303030303\n",
      "Accuracy on EVAL-XG:  58.71212121212122\n"
     ]
    },
    {
     "name": "stderr",
     "output_type": "stream",
     "text": [
      "\n",
      "  0%|          | 0/200 [00:00<?, ?it/s]\u001b[A\n",
      "Explain node 1964:   0%|          | 0/200 [00:00<?, ?it/s]\u001b[A\n",
      "Explain node 1964:  12%|█▏        | 23/200 [00:00<00:00, 224.89it/s]\u001b[A\n",
      "Explain node 1964:  23%|██▎       | 46/200 [00:00<00:00, 226.12it/s]\u001b[A\n",
      "Explain node 1964:  34%|███▍      | 69/200 [00:00<00:00, 226.11it/s]\u001b[A\n",
      "Explain node 1964:  46%|████▌     | 92/200 [00:00<00:00, 217.22it/s]\u001b[A\n",
      "Explain node 1964:  57%|█████▊    | 115/200 [00:00<00:00, 218.39it/s]\u001b[A\n",
      "Explain node 1964:  69%|██████▉   | 138/200 [00:00<00:00, 220.59it/s]\u001b[A\n",
      "Explain node 1964:  80%|████████  | 161/200 [00:00<00:00, 222.34it/s]\u001b[A\n",
      "Explain node 1964: 100%|██████████| 200/200 [00:00<00:00, 221.84it/s]\u001b[A\n"
     ]
    },
    {
     "name": "stdout",
     "output_type": "stream",
     "text": [
      "Accuracy on Model:  53.20754716981132\n",
      "Accuracy on EVAL-XG:  58.867924528301884\n"
     ]
    },
    {
     "name": "stderr",
     "output_type": "stream",
     "text": [
      "\n",
      "  0%|          | 0/200 [00:00<?, ?it/s]\u001b[A\n",
      "Explain node 1965:   0%|          | 0/200 [00:00<?, ?it/s]\u001b[A\n",
      "Explain node 1965:  11%|█         | 22/200 [00:00<00:00, 216.10it/s]\u001b[A\n",
      "Explain node 1965:  22%|██▏       | 44/200 [00:00<00:00, 217.95it/s]\u001b[A\n",
      "Explain node 1965:  33%|███▎      | 66/200 [00:00<00:00, 218.13it/s]\u001b[A\n",
      "Explain node 1965:  44%|████▍     | 89/200 [00:00<00:00, 220.41it/s]\u001b[A\n",
      "Explain node 1965:  56%|█████▌    | 112/200 [00:00<00:00, 214.27it/s]\u001b[A\n",
      "Explain node 1965:  67%|██████▋   | 134/200 [00:00<00:00, 212.30it/s]\u001b[A\n",
      "Explain node 1965:  78%|███████▊  | 157/200 [00:00<00:00, 216.16it/s]\u001b[A\n",
      "Explain node 1965: 100%|██████████| 200/200 [00:00<00:00, 215.64it/s]\u001b[A\n"
     ]
    },
    {
     "name": "stdout",
     "output_type": "stream",
     "text": [
      "Accuracy on Model:  53.383458646616546\n",
      "Accuracy on EVAL-XG:  59.02255639097744\n"
     ]
    },
    {
     "name": "stderr",
     "output_type": "stream",
     "text": [
      "\n",
      "  0%|          | 0/200 [00:00<?, ?it/s]\u001b[A\n",
      "Explain node 1966:   0%|          | 0/200 [00:00<?, ?it/s]\u001b[A\n",
      "Explain node 1966:  10%|▉         | 19/200 [00:00<00:00, 183.75it/s]\u001b[A\n",
      "Explain node 1966:  19%|█▉        | 38/200 [00:00<00:00, 181.92it/s]\u001b[A\n",
      "Explain node 1966:  28%|██▊       | 57/200 [00:00<00:00, 183.27it/s]\u001b[A\n",
      "Explain node 1966:  38%|███▊      | 77/200 [00:00<00:00, 186.93it/s]\u001b[A\n",
      "Explain node 1966:  48%|████▊     | 97/200 [00:00<00:00, 189.48it/s]\u001b[A\n",
      "Explain node 1966:  60%|█████▉    | 119/200 [00:00<00:00, 197.57it/s]\u001b[A\n",
      "Explain node 1966:  71%|███████   | 142/200 [00:00<00:00, 206.19it/s]\u001b[A\n",
      "Explain node 1966:  82%|████████▎ | 165/200 [00:00<00:00, 212.86it/s]\u001b[A\n",
      "Explain node 1966: 100%|██████████| 200/200 [00:00<00:00, 202.39it/s]\u001b[A\n"
     ]
    },
    {
     "name": "stdout",
     "output_type": "stream",
     "text": [
      "Accuracy on Model:  53.558052434456926\n",
      "Accuracy on EVAL-XG:  59.176029962546814\n"
     ]
    },
    {
     "name": "stderr",
     "output_type": "stream",
     "text": [
      "\n",
      "  0%|          | 0/200 [00:00<?, ?it/s]\u001b[A\n",
      "Explain node 1967:   0%|          | 0/200 [00:00<?, ?it/s]\u001b[A\n",
      "Explain node 1967:  11%|█         | 22/200 [00:00<00:00, 213.98it/s]\u001b[A\n",
      "Explain node 1967:  22%|██▏       | 44/200 [00:00<00:00, 215.28it/s]\u001b[A\n",
      "Explain node 1967:  33%|███▎      | 66/200 [00:00<00:00, 215.37it/s]\u001b[A\n",
      "Explain node 1967:  44%|████▍     | 88/200 [00:00<00:00, 209.46it/s]\u001b[A\n",
      "Explain node 1967:  55%|█████▍    | 109/200 [00:00<00:00, 204.47it/s]\u001b[A\n",
      "Explain node 1967:  66%|██████▌   | 131/200 [00:00<00:00, 207.75it/s]\u001b[A\n",
      "Explain node 1967:  77%|███████▋  | 154/200 [00:00<00:00, 212.58it/s]\u001b[A\n",
      "Explain node 1967:  88%|████████▊ | 177/200 [00:00<00:00, 217.11it/s]\u001b[A\n",
      "Explain node 1967: 100%|██████████| 200/200 [00:00<00:00, 213.94it/s]\u001b[A\n"
     ]
    },
    {
     "name": "stdout",
     "output_type": "stream",
     "text": [
      "Accuracy on Model:  53.73134328358209\n",
      "Accuracy on EVAL-XG:  59.32835820895522\n"
     ]
    },
    {
     "name": "stderr",
     "output_type": "stream",
     "text": [
      "\n",
      "  0%|          | 0/200 [00:00<?, ?it/s]\u001b[A\n",
      "Explain node 1968:   0%|          | 0/200 [00:00<?, ?it/s]\u001b[A\n",
      "Explain node 1968:  11%|█         | 22/200 [00:00<00:00, 219.32it/s]\u001b[A\n",
      "Explain node 1968:  22%|██▎       | 45/200 [00:00<00:00, 220.46it/s]\u001b[A\n",
      "Explain node 1968:  34%|███▍      | 68/200 [00:00<00:00, 220.00it/s]\u001b[A\n",
      "Explain node 1968:  45%|████▌     | 90/200 [00:00<00:00, 217.78it/s]\u001b[A\n",
      "Explain node 1968:  56%|█████▌    | 112/200 [00:00<00:00, 218.37it/s]\u001b[A\n",
      "Explain node 1968:  67%|██████▋   | 134/200 [00:00<00:00, 218.33it/s]\u001b[A\n",
      "Explain node 1968:  78%|███████▊  | 157/200 [00:00<00:00, 218.84it/s]\u001b[A\n",
      "Explain node 1968: 100%|██████████| 200/200 [00:00<00:00, 217.35it/s]\u001b[A\n"
     ]
    },
    {
     "name": "stdout",
     "output_type": "stream",
     "text": [
      "Accuracy on Model:  53.90334572490706\n",
      "Accuracy on EVAL-XG:  59.10780669144982\n"
     ]
    },
    {
     "name": "stderr",
     "output_type": "stream",
     "text": [
      "\n",
      "  0%|          | 0/200 [00:00<?, ?it/s]\u001b[A\n",
      "Explain node 1969:   0%|          | 0/200 [00:00<?, ?it/s]\u001b[A\n",
      "Explain node 1969:  11%|█         | 22/200 [00:00<00:00, 212.46it/s]\u001b[A\n",
      "Explain node 1969:  22%|██▏       | 44/200 [00:00<00:00, 215.95it/s]\u001b[A\n",
      "Explain node 1969:  33%|███▎      | 66/200 [00:00<00:00, 216.92it/s]\u001b[A\n",
      "Explain node 1969:  44%|████▍     | 89/200 [00:00<00:00, 218.98it/s]\u001b[A\n",
      "Explain node 1969:  56%|█████▌    | 111/200 [00:00<00:00, 218.76it/s]\u001b[A\n",
      "Explain node 1969:  66%|██████▋   | 133/200 [00:00<00:00, 217.86it/s]\u001b[A\n",
      "Explain node 1969:  78%|███████▊  | 155/200 [00:00<00:00, 217.31it/s]\u001b[A\n",
      "Explain node 1969:  88%|████████▊ | 177/200 [00:00<00:00, 217.90it/s]\u001b[A\n",
      "Explain node 1969: 100%|██████████| 200/200 [00:00<00:00, 217.63it/s]\u001b[A\n"
     ]
    },
    {
     "name": "stdout",
     "output_type": "stream",
     "text": [
      "Accuracy on Model:  54.074074074074076\n",
      "Accuracy on EVAL-XG:  59.25925925925925\n"
     ]
    },
    {
     "name": "stderr",
     "output_type": "stream",
     "text": [
      "\n",
      "  0%|          | 0/200 [00:00<?, ?it/s]\u001b[A\n",
      "Explain node 1970:   0%|          | 0/200 [00:00<?, ?it/s]\u001b[A\n",
      "Explain node 1970:  11%|█         | 22/200 [00:00<00:00, 218.84it/s]\u001b[A\n",
      "Explain node 1970:  22%|██▏       | 44/200 [00:00<00:00, 218.55it/s]\u001b[A\n",
      "Explain node 1970:  33%|███▎      | 66/200 [00:00<00:00, 218.70it/s]\u001b[A\n",
      "Explain node 1970:  44%|████▍     | 89/200 [00:00<00:00, 220.12it/s]\u001b[A\n",
      "Explain node 1970:  56%|█████▌    | 112/200 [00:00<00:00, 219.85it/s]\u001b[A\n",
      "Explain node 1970:  68%|██████▊   | 135/200 [00:00<00:00, 220.20it/s]\u001b[A\n",
      "Explain node 1970:  79%|███████▉  | 158/200 [00:00<00:00, 218.28it/s]\u001b[A\n",
      "Explain node 1970: 100%|██████████| 200/200 [00:00<00:00, 218.46it/s]\u001b[A\n"
     ]
    },
    {
     "name": "stdout",
     "output_type": "stream",
     "text": [
      "Accuracy on Model:  54.24354243542435\n",
      "Accuracy on EVAL-XG:  59.40959409594095\n"
     ]
    },
    {
     "name": "stderr",
     "output_type": "stream",
     "text": [
      "\n",
      "  0%|          | 0/200 [00:00<?, ?it/s]\u001b[A\n",
      "Explain node 1971:   0%|          | 0/200 [00:00<?, ?it/s]\u001b[A\n",
      "Explain node 1971:  10%|█         | 21/200 [00:00<00:00, 206.74it/s]\u001b[A\n",
      "Explain node 1971:  22%|██▏       | 44/200 [00:00<00:00, 216.99it/s]\u001b[A\n",
      "Explain node 1971:  33%|███▎      | 66/200 [00:00<00:00, 217.38it/s]\u001b[A\n",
      "Explain node 1971:  44%|████▍     | 88/200 [00:00<00:00, 216.84it/s]\u001b[A\n",
      "Explain node 1971:  55%|█████▌    | 110/200 [00:00<00:00, 217.77it/s]\u001b[A\n",
      "Explain node 1971:  66%|██████▌   | 132/200 [00:00<00:00, 214.04it/s]\u001b[A\n",
      "Explain node 1971:  77%|███████▋  | 154/200 [00:00<00:00, 215.92it/s]\u001b[A\n",
      "Explain node 1971:  88%|████████▊ | 176/200 [00:00<00:00, 214.37it/s]\u001b[A\n",
      "Explain node 1971: 100%|██████████| 200/200 [00:00<00:00, 213.17it/s]\u001b[A\n"
     ]
    },
    {
     "name": "stdout",
     "output_type": "stream",
     "text": [
      "Accuracy on Model:  54.41176470588235\n",
      "Accuracy on EVAL-XG:  59.55882352941176\n"
     ]
    },
    {
     "name": "stderr",
     "output_type": "stream",
     "text": [
      "\n",
      "  0%|          | 0/200 [00:00<?, ?it/s]\u001b[A\n",
      "Explain node 1972:   0%|          | 0/200 [00:00<?, ?it/s]\u001b[A\n",
      "Explain node 1972:  11%|█         | 22/200 [00:00<00:00, 218.67it/s]\u001b[A\n",
      "Explain node 1972:  22%|██▏       | 44/200 [00:00<00:00, 215.02it/s]\u001b[A\n",
      "Explain node 1972:  33%|███▎      | 66/200 [00:00<00:00, 200.28it/s]\u001b[A\n",
      "Explain node 1972:  44%|████▎     | 87/200 [00:00<00:00, 197.40it/s]\u001b[A\n",
      "Explain node 1972:  54%|█████▎    | 107/200 [00:00<00:00, 194.52it/s]\u001b[A\n",
      "Explain node 1972:  64%|██████▎   | 127/200 [00:00<00:00, 196.12it/s]\u001b[A\n",
      "Explain node 1972:  74%|███████▍  | 148/200 [00:00<00:00, 198.49it/s]\u001b[A\n",
      "Explain node 1972:  85%|████████▌ | 170/200 [00:00<00:00, 203.87it/s]\u001b[A\n",
      "Explain node 1972: 100%|██████████| 200/200 [00:00<00:00, 202.92it/s]\u001b[A\n"
     ]
    },
    {
     "name": "stdout",
     "output_type": "stream",
     "text": [
      "Accuracy on Model:  54.57875457875458\n",
      "Accuracy on EVAL-XG:  59.70695970695971\n"
     ]
    },
    {
     "name": "stderr",
     "output_type": "stream",
     "text": [
      "\n",
      "  0%|          | 0/200 [00:00<?, ?it/s]\u001b[A\n",
      "Explain node 1973:   0%|          | 0/200 [00:00<?, ?it/s]\u001b[A\n",
      "Explain node 1973:  11%|█         | 22/200 [00:00<00:00, 214.09it/s]\u001b[A\n",
      "Explain node 1973:  22%|██▏       | 44/200 [00:00<00:00, 213.02it/s]\u001b[A\n",
      "Explain node 1973:  33%|███▎      | 66/200 [00:00<00:00, 213.53it/s]\u001b[A\n",
      "Explain node 1973:  44%|████▍     | 88/200 [00:00<00:00, 213.22it/s]\u001b[A\n",
      "Explain node 1973:  55%|█████▌    | 110/200 [00:00<00:00, 211.97it/s]\u001b[A\n",
      "Explain node 1973:  66%|██████▌   | 132/200 [00:00<00:00, 211.24it/s]\u001b[A\n",
      "Explain node 1973:  77%|███████▋  | 154/200 [00:00<00:00, 212.16it/s]\u001b[A\n",
      "Explain node 1973:  88%|████████▊ | 176/200 [00:00<00:00, 208.91it/s]\u001b[A\n",
      "Explain node 1973: 100%|██████████| 200/200 [00:00<00:00, 210.92it/s]\u001b[A\n"
     ]
    },
    {
     "name": "stdout",
     "output_type": "stream",
     "text": [
      "Accuracy on Model:  54.379562043795616\n",
      "Accuracy on EVAL-XG:  59.48905109489051\n"
     ]
    },
    {
     "name": "stderr",
     "output_type": "stream",
     "text": [
      "\n",
      "  0%|          | 0/200 [00:00<?, ?it/s]\u001b[A\n",
      "Explain node 1974:   0%|          | 0/200 [00:00<?, ?it/s]\u001b[A\n",
      "Explain node 1974:  11%|█         | 22/200 [00:00<00:00, 212.02it/s]\u001b[A\n",
      "Explain node 1974:  22%|██▏       | 44/200 [00:00<00:00, 215.26it/s]\u001b[A\n",
      "Explain node 1974:  33%|███▎      | 66/200 [00:00<00:00, 214.84it/s]\u001b[A\n",
      "Explain node 1974:  44%|████▍     | 88/200 [00:00<00:00, 211.46it/s]\u001b[A\n",
      "Explain node 1974:  55%|█████▌    | 110/200 [00:00<00:00, 205.18it/s]\u001b[A\n",
      "Explain node 1974:  66%|██████▌   | 131/200 [00:00<00:00, 206.23it/s]\u001b[A\n",
      "Explain node 1974:  76%|███████▋  | 153/200 [00:00<00:00, 207.90it/s]\u001b[A\n",
      "Explain node 1974:  87%|████████▋ | 174/200 [00:00<00:00, 204.04it/s]\u001b[A\n",
      "Explain node 1974: 100%|██████████| 200/200 [00:00<00:00, 206.95it/s]\u001b[A\n"
     ]
    },
    {
     "name": "stdout",
     "output_type": "stream",
     "text": [
      "Accuracy on Model:  54.18181818181819\n",
      "Accuracy on EVAL-XG:  59.27272727272728\n"
     ]
    },
    {
     "name": "stderr",
     "output_type": "stream",
     "text": [
      "\n",
      "  0%|          | 0/200 [00:00<?, ?it/s]\u001b[A\n",
      "Explain node 1975:   0%|          | 0/200 [00:00<?, ?it/s]\u001b[A\n",
      "Explain node 1975:  10%|█         | 21/200 [00:00<00:00, 206.67it/s]\u001b[A\n",
      "Explain node 1975:  21%|██        | 42/200 [00:00<00:00, 199.96it/s]\u001b[A\n",
      "Explain node 1975:  32%|███▏      | 64/200 [00:00<00:00, 206.93it/s]\u001b[A\n",
      "Explain node 1975:  43%|████▎     | 86/200 [00:00<00:00, 208.36it/s]\u001b[A\n",
      "Explain node 1975:  54%|█████▎    | 107/200 [00:00<00:00, 204.65it/s]\u001b[A\n",
      "Explain node 1975:  65%|██████▌   | 130/200 [00:00<00:00, 210.05it/s]\u001b[A\n",
      "Explain node 1975:  76%|███████▌  | 152/200 [00:00<00:00, 206.16it/s]\u001b[A\n",
      "Explain node 1975:  86%|████████▋ | 173/200 [00:00<00:00, 204.17it/s]\u001b[A\n",
      "Explain node 1975: 100%|██████████| 200/200 [00:00<00:00, 206.85it/s]\u001b[A\n"
     ]
    },
    {
     "name": "stdout",
     "output_type": "stream",
     "text": [
      "Accuracy on Model:  53.985507246376805\n",
      "Accuracy on EVAL-XG:  59.05797101449275\n"
     ]
    },
    {
     "name": "stderr",
     "output_type": "stream",
     "text": [
      "\n",
      "  0%|          | 0/200 [00:00<?, ?it/s]\u001b[A\n",
      "Explain node 1976:   0%|          | 0/200 [00:00<?, ?it/s]\u001b[A\n",
      "Explain node 1976:  11%|█         | 22/200 [00:00<00:00, 213.94it/s]\u001b[A\n",
      "Explain node 1976:  22%|██▏       | 44/200 [00:00<00:00, 213.53it/s]\u001b[A\n",
      "Explain node 1976:  33%|███▎      | 66/200 [00:00<00:00, 216.05it/s]\u001b[A\n",
      "Explain node 1976:  44%|████▍     | 88/200 [00:00<00:00, 216.35it/s]\u001b[A\n",
      "Explain node 1976:  55%|█████▌    | 110/200 [00:00<00:00, 216.09it/s]\u001b[A\n",
      "Explain node 1976:  66%|██████▌   | 132/200 [00:00<00:00, 210.03it/s]\u001b[A\n",
      "Explain node 1976:  77%|███████▋  | 154/200 [00:00<00:00, 211.09it/s]\u001b[A\n",
      "Explain node 1976:  88%|████████▊ | 176/200 [00:00<00:00, 211.88it/s]\u001b[A\n",
      "Explain node 1976: 100%|██████████| 200/200 [00:00<00:00, 212.61it/s]\u001b[A\n"
     ]
    },
    {
     "name": "stdout",
     "output_type": "stream",
     "text": [
      "Accuracy on Model:  54.151624548736464\n",
      "Accuracy on EVAL-XG:  59.205776173285194\n"
     ]
    },
    {
     "name": "stderr",
     "output_type": "stream",
     "text": [
      "\n",
      "  0%|          | 0/200 [00:00<?, ?it/s]\u001b[A\n",
      "Explain node 1977:   0%|          | 0/200 [00:00<?, ?it/s]\u001b[A\n",
      "Explain node 1977:  11%|█         | 22/200 [00:00<00:00, 216.87it/s]\u001b[A\n",
      "Explain node 1977:  22%|██▏       | 44/200 [00:00<00:00, 214.40it/s]\u001b[A\n",
      "Explain node 1977:  33%|███▎      | 66/200 [00:00<00:00, 214.97it/s]\u001b[A\n",
      "Explain node 1977:  44%|████▍     | 88/200 [00:00<00:00, 215.86it/s]\u001b[A\n",
      "Explain node 1977:  55%|█████▌    | 110/200 [00:00<00:00, 217.16it/s]\u001b[A\n",
      "Explain node 1977:  66%|██████▌   | 132/200 [00:00<00:00, 216.83it/s]\u001b[A\n",
      "Explain node 1977:  77%|███████▋  | 154/200 [00:00<00:00, 216.08it/s]\u001b[A\n",
      "Explain node 1977:  88%|████████▊ | 176/200 [00:00<00:00, 214.26it/s]\u001b[A\n",
      "Explain node 1977: 100%|██████████| 200/200 [00:00<00:00, 214.46it/s]\u001b[A\n"
     ]
    },
    {
     "name": "stdout",
     "output_type": "stream",
     "text": [
      "Accuracy on Model:  54.31654676258992\n",
      "Accuracy on EVAL-XG:  59.352517985611506\n"
     ]
    },
    {
     "name": "stderr",
     "output_type": "stream",
     "text": [
      "\n",
      "  0%|          | 0/200 [00:00<?, ?it/s]\u001b[A\n",
      "Explain node 1978:   0%|          | 0/200 [00:00<?, ?it/s]\u001b[A\n",
      "Explain node 1978:  11%|█         | 22/200 [00:00<00:00, 219.63it/s]\u001b[A\n",
      "Explain node 1978:  22%|██▏       | 44/200 [00:00<00:00, 215.50it/s]\u001b[A\n",
      "Explain node 1978:  33%|███▎      | 66/200 [00:00<00:00, 213.91it/s]\u001b[A\n",
      "Explain node 1978:  44%|████▍     | 88/200 [00:00<00:00, 215.18it/s]\u001b[A\n",
      "Explain node 1978:  56%|█████▌    | 111/200 [00:00<00:00, 217.39it/s]\u001b[A\n",
      "Explain node 1978:  66%|██████▋   | 133/200 [00:00<00:00, 218.07it/s]\u001b[A\n",
      "Explain node 1978:  78%|███████▊  | 155/200 [00:00<00:00, 217.07it/s]\u001b[A\n",
      "Explain node 1978:  89%|████████▉ | 178/200 [00:00<00:00, 218.55it/s]\u001b[A\n",
      "Explain node 1978: 100%|██████████| 200/200 [00:00<00:00, 216.33it/s]\u001b[A\n"
     ]
    },
    {
     "name": "stdout",
     "output_type": "stream",
     "text": [
      "Accuracy on Model:  54.48028673835126\n",
      "Accuracy on EVAL-XG:  59.13978494623656\n"
     ]
    },
    {
     "name": "stderr",
     "output_type": "stream",
     "text": [
      "\n",
      "  0%|          | 0/200 [00:00<?, ?it/s]\u001b[A\n",
      "Explain node 1979:   0%|          | 0/200 [00:00<?, ?it/s]\u001b[A\n",
      "Explain node 1979:  11%|█         | 22/200 [00:00<00:00, 217.53it/s]\u001b[A\n",
      "Explain node 1979:  22%|██▏       | 44/200 [00:00<00:00, 213.70it/s]\u001b[A\n",
      "Explain node 1979:  33%|███▎      | 66/200 [00:00<00:00, 202.01it/s]\u001b[A\n",
      "Explain node 1979:  44%|████▎     | 87/200 [00:00<00:00, 201.54it/s]\u001b[A\n",
      "Explain node 1979:  55%|█████▍    | 109/200 [00:00<00:00, 204.96it/s]\u001b[A\n",
      "Explain node 1979:  66%|██████▌   | 131/200 [00:00<00:00, 208.43it/s]\u001b[A\n",
      "Explain node 1979:  76%|███████▋  | 153/200 [00:00<00:00, 211.10it/s]\u001b[A\n",
      "Explain node 1979:  88%|████████▊ | 175/200 [00:00<00:00, 213.35it/s]\u001b[A\n",
      "Explain node 1979: 100%|██████████| 200/200 [00:00<00:00, 210.15it/s]\u001b[A\n"
     ]
    },
    {
     "name": "stdout",
     "output_type": "stream",
     "text": [
      "Accuracy on Model:  54.64285714285714\n",
      "Accuracy on EVAL-XG:  59.285714285714285\n"
     ]
    },
    {
     "name": "stderr",
     "output_type": "stream",
     "text": [
      "\n",
      "  0%|          | 0/200 [00:00<?, ?it/s]\u001b[A\n",
      "Explain node 1980:   0%|          | 0/200 [00:00<?, ?it/s]\u001b[A\n",
      "Explain node 1980:  11%|█         | 22/200 [00:00<00:00, 214.36it/s]\u001b[A\n",
      "Explain node 1980:  22%|██▏       | 44/200 [00:00<00:00, 215.79it/s]\u001b[A\n",
      "Explain node 1980:  33%|███▎      | 66/200 [00:00<00:00, 214.57it/s]\u001b[A\n",
      "Explain node 1980:  44%|████▍     | 88/200 [00:00<00:00, 212.56it/s]\u001b[A\n",
      "Explain node 1980:  56%|█████▌    | 111/200 [00:00<00:00, 215.65it/s]\u001b[A\n",
      "Explain node 1980:  67%|██████▋   | 134/200 [00:00<00:00, 217.96it/s]\u001b[A\n",
      "Explain node 1980:  78%|███████▊  | 156/200 [00:00<00:00, 217.52it/s]\u001b[A\n",
      "Explain node 1980: 100%|██████████| 200/200 [00:00<00:00, 217.02it/s]\u001b[A\n"
     ]
    },
    {
     "name": "stdout",
     "output_type": "stream",
     "text": [
      "Accuracy on Model:  54.44839857651246\n",
      "Accuracy on EVAL-XG:  59.07473309608541\n"
     ]
    },
    {
     "name": "stderr",
     "output_type": "stream",
     "text": [
      "\n",
      "  0%|          | 0/200 [00:00<?, ?it/s]\u001b[A\n",
      "Explain node 1981:   0%|          | 0/200 [00:00<?, ?it/s]\u001b[A\n",
      "Explain node 1981:  11%|█         | 22/200 [00:00<00:00, 217.23it/s]\u001b[A\n",
      "Explain node 1981:  22%|██▏       | 44/200 [00:00<00:00, 217.27it/s]\u001b[A\n",
      "Explain node 1981:  33%|███▎      | 66/200 [00:00<00:00, 217.89it/s]\u001b[A\n",
      "Explain node 1981:  44%|████▍     | 88/200 [00:00<00:00, 217.42it/s]\u001b[A\n",
      "Explain node 1981:  55%|█████▌    | 110/200 [00:00<00:00, 217.27it/s]\u001b[A\n",
      "Explain node 1981:  66%|██████▌   | 132/200 [00:00<00:00, 213.69it/s]\u001b[A\n",
      "Explain node 1981:  78%|███████▊  | 155/200 [00:00<00:00, 215.98it/s]\u001b[A\n",
      "Explain node 1981:  88%|████████▊ | 177/200 [00:00<00:00, 216.27it/s]\u001b[A\n",
      "Explain node 1981: 100%|██████████| 200/200 [00:00<00:00, 216.06it/s]\u001b[A\n"
     ]
    },
    {
     "name": "stdout",
     "output_type": "stream",
     "text": [
      "Accuracy on Model:  54.25531914893617\n",
      "Accuracy on EVAL-XG:  58.86524822695035\n"
     ]
    },
    {
     "name": "stderr",
     "output_type": "stream",
     "text": [
      "\n",
      "  0%|          | 0/200 [00:00<?, ?it/s]\u001b[A\n",
      "Explain node 1982:   0%|          | 0/200 [00:00<?, ?it/s]\u001b[A\n",
      "Explain node 1982:  11%|█         | 22/200 [00:00<00:00, 211.94it/s]\u001b[A\n",
      "Explain node 1982:  22%|██▏       | 44/200 [00:00<00:00, 215.59it/s]\u001b[A\n",
      "Explain node 1982:  33%|███▎      | 66/200 [00:00<00:00, 211.34it/s]\u001b[A\n",
      "Explain node 1982:  44%|████▍     | 88/200 [00:00<00:00, 206.33it/s]\u001b[A\n",
      "Explain node 1982:  55%|█████▌    | 110/200 [00:00<00:00, 209.23it/s]\u001b[A\n",
      "Explain node 1982:  66%|██████▌   | 131/200 [00:00<00:00, 208.42it/s]\u001b[A\n",
      "Explain node 1982:  76%|███████▌  | 152/200 [00:00<00:00, 208.72it/s]\u001b[A\n",
      "Explain node 1982:  86%|████████▋ | 173/200 [00:00<00:00, 207.75it/s]\u001b[A\n",
      "Explain node 1982: 100%|██████████| 200/200 [00:00<00:00, 210.17it/s]\u001b[A\n"
     ]
    },
    {
     "name": "stdout",
     "output_type": "stream",
     "text": [
      "Accuracy on Model:  54.06360424028268\n",
      "Accuracy on EVAL-XG:  59.01060070671378\n"
     ]
    },
    {
     "name": "stderr",
     "output_type": "stream",
     "text": [
      "\n",
      "  0%|          | 0/200 [00:00<?, ?it/s]\u001b[A\n",
      "Explain node 1983:   0%|          | 0/200 [00:00<?, ?it/s]\u001b[A\n",
      "Explain node 1983:  10%|█         | 21/200 [00:00<00:00, 209.56it/s]\u001b[A\n",
      "Explain node 1983:  21%|██        | 42/200 [00:00<00:00, 207.64it/s]\u001b[A\n",
      "Explain node 1983:  32%|███▏      | 64/200 [00:00<00:00, 213.04it/s]\u001b[A\n",
      "Explain node 1983:  43%|████▎     | 86/200 [00:00<00:00, 214.77it/s]\u001b[A\n",
      "Explain node 1983:  54%|█████▍    | 108/200 [00:00<00:00, 213.02it/s]\u001b[A\n",
      "Explain node 1983:  65%|██████▌   | 130/200 [00:00<00:00, 210.11it/s]\u001b[A\n",
      "Explain node 1983:  76%|███████▌  | 152/200 [00:00<00:00, 204.80it/s]\u001b[A\n",
      "Explain node 1983:  87%|████████▋ | 174/200 [00:00<00:00, 208.98it/s]\u001b[A\n",
      "Explain node 1983: 100%|██████████| 200/200 [00:00<00:00, 209.57it/s]\u001b[A\n"
     ]
    },
    {
     "name": "stdout",
     "output_type": "stream",
     "text": [
      "Accuracy on Model:  53.87323943661971\n",
      "Accuracy on EVAL-XG:  58.80281690140845\n"
     ]
    },
    {
     "name": "stderr",
     "output_type": "stream",
     "text": [
      "\n",
      "  0%|          | 0/200 [00:00<?, ?it/s]\u001b[A\n",
      "Explain node 1984:   0%|          | 0/200 [00:00<?, ?it/s]\u001b[A\n",
      "Explain node 1984:  10%|█         | 20/200 [00:00<00:00, 199.77it/s]\u001b[A\n",
      "Explain node 1984:  20%|██        | 41/200 [00:00<00:00, 201.79it/s]\u001b[A\n",
      "Explain node 1984:  32%|███▏      | 63/200 [00:00<00:00, 209.00it/s]\u001b[A\n",
      "Explain node 1984:  43%|████▎     | 86/200 [00:00<00:00, 215.57it/s]\u001b[A\n",
      "Explain node 1984:  55%|█████▍    | 109/200 [00:00<00:00, 217.48it/s]\u001b[A\n",
      "Explain node 1984:  66%|██████▌   | 132/200 [00:00<00:00, 218.63it/s]\u001b[A\n",
      "Explain node 1984:  78%|███████▊  | 155/200 [00:00<00:00, 220.05it/s]\u001b[A\n",
      "Explain node 1984: 100%|██████████| 200/200 [00:00<00:00, 216.53it/s]\u001b[A\n"
     ]
    },
    {
     "name": "stdout",
     "output_type": "stream",
     "text": [
      "Accuracy on Model:  53.68421052631579\n",
      "Accuracy on EVAL-XG:  58.59649122807018\n"
     ]
    },
    {
     "name": "stderr",
     "output_type": "stream",
     "text": [
      "\n",
      "  0%|          | 0/200 [00:00<?, ?it/s]\u001b[A\n",
      "Explain node 1985:   0%|          | 0/200 [00:00<?, ?it/s]\u001b[A\n",
      "Explain node 1985:  11%|█         | 22/200 [00:00<00:00, 219.14it/s]\u001b[A\n",
      "Explain node 1985:  22%|██▏       | 44/200 [00:00<00:00, 215.73it/s]\u001b[A\n",
      "Explain node 1985:  33%|███▎      | 66/200 [00:00<00:00, 216.16it/s]\u001b[A\n",
      "Explain node 1985:  44%|████▍     | 88/200 [00:00<00:00, 216.32it/s]\u001b[A\n",
      "Explain node 1985:  55%|█████▌    | 110/200 [00:00<00:00, 217.19it/s]\u001b[A\n",
      "Explain node 1985:  66%|██████▌   | 132/200 [00:00<00:00, 216.14it/s]\u001b[A\n",
      "Explain node 1985:  77%|███████▋  | 154/200 [00:00<00:00, 215.48it/s]\u001b[A\n",
      "Explain node 1985:  88%|████████▊ | 176/200 [00:00<00:00, 213.91it/s]\u001b[A\n",
      "Explain node 1985: 100%|██████████| 200/200 [00:00<00:00, 214.38it/s]\u001b[A\n"
     ]
    },
    {
     "name": "stdout",
     "output_type": "stream",
     "text": [
      "Accuracy on Model:  53.4965034965035\n",
      "Accuracy on EVAL-XG:  58.39160839160839\n"
     ]
    },
    {
     "name": "stderr",
     "output_type": "stream",
     "text": [
      "\n",
      "  0%|          | 0/200 [00:00<?, ?it/s]\u001b[A\n",
      "Explain node 1986:   0%|          | 0/200 [00:00<?, ?it/s]\u001b[A\n",
      "Explain node 1986:  11%|█         | 22/200 [00:00<00:00, 216.40it/s]\u001b[A\n",
      "Explain node 1986:  22%|██▏       | 44/200 [00:00<00:00, 216.84it/s]\u001b[A\n",
      "Explain node 1986:  33%|███▎      | 66/200 [00:00<00:00, 214.93it/s]\u001b[A\n",
      "Explain node 1986:  44%|████▍     | 88/200 [00:00<00:00, 214.99it/s]\u001b[A\n",
      "Explain node 1986:  55%|█████▌    | 110/200 [00:00<00:00, 215.49it/s]\u001b[A\n",
      "Explain node 1986:  66%|██████▌   | 132/200 [00:00<00:00, 211.27it/s]\u001b[A\n",
      "Explain node 1986:  77%|███████▋  | 154/200 [00:00<00:00, 207.21it/s]\u001b[A\n",
      "Explain node 1986:  88%|████████▊ | 175/200 [00:00<00:00, 201.67it/s]\u001b[A\n",
      "Explain node 1986: 100%|██████████| 200/200 [00:00<00:00, 207.36it/s]\u001b[A\n"
     ]
    },
    {
     "name": "stdout",
     "output_type": "stream",
     "text": [
      "Accuracy on Model:  53.65853658536586\n",
      "Accuracy on EVAL-XG:  58.536585365853654\n"
     ]
    },
    {
     "name": "stderr",
     "output_type": "stream",
     "text": [
      "\n",
      "  0%|          | 0/200 [00:00<?, ?it/s]\u001b[A\n",
      "Explain node 1987:   0%|          | 0/200 [00:00<?, ?it/s]\u001b[A\n",
      "Explain node 1987:  11%|█         | 22/200 [00:00<00:00, 215.64it/s]\u001b[A\n",
      "Explain node 1987:  22%|██▏       | 44/200 [00:00<00:00, 209.67it/s]\u001b[A\n",
      "Explain node 1987:  33%|███▎      | 66/200 [00:00<00:00, 211.02it/s]\u001b[A\n",
      "Explain node 1987:  44%|████▍     | 88/200 [00:00<00:00, 213.72it/s]\u001b[A\n",
      "Explain node 1987:  55%|█████▌    | 110/200 [00:00<00:00, 214.58it/s]\u001b[A\n",
      "Explain node 1987:  66%|██████▌   | 132/200 [00:00<00:00, 214.68it/s]\u001b[A\n",
      "Explain node 1987:  78%|███████▊  | 155/200 [00:00<00:00, 217.54it/s]\u001b[A\n",
      "Explain node 1987:  88%|████████▊ | 177/200 [00:00<00:00, 218.22it/s]\u001b[A\n",
      "Explain node 1987: 100%|██████████| 200/200 [00:00<00:00, 215.48it/s]\u001b[A\n"
     ]
    },
    {
     "name": "stdout",
     "output_type": "stream",
     "text": [
      "Accuracy on Model:  53.47222222222222\n",
      "Accuracy on EVAL-XG:  58.333333333333336\n"
     ]
    },
    {
     "name": "stderr",
     "output_type": "stream",
     "text": [
      "\n",
      "  0%|          | 0/200 [00:00<?, ?it/s]\u001b[A\n",
      "Explain node 1988:   0%|          | 0/200 [00:00<?, ?it/s]\u001b[A\n",
      "Explain node 1988:  11%|█         | 22/200 [00:00<00:00, 216.70it/s]\u001b[A\n",
      "Explain node 1988:  22%|██▏       | 44/200 [00:00<00:00, 216.29it/s]\u001b[A\n",
      "Explain node 1988:  33%|███▎      | 66/200 [00:00<00:00, 217.36it/s]\u001b[A\n",
      "Explain node 1988:  44%|████▍     | 89/200 [00:00<00:00, 218.53it/s]\u001b[A\n",
      "Explain node 1988:  56%|█████▌    | 111/200 [00:00<00:00, 217.01it/s]\u001b[A\n",
      "Explain node 1988:  66%|██████▋   | 133/200 [00:00<00:00, 216.48it/s]\u001b[A\n",
      "Explain node 1988:  78%|███████▊  | 156/200 [00:00<00:00, 218.18it/s]\u001b[A\n",
      "Explain node 1988:  89%|████████▉ | 178/200 [00:00<00:00, 214.10it/s]\u001b[A\n",
      "Explain node 1988: 100%|██████████| 200/200 [00:00<00:00, 215.88it/s]\u001b[A\n"
     ]
    },
    {
     "name": "stdout",
     "output_type": "stream",
     "text": [
      "Accuracy on Model:  53.63321799307958\n",
      "Accuracy on EVAL-XG:  58.47750865051903\n"
     ]
    },
    {
     "name": "stderr",
     "output_type": "stream",
     "text": [
      "\n",
      "  0%|          | 0/200 [00:00<?, ?it/s]\u001b[A\n",
      "Explain node 1989:   0%|          | 0/200 [00:00<?, ?it/s]\u001b[A\n",
      "Explain node 1989:  11%|█         | 22/200 [00:00<00:00, 218.87it/s]\u001b[A\n",
      "Explain node 1989:  22%|██▏       | 44/200 [00:00<00:00, 216.38it/s]\u001b[A\n",
      "Explain node 1989:  33%|███▎      | 66/200 [00:00<00:00, 215.51it/s]\u001b[A\n",
      "Explain node 1989:  44%|████▍     | 88/200 [00:00<00:00, 216.34it/s]\u001b[A\n",
      "Explain node 1989:  55%|█████▌    | 110/200 [00:00<00:00, 215.02it/s]\u001b[A\n",
      "Explain node 1989:  66%|██████▌   | 132/200 [00:00<00:00, 215.56it/s]\u001b[A\n",
      "Explain node 1989:  77%|███████▋  | 154/200 [00:00<00:00, 213.96it/s]\u001b[A\n",
      "Explain node 1989:  88%|████████▊ | 176/200 [00:00<00:00, 213.88it/s]\u001b[A\n",
      "Explain node 1989: 100%|██████████| 200/200 [00:00<00:00, 214.59it/s]\u001b[A\n"
     ]
    },
    {
     "name": "stdout",
     "output_type": "stream",
     "text": [
      "Accuracy on Model:  53.44827586206896\n",
      "Accuracy on EVAL-XG:  58.27586206896552\n"
     ]
    },
    {
     "name": "stderr",
     "output_type": "stream",
     "text": [
      "\n",
      "  0%|          | 0/200 [00:00<?, ?it/s]\u001b[A\n",
      "Explain node 1990:   0%|          | 0/200 [00:00<?, ?it/s]\u001b[A\n",
      "Explain node 1990:  11%|█         | 22/200 [00:00<00:00, 217.04it/s]\u001b[A\n",
      "Explain node 1990:  22%|██▏       | 44/200 [00:00<00:00, 217.40it/s]\u001b[A\n",
      "Explain node 1990:  33%|███▎      | 66/200 [00:00<00:00, 214.86it/s]\u001b[A\n",
      "Explain node 1990:  44%|████▍     | 88/200 [00:00<00:00, 215.19it/s]\u001b[A\n",
      "Explain node 1990:  55%|█████▌    | 110/200 [00:00<00:00, 215.12it/s]\u001b[A\n",
      "Explain node 1990:  66%|██████▌   | 132/200 [00:00<00:00, 215.99it/s]\u001b[A\n",
      "Explain node 1990:  77%|███████▋  | 154/200 [00:00<00:00, 215.95it/s]\u001b[A\n",
      "Explain node 1990:  88%|████████▊ | 176/200 [00:00<00:00, 214.65it/s]\u001b[A\n",
      "Explain node 1990: 100%|██████████| 200/200 [00:00<00:00, 210.71it/s]\u001b[A\n"
     ]
    },
    {
     "name": "stdout",
     "output_type": "stream",
     "text": [
      "Accuracy on Model:  53.608247422680414\n",
      "Accuracy on EVAL-XG:  58.4192439862543\n"
     ]
    },
    {
     "name": "stderr",
     "output_type": "stream",
     "text": [
      "\n",
      "  0%|          | 0/200 [00:00<?, ?it/s]\u001b[A\n",
      "Explain node 1991:   0%|          | 0/200 [00:00<?, ?it/s]\u001b[A\n",
      "Explain node 1991:  11%|█         | 22/200 [00:00<00:00, 217.55it/s]\u001b[A\n",
      "Explain node 1991:  22%|██▏       | 44/200 [00:00<00:00, 217.22it/s]\u001b[A\n",
      "Explain node 1991:  33%|███▎      | 66/200 [00:00<00:00, 211.66it/s]\u001b[A\n",
      "Explain node 1991:  44%|████▍     | 88/200 [00:00<00:00, 210.91it/s]\u001b[A\n",
      "Explain node 1991:  55%|█████▌    | 110/200 [00:00<00:00, 211.66it/s]\u001b[A\n",
      "Explain node 1991:  66%|██████▌   | 132/200 [00:00<00:00, 212.47it/s]\u001b[A\n",
      "Explain node 1991:  77%|███████▋  | 154/200 [00:00<00:00, 213.13it/s]\u001b[A\n",
      "Explain node 1991:  88%|████████▊ | 176/200 [00:00<00:00, 211.91it/s]\u001b[A\n",
      "Explain node 1991: 100%|██████████| 200/200 [00:00<00:00, 213.40it/s]\u001b[A\n"
     ]
    },
    {
     "name": "stdout",
     "output_type": "stream",
     "text": [
      "Accuracy on Model:  53.42465753424658\n",
      "Accuracy on EVAL-XG:  58.21917808219178\n"
     ]
    },
    {
     "name": "stderr",
     "output_type": "stream",
     "text": [
      "\n",
      "  0%|          | 0/200 [00:00<?, ?it/s]\u001b[A\n",
      "Explain node 1992:   0%|          | 0/200 [00:00<?, ?it/s]\u001b[A\n",
      "Explain node 1992:  11%|█         | 22/200 [00:00<00:00, 217.83it/s]\u001b[A\n",
      "Explain node 1992:  22%|██▏       | 44/200 [00:00<00:00, 214.90it/s]\u001b[A\n",
      "Explain node 1992:  33%|███▎      | 66/200 [00:00<00:00, 215.02it/s]\u001b[A\n",
      "Explain node 1992:  44%|████▍     | 88/200 [00:00<00:00, 216.17it/s]\u001b[A\n",
      "Explain node 1992:  55%|█████▌    | 110/200 [00:00<00:00, 212.15it/s]\u001b[A\n",
      "Explain node 1992:  66%|██████▌   | 132/200 [00:00<00:00, 210.87it/s]\u001b[A\n",
      "Explain node 1992:  77%|███████▋  | 154/200 [00:00<00:00, 212.44it/s]\u001b[A\n",
      "Explain node 1992:  88%|████████▊ | 176/200 [00:00<00:00, 210.35it/s]\u001b[A\n",
      "Explain node 1992: 100%|██████████| 200/200 [00:00<00:00, 211.58it/s]\u001b[A\n"
     ]
    },
    {
     "name": "stdout",
     "output_type": "stream",
     "text": [
      "Accuracy on Model:  53.58361774744027\n",
      "Accuracy on EVAL-XG:  58.36177474402731\n"
     ]
    },
    {
     "name": "stderr",
     "output_type": "stream",
     "text": [
      "\n",
      "  0%|          | 0/200 [00:00<?, ?it/s]\u001b[A\n",
      "Explain node 1993:   0%|          | 0/200 [00:00<?, ?it/s]\u001b[A\n",
      "Explain node 1993:  11%|█         | 22/200 [00:00<00:00, 210.49it/s]\u001b[A\n",
      "Explain node 1993:  22%|██▏       | 44/200 [00:00<00:00, 208.85it/s]\u001b[A\n",
      "Explain node 1993:  32%|███▎      | 65/200 [00:00<00:00, 207.96it/s]\u001b[A\n",
      "Explain node 1993:  43%|████▎     | 86/200 [00:00<00:00, 206.19it/s]\u001b[A\n",
      "Explain node 1993:  54%|█████▎    | 107/200 [00:00<00:00, 200.67it/s]\u001b[A\n",
      "Explain node 1993:  64%|██████▍   | 129/200 [00:00<00:00, 204.41it/s]\u001b[A\n",
      "Explain node 1993:  75%|███████▌  | 150/200 [00:00<00:00, 205.30it/s]\u001b[A\n",
      "Explain node 1993:  86%|████████▌ | 171/200 [00:00<00:00, 205.68it/s]\u001b[A\n",
      "Explain node 1993: 100%|██████████| 200/200 [00:00<00:00, 206.64it/s]\u001b[A\n"
     ]
    },
    {
     "name": "stdout",
     "output_type": "stream",
     "text": [
      "Accuracy on Model:  53.74149659863946\n",
      "Accuracy on EVAL-XG:  58.16326530612245\n"
     ]
    },
    {
     "name": "stderr",
     "output_type": "stream",
     "text": [
      "\n",
      "  0%|          | 0/200 [00:00<?, ?it/s]\u001b[A\n",
      "Explain node 1994:   0%|          | 0/200 [00:00<?, ?it/s]\u001b[A\n",
      "Explain node 1994:  11%|█         | 22/200 [00:00<00:00, 215.42it/s]\u001b[A\n",
      "Explain node 1994:  22%|██▏       | 44/200 [00:00<00:00, 206.97it/s]\u001b[A\n",
      "Explain node 1994:  32%|███▎      | 65/200 [00:00<00:00, 204.05it/s]\u001b[A\n",
      "Explain node 1994:  43%|████▎     | 86/200 [00:00<00:00, 200.71it/s]\u001b[A\n",
      "Explain node 1994:  54%|█████▎    | 107/200 [00:00<00:00, 200.28it/s]\u001b[A\n",
      "Explain node 1994:  64%|██████▍   | 128/200 [00:00<00:00, 200.96it/s]\u001b[A\n",
      "Explain node 1994:  74%|███████▍  | 149/200 [00:00<00:00, 200.38it/s]\u001b[A\n",
      "Explain node 1994:  86%|████████▌ | 171/200 [00:00<00:00, 205.81it/s]\u001b[A\n",
      "Explain node 1994: 100%|██████████| 200/200 [00:00<00:00, 204.81it/s]\u001b[A\n"
     ]
    },
    {
     "name": "stdout",
     "output_type": "stream",
     "text": [
      "Accuracy on Model:  53.898305084745765\n",
      "Accuracy on EVAL-XG:  58.30508474576271\n"
     ]
    },
    {
     "name": "stderr",
     "output_type": "stream",
     "text": [
      "\n",
      "  0%|          | 0/200 [00:00<?, ?it/s]\u001b[A\n",
      "Explain node 1995:   0%|          | 0/200 [00:00<?, ?it/s]\u001b[A\n",
      "Explain node 1995:  12%|█▏        | 23/200 [00:00<00:00, 222.18it/s]\u001b[A\n",
      "Explain node 1995:  23%|██▎       | 46/200 [00:00<00:00, 220.76it/s]\u001b[A\n",
      "Explain node 1995:  34%|███▍      | 69/200 [00:00<00:00, 218.22it/s]\u001b[A\n",
      "Explain node 1995:  46%|████▌     | 91/200 [00:00<00:00, 216.09it/s]\u001b[A\n",
      "Explain node 1995:  56%|█████▋    | 113/200 [00:00<00:00, 214.14it/s]\u001b[A\n",
      "Explain node 1995:  68%|██████▊   | 135/200 [00:00<00:00, 215.82it/s]\u001b[A\n",
      "Explain node 1995:  78%|███████▊  | 157/200 [00:00<00:00, 216.40it/s]\u001b[A\n",
      "Explain node 1995: 100%|██████████| 200/200 [00:00<00:00, 216.41it/s]\u001b[A\n"
     ]
    },
    {
     "name": "stdout",
     "output_type": "stream",
     "text": [
      "Accuracy on Model:  54.054054054054056\n",
      "Accuracy on EVAL-XG:  58.108108108108105\n"
     ]
    },
    {
     "name": "stderr",
     "output_type": "stream",
     "text": [
      "\n",
      "  0%|          | 0/200 [00:00<?, ?it/s]\u001b[A\n",
      "Explain node 1996:   0%|          | 0/200 [00:00<?, ?it/s]\u001b[A\n",
      "Explain node 1996:  10%|█         | 21/200 [00:00<00:00, 209.69it/s]\u001b[A\n",
      "Explain node 1996:  21%|██        | 42/200 [00:00<00:00, 200.96it/s]\u001b[A\n",
      "Explain node 1996:  32%|███▏      | 63/200 [00:00<00:00, 202.22it/s]\u001b[A\n",
      "Explain node 1996:  42%|████▏     | 84/200 [00:00<00:00, 204.48it/s]\u001b[A\n",
      "Explain node 1996:  53%|█████▎    | 106/200 [00:00<00:00, 208.99it/s]\u001b[A\n",
      "Explain node 1996:  64%|██████▍   | 128/200 [00:00<00:00, 212.59it/s]\u001b[A\n",
      "Explain node 1996:  75%|███████▌  | 150/200 [00:00<00:00, 214.60it/s]\u001b[A\n",
      "Explain node 1996:  86%|████████▌ | 172/200 [00:00<00:00, 215.00it/s]\u001b[A\n",
      "Explain node 1996: 100%|██████████| 200/200 [00:00<00:00, 212.10it/s]\u001b[A\n"
     ]
    },
    {
     "name": "stdout",
     "output_type": "stream",
     "text": [
      "Accuracy on Model:  53.87205387205387\n",
      "Accuracy on EVAL-XG:  57.91245791245792\n"
     ]
    },
    {
     "name": "stderr",
     "output_type": "stream",
     "text": [
      "\n",
      "  0%|          | 0/200 [00:00<?, ?it/s]\u001b[A\n",
      "Explain node 1997:   0%|          | 0/200 [00:00<?, ?it/s]\u001b[A\n",
      "Explain node 1997:  11%|█         | 22/200 [00:00<00:00, 217.97it/s]\u001b[A\n",
      "Explain node 1997:  22%|██▎       | 45/200 [00:00<00:00, 221.25it/s]\u001b[A\n",
      "Explain node 1997:  34%|███▍      | 68/200 [00:00<00:00, 222.89it/s]\u001b[A\n",
      "Explain node 1997:  46%|████▌     | 91/200 [00:00<00:00, 218.61it/s]\u001b[A\n",
      "Explain node 1997:  56%|█████▋    | 113/200 [00:00<00:00, 213.30it/s]\u001b[A\n",
      "Explain node 1997:  68%|██████▊   | 135/200 [00:00<00:00, 205.95it/s]\u001b[A\n",
      "Explain node 1997:  78%|███████▊  | 156/200 [00:00<00:00, 205.10it/s]\u001b[A\n",
      "Explain node 1997:  88%|████████▊ | 177/200 [00:00<00:00, 203.73it/s]\u001b[A\n",
      "Explain node 1997: 100%|██████████| 200/200 [00:00<00:00, 207.81it/s]\u001b[A\n"
     ]
    },
    {
     "name": "stdout",
     "output_type": "stream",
     "text": [
      "Accuracy on Model:  54.0268456375839\n",
      "Accuracy on EVAL-XG:  58.053691275167786\n"
     ]
    },
    {
     "name": "stderr",
     "output_type": "stream",
     "text": [
      "\n",
      "  0%|          | 0/200 [00:00<?, ?it/s]\u001b[A\n",
      "Explain node 1998:   0%|          | 0/200 [00:00<?, ?it/s]\u001b[A\n",
      "Explain node 1998:  10%|█         | 21/200 [00:00<00:00, 204.26it/s]\u001b[A\n",
      "Explain node 1998:  22%|██▏       | 43/200 [00:00<00:00, 213.07it/s]\u001b[A\n",
      "Explain node 1998:  32%|███▎      | 65/200 [00:00<00:00, 212.85it/s]\u001b[A\n",
      "Explain node 1998:  44%|████▎     | 87/200 [00:00<00:00, 214.17it/s]\u001b[A\n",
      "Explain node 1998:  55%|█████▍    | 109/200 [00:00<00:00, 216.10it/s]\u001b[A\n",
      "Explain node 1998:  66%|██████▌   | 131/200 [00:00<00:00, 217.00it/s]\u001b[A\n",
      "Explain node 1998:  76%|███████▋  | 153/200 [00:00<00:00, 217.26it/s]\u001b[A\n",
      "Explain node 1998:  88%|████████▊ | 175/200 [00:00<00:00, 217.92it/s]\u001b[A\n",
      "Explain node 1998: 100%|██████████| 200/200 [00:00<00:00, 215.38it/s]\u001b[A\n"
     ]
    },
    {
     "name": "stdout",
     "output_type": "stream",
     "text": [
      "Accuracy on Model:  54.18060200668896\n",
      "Accuracy on EVAL-XG:  57.859531772575245\n"
     ]
    },
    {
     "name": "stderr",
     "output_type": "stream",
     "text": [
      "\n",
      "  0%|          | 0/200 [00:00<?, ?it/s]\u001b[A\n",
      "Explain node 1999:   0%|          | 0/200 [00:00<?, ?it/s]\u001b[A\n",
      "Explain node 1999:  10%|█         | 21/200 [00:00<00:00, 208.20it/s]\u001b[A\n",
      "Explain node 1999:  22%|██▏       | 43/200 [00:00<00:00, 211.60it/s]\u001b[A\n",
      "Explain node 1999:  32%|███▎      | 65/200 [00:00<00:00, 215.13it/s]\u001b[A\n",
      "Explain node 1999:  44%|████▎     | 87/200 [00:00<00:00, 216.73it/s]\u001b[A\n",
      "Explain node 1999:  55%|█████▍    | 109/200 [00:00<00:00, 217.42it/s]\u001b[A\n",
      "Explain node 1999:  66%|██████▌   | 131/200 [00:00<00:00, 208.74it/s]\u001b[A\n",
      "Explain node 1999:  76%|███████▋  | 153/200 [00:00<00:00, 211.21it/s]\u001b[A\n",
      "Explain node 1999:  88%|████████▊ | 175/200 [00:00<00:00, 207.65it/s]\u001b[A\n",
      "Explain node 1999: 100%|██████████| 200/200 [00:00<00:00, 209.02it/s]\u001b[A"
     ]
    },
    {
     "name": "stdout",
     "output_type": "stream",
     "text": [
      "Accuracy on Model:  54.333333333333336\n",
      "Accuracy on EVAL-XG:  57.99999999999999\n",
      "Model Total Accuracy:  54.333333333333336\n",
      "EVAL-XG Total Accuracy:  57.99999999999999\n"
     ]
    },
    {
     "name": "stderr",
     "output_type": "stream",
     "text": [
      "\n"
     ]
    }
   ],
   "source": [
    "explainer = GNNExplainer(model, epochs=200, return_type='log_prob')\n",
    "explainer.to(device)\n",
    "model_total_correct = 0\n",
    "eval_xg_total_correct = 0\n",
    "count = 0\n",
    "for i in range(V):\n",
    "    if data.test_mask[i]==False:\n",
    "        continue\n",
    "    count+=1\n",
    "    node_idx = i\n",
    "    node_feat_mask, edge_mask = explainer.explain_node(node_idx, data.x, data.edge_index)\n",
    "    SF, SA = Explain_Samples(data.x,data.edge_index,0,node_feat_mask,edge_mask,3,2)\n",
    "    \n",
    "    model_correct = forward_explain(model,SF,SA,node_idx)\n",
    "    model_total_correct += model_correct\n",
    "    \n",
    "    eval_xg_correct = forward_explain(eval_xg,SF,SA,node_idx)\n",
    "    eval_xg_total_correct += eval_xg_correct\n",
    "    \n",
    "    print(\"Accuracy on Model: \", model_total_correct/count * 100)\n",
    "    print(\"Accuracy on EVAL-XG: \", eval_xg_total_correct/count * 100)\n",
    "    \n",
    "\n",
    "print('Model Total Accuracy: ', model_total_correct/count * 100)\n",
    "print(\"EVAL-XG Total Accuracy: \", eval_xg_total_correct/count * 100)   \n",
    "    "
   ]
  },
  {
   "cell_type": "markdown",
   "id": "e89b2f44",
   "metadata": {},
   "source": [
    "Experiment 2: Run GNNExplainer on EVAL-XG, test its performance on model and Eval-XG"
   ]
  },
  {
   "cell_type": "code",
   "execution_count": 72,
   "id": "f274056c",
   "metadata": {},
   "outputs": [
    {
     "name": "stderr",
     "output_type": "stream",
     "text": [
      "\n",
      "  0%|          | 0/200 [00:00<?, ?it/s]\u001b[A\n",
      "Explain node 1700:   0%|          | 0/200 [00:00<?, ?it/s]\u001b[A\n",
      "Explain node 1700:  11%|█         | 22/200 [00:00<00:00, 215.45it/s]\u001b[A\n",
      "Explain node 1700:  22%|██▏       | 44/200 [00:00<00:00, 212.31it/s]\u001b[A\n",
      "Explain node 1700:  33%|███▎      | 66/200 [00:00<00:00, 213.36it/s]\u001b[A\n",
      "Explain node 1700:  44%|████▍     | 88/200 [00:00<00:00, 213.23it/s]\u001b[A\n",
      "Explain node 1700:  55%|█████▌    | 110/200 [00:00<00:00, 212.24it/s]\u001b[A\n",
      "Explain node 1700:  66%|██████▌   | 132/200 [00:00<00:00, 205.24it/s]\u001b[A\n",
      "Explain node 1700:  76%|███████▋  | 153/200 [00:00<00:00, 202.55it/s]\u001b[A\n",
      "Explain node 1700:  87%|████████▋ | 174/200 [00:00<00:00, 203.10it/s]\u001b[A\n",
      "Explain node 1700: 100%|██████████| 200/200 [00:00<00:00, 206.90it/s]\u001b[A\n"
     ]
    },
    {
     "name": "stdout",
     "output_type": "stream",
     "text": [
      "Accuracy on Model:  0.0\n",
      "Accuracy on EVAL-XG:  0.0\n"
     ]
    },
    {
     "name": "stderr",
     "output_type": "stream",
     "text": [
      "\n",
      "  0%|          | 0/200 [00:00<?, ?it/s]\u001b[A\n",
      "Explain node 1701:   0%|          | 0/200 [00:00<?, ?it/s]\u001b[A\n",
      "Explain node 1701:  11%|█         | 22/200 [00:00<00:00, 217.23it/s]\u001b[A\n",
      "Explain node 1701:  22%|██▏       | 44/200 [00:00<00:00, 215.18it/s]\u001b[A\n",
      "Explain node 1701:  33%|███▎      | 66/200 [00:00<00:00, 213.07it/s]\u001b[A\n",
      "Explain node 1701:  44%|████▍     | 88/200 [00:00<00:00, 210.88it/s]\u001b[A\n",
      "Explain node 1701:  55%|█████▌    | 110/200 [00:00<00:00, 202.49it/s]\u001b[A\n",
      "Explain node 1701:  66%|██████▌   | 131/200 [00:00<00:00, 195.59it/s]\u001b[A\n",
      "Explain node 1701:  76%|███████▌  | 151/200 [00:00<00:00, 194.05it/s]\u001b[A\n",
      "Explain node 1701:  86%|████████▌ | 171/200 [00:00<00:00, 192.45it/s]\u001b[A\n",
      "Explain node 1701: 100%|██████████| 200/200 [00:00<00:00, 200.60it/s]\u001b[A\n"
     ]
    },
    {
     "name": "stdout",
     "output_type": "stream",
     "text": [
      "Accuracy on Model:  50.0\n",
      "Accuracy on EVAL-XG:  50.0\n"
     ]
    },
    {
     "name": "stderr",
     "output_type": "stream",
     "text": [
      "\n",
      "  0%|          | 0/200 [00:00<?, ?it/s]\u001b[A\n",
      "Explain node 1702:   0%|          | 0/200 [00:00<?, ?it/s]\u001b[A\n",
      "Explain node 1702:  10%|█         | 21/200 [00:00<00:00, 207.57it/s]\u001b[A\n",
      "Explain node 1702:  22%|██▏       | 43/200 [00:00<00:00, 209.12it/s]\u001b[A\n",
      "Explain node 1702:  32%|███▏      | 64/200 [00:00<00:00, 208.87it/s]\u001b[A\n",
      "Explain node 1702:  42%|████▎     | 85/200 [00:00<00:00, 185.20it/s]\u001b[A\n",
      "Explain node 1702:  52%|█████▏    | 104/200 [00:00<00:00, 175.28it/s]\u001b[A\n",
      "Explain node 1702:  62%|██████▏   | 124/200 [00:00<00:00, 181.06it/s]\u001b[A\n",
      "Explain node 1702:  72%|███████▎  | 145/200 [00:00<00:00, 189.64it/s]\u001b[A\n",
      "Explain node 1702:  83%|████████▎ | 166/200 [00:00<00:00, 193.40it/s]\u001b[A\n",
      "Explain node 1702: 100%|██████████| 200/200 [00:01<00:00, 190.55it/s]\u001b[A\n"
     ]
    },
    {
     "name": "stdout",
     "output_type": "stream",
     "text": [
      "Accuracy on Model:  66.66666666666666\n",
      "Accuracy on EVAL-XG:  66.66666666666666\n"
     ]
    },
    {
     "name": "stderr",
     "output_type": "stream",
     "text": [
      "\n",
      "  0%|          | 0/200 [00:00<?, ?it/s]\u001b[A\n",
      "Explain node 1703:   0%|          | 0/200 [00:00<?, ?it/s]\u001b[A\n",
      "Explain node 1703:  10%|█         | 20/200 [00:00<00:00, 199.26it/s]\u001b[A\n",
      "Explain node 1703:  20%|██        | 40/200 [00:00<00:00, 193.72it/s]\u001b[A\n",
      "Explain node 1703:  30%|███       | 61/200 [00:00<00:00, 199.88it/s]\u001b[A\n",
      "Explain node 1703:  42%|████▏     | 83/200 [00:00<00:00, 204.90it/s]\u001b[A\n",
      "Explain node 1703:  52%|█████▎    | 105/200 [00:00<00:00, 208.28it/s]\u001b[A\n",
      "Explain node 1703:  64%|██████▎   | 127/200 [00:00<00:00, 212.13it/s]\u001b[A\n",
      "Explain node 1703:  74%|███████▍  | 149/200 [00:00<00:00, 214.14it/s]\u001b[A\n",
      "Explain node 1703:  86%|████████▌ | 171/200 [00:00<00:00, 212.77it/s]\u001b[A\n",
      "Explain node 1703: 100%|██████████| 200/200 [00:00<00:00, 209.58it/s]\u001b[A\n"
     ]
    },
    {
     "name": "stdout",
     "output_type": "stream",
     "text": [
      "Accuracy on Model:  50.0\n",
      "Accuracy on EVAL-XG:  75.0\n"
     ]
    },
    {
     "name": "stderr",
     "output_type": "stream",
     "text": [
      "\n",
      "  0%|          | 0/200 [00:00<?, ?it/s]\u001b[A\n",
      "Explain node 1704:   0%|          | 0/200 [00:00<?, ?it/s]\u001b[A\n",
      "Explain node 1704:  11%|█         | 22/200 [00:00<00:00, 218.86it/s]\u001b[A\n",
      "Explain node 1704:  22%|██▏       | 44/200 [00:00<00:00, 217.80it/s]\u001b[A\n",
      "Explain node 1704:  34%|███▎      | 67/200 [00:00<00:00, 219.85it/s]\u001b[A\n",
      "Explain node 1704:  44%|████▍     | 89/200 [00:00<00:00, 215.00it/s]\u001b[A\n",
      "Explain node 1704:  56%|█████▌    | 111/200 [00:00<00:00, 213.56it/s]\u001b[A\n",
      "Explain node 1704:  66%|██████▋   | 133/200 [00:00<00:00, 210.70it/s]\u001b[A\n",
      "Explain node 1704:  78%|███████▊  | 155/200 [00:00<00:00, 212.74it/s]\u001b[A\n",
      "Explain node 1704:  88%|████████▊ | 177/200 [00:00<00:00, 212.86it/s]\u001b[A\n",
      "Explain node 1704: 100%|██████████| 200/200 [00:00<00:00, 211.30it/s]\u001b[A\n"
     ]
    },
    {
     "name": "stdout",
     "output_type": "stream",
     "text": [
      "Accuracy on Model:  40.0\n",
      "Accuracy on EVAL-XG:  80.0\n"
     ]
    },
    {
     "name": "stderr",
     "output_type": "stream",
     "text": [
      "\n",
      "  0%|          | 0/200 [00:00<?, ?it/s]\u001b[A\n",
      "Explain node 1705:   0%|          | 0/200 [00:00<?, ?it/s]\u001b[A\n",
      "Explain node 1705:  11%|█         | 22/200 [00:00<00:00, 212.93it/s]\u001b[A\n",
      "Explain node 1705:  22%|██▎       | 45/200 [00:00<00:00, 218.97it/s]\u001b[A\n",
      "Explain node 1705:  34%|███▎      | 67/200 [00:00<00:00, 213.21it/s]\u001b[A\n",
      "Explain node 1705:  44%|████▍     | 89/200 [00:00<00:00, 214.22it/s]\u001b[A\n",
      "Explain node 1705:  56%|█████▌    | 111/200 [00:00<00:00, 214.95it/s]\u001b[A\n",
      "Explain node 1705:  66%|██████▋   | 133/200 [00:00<00:00, 210.99it/s]\u001b[A\n",
      "Explain node 1705:  78%|███████▊  | 156/200 [00:00<00:00, 214.80it/s]\u001b[A\n",
      "Explain node 1705: 100%|██████████| 200/200 [00:00<00:00, 215.72it/s]\u001b[A\n"
     ]
    },
    {
     "name": "stdout",
     "output_type": "stream",
     "text": [
      "Accuracy on Model:  50.0\n",
      "Accuracy on EVAL-XG:  83.33333333333334\n"
     ]
    },
    {
     "name": "stderr",
     "output_type": "stream",
     "text": [
      "\n",
      "  0%|          | 0/200 [00:00<?, ?it/s]\u001b[A\n",
      "Explain node 1706:   0%|          | 0/200 [00:00<?, ?it/s]\u001b[A\n",
      "Explain node 1706:  10%|█         | 20/200 [00:00<00:00, 199.13it/s]\u001b[A\n",
      "Explain node 1706:  22%|██▏       | 43/200 [00:00<00:00, 212.61it/s]\u001b[A\n",
      "Explain node 1706:  32%|███▎      | 65/200 [00:00<00:00, 212.48it/s]\u001b[A\n",
      "Explain node 1706:  44%|████▎     | 87/200 [00:00<00:00, 212.34it/s]\u001b[A\n",
      "Explain node 1706:  55%|█████▍    | 109/200 [00:00<00:00, 213.93it/s]\u001b[A\n",
      "Explain node 1706:  66%|██████▌   | 131/200 [00:00<00:00, 215.65it/s]\u001b[A\n",
      "Explain node 1706:  77%|███████▋  | 154/200 [00:00<00:00, 217.36it/s]\u001b[A\n",
      "Explain node 1706:  88%|████████▊ | 176/200 [00:00<00:00, 216.69it/s]\u001b[A\n",
      "Explain node 1706: 100%|██████████| 200/200 [00:00<00:00, 214.52it/s]\u001b[A\n"
     ]
    },
    {
     "name": "stdout",
     "output_type": "stream",
     "text": [
      "Accuracy on Model:  42.857142857142854\n",
      "Accuracy on EVAL-XG:  71.42857142857143\n"
     ]
    },
    {
     "name": "stderr",
     "output_type": "stream",
     "text": [
      "\n",
      "  0%|          | 0/200 [00:00<?, ?it/s]\u001b[A\n",
      "Explain node 1707:   0%|          | 0/200 [00:00<?, ?it/s]\u001b[A\n",
      "Explain node 1707:  11%|█         | 22/200 [00:00<00:00, 216.42it/s]\u001b[A\n",
      "Explain node 1707:  22%|██▏       | 44/200 [00:00<00:00, 216.78it/s]\u001b[A\n",
      "Explain node 1707:  33%|███▎      | 66/200 [00:00<00:00, 217.68it/s]\u001b[A\n",
      "Explain node 1707:  44%|████▍     | 89/200 [00:00<00:00, 219.72it/s]\u001b[A\n",
      "Explain node 1707:  56%|█████▌    | 112/200 [00:00<00:00, 221.37it/s]\u001b[A\n",
      "Explain node 1707:  68%|██████▊   | 135/200 [00:00<00:00, 219.10it/s]\u001b[A\n",
      "Explain node 1707:  79%|███████▉  | 158/200 [00:00<00:00, 219.92it/s]\u001b[A\n",
      "Explain node 1707: 100%|██████████| 200/200 [00:00<00:00, 219.71it/s]\u001b[A\n"
     ]
    },
    {
     "name": "stdout",
     "output_type": "stream",
     "text": [
      "Accuracy on Model:  37.5\n",
      "Accuracy on EVAL-XG:  75.0\n"
     ]
    },
    {
     "name": "stderr",
     "output_type": "stream",
     "text": [
      "\n",
      "  0%|          | 0/200 [00:00<?, ?it/s]\u001b[A\n",
      "Explain node 1708:   0%|          | 0/200 [00:00<?, ?it/s]\u001b[A\n",
      "Explain node 1708:  11%|█         | 22/200 [00:00<00:00, 219.38it/s]\u001b[A\n",
      "Explain node 1708:  22%|██▎       | 45/200 [00:00<00:00, 220.30it/s]\u001b[A\n",
      "Explain node 1708:  34%|███▍      | 68/200 [00:00<00:00, 222.96it/s]\u001b[A\n",
      "Explain node 1708:  46%|████▌     | 91/200 [00:00<00:00, 222.32it/s]\u001b[A\n",
      "Explain node 1708:  57%|█████▋    | 114/200 [00:00<00:00, 221.53it/s]\u001b[A\n",
      "Explain node 1708:  68%|██████▊   | 137/200 [00:00<00:00, 221.70it/s]\u001b[A\n",
      "Explain node 1708:  80%|████████  | 160/200 [00:00<00:00, 219.34it/s]\u001b[A\n",
      "Explain node 1708: 100%|██████████| 200/200 [00:00<00:00, 220.16it/s]\u001b[A\n"
     ]
    },
    {
     "name": "stdout",
     "output_type": "stream",
     "text": [
      "Accuracy on Model:  44.44444444444444\n",
      "Accuracy on EVAL-XG:  77.77777777777779\n"
     ]
    },
    {
     "name": "stderr",
     "output_type": "stream",
     "text": [
      "\n",
      "  0%|          | 0/200 [00:00<?, ?it/s]\u001b[A\n",
      "Explain node 1709:   0%|          | 0/200 [00:00<?, ?it/s]\u001b[A\n",
      "Explain node 1709:  10%|█         | 21/200 [00:00<00:00, 203.60it/s]\u001b[A\n",
      "Explain node 1709:  21%|██        | 42/200 [00:00<00:00, 206.98it/s]\u001b[A\n",
      "Explain node 1709:  32%|███▏      | 64/200 [00:00<00:00, 208.77it/s]\u001b[A\n",
      "Explain node 1709:  42%|████▎     | 85/200 [00:00<00:00, 208.10it/s]\u001b[A\n",
      "Explain node 1709:  54%|█████▎    | 107/200 [00:00<00:00, 209.30it/s]\u001b[A\n",
      "Explain node 1709:  64%|██████▍   | 129/200 [00:00<00:00, 209.79it/s]\u001b[A\n",
      "Explain node 1709:  75%|███████▌  | 150/200 [00:00<00:00, 208.74it/s]\u001b[A\n",
      "Explain node 1709:  86%|████████▌ | 171/200 [00:00<00:00, 207.89it/s]\u001b[A\n",
      "Explain node 1709: 100%|██████████| 200/200 [00:00<00:00, 206.52it/s]\u001b[A\n"
     ]
    },
    {
     "name": "stdout",
     "output_type": "stream",
     "text": [
      "Accuracy on Model:  40.0\n",
      "Accuracy on EVAL-XG:  70.0\n"
     ]
    },
    {
     "name": "stderr",
     "output_type": "stream",
     "text": [
      "\n",
      "  0%|          | 0/200 [00:00<?, ?it/s]\u001b[A\n",
      "Explain node 1710:   0%|          | 0/200 [00:00<?, ?it/s]\u001b[A\n",
      "Explain node 1710:  10%|█         | 21/200 [00:00<00:00, 202.56it/s]\u001b[A\n",
      "Explain node 1710:  21%|██        | 42/200 [00:00<00:00, 200.82it/s]\u001b[A\n",
      "Explain node 1710:  32%|███▏      | 63/200 [00:00<00:00, 196.53it/s]\u001b[A\n",
      "Explain node 1710:  42%|████▏     | 83/200 [00:00<00:00, 194.64it/s]\u001b[A\n",
      "Explain node 1710:  52%|█████▏    | 104/200 [00:00<00:00, 199.59it/s]\u001b[A\n",
      "Explain node 1710:  62%|██████▏   | 124/200 [00:00<00:00, 198.76it/s]\u001b[A\n",
      "Explain node 1710:  72%|███████▎  | 145/200 [00:00<00:00, 200.73it/s]\u001b[A\n",
      "Explain node 1710:  83%|████████▎ | 166/200 [00:00<00:00, 202.30it/s]\u001b[A\n",
      "Explain node 1710: 100%|██████████| 200/200 [00:00<00:00, 200.89it/s]\u001b[A\n"
     ]
    },
    {
     "name": "stdout",
     "output_type": "stream",
     "text": [
      "Accuracy on Model:  36.36363636363637\n",
      "Accuracy on EVAL-XG:  63.63636363636363\n"
     ]
    },
    {
     "name": "stderr",
     "output_type": "stream",
     "text": [
      "\n",
      "  0%|          | 0/200 [00:00<?, ?it/s]\u001b[A\n",
      "Explain node 1711:   0%|          | 0/200 [00:00<?, ?it/s]\u001b[A\n",
      "Explain node 1711:  10%|█         | 21/200 [00:00<00:00, 205.78it/s]\u001b[A\n",
      "Explain node 1711:  21%|██        | 42/200 [00:00<00:00, 195.88it/s]\u001b[A\n",
      "Explain node 1711:  31%|███       | 62/200 [00:00<00:00, 195.09it/s]\u001b[A\n",
      "Explain node 1711:  42%|████▏     | 83/200 [00:00<00:00, 199.80it/s]\u001b[A\n",
      "Explain node 1711:  52%|█████▏    | 104/200 [00:00<00:00, 200.34it/s]\u001b[A\n",
      "Explain node 1711:  62%|██████▎   | 125/200 [00:00<00:00, 201.55it/s]\u001b[A\n",
      "Explain node 1711:  73%|███████▎  | 146/200 [00:00<00:00, 201.71it/s]\u001b[A\n",
      "Explain node 1711:  84%|████████▎ | 167/200 [00:00<00:00, 202.64it/s]\u001b[A\n",
      "Explain node 1711: 100%|██████████| 200/200 [00:00<00:00, 201.51it/s]\u001b[A\n"
     ]
    },
    {
     "name": "stdout",
     "output_type": "stream",
     "text": [
      "Accuracy on Model:  33.33333333333333\n",
      "Accuracy on EVAL-XG:  58.333333333333336\n"
     ]
    },
    {
     "name": "stderr",
     "output_type": "stream",
     "text": [
      "\n",
      "  0%|          | 0/200 [00:00<?, ?it/s]\u001b[A\n",
      "Explain node 1712:   0%|          | 0/200 [00:00<?, ?it/s]\u001b[A\n",
      "Explain node 1712:  10%|█         | 21/200 [00:00<00:00, 208.58it/s]\u001b[A\n",
      "Explain node 1712:  21%|██        | 42/200 [00:00<00:00, 204.12it/s]\u001b[A\n",
      "Explain node 1712:  32%|███▏      | 63/200 [00:00<00:00, 206.21it/s]\u001b[A\n",
      "Explain node 1712:  42%|████▏     | 84/200 [00:00<00:00, 204.24it/s]\u001b[A\n",
      "Explain node 1712:  52%|█████▎    | 105/200 [00:00<00:00, 203.35it/s]\u001b[A\n",
      "Explain node 1712:  63%|██████▎   | 126/200 [00:00<00:00, 203.78it/s]\u001b[A\n",
      "Explain node 1712:  74%|███████▎  | 147/200 [00:00<00:00, 204.99it/s]\u001b[A\n",
      "Explain node 1712:  84%|████████▍ | 169/200 [00:00<00:00, 208.33it/s]\u001b[A\n",
      "Explain node 1712: 100%|██████████| 200/200 [00:00<00:00, 206.54it/s]\u001b[A\n"
     ]
    },
    {
     "name": "stdout",
     "output_type": "stream",
     "text": [
      "Accuracy on Model:  30.76923076923077\n",
      "Accuracy on EVAL-XG:  61.53846153846154\n"
     ]
    },
    {
     "name": "stderr",
     "output_type": "stream",
     "text": [
      "\n",
      "  0%|          | 0/200 [00:00<?, ?it/s]\u001b[A\n",
      "Explain node 1713:   0%|          | 0/200 [00:00<?, ?it/s]\u001b[A\n",
      "Explain node 1713:  11%|█         | 22/200 [00:00<00:00, 216.40it/s]\u001b[A\n",
      "Explain node 1713:  22%|██▏       | 44/200 [00:00<00:00, 205.70it/s]\u001b[A\n",
      "Explain node 1713:  33%|███▎      | 66/200 [00:00<00:00, 211.03it/s]\u001b[A\n",
      "Explain node 1713:  44%|████▍     | 88/200 [00:00<00:00, 211.76it/s]\u001b[A\n",
      "Explain node 1713:  55%|█████▌    | 110/200 [00:00<00:00, 209.81it/s]\u001b[A\n",
      "Explain node 1713:  66%|██████▌   | 131/200 [00:00<00:00, 209.42it/s]\u001b[A\n",
      "Explain node 1713:  76%|███████▋  | 153/200 [00:00<00:00, 209.99it/s]\u001b[A\n",
      "Explain node 1713:  88%|████████▊ | 175/200 [00:00<00:00, 211.44it/s]\u001b[A\n",
      "Explain node 1713: 100%|██████████| 200/200 [00:00<00:00, 210.06it/s]\u001b[A\n"
     ]
    },
    {
     "name": "stdout",
     "output_type": "stream",
     "text": [
      "Accuracy on Model:  28.57142857142857\n",
      "Accuracy on EVAL-XG:  57.14285714285714\n"
     ]
    },
    {
     "name": "stderr",
     "output_type": "stream",
     "text": [
      "\n",
      "  0%|          | 0/200 [00:00<?, ?it/s]\u001b[A\n",
      "Explain node 1714:   0%|          | 0/200 [00:00<?, ?it/s]\u001b[A\n",
      "Explain node 1714:  10%|█         | 21/200 [00:00<00:00, 209.67it/s]\u001b[A\n",
      "Explain node 1714:  22%|██▏       | 43/200 [00:00<00:00, 213.49it/s]\u001b[A\n",
      "Explain node 1714:  32%|███▎      | 65/200 [00:00<00:00, 210.96it/s]\u001b[A\n",
      "Explain node 1714:  44%|████▎     | 87/200 [00:00<00:00, 211.32it/s]\u001b[A\n",
      "Explain node 1714:  55%|█████▍    | 109/200 [00:00<00:00, 213.16it/s]\u001b[A\n",
      "Explain node 1714:  66%|██████▌   | 131/200 [00:00<00:00, 213.77it/s]\u001b[A\n",
      "Explain node 1714:  76%|███████▋  | 153/200 [00:00<00:00, 213.67it/s]\u001b[A\n",
      "Explain node 1714:  88%|████████▊ | 175/200 [00:00<00:00, 214.05it/s]\u001b[A\n",
      "Explain node 1714: 100%|██████████| 200/200 [00:00<00:00, 212.89it/s]\u001b[A\n"
     ]
    },
    {
     "name": "stdout",
     "output_type": "stream",
     "text": [
      "Accuracy on Model:  26.666666666666668\n",
      "Accuracy on EVAL-XG:  53.333333333333336\n"
     ]
    },
    {
     "name": "stderr",
     "output_type": "stream",
     "text": [
      "\n",
      "  0%|          | 0/200 [00:00<?, ?it/s]\u001b[A\n",
      "Explain node 1715:   0%|          | 0/200 [00:00<?, ?it/s]\u001b[A\n",
      "Explain node 1715:  12%|█▏        | 23/200 [00:00<00:00, 222.21it/s]\u001b[A\n",
      "Explain node 1715:  23%|██▎       | 46/200 [00:00<00:00, 220.64it/s]\u001b[A\n",
      "Explain node 1715:  34%|███▍      | 69/200 [00:00<00:00, 217.77it/s]\u001b[A\n",
      "Explain node 1715:  46%|████▌     | 91/200 [00:00<00:00, 217.66it/s]\u001b[A\n",
      "Explain node 1715:  56%|█████▋    | 113/200 [00:00<00:00, 216.28it/s]\u001b[A\n",
      "Explain node 1715:  68%|██████▊   | 135/200 [00:00<00:00, 217.45it/s]\u001b[A\n",
      "Explain node 1715:  78%|███████▊  | 157/200 [00:00<00:00, 218.24it/s]\u001b[A\n",
      "Explain node 1715: 100%|██████████| 200/200 [00:00<00:00, 217.12it/s]\u001b[A\n"
     ]
    },
    {
     "name": "stdout",
     "output_type": "stream",
     "text": [
      "Accuracy on Model:  31.25\n",
      "Accuracy on EVAL-XG:  56.25\n"
     ]
    },
    {
     "name": "stderr",
     "output_type": "stream",
     "text": [
      "\n",
      "  0%|          | 0/200 [00:00<?, ?it/s]\u001b[A\n",
      "Explain node 1716:   0%|          | 0/200 [00:00<?, ?it/s]\u001b[A\n",
      "Explain node 1716:  10%|▉         | 19/200 [00:00<00:00, 187.30it/s]\u001b[A\n",
      "Explain node 1716:  20%|██        | 41/200 [00:00<00:00, 205.59it/s]\u001b[A\n",
      "Explain node 1716:  32%|███▏      | 63/200 [00:00<00:00, 210.93it/s]\u001b[A\n",
      "Explain node 1716:  42%|████▎     | 85/200 [00:00<00:00, 209.11it/s]\u001b[A\n",
      "Explain node 1716:  53%|█████▎    | 106/200 [00:00<00:00, 206.34it/s]\u001b[A\n",
      "Explain node 1716:  64%|██████▎   | 127/200 [00:00<00:00, 205.26it/s]\u001b[A\n",
      "Explain node 1716:  74%|███████▍  | 148/200 [00:00<00:00, 202.27it/s]\u001b[A\n",
      "Explain node 1716:  84%|████████▍ | 169/200 [00:00<00:00, 199.33it/s]\u001b[A\n",
      "Explain node 1716: 100%|██████████| 200/200 [00:00<00:00, 204.21it/s]\u001b[A\n"
     ]
    },
    {
     "name": "stdout",
     "output_type": "stream",
     "text": [
      "Accuracy on Model:  29.411764705882355\n",
      "Accuracy on EVAL-XG:  52.94117647058824\n"
     ]
    },
    {
     "name": "stderr",
     "output_type": "stream",
     "text": [
      "\n",
      "  0%|          | 0/200 [00:00<?, ?it/s]\u001b[A\n",
      "Explain node 1717:   0%|          | 0/200 [00:00<?, ?it/s]\u001b[A\n",
      "Explain node 1717:  10%|█         | 21/200 [00:00<00:00, 202.25it/s]\u001b[A\n",
      "Explain node 1717:  21%|██        | 42/200 [00:00<00:00, 199.43it/s]\u001b[A\n",
      "Explain node 1717:  32%|███▏      | 63/200 [00:00<00:00, 203.74it/s]\u001b[A\n",
      "Explain node 1717:  42%|████▎     | 85/200 [00:00<00:00, 208.90it/s]\u001b[A\n",
      "Explain node 1717:  54%|█████▍    | 108/200 [00:00<00:00, 213.33it/s]\u001b[A\n",
      "Explain node 1717:  65%|██████▌   | 130/200 [00:00<00:00, 215.30it/s]\u001b[A\n",
      "Explain node 1717:  76%|███████▋  | 153/200 [00:00<00:00, 217.08it/s]\u001b[A\n",
      "Explain node 1717:  88%|████████▊ | 175/200 [00:00<00:00, 217.52it/s]\u001b[A\n",
      "Explain node 1717: 100%|██████████| 200/200 [00:00<00:00, 213.25it/s]\u001b[A\n"
     ]
    },
    {
     "name": "stdout",
     "output_type": "stream",
     "text": [
      "Accuracy on Model:  33.33333333333333\n",
      "Accuracy on EVAL-XG:  55.55555555555556\n"
     ]
    },
    {
     "name": "stderr",
     "output_type": "stream",
     "text": [
      "\n",
      "  0%|          | 0/200 [00:00<?, ?it/s]\u001b[A\n",
      "Explain node 1718:   0%|          | 0/200 [00:00<?, ?it/s]\u001b[A\n",
      "Explain node 1718:  11%|█         | 22/200 [00:00<00:00, 215.66it/s]\u001b[A\n",
      "Explain node 1718:  22%|██▏       | 44/200 [00:00<00:00, 215.55it/s]\u001b[A\n",
      "Explain node 1718:  33%|███▎      | 66/200 [00:00<00:00, 216.51it/s]\u001b[A\n",
      "Explain node 1718:  44%|████▍     | 89/200 [00:00<00:00, 218.79it/s]\u001b[A\n",
      "Explain node 1718:  56%|█████▌    | 111/200 [00:00<00:00, 218.98it/s]\u001b[A\n",
      "Explain node 1718:  67%|██████▋   | 134/200 [00:00<00:00, 220.51it/s]\u001b[A\n",
      "Explain node 1718:  78%|███████▊  | 157/200 [00:00<00:00, 220.51it/s]\u001b[A\n",
      "Explain node 1718: 100%|██████████| 200/200 [00:00<00:00, 220.74it/s]\u001b[A\n"
     ]
    },
    {
     "name": "stdout",
     "output_type": "stream",
     "text": [
      "Accuracy on Model:  31.57894736842105\n",
      "Accuracy on EVAL-XG:  52.63157894736842\n"
     ]
    },
    {
     "name": "stderr",
     "output_type": "stream",
     "text": [
      "\n",
      "  0%|          | 0/200 [00:00<?, ?it/s]\u001b[A\n",
      "Explain node 1719:   0%|          | 0/200 [00:00<?, ?it/s]\u001b[A\n",
      "Explain node 1719:  12%|█▏        | 23/200 [00:00<00:00, 228.31it/s]\u001b[A\n",
      "Explain node 1719:  23%|██▎       | 46/200 [00:00<00:00, 226.64it/s]\u001b[A\n",
      "Explain node 1719:  34%|███▍      | 69/200 [00:00<00:00, 225.71it/s]\u001b[A\n",
      "Explain node 1719:  46%|████▌     | 92/200 [00:00<00:00, 225.44it/s]\u001b[A\n",
      "Explain node 1719:  57%|█████▊    | 115/200 [00:00<00:00, 224.89it/s]\u001b[A\n",
      "Explain node 1719:  69%|██████▉   | 138/200 [00:00<00:00, 224.45it/s]\u001b[A\n",
      "Explain node 1719:  80%|████████  | 161/200 [00:00<00:00, 224.04it/s]\u001b[A\n",
      "Explain node 1719: 100%|██████████| 200/200 [00:00<00:00, 224.32it/s]\u001b[A\n"
     ]
    },
    {
     "name": "stdout",
     "output_type": "stream",
     "text": [
      "Accuracy on Model:  30.0\n",
      "Accuracy on EVAL-XG:  50.0\n"
     ]
    },
    {
     "name": "stderr",
     "output_type": "stream",
     "text": [
      "\n",
      "  0%|          | 0/200 [00:00<?, ?it/s]\u001b[A\n",
      "Explain node 1720:   0%|          | 0/200 [00:00<?, ?it/s]\u001b[A\n",
      "Explain node 1720:  12%|█▏        | 23/200 [00:00<00:00, 229.86it/s]\u001b[A\n",
      "Explain node 1720:  24%|██▎       | 47/200 [00:00<00:00, 229.98it/s]\u001b[A\n",
      "Explain node 1720:  35%|███▌      | 70/200 [00:00<00:00, 229.27it/s]\u001b[A\n",
      "Explain node 1720:  46%|████▋     | 93/200 [00:00<00:00, 226.70it/s]\u001b[A\n",
      "Explain node 1720:  58%|█████▊    | 116/200 [00:00<00:00, 225.14it/s]\u001b[A\n",
      "Explain node 1720:  70%|██████▉   | 139/200 [00:00<00:00, 224.37it/s]\u001b[A\n",
      "Explain node 1720:  81%|████████  | 162/200 [00:00<00:00, 223.58it/s]\u001b[A\n",
      "Explain node 1720: 100%|██████████| 200/200 [00:00<00:00, 224.17it/s]\u001b[A\n"
     ]
    },
    {
     "name": "stdout",
     "output_type": "stream",
     "text": [
      "Accuracy on Model:  28.57142857142857\n",
      "Accuracy on EVAL-XG:  47.61904761904761\n"
     ]
    },
    {
     "name": "stderr",
     "output_type": "stream",
     "text": [
      "\n",
      "  0%|          | 0/200 [00:00<?, ?it/s]\u001b[A\n",
      "Explain node 1721:   0%|          | 0/200 [00:00<?, ?it/s]\u001b[A\n",
      "Explain node 1721:  12%|█▏        | 23/200 [00:00<00:00, 221.96it/s]\u001b[A\n",
      "Explain node 1721:  23%|██▎       | 46/200 [00:00<00:00, 220.21it/s]\u001b[A\n",
      "Explain node 1721:  34%|███▍      | 69/200 [00:00<00:00, 220.45it/s]\u001b[A\n",
      "Explain node 1721:  46%|████▌     | 92/200 [00:00<00:00, 222.38it/s]\u001b[A\n",
      "Explain node 1721:  57%|█████▊    | 115/200 [00:00<00:00, 223.01it/s]\u001b[A\n",
      "Explain node 1721:  69%|██████▉   | 138/200 [00:00<00:00, 222.84it/s]\u001b[A\n",
      "Explain node 1721:  80%|████████  | 161/200 [00:00<00:00, 222.75it/s]\u001b[A\n",
      "Explain node 1721: 100%|██████████| 200/200 [00:00<00:00, 222.89it/s]\u001b[A\n"
     ]
    },
    {
     "name": "stdout",
     "output_type": "stream",
     "text": [
      "Accuracy on Model:  27.27272727272727\n",
      "Accuracy on EVAL-XG:  45.45454545454545\n"
     ]
    },
    {
     "name": "stderr",
     "output_type": "stream",
     "text": [
      "\n",
      "  0%|          | 0/200 [00:00<?, ?it/s]\u001b[A\n",
      "Explain node 1722:   0%|          | 0/200 [00:00<?, ?it/s]\u001b[A\n",
      "Explain node 1722:  12%|█▏        | 23/200 [00:00<00:00, 221.21it/s]\u001b[A\n",
      "Explain node 1722:  23%|██▎       | 46/200 [00:00<00:00, 220.42it/s]\u001b[A\n",
      "Explain node 1722:  34%|███▍      | 69/200 [00:00<00:00, 220.43it/s]\u001b[A\n",
      "Explain node 1722:  46%|████▌     | 92/200 [00:00<00:00, 219.95it/s]\u001b[A\n",
      "Explain node 1722:  57%|█████▊    | 115/200 [00:00<00:00, 222.87it/s]\u001b[A\n",
      "Explain node 1722:  69%|██████▉   | 138/200 [00:00<00:00, 223.91it/s]\u001b[A\n",
      "Explain node 1722:  80%|████████  | 161/200 [00:00<00:00, 225.22it/s]\u001b[A\n",
      "Explain node 1722: 100%|██████████| 200/200 [00:00<00:00, 222.24it/s]\u001b[A\n"
     ]
    },
    {
     "name": "stdout",
     "output_type": "stream",
     "text": [
      "Accuracy on Model:  26.08695652173913\n",
      "Accuracy on EVAL-XG:  43.47826086956522\n"
     ]
    },
    {
     "name": "stderr",
     "output_type": "stream",
     "text": [
      "\n",
      "  0%|          | 0/200 [00:00<?, ?it/s]\u001b[A\n",
      "Explain node 1723:   0%|          | 0/200 [00:00<?, ?it/s]\u001b[A\n",
      "Explain node 1723:  12%|█▏        | 23/200 [00:00<00:00, 224.26it/s]\u001b[A\n",
      "Explain node 1723:  23%|██▎       | 46/200 [00:00<00:00, 217.64it/s]\u001b[A\n",
      "Explain node 1723:  34%|███▍      | 68/200 [00:00<00:00, 217.95it/s]\u001b[A\n",
      "Explain node 1723:  45%|████▌     | 90/200 [00:00<00:00, 218.04it/s]\u001b[A\n",
      "Explain node 1723:  56%|█████▌    | 112/200 [00:00<00:00, 216.34it/s]\u001b[A\n",
      "Explain node 1723:  67%|██████▋   | 134/200 [00:00<00:00, 216.00it/s]\u001b[A\n",
      "Explain node 1723:  78%|███████▊  | 156/200 [00:00<00:00, 213.88it/s]\u001b[A\n",
      "Explain node 1723:  89%|████████▉ | 178/200 [00:00<00:00, 214.32it/s]\u001b[A\n",
      "Explain node 1723: 100%|██████████| 200/200 [00:00<00:00, 215.36it/s]\u001b[A\n"
     ]
    },
    {
     "name": "stdout",
     "output_type": "stream",
     "text": [
      "Accuracy on Model:  25.0\n",
      "Accuracy on EVAL-XG:  41.66666666666667\n"
     ]
    },
    {
     "name": "stderr",
     "output_type": "stream",
     "text": [
      "\n",
      "  0%|          | 0/200 [00:00<?, ?it/s]\u001b[A\n",
      "Explain node 1724:   0%|          | 0/200 [00:00<?, ?it/s]\u001b[A\n",
      "Explain node 1724:  11%|█         | 22/200 [00:00<00:00, 217.02it/s]\u001b[A\n",
      "Explain node 1724:  22%|██▏       | 44/200 [00:00<00:00, 215.04it/s]\u001b[A\n",
      "Explain node 1724:  33%|███▎      | 66/200 [00:00<00:00, 206.71it/s]\u001b[A\n",
      "Explain node 1724:  44%|████▍     | 88/200 [00:00<00:00, 211.02it/s]\u001b[A\n",
      "Explain node 1724:  55%|█████▌    | 110/200 [00:00<00:00, 212.58it/s]\u001b[A\n",
      "Explain node 1724:  66%|██████▌   | 132/200 [00:00<00:00, 214.08it/s]\u001b[A\n",
      "Explain node 1724:  77%|███████▋  | 154/200 [00:00<00:00, 215.12it/s]\u001b[A\n",
      "Explain node 1724:  88%|████████▊ | 176/200 [00:00<00:00, 215.70it/s]\u001b[A\n",
      "Explain node 1724: 100%|██████████| 200/200 [00:00<00:00, 213.47it/s]\u001b[A\n"
     ]
    },
    {
     "name": "stdout",
     "output_type": "stream",
     "text": [
      "Accuracy on Model:  28.000000000000004\n",
      "Accuracy on EVAL-XG:  44.0\n"
     ]
    },
    {
     "name": "stderr",
     "output_type": "stream",
     "text": [
      "\n",
      "  0%|          | 0/200 [00:00<?, ?it/s]\u001b[A\n",
      "Explain node 1725:   0%|          | 0/200 [00:00<?, ?it/s]\u001b[A\n",
      "Explain node 1725:  11%|█         | 22/200 [00:00<00:00, 215.42it/s]\u001b[A\n",
      "Explain node 1725:  22%|██▏       | 44/200 [00:00<00:00, 213.76it/s]\u001b[A\n",
      "Explain node 1725:  33%|███▎      | 66/200 [00:00<00:00, 213.69it/s]\u001b[A\n",
      "Explain node 1725:  44%|████▍     | 88/200 [00:00<00:00, 214.06it/s]\u001b[A\n",
      "Explain node 1725:  55%|█████▌    | 110/200 [00:00<00:00, 215.22it/s]\u001b[A\n",
      "Explain node 1725:  66%|██████▌   | 132/200 [00:00<00:00, 215.95it/s]\u001b[A\n",
      "Explain node 1725:  77%|███████▋  | 154/200 [00:00<00:00, 215.51it/s]\u001b[A\n",
      "Explain node 1725:  88%|████████▊ | 176/200 [00:00<00:00, 216.45it/s]\u001b[A\n",
      "Explain node 1725: 100%|██████████| 200/200 [00:00<00:00, 215.42it/s]\u001b[A\n"
     ]
    },
    {
     "name": "stdout",
     "output_type": "stream",
     "text": [
      "Accuracy on Model:  30.76923076923077\n",
      "Accuracy on EVAL-XG:  46.15384615384615\n"
     ]
    },
    {
     "name": "stderr",
     "output_type": "stream",
     "text": [
      "\n",
      "  0%|          | 0/200 [00:00<?, ?it/s]\u001b[A\n",
      "Explain node 1726:   0%|          | 0/200 [00:00<?, ?it/s]\u001b[A\n",
      "Explain node 1726:  11%|█         | 22/200 [00:00<00:00, 218.06it/s]\u001b[A\n",
      "Explain node 1726:  22%|██▏       | 44/200 [00:00<00:00, 217.57it/s]\u001b[A\n",
      "Explain node 1726:  33%|███▎      | 66/200 [00:00<00:00, 217.42it/s]\u001b[A\n",
      "Explain node 1726:  44%|████▍     | 88/200 [00:00<00:00, 215.13it/s]\u001b[A\n",
      "Explain node 1726:  55%|█████▌    | 110/200 [00:00<00:00, 216.71it/s]\u001b[A\n",
      "Explain node 1726:  66%|██████▋   | 133/200 [00:00<00:00, 218.48it/s]\u001b[A\n",
      "Explain node 1726:  78%|███████▊  | 155/200 [00:00<00:00, 214.16it/s]\u001b[A\n",
      "Explain node 1726:  88%|████████▊ | 177/200 [00:00<00:00, 213.57it/s]\u001b[A\n",
      "Explain node 1726: 100%|██████████| 200/200 [00:00<00:00, 213.35it/s]\u001b[A\n"
     ]
    },
    {
     "name": "stdout",
     "output_type": "stream",
     "text": [
      "Accuracy on Model:  29.629629629629626\n",
      "Accuracy on EVAL-XG:  44.44444444444444\n"
     ]
    },
    {
     "name": "stderr",
     "output_type": "stream",
     "text": [
      "\n",
      "  0%|          | 0/200 [00:00<?, ?it/s]\u001b[A\n",
      "Explain node 1727:   0%|          | 0/200 [00:00<?, ?it/s]\u001b[A\n",
      "Explain node 1727:  11%|█         | 22/200 [00:00<00:00, 214.57it/s]\u001b[A\n",
      "Explain node 1727:  22%|██▏       | 44/200 [00:00<00:00, 216.40it/s]\u001b[A\n",
      "Explain node 1727:  33%|███▎      | 66/200 [00:00<00:00, 210.52it/s]\u001b[A\n",
      "Explain node 1727:  44%|████▍     | 88/200 [00:00<00:00, 201.92it/s]\u001b[A\n",
      "Explain node 1727:  55%|█████▌    | 110/200 [00:00<00:00, 207.65it/s]\u001b[A\n",
      "Explain node 1727:  66%|██████▋   | 133/200 [00:00<00:00, 211.94it/s]\u001b[A\n",
      "Explain node 1727:  78%|███████▊  | 155/200 [00:00<00:00, 214.45it/s]\u001b[A\n",
      "Explain node 1727:  88%|████████▊ | 177/200 [00:00<00:00, 214.88it/s]\u001b[A\n",
      "Explain node 1727: 100%|██████████| 200/200 [00:00<00:00, 211.79it/s]\u001b[A\n"
     ]
    },
    {
     "name": "stdout",
     "output_type": "stream",
     "text": [
      "Accuracy on Model:  32.142857142857146\n",
      "Accuracy on EVAL-XG:  46.42857142857143\n"
     ]
    },
    {
     "name": "stderr",
     "output_type": "stream",
     "text": [
      "\n",
      "  0%|          | 0/200 [00:00<?, ?it/s]\u001b[A\n",
      "Explain node 1728:   0%|          | 0/200 [00:00<?, ?it/s]\u001b[A\n",
      "Explain node 1728:  10%|█         | 21/200 [00:00<00:00, 208.57it/s]\u001b[A\n",
      "Explain node 1728:  22%|██▏       | 43/200 [00:00<00:00, 211.65it/s]\u001b[A\n",
      "Explain node 1728:  32%|███▎      | 65/200 [00:00<00:00, 214.54it/s]\u001b[A\n",
      "Explain node 1728:  44%|████▎     | 87/200 [00:00<00:00, 211.92it/s]\u001b[A\n",
      "Explain node 1728:  55%|█████▍    | 109/200 [00:00<00:00, 211.40it/s]\u001b[A\n",
      "Explain node 1728:  66%|██████▌   | 131/200 [00:00<00:00, 206.44it/s]\u001b[A\n",
      "Explain node 1728:  76%|███████▌  | 152/200 [00:00<00:00, 207.05it/s]\u001b[A\n",
      "Explain node 1728:  88%|████████▊ | 175/200 [00:00<00:00, 212.62it/s]\u001b[A\n",
      "Explain node 1728: 100%|██████████| 200/200 [00:00<00:00, 212.17it/s]\u001b[A\n"
     ]
    },
    {
     "name": "stdout",
     "output_type": "stream",
     "text": [
      "Accuracy on Model:  34.48275862068966\n",
      "Accuracy on EVAL-XG:  48.275862068965516\n"
     ]
    },
    {
     "name": "stderr",
     "output_type": "stream",
     "text": [
      "\n",
      "  0%|          | 0/200 [00:00<?, ?it/s]\u001b[A\n",
      "Explain node 1729:   0%|          | 0/200 [00:00<?, ?it/s]\u001b[A\n",
      "Explain node 1729:  11%|█         | 22/200 [00:00<00:00, 217.75it/s]\u001b[A\n",
      "Explain node 1729:  22%|██▏       | 44/200 [00:00<00:00, 217.62it/s]\u001b[A\n",
      "Explain node 1729:  34%|███▎      | 67/200 [00:00<00:00, 219.52it/s]\u001b[A\n",
      "Explain node 1729:  44%|████▍     | 89/200 [00:00<00:00, 219.41it/s]\u001b[A\n",
      "Explain node 1729:  56%|█████▌    | 111/200 [00:00<00:00, 218.64it/s]\u001b[A\n",
      "Explain node 1729:  66%|██████▋   | 133/200 [00:00<00:00, 217.56it/s]\u001b[A\n",
      "Explain node 1729:  78%|███████▊  | 156/200 [00:00<00:00, 218.81it/s]\u001b[A\n",
      "Explain node 1729:  89%|████████▉ | 178/200 [00:00<00:00, 218.77it/s]\u001b[A\n",
      "Explain node 1729: 100%|██████████| 200/200 [00:00<00:00, 216.46it/s]\u001b[A\n"
     ]
    },
    {
     "name": "stdout",
     "output_type": "stream",
     "text": [
      "Accuracy on Model:  33.33333333333333\n",
      "Accuracy on EVAL-XG:  46.666666666666664\n"
     ]
    },
    {
     "name": "stderr",
     "output_type": "stream",
     "text": [
      "\n",
      "  0%|          | 0/200 [00:00<?, ?it/s]\u001b[A\n",
      "Explain node 1730:   0%|          | 0/200 [00:00<?, ?it/s]\u001b[A\n",
      "Explain node 1730:  10%|█         | 20/200 [00:00<00:00, 195.73it/s]\u001b[A\n",
      "Explain node 1730:  20%|██        | 40/200 [00:00<00:00, 197.25it/s]\u001b[A\n",
      "Explain node 1730:  30%|███       | 61/200 [00:00<00:00, 201.23it/s]\u001b[A\n",
      "Explain node 1730:  42%|████▏     | 84/200 [00:00<00:00, 208.62it/s]\u001b[A\n",
      "Explain node 1730:  52%|█████▎    | 105/200 [00:00<00:00, 204.66it/s]\u001b[A\n",
      "Explain node 1730:  63%|██████▎   | 126/200 [00:00<00:00, 200.55it/s]\u001b[A\n",
      "Explain node 1730:  74%|███████▎  | 147/200 [00:00<00:00, 195.06it/s]\u001b[A\n",
      "Explain node 1730:  84%|████████▍ | 169/200 [00:00<00:00, 201.93it/s]\u001b[A\n",
      "Explain node 1730: 100%|██████████| 200/200 [00:00<00:00, 203.16it/s]\u001b[A\n"
     ]
    },
    {
     "name": "stdout",
     "output_type": "stream",
     "text": [
      "Accuracy on Model:  35.483870967741936\n",
      "Accuracy on EVAL-XG:  48.38709677419355\n"
     ]
    },
    {
     "name": "stderr",
     "output_type": "stream",
     "text": [
      "\n",
      "  0%|          | 0/200 [00:00<?, ?it/s]\u001b[A\n",
      "Explain node 1731:   0%|          | 0/200 [00:00<?, ?it/s]\u001b[A\n",
      "Explain node 1731:  11%|█         | 22/200 [00:00<00:00, 214.39it/s]\u001b[A\n",
      "Explain node 1731:  22%|██▏       | 44/200 [00:00<00:00, 214.76it/s]\u001b[A\n",
      "Explain node 1731:  33%|███▎      | 66/200 [00:00<00:00, 215.25it/s]\u001b[A\n",
      "Explain node 1731:  44%|████▍     | 88/200 [00:00<00:00, 215.87it/s]\u001b[A\n",
      "Explain node 1731:  56%|█████▌    | 111/200 [00:00<00:00, 217.57it/s]\u001b[A\n",
      "Explain node 1731:  66%|██████▋   | 133/200 [00:00<00:00, 211.06it/s]\u001b[A\n",
      "Explain node 1731:  78%|███████▊  | 155/200 [00:00<00:00, 213.29it/s]\u001b[A\n",
      "Explain node 1731:  88%|████████▊ | 177/200 [00:00<00:00, 214.78it/s]\u001b[A\n",
      "Explain node 1731: 100%|██████████| 200/200 [00:00<00:00, 214.96it/s]\u001b[A\n"
     ]
    },
    {
     "name": "stdout",
     "output_type": "stream",
     "text": [
      "Accuracy on Model:  34.375\n",
      "Accuracy on EVAL-XG:  46.875\n"
     ]
    },
    {
     "name": "stderr",
     "output_type": "stream",
     "text": [
      "\n",
      "  0%|          | 0/200 [00:00<?, ?it/s]\u001b[A\n",
      "Explain node 1732:   0%|          | 0/200 [00:00<?, ?it/s]\u001b[A\n",
      "Explain node 1732:  11%|█         | 22/200 [00:00<00:00, 213.70it/s]\u001b[A\n",
      "Explain node 1732:  22%|██▏       | 44/200 [00:00<00:00, 203.97it/s]\u001b[A\n",
      "Explain node 1732:  32%|███▎      | 65/200 [00:00<00:00, 200.62it/s]\u001b[A\n",
      "Explain node 1732:  43%|████▎     | 86/200 [00:00<00:00, 198.53it/s]\u001b[A\n",
      "Explain node 1732:  53%|█████▎    | 106/200 [00:00<00:00, 195.93it/s]\u001b[A\n",
      "Explain node 1732:  64%|██████▍   | 128/200 [00:00<00:00, 202.81it/s]\u001b[A\n",
      "Explain node 1732:  76%|███████▌  | 151/200 [00:00<00:00, 209.71it/s]\u001b[A\n",
      "Explain node 1732:  87%|████████▋ | 174/200 [00:00<00:00, 214.09it/s]\u001b[A\n",
      "Explain node 1732: 100%|██████████| 200/200 [00:00<00:00, 207.54it/s]\u001b[A\n"
     ]
    },
    {
     "name": "stdout",
     "output_type": "stream",
     "text": [
      "Accuracy on Model:  33.33333333333333\n",
      "Accuracy on EVAL-XG:  45.45454545454545\n"
     ]
    },
    {
     "name": "stderr",
     "output_type": "stream",
     "text": [
      "\n",
      "  0%|          | 0/200 [00:00<?, ?it/s]\u001b[A\n",
      "Explain node 1733:   0%|          | 0/200 [00:00<?, ?it/s]\u001b[A\n",
      "Explain node 1733:  12%|█▏        | 23/200 [00:00<00:00, 220.40it/s]\u001b[A\n",
      "Explain node 1733:  23%|██▎       | 46/200 [00:00<00:00, 214.28it/s]\u001b[A\n",
      "Explain node 1733:  34%|███▍      | 69/200 [00:00<00:00, 219.42it/s]\u001b[A\n",
      "Explain node 1733:  46%|████▌     | 91/200 [00:00<00:00, 213.70it/s]\u001b[A\n",
      "Explain node 1733:  56%|█████▋    | 113/200 [00:00<00:00, 211.23it/s]\u001b[A\n",
      "Explain node 1733:  68%|██████▊   | 135/200 [00:00<00:00, 210.03it/s]\u001b[A\n",
      "Explain node 1733:  78%|███████▊  | 157/200 [00:00<00:00, 208.73it/s]\u001b[A\n",
      "Explain node 1733: 100%|██████████| 200/200 [00:00<00:00, 213.66it/s]\u001b[A\n"
     ]
    },
    {
     "name": "stdout",
     "output_type": "stream",
     "text": [
      "Accuracy on Model:  32.35294117647059\n",
      "Accuracy on EVAL-XG:  44.11764705882353\n"
     ]
    },
    {
     "name": "stderr",
     "output_type": "stream",
     "text": [
      "\n",
      "  0%|          | 0/200 [00:00<?, ?it/s]\u001b[A\n",
      "Explain node 1734:   0%|          | 0/200 [00:00<?, ?it/s]\u001b[A\n",
      "Explain node 1734:  12%|█▏        | 23/200 [00:00<00:00, 222.83it/s]\u001b[A\n",
      "Explain node 1734:  23%|██▎       | 46/200 [00:00<00:00, 222.64it/s]\u001b[A\n",
      "Explain node 1734:  34%|███▍      | 69/200 [00:00<00:00, 220.00it/s]\u001b[A\n",
      "Explain node 1734:  46%|████▌     | 92/200 [00:00<00:00, 221.06it/s]\u001b[A\n",
      "Explain node 1734:  57%|█████▊    | 115/200 [00:00<00:00, 221.56it/s]\u001b[A\n",
      "Explain node 1734:  69%|██████▉   | 138/200 [00:00<00:00, 219.07it/s]\u001b[A\n",
      "Explain node 1734:  80%|████████  | 160/200 [00:00<00:00, 218.86it/s]\u001b[A\n",
      "Explain node 1734: 100%|██████████| 200/200 [00:00<00:00, 215.76it/s]\u001b[A\n"
     ]
    },
    {
     "name": "stdout",
     "output_type": "stream",
     "text": [
      "Accuracy on Model:  34.285714285714285\n",
      "Accuracy on EVAL-XG:  45.714285714285715\n"
     ]
    },
    {
     "name": "stderr",
     "output_type": "stream",
     "text": [
      "\n",
      "  0%|          | 0/200 [00:00<?, ?it/s]\u001b[A\n",
      "Explain node 1735:   0%|          | 0/200 [00:00<?, ?it/s]\u001b[A\n",
      "Explain node 1735:  12%|█▏        | 23/200 [00:00<00:00, 223.03it/s]\u001b[A\n",
      "Explain node 1735:  23%|██▎       | 46/200 [00:00<00:00, 207.08it/s]\u001b[A\n",
      "Explain node 1735:  34%|███▎      | 67/200 [00:00<00:00, 203.26it/s]\u001b[A\n",
      "Explain node 1735:  44%|████▍     | 89/200 [00:00<00:00, 207.65it/s]\u001b[A\n",
      "Explain node 1735:  56%|█████▌    | 111/200 [00:00<00:00, 211.10it/s]\u001b[A\n",
      "Explain node 1735:  67%|██████▋   | 134/200 [00:00<00:00, 214.50it/s]\u001b[A\n",
      "Explain node 1735:  78%|███████▊  | 157/200 [00:00<00:00, 216.38it/s]\u001b[A\n",
      "Explain node 1735: 100%|██████████| 200/200 [00:00<00:00, 214.02it/s]\u001b[A\n"
     ]
    },
    {
     "name": "stdout",
     "output_type": "stream",
     "text": [
      "Accuracy on Model:  36.11111111111111\n",
      "Accuracy on EVAL-XG:  47.22222222222222\n"
     ]
    },
    {
     "name": "stderr",
     "output_type": "stream",
     "text": [
      "\n",
      "  0%|          | 0/200 [00:00<?, ?it/s]\u001b[A\n",
      "Explain node 1736:   0%|          | 0/200 [00:00<?, ?it/s]\u001b[A\n",
      "Explain node 1736:  11%|█         | 22/200 [00:00<00:00, 212.47it/s]\u001b[A\n",
      "Explain node 1736:  22%|██▏       | 44/200 [00:00<00:00, 205.76it/s]\u001b[A\n",
      "Explain node 1736:  32%|███▎      | 65/200 [00:00<00:00, 197.97it/s]\u001b[A\n",
      "Explain node 1736:  42%|████▎     | 85/200 [00:00<00:00, 198.20it/s]\u001b[A\n",
      "Explain node 1736:  53%|█████▎    | 106/200 [00:00<00:00, 199.47it/s]\u001b[A\n",
      "Explain node 1736:  64%|██████▎   | 127/200 [00:00<00:00, 201.59it/s]\u001b[A\n",
      "Explain node 1736:  74%|███████▍  | 149/200 [00:00<00:00, 205.78it/s]\u001b[A\n",
      "Explain node 1736:  86%|████████▌ | 171/200 [00:00<00:00, 209.03it/s]\u001b[A\n",
      "Explain node 1736: 100%|██████████| 200/200 [00:00<00:00, 204.49it/s]\u001b[A\n"
     ]
    },
    {
     "name": "stdout",
     "output_type": "stream",
     "text": [
      "Accuracy on Model:  35.13513513513514\n",
      "Accuracy on EVAL-XG:  45.94594594594595\n"
     ]
    },
    {
     "name": "stderr",
     "output_type": "stream",
     "text": [
      "\n",
      "  0%|          | 0/200 [00:00<?, ?it/s]\u001b[A\n",
      "Explain node 1737:   0%|          | 0/200 [00:00<?, ?it/s]\u001b[A\n",
      "Explain node 1737:  10%|█         | 20/200 [00:00<00:00, 199.36it/s]\u001b[A\n",
      "Explain node 1737:  20%|██        | 41/200 [00:00<00:00, 202.01it/s]\u001b[A\n",
      "Explain node 1737:  32%|███▏      | 63/200 [00:00<00:00, 209.72it/s]\u001b[A\n",
      "Explain node 1737:  42%|████▎     | 85/200 [00:00<00:00, 212.24it/s]\u001b[A\n",
      "Explain node 1737:  54%|█████▎    | 107/200 [00:00<00:00, 212.09it/s]\u001b[A\n",
      "Explain node 1737:  64%|██████▍   | 129/200 [00:00<00:00, 209.47it/s]\u001b[A\n",
      "Explain node 1737:  76%|███████▌  | 151/200 [00:00<00:00, 212.06it/s]\u001b[A\n",
      "Explain node 1737:  86%|████████▋ | 173/200 [00:00<00:00, 209.76it/s]\u001b[A\n",
      "Explain node 1737: 100%|██████████| 200/200 [00:00<00:00, 210.40it/s]\u001b[A\n"
     ]
    },
    {
     "name": "stdout",
     "output_type": "stream",
     "text": [
      "Accuracy on Model:  36.84210526315789\n",
      "Accuracy on EVAL-XG:  47.368421052631575\n"
     ]
    },
    {
     "name": "stderr",
     "output_type": "stream",
     "text": [
      "\n",
      "  0%|          | 0/200 [00:00<?, ?it/s]\u001b[A\n",
      "Explain node 1738:   0%|          | 0/200 [00:00<?, ?it/s]\u001b[A\n",
      "Explain node 1738:  12%|█▏        | 23/200 [00:00<00:00, 222.41it/s]\u001b[A\n",
      "Explain node 1738:  23%|██▎       | 46/200 [00:00<00:00, 219.30it/s]\u001b[A\n",
      "Explain node 1738:  34%|███▍      | 69/200 [00:00<00:00, 220.01it/s]\u001b[A\n",
      "Explain node 1738:  46%|████▌     | 92/200 [00:00<00:00, 221.94it/s]\u001b[A\n",
      "Explain node 1738:  57%|█████▊    | 115/200 [00:00<00:00, 221.50it/s]\u001b[A\n",
      "Explain node 1738:  69%|██████▉   | 138/200 [00:00<00:00, 221.52it/s]\u001b[A\n",
      "Explain node 1738:  80%|████████  | 161/200 [00:00<00:00, 221.03it/s]\u001b[A\n",
      "Explain node 1738: 100%|██████████| 200/200 [00:00<00:00, 220.94it/s]\u001b[A\n"
     ]
    },
    {
     "name": "stdout",
     "output_type": "stream",
     "text": [
      "Accuracy on Model:  35.8974358974359\n",
      "Accuracy on EVAL-XG:  46.15384615384615\n"
     ]
    },
    {
     "name": "stderr",
     "output_type": "stream",
     "text": [
      "\n",
      "  0%|          | 0/200 [00:00<?, ?it/s]\u001b[A\n",
      "Explain node 1739:   0%|          | 0/200 [00:00<?, ?it/s]\u001b[A\n",
      "Explain node 1739:  11%|█         | 22/200 [00:00<00:00, 218.18it/s]\u001b[A\n",
      "Explain node 1739:  22%|██▏       | 44/200 [00:00<00:00, 217.63it/s]\u001b[A\n",
      "Explain node 1739:  34%|███▎      | 67/200 [00:00<00:00, 218.79it/s]\u001b[A\n",
      "Explain node 1739:  44%|████▍     | 89/200 [00:00<00:00, 208.21it/s]\u001b[A\n",
      "Explain node 1739:  55%|█████▌    | 110/200 [00:00<00:00, 204.47it/s]\u001b[A\n",
      "Explain node 1739:  66%|██████▌   | 131/200 [00:00<00:00, 204.28it/s]\u001b[A\n",
      "Explain node 1739:  77%|███████▋  | 154/200 [00:00<00:00, 210.32it/s]\u001b[A\n",
      "Explain node 1739:  88%|████████▊ | 176/200 [00:00<00:00, 209.42it/s]\u001b[A\n",
      "Explain node 1739: 100%|██████████| 200/200 [00:00<00:00, 210.79it/s]\u001b[A\n"
     ]
    },
    {
     "name": "stdout",
     "output_type": "stream",
     "text": [
      "Accuracy on Model:  35.0\n",
      "Accuracy on EVAL-XG:  47.5\n"
     ]
    },
    {
     "name": "stderr",
     "output_type": "stream",
     "text": [
      "\n",
      "  0%|          | 0/200 [00:00<?, ?it/s]\u001b[A\n",
      "Explain node 1740:   0%|          | 0/200 [00:00<?, ?it/s]\u001b[A\n",
      "Explain node 1740:  11%|█         | 22/200 [00:00<00:00, 216.63it/s]\u001b[A\n",
      "Explain node 1740:  22%|██▏       | 44/200 [00:00<00:00, 215.54it/s]\u001b[A\n",
      "Explain node 1740:  34%|███▎      | 67/200 [00:00<00:00, 218.54it/s]\u001b[A\n",
      "Explain node 1740:  44%|████▍     | 89/200 [00:00<00:00, 209.55it/s]\u001b[A\n",
      "Explain node 1740:  56%|█████▌    | 112/200 [00:00<00:00, 215.46it/s]\u001b[A\n",
      "Explain node 1740:  67%|██████▋   | 134/200 [00:00<00:00, 213.79it/s]\u001b[A\n",
      "Explain node 1740:  78%|███████▊  | 157/200 [00:00<00:00, 217.36it/s]\u001b[A\n",
      "Explain node 1740: 100%|██████████| 200/200 [00:00<00:00, 216.56it/s]\u001b[A\n"
     ]
    },
    {
     "name": "stdout",
     "output_type": "stream",
     "text": [
      "Accuracy on Model:  36.58536585365854\n",
      "Accuracy on EVAL-XG:  48.78048780487805\n"
     ]
    },
    {
     "name": "stderr",
     "output_type": "stream",
     "text": [
      "\n",
      "  0%|          | 0/200 [00:00<?, ?it/s]\u001b[A\n",
      "Explain node 1741:   0%|          | 0/200 [00:00<?, ?it/s]\u001b[A\n",
      "Explain node 1741:  12%|█▏        | 23/200 [00:00<00:00, 222.38it/s]\u001b[A\n",
      "Explain node 1741:  23%|██▎       | 46/200 [00:00<00:00, 217.68it/s]\u001b[A\n",
      "Explain node 1741:  34%|███▍      | 68/200 [00:00<00:00, 218.45it/s]\u001b[A\n",
      "Explain node 1741:  46%|████▌     | 91/200 [00:00<00:00, 221.10it/s]\u001b[A\n",
      "Explain node 1741:  57%|█████▋    | 114/200 [00:00<00:00, 220.69it/s]\u001b[A\n",
      "Explain node 1741:  68%|██████▊   | 137/200 [00:00<00:00, 223.26it/s]\u001b[A\n",
      "Explain node 1741:  80%|████████  | 160/200 [00:00<00:00, 220.47it/s]\u001b[A\n",
      "Explain node 1741: 100%|██████████| 200/200 [00:00<00:00, 218.66it/s]\u001b[A\n"
     ]
    },
    {
     "name": "stdout",
     "output_type": "stream",
     "text": [
      "Accuracy on Model:  35.714285714285715\n",
      "Accuracy on EVAL-XG:  50.0\n"
     ]
    },
    {
     "name": "stderr",
     "output_type": "stream",
     "text": [
      "\n",
      "  0%|          | 0/200 [00:00<?, ?it/s]\u001b[A\n",
      "Explain node 1742:   0%|          | 0/200 [00:00<?, ?it/s]\u001b[A\n",
      "Explain node 1742:  11%|█         | 22/200 [00:00<00:00, 213.21it/s]\u001b[A\n",
      "Explain node 1742:  22%|██▏       | 44/200 [00:00<00:00, 213.80it/s]\u001b[A\n",
      "Explain node 1742:  33%|███▎      | 66/200 [00:00<00:00, 216.22it/s]\u001b[A\n",
      "Explain node 1742:  44%|████▍     | 88/200 [00:00<00:00, 215.41it/s]\u001b[A\n",
      "Explain node 1742:  56%|█████▌    | 111/200 [00:00<00:00, 218.41it/s]\u001b[A\n",
      "Explain node 1742:  66%|██████▋   | 133/200 [00:00<00:00, 218.78it/s]\u001b[A\n",
      "Explain node 1742:  78%|███████▊  | 156/200 [00:00<00:00, 219.25it/s]\u001b[A\n",
      "Explain node 1742:  89%|████████▉ | 178/200 [00:00<00:00, 217.96it/s]\u001b[A\n",
      "Explain node 1742: 100%|██████████| 200/200 [00:00<00:00, 216.59it/s]\u001b[A\n"
     ]
    },
    {
     "name": "stdout",
     "output_type": "stream",
     "text": [
      "Accuracy on Model:  37.2093023255814\n",
      "Accuracy on EVAL-XG:  51.162790697674424\n"
     ]
    },
    {
     "name": "stderr",
     "output_type": "stream",
     "text": [
      "\n",
      "  0%|          | 0/200 [00:00<?, ?it/s]\u001b[A\n",
      "Explain node 1743:   0%|          | 0/200 [00:00<?, ?it/s]\u001b[A\n",
      "Explain node 1743:  11%|█         | 22/200 [00:00<00:00, 218.98it/s]\u001b[A\n",
      "Explain node 1743:  22%|██▏       | 44/200 [00:00<00:00, 216.87it/s]\u001b[A\n",
      "Explain node 1743:  33%|███▎      | 66/200 [00:00<00:00, 216.92it/s]\u001b[A\n",
      "Explain node 1743:  44%|████▍     | 88/200 [00:00<00:00, 217.40it/s]\u001b[A\n",
      "Explain node 1743:  56%|█████▌    | 111/200 [00:00<00:00, 218.42it/s]\u001b[A\n",
      "Explain node 1743:  66%|██████▋   | 133/200 [00:00<00:00, 216.67it/s]\u001b[A\n",
      "Explain node 1743:  78%|███████▊  | 155/200 [00:00<00:00, 215.44it/s]\u001b[A\n",
      "Explain node 1743:  88%|████████▊ | 177/200 [00:00<00:00, 204.81it/s]\u001b[A\n",
      "Explain node 1743: 100%|██████████| 200/200 [00:00<00:00, 212.17it/s]\u001b[A\n"
     ]
    },
    {
     "name": "stdout",
     "output_type": "stream",
     "text": [
      "Accuracy on Model:  36.36363636363637\n",
      "Accuracy on EVAL-XG:  50.0\n"
     ]
    },
    {
     "name": "stderr",
     "output_type": "stream",
     "text": [
      "\n",
      "  0%|          | 0/200 [00:00<?, ?it/s]\u001b[A\n",
      "Explain node 1744:   0%|          | 0/200 [00:00<?, ?it/s]\u001b[A\n",
      "Explain node 1744:  11%|█         | 22/200 [00:00<00:00, 215.64it/s]\u001b[A\n",
      "Explain node 1744:  22%|██▎       | 45/200 [00:00<00:00, 218.76it/s]\u001b[A\n",
      "Explain node 1744:  34%|███▍      | 68/200 [00:00<00:00, 220.90it/s]\u001b[A\n",
      "Explain node 1744:  46%|████▌     | 91/200 [00:00<00:00, 220.56it/s]\u001b[A\n",
      "Explain node 1744:  57%|█████▋    | 114/200 [00:00<00:00, 220.93it/s]\u001b[A\n",
      "Explain node 1744:  68%|██████▊   | 137/200 [00:00<00:00, 220.35it/s]\u001b[A\n",
      "Explain node 1744:  80%|████████  | 160/200 [00:00<00:00, 221.96it/s]\u001b[A\n",
      "Explain node 1744: 100%|██████████| 200/200 [00:00<00:00, 220.67it/s]\u001b[A\n"
     ]
    },
    {
     "name": "stdout",
     "output_type": "stream",
     "text": [
      "Accuracy on Model:  35.55555555555556\n",
      "Accuracy on EVAL-XG:  48.888888888888886\n"
     ]
    },
    {
     "name": "stderr",
     "output_type": "stream",
     "text": [
      "\n",
      "  0%|          | 0/200 [00:00<?, ?it/s]\u001b[A\n",
      "Explain node 1745:   0%|          | 0/200 [00:00<?, ?it/s]\u001b[A\n",
      "Explain node 1745:  12%|█▏        | 23/200 [00:00<00:00, 222.07it/s]\u001b[A\n",
      "Explain node 1745:  23%|██▎       | 46/200 [00:00<00:00, 216.67it/s]\u001b[A\n",
      "Explain node 1745:  34%|███▍      | 68/200 [00:00<00:00, 207.17it/s]\u001b[A\n",
      "Explain node 1745:  44%|████▍     | 89/200 [00:00<00:00, 198.24it/s]\u001b[A\n",
      "Explain node 1745:  55%|█████▌    | 110/200 [00:00<00:00, 200.05it/s]\u001b[A\n",
      "Explain node 1745:  66%|██████▌   | 131/200 [00:00<00:00, 200.06it/s]\u001b[A\n",
      "Explain node 1745:  76%|███████▌  | 152/200 [00:00<00:00, 201.43it/s]\u001b[A\n",
      "Explain node 1745:  88%|████████▊ | 175/200 [00:00<00:00, 207.65it/s]\u001b[A\n",
      "Explain node 1745: 100%|██████████| 200/200 [00:00<00:00, 206.77it/s]\u001b[A\n"
     ]
    },
    {
     "name": "stdout",
     "output_type": "stream",
     "text": [
      "Accuracy on Model:  34.78260869565217\n",
      "Accuracy on EVAL-XG:  47.82608695652174\n"
     ]
    },
    {
     "name": "stderr",
     "output_type": "stream",
     "text": [
      "\n",
      "  0%|          | 0/200 [00:00<?, ?it/s]\u001b[A\n",
      "Explain node 1746:   0%|          | 0/200 [00:00<?, ?it/s]\u001b[A\n",
      "Explain node 1746:  11%|█         | 22/200 [00:00<00:00, 211.02it/s]\u001b[A\n",
      "Explain node 1746:  22%|██▏       | 44/200 [00:00<00:00, 212.97it/s]\u001b[A\n",
      "Explain node 1746:  33%|███▎      | 66/200 [00:00<00:00, 213.78it/s]\u001b[A\n",
      "Explain node 1746:  44%|████▍     | 89/200 [00:00<00:00, 216.55it/s]\u001b[A\n",
      "Explain node 1746:  56%|█████▌    | 111/200 [00:00<00:00, 217.54it/s]\u001b[A\n",
      "Explain node 1746:  66%|██████▋   | 133/200 [00:00<00:00, 218.29it/s]\u001b[A\n",
      "Explain node 1746:  78%|███████▊  | 156/200 [00:00<00:00, 219.54it/s]\u001b[A\n",
      "Explain node 1746: 100%|██████████| 200/200 [00:00<00:00, 218.49it/s]\u001b[A\n"
     ]
    },
    {
     "name": "stdout",
     "output_type": "stream",
     "text": [
      "Accuracy on Model:  34.04255319148936\n",
      "Accuracy on EVAL-XG:  46.808510638297875\n"
     ]
    },
    {
     "name": "stderr",
     "output_type": "stream",
     "text": [
      "\n",
      "  0%|          | 0/200 [00:00<?, ?it/s]\u001b[A\n",
      "Explain node 1747:   0%|          | 0/200 [00:00<?, ?it/s]\u001b[A\n",
      "Explain node 1747:  12%|█▏        | 23/200 [00:00<00:00, 220.40it/s]\u001b[A\n",
      "Explain node 1747:  23%|██▎       | 46/200 [00:00<00:00, 217.38it/s]\u001b[A\n",
      "Explain node 1747:  34%|███▍      | 68/200 [00:00<00:00, 217.59it/s]\u001b[A\n",
      "Explain node 1747:  45%|████▌     | 90/200 [00:00<00:00, 217.10it/s]\u001b[A\n",
      "Explain node 1747:  56%|█████▌    | 112/200 [00:00<00:00, 218.04it/s]\u001b[A\n",
      "Explain node 1747:  67%|██████▋   | 134/200 [00:00<00:00, 217.83it/s]\u001b[A\n",
      "Explain node 1747:  78%|███████▊  | 156/200 [00:00<00:00, 215.34it/s]\u001b[A\n",
      "Explain node 1747:  89%|████████▉ | 178/200 [00:00<00:00, 214.60it/s]\u001b[A\n",
      "Explain node 1747: 100%|██████████| 200/200 [00:00<00:00, 214.77it/s]\u001b[A\n"
     ]
    },
    {
     "name": "stdout",
     "output_type": "stream",
     "text": [
      "Accuracy on Model:  35.41666666666667\n",
      "Accuracy on EVAL-XG:  47.91666666666667\n"
     ]
    },
    {
     "name": "stderr",
     "output_type": "stream",
     "text": [
      "\n",
      "  0%|          | 0/200 [00:00<?, ?it/s]\u001b[A\n",
      "Explain node 1748:   0%|          | 0/200 [00:00<?, ?it/s]\u001b[A\n",
      "Explain node 1748:  11%|█         | 22/200 [00:00<00:00, 219.21it/s]\u001b[A\n",
      "Explain node 1748:  22%|██▏       | 44/200 [00:00<00:00, 201.46it/s]\u001b[A\n",
      "Explain node 1748:  33%|███▎      | 66/200 [00:00<00:00, 206.79it/s]\u001b[A\n",
      "Explain node 1748:  44%|████▍     | 88/200 [00:00<00:00, 211.35it/s]\u001b[A\n",
      "Explain node 1748:  55%|█████▌    | 110/200 [00:00<00:00, 207.74it/s]\u001b[A\n",
      "Explain node 1748:  66%|██████▌   | 131/200 [00:00<00:00, 208.10it/s]\u001b[A\n",
      "Explain node 1748:  77%|███████▋  | 154/200 [00:00<00:00, 212.10it/s]\u001b[A\n",
      "Explain node 1748:  88%|████████▊ | 177/200 [00:00<00:00, 214.69it/s]\u001b[A\n",
      "Explain node 1748: 100%|██████████| 200/200 [00:00<00:00, 211.22it/s]\u001b[A\n"
     ]
    },
    {
     "name": "stdout",
     "output_type": "stream",
     "text": [
      "Accuracy on Model:  36.734693877551024\n",
      "Accuracy on EVAL-XG:  48.97959183673469\n"
     ]
    },
    {
     "name": "stderr",
     "output_type": "stream",
     "text": [
      "\n",
      "  0%|          | 0/200 [00:00<?, ?it/s]\u001b[A\n",
      "Explain node 1749:   0%|          | 0/200 [00:00<?, ?it/s]\u001b[A\n",
      "Explain node 1749:  11%|█         | 22/200 [00:00<00:00, 216.04it/s]\u001b[A\n",
      "Explain node 1749:  22%|██▏       | 44/200 [00:00<00:00, 216.96it/s]\u001b[A\n",
      "Explain node 1749:  34%|███▎      | 67/200 [00:00<00:00, 219.81it/s]\u001b[A\n",
      "Explain node 1749:  45%|████▌     | 90/200 [00:00<00:00, 221.62it/s]\u001b[A\n",
      "Explain node 1749:  56%|█████▋    | 113/200 [00:00<00:00, 222.99it/s]\u001b[A\n",
      "Explain node 1749:  68%|██████▊   | 136/200 [00:00<00:00, 222.06it/s]\u001b[A\n",
      "Explain node 1749:  80%|███████▉  | 159/200 [00:00<00:00, 220.90it/s]\u001b[A\n",
      "Explain node 1749: 100%|██████████| 200/200 [00:00<00:00, 218.94it/s]\u001b[A\n"
     ]
    },
    {
     "name": "stdout",
     "output_type": "stream",
     "text": [
      "Accuracy on Model:  38.0\n",
      "Accuracy on EVAL-XG:  50.0\n"
     ]
    },
    {
     "name": "stderr",
     "output_type": "stream",
     "text": [
      "\n",
      "  0%|          | 0/200 [00:00<?, ?it/s]\u001b[A\n",
      "Explain node 1750:   0%|          | 0/200 [00:00<?, ?it/s]\u001b[A\n",
      "Explain node 1750:  11%|█         | 22/200 [00:00<00:00, 218.03it/s]\u001b[A\n",
      "Explain node 1750:  22%|██▏       | 44/200 [00:00<00:00, 216.28it/s]\u001b[A\n",
      "Explain node 1750:  33%|███▎      | 66/200 [00:00<00:00, 214.60it/s]\u001b[A\n",
      "Explain node 1750:  44%|████▍     | 88/200 [00:00<00:00, 215.02it/s]\u001b[A\n",
      "Explain node 1750:  55%|█████▌    | 110/200 [00:00<00:00, 216.46it/s]\u001b[A\n",
      "Explain node 1750:  66%|██████▌   | 132/200 [00:00<00:00, 217.46it/s]\u001b[A\n",
      "Explain node 1750:  77%|███████▋  | 154/200 [00:00<00:00, 218.00it/s]\u001b[A\n",
      "Explain node 1750:  88%|████████▊ | 176/200 [00:00<00:00, 213.81it/s]\u001b[A\n",
      "Explain node 1750: 100%|██████████| 200/200 [00:00<00:00, 215.37it/s]\u001b[A\n"
     ]
    },
    {
     "name": "stdout",
     "output_type": "stream",
     "text": [
      "Accuracy on Model:  39.21568627450981\n",
      "Accuracy on EVAL-XG:  50.98039215686274\n"
     ]
    },
    {
     "name": "stderr",
     "output_type": "stream",
     "text": [
      "\n",
      "  0%|          | 0/200 [00:00<?, ?it/s]\u001b[A\n",
      "Explain node 1751:   0%|          | 0/200 [00:00<?, ?it/s]\u001b[A\n",
      "Explain node 1751:  11%|█         | 22/200 [00:00<00:00, 218.20it/s]\u001b[A\n",
      "Explain node 1751:  22%|██▎       | 45/200 [00:00<00:00, 220.87it/s]\u001b[A\n",
      "Explain node 1751:  34%|███▍      | 68/200 [00:00<00:00, 218.09it/s]\u001b[A\n",
      "Explain node 1751:  45%|████▌     | 90/200 [00:00<00:00, 218.33it/s]\u001b[A\n",
      "Explain node 1751:  56%|█████▌    | 112/200 [00:00<00:00, 212.22it/s]\u001b[A\n",
      "Explain node 1751:  67%|██████▋   | 134/200 [00:00<00:00, 210.49it/s]\u001b[A\n",
      "Explain node 1751:  78%|███████▊  | 156/200 [00:00<00:00, 211.88it/s]\u001b[A\n",
      "Explain node 1751:  89%|████████▉ | 178/200 [00:00<00:00, 212.17it/s]\u001b[A\n",
      "Explain node 1751: 100%|██████████| 200/200 [00:00<00:00, 211.79it/s]\u001b[A\n"
     ]
    },
    {
     "name": "stdout",
     "output_type": "stream",
     "text": [
      "Accuracy on Model:  40.38461538461539\n",
      "Accuracy on EVAL-XG:  51.92307692307693\n"
     ]
    },
    {
     "name": "stderr",
     "output_type": "stream",
     "text": [
      "\n",
      "  0%|          | 0/200 [00:00<?, ?it/s]\u001b[A\n",
      "Explain node 1752:   0%|          | 0/200 [00:00<?, ?it/s]\u001b[A\n",
      "Explain node 1752:  11%|█         | 22/200 [00:00<00:00, 213.53it/s]\u001b[A\n",
      "Explain node 1752:  22%|██▏       | 44/200 [00:00<00:00, 213.06it/s]\u001b[A\n",
      "Explain node 1752:  34%|███▎      | 67/200 [00:00<00:00, 217.76it/s]\u001b[A\n",
      "Explain node 1752:  45%|████▌     | 90/200 [00:00<00:00, 218.66it/s]\u001b[A\n",
      "Explain node 1752:  56%|█████▋    | 113/200 [00:00<00:00, 219.63it/s]\u001b[A\n",
      "Explain node 1752:  68%|██████▊   | 135/200 [00:00<00:00, 219.62it/s]\u001b[A\n",
      "Explain node 1752:  79%|███████▉  | 158/200 [00:00<00:00, 221.07it/s]\u001b[A\n",
      "Explain node 1752: 100%|██████████| 200/200 [00:00<00:00, 219.34it/s]\u001b[A\n"
     ]
    },
    {
     "name": "stdout",
     "output_type": "stream",
     "text": [
      "Accuracy on Model:  41.509433962264154\n",
      "Accuracy on EVAL-XG:  52.83018867924528\n"
     ]
    },
    {
     "name": "stderr",
     "output_type": "stream",
     "text": [
      "\n",
      "  0%|          | 0/200 [00:00<?, ?it/s]\u001b[A\n",
      "Explain node 1753:   0%|          | 0/200 [00:00<?, ?it/s]\u001b[A\n",
      "Explain node 1753:  10%|█         | 21/200 [00:00<00:00, 207.92it/s]\u001b[A\n",
      "Explain node 1753:  21%|██        | 42/200 [00:00<00:00, 206.85it/s]\u001b[A\n",
      "Explain node 1753:  32%|███▏      | 63/200 [00:00<00:00, 202.64it/s]\u001b[A\n",
      "Explain node 1753:  42%|████▏     | 84/200 [00:00<00:00, 205.33it/s]\u001b[A\n",
      "Explain node 1753:  53%|█████▎    | 106/200 [00:00<00:00, 208.11it/s]\u001b[A\n",
      "Explain node 1753:  64%|██████▎   | 127/200 [00:00<00:00, 205.28it/s]\u001b[A\n",
      "Explain node 1753:  75%|███████▌  | 150/200 [00:00<00:00, 210.37it/s]\u001b[A\n",
      "Explain node 1753:  86%|████████▋ | 173/200 [00:00<00:00, 214.32it/s]\u001b[A\n",
      "Explain node 1753: 100%|██████████| 200/200 [00:00<00:00, 211.44it/s]\u001b[A\n"
     ]
    },
    {
     "name": "stdout",
     "output_type": "stream",
     "text": [
      "Accuracy on Model:  42.592592592592595\n",
      "Accuracy on EVAL-XG:  53.70370370370371\n"
     ]
    },
    {
     "name": "stderr",
     "output_type": "stream",
     "text": [
      "\n",
      "  0%|          | 0/200 [00:00<?, ?it/s]\u001b[A\n",
      "Explain node 1754:   0%|          | 0/200 [00:00<?, ?it/s]\u001b[A\n",
      "Explain node 1754:  10%|█         | 21/200 [00:00<00:00, 209.55it/s]\u001b[A\n",
      "Explain node 1754:  22%|██▏       | 43/200 [00:00<00:00, 212.38it/s]\u001b[A\n",
      "Explain node 1754:  33%|███▎      | 66/200 [00:00<00:00, 216.76it/s]\u001b[A\n",
      "Explain node 1754:  44%|████▍     | 88/200 [00:00<00:00, 213.13it/s]\u001b[A\n",
      "Explain node 1754:  55%|█████▌    | 110/200 [00:00<00:00, 213.98it/s]\u001b[A\n",
      "Explain node 1754:  66%|██████▌   | 132/200 [00:00<00:00, 213.50it/s]\u001b[A\n",
      "Explain node 1754:  77%|███████▋  | 154/200 [00:00<00:00, 214.66it/s]\u001b[A\n",
      "Explain node 1754:  88%|████████▊ | 176/200 [00:00<00:00, 214.99it/s]\u001b[A\n",
      "Explain node 1754: 100%|██████████| 200/200 [00:00<00:00, 214.31it/s]\u001b[A\n"
     ]
    },
    {
     "name": "stdout",
     "output_type": "stream",
     "text": [
      "Accuracy on Model:  41.81818181818181\n",
      "Accuracy on EVAL-XG:  52.72727272727272\n"
     ]
    },
    {
     "name": "stderr",
     "output_type": "stream",
     "text": [
      "\n",
      "  0%|          | 0/200 [00:00<?, ?it/s]\u001b[A\n",
      "Explain node 1755:   0%|          | 0/200 [00:00<?, ?it/s]\u001b[A\n",
      "Explain node 1755:  10%|█         | 21/200 [00:00<00:00, 206.44it/s]\u001b[A\n",
      "Explain node 1755:  22%|██▏       | 43/200 [00:00<00:00, 213.92it/s]\u001b[A\n",
      "Explain node 1755:  32%|███▎      | 65/200 [00:00<00:00, 215.17it/s]\u001b[A\n",
      "Explain node 1755:  44%|████▎     | 87/200 [00:00<00:00, 208.44it/s]\u001b[A\n",
      "Explain node 1755:  55%|█████▍    | 109/200 [00:00<00:00, 211.70it/s]\u001b[A\n",
      "Explain node 1755:  66%|██████▌   | 131/200 [00:00<00:00, 213.22it/s]\u001b[A\n",
      "Explain node 1755:  76%|███████▋  | 153/200 [00:00<00:00, 213.67it/s]\u001b[A\n",
      "Explain node 1755:  88%|████████▊ | 175/200 [00:00<00:00, 215.37it/s]\u001b[A\n",
      "Explain node 1755: 100%|██████████| 200/200 [00:00<00:00, 212.73it/s]\u001b[A\n"
     ]
    },
    {
     "name": "stdout",
     "output_type": "stream",
     "text": [
      "Accuracy on Model:  41.07142857142857\n",
      "Accuracy on EVAL-XG:  51.78571428571429\n"
     ]
    },
    {
     "name": "stderr",
     "output_type": "stream",
     "text": [
      "\n",
      "  0%|          | 0/200 [00:00<?, ?it/s]\u001b[A\n",
      "Explain node 1756:   0%|          | 0/200 [00:00<?, ?it/s]\u001b[A\n",
      "Explain node 1756:  11%|█         | 22/200 [00:00<00:00, 214.33it/s]\u001b[A\n",
      "Explain node 1756:  22%|██▏       | 44/200 [00:00<00:00, 214.80it/s]\u001b[A\n",
      "Explain node 1756:  33%|███▎      | 66/200 [00:00<00:00, 216.94it/s]\u001b[A\n",
      "Explain node 1756:  44%|████▍     | 88/200 [00:00<00:00, 213.54it/s]\u001b[A\n",
      "Explain node 1756:  55%|█████▌    | 110/200 [00:00<00:00, 213.27it/s]\u001b[A\n",
      "Explain node 1756:  66%|██████▌   | 132/200 [00:00<00:00, 213.17it/s]\u001b[A\n",
      "Explain node 1756:  77%|███████▋  | 154/200 [00:00<00:00, 213.29it/s]\u001b[A\n",
      "Explain node 1756:  88%|████████▊ | 176/200 [00:00<00:00, 210.98it/s]\u001b[A\n",
      "Explain node 1756: 100%|██████████| 200/200 [00:00<00:00, 212.27it/s]\u001b[A\n"
     ]
    },
    {
     "name": "stdout",
     "output_type": "stream",
     "text": [
      "Accuracy on Model:  40.35087719298245\n",
      "Accuracy on EVAL-XG:  52.63157894736842\n"
     ]
    },
    {
     "name": "stderr",
     "output_type": "stream",
     "text": [
      "\n",
      "  0%|          | 0/200 [00:00<?, ?it/s]\u001b[A\n",
      "Explain node 1757:   0%|          | 0/200 [00:00<?, ?it/s]\u001b[A\n",
      "Explain node 1757:  10%|█         | 20/200 [00:00<00:00, 199.47it/s]\u001b[A\n",
      "Explain node 1757:  20%|██        | 41/200 [00:00<00:00, 200.75it/s]\u001b[A\n",
      "Explain node 1757:  32%|███▏      | 63/200 [00:00<00:00, 207.63it/s]\u001b[A\n",
      "Explain node 1757:  42%|████▎     | 85/200 [00:00<00:00, 209.93it/s]\u001b[A\n",
      "Explain node 1757:  53%|█████▎    | 106/200 [00:00<00:00, 209.48it/s]\u001b[A\n",
      "Explain node 1757:  64%|██████▎   | 127/200 [00:00<00:00, 207.64it/s]\u001b[A\n",
      "Explain node 1757:  74%|███████▍  | 148/200 [00:00<00:00, 199.62it/s]\u001b[A\n",
      "Explain node 1757:  84%|████████▍ | 169/200 [00:00<00:00, 198.48it/s]\u001b[A\n",
      "Explain node 1757: 100%|██████████| 200/200 [00:00<00:00, 203.96it/s]\u001b[A\n"
     ]
    },
    {
     "name": "stdout",
     "output_type": "stream",
     "text": [
      "Accuracy on Model:  39.6551724137931\n",
      "Accuracy on EVAL-XG:  51.724137931034484\n"
     ]
    },
    {
     "name": "stderr",
     "output_type": "stream",
     "text": [
      "\n",
      "  0%|          | 0/200 [00:00<?, ?it/s]\u001b[A\n",
      "Explain node 1758:   0%|          | 0/200 [00:00<?, ?it/s]\u001b[A\n",
      "Explain node 1758:  11%|█         | 22/200 [00:00<00:00, 218.41it/s]\u001b[A\n",
      "Explain node 1758:  22%|██▏       | 44/200 [00:00<00:00, 215.85it/s]\u001b[A\n",
      "Explain node 1758:  33%|███▎      | 66/200 [00:00<00:00, 215.10it/s]\u001b[A\n",
      "Explain node 1758:  44%|████▍     | 88/200 [00:00<00:00, 216.30it/s]\u001b[A\n",
      "Explain node 1758:  55%|█████▌    | 110/200 [00:00<00:00, 212.99it/s]\u001b[A\n",
      "Explain node 1758:  66%|██████▌   | 132/200 [00:00<00:00, 214.69it/s]\u001b[A\n",
      "Explain node 1758:  77%|███████▋  | 154/200 [00:00<00:00, 213.67it/s]\u001b[A\n",
      "Explain node 1758:  88%|████████▊ | 176/200 [00:00<00:00, 207.25it/s]\u001b[A\n",
      "Explain node 1758: 100%|██████████| 200/200 [00:00<00:00, 209.85it/s]\u001b[A\n"
     ]
    },
    {
     "name": "stdout",
     "output_type": "stream",
     "text": [
      "Accuracy on Model:  40.67796610169492\n",
      "Accuracy on EVAL-XG:  52.54237288135594\n"
     ]
    },
    {
     "name": "stderr",
     "output_type": "stream",
     "text": [
      "\n",
      "  0%|          | 0/200 [00:00<?, ?it/s]\u001b[A\n",
      "Explain node 1759:   0%|          | 0/200 [00:00<?, ?it/s]\u001b[A\n",
      "Explain node 1759:  10%|█         | 21/200 [00:00<00:00, 206.90it/s]\u001b[A\n",
      "Explain node 1759:  21%|██        | 42/200 [00:00<00:00, 206.94it/s]\u001b[A\n",
      "Explain node 1759:  32%|███▏      | 63/200 [00:00<00:00, 203.61it/s]\u001b[A\n",
      "Explain node 1759:  42%|████▎     | 85/200 [00:00<00:00, 208.98it/s]\u001b[A\n",
      "Explain node 1759:  53%|█████▎    | 106/200 [00:00<00:00, 199.87it/s]\u001b[A\n",
      "Explain node 1759:  64%|██████▍   | 128/200 [00:00<00:00, 205.33it/s]\u001b[A\n",
      "Explain node 1759:  74%|███████▍  | 149/200 [00:00<00:00, 198.36it/s]\u001b[A\n",
      "Explain node 1759:  85%|████████▌ | 170/200 [00:00<00:00, 200.90it/s]\u001b[A\n",
      "Explain node 1759: 100%|██████████| 200/200 [00:00<00:00, 203.23it/s]\u001b[A\n"
     ]
    },
    {
     "name": "stdout",
     "output_type": "stream",
     "text": [
      "Accuracy on Model:  40.0\n",
      "Accuracy on EVAL-XG:  51.66666666666667\n"
     ]
    },
    {
     "name": "stderr",
     "output_type": "stream",
     "text": [
      "\n",
      "  0%|          | 0/200 [00:00<?, ?it/s]\u001b[A\n",
      "Explain node 1760:   0%|          | 0/200 [00:00<?, ?it/s]\u001b[A\n",
      "Explain node 1760:  10%|█         | 21/200 [00:00<00:00, 203.01it/s]\u001b[A\n",
      "Explain node 1760:  22%|██▏       | 43/200 [00:00<00:00, 212.03it/s]\u001b[A\n",
      "Explain node 1760:  32%|███▎      | 65/200 [00:00<00:00, 213.34it/s]\u001b[A\n",
      "Explain node 1760:  44%|████▎     | 87/200 [00:00<00:00, 211.93it/s]\u001b[A\n",
      "Explain node 1760:  55%|█████▍    | 109/200 [00:00<00:00, 207.89it/s]\u001b[A\n",
      "Explain node 1760:  66%|██████▌   | 131/200 [00:00<00:00, 210.73it/s]\u001b[A\n",
      "Explain node 1760:  76%|███████▋  | 153/200 [00:00<00:00, 206.61it/s]\u001b[A\n",
      "Explain node 1760:  87%|████████▋ | 174/200 [00:00<00:00, 204.71it/s]\u001b[A\n",
      "Explain node 1760: 100%|██████████| 200/200 [00:00<00:00, 208.18it/s]\u001b[A\n"
     ]
    },
    {
     "name": "stdout",
     "output_type": "stream",
     "text": [
      "Accuracy on Model:  40.98360655737705\n",
      "Accuracy on EVAL-XG:  52.459016393442624\n"
     ]
    },
    {
     "name": "stderr",
     "output_type": "stream",
     "text": [
      "\n",
      "  0%|          | 0/200 [00:00<?, ?it/s]\u001b[A\n",
      "Explain node 1761:   0%|          | 0/200 [00:00<?, ?it/s]\u001b[A\n",
      "Explain node 1761:  11%|█         | 22/200 [00:00<00:00, 217.07it/s]\u001b[A\n",
      "Explain node 1761:  22%|██▏       | 44/200 [00:00<00:00, 217.60it/s]\u001b[A\n",
      "Explain node 1761:  33%|███▎      | 66/200 [00:00<00:00, 216.30it/s]\u001b[A\n",
      "Explain node 1761:  44%|████▍     | 88/200 [00:00<00:00, 211.45it/s]\u001b[A\n",
      "Explain node 1761:  56%|█████▌    | 111/200 [00:00<00:00, 215.36it/s]\u001b[A\n",
      "Explain node 1761:  67%|██████▋   | 134/200 [00:00<00:00, 217.94it/s]\u001b[A\n",
      "Explain node 1761:  78%|███████▊  | 156/200 [00:00<00:00, 216.31it/s]\u001b[A\n",
      "Explain node 1761:  89%|████████▉ | 178/200 [00:00<00:00, 214.32it/s]\u001b[A\n",
      "Explain node 1761: 100%|██████████| 200/200 [00:00<00:00, 215.24it/s]\u001b[A\n"
     ]
    },
    {
     "name": "stdout",
     "output_type": "stream",
     "text": [
      "Accuracy on Model:  41.935483870967744\n",
      "Accuracy on EVAL-XG:  53.2258064516129\n"
     ]
    },
    {
     "name": "stderr",
     "output_type": "stream",
     "text": [
      "\n",
      "  0%|          | 0/200 [00:00<?, ?it/s]\u001b[A\n",
      "Explain node 1762:   0%|          | 0/200 [00:00<?, ?it/s]\u001b[A\n",
      "Explain node 1762:  10%|▉         | 19/200 [00:00<00:00, 181.87it/s]\u001b[A\n",
      "Explain node 1762:  20%|██        | 40/200 [00:00<00:00, 197.05it/s]\u001b[A\n",
      "Explain node 1762:  31%|███       | 62/200 [00:00<00:00, 205.92it/s]\u001b[A\n",
      "Explain node 1762:  42%|████▏     | 84/200 [00:00<00:00, 209.49it/s]\u001b[A\n",
      "Explain node 1762:  53%|█████▎    | 106/200 [00:00<00:00, 209.42it/s]\u001b[A\n",
      "Explain node 1762:  64%|██████▎   | 127/200 [00:00<00:00, 207.38it/s]\u001b[A\n",
      "Explain node 1762:  74%|███████▍  | 148/200 [00:00<00:00, 207.97it/s]\u001b[A\n",
      "Explain node 1762:  86%|████████▌ | 171/200 [00:00<00:00, 211.45it/s]\u001b[A\n",
      "Explain node 1762: 100%|██████████| 200/200 [00:00<00:00, 206.00it/s]\u001b[A\n"
     ]
    },
    {
     "name": "stdout",
     "output_type": "stream",
     "text": [
      "Accuracy on Model:  42.857142857142854\n",
      "Accuracy on EVAL-XG:  53.96825396825397\n"
     ]
    },
    {
     "name": "stderr",
     "output_type": "stream",
     "text": [
      "\n",
      "  0%|          | 0/200 [00:00<?, ?it/s]\u001b[A\n",
      "Explain node 1763:   0%|          | 0/200 [00:00<?, ?it/s]\u001b[A\n",
      "Explain node 1763:  11%|█         | 22/200 [00:00<00:00, 213.64it/s]\u001b[A\n",
      "Explain node 1763:  22%|██▏       | 44/200 [00:00<00:00, 216.24it/s]\u001b[A\n",
      "Explain node 1763:  34%|███▎      | 67/200 [00:00<00:00, 219.19it/s]\u001b[A\n",
      "Explain node 1763:  44%|████▍     | 89/200 [00:00<00:00, 217.76it/s]\u001b[A\n",
      "Explain node 1763:  56%|█████▌    | 111/200 [00:00<00:00, 217.26it/s]\u001b[A\n",
      "Explain node 1763:  66%|██████▋   | 133/200 [00:00<00:00, 213.95it/s]\u001b[A\n",
      "Explain node 1763:  78%|███████▊  | 156/200 [00:00<00:00, 217.54it/s]\u001b[A\n",
      "Explain node 1763:  89%|████████▉ | 178/200 [00:00<00:00, 213.38it/s]\u001b[A\n",
      "Explain node 1763: 100%|██████████| 200/200 [00:00<00:00, 215.43it/s]\u001b[A\n"
     ]
    },
    {
     "name": "stdout",
     "output_type": "stream",
     "text": [
      "Accuracy on Model:  42.1875\n",
      "Accuracy on EVAL-XG:  53.125\n"
     ]
    },
    {
     "name": "stderr",
     "output_type": "stream",
     "text": [
      "\n",
      "  0%|          | 0/200 [00:00<?, ?it/s]\u001b[A\n",
      "Explain node 1764:   0%|          | 0/200 [00:00<?, ?it/s]\u001b[A\n",
      "Explain node 1764:  11%|█         | 22/200 [00:00<00:00, 213.59it/s]\u001b[A\n",
      "Explain node 1764:  22%|██▏       | 44/200 [00:00<00:00, 216.52it/s]\u001b[A\n",
      "Explain node 1764:  33%|███▎      | 66/200 [00:00<00:00, 216.90it/s]\u001b[A\n",
      "Explain node 1764:  44%|████▍     | 88/200 [00:00<00:00, 217.73it/s]\u001b[A\n",
      "Explain node 1764:  55%|█████▌    | 110/200 [00:00<00:00, 216.80it/s]\u001b[A\n",
      "Explain node 1764:  66%|██████▌   | 132/200 [00:00<00:00, 214.37it/s]\u001b[A\n",
      "Explain node 1764:  77%|███████▋  | 154/200 [00:00<00:00, 215.31it/s]\u001b[A\n",
      "Explain node 1764:  88%|████████▊ | 176/200 [00:00<00:00, 216.41it/s]\u001b[A\n",
      "Explain node 1764: 100%|██████████| 200/200 [00:00<00:00, 215.48it/s]\u001b[A\n"
     ]
    },
    {
     "name": "stdout",
     "output_type": "stream",
     "text": [
      "Accuracy on Model:  43.07692307692308\n",
      "Accuracy on EVAL-XG:  53.84615384615385\n"
     ]
    },
    {
     "name": "stderr",
     "output_type": "stream",
     "text": [
      "\n",
      "  0%|          | 0/200 [00:00<?, ?it/s]\u001b[A\n",
      "Explain node 1765:   0%|          | 0/200 [00:00<?, ?it/s]\u001b[A\n",
      "Explain node 1765:  10%|█         | 21/200 [00:00<00:00, 209.31it/s]\u001b[A\n",
      "Explain node 1765:  22%|██▏       | 43/200 [00:00<00:00, 214.71it/s]\u001b[A\n",
      "Explain node 1765:  32%|███▎      | 65/200 [00:00<00:00, 212.74it/s]\u001b[A\n",
      "Explain node 1765:  44%|████▎     | 87/200 [00:00<00:00, 212.40it/s]\u001b[A\n",
      "Explain node 1765:  55%|█████▍    | 109/200 [00:00<00:00, 210.81it/s]\u001b[A\n",
      "Explain node 1765:  66%|██████▌   | 131/200 [00:00<00:00, 211.30it/s]\u001b[A\n",
      "Explain node 1765:  76%|███████▋  | 153/200 [00:00<00:00, 212.36it/s]\u001b[A\n",
      "Explain node 1765:  88%|████████▊ | 175/200 [00:00<00:00, 213.70it/s]\u001b[A\n",
      "Explain node 1765: 100%|██████████| 200/200 [00:00<00:00, 212.12it/s]\u001b[A\n"
     ]
    },
    {
     "name": "stdout",
     "output_type": "stream",
     "text": [
      "Accuracy on Model:  43.93939393939394\n",
      "Accuracy on EVAL-XG:  54.54545454545454\n"
     ]
    },
    {
     "name": "stderr",
     "output_type": "stream",
     "text": [
      "\n",
      "  0%|          | 0/200 [00:00<?, ?it/s]\u001b[A\n",
      "Explain node 1766:   0%|          | 0/200 [00:00<?, ?it/s]\u001b[A\n",
      "Explain node 1766:  10%|█         | 21/200 [00:00<00:00, 208.25it/s]\u001b[A\n",
      "Explain node 1766:  22%|██▏       | 43/200 [00:00<00:00, 209.97it/s]\u001b[A\n",
      "Explain node 1766:  32%|███▎      | 65/200 [00:00<00:00, 210.72it/s]\u001b[A\n",
      "Explain node 1766:  44%|████▎     | 87/200 [00:00<00:00, 211.07it/s]\u001b[A\n",
      "Explain node 1766:  55%|█████▍    | 109/200 [00:00<00:00, 208.50it/s]\u001b[A\n",
      "Explain node 1766:  65%|██████▌   | 130/200 [00:00<00:00, 204.80it/s]\u001b[A\n",
      "Explain node 1766:  76%|███████▌  | 151/200 [00:00<00:00, 201.36it/s]\u001b[A\n",
      "Explain node 1766:  86%|████████▌ | 172/200 [00:00<00:00, 198.04it/s]\u001b[A\n",
      "Explain node 1766: 100%|██████████| 200/200 [00:00<00:00, 201.10it/s]\u001b[A\n"
     ]
    },
    {
     "name": "stdout",
     "output_type": "stream",
     "text": [
      "Accuracy on Model:  43.28358208955223\n",
      "Accuracy on EVAL-XG:  53.73134328358209\n"
     ]
    },
    {
     "name": "stderr",
     "output_type": "stream",
     "text": [
      "\n",
      "  0%|          | 0/200 [00:00<?, ?it/s]\u001b[A\n",
      "Explain node 1767:   0%|          | 0/200 [00:00<?, ?it/s]\u001b[A\n",
      "Explain node 1767:  11%|█         | 22/200 [00:00<00:00, 210.95it/s]\u001b[A\n",
      "Explain node 1767:  22%|██▏       | 44/200 [00:00<00:00, 209.75it/s]\u001b[A\n",
      "Explain node 1767:  32%|███▎      | 65/200 [00:00<00:00, 208.78it/s]\u001b[A\n",
      "Explain node 1767:  43%|████▎     | 86/200 [00:00<00:00, 208.44it/s]\u001b[A\n",
      "Explain node 1767:  54%|█████▎    | 107/200 [00:00<00:00, 206.82it/s]\u001b[A\n",
      "Explain node 1767:  64%|██████▍   | 128/200 [00:00<00:00, 203.87it/s]\u001b[A\n",
      "Explain node 1767:  74%|███████▍  | 149/200 [00:00<00:00, 203.48it/s]\u001b[A\n",
      "Explain node 1767:  85%|████████▌ | 170/200 [00:00<00:00, 203.49it/s]\u001b[A\n",
      "Explain node 1767: 100%|██████████| 200/200 [00:00<00:00, 205.35it/s]\u001b[A\n"
     ]
    },
    {
     "name": "stdout",
     "output_type": "stream",
     "text": [
      "Accuracy on Model:  42.64705882352941\n",
      "Accuracy on EVAL-XG:  52.94117647058824\n"
     ]
    },
    {
     "name": "stderr",
     "output_type": "stream",
     "text": [
      "\n",
      "  0%|          | 0/200 [00:00<?, ?it/s]\u001b[A\n",
      "Explain node 1768:   0%|          | 0/200 [00:00<?, ?it/s]\u001b[A\n",
      "Explain node 1768:  11%|█         | 22/200 [00:00<00:00, 212.92it/s]\u001b[A\n",
      "Explain node 1768:  22%|██▏       | 44/200 [00:00<00:00, 216.69it/s]\u001b[A\n",
      "Explain node 1768:  34%|███▎      | 67/200 [00:00<00:00, 219.07it/s]\u001b[A\n",
      "Explain node 1768:  44%|████▍     | 89/200 [00:00<00:00, 218.08it/s]\u001b[A\n",
      "Explain node 1768:  56%|█████▌    | 111/200 [00:00<00:00, 214.24it/s]\u001b[A\n",
      "Explain node 1768:  66%|██████▋   | 133/200 [00:00<00:00, 208.28it/s]\u001b[A\n",
      "Explain node 1768:  78%|███████▊  | 155/200 [00:00<00:00, 211.09it/s]\u001b[A\n",
      "Explain node 1768:  89%|████████▉ | 178/200 [00:00<00:00, 213.39it/s]\u001b[A\n",
      "Explain node 1768: 100%|██████████| 200/200 [00:00<00:00, 212.54it/s]\u001b[A\n"
     ]
    },
    {
     "name": "stdout",
     "output_type": "stream",
     "text": [
      "Accuracy on Model:  42.028985507246375\n",
      "Accuracy on EVAL-XG:  52.17391304347826\n"
     ]
    },
    {
     "name": "stderr",
     "output_type": "stream",
     "text": [
      "\n",
      "  0%|          | 0/200 [00:00<?, ?it/s]\u001b[A\n",
      "Explain node 1769:   0%|          | 0/200 [00:00<?, ?it/s]\u001b[A\n",
      "Explain node 1769:  11%|█         | 22/200 [00:00<00:00, 210.59it/s]\u001b[A\n",
      "Explain node 1769:  22%|██▏       | 44/200 [00:00<00:00, 214.73it/s]\u001b[A\n",
      "Explain node 1769:  33%|███▎      | 66/200 [00:00<00:00, 217.04it/s]\u001b[A\n",
      "Explain node 1769:  44%|████▍     | 88/200 [00:00<00:00, 217.31it/s]\u001b[A\n",
      "Explain node 1769:  55%|█████▌    | 110/200 [00:00<00:00, 218.23it/s]\u001b[A\n",
      "Explain node 1769:  66%|██████▌   | 132/200 [00:00<00:00, 217.98it/s]\u001b[A\n",
      "Explain node 1769:  77%|███████▋  | 154/200 [00:00<00:00, 217.50it/s]\u001b[A\n",
      "Explain node 1769:  88%|████████▊ | 176/200 [00:00<00:00, 217.52it/s]\u001b[A\n",
      "Explain node 1769: 100%|██████████| 200/200 [00:00<00:00, 216.51it/s]\u001b[A\n"
     ]
    },
    {
     "name": "stdout",
     "output_type": "stream",
     "text": [
      "Accuracy on Model:  42.857142857142854\n",
      "Accuracy on EVAL-XG:  52.85714285714286\n"
     ]
    },
    {
     "name": "stderr",
     "output_type": "stream",
     "text": [
      "\n",
      "  0%|          | 0/200 [00:00<?, ?it/s]\u001b[A\n",
      "Explain node 1770:   0%|          | 0/200 [00:00<?, ?it/s]\u001b[A\n",
      "Explain node 1770:  11%|█         | 22/200 [00:00<00:00, 215.50it/s]\u001b[A\n",
      "Explain node 1770:  22%|██▏       | 44/200 [00:00<00:00, 210.80it/s]\u001b[A\n",
      "Explain node 1770:  33%|███▎      | 66/200 [00:00<00:00, 214.20it/s]\u001b[A\n",
      "Explain node 1770:  44%|████▍     | 88/200 [00:00<00:00, 215.69it/s]\u001b[A\n",
      "Explain node 1770:  56%|█████▌    | 111/200 [00:00<00:00, 218.11it/s]\u001b[A\n",
      "Explain node 1770:  66%|██████▋   | 133/200 [00:00<00:00, 218.14it/s]\u001b[A\n",
      "Explain node 1770:  78%|███████▊  | 155/200 [00:00<00:00, 218.58it/s]\u001b[A\n",
      "Explain node 1770:  88%|████████▊ | 177/200 [00:00<00:00, 214.89it/s]\u001b[A\n",
      "Explain node 1770: 100%|██████████| 200/200 [00:00<00:00, 211.10it/s]\u001b[A\n"
     ]
    },
    {
     "name": "stdout",
     "output_type": "stream",
     "text": [
      "Accuracy on Model:  43.66197183098591\n",
      "Accuracy on EVAL-XG:  53.52112676056338\n"
     ]
    },
    {
     "name": "stderr",
     "output_type": "stream",
     "text": [
      "\n",
      "  0%|          | 0/200 [00:00<?, ?it/s]\u001b[A\n",
      "Explain node 1771:   0%|          | 0/200 [00:00<?, ?it/s]\u001b[A\n",
      "Explain node 1771:  10%|▉         | 19/200 [00:00<00:00, 182.48it/s]\u001b[A\n",
      "Explain node 1771:  19%|█▉        | 38/200 [00:00<00:00, 185.89it/s]\u001b[A\n",
      "Explain node 1771:  30%|███       | 60/200 [00:00<00:00, 200.15it/s]\u001b[A\n",
      "Explain node 1771:  42%|████▏     | 83/200 [00:00<00:00, 207.97it/s]\u001b[A\n",
      "Explain node 1771:  53%|█████▎    | 106/200 [00:00<00:00, 213.09it/s]\u001b[A\n",
      "Explain node 1771:  64%|██████▍   | 129/200 [00:00<00:00, 216.65it/s]\u001b[A\n",
      "Explain node 1771:  76%|███████▌  | 152/200 [00:00<00:00, 218.74it/s]\u001b[A\n",
      "Explain node 1771:  88%|████████▊ | 175/200 [00:00<00:00, 219.82it/s]\u001b[A\n",
      "Explain node 1771: 100%|██████████| 200/200 [00:00<00:00, 211.97it/s]\u001b[A\n"
     ]
    },
    {
     "name": "stdout",
     "output_type": "stream",
     "text": [
      "Accuracy on Model:  44.44444444444444\n",
      "Accuracy on EVAL-XG:  54.166666666666664\n"
     ]
    },
    {
     "name": "stderr",
     "output_type": "stream",
     "text": [
      "\n",
      "  0%|          | 0/200 [00:00<?, ?it/s]\u001b[A\n",
      "Explain node 1772:   0%|          | 0/200 [00:00<?, ?it/s]\u001b[A\n",
      "Explain node 1772:  10%|█         | 20/200 [00:00<00:00, 197.61it/s]\u001b[A\n",
      "Explain node 1772:  20%|██        | 41/200 [00:00<00:00, 200.39it/s]\u001b[A\n",
      "Explain node 1772:  31%|███       | 62/200 [00:00<00:00, 198.33it/s]\u001b[A\n",
      "Explain node 1772:  42%|████▏     | 83/200 [00:00<00:00, 200.53it/s]\u001b[A\n",
      "Explain node 1772:  52%|█████▏    | 104/200 [00:00<00:00, 202.21it/s]\u001b[A\n",
      "Explain node 1772:  62%|██████▎   | 125/200 [00:00<00:00, 202.00it/s]\u001b[A\n",
      "Explain node 1772:  73%|███████▎  | 146/200 [00:00<00:00, 200.38it/s]\u001b[A\n",
      "Explain node 1772:  84%|████████▎ | 167/200 [00:00<00:00, 202.66it/s]\u001b[A\n",
      "Explain node 1772: 100%|██████████| 200/200 [00:00<00:00, 201.69it/s]\u001b[A\n"
     ]
    },
    {
     "name": "stdout",
     "output_type": "stream",
     "text": [
      "Accuracy on Model:  45.20547945205479\n",
      "Accuracy on EVAL-XG:  54.794520547945204\n"
     ]
    },
    {
     "name": "stderr",
     "output_type": "stream",
     "text": [
      "\n",
      "  0%|          | 0/200 [00:00<?, ?it/s]\u001b[A\n",
      "Explain node 1773:   0%|          | 0/200 [00:00<?, ?it/s]\u001b[A\n",
      "Explain node 1773:  10%|█         | 21/200 [00:00<00:00, 204.52it/s]\u001b[A\n",
      "Explain node 1773:  21%|██        | 42/200 [00:00<00:00, 200.62it/s]\u001b[A\n",
      "Explain node 1773:  32%|███▏      | 63/200 [00:00<00:00, 195.60it/s]\u001b[A\n",
      "Explain node 1773:  42%|████▏     | 84/200 [00:00<00:00, 200.27it/s]\u001b[A\n",
      "Explain node 1773:  52%|█████▎    | 105/200 [00:00<00:00, 194.78it/s]\u001b[A\n",
      "Explain node 1773:  64%|██████▎   | 127/200 [00:00<00:00, 200.15it/s]\u001b[A\n",
      "Explain node 1773:  74%|███████▍  | 148/200 [00:00<00:00, 197.56it/s]\u001b[A\n",
      "Explain node 1773:  84%|████████▍ | 168/200 [00:00<00:00, 195.87it/s]\u001b[A\n",
      "Explain node 1773: 100%|██████████| 200/200 [00:01<00:00, 198.08it/s]\u001b[A\n"
     ]
    },
    {
     "name": "stdout",
     "output_type": "stream",
     "text": [
      "Accuracy on Model:  45.94594594594595\n",
      "Accuracy on EVAL-XG:  55.4054054054054\n"
     ]
    },
    {
     "name": "stderr",
     "output_type": "stream",
     "text": [
      "\n",
      "  0%|          | 0/200 [00:00<?, ?it/s]\u001b[A\n",
      "Explain node 1774:   0%|          | 0/200 [00:00<?, ?it/s]\u001b[A\n",
      "Explain node 1774:  10%|█         | 21/200 [00:00<00:00, 202.27it/s]\u001b[A\n",
      "Explain node 1774:  21%|██        | 42/200 [00:00<00:00, 203.80it/s]\u001b[A\n",
      "Explain node 1774:  32%|███▏      | 63/200 [00:00<00:00, 199.77it/s]\u001b[A\n",
      "Explain node 1774:  42%|████▏     | 84/200 [00:00<00:00, 201.73it/s]\u001b[A\n",
      "Explain node 1774:  52%|█████▎    | 105/200 [00:00<00:00, 201.83it/s]\u001b[A\n",
      "Explain node 1774:  63%|██████▎   | 126/200 [00:00<00:00, 203.65it/s]\u001b[A\n",
      "Explain node 1774:  74%|███████▎  | 147/200 [00:00<00:00, 203.48it/s]\u001b[A\n",
      "Explain node 1774:  84%|████████▍ | 168/200 [00:00<00:00, 202.29it/s]\u001b[A\n",
      "Explain node 1774: 100%|██████████| 200/200 [00:00<00:00, 202.68it/s]\u001b[A\n"
     ]
    },
    {
     "name": "stdout",
     "output_type": "stream",
     "text": [
      "Accuracy on Model:  45.33333333333333\n",
      "Accuracy on EVAL-XG:  54.666666666666664\n"
     ]
    },
    {
     "name": "stderr",
     "output_type": "stream",
     "text": [
      "\n",
      "  0%|          | 0/200 [00:00<?, ?it/s]\u001b[A\n",
      "Explain node 1775:   0%|          | 0/200 [00:00<?, ?it/s]\u001b[A\n",
      "Explain node 1775:  10%|█         | 20/200 [00:00<00:00, 199.92it/s]\u001b[A\n",
      "Explain node 1775:  20%|██        | 41/200 [00:00<00:00, 203.43it/s]\u001b[A\n",
      "Explain node 1775:  31%|███       | 62/200 [00:00<00:00, 200.83it/s]\u001b[A\n",
      "Explain node 1775:  42%|████▏     | 83/200 [00:00<00:00, 203.61it/s]\u001b[A\n",
      "Explain node 1775:  52%|█████▏    | 104/200 [00:00<00:00, 205.19it/s]\u001b[A\n",
      "Explain node 1775:  62%|██████▎   | 125/200 [00:00<00:00, 202.43it/s]\u001b[A\n",
      "Explain node 1775:  74%|███████▎  | 147/200 [00:00<00:00, 206.10it/s]\u001b[A\n",
      "Explain node 1775:  84%|████████▍ | 168/200 [00:00<00:00, 205.08it/s]\u001b[A\n",
      "Explain node 1775: 100%|██████████| 200/200 [00:00<00:00, 204.56it/s]\u001b[A\n"
     ]
    },
    {
     "name": "stdout",
     "output_type": "stream",
     "text": [
      "Accuracy on Model:  44.73684210526316\n",
      "Accuracy on EVAL-XG:  53.94736842105263\n"
     ]
    },
    {
     "name": "stderr",
     "output_type": "stream",
     "text": [
      "\n",
      "  0%|          | 0/200 [00:00<?, ?it/s]\u001b[A\n",
      "Explain node 1776:   0%|          | 0/200 [00:00<?, ?it/s]\u001b[A\n",
      "Explain node 1776:  11%|█         | 22/200 [00:00<00:00, 212.19it/s]\u001b[A\n",
      "Explain node 1776:  22%|██▏       | 44/200 [00:00<00:00, 213.50it/s]\u001b[A\n",
      "Explain node 1776:  33%|███▎      | 66/200 [00:00<00:00, 213.49it/s]\u001b[A\n",
      "Explain node 1776:  44%|████▍     | 88/200 [00:00<00:00, 208.62it/s]\u001b[A\n",
      "Explain node 1776:  55%|█████▍    | 109/200 [00:00<00:00, 207.18it/s]\u001b[A\n",
      "Explain node 1776:  66%|██████▌   | 131/200 [00:00<00:00, 209.47it/s]\u001b[A\n",
      "Explain node 1776:  76%|███████▋  | 153/200 [00:00<00:00, 212.15it/s]\u001b[A\n",
      "Explain node 1776:  88%|████████▊ | 175/200 [00:00<00:00, 211.66it/s]\u001b[A\n",
      "Explain node 1776: 100%|██████████| 200/200 [00:00<00:00, 211.01it/s]\u001b[A\n"
     ]
    },
    {
     "name": "stdout",
     "output_type": "stream",
     "text": [
      "Accuracy on Model:  45.45454545454545\n",
      "Accuracy on EVAL-XG:  54.54545454545454\n"
     ]
    },
    {
     "name": "stderr",
     "output_type": "stream",
     "text": [
      "\n",
      "  0%|          | 0/200 [00:00<?, ?it/s]\u001b[A\n",
      "Explain node 1777:   0%|          | 0/200 [00:00<?, ?it/s]\u001b[A\n",
      "Explain node 1777:  11%|█         | 22/200 [00:00<00:00, 216.84it/s]\u001b[A\n",
      "Explain node 1777:  22%|██▏       | 44/200 [00:00<00:00, 217.35it/s]\u001b[A\n",
      "Explain node 1777:  33%|███▎      | 66/200 [00:00<00:00, 218.11it/s]\u001b[A\n",
      "Explain node 1777:  44%|████▍     | 88/200 [00:00<00:00, 217.63it/s]\u001b[A\n",
      "Explain node 1777:  55%|█████▌    | 110/200 [00:00<00:00, 215.17it/s]\u001b[A\n",
      "Explain node 1777:  66%|██████▌   | 132/200 [00:00<00:00, 213.79it/s]\u001b[A\n",
      "Explain node 1777:  77%|███████▋  | 154/200 [00:00<00:00, 214.36it/s]\u001b[A\n",
      "Explain node 1777:  88%|████████▊ | 176/200 [00:00<00:00, 214.65it/s]\u001b[A\n",
      "Explain node 1777: 100%|██████████| 200/200 [00:00<00:00, 214.89it/s]\u001b[A\n"
     ]
    },
    {
     "name": "stdout",
     "output_type": "stream",
     "text": [
      "Accuracy on Model:  46.15384615384615\n",
      "Accuracy on EVAL-XG:  55.12820512820513\n"
     ]
    },
    {
     "name": "stderr",
     "output_type": "stream",
     "text": [
      "\n",
      "  0%|          | 0/200 [00:00<?, ?it/s]\u001b[A\n",
      "Explain node 1778:   0%|          | 0/200 [00:00<?, ?it/s]\u001b[A\n",
      "Explain node 1778:  11%|█         | 22/200 [00:00<00:00, 212.59it/s]\u001b[A\n",
      "Explain node 1778:  22%|██▏       | 44/200 [00:00<00:00, 208.01it/s]\u001b[A\n",
      "Explain node 1778:  32%|███▎      | 65/200 [00:00<00:00, 207.48it/s]\u001b[A\n",
      "Explain node 1778:  43%|████▎     | 86/200 [00:00<00:00, 202.82it/s]\u001b[A\n",
      "Explain node 1778:  54%|█████▎    | 107/200 [00:00<00:00, 198.18it/s]\u001b[A\n",
      "Explain node 1778:  64%|██████▍   | 129/200 [00:00<00:00, 203.59it/s]\u001b[A\n",
      "Explain node 1778:  76%|███████▌  | 151/200 [00:00<00:00, 207.15it/s]\u001b[A\n",
      "Explain node 1778:  86%|████████▋ | 173/200 [00:00<00:00, 211.10it/s]\u001b[A\n",
      "Explain node 1778: 100%|██████████| 200/200 [00:00<00:00, 208.44it/s]\u001b[A\n"
     ]
    },
    {
     "name": "stdout",
     "output_type": "stream",
     "text": [
      "Accuracy on Model:  46.835443037974684\n",
      "Accuracy on EVAL-XG:  55.69620253164557\n"
     ]
    },
    {
     "name": "stderr",
     "output_type": "stream",
     "text": [
      "\n",
      "  0%|          | 0/200 [00:00<?, ?it/s]\u001b[A\n",
      "Explain node 1779:   0%|          | 0/200 [00:00<?, ?it/s]\u001b[A\n",
      "Explain node 1779:  11%|█         | 22/200 [00:00<00:00, 213.02it/s]\u001b[A\n",
      "Explain node 1779:  22%|██▏       | 44/200 [00:00<00:00, 214.51it/s]\u001b[A\n",
      "Explain node 1779:  33%|███▎      | 66/200 [00:00<00:00, 214.39it/s]\u001b[A\n",
      "Explain node 1779:  44%|████▍     | 88/200 [00:00<00:00, 211.94it/s]\u001b[A\n",
      "Explain node 1779:  55%|█████▌    | 110/200 [00:00<00:00, 213.68it/s]\u001b[A\n",
      "Explain node 1779:  66%|██████▌   | 132/200 [00:00<00:00, 214.55it/s]\u001b[A\n",
      "Explain node 1779:  77%|███████▋  | 154/200 [00:00<00:00, 215.75it/s]\u001b[A\n",
      "Explain node 1779:  88%|████████▊ | 176/200 [00:00<00:00, 216.50it/s]\u001b[A\n",
      "Explain node 1779: 100%|██████████| 200/200 [00:00<00:00, 213.50it/s]\u001b[A\n"
     ]
    },
    {
     "name": "stdout",
     "output_type": "stream",
     "text": [
      "Accuracy on Model:  47.5\n",
      "Accuracy on EVAL-XG:  56.25\n"
     ]
    },
    {
     "name": "stderr",
     "output_type": "stream",
     "text": [
      "\n",
      "  0%|          | 0/200 [00:00<?, ?it/s]\u001b[A\n",
      "Explain node 1780:   0%|          | 0/200 [00:00<?, ?it/s]\u001b[A\n",
      "Explain node 1780:  10%|█         | 21/200 [00:00<00:00, 207.49it/s]\u001b[A\n",
      "Explain node 1780:  22%|██▏       | 43/200 [00:00<00:00, 213.29it/s]\u001b[A\n",
      "Explain node 1780:  32%|███▎      | 65/200 [00:00<00:00, 205.04it/s]\u001b[A\n",
      "Explain node 1780:  43%|████▎     | 86/200 [00:00<00:00, 203.49it/s]\u001b[A\n",
      "Explain node 1780:  54%|█████▎    | 107/200 [00:00<00:00, 205.70it/s]\u001b[A\n",
      "Explain node 1780:  65%|██████▌   | 130/200 [00:00<00:00, 211.09it/s]\u001b[A\n",
      "Explain node 1780:  76%|███████▌  | 152/200 [00:00<00:00, 210.10it/s]\u001b[A\n",
      "Explain node 1780:  87%|████████▋ | 174/200 [00:00<00:00, 211.70it/s]\u001b[A\n",
      "Explain node 1780: 100%|██████████| 200/200 [00:00<00:00, 210.32it/s]\u001b[A\n"
     ]
    },
    {
     "name": "stdout",
     "output_type": "stream",
     "text": [
      "Accuracy on Model:  48.148148148148145\n",
      "Accuracy on EVAL-XG:  56.79012345679012\n"
     ]
    },
    {
     "name": "stderr",
     "output_type": "stream",
     "text": [
      "\n",
      "  0%|          | 0/200 [00:00<?, ?it/s]\u001b[A\n",
      "Explain node 1781:   0%|          | 0/200 [00:00<?, ?it/s]\u001b[A\n",
      "Explain node 1781:  11%|█         | 22/200 [00:00<00:00, 216.07it/s]\u001b[A\n",
      "Explain node 1781:  22%|██▏       | 44/200 [00:00<00:00, 215.24it/s]\u001b[A\n",
      "Explain node 1781:  33%|███▎      | 66/200 [00:00<00:00, 215.63it/s]\u001b[A\n",
      "Explain node 1781:  44%|████▍     | 88/200 [00:00<00:00, 213.91it/s]\u001b[A\n",
      "Explain node 1781:  55%|█████▌    | 110/200 [00:00<00:00, 214.32it/s]\u001b[A\n",
      "Explain node 1781:  66%|██████▌   | 132/200 [00:00<00:00, 215.50it/s]\u001b[A\n",
      "Explain node 1781:  77%|███████▋  | 154/200 [00:00<00:00, 215.98it/s]\u001b[A\n",
      "Explain node 1781:  88%|████████▊ | 176/200 [00:00<00:00, 215.26it/s]\u001b[A\n",
      "Explain node 1781: 100%|██████████| 200/200 [00:00<00:00, 215.22it/s]\u001b[A\n"
     ]
    },
    {
     "name": "stdout",
     "output_type": "stream",
     "text": [
      "Accuracy on Model:  48.78048780487805\n",
      "Accuracy on EVAL-XG:  57.3170731707317\n"
     ]
    },
    {
     "name": "stderr",
     "output_type": "stream",
     "text": [
      "\n",
      "  0%|          | 0/200 [00:00<?, ?it/s]\u001b[A\n",
      "Explain node 1782:   0%|          | 0/200 [00:00<?, ?it/s]\u001b[A\n",
      "Explain node 1782:  12%|█▏        | 23/200 [00:00<00:00, 220.99it/s]\u001b[A\n",
      "Explain node 1782:  23%|██▎       | 46/200 [00:00<00:00, 216.21it/s]\u001b[A\n",
      "Explain node 1782:  34%|███▍      | 68/200 [00:00<00:00, 210.12it/s]\u001b[A\n",
      "Explain node 1782:  45%|████▌     | 90/200 [00:00<00:00, 213.11it/s]\u001b[A\n",
      "Explain node 1782:  56%|█████▌    | 112/200 [00:00<00:00, 211.02it/s]\u001b[A\n",
      "Explain node 1782:  67%|██████▋   | 134/200 [00:00<00:00, 213.55it/s]\u001b[A\n",
      "Explain node 1782:  78%|███████▊  | 156/200 [00:00<00:00, 213.12it/s]\u001b[A\n",
      "Explain node 1782:  89%|████████▉ | 178/200 [00:00<00:00, 212.21it/s]\u001b[A\n",
      "Explain node 1782: 100%|██████████| 200/200 [00:00<00:00, 211.72it/s]\u001b[A\n"
     ]
    },
    {
     "name": "stdout",
     "output_type": "stream",
     "text": [
      "Accuracy on Model:  49.39759036144578\n",
      "Accuracy on EVAL-XG:  57.831325301204814\n"
     ]
    },
    {
     "name": "stderr",
     "output_type": "stream",
     "text": [
      "\n",
      "  0%|          | 0/200 [00:00<?, ?it/s]\u001b[A\n",
      "Explain node 1783:   0%|          | 0/200 [00:00<?, ?it/s]\u001b[A\n",
      "Explain node 1783:  11%|█         | 22/200 [00:00<00:00, 213.82it/s]\u001b[A\n",
      "Explain node 1783:  22%|██▏       | 44/200 [00:00<00:00, 216.52it/s]\u001b[A\n",
      "Explain node 1783:  33%|███▎      | 66/200 [00:00<00:00, 215.87it/s]\u001b[A\n",
      "Explain node 1783:  44%|████▍     | 88/200 [00:00<00:00, 216.94it/s]\u001b[A\n",
      "Explain node 1783:  55%|█████▌    | 110/200 [00:00<00:00, 217.16it/s]\u001b[A\n",
      "Explain node 1783:  66%|██████▋   | 133/200 [00:00<00:00, 218.27it/s]\u001b[A\n",
      "Explain node 1783:  78%|███████▊  | 155/200 [00:00<00:00, 217.89it/s]\u001b[A\n",
      "Explain node 1783:  88%|████████▊ | 177/200 [00:00<00:00, 216.38it/s]\u001b[A\n",
      "Explain node 1783: 100%|██████████| 200/200 [00:00<00:00, 214.77it/s]\u001b[A\n"
     ]
    },
    {
     "name": "stdout",
     "output_type": "stream",
     "text": [
      "Accuracy on Model:  50.0\n",
      "Accuracy on EVAL-XG:  58.333333333333336\n"
     ]
    },
    {
     "name": "stderr",
     "output_type": "stream",
     "text": [
      "\n",
      "  0%|          | 0/200 [00:00<?, ?it/s]\u001b[A\n",
      "Explain node 1784:   0%|          | 0/200 [00:00<?, ?it/s]\u001b[A\n",
      "Explain node 1784:  11%|█         | 22/200 [00:00<00:00, 217.48it/s]\u001b[A\n",
      "Explain node 1784:  22%|██▏       | 44/200 [00:00<00:00, 218.53it/s]\u001b[A\n",
      "Explain node 1784:  33%|███▎      | 66/200 [00:00<00:00, 211.32it/s]\u001b[A\n",
      "Explain node 1784:  44%|████▍     | 88/200 [00:00<00:00, 213.28it/s]\u001b[A\n",
      "Explain node 1784:  56%|█████▌    | 111/200 [00:00<00:00, 216.99it/s]\u001b[A\n",
      "Explain node 1784:  66%|██████▋   | 133/200 [00:00<00:00, 216.25it/s]\u001b[A\n",
      "Explain node 1784:  78%|███████▊  | 155/200 [00:00<00:00, 215.85it/s]\u001b[A\n",
      "Explain node 1784:  88%|████████▊ | 177/200 [00:00<00:00, 216.20it/s]\u001b[A\n",
      "Explain node 1784: 100%|██████████| 200/200 [00:00<00:00, 215.41it/s]\u001b[A\n"
     ]
    },
    {
     "name": "stdout",
     "output_type": "stream",
     "text": [
      "Accuracy on Model:  50.588235294117645\n",
      "Accuracy on EVAL-XG:  58.82352941176471\n"
     ]
    },
    {
     "name": "stderr",
     "output_type": "stream",
     "text": [
      "\n",
      "  0%|          | 0/200 [00:00<?, ?it/s]\u001b[A\n",
      "Explain node 1785:   0%|          | 0/200 [00:00<?, ?it/s]\u001b[A\n",
      "Explain node 1785:  11%|█         | 22/200 [00:00<00:00, 216.87it/s]\u001b[A\n",
      "Explain node 1785:  22%|██▏       | 44/200 [00:00<00:00, 213.69it/s]\u001b[A\n",
      "Explain node 1785:  33%|███▎      | 66/200 [00:00<00:00, 215.14it/s]\u001b[A\n",
      "Explain node 1785:  44%|████▍     | 88/200 [00:00<00:00, 216.45it/s]\u001b[A\n",
      "Explain node 1785:  55%|█████▌    | 110/200 [00:00<00:00, 213.24it/s]\u001b[A\n",
      "Explain node 1785:  66%|██████▋   | 133/200 [00:00<00:00, 216.84it/s]\u001b[A\n",
      "Explain node 1785:  78%|███████▊  | 155/200 [00:00<00:00, 215.92it/s]\u001b[A\n",
      "Explain node 1785:  88%|████████▊ | 177/200 [00:00<00:00, 216.48it/s]\u001b[A\n",
      "Explain node 1785: 100%|██████████| 200/200 [00:00<00:00, 214.95it/s]\u001b[A\n"
     ]
    },
    {
     "name": "stdout",
     "output_type": "stream",
     "text": [
      "Accuracy on Model:  50.0\n",
      "Accuracy on EVAL-XG:  58.139534883720934\n"
     ]
    },
    {
     "name": "stderr",
     "output_type": "stream",
     "text": [
      "\n",
      "  0%|          | 0/200 [00:00<?, ?it/s]\u001b[A\n",
      "Explain node 1786:   0%|          | 0/200 [00:00<?, ?it/s]\u001b[A\n",
      "Explain node 1786:  11%|█         | 22/200 [00:00<00:00, 212.27it/s]\u001b[A\n",
      "Explain node 1786:  22%|██▏       | 44/200 [00:00<00:00, 216.63it/s]\u001b[A\n",
      "Explain node 1786:  33%|███▎      | 66/200 [00:00<00:00, 216.66it/s]\u001b[A\n",
      "Explain node 1786:  44%|████▍     | 88/200 [00:00<00:00, 211.06it/s]\u001b[A\n",
      "Explain node 1786:  55%|█████▌    | 110/200 [00:00<00:00, 208.85it/s]\u001b[A\n",
      "Explain node 1786:  66%|██████▋   | 133/200 [00:00<00:00, 214.57it/s]\u001b[A\n",
      "Explain node 1786:  78%|███████▊  | 155/200 [00:00<00:00, 215.18it/s]\u001b[A\n",
      "Explain node 1786:  88%|████████▊ | 177/200 [00:00<00:00, 215.83it/s]\u001b[A\n",
      "Explain node 1786: 100%|██████████| 200/200 [00:00<00:00, 214.23it/s]\u001b[A\n"
     ]
    },
    {
     "name": "stdout",
     "output_type": "stream",
     "text": [
      "Accuracy on Model:  49.42528735632184\n",
      "Accuracy on EVAL-XG:  57.47126436781609\n"
     ]
    },
    {
     "name": "stderr",
     "output_type": "stream",
     "text": [
      "\n",
      "  0%|          | 0/200 [00:00<?, ?it/s]\u001b[A\n",
      "Explain node 1787:   0%|          | 0/200 [00:00<?, ?it/s]\u001b[A\n",
      "Explain node 1787:  11%|█         | 22/200 [00:00<00:00, 216.66it/s]\u001b[A\n",
      "Explain node 1787:  22%|██▎       | 45/200 [00:00<00:00, 221.87it/s]\u001b[A\n",
      "Explain node 1787:  34%|███▍      | 68/200 [00:00<00:00, 222.22it/s]\u001b[A\n",
      "Explain node 1787:  46%|████▌     | 91/200 [00:00<00:00, 219.94it/s]\u001b[A\n",
      "Explain node 1787:  56%|█████▋    | 113/200 [00:00<00:00, 218.34it/s]\u001b[A\n",
      "Explain node 1787:  68%|██████▊   | 135/200 [00:00<00:00, 215.99it/s]\u001b[A\n",
      "Explain node 1787:  79%|███████▉  | 158/200 [00:00<00:00, 217.88it/s]\u001b[A\n",
      "Explain node 1787: 100%|██████████| 200/200 [00:00<00:00, 215.15it/s]\u001b[A\n"
     ]
    },
    {
     "name": "stdout",
     "output_type": "stream",
     "text": [
      "Accuracy on Model:  48.86363636363637\n",
      "Accuracy on EVAL-XG:  56.81818181818182\n"
     ]
    },
    {
     "name": "stderr",
     "output_type": "stream",
     "text": [
      "\n",
      "  0%|          | 0/200 [00:00<?, ?it/s]\u001b[A\n",
      "Explain node 1788:   0%|          | 0/200 [00:00<?, ?it/s]\u001b[A\n",
      "Explain node 1788:  10%|█         | 20/200 [00:00<00:00, 196.47it/s]\u001b[A\n",
      "Explain node 1788:  20%|██        | 41/200 [00:00<00:00, 204.22it/s]\u001b[A\n",
      "Explain node 1788:  32%|███▏      | 63/200 [00:00<00:00, 209.51it/s]\u001b[A\n",
      "Explain node 1788:  42%|████▏     | 84/200 [00:00<00:00, 208.31it/s]\u001b[A\n",
      "Explain node 1788:  52%|█████▎    | 105/200 [00:00<00:00, 208.30it/s]\u001b[A\n",
      "Explain node 1788:  64%|██████▎   | 127/200 [00:00<00:00, 209.23it/s]\u001b[A\n",
      "Explain node 1788:  74%|███████▍  | 148/200 [00:00<00:00, 207.64it/s]\u001b[A\n",
      "Explain node 1788:  84%|████████▍ | 169/200 [00:00<00:00, 207.56it/s]\u001b[A\n",
      "Explain node 1788: 100%|██████████| 200/200 [00:00<00:00, 208.20it/s]\u001b[A\n"
     ]
    },
    {
     "name": "stdout",
     "output_type": "stream",
     "text": [
      "Accuracy on Model:  48.31460674157304\n",
      "Accuracy on EVAL-XG:  56.17977528089888\n"
     ]
    },
    {
     "name": "stderr",
     "output_type": "stream",
     "text": [
      "\n",
      "  0%|          | 0/200 [00:00<?, ?it/s]\u001b[A\n",
      "Explain node 1789:   0%|          | 0/200 [00:00<?, ?it/s]\u001b[A\n",
      "Explain node 1789:  10%|█         | 21/200 [00:00<00:00, 206.93it/s]\u001b[A\n",
      "Explain node 1789:  22%|██▏       | 43/200 [00:00<00:00, 212.46it/s]\u001b[A\n",
      "Explain node 1789:  32%|███▎      | 65/200 [00:00<00:00, 213.16it/s]\u001b[A\n",
      "Explain node 1789:  44%|████▎     | 87/200 [00:00<00:00, 211.10it/s]\u001b[A\n",
      "Explain node 1789:  55%|█████▌    | 110/200 [00:00<00:00, 215.62it/s]\u001b[A\n",
      "Explain node 1789:  66%|██████▋   | 133/200 [00:00<00:00, 217.10it/s]\u001b[A\n",
      "Explain node 1789:  78%|███████▊  | 155/200 [00:00<00:00, 217.45it/s]\u001b[A\n",
      "Explain node 1789: 100%|██████████| 200/200 [00:00<00:00, 216.66it/s]\u001b[A\n"
     ]
    },
    {
     "name": "stdout",
     "output_type": "stream",
     "text": [
      "Accuracy on Model:  48.888888888888886\n",
      "Accuracy on EVAL-XG:  56.666666666666664\n"
     ]
    },
    {
     "name": "stderr",
     "output_type": "stream",
     "text": [
      "\n",
      "  0%|          | 0/200 [00:00<?, ?it/s]\u001b[A\n",
      "Explain node 1790:   0%|          | 0/200 [00:00<?, ?it/s]\u001b[A\n",
      "Explain node 1790:  11%|█         | 22/200 [00:00<00:00, 216.73it/s]\u001b[A\n",
      "Explain node 1790:  22%|██▎       | 45/200 [00:00<00:00, 221.71it/s]\u001b[A\n",
      "Explain node 1790:  34%|███▍      | 68/200 [00:00<00:00, 221.38it/s]\u001b[A\n",
      "Explain node 1790:  46%|████▌     | 91/200 [00:00<00:00, 219.76it/s]\u001b[A\n",
      "Explain node 1790:  56%|█████▋    | 113/200 [00:00<00:00, 219.08it/s]\u001b[A\n",
      "Explain node 1790:  68%|██████▊   | 135/200 [00:00<00:00, 219.18it/s]\u001b[A\n",
      "Explain node 1790:  78%|███████▊  | 157/200 [00:00<00:00, 219.35it/s]\u001b[A\n",
      "Explain node 1790: 100%|██████████| 200/200 [00:00<00:00, 220.21it/s]\u001b[A\n"
     ]
    },
    {
     "name": "stdout",
     "output_type": "stream",
     "text": [
      "Accuracy on Model:  49.45054945054945\n",
      "Accuracy on EVAL-XG:  57.14285714285714\n"
     ]
    },
    {
     "name": "stderr",
     "output_type": "stream",
     "text": [
      "\n",
      "  0%|          | 0/200 [00:00<?, ?it/s]\u001b[A\n",
      "Explain node 1791:   0%|          | 0/200 [00:00<?, ?it/s]\u001b[A\n",
      "Explain node 1791:  11%|█         | 22/200 [00:00<00:00, 217.28it/s]\u001b[A\n",
      "Explain node 1791:  22%|██▎       | 45/200 [00:00<00:00, 219.70it/s]\u001b[A\n",
      "Explain node 1791:  34%|███▎      | 67/200 [00:00<00:00, 219.11it/s]\u001b[A\n",
      "Explain node 1791:  44%|████▍     | 89/200 [00:00<00:00, 218.14it/s]\u001b[A\n",
      "Explain node 1791:  56%|█████▌    | 111/200 [00:00<00:00, 212.40it/s]\u001b[A\n",
      "Explain node 1791:  66%|██████▋   | 133/200 [00:00<00:00, 213.10it/s]\u001b[A\n",
      "Explain node 1791:  78%|███████▊  | 155/200 [00:00<00:00, 210.63it/s]\u001b[A\n",
      "Explain node 1791:  88%|████████▊ | 177/200 [00:00<00:00, 213.26it/s]\u001b[A\n",
      "Explain node 1791: 100%|██████████| 200/200 [00:00<00:00, 214.47it/s]\u001b[A\n"
     ]
    },
    {
     "name": "stdout",
     "output_type": "stream",
     "text": [
      "Accuracy on Model:  48.91304347826087\n",
      "Accuracy on EVAL-XG:  56.52173913043478\n"
     ]
    },
    {
     "name": "stderr",
     "output_type": "stream",
     "text": [
      "\n",
      "  0%|          | 0/200 [00:00<?, ?it/s]\u001b[A\n",
      "Explain node 1792:   0%|          | 0/200 [00:00<?, ?it/s]\u001b[A\n",
      "Explain node 1792:  11%|█         | 22/200 [00:00<00:00, 217.73it/s]\u001b[A\n",
      "Explain node 1792:  22%|██▎       | 45/200 [00:00<00:00, 218.81it/s]\u001b[A\n",
      "Explain node 1792:  34%|███▎      | 67/200 [00:00<00:00, 219.24it/s]\u001b[A\n",
      "Explain node 1792:  44%|████▍     | 89/200 [00:00<00:00, 217.80it/s]\u001b[A\n",
      "Explain node 1792:  56%|█████▌    | 112/200 [00:00<00:00, 219.49it/s]\u001b[A\n",
      "Explain node 1792:  67%|██████▋   | 134/200 [00:00<00:00, 218.66it/s]\u001b[A\n",
      "Explain node 1792:  78%|███████▊  | 156/200 [00:00<00:00, 217.53it/s]\u001b[A\n",
      "Explain node 1792:  89%|████████▉ | 178/200 [00:00<00:00, 212.67it/s]\u001b[A\n",
      "Explain node 1792: 100%|██████████| 200/200 [00:00<00:00, 216.21it/s]\u001b[A\n"
     ]
    },
    {
     "name": "stdout",
     "output_type": "stream",
     "text": [
      "Accuracy on Model:  48.38709677419355\n",
      "Accuracy on EVAL-XG:  55.91397849462365\n"
     ]
    },
    {
     "name": "stderr",
     "output_type": "stream",
     "text": [
      "\n",
      "  0%|          | 0/200 [00:00<?, ?it/s]\u001b[A\n",
      "Explain node 1793:   0%|          | 0/200 [00:00<?, ?it/s]\u001b[A\n",
      "Explain node 1793:  10%|█         | 21/200 [00:00<00:00, 203.67it/s]\u001b[A\n",
      "Explain node 1793:  21%|██        | 42/200 [00:00<00:00, 198.53it/s]\u001b[A\n",
      "Explain node 1793:  32%|███▏      | 63/200 [00:00<00:00, 201.02it/s]\u001b[A\n",
      "Explain node 1793:  42%|████▏     | 84/200 [00:00<00:00, 202.00it/s]\u001b[A\n",
      "Explain node 1793:  52%|█████▎    | 105/200 [00:00<00:00, 197.66it/s]\u001b[A\n",
      "Explain node 1793:  64%|██████▍   | 128/200 [00:00<00:00, 205.20it/s]\u001b[A\n",
      "Explain node 1793:  75%|███████▌  | 150/200 [00:00<00:00, 209.85it/s]\u001b[A\n",
      "Explain node 1793:  86%|████████▌ | 172/200 [00:00<00:00, 206.62it/s]\u001b[A\n",
      "Explain node 1793: 100%|██████████| 200/200 [00:00<00:00, 203.34it/s]\u001b[A\n"
     ]
    },
    {
     "name": "stdout",
     "output_type": "stream",
     "text": [
      "Accuracy on Model:  47.87234042553192\n",
      "Accuracy on EVAL-XG:  55.319148936170215\n"
     ]
    },
    {
     "name": "stderr",
     "output_type": "stream",
     "text": [
      "\n",
      "  0%|          | 0/200 [00:00<?, ?it/s]\u001b[A\n",
      "Explain node 1794:   0%|          | 0/200 [00:00<?, ?it/s]\u001b[A\n",
      "Explain node 1794:  10%|█         | 20/200 [00:00<00:00, 194.17it/s]\u001b[A\n",
      "Explain node 1794:  21%|██        | 42/200 [00:00<00:00, 204.69it/s]\u001b[A\n",
      "Explain node 1794:  32%|███▏      | 63/200 [00:00<00:00, 201.18it/s]\u001b[A\n",
      "Explain node 1794:  42%|████▏     | 84/200 [00:00<00:00, 200.19it/s]\u001b[A\n",
      "Explain node 1794:  52%|█████▎    | 105/200 [00:00<00:00, 197.74it/s]\u001b[A\n",
      "Explain node 1794:  64%|██████▍   | 128/200 [00:00<00:00, 206.50it/s]\u001b[A\n",
      "Explain node 1794:  75%|███████▌  | 150/200 [00:00<00:00, 210.35it/s]\u001b[A\n",
      "Explain node 1794:  86%|████████▋ | 173/200 [00:00<00:00, 213.97it/s]\u001b[A\n",
      "Explain node 1794: 100%|██████████| 200/200 [00:00<00:00, 207.36it/s]\u001b[A\n"
     ]
    },
    {
     "name": "stdout",
     "output_type": "stream",
     "text": [
      "Accuracy on Model:  48.421052631578945\n",
      "Accuracy on EVAL-XG:  55.78947368421052\n"
     ]
    },
    {
     "name": "stderr",
     "output_type": "stream",
     "text": [
      "\n",
      "  0%|          | 0/200 [00:00<?, ?it/s]\u001b[A\n",
      "Explain node 1795:   0%|          | 0/200 [00:00<?, ?it/s]\u001b[A\n",
      "Explain node 1795:  10%|█         | 21/200 [00:00<00:00, 205.74it/s]\u001b[A\n",
      "Explain node 1795:  21%|██        | 42/200 [00:00<00:00, 205.73it/s]\u001b[A\n",
      "Explain node 1795:  32%|███▏      | 63/200 [00:00<00:00, 183.26it/s]\u001b[A\n",
      "Explain node 1795:  41%|████      | 82/200 [00:00<00:00, 174.96it/s]\u001b[A\n",
      "Explain node 1795:  50%|█████     | 100/200 [00:00<00:00, 170.98it/s]\u001b[A\n",
      "Explain node 1795:  60%|█████▉    | 119/200 [00:00<00:00, 176.41it/s]\u001b[A\n",
      "Explain node 1795:  69%|██████▉   | 138/200 [00:00<00:00, 180.12it/s]\u001b[A\n",
      "Explain node 1795:  78%|███████▊  | 157/200 [00:00<00:00, 177.69it/s]\u001b[A\n",
      "Explain node 1795:  88%|████████▊ | 177/200 [00:00<00:00, 183.52it/s]\u001b[A\n",
      "Explain node 1795: 100%|██████████| 200/200 [00:01<00:00, 181.29it/s]\u001b[A\n"
     ]
    },
    {
     "name": "stdout",
     "output_type": "stream",
     "text": [
      "Accuracy on Model:  47.91666666666667\n",
      "Accuracy on EVAL-XG:  56.25\n"
     ]
    },
    {
     "name": "stderr",
     "output_type": "stream",
     "text": [
      "\n",
      "  0%|          | 0/200 [00:00<?, ?it/s]\u001b[A\n",
      "Explain node 1796:   0%|          | 0/200 [00:00<?, ?it/s]\u001b[A\n",
      "Explain node 1796:   8%|▊         | 17/200 [00:00<00:01, 162.02it/s]\u001b[A\n",
      "Explain node 1796:  17%|█▋        | 34/200 [00:00<00:01, 164.40it/s]\u001b[A\n",
      "Explain node 1796:  26%|██▌       | 51/200 [00:00<00:00, 166.32it/s]\u001b[A\n",
      "Explain node 1796:  34%|███▍      | 68/200 [00:00<00:00, 165.09it/s]\u001b[A\n",
      "Explain node 1796:  42%|████▎     | 85/200 [00:00<00:00, 164.11it/s]\u001b[A\n",
      "Explain node 1796:  51%|█████     | 102/200 [00:00<00:00, 166.00it/s]\u001b[A\n",
      "Explain node 1796:  62%|██████▏   | 124/200 [00:00<00:00, 183.35it/s]\u001b[A\n",
      "Explain node 1796:  74%|███████▎  | 147/200 [00:00<00:00, 195.72it/s]\u001b[A\n",
      "Explain node 1796:  84%|████████▍ | 169/200 [00:00<00:00, 202.01it/s]\u001b[A\n",
      "Explain node 1796: 100%|██████████| 200/200 [00:01<00:00, 187.33it/s]\u001b[A\n"
     ]
    },
    {
     "name": "stdout",
     "output_type": "stream",
     "text": [
      "Accuracy on Model:  48.45360824742268\n",
      "Accuracy on EVAL-XG:  56.70103092783505\n"
     ]
    },
    {
     "name": "stderr",
     "output_type": "stream",
     "text": [
      "\n",
      "  0%|          | 0/200 [00:00<?, ?it/s]\u001b[A\n",
      "Explain node 1797:   0%|          | 0/200 [00:00<?, ?it/s]\u001b[A\n",
      "Explain node 1797:  11%|█         | 22/200 [00:00<00:00, 213.75it/s]\u001b[A\n",
      "Explain node 1797:  22%|██▎       | 45/200 [00:00<00:00, 218.35it/s]\u001b[A\n",
      "Explain node 1797:  34%|███▎      | 67/200 [00:00<00:00, 218.98it/s]\u001b[A\n",
      "Explain node 1797:  44%|████▍     | 89/200 [00:00<00:00, 211.60it/s]\u001b[A\n",
      "Explain node 1797:  56%|█████▌    | 111/200 [00:00<00:00, 204.91it/s]\u001b[A\n",
      "Explain node 1797:  66%|██████▋   | 133/200 [00:00<00:00, 209.54it/s]\u001b[A\n",
      "Explain node 1797:  78%|███████▊  | 155/200 [00:00<00:00, 205.23it/s]\u001b[A\n",
      "Explain node 1797:  88%|████████▊ | 176/200 [00:00<00:00, 201.18it/s]\u001b[A\n",
      "Explain node 1797: 100%|██████████| 200/200 [00:00<00:00, 206.71it/s]\u001b[A\n"
     ]
    },
    {
     "name": "stdout",
     "output_type": "stream",
     "text": [
      "Accuracy on Model:  47.95918367346938\n",
      "Accuracy on EVAL-XG:  56.12244897959183\n"
     ]
    },
    {
     "name": "stderr",
     "output_type": "stream",
     "text": [
      "\n",
      "  0%|          | 0/200 [00:00<?, ?it/s]\u001b[A\n",
      "Explain node 1798:   0%|          | 0/200 [00:00<?, ?it/s]\u001b[A\n",
      "Explain node 1798:  11%|█         | 22/200 [00:00<00:00, 212.01it/s]\u001b[A\n",
      "Explain node 1798:  22%|██▏       | 44/200 [00:00<00:00, 212.85it/s]\u001b[A\n",
      "Explain node 1798:  33%|███▎      | 66/200 [00:00<00:00, 213.09it/s]\u001b[A\n",
      "Explain node 1798:  44%|████▍     | 88/200 [00:00<00:00, 213.31it/s]\u001b[A\n",
      "Explain node 1798:  55%|█████▌    | 110/200 [00:00<00:00, 211.23it/s]\u001b[A\n",
      "Explain node 1798:  66%|██████▌   | 132/200 [00:00<00:00, 210.07it/s]\u001b[A\n",
      "Explain node 1798:  77%|███████▋  | 154/200 [00:00<00:00, 210.42it/s]\u001b[A\n",
      "Explain node 1798:  88%|████████▊ | 176/200 [00:00<00:00, 210.88it/s]\u001b[A\n",
      "Explain node 1798: 100%|██████████| 200/200 [00:00<00:00, 210.97it/s]\u001b[A\n"
     ]
    },
    {
     "name": "stdout",
     "output_type": "stream",
     "text": [
      "Accuracy on Model:  48.484848484848484\n",
      "Accuracy on EVAL-XG:  56.56565656565656\n"
     ]
    },
    {
     "name": "stderr",
     "output_type": "stream",
     "text": [
      "\n",
      "  0%|          | 0/200 [00:00<?, ?it/s]\u001b[A\n",
      "Explain node 1799:   0%|          | 0/200 [00:00<?, ?it/s]\u001b[A\n",
      "Explain node 1799:  10%|█         | 21/200 [00:00<00:00, 207.19it/s]\u001b[A\n",
      "Explain node 1799:  21%|██        | 42/200 [00:00<00:00, 207.38it/s]\u001b[A\n",
      "Explain node 1799:  32%|███▏      | 64/200 [00:00<00:00, 209.29it/s]\u001b[A\n",
      "Explain node 1799:  42%|████▎     | 85/200 [00:00<00:00, 209.30it/s]\u001b[A\n",
      "Explain node 1799:  53%|█████▎    | 106/200 [00:00<00:00, 206.95it/s]\u001b[A\n",
      "Explain node 1799:  64%|██████▎   | 127/200 [00:00<00:00, 206.79it/s]\u001b[A\n",
      "Explain node 1799:  74%|███████▍  | 149/200 [00:00<00:00, 210.00it/s]\u001b[A\n",
      "Explain node 1799:  86%|████████▌ | 172/200 [00:00<00:00, 213.58it/s]\u001b[A\n",
      "Explain node 1799: 100%|██████████| 200/200 [00:00<00:00, 210.16it/s]\u001b[A\n"
     ]
    },
    {
     "name": "stdout",
     "output_type": "stream",
     "text": [
      "Accuracy on Model:  49.0\n",
      "Accuracy on EVAL-XG:  56.99999999999999\n"
     ]
    },
    {
     "name": "stderr",
     "output_type": "stream",
     "text": [
      "\n",
      "  0%|          | 0/200 [00:00<?, ?it/s]\u001b[A\n",
      "Explain node 1800:   0%|          | 0/200 [00:00<?, ?it/s]\u001b[A\n",
      "Explain node 1800:  11%|█         | 22/200 [00:00<00:00, 218.25it/s]\u001b[A\n",
      "Explain node 1800:  22%|██▏       | 44/200 [00:00<00:00, 216.33it/s]\u001b[A\n",
      "Explain node 1800:  33%|███▎      | 66/200 [00:00<00:00, 215.32it/s]\u001b[A\n",
      "Explain node 1800:  44%|████▍     | 88/200 [00:00<00:00, 212.51it/s]\u001b[A\n",
      "Explain node 1800:  55%|█████▌    | 110/200 [00:00<00:00, 211.37it/s]\u001b[A\n",
      "Explain node 1800:  66%|██████▌   | 132/200 [00:00<00:00, 210.20it/s]\u001b[A\n",
      "Explain node 1800:  77%|███████▋  | 154/200 [00:00<00:00, 209.55it/s]\u001b[A\n",
      "Explain node 1800:  88%|████████▊ | 176/200 [00:00<00:00, 211.57it/s]\u001b[A\n",
      "Explain node 1800: 100%|██████████| 200/200 [00:00<00:00, 212.74it/s]\u001b[A\n"
     ]
    },
    {
     "name": "stdout",
     "output_type": "stream",
     "text": [
      "Accuracy on Model:  48.51485148514851\n",
      "Accuracy on EVAL-XG:  56.43564356435643\n"
     ]
    },
    {
     "name": "stderr",
     "output_type": "stream",
     "text": [
      "\n",
      "  0%|          | 0/200 [00:00<?, ?it/s]\u001b[A\n",
      "Explain node 1801:   0%|          | 0/200 [00:00<?, ?it/s]\u001b[A\n",
      "Explain node 1801:  11%|█         | 22/200 [00:00<00:00, 217.43it/s]\u001b[A\n",
      "Explain node 1801:  22%|██▏       | 44/200 [00:00<00:00, 204.56it/s]\u001b[A\n",
      "Explain node 1801:  33%|███▎      | 66/200 [00:00<00:00, 207.63it/s]\u001b[A\n",
      "Explain node 1801:  44%|████▍     | 88/200 [00:00<00:00, 209.15it/s]\u001b[A\n",
      "Explain node 1801:  55%|█████▍    | 109/200 [00:00<00:00, 207.33it/s]\u001b[A\n",
      "Explain node 1801:  65%|██████▌   | 130/200 [00:00<00:00, 206.72it/s]\u001b[A\n",
      "Explain node 1801:  76%|███████▌  | 151/200 [00:00<00:00, 205.60it/s]\u001b[A\n",
      "Explain node 1801:  86%|████████▌ | 172/200 [00:00<00:00, 204.82it/s]\u001b[A\n",
      "Explain node 1801: 100%|██████████| 200/200 [00:00<00:00, 206.09it/s]\u001b[A\n"
     ]
    },
    {
     "name": "stdout",
     "output_type": "stream",
     "text": [
      "Accuracy on Model:  49.01960784313725\n",
      "Accuracy on EVAL-XG:  56.86274509803921\n"
     ]
    },
    {
     "name": "stderr",
     "output_type": "stream",
     "text": [
      "\n",
      "  0%|          | 0/200 [00:00<?, ?it/s]\u001b[A\n",
      "Explain node 1802:   0%|          | 0/200 [00:00<?, ?it/s]\u001b[A\n",
      "Explain node 1802:  11%|█         | 22/200 [00:00<00:00, 213.66it/s]\u001b[A\n",
      "Explain node 1802:  22%|██▏       | 44/200 [00:00<00:00, 213.77it/s]\u001b[A\n",
      "Explain node 1802:  33%|███▎      | 66/200 [00:00<00:00, 213.86it/s]\u001b[A\n",
      "Explain node 1802:  44%|████▍     | 88/200 [00:00<00:00, 214.93it/s]\u001b[A\n",
      "Explain node 1802:  55%|█████▌    | 110/200 [00:00<00:00, 215.98it/s]\u001b[A\n",
      "Explain node 1802:  66%|██████▌   | 132/200 [00:00<00:00, 216.06it/s]\u001b[A\n",
      "Explain node 1802:  77%|███████▋  | 154/200 [00:00<00:00, 217.27it/s]\u001b[A\n",
      "Explain node 1802:  88%|████████▊ | 176/200 [00:00<00:00, 214.77it/s]\u001b[A\n",
      "Explain node 1802: 100%|██████████| 200/200 [00:00<00:00, 214.73it/s]\u001b[A\n"
     ]
    },
    {
     "name": "stdout",
     "output_type": "stream",
     "text": [
      "Accuracy on Model:  48.54368932038835\n",
      "Accuracy on EVAL-XG:  56.310679611650485\n"
     ]
    },
    {
     "name": "stderr",
     "output_type": "stream",
     "text": [
      "\n",
      "  0%|          | 0/200 [00:00<?, ?it/s]\u001b[A\n",
      "Explain node 1803:   0%|          | 0/200 [00:00<?, ?it/s]\u001b[A\n",
      "Explain node 1803:  10%|█         | 21/200 [00:00<00:00, 206.36it/s]\u001b[A\n",
      "Explain node 1803:  22%|██▏       | 43/200 [00:00<00:00, 210.96it/s]\u001b[A\n",
      "Explain node 1803:  32%|███▎      | 65/200 [00:00<00:00, 203.81it/s]\u001b[A\n",
      "Explain node 1803:  43%|████▎     | 86/200 [00:00<00:00, 199.49it/s]\u001b[A\n",
      "Explain node 1803:  53%|█████▎    | 106/200 [00:00<00:00, 196.76it/s]\u001b[A\n",
      "Explain node 1803:  63%|██████▎   | 126/200 [00:00<00:00, 193.80it/s]\u001b[A\n",
      "Explain node 1803:  73%|███████▎  | 146/200 [00:00<00:00, 194.06it/s]\u001b[A\n",
      "Explain node 1803:  84%|████████▍ | 168/200 [00:00<00:00, 200.56it/s]\u001b[A\n",
      "Explain node 1803: 100%|██████████| 200/200 [00:00<00:00, 201.58it/s]\u001b[A\n"
     ]
    },
    {
     "name": "stdout",
     "output_type": "stream",
     "text": [
      "Accuracy on Model:  49.03846153846153\n",
      "Accuracy on EVAL-XG:  56.730769230769226\n"
     ]
    },
    {
     "name": "stderr",
     "output_type": "stream",
     "text": [
      "\n",
      "  0%|          | 0/200 [00:00<?, ?it/s]\u001b[A\n",
      "Explain node 1804:   0%|          | 0/200 [00:00<?, ?it/s]\u001b[A\n",
      "Explain node 1804:  11%|█         | 22/200 [00:00<00:00, 212.79it/s]\u001b[A\n",
      "Explain node 1804:  22%|██▏       | 44/200 [00:00<00:00, 209.15it/s]\u001b[A\n",
      "Explain node 1804:  32%|███▎      | 65/200 [00:00<00:00, 199.63it/s]\u001b[A\n",
      "Explain node 1804:  43%|████▎     | 86/200 [00:00<00:00, 200.92it/s]\u001b[A\n",
      "Explain node 1804:  54%|█████▎    | 107/200 [00:00<00:00, 202.81it/s]\u001b[A\n",
      "Explain node 1804:  64%|██████▍   | 129/200 [00:00<00:00, 205.68it/s]\u001b[A\n",
      "Explain node 1804:  75%|███████▌  | 150/200 [00:00<00:00, 206.44it/s]\u001b[A\n",
      "Explain node 1804:  86%|████████▌ | 172/200 [00:00<00:00, 209.13it/s]\u001b[A\n",
      "Explain node 1804: 100%|██████████| 200/200 [00:00<00:00, 205.99it/s]\u001b[A\n"
     ]
    },
    {
     "name": "stdout",
     "output_type": "stream",
     "text": [
      "Accuracy on Model:  48.57142857142857\n",
      "Accuracy on EVAL-XG:  56.19047619047619\n"
     ]
    },
    {
     "name": "stderr",
     "output_type": "stream",
     "text": [
      "\n",
      "  0%|          | 0/200 [00:00<?, ?it/s]\u001b[A\n",
      "Explain node 1805:   0%|          | 0/200 [00:00<?, ?it/s]\u001b[A\n",
      "Explain node 1805:  10%|█         | 21/200 [00:00<00:00, 201.71it/s]\u001b[A\n",
      "Explain node 1805:  21%|██        | 42/200 [00:00<00:00, 201.80it/s]\u001b[A\n",
      "Explain node 1805:  32%|███▏      | 63/200 [00:00<00:00, 205.04it/s]\u001b[A\n",
      "Explain node 1805:  42%|████▎     | 85/200 [00:00<00:00, 210.60it/s]\u001b[A\n",
      "Explain node 1805:  54%|█████▎    | 107/200 [00:00<00:00, 212.69it/s]\u001b[A\n",
      "Explain node 1805:  64%|██████▍   | 129/200 [00:00<00:00, 214.09it/s]\u001b[A\n",
      "Explain node 1805:  76%|███████▌  | 151/200 [00:00<00:00, 214.98it/s]\u001b[A\n",
      "Explain node 1805:  86%|████████▋ | 173/200 [00:00<00:00, 215.70it/s]\u001b[A\n",
      "Explain node 1805: 100%|██████████| 200/200 [00:00<00:00, 210.81it/s]\u001b[A\n"
     ]
    },
    {
     "name": "stdout",
     "output_type": "stream",
     "text": [
      "Accuracy on Model:  49.056603773584904\n",
      "Accuracy on EVAL-XG:  56.60377358490566\n"
     ]
    },
    {
     "name": "stderr",
     "output_type": "stream",
     "text": [
      "\n",
      "  0%|          | 0/200 [00:00<?, ?it/s]\u001b[A\n",
      "Explain node 1806:   0%|          | 0/200 [00:00<?, ?it/s]\u001b[A\n",
      "Explain node 1806:  10%|▉         | 19/200 [00:00<00:00, 188.78it/s]\u001b[A\n",
      "Explain node 1806:  20%|█▉        | 39/200 [00:00<00:00, 193.32it/s]\u001b[A\n",
      "Explain node 1806:  30%|██▉       | 59/200 [00:00<00:00, 193.14it/s]\u001b[A\n",
      "Explain node 1806:  40%|████      | 80/200 [00:00<00:00, 198.64it/s]\u001b[A\n",
      "Explain node 1806:  51%|█████     | 102/200 [00:00<00:00, 205.95it/s]\u001b[A\n",
      "Explain node 1806:  62%|██████▏   | 123/200 [00:00<00:00, 204.62it/s]\u001b[A\n",
      "Explain node 1806:  72%|███████▏  | 144/200 [00:00<00:00, 202.79it/s]\u001b[A\n",
      "Explain node 1806:  83%|████████▎ | 166/200 [00:00<00:00, 206.26it/s]\u001b[A\n",
      "Explain node 1806: 100%|██████████| 200/200 [00:01<00:00, 199.88it/s]\u001b[A\n"
     ]
    },
    {
     "name": "stdout",
     "output_type": "stream",
     "text": [
      "Accuracy on Model:  48.598130841121495\n",
      "Accuracy on EVAL-XG:  56.074766355140184\n"
     ]
    },
    {
     "name": "stderr",
     "output_type": "stream",
     "text": [
      "\n",
      "  0%|          | 0/200 [00:00<?, ?it/s]\u001b[A\n",
      "Explain node 1807:   0%|          | 0/200 [00:00<?, ?it/s]\u001b[A\n",
      "Explain node 1807:  10%|█         | 21/200 [00:00<00:00, 205.05it/s]\u001b[A\n",
      "Explain node 1807:  21%|██        | 42/200 [00:00<00:00, 207.65it/s]\u001b[A\n",
      "Explain node 1807:  32%|███▏      | 64/200 [00:00<00:00, 211.79it/s]\u001b[A\n",
      "Explain node 1807:  44%|████▎     | 87/200 [00:00<00:00, 214.97it/s]\u001b[A\n",
      "Explain node 1807:  55%|█████▍    | 109/200 [00:00<00:00, 206.66it/s]\u001b[A\n",
      "Explain node 1807:  65%|██████▌   | 130/200 [00:00<00:00, 197.36it/s]\u001b[A\n",
      "Explain node 1807:  75%|███████▌  | 150/200 [00:00<00:00, 194.66it/s]\u001b[A\n",
      "Explain node 1807:  86%|████████▌ | 172/200 [00:00<00:00, 201.88it/s]\u001b[A\n",
      "Explain node 1807: 100%|██████████| 200/200 [00:00<00:00, 204.98it/s]\u001b[A\n"
     ]
    },
    {
     "name": "stdout",
     "output_type": "stream",
     "text": [
      "Accuracy on Model:  49.074074074074076\n",
      "Accuracy on EVAL-XG:  56.481481481481474\n"
     ]
    },
    {
     "name": "stderr",
     "output_type": "stream",
     "text": [
      "\n",
      "  0%|          | 0/200 [00:00<?, ?it/s]\u001b[A\n",
      "Explain node 1808:   0%|          | 0/200 [00:00<?, ?it/s]\u001b[A\n",
      "Explain node 1808:  10%|█         | 21/200 [00:00<00:00, 207.95it/s]\u001b[A\n",
      "Explain node 1808:  21%|██        | 42/200 [00:00<00:00, 200.69it/s]\u001b[A\n",
      "Explain node 1808:  32%|███▏      | 63/200 [00:00<00:00, 196.92it/s]\u001b[A\n",
      "Explain node 1808:  42%|████▎     | 85/200 [00:00<00:00, 205.38it/s]\u001b[A\n",
      "Explain node 1808:  54%|█████▎    | 107/200 [00:00<00:00, 209.59it/s]\u001b[A\n",
      "Explain node 1808:  64%|██████▍   | 128/200 [00:00<00:00, 209.63it/s]\u001b[A\n",
      "Explain node 1808:  74%|███████▍  | 149/200 [00:00<00:00, 206.04it/s]\u001b[A\n",
      "Explain node 1808:  86%|████████▌ | 171/200 [00:00<00:00, 207.80it/s]\u001b[A\n",
      "Explain node 1808: 100%|██████████| 200/200 [00:00<00:00, 207.01it/s]\u001b[A\n"
     ]
    },
    {
     "name": "stdout",
     "output_type": "stream",
     "text": [
      "Accuracy on Model:  49.54128440366973\n",
      "Accuracy on EVAL-XG:  56.88073394495413\n"
     ]
    },
    {
     "name": "stderr",
     "output_type": "stream",
     "text": [
      "\n",
      "  0%|          | 0/200 [00:00<?, ?it/s]\u001b[A\n",
      "Explain node 1809:   0%|          | 0/200 [00:00<?, ?it/s]\u001b[A\n",
      "Explain node 1809:  11%|█         | 22/200 [00:00<00:00, 215.49it/s]\u001b[A\n",
      "Explain node 1809:  22%|██▏       | 44/200 [00:00<00:00, 215.55it/s]\u001b[A\n",
      "Explain node 1809:  33%|███▎      | 66/200 [00:00<00:00, 216.12it/s]\u001b[A\n",
      "Explain node 1809:  44%|████▍     | 89/200 [00:00<00:00, 218.27it/s]\u001b[A\n",
      "Explain node 1809:  56%|█████▌    | 112/200 [00:00<00:00, 219.19it/s]\u001b[A\n",
      "Explain node 1809:  67%|██████▋   | 134/200 [00:00<00:00, 218.41it/s]\u001b[A\n",
      "Explain node 1809:  78%|███████▊  | 156/200 [00:00<00:00, 217.42it/s]\u001b[A\n",
      "Explain node 1809:  89%|████████▉ | 178/200 [00:00<00:00, 215.80it/s]\u001b[A\n",
      "Explain node 1809: 100%|██████████| 200/200 [00:00<00:00, 215.45it/s]\u001b[A\n"
     ]
    },
    {
     "name": "stdout",
     "output_type": "stream",
     "text": [
      "Accuracy on Model:  50.0\n",
      "Accuracy on EVAL-XG:  56.36363636363636\n"
     ]
    },
    {
     "name": "stderr",
     "output_type": "stream",
     "text": [
      "\n",
      "  0%|          | 0/200 [00:00<?, ?it/s]\u001b[A\n",
      "Explain node 1810:   0%|          | 0/200 [00:00<?, ?it/s]\u001b[A\n",
      "Explain node 1810:  10%|█         | 21/200 [00:00<00:00, 206.75it/s]\u001b[A\n",
      "Explain node 1810:  22%|██▏       | 44/200 [00:00<00:00, 217.02it/s]\u001b[A\n",
      "Explain node 1810:  33%|███▎      | 66/200 [00:00<00:00, 212.98it/s]\u001b[A\n",
      "Explain node 1810:  44%|████▍     | 88/200 [00:00<00:00, 211.15it/s]\u001b[A\n",
      "Explain node 1810:  55%|█████▌    | 110/200 [00:00<00:00, 206.25it/s]\u001b[A\n",
      "Explain node 1810:  66%|██████▌   | 131/200 [00:00<00:00, 206.84it/s]\u001b[A\n",
      "Explain node 1810:  76%|███████▋  | 153/200 [00:00<00:00, 209.85it/s]\u001b[A\n",
      "Explain node 1810:  88%|████████▊ | 175/200 [00:00<00:00, 212.73it/s]\u001b[A\n",
      "Explain node 1810: 100%|██████████| 200/200 [00:00<00:00, 211.84it/s]\u001b[A\n"
     ]
    },
    {
     "name": "stdout",
     "output_type": "stream",
     "text": [
      "Accuracy on Model:  49.549549549549546\n",
      "Accuracy on EVAL-XG:  55.85585585585585\n"
     ]
    },
    {
     "name": "stderr",
     "output_type": "stream",
     "text": [
      "\n",
      "  0%|          | 0/200 [00:00<?, ?it/s]\u001b[A\n",
      "Explain node 1811:   0%|          | 0/200 [00:00<?, ?it/s]\u001b[A\n",
      "Explain node 1811:  11%|█         | 22/200 [00:00<00:00, 210.44it/s]\u001b[A\n",
      "Explain node 1811:  22%|██▏       | 44/200 [00:00<00:00, 212.44it/s]\u001b[A\n",
      "Explain node 1811:  33%|███▎      | 66/200 [00:00<00:00, 213.25it/s]\u001b[A\n",
      "Explain node 1811:  44%|████▍     | 88/200 [00:00<00:00, 206.57it/s]\u001b[A\n",
      "Explain node 1811:  55%|█████▍    | 109/200 [00:00<00:00, 205.53it/s]\u001b[A\n",
      "Explain node 1811:  66%|██████▌   | 132/200 [00:00<00:00, 210.55it/s]\u001b[A\n",
      "Explain node 1811:  78%|███████▊  | 155/200 [00:00<00:00, 214.26it/s]\u001b[A\n",
      "Explain node 1811:  88%|████████▊ | 177/200 [00:00<00:00, 207.20it/s]\u001b[A\n",
      "Explain node 1811: 100%|██████████| 200/200 [00:00<00:00, 209.43it/s]\u001b[A\n"
     ]
    },
    {
     "name": "stdout",
     "output_type": "stream",
     "text": [
      "Accuracy on Model:  49.107142857142854\n",
      "Accuracy on EVAL-XG:  55.35714285714286\n"
     ]
    },
    {
     "name": "stderr",
     "output_type": "stream",
     "text": [
      "\n",
      "  0%|          | 0/200 [00:00<?, ?it/s]\u001b[A\n",
      "Explain node 1812:   0%|          | 0/200 [00:00<?, ?it/s]\u001b[A\n",
      "Explain node 1812:  10%|█         | 21/200 [00:00<00:00, 209.40it/s]\u001b[A\n",
      "Explain node 1812:  21%|██        | 42/200 [00:00<00:00, 209.42it/s]\u001b[A\n",
      "Explain node 1812:  32%|███▎      | 65/200 [00:00<00:00, 216.19it/s]\u001b[A\n",
      "Explain node 1812:  44%|████▎     | 87/200 [00:00<00:00, 217.10it/s]\u001b[A\n",
      "Explain node 1812:  55%|█████▌    | 110/200 [00:00<00:00, 218.17it/s]\u001b[A\n",
      "Explain node 1812:  66%|██████▌   | 132/200 [00:00<00:00, 216.43it/s]\u001b[A\n",
      "Explain node 1812:  77%|███████▋  | 154/200 [00:00<00:00, 214.83it/s]\u001b[A\n",
      "Explain node 1812:  88%|████████▊ | 176/200 [00:00<00:00, 211.95it/s]\u001b[A\n",
      "Explain node 1812: 100%|██████████| 200/200 [00:00<00:00, 213.01it/s]\u001b[A\n"
     ]
    },
    {
     "name": "stdout",
     "output_type": "stream",
     "text": [
      "Accuracy on Model:  48.67256637168141\n",
      "Accuracy on EVAL-XG:  54.86725663716814\n"
     ]
    },
    {
     "name": "stderr",
     "output_type": "stream",
     "text": [
      "\n",
      "  0%|          | 0/200 [00:00<?, ?it/s]\u001b[A\n",
      "Explain node 1813:   0%|          | 0/200 [00:00<?, ?it/s]\u001b[A\n",
      "Explain node 1813:  11%|█         | 22/200 [00:00<00:00, 210.76it/s]\u001b[A\n",
      "Explain node 1813:  22%|██▏       | 44/200 [00:00<00:00, 214.18it/s]\u001b[A\n",
      "Explain node 1813:  33%|███▎      | 66/200 [00:00<00:00, 216.07it/s]\u001b[A\n",
      "Explain node 1813:  44%|████▍     | 88/200 [00:00<00:00, 216.21it/s]\u001b[A\n",
      "Explain node 1813:  55%|█████▌    | 110/200 [00:00<00:00, 216.58it/s]\u001b[A\n",
      "Explain node 1813:  66%|██████▌   | 132/200 [00:00<00:00, 216.16it/s]\u001b[A\n",
      "Explain node 1813:  77%|███████▋  | 154/200 [00:00<00:00, 216.39it/s]\u001b[A\n",
      "Explain node 1813:  88%|████████▊ | 176/200 [00:00<00:00, 215.96it/s]\u001b[A\n",
      "Explain node 1813: 100%|██████████| 200/200 [00:00<00:00, 214.18it/s]\u001b[A\n"
     ]
    },
    {
     "name": "stdout",
     "output_type": "stream",
     "text": [
      "Accuracy on Model:  48.24561403508772\n",
      "Accuracy on EVAL-XG:  54.385964912280706\n"
     ]
    },
    {
     "name": "stderr",
     "output_type": "stream",
     "text": [
      "\n",
      "  0%|          | 0/200 [00:00<?, ?it/s]\u001b[A\n",
      "Explain node 1814:   0%|          | 0/200 [00:00<?, ?it/s]\u001b[A\n",
      "Explain node 1814:  10%|█         | 20/200 [00:00<00:00, 197.52it/s]\u001b[A\n",
      "Explain node 1814:  20%|██        | 41/200 [00:00<00:00, 203.94it/s]\u001b[A\n",
      "Explain node 1814:  32%|███▏      | 63/200 [00:00<00:00, 207.39it/s]\u001b[A\n",
      "Explain node 1814:  42%|████▎     | 85/200 [00:00<00:00, 208.72it/s]\u001b[A\n",
      "Explain node 1814:  54%|█████▎    | 107/200 [00:00<00:00, 211.10it/s]\u001b[A\n",
      "Explain node 1814:  64%|██████▍   | 129/200 [00:00<00:00, 209.96it/s]\u001b[A\n",
      "Explain node 1814:  76%|███████▌  | 151/200 [00:00<00:00, 212.73it/s]\u001b[A\n",
      "Explain node 1814:  86%|████████▋ | 173/200 [00:00<00:00, 213.25it/s]\u001b[A\n",
      "Explain node 1814: 100%|██████████| 200/200 [00:00<00:00, 210.86it/s]\u001b[A\n"
     ]
    },
    {
     "name": "stdout",
     "output_type": "stream",
     "text": [
      "Accuracy on Model:  48.69565217391305\n",
      "Accuracy on EVAL-XG:  54.78260869565217\n"
     ]
    },
    {
     "name": "stderr",
     "output_type": "stream",
     "text": [
      "\n",
      "  0%|          | 0/200 [00:00<?, ?it/s]\u001b[A\n",
      "Explain node 1815:   0%|          | 0/200 [00:00<?, ?it/s]\u001b[A\n",
      "Explain node 1815:  11%|█         | 22/200 [00:00<00:00, 213.96it/s]\u001b[A\n",
      "Explain node 1815:  22%|██▏       | 44/200 [00:00<00:00, 214.86it/s]\u001b[A\n",
      "Explain node 1815:  33%|███▎      | 66/200 [00:00<00:00, 211.99it/s]\u001b[A\n",
      "Explain node 1815:  44%|████▍     | 88/200 [00:00<00:00, 213.44it/s]\u001b[A\n",
      "Explain node 1815:  55%|█████▌    | 110/200 [00:00<00:00, 214.28it/s]\u001b[A\n",
      "Explain node 1815:  66%|██████▌   | 132/200 [00:00<00:00, 209.86it/s]\u001b[A\n",
      "Explain node 1815:  77%|███████▋  | 154/200 [00:00<00:00, 210.84it/s]\u001b[A\n",
      "Explain node 1815:  88%|████████▊ | 176/200 [00:00<00:00, 210.92it/s]\u001b[A\n",
      "Explain node 1815: 100%|██████████| 200/200 [00:00<00:00, 210.85it/s]\u001b[A\n"
     ]
    },
    {
     "name": "stdout",
     "output_type": "stream",
     "text": [
      "Accuracy on Model:  49.137931034482754\n",
      "Accuracy on EVAL-XG:  54.310344827586206\n"
     ]
    },
    {
     "name": "stderr",
     "output_type": "stream",
     "text": [
      "\n",
      "  0%|          | 0/200 [00:00<?, ?it/s]\u001b[A\n",
      "Explain node 1816:   0%|          | 0/200 [00:00<?, ?it/s]\u001b[A\n",
      "Explain node 1816:  11%|█         | 22/200 [00:00<00:00, 216.47it/s]\u001b[A\n",
      "Explain node 1816:  22%|██▏       | 44/200 [00:00<00:00, 218.15it/s]\u001b[A\n",
      "Explain node 1816:  33%|███▎      | 66/200 [00:00<00:00, 214.69it/s]\u001b[A\n",
      "Explain node 1816:  44%|████▍     | 88/200 [00:00<00:00, 215.57it/s]\u001b[A\n",
      "Explain node 1816:  56%|█████▌    | 111/200 [00:00<00:00, 217.43it/s]\u001b[A\n",
      "Explain node 1816:  66%|██████▋   | 133/200 [00:00<00:00, 215.12it/s]\u001b[A\n",
      "Explain node 1816:  78%|███████▊  | 155/200 [00:00<00:00, 214.50it/s]\u001b[A\n",
      "Explain node 1816:  88%|████████▊ | 177/200 [00:00<00:00, 214.73it/s]\u001b[A\n",
      "Explain node 1816: 100%|██████████| 200/200 [00:00<00:00, 215.03it/s]\u001b[A\n"
     ]
    },
    {
     "name": "stdout",
     "output_type": "stream",
     "text": [
      "Accuracy on Model:  48.717948717948715\n",
      "Accuracy on EVAL-XG:  53.84615384615385\n"
     ]
    },
    {
     "name": "stderr",
     "output_type": "stream",
     "text": [
      "\n",
      "  0%|          | 0/200 [00:00<?, ?it/s]\u001b[A\n",
      "Explain node 1817:   0%|          | 0/200 [00:00<?, ?it/s]\u001b[A\n",
      "Explain node 1817:  11%|█         | 22/200 [00:00<00:00, 219.38it/s]\u001b[A\n",
      "Explain node 1817:  22%|██▏       | 44/200 [00:00<00:00, 215.12it/s]\u001b[A\n",
      "Explain node 1817:  33%|███▎      | 66/200 [00:00<00:00, 216.66it/s]\u001b[A\n",
      "Explain node 1817:  44%|████▍     | 89/200 [00:00<00:00, 219.47it/s]\u001b[A\n",
      "Explain node 1817:  56%|█████▌    | 111/200 [00:00<00:00, 216.82it/s]\u001b[A\n",
      "Explain node 1817:  67%|██████▋   | 134/200 [00:00<00:00, 218.54it/s]\u001b[A\n",
      "Explain node 1817:  78%|███████▊  | 156/200 [00:00<00:00, 215.43it/s]\u001b[A\n",
      "Explain node 1817: 100%|██████████| 200/200 [00:00<00:00, 216.50it/s]\u001b[A\n"
     ]
    },
    {
     "name": "stdout",
     "output_type": "stream",
     "text": [
      "Accuracy on Model:  49.152542372881356\n",
      "Accuracy on EVAL-XG:  54.23728813559322\n"
     ]
    },
    {
     "name": "stderr",
     "output_type": "stream",
     "text": [
      "\n",
      "  0%|          | 0/200 [00:00<?, ?it/s]\u001b[A\n",
      "Explain node 1818:   0%|          | 0/200 [00:00<?, ?it/s]\u001b[A\n",
      "Explain node 1818:  12%|█▏        | 23/200 [00:00<00:00, 223.39it/s]\u001b[A\n",
      "Explain node 1818:  23%|██▎       | 46/200 [00:00<00:00, 221.58it/s]\u001b[A\n",
      "Explain node 1818:  34%|███▍      | 69/200 [00:00<00:00, 215.48it/s]\u001b[A\n",
      "Explain node 1818:  46%|████▌     | 91/200 [00:00<00:00, 216.88it/s]\u001b[A\n",
      "Explain node 1818:  56%|█████▋    | 113/200 [00:00<00:00, 216.13it/s]\u001b[A\n",
      "Explain node 1818:  68%|██████▊   | 135/200 [00:00<00:00, 216.76it/s]\u001b[A\n",
      "Explain node 1818:  79%|███████▉  | 158/200 [00:00<00:00, 218.99it/s]\u001b[A\n",
      "Explain node 1818: 100%|██████████| 200/200 [00:00<00:00, 216.89it/s]\u001b[A\n"
     ]
    },
    {
     "name": "stdout",
     "output_type": "stream",
     "text": [
      "Accuracy on Model:  49.57983193277311\n",
      "Accuracy on EVAL-XG:  53.78151260504202\n"
     ]
    },
    {
     "name": "stderr",
     "output_type": "stream",
     "text": [
      "\n",
      "  0%|          | 0/200 [00:00<?, ?it/s]\u001b[A\n",
      "Explain node 1819:   0%|          | 0/200 [00:00<?, ?it/s]\u001b[A\n",
      "Explain node 1819:  10%|█         | 21/200 [00:00<00:00, 207.40it/s]\u001b[A\n",
      "Explain node 1819:  22%|██▏       | 43/200 [00:00<00:00, 214.29it/s]\u001b[A\n",
      "Explain node 1819:  33%|███▎      | 66/200 [00:00<00:00, 217.77it/s]\u001b[A\n",
      "Explain node 1819:  44%|████▍     | 88/200 [00:00<00:00, 216.31it/s]\u001b[A\n",
      "Explain node 1819:  56%|█████▌    | 111/200 [00:00<00:00, 218.10it/s]\u001b[A\n",
      "Explain node 1819:  66%|██████▋   | 133/200 [00:00<00:00, 217.56it/s]\u001b[A\n",
      "Explain node 1819:  78%|███████▊  | 155/200 [00:00<00:00, 216.51it/s]\u001b[A\n",
      "Explain node 1819:  88%|████████▊ | 177/200 [00:00<00:00, 215.96it/s]\u001b[A\n",
      "Explain node 1819: 100%|██████████| 200/200 [00:00<00:00, 215.56it/s]\u001b[A\n"
     ]
    },
    {
     "name": "stdout",
     "output_type": "stream",
     "text": [
      "Accuracy on Model:  50.0\n",
      "Accuracy on EVAL-XG:  54.166666666666664\n"
     ]
    },
    {
     "name": "stderr",
     "output_type": "stream",
     "text": [
      "\n",
      "  0%|          | 0/200 [00:00<?, ?it/s]\u001b[A\n",
      "Explain node 1820:   0%|          | 0/200 [00:00<?, ?it/s]\u001b[A\n",
      "Explain node 1820:  11%|█         | 22/200 [00:00<00:00, 216.82it/s]\u001b[A\n",
      "Explain node 1820:  22%|██▏       | 44/200 [00:00<00:00, 217.26it/s]\u001b[A\n",
      "Explain node 1820:  33%|███▎      | 66/200 [00:00<00:00, 218.20it/s]\u001b[A\n",
      "Explain node 1820:  44%|████▍     | 88/200 [00:00<00:00, 218.90it/s]\u001b[A\n",
      "Explain node 1820:  55%|█████▌    | 110/200 [00:00<00:00, 217.22it/s]\u001b[A\n",
      "Explain node 1820:  66%|██████▌   | 132/200 [00:00<00:00, 217.31it/s]\u001b[A\n",
      "Explain node 1820:  77%|███████▋  | 154/200 [00:00<00:00, 216.60it/s]\u001b[A\n",
      "Explain node 1820:  88%|████████▊ | 176/200 [00:00<00:00, 215.26it/s]\u001b[A\n",
      "Explain node 1820: 100%|██████████| 200/200 [00:00<00:00, 215.80it/s]\u001b[A\n"
     ]
    },
    {
     "name": "stdout",
     "output_type": "stream",
     "text": [
      "Accuracy on Model:  49.586776859504134\n",
      "Accuracy on EVAL-XG:  53.71900826446281\n"
     ]
    },
    {
     "name": "stderr",
     "output_type": "stream",
     "text": [
      "\n",
      "  0%|          | 0/200 [00:00<?, ?it/s]\u001b[A\n",
      "Explain node 1821:   0%|          | 0/200 [00:00<?, ?it/s]\u001b[A\n",
      "Explain node 1821:  11%|█         | 22/200 [00:00<00:00, 218.30it/s]\u001b[A\n",
      "Explain node 1821:  22%|██▏       | 44/200 [00:00<00:00, 217.41it/s]\u001b[A\n",
      "Explain node 1821:  33%|███▎      | 66/200 [00:00<00:00, 215.38it/s]\u001b[A\n",
      "Explain node 1821:  44%|████▍     | 88/200 [00:00<00:00, 215.45it/s]\u001b[A\n",
      "Explain node 1821:  55%|█████▌    | 110/200 [00:00<00:00, 216.22it/s]\u001b[A\n",
      "Explain node 1821:  66%|██████▌   | 132/200 [00:00<00:00, 216.25it/s]\u001b[A\n",
      "Explain node 1821:  77%|███████▋  | 154/200 [00:00<00:00, 215.94it/s]\u001b[A\n",
      "Explain node 1821:  88%|████████▊ | 177/200 [00:00<00:00, 217.32it/s]\u001b[A\n",
      "Explain node 1821: 100%|██████████| 200/200 [00:00<00:00, 216.92it/s]\u001b[A\n"
     ]
    },
    {
     "name": "stdout",
     "output_type": "stream",
     "text": [
      "Accuracy on Model:  50.0\n",
      "Accuracy on EVAL-XG:  53.278688524590166\n"
     ]
    },
    {
     "name": "stderr",
     "output_type": "stream",
     "text": [
      "\n",
      "  0%|          | 0/200 [00:00<?, ?it/s]\u001b[A\n",
      "Explain node 1822:   0%|          | 0/200 [00:00<?, ?it/s]\u001b[A\n",
      "Explain node 1822:  11%|█         | 22/200 [00:00<00:00, 217.19it/s]\u001b[A\n",
      "Explain node 1822:  22%|██▏       | 44/200 [00:00<00:00, 216.43it/s]\u001b[A\n",
      "Explain node 1822:  33%|███▎      | 66/200 [00:00<00:00, 214.33it/s]\u001b[A\n",
      "Explain node 1822:  44%|████▍     | 88/200 [00:00<00:00, 215.26it/s]\u001b[A\n",
      "Explain node 1822:  55%|█████▌    | 110/200 [00:00<00:00, 216.46it/s]\u001b[A\n",
      "Explain node 1822:  66%|██████▋   | 133/200 [00:00<00:00, 218.68it/s]\u001b[A\n",
      "Explain node 1822:  78%|███████▊  | 155/200 [00:00<00:00, 218.65it/s]\u001b[A\n",
      "Explain node 1822:  88%|████████▊ | 177/200 [00:00<00:00, 213.03it/s]\u001b[A\n",
      "Explain node 1822: 100%|██████████| 200/200 [00:00<00:00, 215.20it/s]\u001b[A\n"
     ]
    },
    {
     "name": "stdout",
     "output_type": "stream",
     "text": [
      "Accuracy on Model:  49.59349593495935\n",
      "Accuracy on EVAL-XG:  53.65853658536586\n"
     ]
    },
    {
     "name": "stderr",
     "output_type": "stream",
     "text": [
      "\n",
      "  0%|          | 0/200 [00:00<?, ?it/s]\u001b[A\n",
      "Explain node 1823:   0%|          | 0/200 [00:00<?, ?it/s]\u001b[A\n",
      "Explain node 1823:  10%|█         | 21/200 [00:00<00:00, 208.02it/s]\u001b[A\n",
      "Explain node 1823:  22%|██▏       | 43/200 [00:00<00:00, 210.97it/s]\u001b[A\n",
      "Explain node 1823:  32%|███▎      | 65/200 [00:00<00:00, 204.04it/s]\u001b[A\n",
      "Explain node 1823:  43%|████▎     | 86/200 [00:00<00:00, 201.60it/s]\u001b[A\n",
      "Explain node 1823:  54%|█████▍    | 108/200 [00:00<00:00, 207.90it/s]\u001b[A\n",
      "Explain node 1823:  66%|██████▌   | 131/200 [00:00<00:00, 213.82it/s]\u001b[A\n",
      "Explain node 1823:  77%|███████▋  | 154/200 [00:00<00:00, 216.51it/s]\u001b[A\n",
      "Explain node 1823:  88%|████████▊ | 176/200 [00:00<00:00, 209.41it/s]\u001b[A\n",
      "Explain node 1823: 100%|██████████| 200/200 [00:00<00:00, 208.92it/s]\u001b[A\n"
     ]
    },
    {
     "name": "stdout",
     "output_type": "stream",
     "text": [
      "Accuracy on Model:  49.193548387096776\n",
      "Accuracy on EVAL-XG:  53.2258064516129\n"
     ]
    },
    {
     "name": "stderr",
     "output_type": "stream",
     "text": [
      "\n",
      "  0%|          | 0/200 [00:00<?, ?it/s]\u001b[A\n",
      "Explain node 1824:   0%|          | 0/200 [00:00<?, ?it/s]\u001b[A\n",
      "Explain node 1824:  10%|█         | 20/200 [00:00<00:00, 199.72it/s]\u001b[A\n",
      "Explain node 1824:  20%|██        | 40/200 [00:00<00:00, 198.82it/s]\u001b[A\n",
      "Explain node 1824:  31%|███       | 62/200 [00:00<00:00, 206.45it/s]\u001b[A\n",
      "Explain node 1824:  42%|████▏     | 84/200 [00:00<00:00, 209.64it/s]\u001b[A\n",
      "Explain node 1824:  53%|█████▎    | 106/200 [00:00<00:00, 210.29it/s]\u001b[A\n",
      "Explain node 1824:  64%|██████▍   | 128/200 [00:00<00:00, 211.23it/s]\u001b[A\n",
      "Explain node 1824:  76%|███████▌  | 151/200 [00:00<00:00, 216.04it/s]\u001b[A\n",
      "Explain node 1824:  87%|████████▋ | 174/200 [00:00<00:00, 219.50it/s]\u001b[A\n",
      "Explain node 1824: 100%|██████████| 200/200 [00:00<00:00, 213.83it/s]\u001b[A\n"
     ]
    },
    {
     "name": "stdout",
     "output_type": "stream",
     "text": [
      "Accuracy on Model:  48.8\n",
      "Accuracy on EVAL-XG:  52.800000000000004\n"
     ]
    },
    {
     "name": "stderr",
     "output_type": "stream",
     "text": [
      "\n",
      "  0%|          | 0/200 [00:00<?, ?it/s]\u001b[A\n",
      "Explain node 1825:   0%|          | 0/200 [00:00<?, ?it/s]\u001b[A\n",
      "Explain node 1825:  12%|█▏        | 23/200 [00:00<00:00, 224.26it/s]\u001b[A\n",
      "Explain node 1825:  23%|██▎       | 46/200 [00:00<00:00, 220.96it/s]\u001b[A\n",
      "Explain node 1825:  34%|███▍      | 69/200 [00:00<00:00, 217.78it/s]\u001b[A\n",
      "Explain node 1825:  46%|████▌     | 91/200 [00:00<00:00, 215.09it/s]\u001b[A\n",
      "Explain node 1825:  56%|█████▋    | 113/200 [00:00<00:00, 215.60it/s]\u001b[A\n",
      "Explain node 1825:  68%|██████▊   | 135/200 [00:00<00:00, 214.54it/s]\u001b[A\n",
      "Explain node 1825:  78%|███████▊  | 157/200 [00:00<00:00, 212.25it/s]\u001b[A\n",
      "Explain node 1825:  90%|████████▉ | 179/200 [00:00<00:00, 207.91it/s]\u001b[A\n",
      "Explain node 1825: 100%|██████████| 200/200 [00:00<00:00, 211.32it/s]\u001b[A\n"
     ]
    },
    {
     "name": "stdout",
     "output_type": "stream",
     "text": [
      "Accuracy on Model:  49.2063492063492\n",
      "Accuracy on EVAL-XG:  53.17460317460318\n"
     ]
    },
    {
     "name": "stderr",
     "output_type": "stream",
     "text": [
      "\n",
      "  0%|          | 0/200 [00:00<?, ?it/s]\u001b[A\n",
      "Explain node 1826:   0%|          | 0/200 [00:00<?, ?it/s]\u001b[A\n",
      "Explain node 1826:  10%|█         | 21/200 [00:00<00:00, 201.87it/s]\u001b[A\n",
      "Explain node 1826:  22%|██▏       | 43/200 [00:00<00:00, 210.67it/s]\u001b[A\n",
      "Explain node 1826:  32%|███▎      | 65/200 [00:00<00:00, 207.79it/s]\u001b[A\n",
      "Explain node 1826:  44%|████▎     | 87/200 [00:00<00:00, 211.82it/s]\u001b[A\n",
      "Explain node 1826:  55%|█████▍    | 109/200 [00:00<00:00, 212.83it/s]\u001b[A\n",
      "Explain node 1826:  66%|██████▌   | 131/200 [00:00<00:00, 213.02it/s]\u001b[A\n",
      "Explain node 1826:  76%|███████▋  | 153/200 [00:00<00:00, 212.32it/s]\u001b[A\n",
      "Explain node 1826:  88%|████████▊ | 175/200 [00:00<00:00, 209.04it/s]\u001b[A\n",
      "Explain node 1826: 100%|██████████| 200/200 [00:00<00:00, 211.50it/s]\u001b[A\n"
     ]
    },
    {
     "name": "stdout",
     "output_type": "stream",
     "text": [
      "Accuracy on Model:  49.60629921259843\n",
      "Accuracy on EVAL-XG:  53.54330708661418\n"
     ]
    },
    {
     "name": "stderr",
     "output_type": "stream",
     "text": [
      "\n",
      "  0%|          | 0/200 [00:00<?, ?it/s]\u001b[A\n",
      "Explain node 1827:   0%|          | 0/200 [00:00<?, ?it/s]\u001b[A\n",
      "Explain node 1827:  12%|█▏        | 23/200 [00:00<00:00, 223.05it/s]\u001b[A\n",
      "Explain node 1827:  23%|██▎       | 46/200 [00:00<00:00, 221.42it/s]\u001b[A\n",
      "Explain node 1827:  34%|███▍      | 69/200 [00:00<00:00, 220.75it/s]\u001b[A\n",
      "Explain node 1827:  46%|████▌     | 92/200 [00:00<00:00, 220.51it/s]\u001b[A\n",
      "Explain node 1827:  57%|█████▊    | 115/200 [00:00<00:00, 220.95it/s]\u001b[A\n",
      "Explain node 1827:  69%|██████▉   | 138/200 [00:00<00:00, 220.50it/s]\u001b[A\n",
      "Explain node 1827:  80%|████████  | 161/200 [00:00<00:00, 221.94it/s]\u001b[A\n",
      "Explain node 1827: 100%|██████████| 200/200 [00:00<00:00, 220.80it/s]\u001b[A\n"
     ]
    },
    {
     "name": "stdout",
     "output_type": "stream",
     "text": [
      "Accuracy on Model:  49.21875\n",
      "Accuracy on EVAL-XG:  53.125\n"
     ]
    },
    {
     "name": "stderr",
     "output_type": "stream",
     "text": [
      "\n",
      "  0%|          | 0/200 [00:00<?, ?it/s]\u001b[A\n",
      "Explain node 1828:   0%|          | 0/200 [00:00<?, ?it/s]\u001b[A\n",
      "Explain node 1828:  11%|█         | 22/200 [00:00<00:00, 216.75it/s]\u001b[A\n",
      "Explain node 1828:  22%|██▏       | 44/200 [00:00<00:00, 215.84it/s]\u001b[A\n",
      "Explain node 1828:  33%|███▎      | 66/200 [00:00<00:00, 215.96it/s]\u001b[A\n",
      "Explain node 1828:  44%|████▍     | 88/200 [00:00<00:00, 206.94it/s]\u001b[A\n",
      "Explain node 1828:  55%|█████▍    | 109/200 [00:00<00:00, 203.57it/s]\u001b[A\n",
      "Explain node 1828:  65%|██████▌   | 130/200 [00:00<00:00, 202.34it/s]\u001b[A\n",
      "Explain node 1828:  76%|███████▌  | 151/200 [00:00<00:00, 204.18it/s]\u001b[A\n",
      "Explain node 1828:  86%|████████▌ | 172/200 [00:00<00:00, 204.79it/s]\u001b[A\n",
      "Explain node 1828: 100%|██████████| 200/200 [00:00<00:00, 207.41it/s]\u001b[A\n"
     ]
    },
    {
     "name": "stdout",
     "output_type": "stream",
     "text": [
      "Accuracy on Model:  48.837209302325576\n",
      "Accuracy on EVAL-XG:  52.71317829457365\n"
     ]
    },
    {
     "name": "stderr",
     "output_type": "stream",
     "text": [
      "\n",
      "  0%|          | 0/200 [00:00<?, ?it/s]\u001b[A\n",
      "Explain node 1829:   0%|          | 0/200 [00:00<?, ?it/s]\u001b[A\n",
      "Explain node 1829:  12%|█▏        | 23/200 [00:00<00:00, 225.14it/s]\u001b[A\n",
      "Explain node 1829:  23%|██▎       | 46/200 [00:00<00:00, 227.10it/s]\u001b[A\n",
      "Explain node 1829:  34%|███▍      | 69/200 [00:00<00:00, 216.84it/s]\u001b[A\n",
      "Explain node 1829:  46%|████▌     | 91/200 [00:00<00:00, 209.81it/s]\u001b[A\n",
      "Explain node 1829:  56%|█████▋    | 113/200 [00:00<00:00, 212.14it/s]\u001b[A\n",
      "Explain node 1829:  68%|██████▊   | 135/200 [00:00<00:00, 213.44it/s]\u001b[A\n",
      "Explain node 1829:  78%|███████▊  | 157/200 [00:00<00:00, 210.57it/s]\u001b[A\n",
      "Explain node 1829: 100%|██████████| 200/200 [00:00<00:00, 214.84it/s]\u001b[A\n"
     ]
    },
    {
     "name": "stdout",
     "output_type": "stream",
     "text": [
      "Accuracy on Model:  48.46153846153846\n",
      "Accuracy on EVAL-XG:  52.307692307692314\n"
     ]
    },
    {
     "name": "stderr",
     "output_type": "stream",
     "text": [
      "\n",
      "  0%|          | 0/200 [00:00<?, ?it/s]\u001b[A\n",
      "Explain node 1830:   0%|          | 0/200 [00:00<?, ?it/s]\u001b[A\n",
      "Explain node 1830:  11%|█         | 22/200 [00:00<00:00, 214.79it/s]\u001b[A\n",
      "Explain node 1830:  22%|██▏       | 44/200 [00:00<00:00, 215.53it/s]\u001b[A\n",
      "Explain node 1830:  34%|███▎      | 67/200 [00:00<00:00, 220.06it/s]\u001b[A\n",
      "Explain node 1830:  45%|████▌     | 90/200 [00:00<00:00, 220.91it/s]\u001b[A\n",
      "Explain node 1830:  56%|█████▋    | 113/200 [00:00<00:00, 214.68it/s]\u001b[A\n",
      "Explain node 1830:  68%|██████▊   | 135/200 [00:00<00:00, 206.44it/s]\u001b[A\n",
      "Explain node 1830:  79%|███████▉  | 158/200 [00:00<00:00, 211.31it/s]\u001b[A\n",
      "Explain node 1830: 100%|██████████| 200/200 [00:00<00:00, 209.29it/s]\u001b[A\n"
     ]
    },
    {
     "name": "stdout",
     "output_type": "stream",
     "text": [
      "Accuracy on Model:  48.854961832061065\n",
      "Accuracy on EVAL-XG:  52.67175572519084\n"
     ]
    },
    {
     "name": "stderr",
     "output_type": "stream",
     "text": [
      "\n",
      "  0%|          | 0/200 [00:00<?, ?it/s]\u001b[A\n",
      "Explain node 1831:   0%|          | 0/200 [00:00<?, ?it/s]\u001b[A\n",
      "Explain node 1831:  12%|█▏        | 23/200 [00:00<00:00, 220.59it/s]\u001b[A\n",
      "Explain node 1831:  23%|██▎       | 46/200 [00:00<00:00, 221.11it/s]\u001b[A\n",
      "Explain node 1831:  34%|███▍      | 69/200 [00:00<00:00, 224.00it/s]\u001b[A\n",
      "Explain node 1831:  46%|████▌     | 92/200 [00:00<00:00, 225.55it/s]\u001b[A\n",
      "Explain node 1831:  57%|█████▊    | 115/200 [00:00<00:00, 224.54it/s]\u001b[A\n",
      "Explain node 1831:  69%|██████▉   | 138/200 [00:00<00:00, 224.07it/s]\u001b[A\n",
      "Explain node 1831:  80%|████████  | 161/200 [00:00<00:00, 223.40it/s]\u001b[A\n",
      "Explain node 1831: 100%|██████████| 200/200 [00:00<00:00, 223.13it/s]\u001b[A\n"
     ]
    },
    {
     "name": "stdout",
     "output_type": "stream",
     "text": [
      "Accuracy on Model:  49.24242424242424\n",
      "Accuracy on EVAL-XG:  53.03030303030303\n"
     ]
    },
    {
     "name": "stderr",
     "output_type": "stream",
     "text": [
      "\n",
      "  0%|          | 0/200 [00:00<?, ?it/s]\u001b[A\n",
      "Explain node 1832:   0%|          | 0/200 [00:00<?, ?it/s]\u001b[A\n",
      "Explain node 1832:  11%|█         | 22/200 [00:00<00:00, 218.50it/s]\u001b[A\n",
      "Explain node 1832:  22%|██▏       | 44/200 [00:00<00:00, 218.03it/s]\u001b[A\n",
      "Explain node 1832:  34%|███▎      | 67/200 [00:00<00:00, 220.34it/s]\u001b[A\n",
      "Explain node 1832:  45%|████▌     | 90/200 [00:00<00:00, 219.87it/s]\u001b[A\n",
      "Explain node 1832:  56%|█████▋    | 113/200 [00:00<00:00, 220.11it/s]\u001b[A\n",
      "Explain node 1832:  68%|██████▊   | 136/200 [00:00<00:00, 219.42it/s]\u001b[A\n",
      "Explain node 1832:  79%|███████▉  | 158/200 [00:00<00:00, 219.16it/s]\u001b[A\n",
      "Explain node 1832: 100%|██████████| 200/200 [00:00<00:00, 218.55it/s]\u001b[A\n"
     ]
    },
    {
     "name": "stdout",
     "output_type": "stream",
     "text": [
      "Accuracy on Model:  49.62406015037594\n",
      "Accuracy on EVAL-XG:  53.383458646616546\n"
     ]
    },
    {
     "name": "stderr",
     "output_type": "stream",
     "text": [
      "\n",
      "  0%|          | 0/200 [00:00<?, ?it/s]\u001b[A\n",
      "Explain node 1833:   0%|          | 0/200 [00:00<?, ?it/s]\u001b[A\n",
      "Explain node 1833:  11%|█         | 22/200 [00:00<00:00, 217.90it/s]\u001b[A\n",
      "Explain node 1833:  22%|██▏       | 44/200 [00:00<00:00, 218.08it/s]\u001b[A\n",
      "Explain node 1833:  33%|███▎      | 66/200 [00:00<00:00, 216.86it/s]\u001b[A\n",
      "Explain node 1833:  44%|████▍     | 88/200 [00:00<00:00, 217.56it/s]\u001b[A\n",
      "Explain node 1833:  55%|█████▌    | 110/200 [00:00<00:00, 217.03it/s]\u001b[A\n",
      "Explain node 1833:  66%|██████▌   | 132/200 [00:00<00:00, 217.63it/s]\u001b[A\n",
      "Explain node 1833:  78%|███████▊  | 155/200 [00:00<00:00, 219.15it/s]\u001b[A\n",
      "Explain node 1833:  88%|████████▊ | 177/200 [00:00<00:00, 216.26it/s]\u001b[A\n",
      "Explain node 1833: 100%|██████████| 200/200 [00:00<00:00, 216.06it/s]\u001b[A\n"
     ]
    },
    {
     "name": "stdout",
     "output_type": "stream",
     "text": [
      "Accuracy on Model:  50.0\n",
      "Accuracy on EVAL-XG:  53.73134328358209\n"
     ]
    },
    {
     "name": "stderr",
     "output_type": "stream",
     "text": [
      "\n",
      "  0%|          | 0/200 [00:00<?, ?it/s]\u001b[A\n",
      "Explain node 1834:   0%|          | 0/200 [00:00<?, ?it/s]\u001b[A\n",
      "Explain node 1834:  12%|█▏        | 23/200 [00:00<00:00, 222.72it/s]\u001b[A\n",
      "Explain node 1834:  23%|██▎       | 46/200 [00:00<00:00, 223.64it/s]\u001b[A\n",
      "Explain node 1834:  34%|███▍      | 69/200 [00:00<00:00, 216.43it/s]\u001b[A\n",
      "Explain node 1834:  46%|████▌     | 91/200 [00:00<00:00, 215.80it/s]\u001b[A\n",
      "Explain node 1834:  56%|█████▋    | 113/200 [00:00<00:00, 215.15it/s]\u001b[A\n",
      "Explain node 1834:  68%|██████▊   | 135/200 [00:00<00:00, 210.90it/s]\u001b[A\n",
      "Explain node 1834:  78%|███████▊  | 157/200 [00:00<00:00, 210.23it/s]\u001b[A\n",
      "Explain node 1834: 100%|██████████| 200/200 [00:00<00:00, 213.45it/s]\u001b[A\n"
     ]
    },
    {
     "name": "stdout",
     "output_type": "stream",
     "text": [
      "Accuracy on Model:  49.629629629629626\n",
      "Accuracy on EVAL-XG:  53.333333333333336\n"
     ]
    },
    {
     "name": "stderr",
     "output_type": "stream",
     "text": [
      "\n",
      "  0%|          | 0/200 [00:00<?, ?it/s]\u001b[A\n",
      "Explain node 1835:   0%|          | 0/200 [00:00<?, ?it/s]\u001b[A\n",
      "Explain node 1835:  10%|█         | 21/200 [00:00<00:00, 207.07it/s]\u001b[A\n",
      "Explain node 1835:  21%|██        | 42/200 [00:00<00:00, 203.56it/s]\u001b[A\n",
      "Explain node 1835:  32%|███▏      | 64/200 [00:00<00:00, 207.07it/s]\u001b[A\n",
      "Explain node 1835:  42%|████▎     | 85/200 [00:00<00:00, 207.66it/s]\u001b[A\n",
      "Explain node 1835:  54%|█████▎    | 107/200 [00:00<00:00, 209.71it/s]\u001b[A\n",
      "Explain node 1835:  64%|██████▍   | 128/200 [00:00<00:00, 208.03it/s]\u001b[A\n",
      "Explain node 1835:  74%|███████▍  | 149/200 [00:00<00:00, 207.83it/s]\u001b[A\n",
      "Explain node 1835:  85%|████████▌ | 170/200 [00:00<00:00, 206.82it/s]\u001b[A\n",
      "Explain node 1835: 100%|██████████| 200/200 [00:00<00:00, 205.49it/s]\u001b[A\n"
     ]
    },
    {
     "name": "stdout",
     "output_type": "stream",
     "text": [
      "Accuracy on Model:  50.0\n",
      "Accuracy on EVAL-XG:  53.67647058823529\n"
     ]
    },
    {
     "name": "stderr",
     "output_type": "stream",
     "text": [
      "\n",
      "  0%|          | 0/200 [00:00<?, ?it/s]\u001b[A\n",
      "Explain node 1836:   0%|          | 0/200 [00:00<?, ?it/s]\u001b[A\n",
      "Explain node 1836:  10%|▉         | 19/200 [00:00<00:00, 184.40it/s]\u001b[A\n",
      "Explain node 1836:  20%|██        | 40/200 [00:00<00:00, 196.60it/s]\u001b[A\n",
      "Explain node 1836:  30%|███       | 61/200 [00:00<00:00, 202.52it/s]\u001b[A\n",
      "Explain node 1836:  41%|████      | 82/200 [00:00<00:00, 201.99it/s]\u001b[A\n",
      "Explain node 1836:  52%|█████▏    | 103/200 [00:00<00:00, 195.07it/s]\u001b[A\n",
      "Explain node 1836:  62%|██████▎   | 125/200 [00:00<00:00, 201.08it/s]\u001b[A\n",
      "Explain node 1836:  73%|███████▎  | 146/200 [00:00<00:00, 203.07it/s]\u001b[A\n",
      "Explain node 1836:  84%|████████▎ | 167/200 [00:00<00:00, 204.41it/s]\u001b[A\n",
      "Explain node 1836: 100%|██████████| 200/200 [00:00<00:00, 200.90it/s]\u001b[A\n"
     ]
    },
    {
     "name": "stdout",
     "output_type": "stream",
     "text": [
      "Accuracy on Model:  49.63503649635037\n",
      "Accuracy on EVAL-XG:  53.284671532846716\n"
     ]
    },
    {
     "name": "stderr",
     "output_type": "stream",
     "text": [
      "\n",
      "  0%|          | 0/200 [00:00<?, ?it/s]\u001b[A\n",
      "Explain node 1837:   0%|          | 0/200 [00:00<?, ?it/s]\u001b[A\n",
      "Explain node 1837:  10%|█         | 20/200 [00:00<00:00, 196.86it/s]\u001b[A\n",
      "Explain node 1837:  20%|██        | 40/200 [00:00<00:00, 195.80it/s]\u001b[A\n",
      "Explain node 1837:  30%|███       | 61/200 [00:00<00:00, 198.30it/s]\u001b[A\n",
      "Explain node 1837:  40%|████      | 81/200 [00:00<00:00, 198.45it/s]\u001b[A\n",
      "Explain node 1837:  51%|█████     | 102/200 [00:00<00:00, 201.77it/s]\u001b[A\n",
      "Explain node 1837:  62%|██████▏   | 124/200 [00:00<00:00, 205.16it/s]\u001b[A\n",
      "Explain node 1837:  73%|███████▎  | 146/200 [00:00<00:00, 206.88it/s]\u001b[A\n",
      "Explain node 1837:  84%|████████▍ | 168/200 [00:00<00:00, 207.95it/s]\u001b[A\n",
      "Explain node 1837: 100%|██████████| 200/200 [00:00<00:00, 205.26it/s]\u001b[A\n"
     ]
    },
    {
     "name": "stdout",
     "output_type": "stream",
     "text": [
      "Accuracy on Model:  50.0\n",
      "Accuracy on EVAL-XG:  53.62318840579711\n"
     ]
    },
    {
     "name": "stderr",
     "output_type": "stream",
     "text": [
      "\n",
      "  0%|          | 0/200 [00:00<?, ?it/s]\u001b[A\n",
      "Explain node 1838:   0%|          | 0/200 [00:00<?, ?it/s]\u001b[A\n",
      "Explain node 1838:  10%|█         | 21/200 [00:00<00:00, 202.78it/s]\u001b[A\n",
      "Explain node 1838:  21%|██        | 42/200 [00:00<00:00, 205.36it/s]\u001b[A\n",
      "Explain node 1838:  32%|███▏      | 63/200 [00:00<00:00, 202.52it/s]\u001b[A\n",
      "Explain node 1838:  42%|████▎     | 85/200 [00:00<00:00, 209.17it/s]\u001b[A\n",
      "Explain node 1838:  54%|█████▎    | 107/200 [00:00<00:00, 209.50it/s]\u001b[A\n",
      "Explain node 1838:  64%|██████▍   | 129/200 [00:00<00:00, 210.83it/s]\u001b[A\n",
      "Explain node 1838:  76%|███████▌  | 151/200 [00:00<00:00, 212.78it/s]\u001b[A\n",
      "Explain node 1838:  86%|████████▋ | 173/200 [00:00<00:00, 213.69it/s]\u001b[A\n",
      "Explain node 1838: 100%|██████████| 200/200 [00:00<00:00, 210.89it/s]\u001b[A\n"
     ]
    },
    {
     "name": "stdout",
     "output_type": "stream",
     "text": [
      "Accuracy on Model:  49.64028776978417\n",
      "Accuracy on EVAL-XG:  53.23741007194245\n"
     ]
    },
    {
     "name": "stderr",
     "output_type": "stream",
     "text": [
      "\n",
      "  0%|          | 0/200 [00:00<?, ?it/s]\u001b[A\n",
      "Explain node 1839:   0%|          | 0/200 [00:00<?, ?it/s]\u001b[A\n",
      "Explain node 1839:  11%|█         | 22/200 [00:00<00:00, 212.54it/s]\u001b[A\n",
      "Explain node 1839:  22%|██▏       | 44/200 [00:00<00:00, 207.79it/s]\u001b[A\n",
      "Explain node 1839:  34%|███▎      | 67/200 [00:00<00:00, 213.32it/s]\u001b[A\n",
      "Explain node 1839:  44%|████▍     | 89/200 [00:00<00:00, 201.82it/s]\u001b[A\n",
      "Explain node 1839:  55%|█████▌    | 110/200 [00:00<00:00, 199.25it/s]\u001b[A\n",
      "Explain node 1839:  65%|██████▌   | 130/200 [00:00<00:00, 197.36it/s]\u001b[A\n",
      "Explain node 1839:  75%|███████▌  | 150/200 [00:00<00:00, 195.71it/s]\u001b[A\n",
      "Explain node 1839:  86%|████████▌ | 171/200 [00:00<00:00, 197.47it/s]\u001b[A\n",
      "Explain node 1839: 100%|██████████| 200/200 [00:00<00:00, 202.62it/s]\u001b[A\n"
     ]
    },
    {
     "name": "stdout",
     "output_type": "stream",
     "text": [
      "Accuracy on Model:  50.0\n",
      "Accuracy on EVAL-XG:  53.57142857142857\n"
     ]
    },
    {
     "name": "stderr",
     "output_type": "stream",
     "text": [
      "\n",
      "  0%|          | 0/200 [00:00<?, ?it/s]\u001b[A\n",
      "Explain node 1840:   0%|          | 0/200 [00:00<?, ?it/s]\u001b[A\n",
      "Explain node 1840:  11%|█         | 22/200 [00:00<00:00, 213.31it/s]\u001b[A\n",
      "Explain node 1840:  22%|██▏       | 44/200 [00:00<00:00, 209.50it/s]\u001b[A\n",
      "Explain node 1840:  33%|███▎      | 66/200 [00:00<00:00, 212.71it/s]\u001b[A\n",
      "Explain node 1840:  44%|████▍     | 88/200 [00:00<00:00, 212.76it/s]\u001b[A\n",
      "Explain node 1840:  55%|█████▌    | 110/200 [00:00<00:00, 212.04it/s]\u001b[A\n",
      "Explain node 1840:  66%|██████▌   | 132/200 [00:00<00:00, 210.06it/s]\u001b[A\n",
      "Explain node 1840:  77%|███████▋  | 154/200 [00:00<00:00, 210.46it/s]\u001b[A\n",
      "Explain node 1840:  88%|████████▊ | 176/200 [00:00<00:00, 211.97it/s]\u001b[A\n",
      "Explain node 1840: 100%|██████████| 200/200 [00:00<00:00, 211.30it/s]\u001b[A\n"
     ]
    },
    {
     "name": "stdout",
     "output_type": "stream",
     "text": [
      "Accuracy on Model:  49.645390070921984\n",
      "Accuracy on EVAL-XG:  53.191489361702125\n"
     ]
    },
    {
     "name": "stderr",
     "output_type": "stream",
     "text": [
      "\n",
      "  0%|          | 0/200 [00:00<?, ?it/s]\u001b[A\n",
      "Explain node 1841:   0%|          | 0/200 [00:00<?, ?it/s]\u001b[A\n",
      "Explain node 1841:  11%|█         | 22/200 [00:00<00:00, 210.71it/s]\u001b[A\n",
      "Explain node 1841:  22%|██▏       | 44/200 [00:00<00:00, 213.29it/s]\u001b[A\n",
      "Explain node 1841:  33%|███▎      | 66/200 [00:00<00:00, 215.06it/s]\u001b[A\n",
      "Explain node 1841:  44%|████▍     | 88/200 [00:00<00:00, 215.25it/s]\u001b[A\n",
      "Explain node 1841:  55%|█████▌    | 110/200 [00:00<00:00, 216.89it/s]\u001b[A\n",
      "Explain node 1841:  66%|██████▌   | 132/200 [00:00<00:00, 214.92it/s]\u001b[A\n",
      "Explain node 1841:  77%|███████▋  | 154/200 [00:00<00:00, 209.53it/s]\u001b[A\n",
      "Explain node 1841:  88%|████████▊ | 176/200 [00:00<00:00, 210.39it/s]\u001b[A\n",
      "Explain node 1841: 100%|██████████| 200/200 [00:00<00:00, 211.71it/s]\u001b[A\n"
     ]
    },
    {
     "name": "stdout",
     "output_type": "stream",
     "text": [
      "Accuracy on Model:  49.29577464788733\n",
      "Accuracy on EVAL-XG:  53.52112676056338\n"
     ]
    },
    {
     "name": "stderr",
     "output_type": "stream",
     "text": [
      "\n",
      "  0%|          | 0/200 [00:00<?, ?it/s]\u001b[A\n",
      "Explain node 1842:   0%|          | 0/200 [00:00<?, ?it/s]\u001b[A\n",
      "Explain node 1842:  11%|█         | 22/200 [00:00<00:00, 216.96it/s]\u001b[A\n",
      "Explain node 1842:  22%|██▏       | 44/200 [00:00<00:00, 209.89it/s]\u001b[A\n",
      "Explain node 1842:  33%|███▎      | 66/200 [00:00<00:00, 213.42it/s]\u001b[A\n",
      "Explain node 1842:  44%|████▍     | 88/200 [00:00<00:00, 215.60it/s]\u001b[A\n",
      "Explain node 1842:  55%|█████▌    | 110/200 [00:00<00:00, 215.33it/s]\u001b[A\n",
      "Explain node 1842:  66%|██████▌   | 132/200 [00:00<00:00, 215.27it/s]\u001b[A\n",
      "Explain node 1842:  77%|███████▋  | 154/200 [00:00<00:00, 213.78it/s]\u001b[A\n",
      "Explain node 1842:  88%|████████▊ | 176/200 [00:00<00:00, 214.13it/s]\u001b[A\n",
      "Explain node 1842: 100%|██████████| 200/200 [00:00<00:00, 214.10it/s]\u001b[A\n"
     ]
    },
    {
     "name": "stdout",
     "output_type": "stream",
     "text": [
      "Accuracy on Model:  49.65034965034965\n",
      "Accuracy on EVAL-XG:  53.84615384615385\n"
     ]
    },
    {
     "name": "stderr",
     "output_type": "stream",
     "text": [
      "\n",
      "  0%|          | 0/200 [00:00<?, ?it/s]\u001b[A\n",
      "Explain node 1843:   0%|          | 0/200 [00:00<?, ?it/s]\u001b[A\n",
      "Explain node 1843:  11%|█         | 22/200 [00:00<00:00, 214.38it/s]\u001b[A\n",
      "Explain node 1843:  22%|██▏       | 44/200 [00:00<00:00, 213.63it/s]\u001b[A\n",
      "Explain node 1843:  34%|███▎      | 67/200 [00:00<00:00, 217.37it/s]\u001b[A\n",
      "Explain node 1843:  44%|████▍     | 89/200 [00:00<00:00, 217.98it/s]\u001b[A\n",
      "Explain node 1843:  56%|█████▌    | 111/200 [00:00<00:00, 213.49it/s]\u001b[A\n",
      "Explain node 1843:  67%|██████▋   | 134/200 [00:00<00:00, 215.80it/s]\u001b[A\n",
      "Explain node 1843:  78%|███████▊  | 156/200 [00:00<00:00, 213.73it/s]\u001b[A\n",
      "Explain node 1843:  89%|████████▉ | 178/200 [00:00<00:00, 204.03it/s]\u001b[A\n",
      "Explain node 1843: 100%|██████████| 200/200 [00:00<00:00, 208.94it/s]\u001b[A\n"
     ]
    },
    {
     "name": "stdout",
     "output_type": "stream",
     "text": [
      "Accuracy on Model:  49.30555555555556\n",
      "Accuracy on EVAL-XG:  53.47222222222222\n"
     ]
    },
    {
     "name": "stderr",
     "output_type": "stream",
     "text": [
      "\n",
      "  0%|          | 0/200 [00:00<?, ?it/s]\u001b[A\n",
      "Explain node 1844:   0%|          | 0/200 [00:00<?, ?it/s]\u001b[A\n",
      "Explain node 1844:  10%|█         | 21/200 [00:00<00:00, 202.04it/s]\u001b[A\n",
      "Explain node 1844:  22%|██▏       | 43/200 [00:00<00:00, 210.97it/s]\u001b[A\n",
      "Explain node 1844:  32%|███▎      | 65/200 [00:00<00:00, 205.28it/s]\u001b[A\n",
      "Explain node 1844:  43%|████▎     | 86/200 [00:00<00:00, 205.30it/s]\u001b[A\n",
      "Explain node 1844:  54%|█████▍    | 108/200 [00:00<00:00, 208.35it/s]\u001b[A\n",
      "Explain node 1844:  66%|██████▌   | 131/200 [00:00<00:00, 212.76it/s]\u001b[A\n",
      "Explain node 1844:  76%|███████▋  | 153/200 [00:00<00:00, 211.26it/s]\u001b[A\n",
      "Explain node 1844:  88%|████████▊ | 176/200 [00:00<00:00, 215.33it/s]\u001b[A\n",
      "Explain node 1844: 100%|██████████| 200/200 [00:00<00:00, 210.90it/s]\u001b[A\n"
     ]
    },
    {
     "name": "stdout",
     "output_type": "stream",
     "text": [
      "Accuracy on Model:  49.6551724137931\n",
      "Accuracy on EVAL-XG:  53.79310344827586\n"
     ]
    },
    {
     "name": "stderr",
     "output_type": "stream",
     "text": [
      "\n",
      "  0%|          | 0/200 [00:00<?, ?it/s]\u001b[A\n",
      "Explain node 1845:   0%|          | 0/200 [00:00<?, ?it/s]\u001b[A\n",
      "Explain node 1845:  10%|█         | 21/200 [00:00<00:00, 208.54it/s]\u001b[A\n",
      "Explain node 1845:  21%|██        | 42/200 [00:00<00:00, 208.08it/s]\u001b[A\n",
      "Explain node 1845:  32%|███▏      | 63/200 [00:00<00:00, 208.28it/s]\u001b[A\n",
      "Explain node 1845:  42%|████▏     | 84/200 [00:00<00:00, 205.27it/s]\u001b[A\n",
      "Explain node 1845:  54%|█████▎    | 107/200 [00:00<00:00, 210.68it/s]\u001b[A\n",
      "Explain node 1845:  64%|██████▍   | 129/200 [00:00<00:00, 212.61it/s]\u001b[A\n",
      "Explain node 1845:  76%|███████▌  | 151/200 [00:00<00:00, 214.79it/s]\u001b[A\n",
      "Explain node 1845:  86%|████████▋ | 173/200 [00:00<00:00, 214.41it/s]\u001b[A\n",
      "Explain node 1845: 100%|██████████| 200/200 [00:00<00:00, 212.24it/s]\u001b[A\n"
     ]
    },
    {
     "name": "stdout",
     "output_type": "stream",
     "text": [
      "Accuracy on Model:  50.0\n",
      "Accuracy on EVAL-XG:  54.109589041095894\n"
     ]
    },
    {
     "name": "stderr",
     "output_type": "stream",
     "text": [
      "\n",
      "  0%|          | 0/200 [00:00<?, ?it/s]\u001b[A\n",
      "Explain node 1846:   0%|          | 0/200 [00:00<?, ?it/s]\u001b[A\n",
      "Explain node 1846:  11%|█         | 22/200 [00:00<00:00, 219.74it/s]\u001b[A\n",
      "Explain node 1846:  22%|██▏       | 44/200 [00:00<00:00, 218.02it/s]\u001b[A\n",
      "Explain node 1846:  34%|███▎      | 67/200 [00:00<00:00, 220.48it/s]\u001b[A\n",
      "Explain node 1846:  45%|████▌     | 90/200 [00:00<00:00, 221.93it/s]\u001b[A\n",
      "Explain node 1846:  56%|█████▋    | 113/200 [00:00<00:00, 216.04it/s]\u001b[A\n",
      "Explain node 1846:  68%|██████▊   | 135/200 [00:00<00:00, 213.58it/s]\u001b[A\n",
      "Explain node 1846:  79%|███████▉  | 158/200 [00:00<00:00, 215.74it/s]\u001b[A\n",
      "Explain node 1846: 100%|██████████| 200/200 [00:00<00:00, 217.60it/s]\u001b[A\n"
     ]
    },
    {
     "name": "stdout",
     "output_type": "stream",
     "text": [
      "Accuracy on Model:  50.34013605442177\n",
      "Accuracy on EVAL-XG:  54.421768707483\n"
     ]
    },
    {
     "name": "stderr",
     "output_type": "stream",
     "text": [
      "\n",
      "  0%|          | 0/200 [00:00<?, ?it/s]\u001b[A\n",
      "Explain node 1847:   0%|          | 0/200 [00:00<?, ?it/s]\u001b[A\n",
      "Explain node 1847:  10%|█         | 21/200 [00:00<00:00, 209.41it/s]\u001b[A\n",
      "Explain node 1847:  22%|██▏       | 43/200 [00:00<00:00, 210.53it/s]\u001b[A\n",
      "Explain node 1847:  32%|███▎      | 65/200 [00:00<00:00, 211.63it/s]\u001b[A\n",
      "Explain node 1847:  44%|████▎     | 87/200 [00:00<00:00, 214.86it/s]\u001b[A\n",
      "Explain node 1847:  55%|█████▍    | 109/200 [00:00<00:00, 216.07it/s]\u001b[A\n",
      "Explain node 1847:  66%|██████▌   | 131/200 [00:00<00:00, 215.52it/s]\u001b[A\n",
      "Explain node 1847:  76%|███████▋  | 153/200 [00:00<00:00, 216.63it/s]\u001b[A\n",
      "Explain node 1847:  88%|████████▊ | 175/200 [00:00<00:00, 217.18it/s]\u001b[A\n",
      "Explain node 1847: 100%|██████████| 200/200 [00:00<00:00, 212.87it/s]\u001b[A\n"
     ]
    },
    {
     "name": "stdout",
     "output_type": "stream",
     "text": [
      "Accuracy on Model:  50.0\n",
      "Accuracy on EVAL-XG:  54.729729729729726\n"
     ]
    },
    {
     "name": "stderr",
     "output_type": "stream",
     "text": [
      "\n",
      "  0%|          | 0/200 [00:00<?, ?it/s]\u001b[A\n",
      "Explain node 1848:   0%|          | 0/200 [00:00<?, ?it/s]\u001b[A\n",
      "Explain node 1848:  10%|█         | 21/200 [00:00<00:00, 207.09it/s]\u001b[A\n",
      "Explain node 1848:  21%|██        | 42/200 [00:00<00:00, 206.74it/s]\u001b[A\n",
      "Explain node 1848:  32%|███▏      | 63/200 [00:00<00:00, 206.37it/s]\u001b[A\n",
      "Explain node 1848:  42%|████▎     | 85/200 [00:00<00:00, 210.87it/s]\u001b[A\n",
      "Explain node 1848:  54%|█████▎    | 107/200 [00:00<00:00, 208.99it/s]\u001b[A\n",
      "Explain node 1848:  64%|██████▍   | 129/200 [00:00<00:00, 209.89it/s]\u001b[A\n",
      "Explain node 1848:  76%|███████▌  | 151/200 [00:00<00:00, 212.11it/s]\u001b[A\n",
      "Explain node 1848:  86%|████████▋ | 173/200 [00:00<00:00, 214.33it/s]\u001b[A\n",
      "Explain node 1848: 100%|██████████| 200/200 [00:00<00:00, 211.01it/s]\u001b[A\n"
     ]
    },
    {
     "name": "stdout",
     "output_type": "stream",
     "text": [
      "Accuracy on Model:  50.33557046979866\n",
      "Accuracy on EVAL-XG:  54.36241610738255\n"
     ]
    },
    {
     "name": "stderr",
     "output_type": "stream",
     "text": [
      "\n",
      "  0%|          | 0/200 [00:00<?, ?it/s]\u001b[A\n",
      "Explain node 1849:   0%|          | 0/200 [00:00<?, ?it/s]\u001b[A\n",
      "Explain node 1849:  11%|█         | 22/200 [00:00<00:00, 215.27it/s]\u001b[A\n",
      "Explain node 1849:  22%|██▏       | 44/200 [00:00<00:00, 213.71it/s]\u001b[A\n",
      "Explain node 1849:  33%|███▎      | 66/200 [00:00<00:00, 211.72it/s]\u001b[A\n",
      "Explain node 1849:  44%|████▍     | 88/200 [00:00<00:00, 202.72it/s]\u001b[A\n",
      "Explain node 1849:  55%|█████▌    | 110/200 [00:00<00:00, 208.04it/s]\u001b[A\n",
      "Explain node 1849:  66%|██████▌   | 131/200 [00:00<00:00, 207.50it/s]\u001b[A\n",
      "Explain node 1849:  76%|███████▋  | 153/200 [00:00<00:00, 210.56it/s]\u001b[A\n",
      "Explain node 1849:  88%|████████▊ | 176/200 [00:00<00:00, 213.66it/s]\u001b[A\n",
      "Explain node 1849: 100%|██████████| 200/200 [00:00<00:00, 211.88it/s]\u001b[A\n"
     ]
    },
    {
     "name": "stdout",
     "output_type": "stream",
     "text": [
      "Accuracy on Model:  50.0\n",
      "Accuracy on EVAL-XG:  54.0\n"
     ]
    },
    {
     "name": "stderr",
     "output_type": "stream",
     "text": [
      "\n",
      "  0%|          | 0/200 [00:00<?, ?it/s]\u001b[A\n",
      "Explain node 1850:   0%|          | 0/200 [00:00<?, ?it/s]\u001b[A\n",
      "Explain node 1850:  12%|█▏        | 23/200 [00:00<00:00, 220.66it/s]\u001b[A\n",
      "Explain node 1850:  23%|██▎       | 46/200 [00:00<00:00, 219.48it/s]\u001b[A\n",
      "Explain node 1850:  34%|███▍      | 68/200 [00:00<00:00, 219.43it/s]\u001b[A\n",
      "Explain node 1850:  45%|████▌     | 90/200 [00:00<00:00, 218.44it/s]\u001b[A\n",
      "Explain node 1850:  56%|█████▋    | 113/200 [00:00<00:00, 219.75it/s]\u001b[A\n",
      "Explain node 1850:  68%|██████▊   | 135/200 [00:00<00:00, 218.85it/s]\u001b[A\n",
      "Explain node 1850:  78%|███████▊  | 157/200 [00:00<00:00, 218.81it/s]\u001b[A\n",
      "Explain node 1850: 100%|██████████| 200/200 [00:00<00:00, 218.27it/s]\u001b[A\n"
     ]
    },
    {
     "name": "stdout",
     "output_type": "stream",
     "text": [
      "Accuracy on Model:  49.668874172185426\n",
      "Accuracy on EVAL-XG:  53.64238410596026\n"
     ]
    },
    {
     "name": "stderr",
     "output_type": "stream",
     "text": [
      "\n",
      "  0%|          | 0/200 [00:00<?, ?it/s]\u001b[A\n",
      "Explain node 1851:   0%|          | 0/200 [00:00<?, ?it/s]\u001b[A\n",
      "Explain node 1851:  10%|█         | 21/200 [00:00<00:00, 207.46it/s]\u001b[A\n",
      "Explain node 1851:  21%|██        | 42/200 [00:00<00:00, 206.11it/s]\u001b[A\n",
      "Explain node 1851:  32%|███▏      | 63/200 [00:00<00:00, 204.34it/s]\u001b[A\n",
      "Explain node 1851:  42%|████▎     | 85/200 [00:00<00:00, 207.00it/s]\u001b[A\n",
      "Explain node 1851:  53%|█████▎    | 106/200 [00:00<00:00, 205.92it/s]\u001b[A\n",
      "Explain node 1851:  64%|██████▎   | 127/200 [00:00<00:00, 205.73it/s]\u001b[A\n",
      "Explain node 1851:  74%|███████▍  | 148/200 [00:00<00:00, 204.31it/s]\u001b[A\n",
      "Explain node 1851:  84%|████████▍ | 169/200 [00:00<00:00, 204.96it/s]\u001b[A\n",
      "Explain node 1851: 100%|██████████| 200/200 [00:00<00:00, 204.96it/s]\u001b[A\n"
     ]
    },
    {
     "name": "stdout",
     "output_type": "stream",
     "text": [
      "Accuracy on Model:  49.34210526315789\n",
      "Accuracy on EVAL-XG:  53.289473684210535\n"
     ]
    },
    {
     "name": "stderr",
     "output_type": "stream",
     "text": [
      "\n",
      "  0%|          | 0/200 [00:00<?, ?it/s]\u001b[A\n",
      "Explain node 1852:   0%|          | 0/200 [00:00<?, ?it/s]\u001b[A\n",
      "Explain node 1852:  12%|█▏        | 23/200 [00:00<00:00, 220.32it/s]\u001b[A\n",
      "Explain node 1852:  23%|██▎       | 46/200 [00:00<00:00, 208.23it/s]\u001b[A\n",
      "Explain node 1852:  34%|███▎      | 67/200 [00:00<00:00, 207.35it/s]\u001b[A\n",
      "Explain node 1852:  44%|████▍     | 88/200 [00:00<00:00, 206.36it/s]\u001b[A\n",
      "Explain node 1852:  55%|█████▌    | 110/200 [00:00<00:00, 209.18it/s]\u001b[A\n",
      "Explain node 1852:  66%|██████▌   | 132/200 [00:00<00:00, 210.84it/s]\u001b[A\n",
      "Explain node 1852:  77%|███████▋  | 154/200 [00:00<00:00, 211.94it/s]\u001b[A\n",
      "Explain node 1852:  88%|████████▊ | 176/200 [00:00<00:00, 214.15it/s]\u001b[A\n",
      "Explain node 1852: 100%|██████████| 200/200 [00:00<00:00, 212.41it/s]\u001b[A\n"
     ]
    },
    {
     "name": "stdout",
     "output_type": "stream",
     "text": [
      "Accuracy on Model:  49.673202614379086\n",
      "Accuracy on EVAL-XG:  53.59477124183007\n"
     ]
    },
    {
     "name": "stderr",
     "output_type": "stream",
     "text": [
      "\n",
      "  0%|          | 0/200 [00:00<?, ?it/s]\u001b[A\n",
      "Explain node 1853:   0%|          | 0/200 [00:00<?, ?it/s]\u001b[A\n",
      "Explain node 1853:  11%|█         | 22/200 [00:00<00:00, 218.49it/s]\u001b[A\n",
      "Explain node 1853:  22%|██▎       | 45/200 [00:00<00:00, 221.25it/s]\u001b[A\n",
      "Explain node 1853:  34%|███▍      | 68/200 [00:00<00:00, 221.64it/s]\u001b[A\n",
      "Explain node 1853:  46%|████▌     | 91/200 [00:00<00:00, 220.42it/s]\u001b[A\n",
      "Explain node 1853:  57%|█████▋    | 114/200 [00:00<00:00, 219.84it/s]\u001b[A\n",
      "Explain node 1853:  68%|██████▊   | 136/200 [00:00<00:00, 219.52it/s]\u001b[A\n",
      "Explain node 1853:  79%|███████▉  | 158/200 [00:00<00:00, 219.28it/s]\u001b[A\n",
      "Explain node 1853: 100%|██████████| 200/200 [00:00<00:00, 219.64it/s]\u001b[A\n"
     ]
    },
    {
     "name": "stdout",
     "output_type": "stream",
     "text": [
      "Accuracy on Model:  49.35064935064935\n",
      "Accuracy on EVAL-XG:  53.246753246753244\n"
     ]
    },
    {
     "name": "stderr",
     "output_type": "stream",
     "text": [
      "\n",
      "  0%|          | 0/200 [00:00<?, ?it/s]\u001b[A\n",
      "Explain node 1854:   0%|          | 0/200 [00:00<?, ?it/s]\u001b[A\n",
      "Explain node 1854:  11%|█         | 22/200 [00:00<00:00, 217.15it/s]\u001b[A\n",
      "Explain node 1854:  22%|██▏       | 44/200 [00:00<00:00, 212.54it/s]\u001b[A\n",
      "Explain node 1854:  33%|███▎      | 66/200 [00:00<00:00, 214.37it/s]\u001b[A\n",
      "Explain node 1854:  44%|████▍     | 88/200 [00:00<00:00, 215.71it/s]\u001b[A\n",
      "Explain node 1854:  55%|█████▌    | 110/200 [00:00<00:00, 216.70it/s]\u001b[A\n",
      "Explain node 1854:  66%|██████▌   | 132/200 [00:00<00:00, 217.59it/s]\u001b[A\n",
      "Explain node 1854:  78%|███████▊  | 155/200 [00:00<00:00, 218.37it/s]\u001b[A\n",
      "Explain node 1854:  88%|████████▊ | 177/200 [00:00<00:00, 217.88it/s]\u001b[A\n",
      "Explain node 1854: 100%|██████████| 200/200 [00:00<00:00, 216.35it/s]\u001b[A\n"
     ]
    },
    {
     "name": "stdout",
     "output_type": "stream",
     "text": [
      "Accuracy on Model:  49.67741935483871\n",
      "Accuracy on EVAL-XG:  53.5483870967742\n"
     ]
    },
    {
     "name": "stderr",
     "output_type": "stream",
     "text": [
      "\n",
      "  0%|          | 0/200 [00:00<?, ?it/s]\u001b[A\n",
      "Explain node 1855:   0%|          | 0/200 [00:00<?, ?it/s]\u001b[A\n",
      "Explain node 1855:  11%|█         | 22/200 [00:00<00:00, 219.77it/s]\u001b[A\n",
      "Explain node 1855:  22%|██▏       | 44/200 [00:00<00:00, 217.41it/s]\u001b[A\n",
      "Explain node 1855:  33%|███▎      | 66/200 [00:00<00:00, 211.91it/s]\u001b[A\n",
      "Explain node 1855:  44%|████▍     | 88/200 [00:00<00:00, 211.93it/s]\u001b[A\n",
      "Explain node 1855:  55%|█████▌    | 110/200 [00:00<00:00, 214.34it/s]\u001b[A\n",
      "Explain node 1855:  66%|██████▌   | 132/200 [00:00<00:00, 215.34it/s]\u001b[A\n",
      "Explain node 1855:  77%|███████▋  | 154/200 [00:00<00:00, 216.58it/s]\u001b[A\n",
      "Explain node 1855:  88%|████████▊ | 176/200 [00:00<00:00, 215.45it/s]\u001b[A\n",
      "Explain node 1855: 100%|██████████| 200/200 [00:00<00:00, 214.20it/s]\u001b[A\n"
     ]
    },
    {
     "name": "stdout",
     "output_type": "stream",
     "text": [
      "Accuracy on Model:  50.0\n",
      "Accuracy on EVAL-XG:  53.84615384615385\n"
     ]
    },
    {
     "name": "stderr",
     "output_type": "stream",
     "text": [
      "\n",
      "  0%|          | 0/200 [00:00<?, ?it/s]\u001b[A\n",
      "Explain node 1856:   0%|          | 0/200 [00:00<?, ?it/s]\u001b[A\n",
      "Explain node 1856:  11%|█         | 22/200 [00:00<00:00, 216.23it/s]\u001b[A\n",
      "Explain node 1856:  22%|██▎       | 45/200 [00:00<00:00, 218.96it/s]\u001b[A\n",
      "Explain node 1856:  34%|███▎      | 67/200 [00:00<00:00, 216.81it/s]\u001b[A\n",
      "Explain node 1856:  44%|████▍     | 89/200 [00:00<00:00, 217.64it/s]\u001b[A\n",
      "Explain node 1856:  56%|█████▌    | 111/200 [00:00<00:00, 217.73it/s]\u001b[A\n",
      "Explain node 1856:  66%|██████▋   | 133/200 [00:00<00:00, 217.79it/s]\u001b[A\n",
      "Explain node 1856:  78%|███████▊  | 155/200 [00:00<00:00, 217.89it/s]\u001b[A\n",
      "Explain node 1856:  89%|████████▉ | 178/200 [00:00<00:00, 218.78it/s]\u001b[A\n",
      "Explain node 1856: 100%|██████████| 200/200 [00:00<00:00, 217.93it/s]\u001b[A\n"
     ]
    },
    {
     "name": "stdout",
     "output_type": "stream",
     "text": [
      "Accuracy on Model:  50.318471337579616\n",
      "Accuracy on EVAL-XG:  54.14012738853503\n"
     ]
    },
    {
     "name": "stderr",
     "output_type": "stream",
     "text": [
      "\n",
      "  0%|          | 0/200 [00:00<?, ?it/s]\u001b[A\n",
      "Explain node 1857:   0%|          | 0/200 [00:00<?, ?it/s]\u001b[A\n",
      "Explain node 1857:  12%|█▏        | 23/200 [00:00<00:00, 221.04it/s]\u001b[A\n",
      "Explain node 1857:  23%|██▎       | 46/200 [00:00<00:00, 217.97it/s]\u001b[A\n",
      "Explain node 1857:  34%|███▍      | 68/200 [00:00<00:00, 214.80it/s]\u001b[A\n",
      "Explain node 1857:  45%|████▌     | 90/200 [00:00<00:00, 215.18it/s]\u001b[A\n",
      "Explain node 1857:  56%|█████▌    | 112/200 [00:00<00:00, 216.48it/s]\u001b[A\n",
      "Explain node 1857:  67%|██████▋   | 134/200 [00:00<00:00, 217.44it/s]\u001b[A\n",
      "Explain node 1857:  78%|███████▊  | 157/200 [00:00<00:00, 218.74it/s]\u001b[A\n",
      "Explain node 1857: 100%|██████████| 200/200 [00:00<00:00, 214.92it/s]\u001b[A\n"
     ]
    },
    {
     "name": "stdout",
     "output_type": "stream",
     "text": [
      "Accuracy on Model:  50.63291139240506\n",
      "Accuracy on EVAL-XG:  54.43037974683544\n"
     ]
    },
    {
     "name": "stderr",
     "output_type": "stream",
     "text": [
      "\n",
      "  0%|          | 0/200 [00:00<?, ?it/s]\u001b[A\n",
      "Explain node 1858:   0%|          | 0/200 [00:00<?, ?it/s]\u001b[A\n",
      "Explain node 1858:  11%|█         | 22/200 [00:00<00:00, 211.08it/s]\u001b[A\n",
      "Explain node 1858:  22%|██▏       | 44/200 [00:00<00:00, 212.71it/s]\u001b[A\n",
      "Explain node 1858:  33%|███▎      | 66/200 [00:00<00:00, 209.17it/s]\u001b[A\n",
      "Explain node 1858:  44%|████▍     | 88/200 [00:00<00:00, 212.40it/s]\u001b[A\n",
      "Explain node 1858:  56%|█████▌    | 111/200 [00:00<00:00, 216.21it/s]\u001b[A\n",
      "Explain node 1858:  67%|██████▋   | 134/200 [00:00<00:00, 218.33it/s]\u001b[A\n",
      "Explain node 1858:  78%|███████▊  | 156/200 [00:00<00:00, 217.97it/s]\u001b[A\n",
      "Explain node 1858:  89%|████████▉ | 178/200 [00:00<00:00, 218.36it/s]\u001b[A\n",
      "Explain node 1858: 100%|██████████| 200/200 [00:00<00:00, 215.85it/s]\u001b[A\n"
     ]
    },
    {
     "name": "stdout",
     "output_type": "stream",
     "text": [
      "Accuracy on Model:  50.943396226415096\n",
      "Accuracy on EVAL-XG:  54.71698113207547\n"
     ]
    },
    {
     "name": "stderr",
     "output_type": "stream",
     "text": [
      "\n",
      "  0%|          | 0/200 [00:00<?, ?it/s]\u001b[A\n",
      "Explain node 1859:   0%|          | 0/200 [00:00<?, ?it/s]\u001b[A\n",
      "Explain node 1859:  11%|█         | 22/200 [00:00<00:00, 219.98it/s]\u001b[A\n",
      "Explain node 1859:  22%|██▏       | 44/200 [00:00<00:00, 217.67it/s]\u001b[A\n",
      "Explain node 1859:  33%|███▎      | 66/200 [00:00<00:00, 217.20it/s]\u001b[A\n",
      "Explain node 1859:  44%|████▍     | 88/200 [00:00<00:00, 214.31it/s]\u001b[A\n",
      "Explain node 1859:  56%|█████▌    | 111/200 [00:00<00:00, 216.52it/s]\u001b[A\n",
      "Explain node 1859:  66%|██████▋   | 133/200 [00:00<00:00, 210.41it/s]\u001b[A\n",
      "Explain node 1859:  78%|███████▊  | 155/200 [00:00<00:00, 207.86it/s]\u001b[A\n",
      "Explain node 1859:  88%|████████▊ | 177/200 [00:00<00:00, 209.13it/s]\u001b[A\n",
      "Explain node 1859: 100%|██████████| 200/200 [00:00<00:00, 212.45it/s]\u001b[A\n"
     ]
    },
    {
     "name": "stdout",
     "output_type": "stream",
     "text": [
      "Accuracy on Model:  51.24999999999999\n",
      "Accuracy on EVAL-XG:  55.00000000000001\n"
     ]
    },
    {
     "name": "stderr",
     "output_type": "stream",
     "text": [
      "\n",
      "  0%|          | 0/200 [00:00<?, ?it/s]\u001b[A\n",
      "Explain node 1860:   0%|          | 0/200 [00:00<?, ?it/s]\u001b[A\n",
      "Explain node 1860:  10%|█         | 21/200 [00:00<00:00, 202.54it/s]\u001b[A\n",
      "Explain node 1860:  22%|██▏       | 43/200 [00:00<00:00, 206.76it/s]\u001b[A\n",
      "Explain node 1860:  32%|███▎      | 65/200 [00:00<00:00, 211.14it/s]\u001b[A\n",
      "Explain node 1860:  44%|████▎     | 87/200 [00:00<00:00, 204.73it/s]\u001b[A\n",
      "Explain node 1860:  55%|█████▍    | 109/200 [00:00<00:00, 208.46it/s]\u001b[A\n",
      "Explain node 1860:  66%|██████▌   | 131/200 [00:00<00:00, 209.98it/s]\u001b[A\n",
      "Explain node 1860:  76%|███████▋  | 153/200 [00:00<00:00, 211.82it/s]\u001b[A\n",
      "Explain node 1860:  88%|████████▊ | 175/200 [00:00<00:00, 212.49it/s]\u001b[A\n",
      "Explain node 1860: 100%|██████████| 200/200 [00:00<00:00, 210.90it/s]\u001b[A\n"
     ]
    },
    {
     "name": "stdout",
     "output_type": "stream",
     "text": [
      "Accuracy on Model:  51.5527950310559\n",
      "Accuracy on EVAL-XG:  55.27950310559007\n"
     ]
    },
    {
     "name": "stderr",
     "output_type": "stream",
     "text": [
      "\n",
      "  0%|          | 0/200 [00:00<?, ?it/s]\u001b[A\n",
      "Explain node 1861:   0%|          | 0/200 [00:00<?, ?it/s]\u001b[A\n",
      "Explain node 1861:  11%|█         | 22/200 [00:00<00:00, 213.25it/s]\u001b[A\n",
      "Explain node 1861:  22%|██▏       | 44/200 [00:00<00:00, 213.95it/s]\u001b[A\n",
      "Explain node 1861:  33%|███▎      | 66/200 [00:00<00:00, 214.20it/s]\u001b[A\n",
      "Explain node 1861:  44%|████▍     | 88/200 [00:00<00:00, 213.01it/s]\u001b[A\n",
      "Explain node 1861:  55%|█████▌    | 110/200 [00:00<00:00, 211.34it/s]\u001b[A\n",
      "Explain node 1861:  66%|██████▌   | 132/200 [00:00<00:00, 212.84it/s]\u001b[A\n",
      "Explain node 1861:  77%|███████▋  | 154/200 [00:00<00:00, 212.93it/s]\u001b[A\n",
      "Explain node 1861:  88%|████████▊ | 176/200 [00:00<00:00, 213.12it/s]\u001b[A\n",
      "Explain node 1861: 100%|██████████| 200/200 [00:00<00:00, 212.72it/s]\u001b[A\n"
     ]
    },
    {
     "name": "stdout",
     "output_type": "stream",
     "text": [
      "Accuracy on Model:  51.85185185185185\n",
      "Accuracy on EVAL-XG:  55.55555555555556\n"
     ]
    },
    {
     "name": "stderr",
     "output_type": "stream",
     "text": [
      "\n",
      "  0%|          | 0/200 [00:00<?, ?it/s]\u001b[A\n",
      "Explain node 1862:   0%|          | 0/200 [00:00<?, ?it/s]\u001b[A\n",
      "Explain node 1862:  11%|█         | 22/200 [00:00<00:00, 210.47it/s]\u001b[A\n",
      "Explain node 1862:  22%|██▏       | 44/200 [00:00<00:00, 211.38it/s]\u001b[A\n",
      "Explain node 1862:  33%|███▎      | 66/200 [00:00<00:00, 213.88it/s]\u001b[A\n",
      "Explain node 1862:  44%|████▍     | 88/200 [00:00<00:00, 210.95it/s]\u001b[A\n",
      "Explain node 1862:  55%|█████▌    | 110/200 [00:00<00:00, 213.66it/s]\u001b[A\n",
      "Explain node 1862:  66%|██████▌   | 132/200 [00:00<00:00, 210.82it/s]\u001b[A\n",
      "Explain node 1862:  77%|███████▋  | 154/200 [00:00<00:00, 211.89it/s]\u001b[A\n",
      "Explain node 1862:  88%|████████▊ | 176/200 [00:00<00:00, 214.26it/s]\u001b[A\n",
      "Explain node 1862: 100%|██████████| 200/200 [00:00<00:00, 212.75it/s]\u001b[A\n"
     ]
    },
    {
     "name": "stdout",
     "output_type": "stream",
     "text": [
      "Accuracy on Model:  52.14723926380368\n",
      "Accuracy on EVAL-XG:  55.828220858895705\n"
     ]
    },
    {
     "name": "stderr",
     "output_type": "stream",
     "text": [
      "\n",
      "  0%|          | 0/200 [00:00<?, ?it/s]\u001b[A\n",
      "Explain node 1863:   0%|          | 0/200 [00:00<?, ?it/s]\u001b[A\n",
      "Explain node 1863:  11%|█         | 22/200 [00:00<00:00, 219.52it/s]\u001b[A\n",
      "Explain node 1863:  22%|██▏       | 44/200 [00:00<00:00, 218.49it/s]\u001b[A\n",
      "Explain node 1863:  33%|███▎      | 66/200 [00:00<00:00, 217.53it/s]\u001b[A\n",
      "Explain node 1863:  44%|████▍     | 88/200 [00:00<00:00, 211.04it/s]\u001b[A\n",
      "Explain node 1863:  55%|█████▌    | 110/200 [00:00<00:00, 213.74it/s]\u001b[A\n",
      "Explain node 1863:  66%|██████▋   | 133/200 [00:00<00:00, 217.05it/s]\u001b[A\n",
      "Explain node 1863:  78%|███████▊  | 155/200 [00:00<00:00, 217.96it/s]\u001b[A\n",
      "Explain node 1863:  88%|████████▊ | 177/200 [00:00<00:00, 217.98it/s]\u001b[A\n",
      "Explain node 1863: 100%|██████████| 200/200 [00:00<00:00, 215.51it/s]\u001b[A\n"
     ]
    },
    {
     "name": "stdout",
     "output_type": "stream",
     "text": [
      "Accuracy on Model:  52.4390243902439\n",
      "Accuracy on EVAL-XG:  55.487804878048784\n"
     ]
    },
    {
     "name": "stderr",
     "output_type": "stream",
     "text": [
      "\n",
      "  0%|          | 0/200 [00:00<?, ?it/s]\u001b[A\n",
      "Explain node 1864:   0%|          | 0/200 [00:00<?, ?it/s]\u001b[A\n",
      "Explain node 1864:  11%|█         | 22/200 [00:00<00:00, 218.46it/s]\u001b[A\n",
      "Explain node 1864:  22%|██▎       | 45/200 [00:00<00:00, 219.61it/s]\u001b[A\n",
      "Explain node 1864:  34%|███▍      | 68/200 [00:00<00:00, 220.24it/s]\u001b[A\n",
      "Explain node 1864:  46%|████▌     | 91/200 [00:00<00:00, 219.92it/s]\u001b[A\n",
      "Explain node 1864:  56%|█████▋    | 113/200 [00:00<00:00, 218.02it/s]\u001b[A\n",
      "Explain node 1864:  68%|██████▊   | 135/200 [00:00<00:00, 218.55it/s]\u001b[A\n",
      "Explain node 1864:  78%|███████▊  | 157/200 [00:00<00:00, 218.74it/s]\u001b[A\n",
      "Explain node 1864: 100%|██████████| 200/200 [00:00<00:00, 218.93it/s]\u001b[A\n"
     ]
    },
    {
     "name": "stdout",
     "output_type": "stream",
     "text": [
      "Accuracy on Model:  52.72727272727272\n",
      "Accuracy on EVAL-XG:  55.757575757575765\n"
     ]
    },
    {
     "name": "stderr",
     "output_type": "stream",
     "text": [
      "\n",
      "  0%|          | 0/200 [00:00<?, ?it/s]\u001b[A\n",
      "Explain node 1865:   0%|          | 0/200 [00:00<?, ?it/s]\u001b[A\n",
      "Explain node 1865:  11%|█         | 22/200 [00:00<00:00, 215.11it/s]\u001b[A\n",
      "Explain node 1865:  22%|██▏       | 44/200 [00:00<00:00, 217.46it/s]\u001b[A\n",
      "Explain node 1865:  34%|███▎      | 67/200 [00:00<00:00, 218.83it/s]\u001b[A\n",
      "Explain node 1865:  45%|████▌     | 90/200 [00:00<00:00, 219.46it/s]\u001b[A\n",
      "Explain node 1865:  56%|█████▋    | 113/200 [00:00<00:00, 220.23it/s]\u001b[A\n",
      "Explain node 1865:  68%|██████▊   | 136/200 [00:00<00:00, 219.56it/s]\u001b[A\n",
      "Explain node 1865:  80%|███████▉  | 159/200 [00:00<00:00, 220.05it/s]\u001b[A\n",
      "Explain node 1865: 100%|██████████| 200/200 [00:00<00:00, 219.57it/s]\u001b[A\n"
     ]
    },
    {
     "name": "stdout",
     "output_type": "stream",
     "text": [
      "Accuracy on Model:  52.40963855421686\n",
      "Accuracy on EVAL-XG:  55.42168674698795\n"
     ]
    },
    {
     "name": "stderr",
     "output_type": "stream",
     "text": [
      "\n",
      "  0%|          | 0/200 [00:00<?, ?it/s]\u001b[A\n",
      "Explain node 1866:   0%|          | 0/200 [00:00<?, ?it/s]\u001b[A\n",
      "Explain node 1866:  11%|█         | 22/200 [00:00<00:00, 213.39it/s]\u001b[A\n",
      "Explain node 1866:  22%|██▏       | 44/200 [00:00<00:00, 209.72it/s]\u001b[A\n",
      "Explain node 1866:  33%|███▎      | 66/200 [00:00<00:00, 212.94it/s]\u001b[A\n",
      "Explain node 1866:  44%|████▍     | 89/200 [00:00<00:00, 216.44it/s]\u001b[A\n",
      "Explain node 1866:  56%|█████▌    | 112/200 [00:00<00:00, 218.64it/s]\u001b[A\n",
      "Explain node 1866:  68%|██████▊   | 135/200 [00:00<00:00, 219.69it/s]\u001b[A\n",
      "Explain node 1866:  78%|███████▊  | 157/200 [00:00<00:00, 218.67it/s]\u001b[A\n",
      "Explain node 1866: 100%|██████████| 200/200 [00:00<00:00, 215.97it/s]\u001b[A\n"
     ]
    },
    {
     "name": "stdout",
     "output_type": "stream",
     "text": [
      "Accuracy on Model:  52.69461077844312\n",
      "Accuracy on EVAL-XG:  55.688622754491014\n"
     ]
    },
    {
     "name": "stderr",
     "output_type": "stream",
     "text": [
      "\n",
      "  0%|          | 0/200 [00:00<?, ?it/s]\u001b[A\n",
      "Explain node 1867:   0%|          | 0/200 [00:00<?, ?it/s]\u001b[A\n",
      "Explain node 1867:  11%|█         | 22/200 [00:00<00:00, 212.79it/s]\u001b[A\n",
      "Explain node 1867:  22%|██▏       | 44/200 [00:00<00:00, 202.93it/s]\u001b[A\n",
      "Explain node 1867:  32%|███▎      | 65/200 [00:00<00:00, 203.47it/s]\u001b[A\n",
      "Explain node 1867:  43%|████▎     | 86/200 [00:00<00:00, 203.86it/s]\u001b[A\n",
      "Explain node 1867:  54%|█████▎    | 107/200 [00:00<00:00, 204.49it/s]\u001b[A\n",
      "Explain node 1867:  64%|██████▍   | 128/200 [00:00<00:00, 205.95it/s]\u001b[A\n",
      "Explain node 1867:  75%|███████▌  | 150/200 [00:00<00:00, 207.77it/s]\u001b[A\n",
      "Explain node 1867:  86%|████████▌ | 172/200 [00:00<00:00, 210.15it/s]\u001b[A\n",
      "Explain node 1867: 100%|██████████| 200/200 [00:00<00:00, 209.28it/s]\u001b[A\n"
     ]
    },
    {
     "name": "stdout",
     "output_type": "stream",
     "text": [
      "Accuracy on Model:  52.976190476190474\n",
      "Accuracy on EVAL-XG:  55.952380952380956\n"
     ]
    },
    {
     "name": "stderr",
     "output_type": "stream",
     "text": [
      "\n",
      "  0%|          | 0/200 [00:00<?, ?it/s]\u001b[A\n",
      "Explain node 1868:   0%|          | 0/200 [00:00<?, ?it/s]\u001b[A\n",
      "Explain node 1868:  12%|█▏        | 23/200 [00:00<00:00, 222.83it/s]\u001b[A\n",
      "Explain node 1868:  23%|██▎       | 46/200 [00:00<00:00, 221.77it/s]\u001b[A\n",
      "Explain node 1868:  34%|███▍      | 69/200 [00:00<00:00, 221.19it/s]\u001b[A\n",
      "Explain node 1868:  46%|████▌     | 92/200 [00:00<00:00, 220.67it/s]\u001b[A\n",
      "Explain node 1868:  57%|█████▊    | 115/200 [00:00<00:00, 219.23it/s]\u001b[A\n",
      "Explain node 1868:  69%|██████▉   | 138/200 [00:00<00:00, 219.80it/s]\u001b[A\n",
      "Explain node 1868:  80%|████████  | 160/200 [00:00<00:00, 219.59it/s]\u001b[A\n",
      "Explain node 1868: 100%|██████████| 200/200 [00:00<00:00, 215.50it/s]\u001b[A\n"
     ]
    },
    {
     "name": "stdout",
     "output_type": "stream",
     "text": [
      "Accuracy on Model:  53.25443786982249\n",
      "Accuracy on EVAL-XG:  56.213017751479285\n"
     ]
    },
    {
     "name": "stderr",
     "output_type": "stream",
     "text": [
      "\n",
      "  0%|          | 0/200 [00:00<?, ?it/s]\u001b[A\n",
      "Explain node 1869:   0%|          | 0/200 [00:00<?, ?it/s]\u001b[A\n",
      "Explain node 1869:  10%|█         | 21/200 [00:00<00:00, 202.32it/s]\u001b[A\n",
      "Explain node 1869:  21%|██        | 42/200 [00:00<00:00, 201.07it/s]\u001b[A\n",
      "Explain node 1869:  32%|███▎      | 65/200 [00:00<00:00, 210.68it/s]\u001b[A\n",
      "Explain node 1869:  44%|████▎     | 87/200 [00:00<00:00, 206.12it/s]\u001b[A\n",
      "Explain node 1869:  55%|█████▍    | 109/200 [00:00<00:00, 210.54it/s]\u001b[A\n",
      "Explain node 1869:  66%|██████▌   | 132/200 [00:00<00:00, 215.15it/s]\u001b[A\n",
      "Explain node 1869:  78%|███████▊  | 155/200 [00:00<00:00, 217.54it/s]\u001b[A\n",
      "Explain node 1869:  88%|████████▊ | 177/200 [00:00<00:00, 215.57it/s]\u001b[A\n",
      "Explain node 1869: 100%|██████████| 200/200 [00:00<00:00, 210.82it/s]\u001b[A\n"
     ]
    },
    {
     "name": "stdout",
     "output_type": "stream",
     "text": [
      "Accuracy on Model:  52.94117647058824\n",
      "Accuracy on EVAL-XG:  55.88235294117647\n"
     ]
    },
    {
     "name": "stderr",
     "output_type": "stream",
     "text": [
      "\n",
      "  0%|          | 0/200 [00:00<?, ?it/s]\u001b[A\n",
      "Explain node 1870:   0%|          | 0/200 [00:00<?, ?it/s]\u001b[A\n",
      "Explain node 1870:  10%|█         | 20/200 [00:00<00:00, 194.27it/s]\u001b[A\n",
      "Explain node 1870:  20%|██        | 40/200 [00:00<00:00, 187.99it/s]\u001b[A\n",
      "Explain node 1870:  31%|███       | 62/200 [00:00<00:00, 200.41it/s]\u001b[A\n",
      "Explain node 1870:  42%|████▏     | 83/200 [00:00<00:00, 199.21it/s]\u001b[A\n",
      "Explain node 1870:  52%|█████▏    | 104/200 [00:00<00:00, 202.45it/s]\u001b[A\n",
      "Explain node 1870:  62%|██████▎   | 125/200 [00:00<00:00, 204.34it/s]\u001b[A\n",
      "Explain node 1870:  73%|███████▎  | 146/200 [00:00<00:00, 202.35it/s]\u001b[A\n",
      "Explain node 1870:  84%|████████▎ | 167/200 [00:00<00:00, 199.36it/s]\u001b[A\n",
      "Explain node 1870: 100%|██████████| 200/200 [00:00<00:00, 200.76it/s]\u001b[A\n"
     ]
    },
    {
     "name": "stdout",
     "output_type": "stream",
     "text": [
      "Accuracy on Model:  52.63157894736842\n",
      "Accuracy on EVAL-XG:  55.55555555555556\n"
     ]
    },
    {
     "name": "stderr",
     "output_type": "stream",
     "text": [
      "\n",
      "  0%|          | 0/200 [00:00<?, ?it/s]\u001b[A\n",
      "Explain node 1871:   0%|          | 0/200 [00:00<?, ?it/s]\u001b[A\n",
      "Explain node 1871:  10%|█         | 21/200 [00:00<00:00, 200.48it/s]\u001b[A\n",
      "Explain node 1871:  21%|██        | 42/200 [00:00<00:00, 194.40it/s]\u001b[A\n",
      "Explain node 1871:  31%|███       | 62/200 [00:00<00:00, 191.26it/s]\u001b[A\n",
      "Explain node 1871:  41%|████      | 82/200 [00:00<00:00, 194.37it/s]\u001b[A\n",
      "Explain node 1871:  52%|█████▏    | 103/200 [00:00<00:00, 198.90it/s]\u001b[A\n",
      "Explain node 1871:  62%|██████▏   | 124/200 [00:00<00:00, 199.34it/s]\u001b[A\n",
      "Explain node 1871:  72%|███████▎  | 145/200 [00:00<00:00, 200.17it/s]\u001b[A\n",
      "Explain node 1871:  83%|████████▎ | 166/200 [00:00<00:00, 196.78it/s]\u001b[A\n",
      "Explain node 1871: 100%|██████████| 200/200 [00:00<00:00, 200.66it/s]\u001b[A\n"
     ]
    },
    {
     "name": "stdout",
     "output_type": "stream",
     "text": [
      "Accuracy on Model:  52.90697674418605\n",
      "Accuracy on EVAL-XG:  55.81395348837209\n"
     ]
    },
    {
     "name": "stderr",
     "output_type": "stream",
     "text": [
      "\n",
      "  0%|          | 0/200 [00:00<?, ?it/s]\u001b[A\n",
      "Explain node 1872:   0%|          | 0/200 [00:00<?, ?it/s]\u001b[A\n",
      "Explain node 1872:  11%|█         | 22/200 [00:00<00:00, 217.70it/s]\u001b[A\n",
      "Explain node 1872:  22%|██▎       | 45/200 [00:00<00:00, 219.36it/s]\u001b[A\n",
      "Explain node 1872:  34%|███▎      | 67/200 [00:00<00:00, 219.51it/s]\u001b[A\n",
      "Explain node 1872:  45%|████▌     | 90/200 [00:00<00:00, 220.44it/s]\u001b[A\n",
      "Explain node 1872:  56%|█████▋    | 113/200 [00:00<00:00, 218.28it/s]\u001b[A\n",
      "Explain node 1872:  68%|██████▊   | 135/200 [00:00<00:00, 218.36it/s]\u001b[A\n",
      "Explain node 1872:  78%|███████▊  | 157/200 [00:00<00:00, 217.58it/s]\u001b[A\n",
      "Explain node 1872: 100%|██████████| 200/200 [00:00<00:00, 216.20it/s]\u001b[A\n"
     ]
    },
    {
     "name": "stdout",
     "output_type": "stream",
     "text": [
      "Accuracy on Model:  53.179190751445084\n",
      "Accuracy on EVAL-XG:  55.49132947976878\n"
     ]
    },
    {
     "name": "stderr",
     "output_type": "stream",
     "text": [
      "\n",
      "  0%|          | 0/200 [00:00<?, ?it/s]\u001b[A\n",
      "Explain node 1873:   0%|          | 0/200 [00:00<?, ?it/s]\u001b[A\n",
      "Explain node 1873:  10%|█         | 21/200 [00:00<00:00, 206.09it/s]\u001b[A\n",
      "Explain node 1873:  22%|██▏       | 44/200 [00:00<00:00, 214.86it/s]\u001b[A\n",
      "Explain node 1873:  33%|███▎      | 66/200 [00:00<00:00, 216.84it/s]\u001b[A\n",
      "Explain node 1873:  44%|████▍     | 88/200 [00:00<00:00, 217.60it/s]\u001b[A\n",
      "Explain node 1873:  55%|█████▌    | 110/200 [00:00<00:00, 218.23it/s]\u001b[A\n",
      "Explain node 1873:  66%|██████▌   | 132/200 [00:00<00:00, 217.79it/s]\u001b[A\n",
      "Explain node 1873:  77%|███████▋  | 154/200 [00:00<00:00, 216.53it/s]\u001b[A\n",
      "Explain node 1873:  88%|████████▊ | 176/200 [00:00<00:00, 215.38it/s]\u001b[A\n",
      "Explain node 1873: 100%|██████████| 200/200 [00:00<00:00, 216.10it/s]\u001b[A\n"
     ]
    },
    {
     "name": "stdout",
     "output_type": "stream",
     "text": [
      "Accuracy on Model:  52.87356321839081\n",
      "Accuracy on EVAL-XG:  55.172413793103445\n"
     ]
    },
    {
     "name": "stderr",
     "output_type": "stream",
     "text": [
      "\n",
      "  0%|          | 0/200 [00:00<?, ?it/s]\u001b[A\n",
      "Explain node 1874:   0%|          | 0/200 [00:00<?, ?it/s]\u001b[A\n",
      "Explain node 1874:  12%|█▏        | 23/200 [00:00<00:00, 222.60it/s]\u001b[A\n",
      "Explain node 1874:  23%|██▎       | 46/200 [00:00<00:00, 217.83it/s]\u001b[A\n",
      "Explain node 1874:  34%|███▍      | 69/200 [00:00<00:00, 219.14it/s]\u001b[A\n",
      "Explain node 1874:  46%|████▌     | 91/200 [00:00<00:00, 213.41it/s]\u001b[A\n",
      "Explain node 1874:  56%|█████▋    | 113/200 [00:00<00:00, 208.68it/s]\u001b[A\n",
      "Explain node 1874:  67%|██████▋   | 134/200 [00:00<00:00, 207.40it/s]\u001b[A\n",
      "Explain node 1874:  78%|███████▊  | 156/200 [00:00<00:00, 210.35it/s]\u001b[A\n",
      "Explain node 1874:  89%|████████▉ | 178/200 [00:00<00:00, 211.71it/s]\u001b[A\n",
      "Explain node 1874: 100%|██████████| 200/200 [00:00<00:00, 212.33it/s]\u001b[A\n"
     ]
    },
    {
     "name": "stdout",
     "output_type": "stream",
     "text": [
      "Accuracy on Model:  52.57142857142857\n",
      "Accuracy on EVAL-XG:  55.42857142857143\n"
     ]
    },
    {
     "name": "stderr",
     "output_type": "stream",
     "text": [
      "\n",
      "  0%|          | 0/200 [00:00<?, ?it/s]\u001b[A\n",
      "Explain node 1875:   0%|          | 0/200 [00:00<?, ?it/s]\u001b[A\n",
      "Explain node 1875:  11%|█         | 22/200 [00:00<00:00, 217.06it/s]\u001b[A\n",
      "Explain node 1875:  22%|██▏       | 44/200 [00:00<00:00, 216.45it/s]\u001b[A\n",
      "Explain node 1875:  33%|███▎      | 66/200 [00:00<00:00, 210.93it/s]\u001b[A\n",
      "Explain node 1875:  44%|████▍     | 88/200 [00:00<00:00, 211.65it/s]\u001b[A\n",
      "Explain node 1875:  55%|█████▌    | 110/200 [00:00<00:00, 212.16it/s]\u001b[A\n",
      "Explain node 1875:  66%|██████▌   | 132/200 [00:00<00:00, 213.26it/s]\u001b[A\n",
      "Explain node 1875:  77%|███████▋  | 154/200 [00:00<00:00, 213.97it/s]\u001b[A\n",
      "Explain node 1875:  88%|████████▊ | 176/200 [00:00<00:00, 213.33it/s]\u001b[A\n",
      "Explain node 1875: 100%|██████████| 200/200 [00:00<00:00, 211.06it/s]\u001b[A\n"
     ]
    },
    {
     "name": "stdout",
     "output_type": "stream",
     "text": [
      "Accuracy on Model:  52.27272727272727\n",
      "Accuracy on EVAL-XG:  55.11363636363637\n"
     ]
    },
    {
     "name": "stderr",
     "output_type": "stream",
     "text": [
      "\n",
      "  0%|          | 0/200 [00:00<?, ?it/s]\u001b[A\n",
      "Explain node 1876:   0%|          | 0/200 [00:00<?, ?it/s]\u001b[A\n",
      "Explain node 1876:  11%|█         | 22/200 [00:00<00:00, 214.74it/s]\u001b[A\n",
      "Explain node 1876:  22%|██▏       | 44/200 [00:00<00:00, 198.32it/s]\u001b[A\n",
      "Explain node 1876:  33%|███▎      | 66/200 [00:00<00:00, 204.51it/s]\u001b[A\n",
      "Explain node 1876:  44%|████▍     | 89/200 [00:00<00:00, 210.94it/s]\u001b[A\n",
      "Explain node 1876:  56%|█████▌    | 112/200 [00:00<00:00, 214.72it/s]\u001b[A\n",
      "Explain node 1876:  68%|██████▊   | 135/200 [00:00<00:00, 216.74it/s]\u001b[A\n",
      "Explain node 1876:  78%|███████▊  | 157/200 [00:00<00:00, 217.31it/s]\u001b[A\n",
      "Explain node 1876: 100%|██████████| 200/200 [00:00<00:00, 213.90it/s]\u001b[A\n"
     ]
    },
    {
     "name": "stdout",
     "output_type": "stream",
     "text": [
      "Accuracy on Model:  52.54237288135594\n",
      "Accuracy on EVAL-XG:  55.367231638418076\n"
     ]
    },
    {
     "name": "stderr",
     "output_type": "stream",
     "text": [
      "\n",
      "  0%|          | 0/200 [00:00<?, ?it/s]\u001b[A\n",
      "Explain node 1877:   0%|          | 0/200 [00:00<?, ?it/s]\u001b[A\n",
      "Explain node 1877:  11%|█         | 22/200 [00:00<00:00, 210.48it/s]\u001b[A\n",
      "Explain node 1877:  22%|██▏       | 44/200 [00:00<00:00, 213.49it/s]\u001b[A\n",
      "Explain node 1877:  33%|███▎      | 66/200 [00:00<00:00, 216.40it/s]\u001b[A\n",
      "Explain node 1877:  44%|████▍     | 88/200 [00:00<00:00, 217.13it/s]\u001b[A\n",
      "Explain node 1877:  55%|█████▌    | 110/200 [00:00<00:00, 217.49it/s]\u001b[A\n",
      "Explain node 1877:  66%|██████▋   | 133/200 [00:00<00:00, 218.65it/s]\u001b[A\n",
      "Explain node 1877:  78%|███████▊  | 156/200 [00:00<00:00, 220.50it/s]\u001b[A\n",
      "Explain node 1877: 100%|██████████| 200/200 [00:00<00:00, 218.40it/s]\u001b[A\n"
     ]
    },
    {
     "name": "stdout",
     "output_type": "stream",
     "text": [
      "Accuracy on Model:  52.80898876404494\n",
      "Accuracy on EVAL-XG:  55.61797752808989\n"
     ]
    },
    {
     "name": "stderr",
     "output_type": "stream",
     "text": [
      "\n",
      "  0%|          | 0/200 [00:00<?, ?it/s]\u001b[A\n",
      "Explain node 1878:   0%|          | 0/200 [00:00<?, ?it/s]\u001b[A\n",
      "Explain node 1878:  12%|█▏        | 23/200 [00:00<00:00, 219.74it/s]\u001b[A\n",
      "Explain node 1878:  22%|██▎       | 45/200 [00:00<00:00, 215.95it/s]\u001b[A\n",
      "Explain node 1878:  34%|███▎      | 67/200 [00:00<00:00, 216.93it/s]\u001b[A\n",
      "Explain node 1878:  44%|████▍     | 89/200 [00:00<00:00, 206.82it/s]\u001b[A\n",
      "Explain node 1878:  55%|█████▌    | 110/200 [00:00<00:00, 201.51it/s]\u001b[A\n",
      "Explain node 1878:  66%|██████▌   | 132/200 [00:00<00:00, 206.28it/s]\u001b[A\n",
      "Explain node 1878:  78%|███████▊  | 155/200 [00:00<00:00, 210.94it/s]\u001b[A\n",
      "Explain node 1878:  88%|████████▊ | 177/200 [00:00<00:00, 212.05it/s]\u001b[A\n",
      "Explain node 1878: 100%|██████████| 200/200 [00:00<00:00, 210.83it/s]\u001b[A\n"
     ]
    },
    {
     "name": "stdout",
     "output_type": "stream",
     "text": [
      "Accuracy on Model:  53.072625698324025\n",
      "Accuracy on EVAL-XG:  55.865921787709496\n"
     ]
    },
    {
     "name": "stderr",
     "output_type": "stream",
     "text": [
      "\n",
      "  0%|          | 0/200 [00:00<?, ?it/s]\u001b[A\n",
      "Explain node 1879:   0%|          | 0/200 [00:00<?, ?it/s]\u001b[A\n",
      "Explain node 1879:  12%|█▏        | 23/200 [00:00<00:00, 221.29it/s]\u001b[A\n",
      "Explain node 1879:  23%|██▎       | 46/200 [00:00<00:00, 220.61it/s]\u001b[A\n",
      "Explain node 1879:  34%|███▍      | 69/200 [00:00<00:00, 220.06it/s]\u001b[A\n",
      "Explain node 1879:  46%|████▌     | 92/200 [00:00<00:00, 220.92it/s]\u001b[A\n",
      "Explain node 1879:  57%|█████▊    | 115/200 [00:00<00:00, 220.86it/s]\u001b[A\n",
      "Explain node 1879:  69%|██████▉   | 138/200 [00:00<00:00, 219.61it/s]\u001b[A\n",
      "Explain node 1879:  80%|████████  | 160/200 [00:00<00:00, 219.20it/s]\u001b[A\n",
      "Explain node 1879: 100%|██████████| 200/200 [00:00<00:00, 220.80it/s]\u001b[A\n"
     ]
    },
    {
     "name": "stdout",
     "output_type": "stream",
     "text": [
      "Accuracy on Model:  53.333333333333336\n",
      "Accuracy on EVAL-XG:  56.111111111111114\n"
     ]
    },
    {
     "name": "stderr",
     "output_type": "stream",
     "text": [
      "\n",
      "  0%|          | 0/200 [00:00<?, ?it/s]\u001b[A\n",
      "Explain node 1880:   0%|          | 0/200 [00:00<?, ?it/s]\u001b[A\n",
      "Explain node 1880:  12%|█▏        | 23/200 [00:00<00:00, 223.96it/s]\u001b[A\n",
      "Explain node 1880:  23%|██▎       | 46/200 [00:00<00:00, 220.12it/s]\u001b[A\n",
      "Explain node 1880:  34%|███▍      | 69/200 [00:00<00:00, 220.95it/s]\u001b[A\n",
      "Explain node 1880:  46%|████▌     | 92/200 [00:00<00:00, 216.52it/s]\u001b[A\n",
      "Explain node 1880:  57%|█████▋    | 114/200 [00:00<00:00, 216.97it/s]\u001b[A\n",
      "Explain node 1880:  68%|██████▊   | 136/200 [00:00<00:00, 216.36it/s]\u001b[A\n",
      "Explain node 1880:  79%|███████▉  | 158/200 [00:00<00:00, 216.14it/s]\u001b[A\n",
      "Explain node 1880: 100%|██████████| 200/200 [00:00<00:00, 218.12it/s]\u001b[A\n"
     ]
    },
    {
     "name": "stdout",
     "output_type": "stream",
     "text": [
      "Accuracy on Model:  53.591160220994475\n",
      "Accuracy on EVAL-XG:  56.353591160220994\n"
     ]
    },
    {
     "name": "stderr",
     "output_type": "stream",
     "text": [
      "\n",
      "  0%|          | 0/200 [00:00<?, ?it/s]\u001b[A\n",
      "Explain node 1881:   0%|          | 0/200 [00:00<?, ?it/s]\u001b[A\n",
      "Explain node 1881:  11%|█         | 22/200 [00:00<00:00, 212.39it/s]\u001b[A\n",
      "Explain node 1881:  22%|██▏       | 44/200 [00:00<00:00, 216.46it/s]\u001b[A\n",
      "Explain node 1881:  34%|███▎      | 67/200 [00:00<00:00, 218.41it/s]\u001b[A\n",
      "Explain node 1881:  44%|████▍     | 89/200 [00:00<00:00, 217.63it/s]\u001b[A\n",
      "Explain node 1881:  56%|█████▌    | 111/200 [00:00<00:00, 216.01it/s]\u001b[A\n",
      "Explain node 1881:  66%|██████▋   | 133/200 [00:00<00:00, 211.27it/s]\u001b[A\n",
      "Explain node 1881:  78%|███████▊  | 155/200 [00:00<00:00, 206.25it/s]\u001b[A\n",
      "Explain node 1881:  88%|████████▊ | 177/200 [00:00<00:00, 209.06it/s]\u001b[A\n",
      "Explain node 1881: 100%|██████████| 200/200 [00:00<00:00, 210.94it/s]\u001b[A\n"
     ]
    },
    {
     "name": "stdout",
     "output_type": "stream",
     "text": [
      "Accuracy on Model:  53.84615384615385\n",
      "Accuracy on EVAL-XG:  56.59340659340659\n"
     ]
    },
    {
     "name": "stderr",
     "output_type": "stream",
     "text": [
      "\n",
      "  0%|          | 0/200 [00:00<?, ?it/s]\u001b[A\n",
      "Explain node 1882:   0%|          | 0/200 [00:00<?, ?it/s]\u001b[A\n",
      "Explain node 1882:  10%|█         | 20/200 [00:00<00:00, 199.44it/s]\u001b[A\n",
      "Explain node 1882:  20%|██        | 41/200 [00:00<00:00, 199.62it/s]\u001b[A\n",
      "Explain node 1882:  30%|███       | 61/200 [00:00<00:00, 195.82it/s]\u001b[A\n",
      "Explain node 1882:  40%|████      | 81/200 [00:00<00:00, 196.53it/s]\u001b[A\n",
      "Explain node 1882:  51%|█████     | 102/200 [00:00<00:00, 198.54it/s]\u001b[A\n",
      "Explain node 1882:  62%|██████▏   | 124/200 [00:00<00:00, 205.25it/s]\u001b[A\n",
      "Explain node 1882:  73%|███████▎  | 146/200 [00:00<00:00, 209.37it/s]\u001b[A\n",
      "Explain node 1882:  84%|████████▍ | 168/200 [00:00<00:00, 212.64it/s]\u001b[A\n",
      "Explain node 1882: 100%|██████████| 200/200 [00:00<00:00, 208.00it/s]\u001b[A\n"
     ]
    },
    {
     "name": "stdout",
     "output_type": "stream",
     "text": [
      "Accuracy on Model:  54.09836065573771\n",
      "Accuracy on EVAL-XG:  56.830601092896174\n"
     ]
    },
    {
     "name": "stderr",
     "output_type": "stream",
     "text": [
      "\n",
      "  0%|          | 0/200 [00:00<?, ?it/s]\u001b[A\n",
      "Explain node 1883:   0%|          | 0/200 [00:00<?, ?it/s]\u001b[A\n",
      "Explain node 1883:  10%|█         | 21/200 [00:00<00:00, 207.23it/s]\u001b[A\n",
      "Explain node 1883:  22%|██▏       | 43/200 [00:00<00:00, 211.36it/s]\u001b[A\n",
      "Explain node 1883:  33%|███▎      | 66/200 [00:00<00:00, 215.69it/s]\u001b[A\n",
      "Explain node 1883:  44%|████▍     | 88/200 [00:00<00:00, 216.36it/s]\u001b[A\n",
      "Explain node 1883:  55%|█████▌    | 110/200 [00:00<00:00, 215.07it/s]\u001b[A\n",
      "Explain node 1883:  66%|██████▌   | 132/200 [00:00<00:00, 214.63it/s]\u001b[A\n",
      "Explain node 1883:  77%|███████▋  | 154/200 [00:00<00:00, 213.52it/s]\u001b[A\n",
      "Explain node 1883:  88%|████████▊ | 176/200 [00:00<00:00, 212.74it/s]\u001b[A\n",
      "Explain node 1883: 100%|██████████| 200/200 [00:00<00:00, 212.98it/s]\u001b[A\n"
     ]
    },
    {
     "name": "stdout",
     "output_type": "stream",
     "text": [
      "Accuracy on Model:  54.347826086956516\n",
      "Accuracy on EVAL-XG:  57.065217391304344\n"
     ]
    },
    {
     "name": "stderr",
     "output_type": "stream",
     "text": [
      "\n",
      "  0%|          | 0/200 [00:00<?, ?it/s]\u001b[A\n",
      "Explain node 1884:   0%|          | 0/200 [00:00<?, ?it/s]\u001b[A\n",
      "Explain node 1884:  10%|█         | 21/200 [00:00<00:00, 203.87it/s]\u001b[A\n",
      "Explain node 1884:  22%|██▏       | 43/200 [00:00<00:00, 210.34it/s]\u001b[A\n",
      "Explain node 1884:  32%|███▎      | 65/200 [00:00<00:00, 211.65it/s]\u001b[A\n",
      "Explain node 1884:  44%|████▎     | 87/200 [00:00<00:00, 214.43it/s]\u001b[A\n",
      "Explain node 1884:  55%|█████▍    | 109/200 [00:00<00:00, 208.81it/s]\u001b[A\n",
      "Explain node 1884:  66%|██████▌   | 132/200 [00:00<00:00, 213.27it/s]\u001b[A\n",
      "Explain node 1884:  77%|███████▋  | 154/200 [00:00<00:00, 213.66it/s]\u001b[A\n",
      "Explain node 1884:  88%|████████▊ | 176/200 [00:00<00:00, 214.11it/s]\u001b[A\n",
      "Explain node 1884: 100%|██████████| 200/200 [00:00<00:00, 212.89it/s]\u001b[A\n"
     ]
    },
    {
     "name": "stdout",
     "output_type": "stream",
     "text": [
      "Accuracy on Model:  54.054054054054056\n",
      "Accuracy on EVAL-XG:  56.75675675675676\n"
     ]
    },
    {
     "name": "stderr",
     "output_type": "stream",
     "text": [
      "\n",
      "  0%|          | 0/200 [00:00<?, ?it/s]\u001b[A\n",
      "Explain node 1885:   0%|          | 0/200 [00:00<?, ?it/s]\u001b[A\n",
      "Explain node 1885:  11%|█         | 22/200 [00:00<00:00, 215.14it/s]\u001b[A\n",
      "Explain node 1885:  22%|██▏       | 44/200 [00:00<00:00, 214.92it/s]\u001b[A\n",
      "Explain node 1885:  33%|███▎      | 66/200 [00:00<00:00, 213.79it/s]\u001b[A\n",
      "Explain node 1885:  44%|████▍     | 88/200 [00:00<00:00, 211.17it/s]\u001b[A\n",
      "Explain node 1885:  55%|█████▌    | 110/200 [00:00<00:00, 213.21it/s]\u001b[A\n",
      "Explain node 1885:  66%|██████▌   | 132/200 [00:00<00:00, 212.56it/s]\u001b[A\n",
      "Explain node 1885:  78%|███████▊  | 155/200 [00:00<00:00, 215.47it/s]\u001b[A\n",
      "Explain node 1885:  88%|████████▊ | 177/200 [00:00<00:00, 215.18it/s]\u001b[A\n",
      "Explain node 1885: 100%|██████████| 200/200 [00:00<00:00, 213.30it/s]\u001b[A\n"
     ]
    },
    {
     "name": "stdout",
     "output_type": "stream",
     "text": [
      "Accuracy on Model:  54.3010752688172\n",
      "Accuracy on EVAL-XG:  56.98924731182796\n"
     ]
    },
    {
     "name": "stderr",
     "output_type": "stream",
     "text": [
      "\n",
      "  0%|          | 0/200 [00:00<?, ?it/s]\u001b[A\n",
      "Explain node 1886:   0%|          | 0/200 [00:00<?, ?it/s]\u001b[A\n",
      "Explain node 1886:  11%|█         | 22/200 [00:00<00:00, 212.48it/s]\u001b[A\n",
      "Explain node 1886:  22%|██▏       | 44/200 [00:00<00:00, 211.29it/s]\u001b[A\n",
      "Explain node 1886:  33%|███▎      | 66/200 [00:00<00:00, 214.17it/s]\u001b[A\n",
      "Explain node 1886:  44%|████▍     | 88/200 [00:00<00:00, 214.56it/s]\u001b[A\n",
      "Explain node 1886:  55%|█████▌    | 110/200 [00:00<00:00, 215.26it/s]\u001b[A\n",
      "Explain node 1886:  66%|██████▋   | 133/200 [00:00<00:00, 217.53it/s]\u001b[A\n",
      "Explain node 1886:  78%|███████▊  | 155/200 [00:00<00:00, 215.70it/s]\u001b[A\n",
      "Explain node 1886:  88%|████████▊ | 177/200 [00:00<00:00, 215.80it/s]\u001b[A\n",
      "Explain node 1886: 100%|██████████| 200/200 [00:00<00:00, 214.85it/s]\u001b[A\n"
     ]
    },
    {
     "name": "stdout",
     "output_type": "stream",
     "text": [
      "Accuracy on Model:  54.54545454545454\n",
      "Accuracy on EVAL-XG:  57.21925133689839\n"
     ]
    },
    {
     "name": "stderr",
     "output_type": "stream",
     "text": [
      "\n",
      "  0%|          | 0/200 [00:00<?, ?it/s]\u001b[A\n",
      "Explain node 1887:   0%|          | 0/200 [00:00<?, ?it/s]\u001b[A\n",
      "Explain node 1887:  12%|█▏        | 23/200 [00:00<00:00, 221.85it/s]\u001b[A\n",
      "Explain node 1887:  23%|██▎       | 46/200 [00:00<00:00, 220.08it/s]\u001b[A\n",
      "Explain node 1887:  34%|███▍      | 69/200 [00:00<00:00, 219.65it/s]\u001b[A\n",
      "Explain node 1887:  46%|████▌     | 91/200 [00:00<00:00, 219.44it/s]\u001b[A\n",
      "Explain node 1887:  56%|█████▋    | 113/200 [00:00<00:00, 217.26it/s]\u001b[A\n",
      "Explain node 1887:  68%|██████▊   | 135/200 [00:00<00:00, 217.70it/s]\u001b[A\n",
      "Explain node 1887:  78%|███████▊  | 157/200 [00:00<00:00, 217.51it/s]\u001b[A\n",
      "Explain node 1887: 100%|██████████| 200/200 [00:00<00:00, 218.26it/s]\u001b[A\n"
     ]
    },
    {
     "name": "stdout",
     "output_type": "stream",
     "text": [
      "Accuracy on Model:  54.78723404255319\n",
      "Accuracy on EVAL-XG:  57.446808510638306\n"
     ]
    },
    {
     "name": "stderr",
     "output_type": "stream",
     "text": [
      "\n",
      "  0%|          | 0/200 [00:00<?, ?it/s]\u001b[A\n",
      "Explain node 1888:   0%|          | 0/200 [00:00<?, ?it/s]\u001b[A\n",
      "Explain node 1888:  11%|█         | 22/200 [00:00<00:00, 219.05it/s]\u001b[A\n",
      "Explain node 1888:  22%|██▏       | 44/200 [00:00<00:00, 215.06it/s]\u001b[A\n",
      "Explain node 1888:  33%|███▎      | 66/200 [00:00<00:00, 216.35it/s]\u001b[A\n",
      "Explain node 1888:  44%|████▍     | 88/200 [00:00<00:00, 217.44it/s]\u001b[A\n",
      "Explain node 1888:  55%|█████▌    | 110/200 [00:00<00:00, 217.39it/s]\u001b[A\n",
      "Explain node 1888:  66%|██████▌   | 132/200 [00:00<00:00, 216.82it/s]\u001b[A\n",
      "Explain node 1888:  77%|███████▋  | 154/200 [00:00<00:00, 216.78it/s]\u001b[A\n",
      "Explain node 1888:  88%|████████▊ | 176/200 [00:00<00:00, 216.40it/s]\u001b[A\n",
      "Explain node 1888: 100%|██████████| 200/200 [00:00<00:00, 214.57it/s]\u001b[A\n"
     ]
    },
    {
     "name": "stdout",
     "output_type": "stream",
     "text": [
      "Accuracy on Model:  54.4973544973545\n",
      "Accuracy on EVAL-XG:  57.14285714285714\n"
     ]
    },
    {
     "name": "stderr",
     "output_type": "stream",
     "text": [
      "\n",
      "  0%|          | 0/200 [00:00<?, ?it/s]\u001b[A\n",
      "Explain node 1889:   0%|          | 0/200 [00:00<?, ?it/s]\u001b[A\n",
      "Explain node 1889:  12%|█▏        | 23/200 [00:00<00:00, 220.70it/s]\u001b[A\n",
      "Explain node 1889:  23%|██▎       | 46/200 [00:00<00:00, 218.46it/s]\u001b[A\n",
      "Explain node 1889:  34%|███▍      | 68/200 [00:00<00:00, 216.86it/s]\u001b[A\n",
      "Explain node 1889:  45%|████▌     | 90/200 [00:00<00:00, 217.16it/s]\u001b[A\n",
      "Explain node 1889:  56%|█████▌    | 112/200 [00:00<00:00, 215.34it/s]\u001b[A\n",
      "Explain node 1889:  67%|██████▋   | 134/200 [00:00<00:00, 215.23it/s]\u001b[A\n",
      "Explain node 1889:  78%|███████▊  | 156/200 [00:00<00:00, 214.49it/s]\u001b[A\n",
      "Explain node 1889:  89%|████████▉ | 178/200 [00:00<00:00, 214.65it/s]\u001b[A\n",
      "Explain node 1889: 100%|██████████| 200/200 [00:00<00:00, 215.54it/s]\u001b[A\n"
     ]
    },
    {
     "name": "stdout",
     "output_type": "stream",
     "text": [
      "Accuracy on Model:  54.21052631578947\n",
      "Accuracy on EVAL-XG:  56.84210526315789\n"
     ]
    },
    {
     "name": "stderr",
     "output_type": "stream",
     "text": [
      "\n",
      "  0%|          | 0/200 [00:00<?, ?it/s]\u001b[A\n",
      "Explain node 1890:   0%|          | 0/200 [00:00<?, ?it/s]\u001b[A\n",
      "Explain node 1890:  11%|█         | 22/200 [00:00<00:00, 214.02it/s]\u001b[A\n",
      "Explain node 1890:  22%|██▏       | 44/200 [00:00<00:00, 214.94it/s]\u001b[A\n",
      "Explain node 1890:  33%|███▎      | 66/200 [00:00<00:00, 215.46it/s]\u001b[A\n",
      "Explain node 1890:  44%|████▍     | 89/200 [00:00<00:00, 217.31it/s]\u001b[A\n",
      "Explain node 1890:  56%|█████▌    | 111/200 [00:00<00:00, 217.76it/s]\u001b[A\n",
      "Explain node 1890:  66%|██████▋   | 133/200 [00:00<00:00, 217.96it/s]\u001b[A\n",
      "Explain node 1890:  78%|███████▊  | 155/200 [00:00<00:00, 217.50it/s]\u001b[A\n",
      "Explain node 1890:  88%|████████▊ | 177/200 [00:00<00:00, 217.79it/s]\u001b[A\n",
      "Explain node 1890: 100%|██████████| 200/200 [00:00<00:00, 216.78it/s]\u001b[A\n"
     ]
    },
    {
     "name": "stdout",
     "output_type": "stream",
     "text": [
      "Accuracy on Model:  54.45026178010471\n",
      "Accuracy on EVAL-XG:  57.06806282722513\n"
     ]
    },
    {
     "name": "stderr",
     "output_type": "stream",
     "text": [
      "\n",
      "  0%|          | 0/200 [00:00<?, ?it/s]\u001b[A\n",
      "Explain node 1891:   0%|          | 0/200 [00:00<?, ?it/s]\u001b[A\n",
      "Explain node 1891:  11%|█         | 22/200 [00:00<00:00, 218.19it/s]\u001b[A\n",
      "Explain node 1891:  22%|██▏       | 44/200 [00:00<00:00, 212.86it/s]\u001b[A\n",
      "Explain node 1891:  33%|███▎      | 66/200 [00:00<00:00, 214.83it/s]\u001b[A\n",
      "Explain node 1891:  44%|████▍     | 89/200 [00:00<00:00, 218.57it/s]\u001b[A\n",
      "Explain node 1891:  56%|█████▌    | 112/200 [00:00<00:00, 219.24it/s]\u001b[A\n",
      "Explain node 1891:  67%|██████▋   | 134/200 [00:00<00:00, 212.67it/s]\u001b[A\n",
      "Explain node 1891:  78%|███████▊  | 156/200 [00:00<00:00, 209.27it/s]\u001b[A\n",
      "Explain node 1891:  89%|████████▉ | 178/200 [00:00<00:00, 209.82it/s]\u001b[A\n",
      "Explain node 1891: 100%|██████████| 200/200 [00:00<00:00, 211.64it/s]\u001b[A\n"
     ]
    },
    {
     "name": "stdout",
     "output_type": "stream",
     "text": [
      "Accuracy on Model:  54.166666666666664\n",
      "Accuracy on EVAL-XG:  56.770833333333336\n"
     ]
    },
    {
     "name": "stderr",
     "output_type": "stream",
     "text": [
      "\n",
      "  0%|          | 0/200 [00:00<?, ?it/s]\u001b[A\n",
      "Explain node 1892:   0%|          | 0/200 [00:00<?, ?it/s]\u001b[A\n",
      "Explain node 1892:  11%|█         | 22/200 [00:00<00:00, 213.75it/s]\u001b[A\n",
      "Explain node 1892:  22%|██▏       | 44/200 [00:00<00:00, 213.97it/s]\u001b[A\n",
      "Explain node 1892:  33%|███▎      | 66/200 [00:00<00:00, 211.18it/s]\u001b[A\n",
      "Explain node 1892:  44%|████▍     | 89/200 [00:00<00:00, 217.16it/s]\u001b[A\n",
      "Explain node 1892:  56%|█████▌    | 112/200 [00:00<00:00, 220.94it/s]\u001b[A\n",
      "Explain node 1892:  68%|██████▊   | 135/200 [00:00<00:00, 222.73it/s]\u001b[A\n",
      "Explain node 1892:  79%|███████▉  | 158/200 [00:00<00:00, 222.75it/s]\u001b[A\n",
      "Explain node 1892: 100%|██████████| 200/200 [00:00<00:00, 220.68it/s]\u001b[A\n"
     ]
    },
    {
     "name": "stdout",
     "output_type": "stream",
     "text": [
      "Accuracy on Model:  54.40414507772021\n",
      "Accuracy on EVAL-XG:  56.994818652849744\n"
     ]
    },
    {
     "name": "stderr",
     "output_type": "stream",
     "text": [
      "\n",
      "  0%|          | 0/200 [00:00<?, ?it/s]\u001b[A\n",
      "Explain node 1893:   0%|          | 0/200 [00:00<?, ?it/s]\u001b[A\n",
      "Explain node 1893:  10%|█         | 21/200 [00:00<00:00, 204.06it/s]\u001b[A\n",
      "Explain node 1893:  22%|██▏       | 43/200 [00:00<00:00, 209.80it/s]\u001b[A\n",
      "Explain node 1893:  33%|███▎      | 66/200 [00:00<00:00, 214.96it/s]\u001b[A\n",
      "Explain node 1893:  44%|████▍     | 89/200 [00:00<00:00, 217.49it/s]\u001b[A\n",
      "Explain node 1893:  56%|█████▌    | 111/200 [00:00<00:00, 217.93it/s]\u001b[A\n",
      "Explain node 1893:  66%|██████▋   | 133/200 [00:00<00:00, 215.67it/s]\u001b[A\n",
      "Explain node 1893:  78%|███████▊  | 156/200 [00:00<00:00, 217.77it/s]\u001b[A\n",
      "Explain node 1893:  89%|████████▉ | 178/200 [00:00<00:00, 217.11it/s]\u001b[A\n",
      "Explain node 1893: 100%|██████████| 200/200 [00:00<00:00, 214.17it/s]\u001b[A\n"
     ]
    },
    {
     "name": "stdout",
     "output_type": "stream",
     "text": [
      "Accuracy on Model:  54.123711340206185\n",
      "Accuracy on EVAL-XG:  56.70103092783505\n"
     ]
    },
    {
     "name": "stderr",
     "output_type": "stream",
     "text": [
      "\n",
      "  0%|          | 0/200 [00:00<?, ?it/s]\u001b[A\n",
      "Explain node 1894:   0%|          | 0/200 [00:00<?, ?it/s]\u001b[A\n",
      "Explain node 1894:  11%|█         | 22/200 [00:00<00:00, 219.43it/s]\u001b[A\n",
      "Explain node 1894:  22%|██▏       | 44/200 [00:00<00:00, 217.77it/s]\u001b[A\n",
      "Explain node 1894:  34%|███▎      | 67/200 [00:00<00:00, 221.98it/s]\u001b[A\n",
      "Explain node 1894:  45%|████▌     | 90/200 [00:00<00:00, 214.88it/s]\u001b[A\n",
      "Explain node 1894:  56%|█████▌    | 112/200 [00:00<00:00, 215.54it/s]\u001b[A\n",
      "Explain node 1894:  67%|██████▋   | 134/200 [00:00<00:00, 212.22it/s]\u001b[A\n",
      "Explain node 1894:  78%|███████▊  | 157/200 [00:00<00:00, 215.77it/s]\u001b[A\n",
      "Explain node 1894: 100%|██████████| 200/200 [00:00<00:00, 215.61it/s]\u001b[A\n"
     ]
    },
    {
     "name": "stdout",
     "output_type": "stream",
     "text": [
      "Accuracy on Model:  54.35897435897436\n",
      "Accuracy on EVAL-XG:  56.92307692307692\n"
     ]
    },
    {
     "name": "stderr",
     "output_type": "stream",
     "text": [
      "\n",
      "  0%|          | 0/200 [00:00<?, ?it/s]\u001b[A\n",
      "Explain node 1895:   0%|          | 0/200 [00:00<?, ?it/s]\u001b[A\n",
      "Explain node 1895:  12%|█▏        | 23/200 [00:00<00:00, 222.48it/s]\u001b[A\n",
      "Explain node 1895:  23%|██▎       | 46/200 [00:00<00:00, 222.17it/s]\u001b[A\n",
      "Explain node 1895:  34%|███▍      | 69/200 [00:00<00:00, 215.07it/s]\u001b[A\n",
      "Explain node 1895:  46%|████▌     | 91/200 [00:00<00:00, 214.87it/s]\u001b[A\n",
      "Explain node 1895:  56%|█████▋    | 113/200 [00:00<00:00, 214.24it/s]\u001b[A\n",
      "Explain node 1895:  68%|██████▊   | 136/200 [00:00<00:00, 216.99it/s]\u001b[A\n",
      "Explain node 1895:  80%|███████▉  | 159/200 [00:00<00:00, 218.46it/s]\u001b[A\n",
      "Explain node 1895: 100%|██████████| 200/200 [00:00<00:00, 217.35it/s]\u001b[A\n"
     ]
    },
    {
     "name": "stdout",
     "output_type": "stream",
     "text": [
      "Accuracy on Model:  54.08163265306123\n",
      "Accuracy on EVAL-XG:  56.63265306122449\n"
     ]
    },
    {
     "name": "stderr",
     "output_type": "stream",
     "text": [
      "\n",
      "  0%|          | 0/200 [00:00<?, ?it/s]\u001b[A\n",
      "Explain node 1896:   0%|          | 0/200 [00:00<?, ?it/s]\u001b[A\n",
      "Explain node 1896:  10%|█         | 20/200 [00:00<00:00, 198.63it/s]\u001b[A\n",
      "Explain node 1896:  20%|██        | 40/200 [00:00<00:00, 199.19it/s]\u001b[A\n",
      "Explain node 1896:  32%|███▏      | 63/200 [00:00<00:00, 209.12it/s]\u001b[A\n",
      "Explain node 1896:  42%|████▏     | 84/200 [00:00<00:00, 209.41it/s]\u001b[A\n",
      "Explain node 1896:  54%|█████▎    | 107/200 [00:00<00:00, 214.11it/s]\u001b[A\n",
      "Explain node 1896:  64%|██████▍   | 129/200 [00:00<00:00, 215.45it/s]\u001b[A\n",
      "Explain node 1896:  76%|███████▌  | 152/200 [00:00<00:00, 216.96it/s]\u001b[A\n",
      "Explain node 1896:  88%|████████▊ | 175/200 [00:00<00:00, 218.26it/s]\u001b[A\n",
      "Explain node 1896: 100%|██████████| 200/200 [00:00<00:00, 212.53it/s]\u001b[A\n"
     ]
    },
    {
     "name": "stdout",
     "output_type": "stream",
     "text": [
      "Accuracy on Model:  54.314720812182735\n",
      "Accuracy on EVAL-XG:  56.852791878172596\n"
     ]
    },
    {
     "name": "stderr",
     "output_type": "stream",
     "text": [
      "\n",
      "  0%|          | 0/200 [00:00<?, ?it/s]\u001b[A\n",
      "Explain node 1897:   0%|          | 0/200 [00:00<?, ?it/s]\u001b[A\n",
      "Explain node 1897:  11%|█         | 22/200 [00:00<00:00, 217.58it/s]\u001b[A\n",
      "Explain node 1897:  22%|██▏       | 44/200 [00:00<00:00, 201.14it/s]\u001b[A\n",
      "Explain node 1897:  32%|███▎      | 65/200 [00:00<00:00, 199.53it/s]\u001b[A\n",
      "Explain node 1897:  42%|████▎     | 85/200 [00:00<00:00, 199.47it/s]\u001b[A\n",
      "Explain node 1897:  52%|█████▎    | 105/200 [00:00<00:00, 199.42it/s]\u001b[A\n",
      "Explain node 1897:  62%|██████▎   | 125/200 [00:00<00:00, 198.24it/s]\u001b[A\n",
      "Explain node 1897:  72%|███████▎  | 145/200 [00:00<00:00, 196.29it/s]\u001b[A\n",
      "Explain node 1897:  82%|████████▎ | 165/200 [00:00<00:00, 194.93it/s]\u001b[A\n",
      "Explain node 1897: 100%|██████████| 200/200 [00:01<00:00, 197.43it/s]\u001b[A\n"
     ]
    },
    {
     "name": "stdout",
     "output_type": "stream",
     "text": [
      "Accuracy on Model:  54.04040404040404\n",
      "Accuracy on EVAL-XG:  56.56565656565656\n"
     ]
    },
    {
     "name": "stderr",
     "output_type": "stream",
     "text": [
      "\n",
      "  0%|          | 0/200 [00:00<?, ?it/s]\u001b[A\n",
      "Explain node 1898:   0%|          | 0/200 [00:00<?, ?it/s]\u001b[A\n",
      "Explain node 1898:  10%|▉         | 19/200 [00:00<00:00, 185.70it/s]\u001b[A\n",
      "Explain node 1898:  19%|█▉        | 38/200 [00:00<00:00, 183.71it/s]\u001b[A\n",
      "Explain node 1898:  29%|██▉       | 58/200 [00:00<00:00, 187.77it/s]\u001b[A\n",
      "Explain node 1898:  40%|███▉      | 79/200 [00:00<00:00, 192.88it/s]\u001b[A\n",
      "Explain node 1898:  50%|████▉     | 99/200 [00:00<00:00, 195.22it/s]\u001b[A\n",
      "Explain node 1898:  60%|██████    | 120/200 [00:00<00:00, 196.88it/s]\u001b[A\n",
      "Explain node 1898:  70%|███████   | 141/200 [00:00<00:00, 199.31it/s]\u001b[A\n",
      "Explain node 1898:  80%|████████  | 161/200 [00:00<00:00, 199.12it/s]\u001b[A\n",
      "Explain node 1898: 100%|██████████| 200/200 [00:01<00:00, 196.34it/s]\u001b[A\n"
     ]
    },
    {
     "name": "stdout",
     "output_type": "stream",
     "text": [
      "Accuracy on Model:  54.2713567839196\n",
      "Accuracy on EVAL-XG:  56.78391959798995\n"
     ]
    },
    {
     "name": "stderr",
     "output_type": "stream",
     "text": [
      "\n",
      "  0%|          | 0/200 [00:00<?, ?it/s]\u001b[A\n",
      "Explain node 1899:   0%|          | 0/200 [00:00<?, ?it/s]\u001b[A\n",
      "Explain node 1899:  10%|▉         | 19/200 [00:00<00:00, 186.49it/s]\u001b[A\n",
      "Explain node 1899:  20%|█▉        | 39/200 [00:00<00:00, 191.13it/s]\u001b[A\n",
      "Explain node 1899:  30%|██▉       | 59/200 [00:00<00:00, 194.72it/s]\u001b[A\n",
      "Explain node 1899:  40%|███▉      | 79/200 [00:00<00:00, 196.18it/s]\u001b[A\n",
      "Explain node 1899:  50%|█████     | 100/200 [00:00<00:00, 198.52it/s]\u001b[A\n",
      "Explain node 1899:  60%|██████    | 121/200 [00:00<00:00, 200.71it/s]\u001b[A\n",
      "Explain node 1899:  71%|███████   | 142/200 [00:00<00:00, 198.08it/s]\u001b[A\n",
      "Explain node 1899:  82%|████████▏ | 163/200 [00:00<00:00, 199.26it/s]\u001b[A\n",
      "Explain node 1899: 100%|██████████| 200/200 [00:01<00:00, 197.82it/s]\u001b[A\n"
     ]
    },
    {
     "name": "stdout",
     "output_type": "stream",
     "text": [
      "Accuracy on Model:  54.50000000000001\n",
      "Accuracy on EVAL-XG:  56.99999999999999\n"
     ]
    },
    {
     "name": "stderr",
     "output_type": "stream",
     "text": [
      "\n",
      "  0%|          | 0/200 [00:00<?, ?it/s]\u001b[A\n",
      "Explain node 1900:   0%|          | 0/200 [00:00<?, ?it/s]\u001b[A\n",
      "Explain node 1900:  10%|█         | 21/200 [00:00<00:00, 205.18it/s]\u001b[A\n",
      "Explain node 1900:  21%|██        | 42/200 [00:00<00:00, 204.06it/s]\u001b[A\n",
      "Explain node 1900:  32%|███▏      | 63/200 [00:00<00:00, 205.76it/s]\u001b[A\n",
      "Explain node 1900:  42%|████▎     | 85/200 [00:00<00:00, 207.72it/s]\u001b[A\n",
      "Explain node 1900:  53%|█████▎    | 106/200 [00:00<00:00, 204.33it/s]\u001b[A\n",
      "Explain node 1900:  64%|██████▎   | 127/200 [00:00<00:00, 205.53it/s]\u001b[A\n",
      "Explain node 1900:  74%|███████▍  | 149/200 [00:00<00:00, 208.06it/s]\u001b[A\n",
      "Explain node 1900:  85%|████████▌ | 170/200 [00:00<00:00, 205.97it/s]\u001b[A\n",
      "Explain node 1900: 100%|██████████| 200/200 [00:00<00:00, 206.06it/s]\u001b[A\n"
     ]
    },
    {
     "name": "stdout",
     "output_type": "stream",
     "text": [
      "Accuracy on Model:  54.72636815920397\n",
      "Accuracy on EVAL-XG:  57.2139303482587\n"
     ]
    },
    {
     "name": "stderr",
     "output_type": "stream",
     "text": [
      "\n",
      "  0%|          | 0/200 [00:00<?, ?it/s]\u001b[A\n",
      "Explain node 1901:   0%|          | 0/200 [00:00<?, ?it/s]\u001b[A\n",
      "Explain node 1901:  10%|█         | 21/200 [00:00<00:00, 208.27it/s]\u001b[A\n",
      "Explain node 1901:  21%|██        | 42/200 [00:00<00:00, 202.35it/s]\u001b[A\n",
      "Explain node 1901:  32%|███▏      | 63/200 [00:00<00:00, 202.53it/s]\u001b[A\n",
      "Explain node 1901:  42%|████▏     | 84/200 [00:00<00:00, 204.84it/s]\u001b[A\n",
      "Explain node 1901:  53%|█████▎    | 106/200 [00:00<00:00, 209.58it/s]\u001b[A\n",
      "Explain node 1901:  64%|██████▍   | 129/200 [00:00<00:00, 213.34it/s]\u001b[A\n",
      "Explain node 1901:  76%|███████▌  | 152/200 [00:00<00:00, 215.88it/s]\u001b[A\n",
      "Explain node 1901:  87%|████████▋ | 174/200 [00:00<00:00, 216.37it/s]\u001b[A\n",
      "Explain node 1901: 100%|██████████| 200/200 [00:00<00:00, 212.13it/s]\u001b[A\n"
     ]
    },
    {
     "name": "stdout",
     "output_type": "stream",
     "text": [
      "Accuracy on Model:  54.45544554455446\n",
      "Accuracy on EVAL-XG:  56.930693069306926\n"
     ]
    },
    {
     "name": "stderr",
     "output_type": "stream",
     "text": [
      "\n",
      "  0%|          | 0/200 [00:00<?, ?it/s]\u001b[A\n",
      "Explain node 1902:   0%|          | 0/200 [00:00<?, ?it/s]\u001b[A\n",
      "Explain node 1902:  11%|█         | 22/200 [00:00<00:00, 215.19it/s]\u001b[A\n",
      "Explain node 1902:  22%|██▏       | 44/200 [00:00<00:00, 217.88it/s]\u001b[A\n",
      "Explain node 1902:  34%|███▎      | 67/200 [00:00<00:00, 220.34it/s]\u001b[A\n",
      "Explain node 1902:  45%|████▌     | 90/200 [00:00<00:00, 215.48it/s]\u001b[A\n",
      "Explain node 1902:  56%|█████▌    | 112/200 [00:00<00:00, 210.36it/s]\u001b[A\n",
      "Explain node 1902:  67%|██████▋   | 134/200 [00:00<00:00, 209.40it/s]\u001b[A\n",
      "Explain node 1902:  78%|███████▊  | 156/200 [00:00<00:00, 211.82it/s]\u001b[A\n",
      "Explain node 1902: 100%|██████████| 200/200 [00:00<00:00, 214.70it/s]\u001b[A\n"
     ]
    },
    {
     "name": "stdout",
     "output_type": "stream",
     "text": [
      "Accuracy on Model:  54.679802955665025\n",
      "Accuracy on EVAL-XG:  57.14285714285714\n"
     ]
    },
    {
     "name": "stderr",
     "output_type": "stream",
     "text": [
      "\n",
      "  0%|          | 0/200 [00:00<?, ?it/s]\u001b[A\n",
      "Explain node 1903:   0%|          | 0/200 [00:00<?, ?it/s]\u001b[A\n",
      "Explain node 1903:  11%|█         | 22/200 [00:00<00:00, 219.35it/s]\u001b[A\n",
      "Explain node 1903:  22%|██▏       | 44/200 [00:00<00:00, 216.95it/s]\u001b[A\n",
      "Explain node 1903:  33%|███▎      | 66/200 [00:00<00:00, 215.25it/s]\u001b[A\n",
      "Explain node 1903:  44%|████▍     | 89/200 [00:00<00:00, 217.87it/s]\u001b[A\n",
      "Explain node 1903:  56%|█████▌    | 112/200 [00:00<00:00, 219.13it/s]\u001b[A\n",
      "Explain node 1903:  68%|██████▊   | 135/200 [00:00<00:00, 221.43it/s]\u001b[A\n",
      "Explain node 1903:  79%|███████▉  | 158/200 [00:00<00:00, 220.52it/s]\u001b[A\n",
      "Explain node 1903: 100%|██████████| 200/200 [00:00<00:00, 218.98it/s]\u001b[A\n"
     ]
    },
    {
     "name": "stdout",
     "output_type": "stream",
     "text": [
      "Accuracy on Model:  54.41176470588235\n",
      "Accuracy on EVAL-XG:  56.86274509803921\n"
     ]
    },
    {
     "name": "stderr",
     "output_type": "stream",
     "text": [
      "\n",
      "  0%|          | 0/200 [00:00<?, ?it/s]\u001b[A\n",
      "Explain node 1904:   0%|          | 0/200 [00:00<?, ?it/s]\u001b[A\n",
      "Explain node 1904:  11%|█         | 22/200 [00:00<00:00, 218.22it/s]\u001b[A\n",
      "Explain node 1904:  22%|██▏       | 44/200 [00:00<00:00, 218.72it/s]\u001b[A\n",
      "Explain node 1904:  34%|███▎      | 67/200 [00:00<00:00, 220.53it/s]\u001b[A\n",
      "Explain node 1904:  45%|████▌     | 90/200 [00:00<00:00, 220.26it/s]\u001b[A\n",
      "Explain node 1904:  56%|█████▋    | 113/200 [00:00<00:00, 220.04it/s]\u001b[A\n",
      "Explain node 1904:  68%|██████▊   | 136/200 [00:00<00:00, 218.99it/s]\u001b[A\n",
      "Explain node 1904:  79%|███████▉  | 158/200 [00:00<00:00, 215.55it/s]\u001b[A\n",
      "Explain node 1904: 100%|██████████| 200/200 [00:00<00:00, 217.73it/s]\u001b[A\n"
     ]
    },
    {
     "name": "stdout",
     "output_type": "stream",
     "text": [
      "Accuracy on Model:  54.146341463414636\n",
      "Accuracy on EVAL-XG:  56.58536585365853\n"
     ]
    },
    {
     "name": "stderr",
     "output_type": "stream",
     "text": [
      "\n",
      "  0%|          | 0/200 [00:00<?, ?it/s]\u001b[A\n",
      "Explain node 1905:   0%|          | 0/200 [00:00<?, ?it/s]\u001b[A\n",
      "Explain node 1905:  11%|█         | 22/200 [00:00<00:00, 213.03it/s]\u001b[A\n",
      "Explain node 1905:  22%|██▏       | 44/200 [00:00<00:00, 202.77it/s]\u001b[A\n",
      "Explain node 1905:  33%|███▎      | 66/200 [00:00<00:00, 206.72it/s]\u001b[A\n",
      "Explain node 1905:  44%|████▍     | 88/200 [00:00<00:00, 209.09it/s]\u001b[A\n",
      "Explain node 1905:  56%|█████▌    | 111/200 [00:00<00:00, 213.54it/s]\u001b[A\n",
      "Explain node 1905:  66%|██████▋   | 133/200 [00:00<00:00, 213.43it/s]\u001b[A\n",
      "Explain node 1905:  78%|███████▊  | 155/200 [00:00<00:00, 212.15it/s]\u001b[A\n",
      "Explain node 1905:  88%|████████▊ | 177/200 [00:00<00:00, 212.95it/s]\u001b[A\n",
      "Explain node 1905: 100%|██████████| 200/200 [00:00<00:00, 211.37it/s]\u001b[A\n"
     ]
    },
    {
     "name": "stdout",
     "output_type": "stream",
     "text": [
      "Accuracy on Model:  54.36893203883495\n",
      "Accuracy on EVAL-XG:  56.79611650485437\n"
     ]
    },
    {
     "name": "stderr",
     "output_type": "stream",
     "text": [
      "\n",
      "  0%|          | 0/200 [00:00<?, ?it/s]\u001b[A\n",
      "Explain node 1906:   0%|          | 0/200 [00:00<?, ?it/s]\u001b[A\n",
      "Explain node 1906:  10%|█         | 20/200 [00:00<00:00, 197.66it/s]\u001b[A\n",
      "Explain node 1906:  21%|██        | 42/200 [00:00<00:00, 210.22it/s]\u001b[A\n",
      "Explain node 1906:  32%|███▏      | 64/200 [00:00<00:00, 211.12it/s]\u001b[A\n",
      "Explain node 1906:  43%|████▎     | 86/200 [00:00<00:00, 214.24it/s]\u001b[A\n",
      "Explain node 1906:  54%|█████▍    | 108/200 [00:00<00:00, 215.62it/s]\u001b[A\n",
      "Explain node 1906:  66%|██████▌   | 131/200 [00:00<00:00, 217.32it/s]\u001b[A\n",
      "Explain node 1906:  77%|███████▋  | 154/200 [00:00<00:00, 218.28it/s]\u001b[A\n",
      "Explain node 1906:  88%|████████▊ | 176/200 [00:00<00:00, 217.91it/s]\u001b[A\n",
      "Explain node 1906: 100%|██████████| 200/200 [00:00<00:00, 215.38it/s]\u001b[A\n"
     ]
    },
    {
     "name": "stdout",
     "output_type": "stream",
     "text": [
      "Accuracy on Model:  54.589371980676326\n",
      "Accuracy on EVAL-XG:  57.00483091787439\n"
     ]
    },
    {
     "name": "stderr",
     "output_type": "stream",
     "text": [
      "\n",
      "  0%|          | 0/200 [00:00<?, ?it/s]\u001b[A\n",
      "Explain node 1907:   0%|          | 0/200 [00:00<?, ?it/s]\u001b[A\n",
      "Explain node 1907:  11%|█         | 22/200 [00:00<00:00, 218.33it/s]\u001b[A\n",
      "Explain node 1907:  22%|██▏       | 44/200 [00:00<00:00, 217.70it/s]\u001b[A\n",
      "Explain node 1907:  33%|███▎      | 66/200 [00:00<00:00, 215.82it/s]\u001b[A\n",
      "Explain node 1907:  44%|████▍     | 88/200 [00:00<00:00, 216.47it/s]\u001b[A\n",
      "Explain node 1907:  55%|█████▌    | 110/200 [00:00<00:00, 215.79it/s]\u001b[A\n",
      "Explain node 1907:  66%|██████▌   | 132/200 [00:00<00:00, 212.46it/s]\u001b[A\n",
      "Explain node 1907:  78%|███████▊  | 155/200 [00:00<00:00, 215.19it/s]\u001b[A\n",
      "Explain node 1907:  88%|████████▊ | 177/200 [00:00<00:00, 216.56it/s]\u001b[A\n",
      "Explain node 1907: 100%|██████████| 200/200 [00:00<00:00, 215.87it/s]\u001b[A\n"
     ]
    },
    {
     "name": "stdout",
     "output_type": "stream",
     "text": [
      "Accuracy on Model:  54.32692307692307\n",
      "Accuracy on EVAL-XG:  56.730769230769226\n"
     ]
    },
    {
     "name": "stderr",
     "output_type": "stream",
     "text": [
      "\n",
      "  0%|          | 0/200 [00:00<?, ?it/s]\u001b[A\n",
      "Explain node 1908:   0%|          | 0/200 [00:00<?, ?it/s]\u001b[A\n",
      "Explain node 1908:  10%|█         | 21/200 [00:00<00:00, 209.44it/s]\u001b[A\n",
      "Explain node 1908:  22%|██▏       | 43/200 [00:00<00:00, 212.31it/s]\u001b[A\n",
      "Explain node 1908:  32%|███▎      | 65/200 [00:00<00:00, 212.55it/s]\u001b[A\n",
      "Explain node 1908:  44%|████▍     | 88/200 [00:00<00:00, 216.97it/s]\u001b[A\n",
      "Explain node 1908:  55%|█████▌    | 110/200 [00:00<00:00, 217.75it/s]\u001b[A\n",
      "Explain node 1908:  66%|██████▌   | 132/200 [00:00<00:00, 215.94it/s]\u001b[A\n",
      "Explain node 1908:  77%|███████▋  | 154/200 [00:00<00:00, 215.79it/s]\u001b[A\n",
      "Explain node 1908:  88%|████████▊ | 176/200 [00:00<00:00, 209.79it/s]\u001b[A\n",
      "Explain node 1908: 100%|██████████| 200/200 [00:00<00:00, 212.79it/s]\u001b[A\n"
     ]
    },
    {
     "name": "stdout",
     "output_type": "stream",
     "text": [
      "Accuracy on Model:  54.54545454545454\n",
      "Accuracy on EVAL-XG:  56.9377990430622\n"
     ]
    },
    {
     "name": "stderr",
     "output_type": "stream",
     "text": [
      "\n",
      "  0%|          | 0/200 [00:00<?, ?it/s]\u001b[A\n",
      "Explain node 1909:   0%|          | 0/200 [00:00<?, ?it/s]\u001b[A\n",
      "Explain node 1909:  10%|█         | 21/200 [00:00<00:00, 204.48it/s]\u001b[A\n",
      "Explain node 1909:  21%|██        | 42/200 [00:00<00:00, 203.13it/s]\u001b[A\n",
      "Explain node 1909:  32%|███▏      | 63/200 [00:00<00:00, 199.82it/s]\u001b[A\n",
      "Explain node 1909:  42%|████▎     | 85/200 [00:00<00:00, 204.33it/s]\u001b[A\n",
      "Explain node 1909:  53%|█████▎    | 106/200 [00:00<00:00, 205.26it/s]\u001b[A\n",
      "Explain node 1909:  64%|██████▍   | 128/200 [00:00<00:00, 208.74it/s]\u001b[A\n",
      "Explain node 1909:  74%|███████▍  | 149/200 [00:00<00:00, 208.12it/s]\u001b[A\n",
      "Explain node 1909:  86%|████████▌ | 172/200 [00:00<00:00, 212.19it/s]\u001b[A\n",
      "Explain node 1909: 100%|██████████| 200/200 [00:00<00:00, 208.95it/s]\u001b[A\n"
     ]
    },
    {
     "name": "stdout",
     "output_type": "stream",
     "text": [
      "Accuracy on Model:  54.285714285714285\n",
      "Accuracy on EVAL-XG:  57.14285714285714\n"
     ]
    },
    {
     "name": "stderr",
     "output_type": "stream",
     "text": [
      "\n",
      "  0%|          | 0/200 [00:00<?, ?it/s]\u001b[A\n",
      "Explain node 1910:   0%|          | 0/200 [00:00<?, ?it/s]\u001b[A\n",
      "Explain node 1910:  11%|█         | 22/200 [00:00<00:00, 215.05it/s]\u001b[A\n",
      "Explain node 1910:  22%|██▏       | 44/200 [00:00<00:00, 207.28it/s]\u001b[A\n",
      "Explain node 1910:  32%|███▎      | 65/200 [00:00<00:00, 208.28it/s]\u001b[A\n",
      "Explain node 1910:  43%|████▎     | 86/200 [00:00<00:00, 202.24it/s]\u001b[A\n",
      "Explain node 1910:  54%|█████▎    | 107/200 [00:00<00:00, 199.52it/s]\u001b[A\n",
      "Explain node 1910:  64%|██████▍   | 128/200 [00:00<00:00, 202.93it/s]\u001b[A\n",
      "Explain node 1910:  75%|███████▌  | 150/200 [00:00<00:00, 207.27it/s]\u001b[A\n",
      "Explain node 1910:  86%|████████▌ | 172/200 [00:00<00:00, 209.41it/s]\u001b[A\n",
      "Explain node 1910: 100%|██████████| 200/200 [00:00<00:00, 206.35it/s]\u001b[A\n"
     ]
    },
    {
     "name": "stdout",
     "output_type": "stream",
     "text": [
      "Accuracy on Model:  54.02843601895735\n",
      "Accuracy on EVAL-XG:  56.872037914691944\n"
     ]
    },
    {
     "name": "stderr",
     "output_type": "stream",
     "text": [
      "\n",
      "  0%|          | 0/200 [00:00<?, ?it/s]\u001b[A\n",
      "Explain node 1911:   0%|          | 0/200 [00:00<?, ?it/s]\u001b[A\n",
      "Explain node 1911:  11%|█         | 22/200 [00:00<00:00, 218.33it/s]\u001b[A\n",
      "Explain node 1911:  22%|██▏       | 44/200 [00:00<00:00, 210.27it/s]\u001b[A\n",
      "Explain node 1911:  33%|███▎      | 66/200 [00:00<00:00, 210.26it/s]\u001b[A\n",
      "Explain node 1911:  44%|████▍     | 89/200 [00:00<00:00, 215.05it/s]\u001b[A\n",
      "Explain node 1911:  56%|█████▌    | 111/200 [00:00<00:00, 216.36it/s]\u001b[A\n",
      "Explain node 1911:  66%|██████▋   | 133/200 [00:00<00:00, 210.50it/s]\u001b[A\n",
      "Explain node 1911:  78%|███████▊  | 156/200 [00:00<00:00, 214.61it/s]\u001b[A\n",
      "Explain node 1911: 100%|██████████| 200/200 [00:00<00:00, 215.03it/s]\u001b[A\n"
     ]
    },
    {
     "name": "stdout",
     "output_type": "stream",
     "text": [
      "Accuracy on Model:  53.77358490566038\n",
      "Accuracy on EVAL-XG:  57.07547169811321\n"
     ]
    },
    {
     "name": "stderr",
     "output_type": "stream",
     "text": [
      "\n",
      "  0%|          | 0/200 [00:00<?, ?it/s]\u001b[A\n",
      "Explain node 1912:   0%|          | 0/200 [00:00<?, ?it/s]\u001b[A\n",
      "Explain node 1912:  10%|█         | 21/200 [00:00<00:00, 204.25it/s]\u001b[A\n",
      "Explain node 1912:  21%|██        | 42/200 [00:00<00:00, 204.47it/s]\u001b[A\n",
      "Explain node 1912:  32%|███▎      | 65/200 [00:00<00:00, 212.59it/s]\u001b[A\n",
      "Explain node 1912:  44%|████▎     | 87/200 [00:00<00:00, 214.89it/s]\u001b[A\n",
      "Explain node 1912:  55%|█████▍    | 109/200 [00:00<00:00, 214.96it/s]\u001b[A\n",
      "Explain node 1912:  66%|██████▌   | 131/200 [00:00<00:00, 216.03it/s]\u001b[A\n",
      "Explain node 1912:  77%|███████▋  | 154/200 [00:00<00:00, 218.17it/s]\u001b[A\n",
      "Explain node 1912:  88%|████████▊ | 176/200 [00:00<00:00, 218.41it/s]\u001b[A\n",
      "Explain node 1912: 100%|██████████| 200/200 [00:00<00:00, 215.39it/s]\u001b[A\n"
     ]
    },
    {
     "name": "stdout",
     "output_type": "stream",
     "text": [
      "Accuracy on Model:  53.52112676056338\n",
      "Accuracy on EVAL-XG:  57.27699530516433\n"
     ]
    },
    {
     "name": "stderr",
     "output_type": "stream",
     "text": [
      "\n",
      "  0%|          | 0/200 [00:00<?, ?it/s]\u001b[A\n",
      "Explain node 1913:   0%|          | 0/200 [00:00<?, ?it/s]\u001b[A\n",
      "Explain node 1913:  12%|█▏        | 23/200 [00:00<00:00, 222.45it/s]\u001b[A\n",
      "Explain node 1913:  23%|██▎       | 46/200 [00:00<00:00, 221.16it/s]\u001b[A\n",
      "Explain node 1913:  34%|███▍      | 69/200 [00:00<00:00, 211.90it/s]\u001b[A\n",
      "Explain node 1913:  46%|████▌     | 91/200 [00:00<00:00, 205.00it/s]\u001b[A\n",
      "Explain node 1913:  57%|█████▋    | 114/200 [00:00<00:00, 210.44it/s]\u001b[A\n",
      "Explain node 1913:  68%|██████▊   | 136/200 [00:00<00:00, 213.48it/s]\u001b[A\n",
      "Explain node 1913:  79%|███████▉  | 158/200 [00:00<00:00, 213.85it/s]\u001b[A\n",
      "Explain node 1913: 100%|██████████| 200/200 [00:00<00:00, 211.65it/s]\u001b[A\n"
     ]
    },
    {
     "name": "stdout",
     "output_type": "stream",
     "text": [
      "Accuracy on Model:  53.271028037383175\n",
      "Accuracy on EVAL-XG:  57.009345794392516\n"
     ]
    },
    {
     "name": "stderr",
     "output_type": "stream",
     "text": [
      "\n",
      "  0%|          | 0/200 [00:00<?, ?it/s]\u001b[A\n",
      "Explain node 1914:   0%|          | 0/200 [00:00<?, ?it/s]\u001b[A\n",
      "Explain node 1914:  11%|█         | 22/200 [00:00<00:00, 217.86it/s]\u001b[A\n",
      "Explain node 1914:  22%|██▏       | 44/200 [00:00<00:00, 215.92it/s]\u001b[A\n",
      "Explain node 1914:  34%|███▎      | 67/200 [00:00<00:00, 218.63it/s]\u001b[A\n",
      "Explain node 1914:  44%|████▍     | 89/200 [00:00<00:00, 217.92it/s]\u001b[A\n",
      "Explain node 1914:  56%|█████▌    | 112/200 [00:00<00:00, 218.67it/s]\u001b[A\n",
      "Explain node 1914:  67%|██████▋   | 134/200 [00:00<00:00, 217.56it/s]\u001b[A\n",
      "Explain node 1914:  78%|███████▊  | 156/200 [00:00<00:00, 217.05it/s]\u001b[A\n",
      "Explain node 1914: 100%|██████████| 200/200 [00:00<00:00, 217.25it/s]\u001b[A\n"
     ]
    },
    {
     "name": "stdout",
     "output_type": "stream",
     "text": [
      "Accuracy on Model:  53.48837209302325\n",
      "Accuracy on EVAL-XG:  57.20930232558139\n"
     ]
    },
    {
     "name": "stderr",
     "output_type": "stream",
     "text": [
      "\n",
      "  0%|          | 0/200 [00:00<?, ?it/s]\u001b[A\n",
      "Explain node 1915:   0%|          | 0/200 [00:00<?, ?it/s]\u001b[A\n",
      "Explain node 1915:  11%|█         | 22/200 [00:00<00:00, 218.56it/s]\u001b[A\n",
      "Explain node 1915:  22%|██▏       | 44/200 [00:00<00:00, 201.28it/s]\u001b[A\n",
      "Explain node 1915:  32%|███▎      | 65/200 [00:00<00:00, 202.44it/s]\u001b[A\n",
      "Explain node 1915:  44%|████▎     | 87/200 [00:00<00:00, 207.42it/s]\u001b[A\n",
      "Explain node 1915:  54%|█████▍    | 108/200 [00:00<00:00, 206.85it/s]\u001b[A\n",
      "Explain node 1915:  66%|██████▌   | 131/200 [00:00<00:00, 211.68it/s]\u001b[A\n",
      "Explain node 1915:  76%|███████▋  | 153/200 [00:00<00:00, 203.24it/s]\u001b[A\n",
      "Explain node 1915:  87%|████████▋ | 174/200 [00:00<00:00, 197.84it/s]\u001b[A\n",
      "Explain node 1915: 100%|██████████| 200/200 [00:00<00:00, 201.28it/s]\u001b[A\n"
     ]
    },
    {
     "name": "stdout",
     "output_type": "stream",
     "text": [
      "Accuracy on Model:  53.70370370370371\n",
      "Accuracy on EVAL-XG:  57.407407407407405\n"
     ]
    },
    {
     "name": "stderr",
     "output_type": "stream",
     "text": [
      "\n",
      "  0%|          | 0/200 [00:00<?, ?it/s]\u001b[A\n",
      "Explain node 1916:   0%|          | 0/200 [00:00<?, ?it/s]\u001b[A\n",
      "Explain node 1916:  11%|█         | 22/200 [00:00<00:00, 213.64it/s]\u001b[A\n",
      "Explain node 1916:  22%|██▏       | 44/200 [00:00<00:00, 216.64it/s]\u001b[A\n",
      "Explain node 1916:  34%|███▎      | 67/200 [00:00<00:00, 219.31it/s]\u001b[A\n",
      "Explain node 1916:  44%|████▍     | 89/200 [00:00<00:00, 211.62it/s]\u001b[A\n",
      "Explain node 1916:  56%|█████▌    | 111/200 [00:00<00:00, 211.50it/s]\u001b[A\n",
      "Explain node 1916:  66%|██████▋   | 133/200 [00:00<00:00, 212.09it/s]\u001b[A\n",
      "Explain node 1916:  78%|███████▊  | 155/200 [00:00<00:00, 204.37it/s]\u001b[A\n",
      "Explain node 1916:  88%|████████▊ | 177/200 [00:00<00:00, 207.29it/s]\u001b[A\n",
      "Explain node 1916: 100%|██████████| 200/200 [00:00<00:00, 207.58it/s]\u001b[A\n"
     ]
    },
    {
     "name": "stdout",
     "output_type": "stream",
     "text": [
      "Accuracy on Model:  53.91705069124424\n",
      "Accuracy on EVAL-XG:  57.6036866359447\n"
     ]
    },
    {
     "name": "stderr",
     "output_type": "stream",
     "text": [
      "\n",
      "  0%|          | 0/200 [00:00<?, ?it/s]\u001b[A\n",
      "Explain node 1917:   0%|          | 0/200 [00:00<?, ?it/s]\u001b[A\n",
      "Explain node 1917:  11%|█         | 22/200 [00:00<00:00, 213.35it/s]\u001b[A\n",
      "Explain node 1917:  22%|██▏       | 44/200 [00:00<00:00, 207.17it/s]\u001b[A\n",
      "Explain node 1917:  32%|███▎      | 65/200 [00:00<00:00, 196.62it/s]\u001b[A\n",
      "Explain node 1917:  44%|████▎     | 87/200 [00:00<00:00, 202.81it/s]\u001b[A\n",
      "Explain node 1917:  55%|█████▍    | 109/200 [00:00<00:00, 206.94it/s]\u001b[A\n",
      "Explain node 1917:  66%|██████▌   | 131/200 [00:00<00:00, 208.91it/s]\u001b[A\n",
      "Explain node 1917:  76%|███████▋  | 153/200 [00:00<00:00, 209.93it/s]\u001b[A\n",
      "Explain node 1917:  88%|████████▊ | 175/200 [00:00<00:00, 210.13it/s]\u001b[A\n",
      "Explain node 1917: 100%|██████████| 200/200 [00:00<00:00, 207.61it/s]\u001b[A\n"
     ]
    },
    {
     "name": "stdout",
     "output_type": "stream",
     "text": [
      "Accuracy on Model:  54.12844036697248\n",
      "Accuracy on EVAL-XG:  57.798165137614674\n"
     ]
    },
    {
     "name": "stderr",
     "output_type": "stream",
     "text": [
      "\n",
      "  0%|          | 0/200 [00:00<?, ?it/s]\u001b[A\n",
      "Explain node 1918:   0%|          | 0/200 [00:00<?, ?it/s]\u001b[A\n",
      "Explain node 1918:  11%|█         | 22/200 [00:00<00:00, 212.85it/s]\u001b[A\n",
      "Explain node 1918:  22%|██▏       | 44/200 [00:00<00:00, 211.04it/s]\u001b[A\n",
      "Explain node 1918:  33%|███▎      | 66/200 [00:00<00:00, 211.43it/s]\u001b[A\n",
      "Explain node 1918:  44%|████▍     | 88/200 [00:00<00:00, 208.92it/s]\u001b[A\n",
      "Explain node 1918:  55%|█████▌    | 110/200 [00:00<00:00, 211.57it/s]\u001b[A\n",
      "Explain node 1918:  66%|██████▌   | 132/200 [00:00<00:00, 212.41it/s]\u001b[A\n",
      "Explain node 1918:  77%|███████▋  | 154/200 [00:00<00:00, 213.34it/s]\u001b[A\n",
      "Explain node 1918:  88%|████████▊ | 176/200 [00:00<00:00, 213.61it/s]\u001b[A\n",
      "Explain node 1918: 100%|██████████| 200/200 [00:00<00:00, 212.27it/s]\u001b[A\n"
     ]
    },
    {
     "name": "stdout",
     "output_type": "stream",
     "text": [
      "Accuracy on Model:  54.337899543378995\n",
      "Accuracy on EVAL-XG:  57.534246575342465\n"
     ]
    },
    {
     "name": "stderr",
     "output_type": "stream",
     "text": [
      "\n",
      "  0%|          | 0/200 [00:00<?, ?it/s]\u001b[A\n",
      "Explain node 1919:   0%|          | 0/200 [00:00<?, ?it/s]\u001b[A\n",
      "Explain node 1919:  11%|█         | 22/200 [00:00<00:00, 213.89it/s]\u001b[A\n",
      "Explain node 1919:  22%|██▏       | 44/200 [00:00<00:00, 214.79it/s]\u001b[A\n",
      "Explain node 1919:  33%|███▎      | 66/200 [00:00<00:00, 210.10it/s]\u001b[A\n",
      "Explain node 1919:  44%|████▍     | 88/200 [00:00<00:00, 208.49it/s]\u001b[A\n",
      "Explain node 1919:  55%|█████▌    | 110/200 [00:00<00:00, 210.88it/s]\u001b[A\n",
      "Explain node 1919:  66%|██████▌   | 132/200 [00:00<00:00, 212.63it/s]\u001b[A\n",
      "Explain node 1919:  77%|███████▋  | 154/200 [00:00<00:00, 210.69it/s]\u001b[A\n",
      "Explain node 1919:  88%|████████▊ | 176/200 [00:00<00:00, 208.42it/s]\u001b[A\n",
      "Explain node 1919: 100%|██████████| 200/200 [00:00<00:00, 209.64it/s]\u001b[A\n"
     ]
    },
    {
     "name": "stdout",
     "output_type": "stream",
     "text": [
      "Accuracy on Model:  54.090909090909086\n",
      "Accuracy on EVAL-XG:  57.72727272727273\n"
     ]
    },
    {
     "name": "stderr",
     "output_type": "stream",
     "text": [
      "\n",
      "  0%|          | 0/200 [00:00<?, ?it/s]\u001b[A\n",
      "Explain node 1920:   0%|          | 0/200 [00:00<?, ?it/s]\u001b[A\n",
      "Explain node 1920:  11%|█         | 22/200 [00:00<00:00, 217.50it/s]\u001b[A\n",
      "Explain node 1920:  22%|██▏       | 44/200 [00:00<00:00, 211.16it/s]\u001b[A\n",
      "Explain node 1920:  33%|███▎      | 66/200 [00:00<00:00, 208.08it/s]\u001b[A\n",
      "Explain node 1920:  44%|████▎     | 87/200 [00:00<00:00, 201.38it/s]\u001b[A\n",
      "Explain node 1920:  54%|█████▍    | 108/200 [00:00<00:00, 202.52it/s]\u001b[A\n",
      "Explain node 1920:  64%|██████▍   | 129/200 [00:00<00:00, 200.31it/s]\u001b[A\n",
      "Explain node 1920:  76%|███████▌  | 151/200 [00:00<00:00, 203.63it/s]\u001b[A\n",
      "Explain node 1920:  86%|████████▌ | 172/200 [00:00<00:00, 204.99it/s]\u001b[A\n",
      "Explain node 1920: 100%|██████████| 200/200 [00:00<00:00, 205.83it/s]\u001b[A\n"
     ]
    },
    {
     "name": "stdout",
     "output_type": "stream",
     "text": [
      "Accuracy on Model:  53.84615384615385\n",
      "Accuracy on EVAL-XG:  57.466063348416284\n"
     ]
    },
    {
     "name": "stderr",
     "output_type": "stream",
     "text": [
      "\n",
      "  0%|          | 0/200 [00:00<?, ?it/s]\u001b[A\n",
      "Explain node 1921:   0%|          | 0/200 [00:00<?, ?it/s]\u001b[A\n",
      "Explain node 1921:  10%|█         | 21/200 [00:00<00:00, 199.37it/s]\u001b[A\n",
      "Explain node 1921:  20%|██        | 41/200 [00:00<00:00, 189.11it/s]\u001b[A\n",
      "Explain node 1921:  31%|███       | 62/200 [00:00<00:00, 197.38it/s]\u001b[A\n",
      "Explain node 1921:  42%|████▏     | 84/200 [00:00<00:00, 204.07it/s]\u001b[A\n",
      "Explain node 1921:  53%|█████▎    | 106/200 [00:00<00:00, 209.46it/s]\u001b[A\n",
      "Explain node 1921:  64%|██████▍   | 128/200 [00:00<00:00, 211.56it/s]\u001b[A\n",
      "Explain node 1921:  75%|███████▌  | 150/200 [00:00<00:00, 212.64it/s]\u001b[A\n",
      "Explain node 1921:  86%|████████▌ | 172/200 [00:00<00:00, 207.72it/s]\u001b[A\n",
      "Explain node 1921: 100%|██████████| 200/200 [00:00<00:00, 206.31it/s]\u001b[A\n"
     ]
    },
    {
     "name": "stdout",
     "output_type": "stream",
     "text": [
      "Accuracy on Model:  53.6036036036036\n",
      "Accuracy on EVAL-XG:  57.20720720720721\n"
     ]
    },
    {
     "name": "stderr",
     "output_type": "stream",
     "text": [
      "\n",
      "  0%|          | 0/200 [00:00<?, ?it/s]\u001b[A\n",
      "Explain node 1922:   0%|          | 0/200 [00:00<?, ?it/s]\u001b[A\n",
      "Explain node 1922:  11%|█         | 22/200 [00:00<00:00, 210.78it/s]\u001b[A\n",
      "Explain node 1922:  22%|██▏       | 44/200 [00:00<00:00, 214.38it/s]\u001b[A\n",
      "Explain node 1922:  33%|███▎      | 66/200 [00:00<00:00, 209.41it/s]\u001b[A\n",
      "Explain node 1922:  44%|████▎     | 87/200 [00:00<00:00, 207.28it/s]\u001b[A\n",
      "Explain node 1922:  54%|█████▍    | 108/200 [00:00<00:00, 206.19it/s]\u001b[A\n",
      "Explain node 1922:  64%|██████▍   | 129/200 [00:00<00:00, 200.91it/s]\u001b[A\n",
      "Explain node 1922:  76%|███████▌  | 151/200 [00:00<00:00, 204.01it/s]\u001b[A\n",
      "Explain node 1922:  86%|████████▌ | 172/200 [00:00<00:00, 201.39it/s]\u001b[A\n",
      "Explain node 1922: 100%|██████████| 200/200 [00:00<00:00, 206.12it/s]\u001b[A\n"
     ]
    },
    {
     "name": "stdout",
     "output_type": "stream",
     "text": [
      "Accuracy on Model:  53.81165919282511\n",
      "Accuracy on EVAL-XG:  56.95067264573991\n"
     ]
    },
    {
     "name": "stderr",
     "output_type": "stream",
     "text": [
      "\n",
      "  0%|          | 0/200 [00:00<?, ?it/s]\u001b[A\n",
      "Explain node 1923:   0%|          | 0/200 [00:00<?, ?it/s]\u001b[A\n",
      "Explain node 1923:  10%|█         | 20/200 [00:00<00:00, 197.29it/s]\u001b[A\n",
      "Explain node 1923:  20%|██        | 40/200 [00:00<00:00, 193.59it/s]\u001b[A\n",
      "Explain node 1923:  30%|███       | 60/200 [00:00<00:00, 191.80it/s]\u001b[A\n",
      "Explain node 1923:  41%|████      | 82/200 [00:00<00:00, 200.66it/s]\u001b[A\n",
      "Explain node 1923:  52%|█████▏    | 104/200 [00:00<00:00, 205.65it/s]\u001b[A\n",
      "Explain node 1923:  63%|██████▎   | 126/200 [00:00<00:00, 209.59it/s]\u001b[A\n",
      "Explain node 1923:  74%|███████▎  | 147/200 [00:00<00:00, 208.35it/s]\u001b[A\n",
      "Explain node 1923:  84%|████████▍ | 169/200 [00:00<00:00, 210.49it/s]\u001b[A\n",
      "Explain node 1923: 100%|██████████| 200/200 [00:00<00:00, 206.52it/s]\u001b[A\n"
     ]
    },
    {
     "name": "stdout",
     "output_type": "stream",
     "text": [
      "Accuracy on Model:  53.57142857142857\n",
      "Accuracy on EVAL-XG:  56.69642857142857\n"
     ]
    },
    {
     "name": "stderr",
     "output_type": "stream",
     "text": [
      "\n",
      "  0%|          | 0/200 [00:00<?, ?it/s]\u001b[A\n",
      "Explain node 1924:   0%|          | 0/200 [00:00<?, ?it/s]\u001b[A\n",
      "Explain node 1924:  11%|█         | 22/200 [00:00<00:00, 218.89it/s]\u001b[A\n",
      "Explain node 1924:  22%|██▏       | 44/200 [00:00<00:00, 215.88it/s]\u001b[A\n",
      "Explain node 1924:  33%|███▎      | 66/200 [00:00<00:00, 217.30it/s]\u001b[A\n",
      "Explain node 1924:  44%|████▍     | 88/200 [00:00<00:00, 218.30it/s]\u001b[A\n",
      "Explain node 1924:  55%|█████▌    | 110/200 [00:00<00:00, 216.73it/s]\u001b[A\n",
      "Explain node 1924:  66%|██████▌   | 132/200 [00:00<00:00, 213.13it/s]\u001b[A\n",
      "Explain node 1924:  77%|███████▋  | 154/200 [00:00<00:00, 214.39it/s]\u001b[A\n",
      "Explain node 1924:  88%|████████▊ | 176/200 [00:00<00:00, 207.91it/s]\u001b[A\n",
      "Explain node 1924: 100%|██████████| 200/200 [00:00<00:00, 208.14it/s]\u001b[A\n"
     ]
    },
    {
     "name": "stdout",
     "output_type": "stream",
     "text": [
      "Accuracy on Model:  53.77777777777778\n",
      "Accuracy on EVAL-XG:  56.888888888888886\n"
     ]
    },
    {
     "name": "stderr",
     "output_type": "stream",
     "text": [
      "\n",
      "  0%|          | 0/200 [00:00<?, ?it/s]\u001b[A\n",
      "Explain node 1925:   0%|          | 0/200 [00:00<?, ?it/s]\u001b[A\n",
      "Explain node 1925:  10%|▉         | 19/200 [00:00<00:00, 183.02it/s]\u001b[A\n",
      "Explain node 1925:  20%|██        | 40/200 [00:00<00:00, 196.76it/s]\u001b[A\n",
      "Explain node 1925:  30%|███       | 61/200 [00:00<00:00, 198.42it/s]\u001b[A\n",
      "Explain node 1925:  42%|████▏     | 83/200 [00:00<00:00, 206.44it/s]\u001b[A\n",
      "Explain node 1925:  52%|█████▎    | 105/200 [00:00<00:00, 208.94it/s]\u001b[A\n",
      "Explain node 1925:  64%|██████▎   | 127/200 [00:00<00:00, 210.99it/s]\u001b[A\n",
      "Explain node 1925:  74%|███████▍  | 149/200 [00:00<00:00, 212.45it/s]\u001b[A\n",
      "Explain node 1925:  86%|████████▌ | 171/200 [00:00<00:00, 209.92it/s]\u001b[A\n",
      "Explain node 1925: 100%|██████████| 200/200 [00:00<00:00, 206.92it/s]\u001b[A\n"
     ]
    },
    {
     "name": "stdout",
     "output_type": "stream",
     "text": [
      "Accuracy on Model:  53.53982300884957\n",
      "Accuracy on EVAL-XG:  56.63716814159292\n"
     ]
    },
    {
     "name": "stderr",
     "output_type": "stream",
     "text": [
      "\n",
      "  0%|          | 0/200 [00:00<?, ?it/s]\u001b[A\n",
      "Explain node 1926:   0%|          | 0/200 [00:00<?, ?it/s]\u001b[A\n",
      "Explain node 1926:  11%|█         | 22/200 [00:00<00:00, 212.27it/s]\u001b[A\n",
      "Explain node 1926:  22%|██▏       | 44/200 [00:00<00:00, 214.59it/s]\u001b[A\n",
      "Explain node 1926:  33%|███▎      | 66/200 [00:00<00:00, 215.65it/s]\u001b[A\n",
      "Explain node 1926:  44%|████▍     | 88/200 [00:00<00:00, 213.25it/s]\u001b[A\n",
      "Explain node 1926:  55%|█████▌    | 110/200 [00:00<00:00, 215.46it/s]\u001b[A\n",
      "Explain node 1926:  66%|██████▌   | 132/200 [00:00<00:00, 216.67it/s]\u001b[A\n",
      "Explain node 1926:  77%|███████▋  | 154/200 [00:00<00:00, 217.12it/s]\u001b[A\n",
      "Explain node 1926:  88%|████████▊ | 176/200 [00:00<00:00, 214.20it/s]\u001b[A\n",
      "Explain node 1926: 100%|██████████| 200/200 [00:00<00:00, 214.49it/s]\u001b[A\n"
     ]
    },
    {
     "name": "stdout",
     "output_type": "stream",
     "text": [
      "Accuracy on Model:  53.74449339207048\n",
      "Accuracy on EVAL-XG:  56.82819383259912\n"
     ]
    },
    {
     "name": "stderr",
     "output_type": "stream",
     "text": [
      "\n",
      "  0%|          | 0/200 [00:00<?, ?it/s]\u001b[A\n",
      "Explain node 1927:   0%|          | 0/200 [00:00<?, ?it/s]\u001b[A\n",
      "Explain node 1927:  12%|█▏        | 23/200 [00:00<00:00, 219.71it/s]\u001b[A\n",
      "Explain node 1927:  22%|██▎       | 45/200 [00:00<00:00, 206.12it/s]\u001b[A\n",
      "Explain node 1927:  33%|███▎      | 66/200 [00:00<00:00, 207.09it/s]\u001b[A\n",
      "Explain node 1927:  44%|████▍     | 88/200 [00:00<00:00, 209.00it/s]\u001b[A\n",
      "Explain node 1927:  56%|█████▌    | 111/200 [00:00<00:00, 214.38it/s]\u001b[A\n",
      "Explain node 1927:  66%|██████▋   | 133/200 [00:00<00:00, 215.37it/s]\u001b[A\n",
      "Explain node 1927:  78%|███████▊  | 155/200 [00:00<00:00, 215.07it/s]\u001b[A\n",
      "Explain node 1927:  88%|████████▊ | 177/200 [00:00<00:00, 215.48it/s]\u001b[A\n",
      "Explain node 1927: 100%|██████████| 200/200 [00:00<00:00, 213.22it/s]\u001b[A\n"
     ]
    },
    {
     "name": "stdout",
     "output_type": "stream",
     "text": [
      "Accuracy on Model:  53.94736842105263\n",
      "Accuracy on EVAL-XG:  57.01754385964912\n"
     ]
    },
    {
     "name": "stderr",
     "output_type": "stream",
     "text": [
      "\n",
      "  0%|          | 0/200 [00:00<?, ?it/s]\u001b[A\n",
      "Explain node 1928:   0%|          | 0/200 [00:00<?, ?it/s]\u001b[A\n",
      "Explain node 1928:  10%|█         | 21/200 [00:00<00:00, 206.50it/s]\u001b[A\n",
      "Explain node 1928:  21%|██        | 42/200 [00:00<00:00, 206.37it/s]\u001b[A\n",
      "Explain node 1928:  32%|███▏      | 64/200 [00:00<00:00, 209.11it/s]\u001b[A\n",
      "Explain node 1928:  43%|████▎     | 86/200 [00:00<00:00, 210.39it/s]\u001b[A\n",
      "Explain node 1928:  54%|█████▍    | 108/200 [00:00<00:00, 211.31it/s]\u001b[A\n",
      "Explain node 1928:  65%|██████▌   | 130/200 [00:00<00:00, 207.72it/s]\u001b[A\n",
      "Explain node 1928:  76%|███████▌  | 152/200 [00:00<00:00, 210.40it/s]\u001b[A\n",
      "Explain node 1928:  87%|████████▋ | 174/200 [00:00<00:00, 211.05it/s]\u001b[A\n",
      "Explain node 1928: 100%|██████████| 200/200 [00:00<00:00, 209.03it/s]\u001b[A\n"
     ]
    },
    {
     "name": "stdout",
     "output_type": "stream",
     "text": [
      "Accuracy on Model:  54.14847161572053\n",
      "Accuracy on EVAL-XG:  57.20524017467249\n"
     ]
    },
    {
     "name": "stderr",
     "output_type": "stream",
     "text": [
      "\n",
      "  0%|          | 0/200 [00:00<?, ?it/s]\u001b[A\n",
      "Explain node 1929:   0%|          | 0/200 [00:00<?, ?it/s]\u001b[A\n",
      "Explain node 1929:  11%|█         | 22/200 [00:00<00:00, 215.09it/s]\u001b[A\n",
      "Explain node 1929:  22%|██▎       | 45/200 [00:00<00:00, 218.52it/s]\u001b[A\n",
      "Explain node 1929:  34%|███▍      | 68/200 [00:00<00:00, 219.32it/s]\u001b[A\n",
      "Explain node 1929:  46%|████▌     | 91/200 [00:00<00:00, 219.88it/s]\u001b[A\n",
      "Explain node 1929:  56%|█████▋    | 113/200 [00:00<00:00, 218.74it/s]\u001b[A\n",
      "Explain node 1929:  68%|██████▊   | 135/200 [00:00<00:00, 217.26it/s]\u001b[A\n",
      "Explain node 1929:  78%|███████▊  | 157/200 [00:00<00:00, 217.75it/s]\u001b[A\n",
      "Explain node 1929: 100%|██████████| 200/200 [00:00<00:00, 216.87it/s]\u001b[A\n"
     ]
    },
    {
     "name": "stdout",
     "output_type": "stream",
     "text": [
      "Accuracy on Model:  54.347826086956516\n",
      "Accuracy on EVAL-XG:  57.391304347826086\n"
     ]
    },
    {
     "name": "stderr",
     "output_type": "stream",
     "text": [
      "\n",
      "  0%|          | 0/200 [00:00<?, ?it/s]\u001b[A\n",
      "Explain node 1930:   0%|          | 0/200 [00:00<?, ?it/s]\u001b[A\n",
      "Explain node 1930:  11%|█         | 22/200 [00:00<00:00, 212.46it/s]\u001b[A\n",
      "Explain node 1930:  22%|██▏       | 44/200 [00:00<00:00, 211.74it/s]\u001b[A\n",
      "Explain node 1930:  33%|███▎      | 66/200 [00:00<00:00, 213.75it/s]\u001b[A\n",
      "Explain node 1930:  44%|████▍     | 88/200 [00:00<00:00, 214.78it/s]\u001b[A\n",
      "Explain node 1930:  55%|█████▌    | 110/200 [00:00<00:00, 211.27it/s]\u001b[A\n",
      "Explain node 1930:  66%|██████▌   | 132/200 [00:00<00:00, 211.42it/s]\u001b[A\n",
      "Explain node 1930:  77%|███████▋  | 154/200 [00:00<00:00, 213.69it/s]\u001b[A\n",
      "Explain node 1930:  88%|████████▊ | 176/200 [00:00<00:00, 211.88it/s]\u001b[A\n",
      "Explain node 1930: 100%|██████████| 200/200 [00:00<00:00, 213.18it/s]\u001b[A\n"
     ]
    },
    {
     "name": "stdout",
     "output_type": "stream",
     "text": [
      "Accuracy on Model:  54.112554112554115\n",
      "Accuracy on EVAL-XG:  57.14285714285714\n"
     ]
    },
    {
     "name": "stderr",
     "output_type": "stream",
     "text": [
      "\n",
      "  0%|          | 0/200 [00:00<?, ?it/s]\u001b[A\n",
      "Explain node 1931:   0%|          | 0/200 [00:00<?, ?it/s]\u001b[A\n",
      "Explain node 1931:  10%|█         | 21/200 [00:00<00:00, 204.10it/s]\u001b[A\n",
      "Explain node 1931:  22%|██▏       | 43/200 [00:00<00:00, 211.05it/s]\u001b[A\n",
      "Explain node 1931:  32%|███▎      | 65/200 [00:00<00:00, 210.21it/s]\u001b[A\n",
      "Explain node 1931:  44%|████▎     | 87/200 [00:00<00:00, 212.46it/s]\u001b[A\n",
      "Explain node 1931:  55%|█████▍    | 109/200 [00:00<00:00, 213.15it/s]\u001b[A\n",
      "Explain node 1931:  66%|██████▌   | 131/200 [00:00<00:00, 213.91it/s]\u001b[A\n",
      "Explain node 1931:  76%|███████▋  | 153/200 [00:00<00:00, 214.49it/s]\u001b[A\n",
      "Explain node 1931:  88%|████████▊ | 175/200 [00:00<00:00, 214.25it/s]\u001b[A\n",
      "Explain node 1931: 100%|██████████| 200/200 [00:00<00:00, 211.30it/s]\u001b[A\n"
     ]
    },
    {
     "name": "stdout",
     "output_type": "stream",
     "text": [
      "Accuracy on Model:  54.310344827586206\n",
      "Accuracy on EVAL-XG:  57.327586206896555\n"
     ]
    },
    {
     "name": "stderr",
     "output_type": "stream",
     "text": [
      "\n",
      "  0%|          | 0/200 [00:00<?, ?it/s]\u001b[A\n",
      "Explain node 1932:   0%|          | 0/200 [00:00<?, ?it/s]\u001b[A\n",
      "Explain node 1932:  12%|█▏        | 23/200 [00:00<00:00, 220.39it/s]\u001b[A\n",
      "Explain node 1932:  23%|██▎       | 46/200 [00:00<00:00, 222.18it/s]\u001b[A\n",
      "Explain node 1932:  34%|███▍      | 69/200 [00:00<00:00, 223.56it/s]\u001b[A\n",
      "Explain node 1932:  46%|████▌     | 92/200 [00:00<00:00, 220.98it/s]\u001b[A\n",
      "Explain node 1932:  57%|█████▊    | 115/200 [00:00<00:00, 220.31it/s]\u001b[A\n",
      "Explain node 1932:  69%|██████▉   | 138/200 [00:00<00:00, 219.34it/s]\u001b[A\n",
      "Explain node 1932:  80%|████████  | 160/200 [00:00<00:00, 217.38it/s]\u001b[A\n",
      "Explain node 1932: 100%|██████████| 200/200 [00:00<00:00, 218.69it/s]\u001b[A\n"
     ]
    },
    {
     "name": "stdout",
     "output_type": "stream",
     "text": [
      "Accuracy on Model:  54.506437768240346\n",
      "Accuracy on EVAL-XG:  57.5107296137339\n"
     ]
    },
    {
     "name": "stderr",
     "output_type": "stream",
     "text": [
      "\n",
      "  0%|          | 0/200 [00:00<?, ?it/s]\u001b[A\n",
      "Explain node 1933:   0%|          | 0/200 [00:00<?, ?it/s]\u001b[A\n",
      "Explain node 1933:  10%|█         | 21/200 [00:00<00:00, 208.34it/s]\u001b[A\n",
      "Explain node 1933:  22%|██▏       | 43/200 [00:00<00:00, 213.74it/s]\u001b[A\n",
      "Explain node 1933:  32%|███▎      | 65/200 [00:00<00:00, 211.77it/s]\u001b[A\n",
      "Explain node 1933:  44%|████▎     | 87/200 [00:00<00:00, 213.15it/s]\u001b[A\n",
      "Explain node 1933:  55%|█████▍    | 109/200 [00:00<00:00, 207.93it/s]\u001b[A\n",
      "Explain node 1933:  65%|██████▌   | 130/200 [00:00<00:00, 205.92it/s]\u001b[A\n",
      "Explain node 1933:  76%|███████▌  | 151/200 [00:00<00:00, 201.80it/s]\u001b[A\n",
      "Explain node 1933:  86%|████████▌ | 172/200 [00:00<00:00, 204.22it/s]\u001b[A\n",
      "Explain node 1933: 100%|██████████| 200/200 [00:00<00:00, 207.73it/s]\u001b[A\n"
     ]
    },
    {
     "name": "stdout",
     "output_type": "stream",
     "text": [
      "Accuracy on Model:  54.700854700854705\n",
      "Accuracy on EVAL-XG:  57.692307692307686\n"
     ]
    },
    {
     "name": "stderr",
     "output_type": "stream",
     "text": [
      "\n",
      "  0%|          | 0/200 [00:00<?, ?it/s]\u001b[A\n",
      "Explain node 1934:   0%|          | 0/200 [00:00<?, ?it/s]\u001b[A\n",
      "Explain node 1934:  11%|█         | 22/200 [00:00<00:00, 214.77it/s]\u001b[A\n",
      "Explain node 1934:  22%|██▎       | 45/200 [00:00<00:00, 218.94it/s]\u001b[A\n",
      "Explain node 1934:  34%|███▎      | 67/200 [00:00<00:00, 218.29it/s]\u001b[A\n",
      "Explain node 1934:  44%|████▍     | 89/200 [00:00<00:00, 218.20it/s]\u001b[A\n",
      "Explain node 1934:  56%|█████▌    | 112/200 [00:00<00:00, 219.73it/s]\u001b[A\n",
      "Explain node 1934:  68%|██████▊   | 135/200 [00:00<00:00, 219.88it/s]\u001b[A\n",
      "Explain node 1934:  79%|███████▉  | 158/200 [00:00<00:00, 220.48it/s]\u001b[A\n",
      "Explain node 1934: 100%|██████████| 200/200 [00:00<00:00, 217.69it/s]\u001b[A\n"
     ]
    },
    {
     "name": "stdout",
     "output_type": "stream",
     "text": [
      "Accuracy on Model:  54.8936170212766\n",
      "Accuracy on EVAL-XG:  57.87234042553191\n"
     ]
    },
    {
     "name": "stderr",
     "output_type": "stream",
     "text": [
      "\n",
      "  0%|          | 0/200 [00:00<?, ?it/s]\u001b[A\n",
      "Explain node 1935:   0%|          | 0/200 [00:00<?, ?it/s]\u001b[A\n",
      "Explain node 1935:  10%|█         | 20/200 [00:00<00:00, 198.06it/s]\u001b[A\n",
      "Explain node 1935:  22%|██▏       | 43/200 [00:00<00:00, 211.43it/s]\u001b[A\n",
      "Explain node 1935:  32%|███▎      | 65/200 [00:00<00:00, 213.03it/s]\u001b[A\n",
      "Explain node 1935:  44%|████▎     | 87/200 [00:00<00:00, 214.34it/s]\u001b[A\n",
      "Explain node 1935:  55%|█████▍    | 109/200 [00:00<00:00, 216.22it/s]\u001b[A\n",
      "Explain node 1935:  66%|██████▌   | 131/200 [00:00<00:00, 213.51it/s]\u001b[A\n",
      "Explain node 1935:  76%|███████▋  | 153/200 [00:00<00:00, 213.62it/s]\u001b[A\n",
      "Explain node 1935:  88%|████████▊ | 175/200 [00:00<00:00, 212.33it/s]\u001b[A\n",
      "Explain node 1935: 100%|██████████| 200/200 [00:00<00:00, 212.87it/s]\u001b[A\n"
     ]
    },
    {
     "name": "stdout",
     "output_type": "stream",
     "text": [
      "Accuracy on Model:  55.08474576271186\n",
      "Accuracy on EVAL-XG:  58.05084745762712\n"
     ]
    },
    {
     "name": "stderr",
     "output_type": "stream",
     "text": [
      "\n",
      "  0%|          | 0/200 [00:00<?, ?it/s]\u001b[A\n",
      "Explain node 1936:   0%|          | 0/200 [00:00<?, ?it/s]\u001b[A\n",
      "Explain node 1936:  11%|█         | 22/200 [00:00<00:00, 212.89it/s]\u001b[A\n",
      "Explain node 1936:  22%|██▎       | 45/200 [00:00<00:00, 217.34it/s]\u001b[A\n",
      "Explain node 1936:  34%|███▍      | 68/200 [00:00<00:00, 220.72it/s]\u001b[A\n",
      "Explain node 1936:  46%|████▌     | 91/200 [00:00<00:00, 218.75it/s]\u001b[A\n",
      "Explain node 1936:  56%|█████▋    | 113/200 [00:00<00:00, 217.04it/s]\u001b[A\n",
      "Explain node 1936:  68%|██████▊   | 136/200 [00:00<00:00, 218.32it/s]\u001b[A\n",
      "Explain node 1936:  80%|███████▉  | 159/200 [00:00<00:00, 219.28it/s]\u001b[A\n",
      "Explain node 1936: 100%|██████████| 200/200 [00:00<00:00, 218.13it/s]\u001b[A\n"
     ]
    },
    {
     "name": "stdout",
     "output_type": "stream",
     "text": [
      "Accuracy on Model:  54.85232067510548\n",
      "Accuracy on EVAL-XG:  57.80590717299579\n"
     ]
    },
    {
     "name": "stderr",
     "output_type": "stream",
     "text": [
      "\n",
      "  0%|          | 0/200 [00:00<?, ?it/s]\u001b[A\n",
      "Explain node 1937:   0%|          | 0/200 [00:00<?, ?it/s]\u001b[A\n",
      "Explain node 1937:  11%|█         | 22/200 [00:00<00:00, 213.94it/s]\u001b[A\n",
      "Explain node 1937:  22%|██▏       | 44/200 [00:00<00:00, 217.45it/s]\u001b[A\n",
      "Explain node 1937:  33%|███▎      | 66/200 [00:00<00:00, 217.89it/s]\u001b[A\n",
      "Explain node 1937:  44%|████▍     | 89/200 [00:00<00:00, 219.12it/s]\u001b[A\n",
      "Explain node 1937:  56%|█████▌    | 111/200 [00:00<00:00, 218.73it/s]\u001b[A\n",
      "Explain node 1937:  67%|██████▋   | 134/200 [00:00<00:00, 219.66it/s]\u001b[A\n",
      "Explain node 1937:  78%|███████▊  | 156/200 [00:00<00:00, 219.52it/s]\u001b[A\n",
      "Explain node 1937: 100%|██████████| 200/200 [00:00<00:00, 218.83it/s]\u001b[A\n"
     ]
    },
    {
     "name": "stdout",
     "output_type": "stream",
     "text": [
      "Accuracy on Model:  54.621848739495796\n",
      "Accuracy on EVAL-XG:  57.56302521008403\n"
     ]
    },
    {
     "name": "stderr",
     "output_type": "stream",
     "text": [
      "\n",
      "  0%|          | 0/200 [00:00<?, ?it/s]\u001b[A\n",
      "Explain node 1938:   0%|          | 0/200 [00:00<?, ?it/s]\u001b[A\n",
      "Explain node 1938:  12%|█▏        | 23/200 [00:00<00:00, 220.86it/s]\u001b[A\n",
      "Explain node 1938:  23%|██▎       | 46/200 [00:00<00:00, 216.79it/s]\u001b[A\n",
      "Explain node 1938:  34%|███▍      | 68/200 [00:00<00:00, 212.51it/s]\u001b[A\n",
      "Explain node 1938:  45%|████▌     | 90/200 [00:00<00:00, 211.87it/s]\u001b[A\n",
      "Explain node 1938:  56%|█████▌    | 112/200 [00:00<00:00, 211.74it/s]\u001b[A\n",
      "Explain node 1938:  67%|██████▋   | 134/200 [00:00<00:00, 209.51it/s]\u001b[A\n",
      "Explain node 1938:  78%|███████▊  | 155/200 [00:00<00:00, 201.84it/s]\u001b[A\n",
      "Explain node 1938:  88%|████████▊ | 176/200 [00:00<00:00, 200.94it/s]\u001b[A\n",
      "Explain node 1938: 100%|██████████| 200/200 [00:00<00:00, 207.59it/s]\u001b[A\n"
     ]
    },
    {
     "name": "stdout",
     "output_type": "stream",
     "text": [
      "Accuracy on Model:  54.39330543933054\n",
      "Accuracy on EVAL-XG:  57.32217573221757\n"
     ]
    },
    {
     "name": "stderr",
     "output_type": "stream",
     "text": [
      "\n",
      "  0%|          | 0/200 [00:00<?, ?it/s]\u001b[A\n",
      "Explain node 1939:   0%|          | 0/200 [00:00<?, ?it/s]\u001b[A\n",
      "Explain node 1939:  11%|█         | 22/200 [00:00<00:00, 217.73it/s]\u001b[A\n",
      "Explain node 1939:  22%|██▎       | 45/200 [00:00<00:00, 219.81it/s]\u001b[A\n",
      "Explain node 1939:  34%|███▍      | 68/200 [00:00<00:00, 220.98it/s]\u001b[A\n",
      "Explain node 1939:  46%|████▌     | 91/200 [00:00<00:00, 221.16it/s]\u001b[A\n",
      "Explain node 1939:  57%|█████▋    | 114/200 [00:00<00:00, 220.66it/s]\u001b[A\n",
      "Explain node 1939:  68%|██████▊   | 137/200 [00:00<00:00, 219.95it/s]\u001b[A\n",
      "Explain node 1939:  80%|███████▉  | 159/200 [00:00<00:00, 219.77it/s]\u001b[A\n",
      "Explain node 1939: 100%|██████████| 200/200 [00:00<00:00, 220.03it/s]\u001b[A\n"
     ]
    },
    {
     "name": "stdout",
     "output_type": "stream",
     "text": [
      "Accuracy on Model:  54.58333333333333\n",
      "Accuracy on EVAL-XG:  57.49999999999999\n"
     ]
    },
    {
     "name": "stderr",
     "output_type": "stream",
     "text": [
      "\n",
      "  0%|          | 0/200 [00:00<?, ?it/s]\u001b[A\n",
      "Explain node 1940:   0%|          | 0/200 [00:00<?, ?it/s]\u001b[A\n",
      "Explain node 1940:  11%|█         | 22/200 [00:00<00:00, 218.85it/s]\u001b[A\n",
      "Explain node 1940:  22%|██▏       | 44/200 [00:00<00:00, 214.61it/s]\u001b[A\n",
      "Explain node 1940:  33%|███▎      | 66/200 [00:00<00:00, 212.66it/s]\u001b[A\n",
      "Explain node 1940:  44%|████▍     | 88/200 [00:00<00:00, 212.88it/s]\u001b[A\n",
      "Explain node 1940:  55%|█████▌    | 110/200 [00:00<00:00, 212.15it/s]\u001b[A\n",
      "Explain node 1940:  66%|██████▌   | 132/200 [00:00<00:00, 213.11it/s]\u001b[A\n",
      "Explain node 1940:  77%|███████▋  | 154/200 [00:00<00:00, 214.39it/s]\u001b[A\n",
      "Explain node 1940:  88%|████████▊ | 176/200 [00:00<00:00, 214.26it/s]\u001b[A\n",
      "Explain node 1940: 100%|██████████| 200/200 [00:00<00:00, 213.01it/s]\u001b[A\n"
     ]
    },
    {
     "name": "stdout",
     "output_type": "stream",
     "text": [
      "Accuracy on Model:  54.356846473029044\n",
      "Accuracy on EVAL-XG:  57.26141078838174\n"
     ]
    },
    {
     "name": "stderr",
     "output_type": "stream",
     "text": [
      "\n",
      "  0%|          | 0/200 [00:00<?, ?it/s]\u001b[A\n",
      "Explain node 1941:   0%|          | 0/200 [00:00<?, ?it/s]\u001b[A\n",
      "Explain node 1941:  12%|█▏        | 23/200 [00:00<00:00, 220.90it/s]\u001b[A\n",
      "Explain node 1941:  23%|██▎       | 46/200 [00:00<00:00, 220.26it/s]\u001b[A\n",
      "Explain node 1941:  34%|███▍      | 69/200 [00:00<00:00, 217.37it/s]\u001b[A\n",
      "Explain node 1941:  46%|████▌     | 91/200 [00:00<00:00, 218.12it/s]\u001b[A\n",
      "Explain node 1941:  56%|█████▋    | 113/200 [00:00<00:00, 218.06it/s]\u001b[A\n",
      "Explain node 1941:  68%|██████▊   | 135/200 [00:00<00:00, 217.88it/s]\u001b[A\n",
      "Explain node 1941:  78%|███████▊  | 157/200 [00:00<00:00, 216.63it/s]\u001b[A\n",
      "Explain node 1941: 100%|██████████| 200/200 [00:00<00:00, 215.42it/s]\u001b[A\n"
     ]
    },
    {
     "name": "stdout",
     "output_type": "stream",
     "text": [
      "Accuracy on Model:  54.54545454545454\n",
      "Accuracy on EVAL-XG:  57.438016528925615\n"
     ]
    },
    {
     "name": "stderr",
     "output_type": "stream",
     "text": [
      "\n",
      "  0%|          | 0/200 [00:00<?, ?it/s]\u001b[A\n",
      "Explain node 1942:   0%|          | 0/200 [00:00<?, ?it/s]\u001b[A\n",
      "Explain node 1942:  10%|█         | 21/200 [00:00<00:00, 204.22it/s]\u001b[A\n",
      "Explain node 1942:  21%|██        | 42/200 [00:00<00:00, 199.98it/s]\u001b[A\n",
      "Explain node 1942:  32%|███▏      | 64/200 [00:00<00:00, 204.68it/s]\u001b[A\n",
      "Explain node 1942:  42%|████▎     | 85/200 [00:00<00:00, 206.69it/s]\u001b[A\n",
      "Explain node 1942:  54%|█████▎    | 107/200 [00:00<00:00, 209.77it/s]\u001b[A\n",
      "Explain node 1942:  64%|██████▍   | 129/200 [00:00<00:00, 212.79it/s]\u001b[A\n",
      "Explain node 1942:  76%|███████▌  | 152/200 [00:00<00:00, 216.37it/s]\u001b[A\n",
      "Explain node 1942:  87%|████████▋ | 174/200 [00:00<00:00, 216.89it/s]\u001b[A\n",
      "Explain node 1942: 100%|██████████| 200/200 [00:00<00:00, 212.39it/s]\u001b[A\n"
     ]
    },
    {
     "name": "stdout",
     "output_type": "stream",
     "text": [
      "Accuracy on Model:  54.73251028806584\n",
      "Accuracy on EVAL-XG:  57.61316872427984\n"
     ]
    },
    {
     "name": "stderr",
     "output_type": "stream",
     "text": [
      "\n",
      "  0%|          | 0/200 [00:00<?, ?it/s]\u001b[A\n",
      "Explain node 1943:   0%|          | 0/200 [00:00<?, ?it/s]\u001b[A\n",
      "Explain node 1943:  11%|█         | 22/200 [00:00<00:00, 215.12it/s]\u001b[A\n",
      "Explain node 1943:  22%|██▎       | 45/200 [00:00<00:00, 218.32it/s]\u001b[A\n",
      "Explain node 1943:  34%|███▍      | 68/200 [00:00<00:00, 221.03it/s]\u001b[A\n",
      "Explain node 1943:  46%|████▌     | 91/200 [00:00<00:00, 217.91it/s]\u001b[A\n",
      "Explain node 1943:  56%|█████▋    | 113/200 [00:00<00:00, 209.16it/s]\u001b[A\n",
      "Explain node 1943:  67%|██████▋   | 134/200 [00:00<00:00, 206.52it/s]\u001b[A\n",
      "Explain node 1943:  78%|███████▊  | 155/200 [00:00<00:00, 201.05it/s]\u001b[A\n",
      "Explain node 1943:  88%|████████▊ | 176/200 [00:00<00:00, 200.71it/s]\u001b[A\n",
      "Explain node 1943: 100%|██████████| 200/200 [00:00<00:00, 206.52it/s]\u001b[A\n"
     ]
    },
    {
     "name": "stdout",
     "output_type": "stream",
     "text": [
      "Accuracy on Model:  54.50819672131148\n",
      "Accuracy on EVAL-XG:  57.377049180327866\n"
     ]
    },
    {
     "name": "stderr",
     "output_type": "stream",
     "text": [
      "\n",
      "  0%|          | 0/200 [00:00<?, ?it/s]\u001b[A\n",
      "Explain node 1944:   0%|          | 0/200 [00:00<?, ?it/s]\u001b[A\n",
      "Explain node 1944:  11%|█         | 22/200 [00:00<00:00, 213.76it/s]\u001b[A\n",
      "Explain node 1944:  22%|██▏       | 44/200 [00:00<00:00, 214.08it/s]\u001b[A\n",
      "Explain node 1944:  34%|███▎      | 67/200 [00:00<00:00, 217.63it/s]\u001b[A\n",
      "Explain node 1944:  44%|████▍     | 89/200 [00:00<00:00, 217.68it/s]\u001b[A\n",
      "Explain node 1944:  56%|█████▌    | 111/200 [00:00<00:00, 216.46it/s]\u001b[A\n",
      "Explain node 1944:  66%|██████▋   | 133/200 [00:00<00:00, 209.40it/s]\u001b[A\n",
      "Explain node 1944:  78%|███████▊  | 156/200 [00:00<00:00, 213.88it/s]\u001b[A\n",
      "Explain node 1944:  89%|████████▉ | 178/200 [00:00<00:00, 204.72it/s]\u001b[A\n",
      "Explain node 1944: 100%|██████████| 200/200 [00:00<00:00, 209.31it/s]\u001b[A\n"
     ]
    },
    {
     "name": "stdout",
     "output_type": "stream",
     "text": [
      "Accuracy on Model:  54.69387755102041\n",
      "Accuracy on EVAL-XG:  57.55102040816327\n"
     ]
    },
    {
     "name": "stderr",
     "output_type": "stream",
     "text": [
      "\n",
      "  0%|          | 0/200 [00:00<?, ?it/s]\u001b[A\n",
      "Explain node 1945:   0%|          | 0/200 [00:00<?, ?it/s]\u001b[A\n",
      "Explain node 1945:  11%|█         | 22/200 [00:00<00:00, 217.45it/s]\u001b[A\n",
      "Explain node 1945:  22%|██▏       | 44/200 [00:00<00:00, 217.26it/s]\u001b[A\n",
      "Explain node 1945:  33%|███▎      | 66/200 [00:00<00:00, 217.16it/s]\u001b[A\n",
      "Explain node 1945:  44%|████▍     | 88/200 [00:00<00:00, 215.38it/s]\u001b[A\n",
      "Explain node 1945:  55%|█████▌    | 110/200 [00:00<00:00, 214.29it/s]\u001b[A\n",
      "Explain node 1945:  66%|██████▌   | 132/200 [00:00<00:00, 215.34it/s]\u001b[A\n",
      "Explain node 1945:  77%|███████▋  | 154/200 [00:00<00:00, 214.63it/s]\u001b[A\n",
      "Explain node 1945:  88%|████████▊ | 176/200 [00:00<00:00, 215.27it/s]\u001b[A\n",
      "Explain node 1945: 100%|██████████| 200/200 [00:00<00:00, 215.19it/s]\u001b[A\n"
     ]
    },
    {
     "name": "stdout",
     "output_type": "stream",
     "text": [
      "Accuracy on Model:  54.47154471544715\n",
      "Accuracy on EVAL-XG:  57.3170731707317\n"
     ]
    },
    {
     "name": "stderr",
     "output_type": "stream",
     "text": [
      "\n",
      "  0%|          | 0/200 [00:00<?, ?it/s]\u001b[A\n",
      "Explain node 1946:   0%|          | 0/200 [00:00<?, ?it/s]\u001b[A\n",
      "Explain node 1946:  12%|█▏        | 23/200 [00:00<00:00, 222.16it/s]\u001b[A\n",
      "Explain node 1946:  23%|██▎       | 46/200 [00:00<00:00, 220.34it/s]\u001b[A\n",
      "Explain node 1946:  34%|███▍      | 69/200 [00:00<00:00, 220.41it/s]\u001b[A\n",
      "Explain node 1946:  46%|████▌     | 92/200 [00:00<00:00, 219.51it/s]\u001b[A\n",
      "Explain node 1946:  57%|█████▋    | 114/200 [00:00<00:00, 216.16it/s]\u001b[A\n",
      "Explain node 1946:  68%|██████▊   | 136/200 [00:00<00:00, 212.87it/s]\u001b[A\n",
      "Explain node 1946:  79%|███████▉  | 158/200 [00:00<00:00, 211.66it/s]\u001b[A\n",
      "Explain node 1946: 100%|██████████| 200/200 [00:00<00:00, 214.55it/s]\u001b[A\n"
     ]
    },
    {
     "name": "stdout",
     "output_type": "stream",
     "text": [
      "Accuracy on Model:  54.655870445344135\n",
      "Accuracy on EVAL-XG:  57.48987854251012\n"
     ]
    },
    {
     "name": "stderr",
     "output_type": "stream",
     "text": [
      "\n",
      "  0%|          | 0/200 [00:00<?, ?it/s]\u001b[A\n",
      "Explain node 1947:   0%|          | 0/200 [00:00<?, ?it/s]\u001b[A\n",
      "Explain node 1947:  11%|█         | 22/200 [00:00<00:00, 212.56it/s]\u001b[A\n",
      "Explain node 1947:  22%|██▏       | 44/200 [00:00<00:00, 210.51it/s]\u001b[A\n",
      "Explain node 1947:  33%|███▎      | 66/200 [00:00<00:00, 208.71it/s]\u001b[A\n",
      "Explain node 1947:  44%|████▍     | 89/200 [00:00<00:00, 213.30it/s]\u001b[A\n",
      "Explain node 1947:  56%|█████▌    | 112/200 [00:00<00:00, 216.05it/s]\u001b[A\n",
      "Explain node 1947:  67%|██████▋   | 134/200 [00:00<00:00, 216.81it/s]\u001b[A\n",
      "Explain node 1947:  78%|███████▊  | 157/200 [00:00<00:00, 219.40it/s]\u001b[A\n",
      "Explain node 1947: 100%|██████████| 200/200 [00:00<00:00, 216.51it/s]\u001b[A\n"
     ]
    },
    {
     "name": "stdout",
     "output_type": "stream",
     "text": [
      "Accuracy on Model:  54.43548387096774\n",
      "Accuracy on EVAL-XG:  57.25806451612904\n"
     ]
    },
    {
     "name": "stderr",
     "output_type": "stream",
     "text": [
      "\n",
      "  0%|          | 0/200 [00:00<?, ?it/s]\u001b[A\n",
      "Explain node 1948:   0%|          | 0/200 [00:00<?, ?it/s]\u001b[A\n",
      "Explain node 1948:  11%|█         | 22/200 [00:00<00:00, 218.21it/s]\u001b[A\n",
      "Explain node 1948:  22%|██▎       | 45/200 [00:00<00:00, 220.58it/s]\u001b[A\n",
      "Explain node 1948:  34%|███▍      | 68/200 [00:00<00:00, 220.71it/s]\u001b[A\n",
      "Explain node 1948:  46%|████▌     | 91/200 [00:00<00:00, 221.11it/s]\u001b[A\n",
      "Explain node 1948:  57%|█████▋    | 114/200 [00:00<00:00, 220.52it/s]\u001b[A\n",
      "Explain node 1948:  68%|██████▊   | 137/200 [00:00<00:00, 210.58it/s]\u001b[A\n",
      "Explain node 1948:  80%|███████▉  | 159/200 [00:00<00:00, 211.15it/s]\u001b[A\n",
      "Explain node 1948: 100%|██████████| 200/200 [00:00<00:00, 214.13it/s]\u001b[A\n"
     ]
    },
    {
     "name": "stdout",
     "output_type": "stream",
     "text": [
      "Accuracy on Model:  54.21686746987952\n",
      "Accuracy on EVAL-XG:  57.028112449799195\n"
     ]
    },
    {
     "name": "stderr",
     "output_type": "stream",
     "text": [
      "\n",
      "  0%|          | 0/200 [00:00<?, ?it/s]\u001b[A\n",
      "Explain node 1949:   0%|          | 0/200 [00:00<?, ?it/s]\u001b[A\n",
      "Explain node 1949:  11%|█         | 22/200 [00:00<00:00, 216.10it/s]\u001b[A\n",
      "Explain node 1949:  22%|██▏       | 44/200 [00:00<00:00, 218.12it/s]\u001b[A\n",
      "Explain node 1949:  34%|███▎      | 67/200 [00:00<00:00, 219.44it/s]\u001b[A\n",
      "Explain node 1949:  45%|████▌     | 90/200 [00:00<00:00, 220.49it/s]\u001b[A\n",
      "Explain node 1949:  56%|█████▋    | 113/200 [00:00<00:00, 219.22it/s]\u001b[A\n",
      "Explain node 1949:  68%|██████▊   | 135/200 [00:00<00:00, 217.87it/s]\u001b[A\n",
      "Explain node 1949:  78%|███████▊  | 157/200 [00:00<00:00, 217.17it/s]\u001b[A\n",
      "Explain node 1949: 100%|██████████| 200/200 [00:00<00:00, 218.25it/s]\u001b[A\n"
     ]
    },
    {
     "name": "stdout",
     "output_type": "stream",
     "text": [
      "Accuracy on Model:  54.0\n",
      "Accuracy on EVAL-XG:  56.8\n"
     ]
    },
    {
     "name": "stderr",
     "output_type": "stream",
     "text": [
      "\n",
      "  0%|          | 0/200 [00:00<?, ?it/s]\u001b[A\n",
      "Explain node 1950:   0%|          | 0/200 [00:00<?, ?it/s]\u001b[A\n",
      "Explain node 1950:  11%|█         | 22/200 [00:00<00:00, 215.60it/s]\u001b[A\n",
      "Explain node 1950:  22%|██▏       | 44/200 [00:00<00:00, 213.80it/s]\u001b[A\n",
      "Explain node 1950:  33%|███▎      | 66/200 [00:00<00:00, 214.41it/s]\u001b[A\n",
      "Explain node 1950:  44%|████▍     | 88/200 [00:00<00:00, 213.62it/s]\u001b[A\n",
      "Explain node 1950:  55%|█████▌    | 110/200 [00:00<00:00, 213.74it/s]\u001b[A\n",
      "Explain node 1950:  66%|██████▌   | 132/200 [00:00<00:00, 215.00it/s]\u001b[A\n",
      "Explain node 1950:  77%|███████▋  | 154/200 [00:00<00:00, 215.94it/s]\u001b[A\n",
      "Explain node 1950:  88%|████████▊ | 176/200 [00:00<00:00, 210.66it/s]\u001b[A\n",
      "Explain node 1950: 100%|██████████| 200/200 [00:00<00:00, 212.51it/s]\u001b[A\n"
     ]
    },
    {
     "name": "stdout",
     "output_type": "stream",
     "text": [
      "Accuracy on Model:  53.78486055776892\n",
      "Accuracy on EVAL-XG:  56.573705179282875\n"
     ]
    },
    {
     "name": "stderr",
     "output_type": "stream",
     "text": [
      "\n",
      "  0%|          | 0/200 [00:00<?, ?it/s]\u001b[A\n",
      "Explain node 1951:   0%|          | 0/200 [00:00<?, ?it/s]\u001b[A\n",
      "Explain node 1951:  10%|█         | 21/200 [00:00<00:00, 206.52it/s]\u001b[A\n",
      "Explain node 1951:  21%|██        | 42/200 [00:00<00:00, 200.87it/s]\u001b[A\n",
      "Explain node 1951:  32%|███▏      | 63/200 [00:00<00:00, 199.97it/s]\u001b[A\n",
      "Explain node 1951:  42%|████▏     | 84/200 [00:00<00:00, 202.87it/s]\u001b[A\n",
      "Explain node 1951:  52%|█████▎    | 105/200 [00:00<00:00, 204.73it/s]\u001b[A\n",
      "Explain node 1951:  63%|██████▎   | 126/200 [00:00<00:00, 203.39it/s]\u001b[A\n",
      "Explain node 1951:  74%|███████▎  | 147/200 [00:00<00:00, 204.15it/s]\u001b[A\n",
      "Explain node 1951:  84%|████████▍ | 169/200 [00:00<00:00, 207.84it/s]\u001b[A\n",
      "Explain node 1951: 100%|██████████| 200/200 [00:00<00:00, 207.48it/s]\u001b[A\n"
     ]
    },
    {
     "name": "stdout",
     "output_type": "stream",
     "text": [
      "Accuracy on Model:  53.96825396825397\n",
      "Accuracy on EVAL-XG:  56.74603174603175\n"
     ]
    },
    {
     "name": "stderr",
     "output_type": "stream",
     "text": [
      "\n",
      "  0%|          | 0/200 [00:00<?, ?it/s]\u001b[A\n",
      "Explain node 1952:   0%|          | 0/200 [00:00<?, ?it/s]\u001b[A\n",
      "Explain node 1952:  10%|█         | 20/200 [00:00<00:00, 196.20it/s]\u001b[A\n",
      "Explain node 1952:  20%|██        | 41/200 [00:00<00:00, 202.31it/s]\u001b[A\n",
      "Explain node 1952:  32%|███▏      | 63/200 [00:00<00:00, 207.76it/s]\u001b[A\n",
      "Explain node 1952:  42%|████▏     | 84/200 [00:00<00:00, 206.70it/s]\u001b[A\n",
      "Explain node 1952:  54%|█████▎    | 107/200 [00:00<00:00, 214.06it/s]\u001b[A\n",
      "Explain node 1952:  64%|██████▍   | 129/200 [00:00<00:00, 215.75it/s]\u001b[A\n",
      "Explain node 1952:  76%|███████▌  | 151/200 [00:00<00:00, 213.92it/s]\u001b[A\n",
      "Explain node 1952:  86%|████████▋ | 173/200 [00:00<00:00, 210.76it/s]\u001b[A\n",
      "Explain node 1952: 100%|██████████| 200/200 [00:00<00:00, 209.05it/s]\u001b[A\n"
     ]
    },
    {
     "name": "stdout",
     "output_type": "stream",
     "text": [
      "Accuracy on Model:  53.75494071146245\n",
      "Accuracy on EVAL-XG:  56.916996047430835\n"
     ]
    },
    {
     "name": "stderr",
     "output_type": "stream",
     "text": [
      "\n",
      "  0%|          | 0/200 [00:00<?, ?it/s]\u001b[A\n",
      "Explain node 1953:   0%|          | 0/200 [00:00<?, ?it/s]\u001b[A\n",
      "Explain node 1953:  12%|█▏        | 23/200 [00:00<00:00, 220.43it/s]\u001b[A\n",
      "Explain node 1953:  23%|██▎       | 46/200 [00:00<00:00, 191.30it/s]\u001b[A\n",
      "Explain node 1953:  33%|███▎      | 66/200 [00:00<00:00, 177.37it/s]\u001b[A\n",
      "Explain node 1953:  43%|████▎     | 86/200 [00:00<00:00, 183.13it/s]\u001b[A\n",
      "Explain node 1953:  53%|█████▎    | 106/200 [00:00<00:00, 186.02it/s]\u001b[A\n",
      "Explain node 1953:  64%|██████▍   | 128/200 [00:00<00:00, 194.16it/s]\u001b[A\n",
      "Explain node 1953:  75%|███████▌  | 150/200 [00:00<00:00, 200.42it/s]\u001b[A\n",
      "Explain node 1953:  86%|████████▌ | 171/200 [00:00<00:00, 202.31it/s]\u001b[A\n",
      "Explain node 1953: 100%|██████████| 200/200 [00:01<00:00, 197.98it/s]\u001b[A\n"
     ]
    },
    {
     "name": "stdout",
     "output_type": "stream",
     "text": [
      "Accuracy on Model:  53.54330708661418\n",
      "Accuracy on EVAL-XG:  57.08661417322835\n"
     ]
    },
    {
     "name": "stderr",
     "output_type": "stream",
     "text": [
      "\n",
      "  0%|          | 0/200 [00:00<?, ?it/s]\u001b[A\n",
      "Explain node 1954:   0%|          | 0/200 [00:00<?, ?it/s]\u001b[A\n",
      "Explain node 1954:  11%|█         | 22/200 [00:00<00:00, 215.33it/s]\u001b[A\n",
      "Explain node 1954:  22%|██▏       | 44/200 [00:00<00:00, 217.08it/s]\u001b[A\n",
      "Explain node 1954:  33%|███▎      | 66/200 [00:00<00:00, 214.67it/s]\u001b[A\n",
      "Explain node 1954:  44%|████▍     | 88/200 [00:00<00:00, 210.48it/s]\u001b[A\n",
      "Explain node 1954:  55%|█████▌    | 110/200 [00:00<00:00, 208.28it/s]\u001b[A\n",
      "Explain node 1954:  66%|██████▌   | 131/200 [00:00<00:00, 205.16it/s]\u001b[A\n",
      "Explain node 1954:  76%|███████▌  | 152/200 [00:00<00:00, 204.96it/s]\u001b[A\n",
      "Explain node 1954:  86%|████████▋ | 173/200 [00:00<00:00, 205.79it/s]\u001b[A\n",
      "Explain node 1954: 100%|██████████| 200/200 [00:00<00:00, 209.07it/s]\u001b[A\n"
     ]
    },
    {
     "name": "stdout",
     "output_type": "stream",
     "text": [
      "Accuracy on Model:  53.72549019607843\n",
      "Accuracy on EVAL-XG:  57.25490196078431\n"
     ]
    },
    {
     "name": "stderr",
     "output_type": "stream",
     "text": [
      "\n",
      "  0%|          | 0/200 [00:00<?, ?it/s]\u001b[A\n",
      "Explain node 1955:   0%|          | 0/200 [00:00<?, ?it/s]\u001b[A\n",
      "Explain node 1955:  11%|█         | 22/200 [00:00<00:00, 217.30it/s]\u001b[A\n",
      "Explain node 1955:  22%|██▎       | 45/200 [00:00<00:00, 222.36it/s]\u001b[A\n",
      "Explain node 1955:  34%|███▍      | 68/200 [00:00<00:00, 216.38it/s]\u001b[A\n",
      "Explain node 1955:  45%|████▌     | 90/200 [00:00<00:00, 212.19it/s]\u001b[A\n",
      "Explain node 1955:  56%|█████▋    | 113/200 [00:00<00:00, 215.66it/s]\u001b[A\n",
      "Explain node 1955:  68%|██████▊   | 135/200 [00:00<00:00, 213.52it/s]\u001b[A\n",
      "Explain node 1955:  78%|███████▊  | 157/200 [00:00<00:00, 212.48it/s]\u001b[A\n",
      "Explain node 1955:  90%|████████▉ | 179/200 [00:00<00:00, 209.75it/s]\u001b[A\n",
      "Explain node 1955: 100%|██████████| 200/200 [00:00<00:00, 211.17it/s]\u001b[A\n"
     ]
    },
    {
     "name": "stdout",
     "output_type": "stream",
     "text": [
      "Accuracy on Model:  53.515625\n",
      "Accuracy on EVAL-XG:  57.03125\n"
     ]
    },
    {
     "name": "stderr",
     "output_type": "stream",
     "text": [
      "\n",
      "  0%|          | 0/200 [00:00<?, ?it/s]\u001b[A\n",
      "Explain node 1956:   0%|          | 0/200 [00:00<?, ?it/s]\u001b[A\n",
      "Explain node 1956:  12%|█▏        | 23/200 [00:00<00:00, 223.75it/s]\u001b[A\n",
      "Explain node 1956:  23%|██▎       | 46/200 [00:00<00:00, 214.58it/s]\u001b[A\n",
      "Explain node 1956:  34%|███▍      | 68/200 [00:00<00:00, 216.77it/s]\u001b[A\n",
      "Explain node 1956:  45%|████▌     | 90/200 [00:00<00:00, 216.46it/s]\u001b[A\n",
      "Explain node 1956:  56%|█████▋    | 113/200 [00:00<00:00, 218.07it/s]\u001b[A\n",
      "Explain node 1956:  68%|██████▊   | 136/200 [00:00<00:00, 218.94it/s]\u001b[A\n",
      "Explain node 1956:  79%|███████▉  | 158/200 [00:00<00:00, 216.74it/s]\u001b[A\n",
      "Explain node 1956: 100%|██████████| 200/200 [00:00<00:00, 215.62it/s]\u001b[A\n"
     ]
    },
    {
     "name": "stdout",
     "output_type": "stream",
     "text": [
      "Accuracy on Model:  53.30739299610895\n",
      "Accuracy on EVAL-XG:  56.809338521400775\n"
     ]
    },
    {
     "name": "stderr",
     "output_type": "stream",
     "text": [
      "\n",
      "  0%|          | 0/200 [00:00<?, ?it/s]\u001b[A\n",
      "Explain node 1957:   0%|          | 0/200 [00:00<?, ?it/s]\u001b[A\n",
      "Explain node 1957:  12%|█▏        | 23/200 [00:00<00:00, 222.62it/s]\u001b[A\n",
      "Explain node 1957:  23%|██▎       | 46/200 [00:00<00:00, 221.31it/s]\u001b[A\n",
      "Explain node 1957:  34%|███▍      | 69/200 [00:00<00:00, 221.28it/s]\u001b[A\n",
      "Explain node 1957:  46%|████▌     | 92/200 [00:00<00:00, 221.26it/s]\u001b[A\n",
      "Explain node 1957:  57%|█████▊    | 115/200 [00:00<00:00, 220.70it/s]\u001b[A\n",
      "Explain node 1957:  69%|██████▉   | 138/200 [00:00<00:00, 221.00it/s]\u001b[A\n",
      "Explain node 1957:  80%|████████  | 161/200 [00:00<00:00, 220.93it/s]\u001b[A\n",
      "Explain node 1957: 100%|██████████| 200/200 [00:00<00:00, 220.94it/s]\u001b[A\n"
     ]
    },
    {
     "name": "stdout",
     "output_type": "stream",
     "text": [
      "Accuracy on Model:  53.100775193798455\n",
      "Accuracy on EVAL-XG:  56.58914728682171\n"
     ]
    },
    {
     "name": "stderr",
     "output_type": "stream",
     "text": [
      "\n",
      "  0%|          | 0/200 [00:00<?, ?it/s]\u001b[A\n",
      "Explain node 1958:   0%|          | 0/200 [00:00<?, ?it/s]\u001b[A\n",
      "Explain node 1958:  11%|█         | 22/200 [00:00<00:00, 218.44it/s]\u001b[A\n",
      "Explain node 1958:  22%|██▎       | 45/200 [00:00<00:00, 219.43it/s]\u001b[A\n",
      "Explain node 1958:  34%|███▎      | 67/200 [00:00<00:00, 219.53it/s]\u001b[A\n",
      "Explain node 1958:  44%|████▍     | 89/200 [00:00<00:00, 218.92it/s]\u001b[A\n",
      "Explain node 1958:  56%|█████▌    | 112/200 [00:00<00:00, 219.40it/s]\u001b[A\n",
      "Explain node 1958:  67%|██████▋   | 134/200 [00:00<00:00, 219.47it/s]\u001b[A\n",
      "Explain node 1958:  78%|███████▊  | 156/200 [00:00<00:00, 218.45it/s]\u001b[A\n",
      "Explain node 1958: 100%|██████████| 200/200 [00:00<00:00, 219.12it/s]\u001b[A\n"
     ]
    },
    {
     "name": "stdout",
     "output_type": "stream",
     "text": [
      "Accuracy on Model:  53.28185328185329\n",
      "Accuracy on EVAL-XG:  56.75675675675676\n"
     ]
    },
    {
     "name": "stderr",
     "output_type": "stream",
     "text": [
      "\n",
      "  0%|          | 0/200 [00:00<?, ?it/s]\u001b[A\n",
      "Explain node 1959:   0%|          | 0/200 [00:00<?, ?it/s]\u001b[A\n",
      "Explain node 1959:  10%|█         | 21/200 [00:00<00:00, 208.89it/s]\u001b[A\n",
      "Explain node 1959:  22%|██▏       | 44/200 [00:00<00:00, 217.12it/s]\u001b[A\n",
      "Explain node 1959:  33%|███▎      | 66/200 [00:00<00:00, 217.37it/s]\u001b[A\n",
      "Explain node 1959:  44%|████▍     | 89/200 [00:00<00:00, 219.22it/s]\u001b[A\n",
      "Explain node 1959:  56%|█████▌    | 111/200 [00:00<00:00, 218.33it/s]\u001b[A\n",
      "Explain node 1959:  66%|██████▋   | 133/200 [00:00<00:00, 212.40it/s]\u001b[A\n",
      "Explain node 1959:  78%|███████▊  | 155/200 [00:00<00:00, 213.65it/s]\u001b[A\n",
      "Explain node 1959:  88%|████████▊ | 177/200 [00:00<00:00, 213.62it/s]\u001b[A\n",
      "Explain node 1959: 100%|██████████| 200/200 [00:00<00:00, 211.64it/s]\u001b[A\n"
     ]
    },
    {
     "name": "stdout",
     "output_type": "stream",
     "text": [
      "Accuracy on Model:  53.07692307692308\n",
      "Accuracy on EVAL-XG:  56.53846153846154\n"
     ]
    },
    {
     "name": "stderr",
     "output_type": "stream",
     "text": [
      "\n",
      "  0%|          | 0/200 [00:00<?, ?it/s]\u001b[A\n",
      "Explain node 1960:   0%|          | 0/200 [00:00<?, ?it/s]\u001b[A\n",
      "Explain node 1960:  10%|█         | 21/200 [00:00<00:00, 202.46it/s]\u001b[A\n",
      "Explain node 1960:  21%|██        | 42/200 [00:00<00:00, 196.88it/s]\u001b[A\n",
      "Explain node 1960:  32%|███▏      | 63/200 [00:00<00:00, 200.33it/s]\u001b[A\n",
      "Explain node 1960:  42%|████▏     | 84/200 [00:00<00:00, 199.27it/s]\u001b[A\n",
      "Explain node 1960:  52%|█████▏    | 104/200 [00:00<00:00, 197.94it/s]\u001b[A\n",
      "Explain node 1960:  62%|██████▏   | 124/200 [00:00<00:00, 194.65it/s]\u001b[A\n",
      "Explain node 1960:  72%|███████▎  | 145/200 [00:00<00:00, 197.01it/s]\u001b[A\n",
      "Explain node 1960:  83%|████████▎ | 166/200 [00:00<00:00, 200.38it/s]\u001b[A\n",
      "Explain node 1960: 100%|██████████| 200/200 [00:01<00:00, 197.81it/s]\u001b[A\n"
     ]
    },
    {
     "name": "stdout",
     "output_type": "stream",
     "text": [
      "Accuracy on Model:  53.25670498084292\n",
      "Accuracy on EVAL-XG:  56.70498084291188\n"
     ]
    },
    {
     "name": "stderr",
     "output_type": "stream",
     "text": [
      "\n",
      "  0%|          | 0/200 [00:00<?, ?it/s]\u001b[A\n",
      "Explain node 1961:   0%|          | 0/200 [00:00<?, ?it/s]\u001b[A\n",
      "Explain node 1961:  10%|█         | 20/200 [00:00<00:00, 193.46it/s]\u001b[A\n",
      "Explain node 1961:  20%|██        | 40/200 [00:00<00:00, 192.28it/s]\u001b[A\n",
      "Explain node 1961:  30%|███       | 60/200 [00:00<00:00, 191.91it/s]\u001b[A\n",
      "Explain node 1961:  40%|████      | 81/200 [00:00<00:00, 196.32it/s]\u001b[A\n",
      "Explain node 1961:  51%|█████     | 102/200 [00:00<00:00, 198.20it/s]\u001b[A\n",
      "Explain node 1961:  62%|██████▏   | 123/200 [00:00<00:00, 199.82it/s]\u001b[A\n",
      "Explain node 1961:  72%|███████▏  | 144/200 [00:00<00:00, 201.27it/s]\u001b[A\n",
      "Explain node 1961:  82%|████████▎ | 165/200 [00:00<00:00, 197.66it/s]\u001b[A\n",
      "Explain node 1961: 100%|██████████| 200/200 [00:01<00:00, 198.52it/s]\u001b[A\n"
     ]
    },
    {
     "name": "stdout",
     "output_type": "stream",
     "text": [
      "Accuracy on Model:  53.43511450381679\n",
      "Accuracy on EVAL-XG:  56.87022900763359\n"
     ]
    },
    {
     "name": "stderr",
     "output_type": "stream",
     "text": [
      "\n",
      "  0%|          | 0/200 [00:00<?, ?it/s]\u001b[A\n",
      "Explain node 1962:   0%|          | 0/200 [00:00<?, ?it/s]\u001b[A\n",
      "Explain node 1962:  11%|█         | 22/200 [00:00<00:00, 209.33it/s]\u001b[A\n",
      "Explain node 1962:  22%|██▏       | 43/200 [00:00<00:00, 206.48it/s]\u001b[A\n",
      "Explain node 1962:  32%|███▎      | 65/200 [00:00<00:00, 208.19it/s]\u001b[A\n",
      "Explain node 1962:  43%|████▎     | 86/200 [00:00<00:00, 206.85it/s]\u001b[A\n",
      "Explain node 1962:  54%|█████▎    | 107/200 [00:00<00:00, 206.10it/s]\u001b[A\n",
      "Explain node 1962:  64%|██████▍   | 128/200 [00:00<00:00, 204.50it/s]\u001b[A\n",
      "Explain node 1962:  74%|███████▍  | 149/200 [00:00<00:00, 202.99it/s]\u001b[A\n",
      "Explain node 1962:  85%|████████▌ | 170/200 [00:00<00:00, 204.55it/s]\u001b[A\n",
      "Explain node 1962: 100%|██████████| 200/200 [00:00<00:00, 205.16it/s]\u001b[A\n"
     ]
    },
    {
     "name": "stdout",
     "output_type": "stream",
     "text": [
      "Accuracy on Model:  53.61216730038023\n",
      "Accuracy on EVAL-XG:  57.03422053231939\n"
     ]
    },
    {
     "name": "stderr",
     "output_type": "stream",
     "text": [
      "\n",
      "  0%|          | 0/200 [00:00<?, ?it/s]\u001b[A\n",
      "Explain node 1963:   0%|          | 0/200 [00:00<?, ?it/s]\u001b[A\n",
      "Explain node 1963:  10%|█         | 21/200 [00:00<00:00, 206.43it/s]\u001b[A\n",
      "Explain node 1963:  21%|██        | 42/200 [00:00<00:00, 205.30it/s]\u001b[A\n",
      "Explain node 1963:  32%|███▏      | 63/200 [00:00<00:00, 207.19it/s]\u001b[A\n",
      "Explain node 1963:  42%|████▎     | 85/200 [00:00<00:00, 211.24it/s]\u001b[A\n",
      "Explain node 1963:  54%|█████▎    | 107/200 [00:00<00:00, 212.58it/s]\u001b[A\n",
      "Explain node 1963:  64%|██████▍   | 129/200 [00:00<00:00, 212.49it/s]\u001b[A\n",
      "Explain node 1963:  76%|███████▌  | 151/200 [00:00<00:00, 212.48it/s]\u001b[A\n",
      "Explain node 1963:  86%|████████▋ | 173/200 [00:00<00:00, 213.20it/s]\u001b[A\n",
      "Explain node 1963: 100%|██████████| 200/200 [00:00<00:00, 211.72it/s]\u001b[A\n"
     ]
    },
    {
     "name": "stdout",
     "output_type": "stream",
     "text": [
      "Accuracy on Model:  53.78787878787878\n",
      "Accuracy on EVAL-XG:  57.1969696969697\n"
     ]
    },
    {
     "name": "stderr",
     "output_type": "stream",
     "text": [
      "\n",
      "  0%|          | 0/200 [00:00<?, ?it/s]\u001b[A\n",
      "Explain node 1964:   0%|          | 0/200 [00:00<?, ?it/s]\u001b[A\n",
      "Explain node 1964:  11%|█         | 22/200 [00:00<00:00, 217.54it/s]\u001b[A\n",
      "Explain node 1964:  22%|██▎       | 45/200 [00:00<00:00, 219.98it/s]\u001b[A\n",
      "Explain node 1964:  34%|███▍      | 68/200 [00:00<00:00, 223.12it/s]\u001b[A\n",
      "Explain node 1964:  46%|████▌     | 91/200 [00:00<00:00, 215.16it/s]\u001b[A\n",
      "Explain node 1964:  57%|█████▋    | 114/200 [00:00<00:00, 218.57it/s]\u001b[A\n",
      "Explain node 1964:  68%|██████▊   | 137/200 [00:00<00:00, 220.16it/s]\u001b[A\n",
      "Explain node 1964:  80%|████████  | 160/200 [00:00<00:00, 218.66it/s]\u001b[A\n",
      "Explain node 1964: 100%|██████████| 200/200 [00:00<00:00, 217.03it/s]\u001b[A\n"
     ]
    },
    {
     "name": "stdout",
     "output_type": "stream",
     "text": [
      "Accuracy on Model:  53.9622641509434\n",
      "Accuracy on EVAL-XG:  57.35849056603774\n"
     ]
    },
    {
     "name": "stderr",
     "output_type": "stream",
     "text": [
      "\n",
      "  0%|          | 0/200 [00:00<?, ?it/s]\u001b[A\n",
      "Explain node 1965:   0%|          | 0/200 [00:00<?, ?it/s]\u001b[A\n",
      "Explain node 1965:  12%|█▏        | 23/200 [00:00<00:00, 220.50it/s]\u001b[A\n",
      "Explain node 1965:  23%|██▎       | 46/200 [00:00<00:00, 219.07it/s]\u001b[A\n",
      "Explain node 1965:  34%|███▍      | 68/200 [00:00<00:00, 218.65it/s]\u001b[A\n",
      "Explain node 1965:  45%|████▌     | 90/200 [00:00<00:00, 217.93it/s]\u001b[A\n",
      "Explain node 1965:  56%|█████▌    | 112/200 [00:00<00:00, 217.65it/s]\u001b[A\n",
      "Explain node 1965:  67%|██████▋   | 134/200 [00:00<00:00, 218.16it/s]\u001b[A\n",
      "Explain node 1965:  78%|███████▊  | 157/200 [00:00<00:00, 219.85it/s]\u001b[A\n",
      "Explain node 1965: 100%|██████████| 200/200 [00:00<00:00, 219.72it/s]\u001b[A\n"
     ]
    },
    {
     "name": "stdout",
     "output_type": "stream",
     "text": [
      "Accuracy on Model:  54.13533834586466\n",
      "Accuracy on EVAL-XG:  57.5187969924812\n"
     ]
    },
    {
     "name": "stderr",
     "output_type": "stream",
     "text": [
      "\n",
      "  0%|          | 0/200 [00:00<?, ?it/s]\u001b[A\n",
      "Explain node 1966:   0%|          | 0/200 [00:00<?, ?it/s]\u001b[A\n",
      "Explain node 1966:  11%|█         | 22/200 [00:00<00:00, 219.11it/s]\u001b[A\n",
      "Explain node 1966:  22%|██▎       | 45/200 [00:00<00:00, 220.77it/s]\u001b[A\n",
      "Explain node 1966:  34%|███▍      | 68/200 [00:00<00:00, 221.00it/s]\u001b[A\n",
      "Explain node 1966:  46%|████▌     | 91/200 [00:00<00:00, 220.94it/s]\u001b[A\n",
      "Explain node 1966:  57%|█████▋    | 114/200 [00:00<00:00, 222.31it/s]\u001b[A\n",
      "Explain node 1966:  68%|██████▊   | 137/200 [00:00<00:00, 223.45it/s]\u001b[A\n",
      "Explain node 1966:  80%|████████  | 160/200 [00:00<00:00, 223.64it/s]\u001b[A\n",
      "Explain node 1966: 100%|██████████| 200/200 [00:00<00:00, 221.64it/s]\u001b[A\n"
     ]
    },
    {
     "name": "stdout",
     "output_type": "stream",
     "text": [
      "Accuracy on Model:  54.30711610486891\n",
      "Accuracy on EVAL-XG:  57.67790262172284\n"
     ]
    },
    {
     "name": "stderr",
     "output_type": "stream",
     "text": [
      "\n",
      "  0%|          | 0/200 [00:00<?, ?it/s]\u001b[A\n",
      "Explain node 1967:   0%|          | 0/200 [00:00<?, ?it/s]\u001b[A\n",
      "Explain node 1967:  11%|█         | 22/200 [00:00<00:00, 215.09it/s]\u001b[A\n",
      "Explain node 1967:  22%|██▏       | 44/200 [00:00<00:00, 215.12it/s]\u001b[A\n",
      "Explain node 1967:  33%|███▎      | 66/200 [00:00<00:00, 211.41it/s]\u001b[A\n",
      "Explain node 1967:  44%|████▍     | 88/200 [00:00<00:00, 212.26it/s]\u001b[A\n",
      "Explain node 1967:  55%|█████▌    | 110/200 [00:00<00:00, 213.53it/s]\u001b[A\n",
      "Explain node 1967:  66%|██████▌   | 132/200 [00:00<00:00, 209.62it/s]\u001b[A\n",
      "Explain node 1967:  76%|███████▋  | 153/200 [00:00<00:00, 209.65it/s]\u001b[A\n",
      "Explain node 1967:  87%|████████▋ | 174/200 [00:00<00:00, 208.30it/s]\u001b[A\n",
      "Explain node 1967: 100%|██████████| 200/200 [00:00<00:00, 210.07it/s]\u001b[A\n"
     ]
    },
    {
     "name": "stdout",
     "output_type": "stream",
     "text": [
      "Accuracy on Model:  54.47761194029851\n",
      "Accuracy on EVAL-XG:  57.83582089552238\n"
     ]
    },
    {
     "name": "stderr",
     "output_type": "stream",
     "text": [
      "\n",
      "  0%|          | 0/200 [00:00<?, ?it/s]\u001b[A\n",
      "Explain node 1968:   0%|          | 0/200 [00:00<?, ?it/s]\u001b[A\n",
      "Explain node 1968:  11%|█         | 22/200 [00:00<00:00, 214.92it/s]\u001b[A\n",
      "Explain node 1968:  22%|██▏       | 44/200 [00:00<00:00, 214.18it/s]\u001b[A\n",
      "Explain node 1968:  33%|███▎      | 66/200 [00:00<00:00, 215.26it/s]\u001b[A\n",
      "Explain node 1968:  44%|████▍     | 88/200 [00:00<00:00, 214.68it/s]\u001b[A\n",
      "Explain node 1968:  55%|█████▌    | 110/200 [00:00<00:00, 213.51it/s]\u001b[A\n",
      "Explain node 1968:  66%|██████▋   | 133/200 [00:00<00:00, 216.34it/s]\u001b[A\n",
      "Explain node 1968:  78%|███████▊  | 156/200 [00:00<00:00, 217.62it/s]\u001b[A\n",
      "Explain node 1968:  89%|████████▉ | 178/200 [00:00<00:00, 217.07it/s]\u001b[A\n",
      "Explain node 1968: 100%|██████████| 200/200 [00:00<00:00, 215.80it/s]\u001b[A\n"
     ]
    },
    {
     "name": "stdout",
     "output_type": "stream",
     "text": [
      "Accuracy on Model:  54.646840148698885\n",
      "Accuracy on EVAL-XG:  57.99256505576208\n"
     ]
    },
    {
     "name": "stderr",
     "output_type": "stream",
     "text": [
      "\n",
      "  0%|          | 0/200 [00:00<?, ?it/s]\u001b[A\n",
      "Explain node 1969:   0%|          | 0/200 [00:00<?, ?it/s]\u001b[A\n",
      "Explain node 1969:  11%|█         | 22/200 [00:00<00:00, 219.92it/s]\u001b[A\n",
      "Explain node 1969:  22%|██▎       | 45/200 [00:00<00:00, 221.14it/s]\u001b[A\n",
      "Explain node 1969:  34%|███▍      | 68/200 [00:00<00:00, 221.60it/s]\u001b[A\n",
      "Explain node 1969:  46%|████▌     | 91/200 [00:00<00:00, 220.04it/s]\u001b[A\n",
      "Explain node 1969:  57%|█████▋    | 114/200 [00:00<00:00, 221.33it/s]\u001b[A\n",
      "Explain node 1969:  68%|██████▊   | 137/200 [00:00<00:00, 220.67it/s]\u001b[A\n",
      "Explain node 1969:  80%|████████  | 160/200 [00:00<00:00, 220.74it/s]\u001b[A\n",
      "Explain node 1969: 100%|██████████| 200/200 [00:00<00:00, 221.03it/s]\u001b[A\n"
     ]
    },
    {
     "name": "stdout",
     "output_type": "stream",
     "text": [
      "Accuracy on Model:  54.81481481481482\n",
      "Accuracy on EVAL-XG:  57.77777777777777\n"
     ]
    },
    {
     "name": "stderr",
     "output_type": "stream",
     "text": [
      "\n",
      "  0%|          | 0/200 [00:00<?, ?it/s]\u001b[A\n",
      "Explain node 1970:   0%|          | 0/200 [00:00<?, ?it/s]\u001b[A\n",
      "Explain node 1970:  12%|█▏        | 23/200 [00:00<00:00, 227.33it/s]\u001b[A\n",
      "Explain node 1970:  23%|██▎       | 46/200 [00:00<00:00, 225.46it/s]\u001b[A\n",
      "Explain node 1970:  34%|███▍      | 69/200 [00:00<00:00, 226.35it/s]\u001b[A\n",
      "Explain node 1970:  46%|████▌     | 92/200 [00:00<00:00, 222.98it/s]\u001b[A\n",
      "Explain node 1970:  57%|█████▊    | 115/200 [00:00<00:00, 222.76it/s]\u001b[A\n",
      "Explain node 1970:  69%|██████▉   | 138/200 [00:00<00:00, 224.23it/s]\u001b[A\n",
      "Explain node 1970:  80%|████████  | 161/200 [00:00<00:00, 214.33it/s]\u001b[A\n",
      "Explain node 1970: 100%|██████████| 200/200 [00:00<00:00, 220.52it/s]\u001b[A\n"
     ]
    },
    {
     "name": "stdout",
     "output_type": "stream",
     "text": [
      "Accuracy on Model:  54.981549815498155\n",
      "Accuracy on EVAL-XG:  57.93357933579336\n"
     ]
    },
    {
     "name": "stderr",
     "output_type": "stream",
     "text": [
      "\n",
      "  0%|          | 0/200 [00:00<?, ?it/s]\u001b[A\n",
      "Explain node 1971:   0%|          | 0/200 [00:00<?, ?it/s]\u001b[A\n",
      "Explain node 1971:  12%|█▏        | 23/200 [00:00<00:00, 224.49it/s]\u001b[A\n",
      "Explain node 1971:  23%|██▎       | 46/200 [00:00<00:00, 222.60it/s]\u001b[A\n",
      "Explain node 1971:  34%|███▍      | 69/200 [00:00<00:00, 221.92it/s]\u001b[A\n",
      "Explain node 1971:  46%|████▌     | 92/200 [00:00<00:00, 221.94it/s]\u001b[A\n",
      "Explain node 1971:  57%|█████▊    | 115/200 [00:00<00:00, 221.89it/s]\u001b[A\n",
      "Explain node 1971:  69%|██████▉   | 138/200 [00:00<00:00, 223.52it/s]\u001b[A\n",
      "Explain node 1971:  80%|████████  | 161/200 [00:00<00:00, 225.33it/s]\u001b[A\n",
      "Explain node 1971: 100%|██████████| 200/200 [00:00<00:00, 224.92it/s]\u001b[A\n"
     ]
    },
    {
     "name": "stdout",
     "output_type": "stream",
     "text": [
      "Accuracy on Model:  55.14705882352941\n",
      "Accuracy on EVAL-XG:  58.08823529411765\n"
     ]
    },
    {
     "name": "stderr",
     "output_type": "stream",
     "text": [
      "\n",
      "  0%|          | 0/200 [00:00<?, ?it/s]\u001b[A\n",
      "Explain node 1972:   0%|          | 0/200 [00:00<?, ?it/s]\u001b[A\n",
      "Explain node 1972:  12%|█▏        | 23/200 [00:00<00:00, 224.13it/s]\u001b[A\n",
      "Explain node 1972:  23%|██▎       | 46/200 [00:00<00:00, 220.26it/s]\u001b[A\n",
      "Explain node 1972:  34%|███▍      | 69/200 [00:00<00:00, 222.51it/s]\u001b[A\n",
      "Explain node 1972:  46%|████▌     | 92/200 [00:00<00:00, 225.38it/s]\u001b[A\n",
      "Explain node 1972:  57%|█████▊    | 115/200 [00:00<00:00, 225.87it/s]\u001b[A\n",
      "Explain node 1972:  69%|██████▉   | 138/200 [00:00<00:00, 225.78it/s]\u001b[A\n",
      "Explain node 1972:  80%|████████  | 161/200 [00:00<00:00, 225.41it/s]\u001b[A\n",
      "Explain node 1972: 100%|██████████| 200/200 [00:00<00:00, 225.09it/s]\u001b[A\n"
     ]
    },
    {
     "name": "stdout",
     "output_type": "stream",
     "text": [
      "Accuracy on Model:  55.311355311355314\n",
      "Accuracy on EVAL-XG:  58.24175824175825\n"
     ]
    },
    {
     "name": "stderr",
     "output_type": "stream",
     "text": [
      "\n",
      "  0%|          | 0/200 [00:00<?, ?it/s]\u001b[A\n",
      "Explain node 1973:   0%|          | 0/200 [00:00<?, ?it/s]\u001b[A\n",
      "Explain node 1973:  12%|█▏        | 23/200 [00:00<00:00, 221.08it/s]\u001b[A\n",
      "Explain node 1973:  23%|██▎       | 46/200 [00:00<00:00, 220.99it/s]\u001b[A\n",
      "Explain node 1973:  34%|███▍      | 69/200 [00:00<00:00, 223.08it/s]\u001b[A\n",
      "Explain node 1973:  46%|████▌     | 92/200 [00:00<00:00, 223.77it/s]\u001b[A\n",
      "Explain node 1973:  57%|█████▊    | 115/200 [00:00<00:00, 224.79it/s]\u001b[A\n",
      "Explain node 1973:  69%|██████▉   | 138/200 [00:00<00:00, 209.38it/s]\u001b[A\n",
      "Explain node 1973:  80%|████████  | 160/200 [00:00<00:00, 211.72it/s]\u001b[A\n",
      "Explain node 1973: 100%|██████████| 200/200 [00:00<00:00, 217.40it/s]\u001b[A\n"
     ]
    },
    {
     "name": "stdout",
     "output_type": "stream",
     "text": [
      "Accuracy on Model:  55.1094890510949\n",
      "Accuracy on EVAL-XG:  58.02919708029197\n"
     ]
    },
    {
     "name": "stderr",
     "output_type": "stream",
     "text": [
      "\n",
      "  0%|          | 0/200 [00:00<?, ?it/s]\u001b[A\n",
      "Explain node 1974:   0%|          | 0/200 [00:00<?, ?it/s]\u001b[A\n",
      "Explain node 1974:  12%|█▏        | 23/200 [00:00<00:00, 227.37it/s]\u001b[A\n",
      "Explain node 1974:  23%|██▎       | 46/200 [00:00<00:00, 227.45it/s]\u001b[A\n",
      "Explain node 1974:  34%|███▍      | 69/200 [00:00<00:00, 225.31it/s]\u001b[A\n",
      "Explain node 1974:  46%|████▌     | 92/200 [00:00<00:00, 225.22it/s]\u001b[A\n",
      "Explain node 1974:  57%|█████▊    | 115/200 [00:00<00:00, 225.10it/s]\u001b[A\n",
      "Explain node 1974:  70%|██████▉   | 139/200 [00:00<00:00, 227.15it/s]\u001b[A\n",
      "Explain node 1974:  81%|████████  | 162/200 [00:00<00:00, 227.64it/s]\u001b[A\n",
      "Explain node 1974: 100%|██████████| 200/200 [00:00<00:00, 225.46it/s]\u001b[A\n"
     ]
    },
    {
     "name": "stdout",
     "output_type": "stream",
     "text": [
      "Accuracy on Model:  55.27272727272727\n",
      "Accuracy on EVAL-XG:  58.18181818181818\n"
     ]
    },
    {
     "name": "stderr",
     "output_type": "stream",
     "text": [
      "\n",
      "  0%|          | 0/200 [00:00<?, ?it/s]\u001b[A\n",
      "Explain node 1975:   0%|          | 0/200 [00:00<?, ?it/s]\u001b[A\n",
      "Explain node 1975:  12%|█▏        | 23/200 [00:00<00:00, 228.34it/s]\u001b[A\n",
      "Explain node 1975:  23%|██▎       | 46/200 [00:00<00:00, 227.84it/s]\u001b[A\n",
      "Explain node 1975:  34%|███▍      | 69/200 [00:00<00:00, 226.73it/s]\u001b[A\n",
      "Explain node 1975:  46%|████▌     | 92/200 [00:00<00:00, 225.48it/s]\u001b[A\n",
      "Explain node 1975:  57%|█████▊    | 115/200 [00:00<00:00, 223.43it/s]\u001b[A\n",
      "Explain node 1975:  69%|██████▉   | 138/200 [00:00<00:00, 223.18it/s]\u001b[A\n",
      "Explain node 1975:  80%|████████  | 161/200 [00:00<00:00, 224.87it/s]\u001b[A\n",
      "Explain node 1975: 100%|██████████| 200/200 [00:00<00:00, 225.11it/s]\u001b[A\n"
     ]
    },
    {
     "name": "stdout",
     "output_type": "stream",
     "text": [
      "Accuracy on Model:  55.072463768115945\n",
      "Accuracy on EVAL-XG:  57.971014492753625\n"
     ]
    },
    {
     "name": "stderr",
     "output_type": "stream",
     "text": [
      "\n",
      "  0%|          | 0/200 [00:00<?, ?it/s]\u001b[A\n",
      "Explain node 1976:   0%|          | 0/200 [00:00<?, ?it/s]\u001b[A\n",
      "Explain node 1976:   9%|▉         | 18/200 [00:00<00:01, 178.63it/s]\u001b[A\n",
      "Explain node 1976:  20%|██        | 41/200 [00:00<00:00, 206.52it/s]\u001b[A\n",
      "Explain node 1976:  32%|███▏      | 64/200 [00:00<00:00, 211.99it/s]\u001b[A\n",
      "Explain node 1976:  43%|████▎     | 86/200 [00:00<00:00, 195.81it/s]\u001b[A\n",
      "Explain node 1976:  53%|█████▎    | 106/200 [00:00<00:00, 185.90it/s]\u001b[A\n",
      "Explain node 1976:  62%|██████▎   | 125/200 [00:00<00:00, 180.81it/s]\u001b[A\n",
      "Explain node 1976:  72%|███████▏  | 144/200 [00:00<00:00, 179.01it/s]\u001b[A\n",
      "Explain node 1976:  81%|████████  | 162/200 [00:00<00:00, 177.35it/s]\u001b[A\n",
      "Explain node 1976:  90%|█████████ | 180/200 [00:00<00:00, 176.06it/s]\u001b[A\n",
      "Explain node 1976: 100%|██████████| 200/200 [00:01<00:00, 182.88it/s]\u001b[A\n"
     ]
    },
    {
     "name": "stdout",
     "output_type": "stream",
     "text": [
      "Accuracy on Model:  55.23465703971119\n",
      "Accuracy on EVAL-XG:  58.12274368231047\n"
     ]
    },
    {
     "name": "stderr",
     "output_type": "stream",
     "text": [
      "\n",
      "  0%|          | 0/200 [00:00<?, ?it/s]\u001b[A\n",
      "Explain node 1977:   0%|          | 0/200 [00:00<?, ?it/s]\u001b[A\n",
      "Explain node 1977:  12%|█▏        | 23/200 [00:00<00:00, 226.76it/s]\u001b[A\n",
      "Explain node 1977:  23%|██▎       | 46/200 [00:00<00:00, 195.37it/s]\u001b[A\n",
      "Explain node 1977:  34%|███▍      | 69/200 [00:00<00:00, 206.30it/s]\u001b[A\n",
      "Explain node 1977:  46%|████▌     | 92/200 [00:00<00:00, 213.32it/s]\u001b[A\n",
      "Explain node 1977:  57%|█████▊    | 115/200 [00:00<00:00, 217.48it/s]\u001b[A\n",
      "Explain node 1977:  69%|██████▉   | 138/200 [00:00<00:00, 220.55it/s]\u001b[A\n",
      "Explain node 1977:  80%|████████  | 161/200 [00:00<00:00, 221.43it/s]\u001b[A\n",
      "Explain node 1977: 100%|██████████| 200/200 [00:00<00:00, 213.41it/s]\u001b[A\n"
     ]
    },
    {
     "name": "stdout",
     "output_type": "stream",
     "text": [
      "Accuracy on Model:  55.39568345323741\n",
      "Accuracy on EVAL-XG:  57.9136690647482\n"
     ]
    },
    {
     "name": "stderr",
     "output_type": "stream",
     "text": [
      "\n",
      "  0%|          | 0/200 [00:00<?, ?it/s]\u001b[A\n",
      "Explain node 1978:   0%|          | 0/200 [00:00<?, ?it/s]\u001b[A\n",
      "Explain node 1978:  12%|█▏        | 23/200 [00:00<00:00, 222.34it/s]\u001b[A\n",
      "Explain node 1978:  23%|██▎       | 46/200 [00:00<00:00, 219.38it/s]\u001b[A\n",
      "Explain node 1978:  34%|███▍      | 68/200 [00:00<00:00, 219.24it/s]\u001b[A\n",
      "Explain node 1978:  45%|████▌     | 90/200 [00:00<00:00, 218.46it/s]\u001b[A\n",
      "Explain node 1978:  56%|█████▌    | 112/200 [00:00<00:00, 213.95it/s]\u001b[A\n",
      "Explain node 1978:  67%|██████▋   | 134/200 [00:00<00:00, 212.42it/s]\u001b[A\n",
      "Explain node 1978:  78%|███████▊  | 156/200 [00:00<00:00, 212.28it/s]\u001b[A\n",
      "Explain node 1978: 100%|██████████| 200/200 [00:00<00:00, 215.39it/s]\u001b[A\n"
     ]
    },
    {
     "name": "stdout",
     "output_type": "stream",
     "text": [
      "Accuracy on Model:  55.55555555555556\n",
      "Accuracy on EVAL-XG:  58.06451612903226\n"
     ]
    },
    {
     "name": "stderr",
     "output_type": "stream",
     "text": [
      "\n",
      "  0%|          | 0/200 [00:00<?, ?it/s]\u001b[A\n",
      "Explain node 1979:   0%|          | 0/200 [00:00<?, ?it/s]\u001b[A\n",
      "Explain node 1979:  12%|█▏        | 23/200 [00:00<00:00, 222.09it/s]\u001b[A\n",
      "Explain node 1979:  23%|██▎       | 46/200 [00:00<00:00, 221.79it/s]\u001b[A\n",
      "Explain node 1979:  34%|███▍      | 69/200 [00:00<00:00, 222.74it/s]\u001b[A\n",
      "Explain node 1979:  46%|████▌     | 92/200 [00:00<00:00, 223.11it/s]\u001b[A\n",
      "Explain node 1979:  57%|█████▊    | 115/200 [00:00<00:00, 222.04it/s]\u001b[A\n",
      "Explain node 1979:  69%|██████▉   | 138/200 [00:00<00:00, 221.47it/s]\u001b[A\n",
      "Explain node 1979:  80%|████████  | 161/200 [00:00<00:00, 221.28it/s]\u001b[A\n",
      "Explain node 1979: 100%|██████████| 200/200 [00:00<00:00, 220.79it/s]\u001b[A\n"
     ]
    },
    {
     "name": "stdout",
     "output_type": "stream",
     "text": [
      "Accuracy on Model:  55.714285714285715\n",
      "Accuracy on EVAL-XG:  58.214285714285715\n"
     ]
    },
    {
     "name": "stderr",
     "output_type": "stream",
     "text": [
      "\n",
      "  0%|          | 0/200 [00:00<?, ?it/s]\u001b[A\n",
      "Explain node 1980:   0%|          | 0/200 [00:00<?, ?it/s]\u001b[A\n",
      "Explain node 1980:  11%|█         | 22/200 [00:00<00:00, 215.12it/s]\u001b[A\n",
      "Explain node 1980:  22%|██▏       | 44/200 [00:00<00:00, 215.18it/s]\u001b[A\n",
      "Explain node 1980:  34%|███▎      | 67/200 [00:00<00:00, 220.51it/s]\u001b[A\n",
      "Explain node 1980:  45%|████▌     | 90/200 [00:00<00:00, 222.10it/s]\u001b[A\n",
      "Explain node 1980:  56%|█████▋    | 113/200 [00:00<00:00, 222.13it/s]\u001b[A\n",
      "Explain node 1980:  68%|██████▊   | 136/200 [00:00<00:00, 221.44it/s]\u001b[A\n",
      "Explain node 1980:  80%|███████▉  | 159/200 [00:00<00:00, 221.28it/s]\u001b[A\n",
      "Explain node 1980: 100%|██████████| 200/200 [00:00<00:00, 221.01it/s]\u001b[A\n"
     ]
    },
    {
     "name": "stdout",
     "output_type": "stream",
     "text": [
      "Accuracy on Model:  55.51601423487544\n",
      "Accuracy on EVAL-XG:  58.00711743772242\n"
     ]
    },
    {
     "name": "stderr",
     "output_type": "stream",
     "text": [
      "\n",
      "  0%|          | 0/200 [00:00<?, ?it/s]\u001b[A\n",
      "Explain node 1981:   0%|          | 0/200 [00:00<?, ?it/s]\u001b[A\n",
      "Explain node 1981:  10%|█         | 21/200 [00:00<00:00, 207.55it/s]\u001b[A\n",
      "Explain node 1981:  21%|██        | 42/200 [00:00<00:00, 196.07it/s]\u001b[A\n",
      "Explain node 1981:  32%|███▏      | 64/200 [00:00<00:00, 205.45it/s]\u001b[A\n",
      "Explain node 1981:  44%|████▎     | 87/200 [00:00<00:00, 211.85it/s]\u001b[A\n",
      "Explain node 1981:  55%|█████▍    | 109/200 [00:00<00:00, 207.85it/s]\u001b[A\n",
      "Explain node 1981:  65%|██████▌   | 130/200 [00:00<00:00, 206.53it/s]\u001b[A\n",
      "Explain node 1981:  76%|███████▌  | 151/200 [00:00<00:00, 205.29it/s]\u001b[A\n",
      "Explain node 1981:  86%|████████▋ | 173/200 [00:00<00:00, 207.67it/s]\u001b[A\n",
      "Explain node 1981: 100%|██████████| 200/200 [00:00<00:00, 207.01it/s]\u001b[A\n"
     ]
    },
    {
     "name": "stdout",
     "output_type": "stream",
     "text": [
      "Accuracy on Model:  55.319148936170215\n",
      "Accuracy on EVAL-XG:  57.801418439716315\n"
     ]
    },
    {
     "name": "stderr",
     "output_type": "stream",
     "text": [
      "\n",
      "  0%|          | 0/200 [00:00<?, ?it/s]\u001b[A\n",
      "Explain node 1982:   0%|          | 0/200 [00:00<?, ?it/s]\u001b[A\n",
      "Explain node 1982:  11%|█         | 22/200 [00:00<00:00, 211.77it/s]\u001b[A\n",
      "Explain node 1982:  22%|██▏       | 44/200 [00:00<00:00, 215.79it/s]\u001b[A\n",
      "Explain node 1982:  33%|███▎      | 66/200 [00:00<00:00, 215.72it/s]\u001b[A\n",
      "Explain node 1982:  44%|████▍     | 88/200 [00:00<00:00, 213.18it/s]\u001b[A\n",
      "Explain node 1982:  55%|█████▌    | 110/200 [00:00<00:00, 210.97it/s]\u001b[A\n",
      "Explain node 1982:  66%|██████▌   | 132/200 [00:00<00:00, 208.19it/s]\u001b[A\n",
      "Explain node 1982:  76%|███████▋  | 153/200 [00:00<00:00, 207.10it/s]\u001b[A\n",
      "Explain node 1982:  88%|████████▊ | 175/200 [00:00<00:00, 208.45it/s]\u001b[A\n",
      "Explain node 1982: 100%|██████████| 200/200 [00:00<00:00, 207.72it/s]\u001b[A\n"
     ]
    },
    {
     "name": "stdout",
     "output_type": "stream",
     "text": [
      "Accuracy on Model:  55.47703180212014\n",
      "Accuracy on EVAL-XG:  57.95053003533569\n"
     ]
    },
    {
     "name": "stderr",
     "output_type": "stream",
     "text": [
      "\n",
      "  0%|          | 0/200 [00:00<?, ?it/s]\u001b[A\n",
      "Explain node 1983:   0%|          | 0/200 [00:00<?, ?it/s]\u001b[A\n",
      "Explain node 1983:  10%|█         | 21/200 [00:00<00:00, 209.22it/s]\u001b[A\n",
      "Explain node 1983:  21%|██        | 42/200 [00:00<00:00, 208.87it/s]\u001b[A\n",
      "Explain node 1983:  32%|███▏      | 63/200 [00:00<00:00, 205.06it/s]\u001b[A\n",
      "Explain node 1983:  42%|████▎     | 85/200 [00:00<00:00, 209.76it/s]\u001b[A\n",
      "Explain node 1983:  54%|█████▍    | 108/200 [00:00<00:00, 213.77it/s]\u001b[A\n",
      "Explain node 1983:  66%|██████▌   | 131/200 [00:00<00:00, 216.42it/s]\u001b[A\n",
      "Explain node 1983:  77%|███████▋  | 154/200 [00:00<00:00, 218.55it/s]\u001b[A\n",
      "Explain node 1983:  88%|████████▊ | 177/200 [00:00<00:00, 219.93it/s]\u001b[A\n",
      "Explain node 1983: 100%|██████████| 200/200 [00:00<00:00, 215.37it/s]\u001b[A\n"
     ]
    },
    {
     "name": "stdout",
     "output_type": "stream",
     "text": [
      "Accuracy on Model:  55.28169014084507\n",
      "Accuracy on EVAL-XG:  57.74647887323944\n"
     ]
    },
    {
     "name": "stderr",
     "output_type": "stream",
     "text": [
      "\n",
      "  0%|          | 0/200 [00:00<?, ?it/s]\u001b[A\n",
      "Explain node 1984:   0%|          | 0/200 [00:00<?, ?it/s]\u001b[A\n",
      "Explain node 1984:  10%|█         | 21/200 [00:00<00:00, 208.53it/s]\u001b[A\n",
      "Explain node 1984:  22%|██▏       | 43/200 [00:00<00:00, 210.81it/s]\u001b[A\n",
      "Explain node 1984:  32%|███▎      | 65/200 [00:00<00:00, 212.57it/s]\u001b[A\n",
      "Explain node 1984:  44%|████▎     | 87/200 [00:00<00:00, 214.76it/s]\u001b[A\n",
      "Explain node 1984:  55%|█████▍    | 109/200 [00:00<00:00, 207.98it/s]\u001b[A\n",
      "Explain node 1984:  66%|██████▌   | 132/200 [00:00<00:00, 212.90it/s]\u001b[A\n",
      "Explain node 1984:  77%|███████▋  | 154/200 [00:00<00:00, 204.99it/s]\u001b[A\n",
      "Explain node 1984:  88%|████████▊ | 175/200 [00:00<00:00, 202.38it/s]\u001b[A\n",
      "Explain node 1984: 100%|██████████| 200/200 [00:00<00:00, 208.12it/s]\u001b[A\n"
     ]
    },
    {
     "name": "stdout",
     "output_type": "stream",
     "text": [
      "Accuracy on Model:  55.08771929824562\n",
      "Accuracy on EVAL-XG:  57.89473684210527\n"
     ]
    },
    {
     "name": "stderr",
     "output_type": "stream",
     "text": [
      "\n",
      "  0%|          | 0/200 [00:00<?, ?it/s]\u001b[A\n",
      "Explain node 1985:   0%|          | 0/200 [00:00<?, ?it/s]\u001b[A\n",
      "Explain node 1985:  11%|█         | 22/200 [00:00<00:00, 213.65it/s]\u001b[A\n",
      "Explain node 1985:  22%|██▏       | 44/200 [00:00<00:00, 217.31it/s]\u001b[A\n",
      "Explain node 1985:  34%|███▎      | 67/200 [00:00<00:00, 219.42it/s]\u001b[A\n",
      "Explain node 1985:  45%|████▌     | 90/200 [00:00<00:00, 220.15it/s]\u001b[A\n",
      "Explain node 1985:  56%|█████▋    | 113/200 [00:00<00:00, 220.48it/s]\u001b[A\n",
      "Explain node 1985:  68%|██████▊   | 136/200 [00:00<00:00, 214.64it/s]\u001b[A\n",
      "Explain node 1985:  79%|███████▉  | 158/200 [00:00<00:00, 202.03it/s]\u001b[A\n",
      "Explain node 1985:  90%|████████▉ | 179/200 [00:00<00:00, 203.57it/s]\u001b[A\n",
      "Explain node 1985: 100%|██████████| 200/200 [00:00<00:00, 209.63it/s]\u001b[A\n"
     ]
    },
    {
     "name": "stdout",
     "output_type": "stream",
     "text": [
      "Accuracy on Model:  54.89510489510489\n",
      "Accuracy on EVAL-XG:  57.692307692307686\n"
     ]
    },
    {
     "name": "stderr",
     "output_type": "stream",
     "text": [
      "\n",
      "  0%|          | 0/200 [00:00<?, ?it/s]\u001b[A\n",
      "Explain node 1986:   0%|          | 0/200 [00:00<?, ?it/s]\u001b[A\n",
      "Explain node 1986:  10%|▉         | 19/200 [00:00<00:00, 183.80it/s]\u001b[A\n",
      "Explain node 1986:  20%|██        | 41/200 [00:00<00:00, 200.55it/s]\u001b[A\n",
      "Explain node 1986:  32%|███▏      | 63/200 [00:00<00:00, 206.08it/s]\u001b[A\n",
      "Explain node 1986:  42%|████▏     | 84/200 [00:00<00:00, 203.26it/s]\u001b[A\n",
      "Explain node 1986:  52%|█████▎    | 105/200 [00:00<00:00, 199.52it/s]\u001b[A\n",
      "Explain node 1986:  64%|██████▍   | 128/200 [00:00<00:00, 206.80it/s]\u001b[A\n",
      "Explain node 1986:  75%|███████▌  | 150/200 [00:00<00:00, 209.88it/s]\u001b[A\n",
      "Explain node 1986:  86%|████████▋ | 173/200 [00:00<00:00, 213.64it/s]\u001b[A\n",
      "Explain node 1986: 100%|██████████| 200/200 [00:00<00:00, 207.77it/s]\u001b[A\n"
     ]
    },
    {
     "name": "stdout",
     "output_type": "stream",
     "text": [
      "Accuracy on Model:  55.052264808362374\n",
      "Accuracy on EVAL-XG:  57.8397212543554\n"
     ]
    },
    {
     "name": "stderr",
     "output_type": "stream",
     "text": [
      "\n",
      "  0%|          | 0/200 [00:00<?, ?it/s]\u001b[A\n",
      "Explain node 1987:   0%|          | 0/200 [00:00<?, ?it/s]\u001b[A\n",
      "Explain node 1987:  10%|█         | 21/200 [00:00<00:00, 209.91it/s]\u001b[A\n",
      "Explain node 1987:  21%|██        | 42/200 [00:00<00:00, 209.47it/s]\u001b[A\n",
      "Explain node 1987:  32%|███▏      | 64/200 [00:00<00:00, 211.25it/s]\u001b[A\n",
      "Explain node 1987:  43%|████▎     | 86/200 [00:00<00:00, 211.26it/s]\u001b[A\n",
      "Explain node 1987:  54%|█████▍    | 108/200 [00:00<00:00, 208.92it/s]\u001b[A\n",
      "Explain node 1987:  64%|██████▍   | 129/200 [00:00<00:00, 207.49it/s]\u001b[A\n",
      "Explain node 1987:  76%|███████▌  | 151/200 [00:00<00:00, 209.03it/s]\u001b[A\n",
      "Explain node 1987:  86%|████████▌ | 172/200 [00:00<00:00, 209.03it/s]\u001b[A\n",
      "Explain node 1987: 100%|██████████| 200/200 [00:00<00:00, 208.79it/s]\u001b[A\n"
     ]
    },
    {
     "name": "stdout",
     "output_type": "stream",
     "text": [
      "Accuracy on Model:  54.861111111111114\n",
      "Accuracy on EVAL-XG:  57.638888888888886\n"
     ]
    },
    {
     "name": "stderr",
     "output_type": "stream",
     "text": [
      "\n",
      "  0%|          | 0/200 [00:00<?, ?it/s]\u001b[A\n",
      "Explain node 1988:   0%|          | 0/200 [00:00<?, ?it/s]\u001b[A\n",
      "Explain node 1988:  10%|█         | 21/200 [00:00<00:00, 205.11it/s]\u001b[A\n",
      "Explain node 1988:  22%|██▏       | 43/200 [00:00<00:00, 211.89it/s]\u001b[A\n",
      "Explain node 1988:  32%|███▎      | 65/200 [00:00<00:00, 215.00it/s]\u001b[A\n",
      "Explain node 1988:  44%|████▎     | 87/200 [00:00<00:00, 214.62it/s]\u001b[A\n",
      "Explain node 1988:  55%|█████▍    | 109/200 [00:00<00:00, 211.94it/s]\u001b[A\n",
      "Explain node 1988:  66%|██████▌   | 131/200 [00:00<00:00, 213.85it/s]\u001b[A\n",
      "Explain node 1988:  76%|███████▋  | 153/200 [00:00<00:00, 213.82it/s]\u001b[A\n",
      "Explain node 1988:  88%|████████▊ | 175/200 [00:00<00:00, 210.95it/s]\u001b[A\n",
      "Explain node 1988: 100%|██████████| 200/200 [00:00<00:00, 209.93it/s]\u001b[A\n"
     ]
    },
    {
     "name": "stdout",
     "output_type": "stream",
     "text": [
      "Accuracy on Model:  55.017301038062286\n",
      "Accuracy on EVAL-XG:  57.785467128027676\n"
     ]
    },
    {
     "name": "stderr",
     "output_type": "stream",
     "text": [
      "\n",
      "  0%|          | 0/200 [00:00<?, ?it/s]\u001b[A\n",
      "Explain node 1989:   0%|          | 0/200 [00:00<?, ?it/s]\u001b[A\n",
      "Explain node 1989:  11%|█         | 22/200 [00:00<00:00, 214.87it/s]\u001b[A\n",
      "Explain node 1989:  22%|██▏       | 44/200 [00:00<00:00, 214.41it/s]\u001b[A\n",
      "Explain node 1989:  33%|███▎      | 66/200 [00:00<00:00, 214.88it/s]\u001b[A\n",
      "Explain node 1989:  44%|████▍     | 88/200 [00:00<00:00, 215.58it/s]\u001b[A\n",
      "Explain node 1989:  55%|█████▌    | 110/200 [00:00<00:00, 213.39it/s]\u001b[A\n",
      "Explain node 1989:  66%|██████▌   | 132/200 [00:00<00:00, 215.20it/s]\u001b[A\n",
      "Explain node 1989:  77%|███████▋  | 154/200 [00:00<00:00, 216.69it/s]\u001b[A\n",
      "Explain node 1989:  88%|████████▊ | 176/200 [00:00<00:00, 217.42it/s]\u001b[A\n",
      "Explain node 1989: 100%|██████████| 200/200 [00:00<00:00, 215.61it/s]\u001b[A\n"
     ]
    },
    {
     "name": "stdout",
     "output_type": "stream",
     "text": [
      "Accuracy on Model:  55.172413793103445\n",
      "Accuracy on EVAL-XG:  57.931034482758626\n"
     ]
    },
    {
     "name": "stderr",
     "output_type": "stream",
     "text": [
      "\n",
      "  0%|          | 0/200 [00:00<?, ?it/s]\u001b[A\n",
      "Explain node 1990:   0%|          | 0/200 [00:00<?, ?it/s]\u001b[A\n",
      "Explain node 1990:  11%|█         | 22/200 [00:00<00:00, 213.85it/s]\u001b[A\n",
      "Explain node 1990:  22%|██▏       | 44/200 [00:00<00:00, 216.68it/s]\u001b[A\n",
      "Explain node 1990:  34%|███▎      | 67/200 [00:00<00:00, 218.57it/s]\u001b[A\n",
      "Explain node 1990:  44%|████▍     | 89/200 [00:00<00:00, 218.91it/s]\u001b[A\n",
      "Explain node 1990:  56%|█████▌    | 111/200 [00:00<00:00, 218.38it/s]\u001b[A\n",
      "Explain node 1990:  66%|██████▋   | 133/200 [00:00<00:00, 218.65it/s]\u001b[A\n",
      "Explain node 1990:  78%|███████▊  | 155/200 [00:00<00:00, 218.11it/s]\u001b[A\n",
      "Explain node 1990:  88%|████████▊ | 177/200 [00:00<00:00, 217.28it/s]\u001b[A\n",
      "Explain node 1990: 100%|██████████| 200/200 [00:00<00:00, 216.33it/s]\u001b[A\n"
     ]
    },
    {
     "name": "stdout",
     "output_type": "stream",
     "text": [
      "Accuracy on Model:  54.98281786941581\n",
      "Accuracy on EVAL-XG:  58.075601374570454\n"
     ]
    },
    {
     "name": "stderr",
     "output_type": "stream",
     "text": [
      "\n",
      "  0%|          | 0/200 [00:00<?, ?it/s]\u001b[A\n",
      "Explain node 1991:   0%|          | 0/200 [00:00<?, ?it/s]\u001b[A\n",
      "Explain node 1991:  11%|█         | 22/200 [00:00<00:00, 211.00it/s]\u001b[A\n",
      "Explain node 1991:  22%|██▏       | 44/200 [00:00<00:00, 200.04it/s]\u001b[A\n",
      "Explain node 1991:  33%|███▎      | 66/200 [00:00<00:00, 206.04it/s]\u001b[A\n",
      "Explain node 1991:  44%|████▍     | 88/200 [00:00<00:00, 208.99it/s]\u001b[A\n",
      "Explain node 1991:  55%|█████▌    | 110/200 [00:00<00:00, 210.68it/s]\u001b[A\n",
      "Explain node 1991:  66%|██████▌   | 132/200 [00:00<00:00, 211.25it/s]\u001b[A\n",
      "Explain node 1991:  77%|███████▋  | 154/200 [00:00<00:00, 211.31it/s]\u001b[A\n",
      "Explain node 1991:  88%|████████▊ | 176/200 [00:00<00:00, 211.76it/s]\u001b[A\n",
      "Explain node 1991: 100%|██████████| 200/200 [00:00<00:00, 209.64it/s]\u001b[A\n"
     ]
    },
    {
     "name": "stdout",
     "output_type": "stream",
     "text": [
      "Accuracy on Model:  54.794520547945204\n",
      "Accuracy on EVAL-XG:  58.21917808219178\n"
     ]
    },
    {
     "name": "stderr",
     "output_type": "stream",
     "text": [
      "\n",
      "  0%|          | 0/200 [00:00<?, ?it/s]\u001b[A\n",
      "Explain node 1992:   0%|          | 0/200 [00:00<?, ?it/s]\u001b[A\n",
      "Explain node 1992:  10%|█         | 21/200 [00:00<00:00, 201.88it/s]\u001b[A\n",
      "Explain node 1992:  22%|██▏       | 43/200 [00:00<00:00, 207.97it/s]\u001b[A\n",
      "Explain node 1992:  32%|███▎      | 65/200 [00:00<00:00, 209.46it/s]\u001b[A\n",
      "Explain node 1992:  44%|████▎     | 87/200 [00:00<00:00, 211.06it/s]\u001b[A\n",
      "Explain node 1992:  55%|█████▍    | 109/200 [00:00<00:00, 207.50it/s]\u001b[A\n",
      "Explain node 1992:  65%|██████▌   | 130/200 [00:00<00:00, 199.47it/s]\u001b[A\n",
      "Explain node 1992:  76%|███████▌  | 152/200 [00:00<00:00, 204.66it/s]\u001b[A\n",
      "Explain node 1992:  87%|████████▋ | 174/200 [00:00<00:00, 208.14it/s]\u001b[A\n",
      "Explain node 1992: 100%|██████████| 200/200 [00:00<00:00, 207.72it/s]\u001b[A\n"
     ]
    },
    {
     "name": "stdout",
     "output_type": "stream",
     "text": [
      "Accuracy on Model:  54.94880546075085\n",
      "Accuracy on EVAL-XG:  58.36177474402731\n"
     ]
    },
    {
     "name": "stderr",
     "output_type": "stream",
     "text": [
      "\n",
      "  0%|          | 0/200 [00:00<?, ?it/s]\u001b[A\n",
      "Explain node 1993:   0%|          | 0/200 [00:00<?, ?it/s]\u001b[A\n",
      "Explain node 1993:  11%|█         | 22/200 [00:00<00:00, 211.49it/s]\u001b[A\n",
      "Explain node 1993:  22%|██▏       | 44/200 [00:00<00:00, 213.86it/s]\u001b[A\n",
      "Explain node 1993:  33%|███▎      | 66/200 [00:00<00:00, 214.19it/s]\u001b[A\n",
      "Explain node 1993:  44%|████▍     | 88/200 [00:00<00:00, 214.86it/s]\u001b[A\n",
      "Explain node 1993:  55%|█████▌    | 110/200 [00:00<00:00, 216.05it/s]\u001b[A\n",
      "Explain node 1993:  66%|██████▌   | 132/200 [00:00<00:00, 217.23it/s]\u001b[A\n",
      "Explain node 1993:  77%|███████▋  | 154/200 [00:00<00:00, 218.03it/s]\u001b[A\n",
      "Explain node 1993:  88%|████████▊ | 177/200 [00:00<00:00, 219.04it/s]\u001b[A\n",
      "Explain node 1993: 100%|██████████| 200/200 [00:00<00:00, 216.40it/s]\u001b[A\n"
     ]
    },
    {
     "name": "stdout",
     "output_type": "stream",
     "text": [
      "Accuracy on Model:  54.761904761904766\n",
      "Accuracy on EVAL-XG:  58.16326530612245\n"
     ]
    },
    {
     "name": "stderr",
     "output_type": "stream",
     "text": [
      "\n",
      "  0%|          | 0/200 [00:00<?, ?it/s]\u001b[A\n",
      "Explain node 1994:   0%|          | 0/200 [00:00<?, ?it/s]\u001b[A\n",
      "Explain node 1994:  12%|█▏        | 23/200 [00:00<00:00, 221.63it/s]\u001b[A\n",
      "Explain node 1994:  23%|██▎       | 46/200 [00:00<00:00, 222.64it/s]\u001b[A\n",
      "Explain node 1994:  34%|███▍      | 69/200 [00:00<00:00, 215.28it/s]\u001b[A\n",
      "Explain node 1994:  46%|████▌     | 91/200 [00:00<00:00, 210.97it/s]\u001b[A\n",
      "Explain node 1994:  57%|█████▋    | 114/200 [00:00<00:00, 214.86it/s]\u001b[A\n",
      "Explain node 1994:  68%|██████▊   | 136/200 [00:00<00:00, 214.55it/s]\u001b[A\n",
      "Explain node 1994:  79%|███████▉  | 158/200 [00:00<00:00, 213.59it/s]\u001b[A\n",
      "Explain node 1994: 100%|██████████| 200/200 [00:00<00:00, 213.23it/s]\u001b[A\n"
     ]
    },
    {
     "name": "stdout",
     "output_type": "stream",
     "text": [
      "Accuracy on Model:  54.91525423728814\n",
      "Accuracy on EVAL-XG:  58.30508474576271\n"
     ]
    },
    {
     "name": "stderr",
     "output_type": "stream",
     "text": [
      "\n",
      "  0%|          | 0/200 [00:00<?, ?it/s]\u001b[A\n",
      "Explain node 1995:   0%|          | 0/200 [00:00<?, ?it/s]\u001b[A\n",
      "Explain node 1995:  10%|█         | 21/200 [00:00<00:00, 205.90it/s]\u001b[A\n",
      "Explain node 1995:  21%|██        | 42/200 [00:00<00:00, 203.47it/s]\u001b[A\n",
      "Explain node 1995:  32%|███▏      | 63/200 [00:00<00:00, 205.93it/s]\u001b[A\n",
      "Explain node 1995:  43%|████▎     | 86/200 [00:00<00:00, 211.84it/s]\u001b[A\n",
      "Explain node 1995:  54%|█████▍    | 108/200 [00:00<00:00, 208.77it/s]\u001b[A\n",
      "Explain node 1995:  64%|██████▍   | 129/200 [00:00<00:00, 207.32it/s]\u001b[A\n",
      "Explain node 1995:  76%|███████▌  | 152/200 [00:00<00:00, 212.15it/s]\u001b[A\n",
      "Explain node 1995:  88%|████████▊ | 175/200 [00:00<00:00, 215.78it/s]\u001b[A\n",
      "Explain node 1995: 100%|██████████| 200/200 [00:00<00:00, 212.31it/s]\u001b[A\n"
     ]
    },
    {
     "name": "stdout",
     "output_type": "stream",
     "text": [
      "Accuracy on Model:  55.067567567567565\n",
      "Accuracy on EVAL-XG:  58.108108108108105\n"
     ]
    },
    {
     "name": "stderr",
     "output_type": "stream",
     "text": [
      "\n",
      "  0%|          | 0/200 [00:00<?, ?it/s]\u001b[A\n",
      "Explain node 1996:   0%|          | 0/200 [00:00<?, ?it/s]\u001b[A\n",
      "Explain node 1996:  12%|█▏        | 23/200 [00:00<00:00, 221.72it/s]\u001b[A\n",
      "Explain node 1996:  23%|██▎       | 46/200 [00:00<00:00, 221.51it/s]\u001b[A\n",
      "Explain node 1996:  34%|███▍      | 69/200 [00:00<00:00, 221.71it/s]\u001b[A\n",
      "Explain node 1996:  46%|████▌     | 92/200 [00:00<00:00, 220.78it/s]\u001b[A\n",
      "Explain node 1996:  57%|█████▊    | 115/200 [00:00<00:00, 217.73it/s]\u001b[A\n",
      "Explain node 1996:  68%|██████▊   | 137/200 [00:00<00:00, 214.55it/s]\u001b[A\n",
      "Explain node 1996:  80%|███████▉  | 159/200 [00:00<00:00, 210.66it/s]\u001b[A\n",
      "Explain node 1996: 100%|██████████| 200/200 [00:00<00:00, 214.11it/s]\u001b[A\n"
     ]
    },
    {
     "name": "stdout",
     "output_type": "stream",
     "text": [
      "Accuracy on Model:  55.218855218855225\n",
      "Accuracy on EVAL-XG:  58.24915824915825\n"
     ]
    },
    {
     "name": "stderr",
     "output_type": "stream",
     "text": [
      "\n",
      "  0%|          | 0/200 [00:00<?, ?it/s]\u001b[A\n",
      "Explain node 1997:   0%|          | 0/200 [00:00<?, ?it/s]\u001b[A\n",
      "Explain node 1997:  11%|█         | 22/200 [00:00<00:00, 217.94it/s]\u001b[A\n",
      "Explain node 1997:  22%|██▎       | 45/200 [00:00<00:00, 219.81it/s]\u001b[A\n",
      "Explain node 1997:  34%|███▎      | 67/200 [00:00<00:00, 219.24it/s]\u001b[A\n",
      "Explain node 1997:  44%|████▍     | 89/200 [00:00<00:00, 217.45it/s]\u001b[A\n",
      "Explain node 1997:  56%|█████▌    | 111/200 [00:00<00:00, 215.60it/s]\u001b[A\n",
      "Explain node 1997:  66%|██████▋   | 133/200 [00:00<00:00, 215.47it/s]\u001b[A\n",
      "Explain node 1997:  78%|███████▊  | 155/200 [00:00<00:00, 212.66it/s]\u001b[A\n",
      "Explain node 1997:  88%|████████▊ | 177/200 [00:00<00:00, 211.83it/s]\u001b[A\n",
      "Explain node 1997: 100%|██████████| 200/200 [00:00<00:00, 212.96it/s]\u001b[A\n"
     ]
    },
    {
     "name": "stdout",
     "output_type": "stream",
     "text": [
      "Accuracy on Model:  55.369127516778526\n",
      "Accuracy on EVAL-XG:  58.38926174496645\n"
     ]
    },
    {
     "name": "stderr",
     "output_type": "stream",
     "text": [
      "\n",
      "  0%|          | 0/200 [00:00<?, ?it/s]\u001b[A\n",
      "Explain node 1998:   0%|          | 0/200 [00:00<?, ?it/s]\u001b[A\n",
      "Explain node 1998:  11%|█         | 22/200 [00:00<00:00, 214.77it/s]\u001b[A\n",
      "Explain node 1998:  22%|██▏       | 44/200 [00:00<00:00, 217.52it/s]\u001b[A\n",
      "Explain node 1998:  34%|███▎      | 67/200 [00:00<00:00, 221.79it/s]\u001b[A\n",
      "Explain node 1998:  45%|████▌     | 90/200 [00:00<00:00, 222.10it/s]\u001b[A\n",
      "Explain node 1998:  56%|█████▋    | 113/200 [00:00<00:00, 222.93it/s]\u001b[A\n",
      "Explain node 1998:  68%|██████▊   | 136/200 [00:00<00:00, 221.19it/s]\u001b[A\n",
      "Explain node 1998:  80%|███████▉  | 159/200 [00:00<00:00, 221.44it/s]\u001b[A\n",
      "Explain node 1998: 100%|██████████| 200/200 [00:00<00:00, 221.15it/s]\u001b[A\n"
     ]
    },
    {
     "name": "stdout",
     "output_type": "stream",
     "text": [
      "Accuracy on Model:  55.18394648829431\n",
      "Accuracy on EVAL-XG:  58.19397993311036\n"
     ]
    },
    {
     "name": "stderr",
     "output_type": "stream",
     "text": [
      "\n",
      "  0%|          | 0/200 [00:00<?, ?it/s]\u001b[A\n",
      "Explain node 1999:   0%|          | 0/200 [00:00<?, ?it/s]\u001b[A\n",
      "Explain node 1999:  12%|█▏        | 23/200 [00:00<00:00, 220.70it/s]\u001b[A\n",
      "Explain node 1999:  23%|██▎       | 46/200 [00:00<00:00, 215.40it/s]\u001b[A\n",
      "Explain node 1999:  34%|███▍      | 68/200 [00:00<00:00, 216.67it/s]\u001b[A\n",
      "Explain node 1999:  45%|████▌     | 90/200 [00:00<00:00, 216.89it/s]\u001b[A\n",
      "Explain node 1999:  56%|█████▌    | 112/200 [00:00<00:00, 210.76it/s]\u001b[A\n",
      "Explain node 1999:  67%|██████▋   | 134/200 [00:00<00:00, 213.06it/s]\u001b[A\n",
      "Explain node 1999:  78%|███████▊  | 156/200 [00:00<00:00, 207.04it/s]\u001b[A\n",
      "Explain node 1999:  88%|████████▊ | 177/200 [00:00<00:00, 205.63it/s]\u001b[A\n",
      "Explain node 1999: 100%|██████████| 200/200 [00:00<00:00, 210.46it/s]\u001b[A"
     ]
    },
    {
     "name": "stdout",
     "output_type": "stream",
     "text": [
      "Accuracy on Model:  55.00000000000001\n",
      "Accuracy on EVAL-XG:  57.99999999999999\n",
      "Model Total Accuracy:  55.00000000000001\n",
      "EVAL-XG Total Accuracy:  57.99999999999999\n"
     ]
    },
    {
     "name": "stderr",
     "output_type": "stream",
     "text": [
      "\n"
     ]
    }
   ],
   "source": [
    "explainer = GNNExplainer(eval_xg, epochs=200, return_type='log_prob')\n",
    "explainer.to(device)\n",
    "model_total_correct = 0\n",
    "eval_xg_total_correct = 0\n",
    "count = 0\n",
    "for i in range(V):\n",
    "    if data.test_mask[i]==False:\n",
    "        continue\n",
    "    count+=1\n",
    "    node_idx = i\n",
    "    node_feat_mask, edge_mask = explainer.explain_node(node_idx, data.x, data.edge_index)\n",
    "    SF, SA = Explain_Samples(data.x,data.edge_index,0,node_feat_mask,edge_mask,3,2)\n",
    "    \n",
    "    model_correct = forward_explain(model,SF,SA,node_idx)\n",
    "    model_total_correct += model_correct\n",
    "    \n",
    "    eval_xg_correct = forward_explain(eval_xg,SF,SA,node_idx)\n",
    "    eval_xg_total_correct += eval_xg_correct\n",
    "    \n",
    "    print(\"Accuracy on Model: \", model_total_correct/count * 100)\n",
    "    print(\"Accuracy on EVAL-XG: \", eval_xg_total_correct/count * 100)\n",
    "    \n",
    "\n",
    "print('Model Total Accuracy: ', model_total_correct/count * 100)\n",
    "print(\"EVAL-XG Total Accuracy: \", eval_xg_total_correct/count * 100)   "
   ]
  }
 ],
 "metadata": {
  "kernelspec": {
   "display_name": "Python 3",
   "language": "python",
   "name": "python3"
  },
  "language_info": {
   "codemirror_mode": {
    "name": "ipython",
    "version": 3
   },
   "file_extension": ".py",
   "mimetype": "text/x-python",
   "name": "python",
   "nbconvert_exporter": "python",
   "pygments_lexer": "ipython3",
   "version": "3.9.5"
  }
 },
 "nbformat": 4,
 "nbformat_minor": 5
}
