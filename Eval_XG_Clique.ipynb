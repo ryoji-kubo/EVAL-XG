{
 "cells": [
  {
   "cell_type": "code",
   "execution_count": 1,
   "id": "72928581",
   "metadata": {},
   "outputs": [],
   "source": [
    "%matplotlib inline\n",
    "import matplotlib.pyplot as plt\n",
    "from torch_geometric.utils import *\n",
    "from torch_geometric.data import Data\n",
    "import torch\n",
    "import random\n",
    "import numpy as np\n",
    "random.seed()\n",
    "import torch.nn as nn\n",
    "import torch.nn.functional as F\n",
    "from torch_geometric.nn import GCNConv\n",
    "from torch_geometric.nn import GNNExplainer\n",
    "import networkx as nx\n",
    "import pandas as pd"
   ]
  },
  {
   "cell_type": "code",
   "execution_count": 2,
   "id": "9ab1582c",
   "metadata": {},
   "outputs": [
    {
     "name": "stdout",
     "output_type": "stream",
     "text": [
      "Using cuda device\n"
     ]
    }
   ],
   "source": [
    "device = \"cuda\" if torch.cuda.is_available() else \"cpu\"\n",
    "print(f\"Using {device} device\")"
   ]
  },
  {
   "cell_type": "markdown",
   "id": "92a8a8e5",
   "metadata": {},
   "source": [
    "Making Synthetic Dataset of a Clique"
   ]
  },
  {
   "cell_type": "code",
   "execution_count": 3,
   "id": "e119f059",
   "metadata": {},
   "outputs": [],
   "source": [
    "def get_label(X, E, k_1, k_2):\n",
    "    '''\n",
    "    X: Node Feature Set\n",
    "    E: Edge Index\n",
    "    k_1: Const. for s(x)\n",
    "    k_2: Const. for n(x)\n",
    "    '''\n",
    "    Ft_Sum = torch.sum(X,dim=1,keepdim=True)\n",
    "    S = torch.exp(Ft_Sum - k_1)\n",
    "    N = torch.exp(Ft_Sum - k_2)\n",
    "    A = to_dense_adj(E)\n",
    "    A = A.squeeze()\n",
    "    N = torch.matmul(A, N)\n",
    "    F = S + N\n",
    "    P = 1/(1+F)\n",
    "    Y = torch.bernoulli(P)\n",
    "    # Y = Y.long()\n",
    "    return Y, P"
   ]
  },
  {
   "cell_type": "code",
   "execution_count": 4,
   "id": "e9e905f3",
   "metadata": {},
   "outputs": [],
   "source": [
    "# of Nodes\n",
    "V = 2000\n",
    "clique_size = 5\n",
    "train_index = int(V*0.7)\n",
    "val_index = int(V*0.7)+int(V*0.15)"
   ]
  },
  {
   "cell_type": "code",
   "execution_count": 5,
   "id": "c5f9e1f4",
   "metadata": {},
   "outputs": [],
   "source": [
    "N1 = torch.normal(mean=2, std=1.0,size = (V,3))\n",
    "N2 = torch.normal(mean=-2, std=1.0,size = (V,3))\n",
    "Prob = torch.rand(V,3)\n",
    "X = torch.where(Prob>0.5, N1, N2)"
   ]
  },
  {
   "cell_type": "code",
   "execution_count": 16,
   "id": "a423a13c",
   "metadata": {},
   "outputs": [],
   "source": [
    "for i in range(int(V/clique_size)):\n",
    "    if i == 0:\n",
    "        CQ = nx.complete_graph(clique_size)\n",
    "    else:\n",
    "        cq = nx.complete_graph(clique_size)\n",
    "        CQ = nx.disjoint_union(CQ,cq)\n",
    "\n",
    "data = from_networkx(CQ)\n",
    "\n",
    "#transofrm features into an exponent of them\n",
    "Exp_X = torch.exp(X)\n",
    "#unimportant features\n",
    "Extension = torch.exp(torch.normal(mean=0.0, std=1.0,size=(V,2)))\n",
    "data.x = torch.cat((Exp_X, Extension), 1)\n",
    "#label\n",
    "Y,P = get_label(X, data.edge_index, 3, 5)\n",
    "data.y = Y\n",
    "# train val test mask\n",
    "train = torch.zeros(V, dtype=torch.bool)\n",
    "val = torch.zeros(V, dtype=torch.bool)\n",
    "test = torch.zeros(V, dtype=torch.bool)\n",
    "train[:train_index] = True\n",
    "val[train_index:val_index] = True\n",
    "test[val_index:] = True\n",
    "data.train_mask = train\n",
    "data.val_mask = val\n",
    "data.test_mask = test"
   ]
  },
  {
   "cell_type": "code",
   "execution_count": 17,
   "id": "54cd8b8b",
   "metadata": {},
   "outputs": [
    {
     "name": "stdout",
     "output_type": "stream",
     "text": [
      "tensor(976.)\n",
      "tensor(1024.)\n"
     ]
    },
    {
     "data": {
      "text/plain": [
       "<BarContainer object of 2 artists>"
      ]
     },
     "execution_count": 17,
     "metadata": {},
     "output_type": "execute_result"
    },
    {
     "data": {
      "image/png": "[encoded data removed]",
      "text/plain": [
       "<Figure size 432x288 with 1 Axes>"
      ]
     },
     "metadata": {
      "needs_background": "light"
     },
     "output_type": "display_data"
    }
   ],
   "source": [
    "#label distribution\n",
    "ones = Y.sum()\n",
    "print(ones)\n",
    "zeros = V - ones\n",
    "print(zeros)\n",
    "plt.bar([0,1],[zeros,ones])"
   ]
  },
  {
   "cell_type": "code",
   "execution_count": 19,
   "id": "01272b18",
   "metadata": {},
   "outputs": [],
   "source": [
    "data_x = pd.DataFrame(data.x)\n",
    "data_x.to_csv('./Synthetic_Data/Clique_Data/data_x')\n",
    "data_edge_index = pd.DataFrame(data.edge_index)\n",
    "data_edge_index.to_csv('./Synthetic_Data/Clique_Data/data_edge_index')\n",
    "data_y = pd.DataFrame(data.y)\n",
    "data_y.to_csv('./Synthetic_Data/Clique_Data/data_y')\n",
    "data_P = pd.DataFrame(P)\n",
    "data_P.to_csv('./Synthetic_Data/Clique_Data/bernoulli_prob')\n",
    "data_train_mask = pd.DataFrame(data.train_mask)\n",
    "data_train_mask.to_csv('./Synthetic_Data/Clique_Data/data_train_mask')\n",
    "data_val_mask = pd.DataFrame(data.val_mask)\n",
    "data_val_mask.to_csv('./Synthetic_Data/Clique_Data/data_val_mask')\n",
    "data_test_mask = pd.DataFrame(data.test_mask)\n",
    "data_test_mask.to_csv('./Synthetic_Data/Clique_Data/data_test_mask')"
   ]
  },
  {
   "cell_type": "code",
   "execution_count": 20,
   "id": "24803e95",
   "metadata": {},
   "outputs": [
    {
     "name": "stdout",
     "output_type": "stream",
     "text": [
      "0.803\n"
     ]
    }
   ],
   "source": [
    "## Optimal Prediction\n",
    "pred = torch.round(P)  # Use the class with highest probability.\n",
    "correct = pred == data.y  # Check against ground-truth labels.\n",
    "# print(correct.sum())\n",
    "val_acc = int(correct.sum())/V  # Derive ratio of correct predictions.\n",
    "print(val_acc)"
   ]
  },
  {
   "cell_type": "code",
   "execution_count": 21,
   "id": "c7fcd99c",
   "metadata": {},
   "outputs": [
    {
     "data": {
      "text/plain": [
       "Data(edge_index=[2, 8000], num_nodes=2000, x=[2000, 5], y=[2000, 1], train_mask=[2000], val_mask=[2000], test_mask=[2000])"
      ]
     },
     "execution_count": 21,
     "metadata": {},
     "output_type": "execute_result"
    }
   ],
   "source": [
    "data.to(device)"
   ]
  },
  {
   "cell_type": "code",
   "execution_count": 23,
   "id": "e574f2b7",
   "metadata": {},
   "outputs": [
    {
     "data": {
      "text/plain": [
       "Data(edge_index=[2, 8000], num_nodes=2000, x=[2000, 5], y=[2000, 1], test_mask=[2000])"
      ]
     },
     "execution_count": 23,
     "metadata": {},
     "output_type": "execute_result"
    }
   ],
   "source": [
    "#Testing True Data Distribution with Dataset that has unimportant features masked with 0\n",
    "test_eval_x = torch.cat((Exp_X, torch.zeros(V,2)),1)\n",
    "test_eval_data = from_networkx(CQ)\n",
    "test_eval_data.x = test_eval_x\n",
    "test_eval_data.y = Y\n",
    "test_eval_data.test_mask = test\n",
    "test_eval_data.to(device)"
   ]
  },
  {
   "cell_type": "code",
   "execution_count": 24,
   "id": "3ea572ed",
   "metadata": {},
   "outputs": [],
   "source": [
    "@torch.no_grad()\n",
    "def Create_Samples(X, E, mask, p_1=0.5, p_2=0.5):\n",
    "    '''\n",
    "    Create a dataset for samples\n",
    "    X: Node Features\n",
    "    E: Edge Index\n",
    "    mask: the mask token to be used\n",
    "    p_1: the bernoulli prob. of masking for adjacency matrix\n",
    "    p_2: the bernoulli prob. of masking for features\n",
    "    '''\n",
    "    # Number of Nodes\n",
    "    V = X.size()[0] \n",
    "    # Number of Features\n",
    "    F = X.size()[1]\n",
    "\n",
    "    ## sampling random adjacency matrix\n",
    "    #Original Adj Matrix\n",
    "    A = to_dense_adj(E)\n",
    "    #Prob of Keeping Adj Matrix\n",
    "    P_adj = torch.rand(1,V,V).to(device)\n",
    "    C = torch.mul(A,P_adj)\n",
    "    #n stacks of Sample Adj Matrix\n",
    "    Sample_Adj = C > p_1\n",
    "    Sample_Adj,_ = dense_to_sparse(Sample_Adj)\n",
    "    \n",
    "    ## sampling random features\n",
    "    P_feature = torch.rand(1,F).to(device)\n",
    "    # Mask_feature = mask*torch.ones(1,F,dtype=torch.double).to(device)\n",
    "    mask = torch.as_tensor(mask, dtype=torch.float).to(device)\n",
    "    # mask = mask.double()\n",
    "    # print(mask)\n",
    "    # prob = torch.as_tensor(1-p_2, dtype=torch.double).to(device)\n",
    "    # prob = (1-p_2)*torch.ones(1,F,dtype=torch.double).to(device)\n",
    "    SF = torch.where(P_feature>(1-p_2),mask,X.float())\n",
    "    Sample_Ft = SF\n",
    "    \n",
    "    return Sample_Ft, Sample_Adj"
   ]
  },
  {
   "cell_type": "code",
   "execution_count": 40,
   "id": "d968fc38",
   "metadata": {},
   "outputs": [
    {
     "name": "stdout",
     "output_type": "stream",
     "text": [
      "Model(\n",
      "  (fc0): Linear(in_features=5, out_features=16, bias=True)\n",
      "  (fc1): Linear(in_features=16, out_features=16, bias=True)\n",
      "  (bn1): BatchNorm1d(16, eps=1e-05, momentum=0.1, affine=True, track_running_stats=True)\n",
      "  (conv1): GCNConv(16, 16)\n",
      "  (fc2): Linear(in_features=16, out_features=16, bias=True)\n",
      "  (bn2): BatchNorm1d(16, eps=1e-05, momentum=0.1, affine=True, track_running_stats=True)\n",
      "  (fc3): Linear(in_features=16, out_features=1, bias=True)\n",
      "  (relu): ReLU()\n",
      "  (sigmoid): Sigmoid()\n",
      ")\n"
     ]
    }
   ],
   "source": [
    "class Model(torch.nn.Module):\n",
    "    def __init__(self, num_features, mask=-0.1, p_1=0, p_2=0):\n",
    "        super(Model, self).__init__()\n",
    "        self.fc0 = nn.Linear(num_features, 16)\n",
    "        self.fc1 = nn.Linear(16, 16)\n",
    "        self.bn1 = nn.BatchNorm1d(16)\n",
    "        self.conv1 = GCNConv(16, 16)\n",
    "        self.fc2 = nn.Linear(16, 16)\n",
    "        self.bn2 = nn.BatchNorm1d(16)\n",
    "        self.fc3 = nn.Linear(16,1)\n",
    "        self.relu = nn.ReLU()\n",
    "        self.sigmoid = nn.Sigmoid()\n",
    "        self.mask = False\n",
    "        self.mask_param = [mask, p_1, p_2]\n",
    "\n",
    "    def forward(self, x, edge_index):\n",
    "        if self.mask == False:\n",
    "            E = edge_index\n",
    "            X = x\n",
    "            self.mask = True\n",
    "        else:\n",
    "            X, E = Create_Samples(x, edge_index, self.mask_param[0], self.mask_param[1], self.mask_param[2])\n",
    "        x = self.fc0(X)\n",
    "        x = self.relu(x)\n",
    "        x = self.fc1(X)\n",
    "        x = self.relu(x)\n",
    "        x = self.bn1(x)\n",
    "        x = F.dropout(x, p=0.5, training=self.training)\n",
    "        x = self.conv1(x, E)\n",
    "        x = self.relu(x)\n",
    "        x = F.dropout(x, p=0.5, training=self.training)\n",
    "        x = self.fc2(x)\n",
    "        x = self.relu(x)\n",
    "        x = self.bn2(x)\n",
    "        x = F.dropout(x, p=0.5, training=self.training)\n",
    "        x = self.fc3(x)\n",
    "        x = self.sigmoid(x)\n",
    "        return x\n",
    "    \n",
    "    def change_param(self, mask, p_1, p_2):\n",
    "        self.mask_param = [mask,p_1,p_2]\n",
    "\n",
    "    def mask_off(self):\n",
    "        self.mask = False\n",
    "        \n",
    "model = Model(num_features=5, mask=0, p_1 = 0, p_2=0)\n",
    "print(model)"
   ]
  },
  {
   "cell_type": "code",
   "execution_count": 41,
   "id": "61f1fb3e",
   "metadata": {},
   "outputs": [],
   "source": [
    "@torch.no_grad()\n",
    "def validate(model):\n",
    "    model.eval()\n",
    "    model.mask_off()\n",
    "    out = model(data.x, data.edge_index)\n",
    "    val_loss = criterion(out[data.val_mask], data.y[data.val_mask])\n",
    "    pred = torch.round(out)  # Use the class with highest probability.\n",
    "    val_correct = pred[data.val_mask] == data.y[data.val_mask]  # Check against ground-truth labels.\n",
    "    val_acc = int(val_correct.sum()) / int(data.val_mask.sum())  # Derive ratio of correct predictions.\n",
    "    return val_loss, val_acc\n",
    "\n",
    "@torch.no_grad()\n",
    "def test(model):\n",
    "    model.eval()\n",
    "    model.mask_off()\n",
    "    out = model(data.x, data.edge_index)\n",
    "    pred = torch.round(out) # Use the class with highest probability.\n",
    "    test_correct = pred[data.test_mask] == data.y[data.test_mask]  # Check against ground-truth labels.\n",
    "    test_acc = int(test_correct.sum()) / int(data.test_mask.sum())  # Derive ratio of correct predictions.\n",
    "    return test_acc\n",
    "\n",
    "@torch.no_grad()\n",
    "def test_eval(model):\n",
    "    model.eval()\n",
    "    model.mask_off()\n",
    "    out = model(test_eval_data.x, test_eval_data.edge_index)\n",
    "    pred = torch.round(out) # Use the class with highest probability.\n",
    "    test_correct = pred[data.test_mask] == data.y[data.test_mask]  # Check against ground-truth labels.\n",
    "    test_acc = int(test_correct.sum()) / int(data.test_mask.sum())  # Derive ratio of correct predictions.\n",
    "    return test_acc"
   ]
  },
  {
   "cell_type": "code",
   "execution_count": 42,
   "id": "a7e1e80a",
   "metadata": {},
   "outputs": [],
   "source": [
    "from IPython.display import clear_output\n",
    "@torch.no_grad()\n",
    "def live_plot(data_dict, figsize=(7,5), title=''):\n",
    "    clear_output(wait=True)\n",
    "    for label,data in data_dict.items():\n",
    "        plt.plot(data, label=label)\n",
    "    plt.title(title)\n",
    "    plt.grid(True)\n",
    "    plt.xlabel('epoch')\n",
    "    plt.legend(loc='upper right') # the plot evolves to the right\n",
    "    plt.show()"
   ]
  },
  {
   "cell_type": "code",
   "execution_count": 43,
   "id": "676e608f",
   "metadata": {},
   "outputs": [],
   "source": [
    "@torch.no_grad()\n",
    "def save_plot(data_dict, figsize=(7,5), title=''):\n",
    "    for label,data in data_dict.items():\n",
    "        plt.plot(data, label=label)\n",
    "    plt.title(title)\n",
    "    plt.grid(True)\n",
    "    plt.xlabel('epoch')\n",
    "    plt.legend(loc='upper right') # the plot evolves to the right\n",
    "    plt.savefig(f'{title}.png')"
   ]
  },
  {
   "cell_type": "markdown",
   "id": "6d299304",
   "metadata": {},
   "source": [
    "Model Trained on the Full Feature Set"
   ]
  },
  {
   "cell_type": "code",
   "execution_count": 44,
   "id": "aa0b5d42",
   "metadata": {},
   "outputs": [
    {
     "ename": "RuntimeError",
     "evalue": "mat1 and mat2 shapes cannot be multiplied (2000x5 and 16x16)",
     "output_type": "error",
     "traceback": [
      "\u001b[0;31m---------------------------------------------------------------------------\u001b[0m",
      "\u001b[0;31mRuntimeError\u001b[0m                              Traceback (most recent call last)",
      "\u001b[0;32m<ipython-input-44-8755dcc459ad>\u001b[0m in \u001b[0;36m<module>\u001b[0;34m\u001b[0m\n\u001b[1;32m     18\u001b[0m \u001b[0mfinal_epoch\u001b[0m \u001b[0;34m=\u001b[0m \u001b[0;36m0\u001b[0m\u001b[0;34m\u001b[0m\u001b[0;34m\u001b[0m\u001b[0m\n\u001b[1;32m     19\u001b[0m \u001b[0;32mfor\u001b[0m \u001b[0mepoch\u001b[0m \u001b[0;32min\u001b[0m \u001b[0mrange\u001b[0m\u001b[0;34m(\u001b[0m\u001b[0;36m1\u001b[0m\u001b[0;34m,\u001b[0m \u001b[0;36m500\u001b[0m\u001b[0;34m)\u001b[0m\u001b[0;34m:\u001b[0m\u001b[0;34m\u001b[0m\u001b[0;34m\u001b[0m\u001b[0m\n\u001b[0;32m---> 20\u001b[0;31m     \u001b[0mloss\u001b[0m \u001b[0;34m=\u001b[0m \u001b[0mtrain\u001b[0m\u001b[0;34m(\u001b[0m\u001b[0mepoch\u001b[0m\u001b[0;34m)\u001b[0m\u001b[0;34m\u001b[0m\u001b[0;34m\u001b[0m\u001b[0m\n\u001b[0m\u001b[1;32m     21\u001b[0m     \u001b[0mprint\u001b[0m\u001b[0;34m(\u001b[0m\u001b[0;34mf'Epoch: {epoch:03d}, Loss: {loss:.4f}'\u001b[0m\u001b[0;34m)\u001b[0m\u001b[0;34m\u001b[0m\u001b[0;34m\u001b[0m\u001b[0m\n\u001b[1;32m     22\u001b[0m     \u001b[0mtrain_batch_losses\u001b[0m \u001b[0;34m=\u001b[0m \u001b[0;34m[\u001b[0m\u001b[0;34m]\u001b[0m\u001b[0;34m\u001b[0m\u001b[0;34m\u001b[0m\u001b[0m\n",
      "\u001b[0;32m<ipython-input-44-8755dcc459ad>\u001b[0m in \u001b[0;36mtrain\u001b[0;34m(epoch)\u001b[0m\n\u001b[1;32m      7\u001b[0m     \u001b[0mmodel\u001b[0m\u001b[0;34m.\u001b[0m\u001b[0mtrain\u001b[0m\u001b[0;34m(\u001b[0m\u001b[0;34m)\u001b[0m\u001b[0;34m\u001b[0m\u001b[0;34m\u001b[0m\u001b[0m\n\u001b[1;32m      8\u001b[0m     \u001b[0moptimizer\u001b[0m\u001b[0;34m.\u001b[0m\u001b[0mzero_grad\u001b[0m\u001b[0;34m(\u001b[0m\u001b[0;34m)\u001b[0m  \u001b[0;31m# Clear gradients.\u001b[0m\u001b[0;34m\u001b[0m\u001b[0;34m\u001b[0m\u001b[0m\n\u001b[0;32m----> 9\u001b[0;31m     \u001b[0mout\u001b[0m \u001b[0;34m=\u001b[0m \u001b[0mmodel\u001b[0m\u001b[0;34m(\u001b[0m\u001b[0mdata\u001b[0m\u001b[0;34m.\u001b[0m\u001b[0mx\u001b[0m\u001b[0;34m,\u001b[0m \u001b[0mdata\u001b[0m\u001b[0;34m.\u001b[0m\u001b[0medge_index\u001b[0m\u001b[0;34m)\u001b[0m  \u001b[0;31m# Perform a single forward pass.\u001b[0m\u001b[0;34m\u001b[0m\u001b[0;34m\u001b[0m\u001b[0m\n\u001b[0m\u001b[1;32m     10\u001b[0m     \u001b[0mloss\u001b[0m \u001b[0;34m=\u001b[0m \u001b[0mcriterion\u001b[0m\u001b[0;34m(\u001b[0m\u001b[0mout\u001b[0m\u001b[0;34m[\u001b[0m\u001b[0mdata\u001b[0m\u001b[0;34m.\u001b[0m\u001b[0mtrain_mask\u001b[0m\u001b[0;34m]\u001b[0m\u001b[0;34m,\u001b[0m \u001b[0mdata\u001b[0m\u001b[0;34m.\u001b[0m\u001b[0my\u001b[0m\u001b[0;34m[\u001b[0m\u001b[0mdata\u001b[0m\u001b[0;34m.\u001b[0m\u001b[0mtrain_mask\u001b[0m\u001b[0;34m]\u001b[0m\u001b[0;34m)\u001b[0m  \u001b[0;31m# Compute the loss solely based on the training nodes.\u001b[0m\u001b[0;34m\u001b[0m\u001b[0;34m\u001b[0m\u001b[0m\n\u001b[1;32m     11\u001b[0m     \u001b[0mloss\u001b[0m\u001b[0;34m.\u001b[0m\u001b[0mbackward\u001b[0m\u001b[0;34m(\u001b[0m\u001b[0;34m)\u001b[0m  \u001b[0;31m# Derive gradients.\u001b[0m\u001b[0;34m\u001b[0m\u001b[0;34m\u001b[0m\u001b[0m\n",
      "\u001b[0;32m/ext3/miniconda3/lib/python3.9/site-packages/torch/nn/modules/module.py\u001b[0m in \u001b[0;36m_call_impl\u001b[0;34m(self, *input, **kwargs)\u001b[0m\n\u001b[1;32m   1100\u001b[0m         if not (self._backward_hooks or self._forward_hooks or self._forward_pre_hooks or _global_backward_hooks\n\u001b[1;32m   1101\u001b[0m                 or _global_forward_hooks or _global_forward_pre_hooks):\n\u001b[0;32m-> 1102\u001b[0;31m             \u001b[0;32mreturn\u001b[0m \u001b[0mforward_call\u001b[0m\u001b[0;34m(\u001b[0m\u001b[0;34m*\u001b[0m\u001b[0minput\u001b[0m\u001b[0;34m,\u001b[0m \u001b[0;34m**\u001b[0m\u001b[0mkwargs\u001b[0m\u001b[0;34m)\u001b[0m\u001b[0;34m\u001b[0m\u001b[0;34m\u001b[0m\u001b[0m\n\u001b[0m\u001b[1;32m   1103\u001b[0m         \u001b[0;31m# Do not call functions when jit is used\u001b[0m\u001b[0;34m\u001b[0m\u001b[0;34m\u001b[0m\u001b[0;34m\u001b[0m\u001b[0m\n\u001b[1;32m   1104\u001b[0m         \u001b[0mfull_backward_hooks\u001b[0m\u001b[0;34m,\u001b[0m \u001b[0mnon_full_backward_hooks\u001b[0m \u001b[0;34m=\u001b[0m \u001b[0;34m[\u001b[0m\u001b[0;34m]\u001b[0m\u001b[0;34m,\u001b[0m \u001b[0;34m[\u001b[0m\u001b[0;34m]\u001b[0m\u001b[0;34m\u001b[0m\u001b[0;34m\u001b[0m\u001b[0m\n",
      "\u001b[0;32m<ipython-input-40-24de7386540b>\u001b[0m in \u001b[0;36mforward\u001b[0;34m(self, x, edge_index)\u001b[0m\n\u001b[1;32m     23\u001b[0m         \u001b[0mx\u001b[0m \u001b[0;34m=\u001b[0m \u001b[0mself\u001b[0m\u001b[0;34m.\u001b[0m\u001b[0mfc0\u001b[0m\u001b[0;34m(\u001b[0m\u001b[0mX\u001b[0m\u001b[0;34m)\u001b[0m\u001b[0;34m\u001b[0m\u001b[0;34m\u001b[0m\u001b[0m\n\u001b[1;32m     24\u001b[0m         \u001b[0mx\u001b[0m \u001b[0;34m=\u001b[0m \u001b[0mself\u001b[0m\u001b[0;34m.\u001b[0m\u001b[0mrelu\u001b[0m\u001b[0;34m(\u001b[0m\u001b[0mx\u001b[0m\u001b[0;34m)\u001b[0m\u001b[0;34m\u001b[0m\u001b[0;34m\u001b[0m\u001b[0m\n\u001b[0;32m---> 25\u001b[0;31m         \u001b[0mx\u001b[0m \u001b[0;34m=\u001b[0m \u001b[0mself\u001b[0m\u001b[0;34m.\u001b[0m\u001b[0mfc1\u001b[0m\u001b[0;34m(\u001b[0m\u001b[0mX\u001b[0m\u001b[0;34m)\u001b[0m\u001b[0;34m\u001b[0m\u001b[0;34m\u001b[0m\u001b[0m\n\u001b[0m\u001b[1;32m     26\u001b[0m         \u001b[0mx\u001b[0m \u001b[0;34m=\u001b[0m \u001b[0mself\u001b[0m\u001b[0;34m.\u001b[0m\u001b[0mrelu\u001b[0m\u001b[0;34m(\u001b[0m\u001b[0mx\u001b[0m\u001b[0;34m)\u001b[0m\u001b[0;34m\u001b[0m\u001b[0;34m\u001b[0m\u001b[0m\n\u001b[1;32m     27\u001b[0m         \u001b[0mx\u001b[0m \u001b[0;34m=\u001b[0m \u001b[0mself\u001b[0m\u001b[0;34m.\u001b[0m\u001b[0mbn1\u001b[0m\u001b[0;34m(\u001b[0m\u001b[0mx\u001b[0m\u001b[0;34m)\u001b[0m\u001b[0;34m\u001b[0m\u001b[0;34m\u001b[0m\u001b[0m\n",
      "\u001b[0;32m/ext3/miniconda3/lib/python3.9/site-packages/torch/nn/modules/module.py\u001b[0m in \u001b[0;36m_call_impl\u001b[0;34m(self, *input, **kwargs)\u001b[0m\n\u001b[1;32m   1100\u001b[0m         if not (self._backward_hooks or self._forward_hooks or self._forward_pre_hooks or _global_backward_hooks\n\u001b[1;32m   1101\u001b[0m                 or _global_forward_hooks or _global_forward_pre_hooks):\n\u001b[0;32m-> 1102\u001b[0;31m             \u001b[0;32mreturn\u001b[0m \u001b[0mforward_call\u001b[0m\u001b[0;34m(\u001b[0m\u001b[0;34m*\u001b[0m\u001b[0minput\u001b[0m\u001b[0;34m,\u001b[0m \u001b[0;34m**\u001b[0m\u001b[0mkwargs\u001b[0m\u001b[0;34m)\u001b[0m\u001b[0;34m\u001b[0m\u001b[0;34m\u001b[0m\u001b[0m\n\u001b[0m\u001b[1;32m   1103\u001b[0m         \u001b[0;31m# Do not call functions when jit is used\u001b[0m\u001b[0;34m\u001b[0m\u001b[0;34m\u001b[0m\u001b[0;34m\u001b[0m\u001b[0m\n\u001b[1;32m   1104\u001b[0m         \u001b[0mfull_backward_hooks\u001b[0m\u001b[0;34m,\u001b[0m \u001b[0mnon_full_backward_hooks\u001b[0m \u001b[0;34m=\u001b[0m \u001b[0;34m[\u001b[0m\u001b[0;34m]\u001b[0m\u001b[0;34m,\u001b[0m \u001b[0;34m[\u001b[0m\u001b[0;34m]\u001b[0m\u001b[0;34m\u001b[0m\u001b[0;34m\u001b[0m\u001b[0m\n",
      "\u001b[0;32m/ext3/miniconda3/lib/python3.9/site-packages/torch/nn/modules/linear.py\u001b[0m in \u001b[0;36mforward\u001b[0;34m(self, input)\u001b[0m\n\u001b[1;32m    101\u001b[0m \u001b[0;34m\u001b[0m\u001b[0m\n\u001b[1;32m    102\u001b[0m     \u001b[0;32mdef\u001b[0m \u001b[0mforward\u001b[0m\u001b[0;34m(\u001b[0m\u001b[0mself\u001b[0m\u001b[0;34m,\u001b[0m \u001b[0minput\u001b[0m\u001b[0;34m:\u001b[0m \u001b[0mTensor\u001b[0m\u001b[0;34m)\u001b[0m \u001b[0;34m->\u001b[0m \u001b[0mTensor\u001b[0m\u001b[0;34m:\u001b[0m\u001b[0;34m\u001b[0m\u001b[0;34m\u001b[0m\u001b[0m\n\u001b[0;32m--> 103\u001b[0;31m         \u001b[0;32mreturn\u001b[0m \u001b[0mF\u001b[0m\u001b[0;34m.\u001b[0m\u001b[0mlinear\u001b[0m\u001b[0;34m(\u001b[0m\u001b[0minput\u001b[0m\u001b[0;34m,\u001b[0m \u001b[0mself\u001b[0m\u001b[0;34m.\u001b[0m\u001b[0mweight\u001b[0m\u001b[0;34m,\u001b[0m \u001b[0mself\u001b[0m\u001b[0;34m.\u001b[0m\u001b[0mbias\u001b[0m\u001b[0;34m)\u001b[0m\u001b[0;34m\u001b[0m\u001b[0;34m\u001b[0m\u001b[0m\n\u001b[0m\u001b[1;32m    104\u001b[0m \u001b[0;34m\u001b[0m\u001b[0m\n\u001b[1;32m    105\u001b[0m     \u001b[0;32mdef\u001b[0m \u001b[0mextra_repr\u001b[0m\u001b[0;34m(\u001b[0m\u001b[0mself\u001b[0m\u001b[0;34m)\u001b[0m \u001b[0;34m->\u001b[0m \u001b[0mstr\u001b[0m\u001b[0;34m:\u001b[0m\u001b[0;34m\u001b[0m\u001b[0;34m\u001b[0m\u001b[0m\n",
      "\u001b[0;32m/ext3/miniconda3/lib/python3.9/site-packages/torch/nn/functional.py\u001b[0m in \u001b[0;36mlinear\u001b[0;34m(input, weight, bias)\u001b[0m\n\u001b[1;32m   1846\u001b[0m     \u001b[0;32mif\u001b[0m \u001b[0mhas_torch_function_variadic\u001b[0m\u001b[0;34m(\u001b[0m\u001b[0minput\u001b[0m\u001b[0;34m,\u001b[0m \u001b[0mweight\u001b[0m\u001b[0;34m,\u001b[0m \u001b[0mbias\u001b[0m\u001b[0;34m)\u001b[0m\u001b[0;34m:\u001b[0m\u001b[0;34m\u001b[0m\u001b[0;34m\u001b[0m\u001b[0m\n\u001b[1;32m   1847\u001b[0m         \u001b[0;32mreturn\u001b[0m \u001b[0mhandle_torch_function\u001b[0m\u001b[0;34m(\u001b[0m\u001b[0mlinear\u001b[0m\u001b[0;34m,\u001b[0m \u001b[0;34m(\u001b[0m\u001b[0minput\u001b[0m\u001b[0;34m,\u001b[0m \u001b[0mweight\u001b[0m\u001b[0;34m,\u001b[0m \u001b[0mbias\u001b[0m\u001b[0;34m)\u001b[0m\u001b[0;34m,\u001b[0m \u001b[0minput\u001b[0m\u001b[0;34m,\u001b[0m \u001b[0mweight\u001b[0m\u001b[0;34m,\u001b[0m \u001b[0mbias\u001b[0m\u001b[0;34m=\u001b[0m\u001b[0mbias\u001b[0m\u001b[0;34m)\u001b[0m\u001b[0;34m\u001b[0m\u001b[0;34m\u001b[0m\u001b[0m\n\u001b[0;32m-> 1848\u001b[0;31m     \u001b[0;32mreturn\u001b[0m \u001b[0mtorch\u001b[0m\u001b[0;34m.\u001b[0m\u001b[0m_C\u001b[0m\u001b[0;34m.\u001b[0m\u001b[0m_nn\u001b[0m\u001b[0;34m.\u001b[0m\u001b[0mlinear\u001b[0m\u001b[0;34m(\u001b[0m\u001b[0minput\u001b[0m\u001b[0;34m,\u001b[0m \u001b[0mweight\u001b[0m\u001b[0;34m,\u001b[0m \u001b[0mbias\u001b[0m\u001b[0;34m)\u001b[0m\u001b[0;34m\u001b[0m\u001b[0;34m\u001b[0m\u001b[0m\n\u001b[0m\u001b[1;32m   1849\u001b[0m \u001b[0;34m\u001b[0m\u001b[0m\n\u001b[1;32m   1850\u001b[0m \u001b[0;34m\u001b[0m\u001b[0m\n",
      "\u001b[0;31mRuntimeError\u001b[0m: mat1 and mat2 shapes cannot be multiplied (2000x5 and 16x16)"
     ]
    }
   ],
   "source": [
    "model = Model(num_features=5, mask=0, p_1 = 0, p_2=0)\n",
    "model.to(device)\n",
    "optimizer = torch.optim.Adam(model.parameters(), lr=0.01, weight_decay=5e-4)\n",
    "criterion = torch.nn.BCELoss()\n",
    "\n",
    "def train(epoch):\n",
    "    model.train()\n",
    "    optimizer.zero_grad()  # Clear gradients.\n",
    "    out = model(data.x, data.edge_index)  # Perform a single forward pass.\n",
    "    loss = criterion(out[data.train_mask], data.y[data.train_mask])  # Compute the loss solely based on the training nodes.\n",
    "    loss.backward()  # Derive gradients.\n",
    "    optimizer.step()  # Update parameters based on gradients.\n",
    "    return loss\n",
    "\n",
    "losses = {'train':[], 'val': []}\n",
    "\n",
    "best_loss = 100\n",
    "final_epoch = 0\n",
    "for epoch in range(1, 500):\n",
    "    loss = train(epoch)\n",
    "    print(f'Epoch: {epoch:03d}, Loss: {loss:.4f}')\n",
    "    train_batch_losses = []\n",
    "    train_batch_losses.append(loss.cpu())\n",
    "    val_batch_losses = []\n",
    "    val_loss, val_acc = validate(model)\n",
    "    val_batch_losses.append(val_loss.cpu())\n",
    "    \n",
    "    if val_loss < best_loss:\n",
    "        torch.save(model.state_dict(), './Models/Models_Clique/Full_Feature_1.pt')\n",
    "        best_loss = val_loss\n",
    "        final_epoch = epoch\n",
    "    \n",
    "    losses['train'].append(train_batch_losses)\n",
    "    losses['val'].append(val_batch_losses)\n",
    "    live_plot(losses)\n",
    "    print(f'Val Accuracy: {val_acc:.4f}')\n",
    "    print('best model taken from epoch:', final_epoch)"
   ]
  },
  {
   "cell_type": "code",
   "execution_count": 33,
   "id": "8a552744",
   "metadata": {},
   "outputs": [
    {
     "name": "stdout",
     "output_type": "stream",
     "text": [
      "Validation: 0.6866666666666666\n",
      "Test: 0.72\n",
      "Test on Masked Unimp: 0.73\n"
     ]
    }
   ],
   "source": [
    "model = Model(num_features=5, mask=0, p_1 = 0, p_2=0)\n",
    "model.load_state_dict(torch.load('./Models/Models_Clique/Full_Feature_1.pt'))\n",
    "model.to(device)\n",
    "model.change_param(0,0,0)\n",
    "_, val_acc = validate(model)\n",
    "print('Validation:',val_acc)\n",
    "test_acc = test(model)\n",
    "print('Test:',test_acc)\n",
    "test_masked_acc = test_eval(model)\n",
    "print('Test on Masked Unimp:',test_masked_acc)"
   ]
  },
  {
   "cell_type": "code",
   "execution_count": 34,
   "id": "e5118b4d",
   "metadata": {},
   "outputs": [
    {
     "data": {
      "image/png": "[encoded data removed]",
      "text/plain": [
       "<Figure size 432x288 with 1 Axes>"
      ]
     },
     "metadata": {
      "needs_background": "light"
     },
     "output_type": "display_data"
    }
   ],
   "source": [
    "save_plot(losses, title='./Models/Models_Clique/Full_Feature_1')"
   ]
  },
  {
   "cell_type": "code",
   "execution_count": null,
   "id": "a582852f",
   "metadata": {},
   "outputs": [],
   "source": []
  }
 ],
 "metadata": {
  "kernelspec": {
   "display_name": "Python 3",
   "language": "python",
   "name": "python3"
  },
  "language_info": {
   "codemirror_mode": {
    "name": "ipython",
    "version": 3
   },
   "file_extension": ".py",
   "mimetype": "text/x-python",
   "name": "python",
   "nbconvert_exporter": "python",
   "pygments_lexer": "ipython3",
   "version": "3.9.5"
  }
 },
 "nbformat": 4,
 "nbformat_minor": 5
}
